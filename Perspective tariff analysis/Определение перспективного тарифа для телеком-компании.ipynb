{
 "cells": [
  {
   "cell_type": "markdown",
   "metadata": {},
   "source": [
    "# Определение перспективного тарифа для телеком-компании\n",
    "\n",
    "Вы аналитик компании «Мегалайн» — федерального оператора сотовой связи. Клиентам предлагают два тарифных плана: «Смарт» и «Ультра». Чтобы скорректировать рекламный бюджет, коммерческий департамент хочет понять, какой тариф приносит больше денег.\n",
    "Вам предстоит сделать предварительный анализ тарифов на небольшой выборке клиентов. В вашем распоряжении данные 500 пользователей «Мегалайна»: кто они, откуда, каким тарифом пользуются, сколько звонков и сообщений каждый отправил за 2018 год. Нужно проанализировать поведение клиентов и сделать вывод — какой тариф лучше."
   ]
  },
  {
   "cell_type": "markdown",
   "metadata": {},
   "source": [
    "## Изучение данных из файла"
   ]
  },
  {
   "cell_type": "code",
   "execution_count": 1,
   "metadata": {},
   "outputs": [],
   "source": [
    "# импортируем нужные библиотеки\n",
    "\n",
    "# pandas\n",
    "import pandas as pd\n",
    "\n",
    "# numpy\n",
    "import numpy as np\n",
    "\n",
    "# matplotlib\n",
    "from matplotlib import pyplot\n",
    "\n",
    "# stats\n",
    "from scipy import stats as st"
   ]
  },
  {
   "cell_type": "markdown",
   "metadata": {},
   "source": [
    "### Описание данных"
   ]
  },
  {
   "cell_type": "markdown",
   "metadata": {},
   "source": [
    "<strong>Таблица users (информация о пользователях):</strong>\n",
    "<br>user_id — уникальный идентификатор пользователя\n",
    "<br>first_name — имя пользователя\n",
    "<br>last_name — фамилия пользователя\n",
    "<br>age — возраст пользователя (годы)\n",
    "<br>reg_date — дата подключения тарифа (день, месяц, год)\n",
    "<br>churn_date — дата прекращения пользования тарифом (если значение пропущено, то тариф ещё действовал на момент выгрузки данных)\n",
    "<br>city — город проживания пользователя\n",
    "<br>tarif — название тарифного плана\n",
    "\n",
    "<strong><br>Таблица calls (информация о звонках):</strong>\n",
    "<br>id — уникальный номер звонка\n",
    "<br>call_date — дата звонка\n",
    "<br>duration — длительность звонка в минутах\n",
    "<br>user_id — идентификатор пользователя, сделавшего звонок\n",
    "\n",
    "<strong><br>Таблица messages (информация о сообщениях):</strong>\n",
    "<br>id — уникальный номер сообщения\n",
    "<br>message_date — дата сообщения\n",
    "<br>user_id — идентификатор пользователя, отправившего сообщение\n",
    "\n",
    "<strong><br>Таблица internet (информация об интернет-сессиях):</strong>\n",
    "<br>id — уникальный номер сессии\n",
    "<br>mb_used — объём потраченного за сессию интернет-трафика (в мегабайтах)\n",
    "<br>session_date — дата интернет-сессии\n",
    "<br>user_id — идентификатор пользователя\n",
    "\n",
    "<strong><br>Таблица tariffs (информация о тарифах):</strong>\n",
    "<br>tariff_name — название тарифа\n",
    "<br>rub_monthly_fee — ежемесячная абонентская плата в рублях\n",
    "<br>minutes_included — количество минут разговора в месяц, включённых в абонентскую плату\n",
    "<br>messages_included — количество сообщений в месяц, включённых в абонентскую плату\n",
    "<br>mb_per_month_included — объём интернет-трафика, включённого в абонентскую плату (в мегабайтах)\n",
    "<br>rub_per_minute — стоимость минуты разговора сверх тарифного пакета (например, если в тарифе 100 минут разговора в месяц, то со 101 минуты будет взиматься плата)\n",
    "<br>rub_per_message — стоимость отправки сообщения сверх тарифного пакета\n",
    "<br>rub_per_gb — стоимость дополнительного гигабайта интернет-трафика сверх тарифного пакета (1 гигабайт = 1024 мегабайта)"
   ]
  },
  {
   "cell_type": "markdown",
   "metadata": {},
   "source": [
    "#### users"
   ]
  },
  {
   "cell_type": "code",
   "execution_count": 2,
   "metadata": {},
   "outputs": [],
   "source": [
    "# загрузим users в переменную users\n",
    "users = pd.read_csv(\"/datasets/users.csv\")"
   ]
  },
  {
   "cell_type": "code",
   "execution_count": 3,
   "metadata": {},
   "outputs": [
    {
     "data": {
      "text/html": [
       "<div>\n",
       "<style scoped>\n",
       "    .dataframe tbody tr th:only-of-type {\n",
       "        vertical-align: middle;\n",
       "    }\n",
       "\n",
       "    .dataframe tbody tr th {\n",
       "        vertical-align: top;\n",
       "    }\n",
       "\n",
       "    .dataframe thead th {\n",
       "        text-align: right;\n",
       "    }\n",
       "</style>\n",
       "<table border=\"1\" class=\"dataframe\">\n",
       "  <thead>\n",
       "    <tr style=\"text-align: right;\">\n",
       "      <th></th>\n",
       "      <th>user_id</th>\n",
       "      <th>age</th>\n",
       "      <th>churn_date</th>\n",
       "      <th>city</th>\n",
       "      <th>first_name</th>\n",
       "      <th>last_name</th>\n",
       "      <th>reg_date</th>\n",
       "      <th>tariff</th>\n",
       "    </tr>\n",
       "  </thead>\n",
       "  <tbody>\n",
       "    <tr>\n",
       "      <td>0</td>\n",
       "      <td>1000</td>\n",
       "      <td>52</td>\n",
       "      <td>NaN</td>\n",
       "      <td>Краснодар</td>\n",
       "      <td>Рафаил</td>\n",
       "      <td>Верещагин</td>\n",
       "      <td>2018-05-25</td>\n",
       "      <td>ultra</td>\n",
       "    </tr>\n",
       "    <tr>\n",
       "      <td>1</td>\n",
       "      <td>1001</td>\n",
       "      <td>41</td>\n",
       "      <td>NaN</td>\n",
       "      <td>Москва</td>\n",
       "      <td>Иван</td>\n",
       "      <td>Ежов</td>\n",
       "      <td>2018-11-01</td>\n",
       "      <td>smart</td>\n",
       "    </tr>\n",
       "    <tr>\n",
       "      <td>2</td>\n",
       "      <td>1002</td>\n",
       "      <td>59</td>\n",
       "      <td>NaN</td>\n",
       "      <td>Стерлитамак</td>\n",
       "      <td>Евгений</td>\n",
       "      <td>Абрамович</td>\n",
       "      <td>2018-06-17</td>\n",
       "      <td>smart</td>\n",
       "    </tr>\n",
       "    <tr>\n",
       "      <td>3</td>\n",
       "      <td>1003</td>\n",
       "      <td>23</td>\n",
       "      <td>NaN</td>\n",
       "      <td>Москва</td>\n",
       "      <td>Белла</td>\n",
       "      <td>Белякова</td>\n",
       "      <td>2018-08-17</td>\n",
       "      <td>ultra</td>\n",
       "    </tr>\n",
       "    <tr>\n",
       "      <td>4</td>\n",
       "      <td>1004</td>\n",
       "      <td>68</td>\n",
       "      <td>NaN</td>\n",
       "      <td>Новокузнецк</td>\n",
       "      <td>Татьяна</td>\n",
       "      <td>Авдеенко</td>\n",
       "      <td>2018-05-14</td>\n",
       "      <td>ultra</td>\n",
       "    </tr>\n",
       "  </tbody>\n",
       "</table>\n",
       "</div>"
      ],
      "text/plain": [
       "   user_id  age churn_date         city first_name  last_name    reg_date  \\\n",
       "0     1000   52        NaN    Краснодар     Рафаил  Верещагин  2018-05-25   \n",
       "1     1001   41        NaN       Москва       Иван       Ежов  2018-11-01   \n",
       "2     1002   59        NaN  Стерлитамак    Евгений  Абрамович  2018-06-17   \n",
       "3     1003   23        NaN       Москва      Белла   Белякова  2018-08-17   \n",
       "4     1004   68        NaN  Новокузнецк    Татьяна   Авдеенко  2018-05-14   \n",
       "\n",
       "  tariff  \n",
       "0  ultra  \n",
       "1  smart  \n",
       "2  smart  \n",
       "3  ultra  \n",
       "4  ultra  "
      ]
     },
     "execution_count": 3,
     "metadata": {},
     "output_type": "execute_result"
    }
   ],
   "source": [
    "# выведем 5 строк датафрейма\n",
    "users.head()"
   ]
  },
  {
   "cell_type": "code",
   "execution_count": 4,
   "metadata": {},
   "outputs": [],
   "source": [
    "# приведем данные колонки reg_date к типу datetime64\n",
    "users['reg_date'] = pd.to_datetime(\n",
    "    users['reg_date'], format='%Y.'\n",
    ")"
   ]
  },
  {
   "cell_type": "code",
   "execution_count": 5,
   "metadata": {
    "scrolled": true
   },
   "outputs": [
    {
     "name": "stdout",
     "output_type": "stream",
     "text": [
      "<class 'pandas.core.frame.DataFrame'>\n",
      "RangeIndex: 500 entries, 0 to 499\n",
      "Data columns (total 8 columns):\n",
      "user_id       500 non-null int64\n",
      "age           500 non-null int64\n",
      "churn_date    38 non-null object\n",
      "city          500 non-null object\n",
      "first_name    500 non-null object\n",
      "last_name     500 non-null object\n",
      "reg_date      500 non-null datetime64[ns]\n",
      "tariff        500 non-null object\n",
      "dtypes: datetime64[ns](1), int64(2), object(5)\n",
      "memory usage: 31.4+ KB\n"
     ]
    }
   ],
   "source": [
    "users.info()"
   ]
  },
  {
   "cell_type": "code",
   "execution_count": 6,
   "metadata": {
    "scrolled": true
   },
   "outputs": [
    {
     "name": "stdout",
     "output_type": "stream",
     "text": [
      "Количество явных дубликатов в датафрейме: 0\n"
     ]
    }
   ],
   "source": [
    "print('Количество явных дубликатов в датафрейме:', users.duplicated().sum())"
   ]
  },
  {
   "cell_type": "code",
   "execution_count": 7,
   "metadata": {},
   "outputs": [
    {
     "name": "stdout",
     "output_type": "stream",
     "text": [
      "В столбце churn_date пропущено значений: 462\n"
     ]
    }
   ],
   "source": [
    "print('В столбце churn_date пропущено значений:', users['churn_date'].isna().sum())"
   ]
  },
  {
   "cell_type": "markdown",
   "metadata": {},
   "source": [
    " Данные столбца churn_date - это дата прекращения пользования тарифом (если значение пропущено, то тариф ещё действовал на момент выгрузки данных)."
   ]
  },
  {
   "cell_type": "markdown",
   "metadata": {},
   "source": [
    "Подсчитаем количество пользователей каждого тарифа."
   ]
  },
  {
   "cell_type": "code",
   "execution_count": 8,
   "metadata": {},
   "outputs": [
    {
     "name": "stdout",
     "output_type": "stream",
     "text": [
      "Пользователей тарифа смарт: 351\n"
     ]
    }
   ],
   "source": [
    "print(\"Пользователей тарифа смарт:\",len(users.query('tariff==\"smart\"')))"
   ]
  },
  {
   "cell_type": "code",
   "execution_count": 9,
   "metadata": {},
   "outputs": [
    {
     "name": "stdout",
     "output_type": "stream",
     "text": [
      "Пользователей тарифа ультра: 149\n"
     ]
    }
   ],
   "source": [
    "print(\"Пользователей тарифа ультра:\",len(users.query('tariff==\"ultra\"')))"
   ]
  },
  {
   "cell_type": "markdown",
   "metadata": {},
   "source": [
    "#### calls"
   ]
  },
  {
   "cell_type": "code",
   "execution_count": 10,
   "metadata": {},
   "outputs": [],
   "source": [
    "# загрузим calls в переменную calls\n",
    "calls = pd.read_csv(\"/datasets/calls.csv\")"
   ]
  },
  {
   "cell_type": "code",
   "execution_count": 11,
   "metadata": {},
   "outputs": [
    {
     "data": {
      "text/html": [
       "<div>\n",
       "<style scoped>\n",
       "    .dataframe tbody tr th:only-of-type {\n",
       "        vertical-align: middle;\n",
       "    }\n",
       "\n",
       "    .dataframe tbody tr th {\n",
       "        vertical-align: top;\n",
       "    }\n",
       "\n",
       "    .dataframe thead th {\n",
       "        text-align: right;\n",
       "    }\n",
       "</style>\n",
       "<table border=\"1\" class=\"dataframe\">\n",
       "  <thead>\n",
       "    <tr style=\"text-align: right;\">\n",
       "      <th></th>\n",
       "      <th>id</th>\n",
       "      <th>call_date</th>\n",
       "      <th>duration</th>\n",
       "      <th>user_id</th>\n",
       "    </tr>\n",
       "  </thead>\n",
       "  <tbody>\n",
       "    <tr>\n",
       "      <td>0</td>\n",
       "      <td>1000_0</td>\n",
       "      <td>2018-07-25</td>\n",
       "      <td>0.00</td>\n",
       "      <td>1000</td>\n",
       "    </tr>\n",
       "    <tr>\n",
       "      <td>1</td>\n",
       "      <td>1000_1</td>\n",
       "      <td>2018-08-17</td>\n",
       "      <td>0.00</td>\n",
       "      <td>1000</td>\n",
       "    </tr>\n",
       "    <tr>\n",
       "      <td>2</td>\n",
       "      <td>1000_2</td>\n",
       "      <td>2018-06-11</td>\n",
       "      <td>2.85</td>\n",
       "      <td>1000</td>\n",
       "    </tr>\n",
       "    <tr>\n",
       "      <td>3</td>\n",
       "      <td>1000_3</td>\n",
       "      <td>2018-09-21</td>\n",
       "      <td>13.80</td>\n",
       "      <td>1000</td>\n",
       "    </tr>\n",
       "    <tr>\n",
       "      <td>4</td>\n",
       "      <td>1000_4</td>\n",
       "      <td>2018-12-15</td>\n",
       "      <td>5.18</td>\n",
       "      <td>1000</td>\n",
       "    </tr>\n",
       "  </tbody>\n",
       "</table>\n",
       "</div>"
      ],
      "text/plain": [
       "       id   call_date  duration  user_id\n",
       "0  1000_0  2018-07-25      0.00     1000\n",
       "1  1000_1  2018-08-17      0.00     1000\n",
       "2  1000_2  2018-06-11      2.85     1000\n",
       "3  1000_3  2018-09-21     13.80     1000\n",
       "4  1000_4  2018-12-15      5.18     1000"
      ]
     },
     "execution_count": 11,
     "metadata": {},
     "output_type": "execute_result"
    }
   ],
   "source": [
    "# выведем 5 строк датафрейма\n",
    "calls.head()"
   ]
  },
  {
   "cell_type": "code",
   "execution_count": 12,
   "metadata": {
    "scrolled": true
   },
   "outputs": [
    {
     "name": "stdout",
     "output_type": "stream",
     "text": [
      "<class 'pandas.core.frame.DataFrame'>\n",
      "RangeIndex: 202607 entries, 0 to 202606\n",
      "Data columns (total 4 columns):\n",
      "id           202607 non-null object\n",
      "call_date    202607 non-null object\n",
      "duration     202607 non-null float64\n",
      "user_id      202607 non-null int64\n",
      "dtypes: float64(1), int64(1), object(2)\n",
      "memory usage: 6.2+ MB\n"
     ]
    }
   ],
   "source": [
    "calls.info()"
   ]
  },
  {
   "cell_type": "markdown",
   "metadata": {},
   "source": [
    "«Мегалайн» всегда округляет секунды до минут, а мегабайты — до гигабайт. Каждый звонок округляется отдельно: даже если он длился всего 1 секунду, будет засчитан как 1 минута."
   ]
  },
  {
   "cell_type": "code",
   "execution_count": 13,
   "metadata": {},
   "outputs": [],
   "source": [
    "# приведем данные столбца duration к типу integer с округлением вверх\n",
    "\n",
    "calls['duration']=np.ceil(calls.duration).astype(int)"
   ]
  },
  {
   "cell_type": "code",
   "execution_count": 14,
   "metadata": {
    "scrolled": false
   },
   "outputs": [
    {
     "data": {
      "text/html": [
       "<div>\n",
       "<style scoped>\n",
       "    .dataframe tbody tr th:only-of-type {\n",
       "        vertical-align: middle;\n",
       "    }\n",
       "\n",
       "    .dataframe tbody tr th {\n",
       "        vertical-align: top;\n",
       "    }\n",
       "\n",
       "    .dataframe thead th {\n",
       "        text-align: right;\n",
       "    }\n",
       "</style>\n",
       "<table border=\"1\" class=\"dataframe\">\n",
       "  <thead>\n",
       "    <tr style=\"text-align: right;\">\n",
       "      <th></th>\n",
       "      <th>id</th>\n",
       "      <th>call_date</th>\n",
       "      <th>duration</th>\n",
       "      <th>user_id</th>\n",
       "    </tr>\n",
       "  </thead>\n",
       "  <tbody>\n",
       "    <tr>\n",
       "      <td>0</td>\n",
       "      <td>1000_0</td>\n",
       "      <td>2018-07-25</td>\n",
       "      <td>0</td>\n",
       "      <td>1000</td>\n",
       "    </tr>\n",
       "    <tr>\n",
       "      <td>1</td>\n",
       "      <td>1000_1</td>\n",
       "      <td>2018-08-17</td>\n",
       "      <td>0</td>\n",
       "      <td>1000</td>\n",
       "    </tr>\n",
       "    <tr>\n",
       "      <td>2</td>\n",
       "      <td>1000_2</td>\n",
       "      <td>2018-06-11</td>\n",
       "      <td>3</td>\n",
       "      <td>1000</td>\n",
       "    </tr>\n",
       "    <tr>\n",
       "      <td>3</td>\n",
       "      <td>1000_3</td>\n",
       "      <td>2018-09-21</td>\n",
       "      <td>14</td>\n",
       "      <td>1000</td>\n",
       "    </tr>\n",
       "    <tr>\n",
       "      <td>4</td>\n",
       "      <td>1000_4</td>\n",
       "      <td>2018-12-15</td>\n",
       "      <td>6</td>\n",
       "      <td>1000</td>\n",
       "    </tr>\n",
       "  </tbody>\n",
       "</table>\n",
       "</div>"
      ],
      "text/plain": [
       "       id   call_date  duration  user_id\n",
       "0  1000_0  2018-07-25         0     1000\n",
       "1  1000_1  2018-08-17         0     1000\n",
       "2  1000_2  2018-06-11         3     1000\n",
       "3  1000_3  2018-09-21        14     1000\n",
       "4  1000_4  2018-12-15         6     1000"
      ]
     },
     "execution_count": 14,
     "metadata": {},
     "output_type": "execute_result"
    }
   ],
   "source": [
    "# выведем 5 строк датафрейма\n",
    "calls.head()"
   ]
  },
  {
   "cell_type": "code",
   "execution_count": 15,
   "metadata": {},
   "outputs": [],
   "source": [
    "# приведем данные колонки call_date к типу datetime64\n",
    "\n",
    "calls['call_date'] = pd.to_datetime(\n",
    "    calls['call_date'], format='%Y.'\n",
    ")"
   ]
  },
  {
   "cell_type": "code",
   "execution_count": 16,
   "metadata": {},
   "outputs": [
    {
     "name": "stdout",
     "output_type": "stream",
     "text": [
      "Количество явных дубликатов в датафрейме: 0\n"
     ]
    }
   ],
   "source": [
    "print('Количество явных дубликатов в датафрейме:', calls.duplicated().sum())"
   ]
  },
  {
   "cell_type": "markdown",
   "metadata": {},
   "source": [
    "#### messages"
   ]
  },
  {
   "cell_type": "code",
   "execution_count": 17,
   "metadata": {},
   "outputs": [],
   "source": [
    "# загрузим messages в переменную messages\n",
    "messages = pd.read_csv(\"/datasets/messages.csv\")"
   ]
  },
  {
   "cell_type": "code",
   "execution_count": 18,
   "metadata": {},
   "outputs": [
    {
     "data": {
      "text/html": [
       "<div>\n",
       "<style scoped>\n",
       "    .dataframe tbody tr th:only-of-type {\n",
       "        vertical-align: middle;\n",
       "    }\n",
       "\n",
       "    .dataframe tbody tr th {\n",
       "        vertical-align: top;\n",
       "    }\n",
       "\n",
       "    .dataframe thead th {\n",
       "        text-align: right;\n",
       "    }\n",
       "</style>\n",
       "<table border=\"1\" class=\"dataframe\">\n",
       "  <thead>\n",
       "    <tr style=\"text-align: right;\">\n",
       "      <th></th>\n",
       "      <th>id</th>\n",
       "      <th>message_date</th>\n",
       "      <th>user_id</th>\n",
       "    </tr>\n",
       "  </thead>\n",
       "  <tbody>\n",
       "    <tr>\n",
       "      <td>0</td>\n",
       "      <td>1000_0</td>\n",
       "      <td>2018-06-27</td>\n",
       "      <td>1000</td>\n",
       "    </tr>\n",
       "    <tr>\n",
       "      <td>1</td>\n",
       "      <td>1000_1</td>\n",
       "      <td>2018-10-08</td>\n",
       "      <td>1000</td>\n",
       "    </tr>\n",
       "    <tr>\n",
       "      <td>2</td>\n",
       "      <td>1000_2</td>\n",
       "      <td>2018-08-04</td>\n",
       "      <td>1000</td>\n",
       "    </tr>\n",
       "    <tr>\n",
       "      <td>3</td>\n",
       "      <td>1000_3</td>\n",
       "      <td>2018-06-16</td>\n",
       "      <td>1000</td>\n",
       "    </tr>\n",
       "    <tr>\n",
       "      <td>4</td>\n",
       "      <td>1000_4</td>\n",
       "      <td>2018-12-05</td>\n",
       "      <td>1000</td>\n",
       "    </tr>\n",
       "  </tbody>\n",
       "</table>\n",
       "</div>"
      ],
      "text/plain": [
       "       id message_date  user_id\n",
       "0  1000_0   2018-06-27     1000\n",
       "1  1000_1   2018-10-08     1000\n",
       "2  1000_2   2018-08-04     1000\n",
       "3  1000_3   2018-06-16     1000\n",
       "4  1000_4   2018-12-05     1000"
      ]
     },
     "execution_count": 18,
     "metadata": {},
     "output_type": "execute_result"
    }
   ],
   "source": [
    "messages.head()"
   ]
  },
  {
   "cell_type": "code",
   "execution_count": 19,
   "metadata": {
    "scrolled": true
   },
   "outputs": [
    {
     "name": "stdout",
     "output_type": "stream",
     "text": [
      "<class 'pandas.core.frame.DataFrame'>\n",
      "RangeIndex: 123036 entries, 0 to 123035\n",
      "Data columns (total 3 columns):\n",
      "id              123036 non-null object\n",
      "message_date    123036 non-null object\n",
      "user_id         123036 non-null int64\n",
      "dtypes: int64(1), object(2)\n",
      "memory usage: 2.8+ MB\n"
     ]
    }
   ],
   "source": [
    "messages.info()"
   ]
  },
  {
   "cell_type": "code",
   "execution_count": 20,
   "metadata": {},
   "outputs": [],
   "source": [
    "# приведем данные колонки message_date к типу datetime64\n",
    "\n",
    "messages['message_date'] = pd.to_datetime(\n",
    "    messages['message_date'], format='%Y.'\n",
    ")"
   ]
  },
  {
   "cell_type": "code",
   "execution_count": 21,
   "metadata": {},
   "outputs": [
    {
     "name": "stdout",
     "output_type": "stream",
     "text": [
      "Количество явных дубликатов в датафрейме: 0\n"
     ]
    }
   ],
   "source": [
    "print('Количество явных дубликатов в датафрейме:', messages.duplicated().sum())"
   ]
  },
  {
   "cell_type": "markdown",
   "metadata": {},
   "source": [
    "#### internet"
   ]
  },
  {
   "cell_type": "code",
   "execution_count": 22,
   "metadata": {},
   "outputs": [],
   "source": [
    "# загрузим internet в переменную internet\n",
    "internet = pd.read_csv(\"/datasets/internet.csv\")"
   ]
  },
  {
   "cell_type": "code",
   "execution_count": 23,
   "metadata": {},
   "outputs": [
    {
     "data": {
      "text/html": [
       "<div>\n",
       "<style scoped>\n",
       "    .dataframe tbody tr th:only-of-type {\n",
       "        vertical-align: middle;\n",
       "    }\n",
       "\n",
       "    .dataframe tbody tr th {\n",
       "        vertical-align: top;\n",
       "    }\n",
       "\n",
       "    .dataframe thead th {\n",
       "        text-align: right;\n",
       "    }\n",
       "</style>\n",
       "<table border=\"1\" class=\"dataframe\">\n",
       "  <thead>\n",
       "    <tr style=\"text-align: right;\">\n",
       "      <th></th>\n",
       "      <th>Unnamed: 0</th>\n",
       "      <th>id</th>\n",
       "      <th>mb_used</th>\n",
       "      <th>session_date</th>\n",
       "      <th>user_id</th>\n",
       "    </tr>\n",
       "  </thead>\n",
       "  <tbody>\n",
       "    <tr>\n",
       "      <td>0</td>\n",
       "      <td>0</td>\n",
       "      <td>1000_0</td>\n",
       "      <td>112.95</td>\n",
       "      <td>2018-11-25</td>\n",
       "      <td>1000</td>\n",
       "    </tr>\n",
       "    <tr>\n",
       "      <td>1</td>\n",
       "      <td>1</td>\n",
       "      <td>1000_1</td>\n",
       "      <td>1052.81</td>\n",
       "      <td>2018-09-07</td>\n",
       "      <td>1000</td>\n",
       "    </tr>\n",
       "    <tr>\n",
       "      <td>2</td>\n",
       "      <td>2</td>\n",
       "      <td>1000_2</td>\n",
       "      <td>1197.26</td>\n",
       "      <td>2018-06-25</td>\n",
       "      <td>1000</td>\n",
       "    </tr>\n",
       "    <tr>\n",
       "      <td>3</td>\n",
       "      <td>3</td>\n",
       "      <td>1000_3</td>\n",
       "      <td>550.27</td>\n",
       "      <td>2018-08-22</td>\n",
       "      <td>1000</td>\n",
       "    </tr>\n",
       "    <tr>\n",
       "      <td>4</td>\n",
       "      <td>4</td>\n",
       "      <td>1000_4</td>\n",
       "      <td>302.56</td>\n",
       "      <td>2018-09-24</td>\n",
       "      <td>1000</td>\n",
       "    </tr>\n",
       "  </tbody>\n",
       "</table>\n",
       "</div>"
      ],
      "text/plain": [
       "   Unnamed: 0      id  mb_used session_date  user_id\n",
       "0           0  1000_0   112.95   2018-11-25     1000\n",
       "1           1  1000_1  1052.81   2018-09-07     1000\n",
       "2           2  1000_2  1197.26   2018-06-25     1000\n",
       "3           3  1000_3   550.27   2018-08-22     1000\n",
       "4           4  1000_4   302.56   2018-09-24     1000"
      ]
     },
     "execution_count": 23,
     "metadata": {},
     "output_type": "execute_result"
    }
   ],
   "source": [
    "# выведем 5 строк датафрейма\n",
    "internet.head()"
   ]
  },
  {
   "cell_type": "code",
   "execution_count": 24,
   "metadata": {
    "scrolled": false
   },
   "outputs": [
    {
     "name": "stdout",
     "output_type": "stream",
     "text": [
      "<class 'pandas.core.frame.DataFrame'>\n",
      "RangeIndex: 149396 entries, 0 to 149395\n",
      "Data columns (total 5 columns):\n",
      "Unnamed: 0      149396 non-null int64\n",
      "id              149396 non-null object\n",
      "mb_used         149396 non-null float64\n",
      "session_date    149396 non-null object\n",
      "user_id         149396 non-null int64\n",
      "dtypes: float64(1), int64(2), object(2)\n",
      "memory usage: 5.7+ MB\n"
     ]
    }
   ],
   "source": [
    "internet.info()"
   ]
  },
  {
   "cell_type": "code",
   "execution_count": 25,
   "metadata": {},
   "outputs": [],
   "source": [
    "# приведем данные колонки session_date к типу datetime64\n",
    "internet['session_date'] = pd.to_datetime(\n",
    "    internet['session_date'], format='%Y.'\n",
    ")"
   ]
  },
  {
   "cell_type": "markdown",
   "metadata": {},
   "source": [
    "В данных обнаружена колонка Unnamed:0, дублирующая id. Удалим её."
   ]
  },
  {
   "cell_type": "code",
   "execution_count": 26,
   "metadata": {
    "scrolled": true
   },
   "outputs": [],
   "source": [
    "internet = internet.drop('Unnamed: 0',axis=1)"
   ]
  },
  {
   "cell_type": "code",
   "execution_count": 27,
   "metadata": {},
   "outputs": [
    {
     "name": "stdout",
     "output_type": "stream",
     "text": [
      "Количество явных дубликатов в датафрейме: 0\n"
     ]
    }
   ],
   "source": [
    "print('Количество явных дубликатов в датафрейме:', internet.duplicated().sum())"
   ]
  },
  {
   "cell_type": "markdown",
   "metadata": {},
   "source": [
    "#### tariffs"
   ]
  },
  {
   "cell_type": "code",
   "execution_count": 28,
   "metadata": {},
   "outputs": [],
   "source": [
    "# загрузим tariffs в переменную tariffs\n",
    "tariffs = pd.read_csv(\"/datasets/tariffs.csv\")"
   ]
  },
  {
   "cell_type": "code",
   "execution_count": 29,
   "metadata": {
    "scrolled": true
   },
   "outputs": [
    {
     "data": {
      "text/html": [
       "<div>\n",
       "<style scoped>\n",
       "    .dataframe tbody tr th:only-of-type {\n",
       "        vertical-align: middle;\n",
       "    }\n",
       "\n",
       "    .dataframe tbody tr th {\n",
       "        vertical-align: top;\n",
       "    }\n",
       "\n",
       "    .dataframe thead th {\n",
       "        text-align: right;\n",
       "    }\n",
       "</style>\n",
       "<table border=\"1\" class=\"dataframe\">\n",
       "  <thead>\n",
       "    <tr style=\"text-align: right;\">\n",
       "      <th></th>\n",
       "      <th>messages_included</th>\n",
       "      <th>mb_per_month_included</th>\n",
       "      <th>minutes_included</th>\n",
       "      <th>rub_monthly_fee</th>\n",
       "      <th>rub_per_gb</th>\n",
       "      <th>rub_per_message</th>\n",
       "      <th>rub_per_minute</th>\n",
       "      <th>tariff_name</th>\n",
       "    </tr>\n",
       "  </thead>\n",
       "  <tbody>\n",
       "    <tr>\n",
       "      <td>0</td>\n",
       "      <td>50</td>\n",
       "      <td>15360</td>\n",
       "      <td>500</td>\n",
       "      <td>550</td>\n",
       "      <td>200</td>\n",
       "      <td>3</td>\n",
       "      <td>3</td>\n",
       "      <td>smart</td>\n",
       "    </tr>\n",
       "    <tr>\n",
       "      <td>1</td>\n",
       "      <td>1000</td>\n",
       "      <td>30720</td>\n",
       "      <td>3000</td>\n",
       "      <td>1950</td>\n",
       "      <td>150</td>\n",
       "      <td>1</td>\n",
       "      <td>1</td>\n",
       "      <td>ultra</td>\n",
       "    </tr>\n",
       "  </tbody>\n",
       "</table>\n",
       "</div>"
      ],
      "text/plain": [
       "   messages_included  mb_per_month_included  minutes_included  \\\n",
       "0                 50                  15360               500   \n",
       "1               1000                  30720              3000   \n",
       "\n",
       "   rub_monthly_fee  rub_per_gb  rub_per_message  rub_per_minute tariff_name  \n",
       "0              550         200                3               3       smart  \n",
       "1             1950         150                1               1       ultra  "
      ]
     },
     "execution_count": 29,
     "metadata": {},
     "output_type": "execute_result"
    }
   ],
   "source": [
    "# выведем 5 строк датафрейма\n",
    "tariffs.head()"
   ]
  },
  {
   "cell_type": "code",
   "execution_count": 30,
   "metadata": {
    "scrolled": true
   },
   "outputs": [
    {
     "name": "stdout",
     "output_type": "stream",
     "text": [
      "<class 'pandas.core.frame.DataFrame'>\n",
      "RangeIndex: 2 entries, 0 to 1\n",
      "Data columns (total 8 columns):\n",
      "messages_included        2 non-null int64\n",
      "mb_per_month_included    2 non-null int64\n",
      "minutes_included         2 non-null int64\n",
      "rub_monthly_fee          2 non-null int64\n",
      "rub_per_gb               2 non-null int64\n",
      "rub_per_message          2 non-null int64\n",
      "rub_per_minute           2 non-null int64\n",
      "tariff_name              2 non-null object\n",
      "dtypes: int64(7), object(1)\n",
      "memory usage: 256.0+ bytes\n"
     ]
    }
   ],
   "source": [
    "tariffs.info()"
   ]
  },
  {
   "cell_type": "markdown",
   "metadata": {},
   "source": [
    "### <strong>Вывод по пункту 1</strong>"
   ]
  },
  {
   "cell_type": "markdown",
   "metadata": {},
   "source": [
    "Для исследования у нас есть 5 источников, каждый из которых содержит информацию о пользователях двух тарифов компании. <br>\n",
    "\n",
    "Мы записали данные каждого источника в свою переменную.<br>\n",
    "\n",
    "Были проведены следующие изменения:\n",
    "\n",
    "1. По данным users: данный источник представляет собой информацию о клиентах компании с указанием города и выбранного тарифа. Колонка reg_date была приведена к формату datetime64. \n",
    "2. Таблица calls: в данной таблице указаны сведения о звонках по каждому пользователю выборки. Ввиду того, что компания округляет секунды до минут, все значения колонки duration были округлены вверх до целого числа типа integer. Колонка call_date приведена к типу данных datetime64.\n",
    "3. В данных таблицы messages колонка message_date приведена к типу datetime64.\n",
    "4. В данных таблицы internet колонка session_date приведена к типу datetime64. В данных обнаружена колонка Unnamed: 0, которая дублирует индексацию таблицы - мы удалили её из датафрейма.\n",
    "5. Данные таблицы tariffs загружены и оставлены без изменений.\n",
    "\n",
    "Явных дубликатов ни в одном из датафреймов не обнаружено."
   ]
  },
  {
   "cell_type": "markdown",
   "metadata": {},
   "source": [
    "## Предобработка данных"
   ]
  },
  {
   "cell_type": "markdown",
   "metadata": {},
   "source": [
    "### Сводная информация по звонкам"
   ]
  },
  {
   "cell_type": "code",
   "execution_count": 31,
   "metadata": {},
   "outputs": [],
   "source": [
    "# к информации по звонкам добавим данные по пользователям для определения выбранного тарифа\n",
    "users_calls = users.merge(calls, on='user_id')"
   ]
  },
  {
   "cell_type": "code",
   "execution_count": 32,
   "metadata": {
    "scrolled": false
   },
   "outputs": [
    {
     "data": {
      "text/html": [
       "<div>\n",
       "<style scoped>\n",
       "    .dataframe tbody tr th:only-of-type {\n",
       "        vertical-align: middle;\n",
       "    }\n",
       "\n",
       "    .dataframe tbody tr th {\n",
       "        vertical-align: top;\n",
       "    }\n",
       "\n",
       "    .dataframe thead th {\n",
       "        text-align: right;\n",
       "    }\n",
       "</style>\n",
       "<table border=\"1\" class=\"dataframe\">\n",
       "  <thead>\n",
       "    <tr style=\"text-align: right;\">\n",
       "      <th></th>\n",
       "      <th>user_id</th>\n",
       "      <th>age</th>\n",
       "      <th>churn_date</th>\n",
       "      <th>city</th>\n",
       "      <th>first_name</th>\n",
       "      <th>last_name</th>\n",
       "      <th>reg_date</th>\n",
       "      <th>tariff</th>\n",
       "      <th>id</th>\n",
       "      <th>call_date</th>\n",
       "      <th>duration</th>\n",
       "    </tr>\n",
       "  </thead>\n",
       "  <tbody>\n",
       "    <tr>\n",
       "      <td>0</td>\n",
       "      <td>1000</td>\n",
       "      <td>52</td>\n",
       "      <td>NaN</td>\n",
       "      <td>Краснодар</td>\n",
       "      <td>Рафаил</td>\n",
       "      <td>Верещагин</td>\n",
       "      <td>2018-05-25</td>\n",
       "      <td>ultra</td>\n",
       "      <td>1000_0</td>\n",
       "      <td>2018-07-25</td>\n",
       "      <td>0</td>\n",
       "    </tr>\n",
       "    <tr>\n",
       "      <td>1</td>\n",
       "      <td>1000</td>\n",
       "      <td>52</td>\n",
       "      <td>NaN</td>\n",
       "      <td>Краснодар</td>\n",
       "      <td>Рафаил</td>\n",
       "      <td>Верещагин</td>\n",
       "      <td>2018-05-25</td>\n",
       "      <td>ultra</td>\n",
       "      <td>1000_1</td>\n",
       "      <td>2018-08-17</td>\n",
       "      <td>0</td>\n",
       "    </tr>\n",
       "    <tr>\n",
       "      <td>2</td>\n",
       "      <td>1000</td>\n",
       "      <td>52</td>\n",
       "      <td>NaN</td>\n",
       "      <td>Краснодар</td>\n",
       "      <td>Рафаил</td>\n",
       "      <td>Верещагин</td>\n",
       "      <td>2018-05-25</td>\n",
       "      <td>ultra</td>\n",
       "      <td>1000_2</td>\n",
       "      <td>2018-06-11</td>\n",
       "      <td>3</td>\n",
       "    </tr>\n",
       "    <tr>\n",
       "      <td>3</td>\n",
       "      <td>1000</td>\n",
       "      <td>52</td>\n",
       "      <td>NaN</td>\n",
       "      <td>Краснодар</td>\n",
       "      <td>Рафаил</td>\n",
       "      <td>Верещагин</td>\n",
       "      <td>2018-05-25</td>\n",
       "      <td>ultra</td>\n",
       "      <td>1000_3</td>\n",
       "      <td>2018-09-21</td>\n",
       "      <td>14</td>\n",
       "    </tr>\n",
       "    <tr>\n",
       "      <td>4</td>\n",
       "      <td>1000</td>\n",
       "      <td>52</td>\n",
       "      <td>NaN</td>\n",
       "      <td>Краснодар</td>\n",
       "      <td>Рафаил</td>\n",
       "      <td>Верещагин</td>\n",
       "      <td>2018-05-25</td>\n",
       "      <td>ultra</td>\n",
       "      <td>1000_4</td>\n",
       "      <td>2018-12-15</td>\n",
       "      <td>6</td>\n",
       "    </tr>\n",
       "  </tbody>\n",
       "</table>\n",
       "</div>"
      ],
      "text/plain": [
       "   user_id  age churn_date       city first_name  last_name   reg_date tariff  \\\n",
       "0     1000   52        NaN  Краснодар     Рафаил  Верещагин 2018-05-25  ultra   \n",
       "1     1000   52        NaN  Краснодар     Рафаил  Верещагин 2018-05-25  ultra   \n",
       "2     1000   52        NaN  Краснодар     Рафаил  Верещагин 2018-05-25  ultra   \n",
       "3     1000   52        NaN  Краснодар     Рафаил  Верещагин 2018-05-25  ultra   \n",
       "4     1000   52        NaN  Краснодар     Рафаил  Верещагин 2018-05-25  ultra   \n",
       "\n",
       "       id  call_date  duration  \n",
       "0  1000_0 2018-07-25         0  \n",
       "1  1000_1 2018-08-17         0  \n",
       "2  1000_2 2018-06-11         3  \n",
       "3  1000_3 2018-09-21        14  \n",
       "4  1000_4 2018-12-15         6  "
      ]
     },
     "execution_count": 32,
     "metadata": {},
     "output_type": "execute_result"
    }
   ],
   "source": [
    "# выведем первые 5 строк нового датафрейма\n",
    "users_calls.head()"
   ]
  },
  {
   "cell_type": "code",
   "execution_count": 33,
   "metadata": {},
   "outputs": [],
   "source": [
    "# old code\n",
    "# напишем функцию, которая выделяет месяц из даты\n",
    "#def month(dat):\n",
    "#    for i in [dat]:\n",
    "#        return i.month\n",
    "\n",
    "# применим функцию в новом столбце month  \n",
    "#users_calls['month'] = users_calls['call_date'].apply(month)\n",
    "\n",
    "\n",
    "# new code\n",
    "# определим месяц использования\n",
    "users_calls['month'] = users_calls['call_date'].astype('datetime64[M]')"
   ]
  },
  {
   "cell_type": "code",
   "execution_count": 34,
   "metadata": {},
   "outputs": [],
   "source": [
    "# сгруппируем данные по времени user_id, month, tariff\n",
    "users_calls = pd.DataFrame(users_calls.groupby(['user_id','month','tariff'])['duration'].agg(['count','sum']))"
   ]
  },
  {
   "cell_type": "code",
   "execution_count": 35,
   "metadata": {},
   "outputs": [],
   "source": [
    "# переименуем столбцы\n",
    "users_calls.columns = ['calls_count', 'calls_duration']"
   ]
  },
  {
   "cell_type": "code",
   "execution_count": 36,
   "metadata": {
    "scrolled": true
   },
   "outputs": [
    {
     "data": {
      "text/html": [
       "<div>\n",
       "<style scoped>\n",
       "    .dataframe tbody tr th:only-of-type {\n",
       "        vertical-align: middle;\n",
       "    }\n",
       "\n",
       "    .dataframe tbody tr th {\n",
       "        vertical-align: top;\n",
       "    }\n",
       "\n",
       "    .dataframe thead th {\n",
       "        text-align: right;\n",
       "    }\n",
       "</style>\n",
       "<table border=\"1\" class=\"dataframe\">\n",
       "  <thead>\n",
       "    <tr style=\"text-align: right;\">\n",
       "      <th></th>\n",
       "      <th></th>\n",
       "      <th></th>\n",
       "      <th>calls_count</th>\n",
       "      <th>calls_duration</th>\n",
       "    </tr>\n",
       "    <tr>\n",
       "      <th>user_id</th>\n",
       "      <th>month</th>\n",
       "      <th>tariff</th>\n",
       "      <th></th>\n",
       "      <th></th>\n",
       "    </tr>\n",
       "  </thead>\n",
       "  <tbody>\n",
       "    <tr>\n",
       "      <td rowspan=\"5\" valign=\"top\">1000</td>\n",
       "      <td>2018-05-01</td>\n",
       "      <td>ultra</td>\n",
       "      <td>22</td>\n",
       "      <td>159</td>\n",
       "    </tr>\n",
       "    <tr>\n",
       "      <td>2018-06-01</td>\n",
       "      <td>ultra</td>\n",
       "      <td>43</td>\n",
       "      <td>172</td>\n",
       "    </tr>\n",
       "    <tr>\n",
       "      <td>2018-07-01</td>\n",
       "      <td>ultra</td>\n",
       "      <td>47</td>\n",
       "      <td>340</td>\n",
       "    </tr>\n",
       "    <tr>\n",
       "      <td>2018-08-01</td>\n",
       "      <td>ultra</td>\n",
       "      <td>52</td>\n",
       "      <td>408</td>\n",
       "    </tr>\n",
       "    <tr>\n",
       "      <td>2018-09-01</td>\n",
       "      <td>ultra</td>\n",
       "      <td>58</td>\n",
       "      <td>466</td>\n",
       "    </tr>\n",
       "  </tbody>\n",
       "</table>\n",
       "</div>"
      ],
      "text/plain": [
       "                           calls_count  calls_duration\n",
       "user_id month      tariff                             \n",
       "1000    2018-05-01 ultra            22             159\n",
       "        2018-06-01 ultra            43             172\n",
       "        2018-07-01 ultra            47             340\n",
       "        2018-08-01 ultra            52             408\n",
       "        2018-09-01 ultra            58             466"
      ]
     },
     "execution_count": 36,
     "metadata": {},
     "output_type": "execute_result"
    }
   ],
   "source": [
    "# выведем рез-т\n",
    "users_calls.head()"
   ]
  },
  {
   "cell_type": "markdown",
   "metadata": {},
   "source": [
    "<strong>Вывод</strong><br>\n",
    "На данном шаге мы объединили таблицу calls и users, а затем сгруппировали данные по кол-ву звонков и их продолжительности в месяц для каждого пользователя и его тарифа. Для определения месяца была написана функция. В результате мы получили сводную таблицу, где на каждого пользователя указан месяц, тариф, кол-во звонков в этом месяце и их общая продолжительность. Это позволит нам в дальнейшем использовать эти данные для посчета дохода компании и проверки гипотез."
   ]
  },
  {
   "cell_type": "markdown",
   "metadata": {},
   "source": [
    "### Сводная информация по сообщениям"
   ]
  },
  {
   "cell_type": "code",
   "execution_count": 37,
   "metadata": {},
   "outputs": [],
   "source": [
    "# к данным по сообщениям добавим информацию по пользователям для определения выбранного тарифа\n",
    "users_messages = users.merge(messages, on='user_id')"
   ]
  },
  {
   "cell_type": "code",
   "execution_count": 38,
   "metadata": {
    "scrolled": true
   },
   "outputs": [
    {
     "data": {
      "text/html": [
       "<div>\n",
       "<style scoped>\n",
       "    .dataframe tbody tr th:only-of-type {\n",
       "        vertical-align: middle;\n",
       "    }\n",
       "\n",
       "    .dataframe tbody tr th {\n",
       "        vertical-align: top;\n",
       "    }\n",
       "\n",
       "    .dataframe thead th {\n",
       "        text-align: right;\n",
       "    }\n",
       "</style>\n",
       "<table border=\"1\" class=\"dataframe\">\n",
       "  <thead>\n",
       "    <tr style=\"text-align: right;\">\n",
       "      <th></th>\n",
       "      <th>user_id</th>\n",
       "      <th>age</th>\n",
       "      <th>churn_date</th>\n",
       "      <th>city</th>\n",
       "      <th>first_name</th>\n",
       "      <th>last_name</th>\n",
       "      <th>reg_date</th>\n",
       "      <th>tariff</th>\n",
       "      <th>id</th>\n",
       "      <th>message_date</th>\n",
       "    </tr>\n",
       "  </thead>\n",
       "  <tbody>\n",
       "    <tr>\n",
       "      <td>0</td>\n",
       "      <td>1000</td>\n",
       "      <td>52</td>\n",
       "      <td>NaN</td>\n",
       "      <td>Краснодар</td>\n",
       "      <td>Рафаил</td>\n",
       "      <td>Верещагин</td>\n",
       "      <td>2018-05-25</td>\n",
       "      <td>ultra</td>\n",
       "      <td>1000_0</td>\n",
       "      <td>2018-06-27</td>\n",
       "    </tr>\n",
       "    <tr>\n",
       "      <td>1</td>\n",
       "      <td>1000</td>\n",
       "      <td>52</td>\n",
       "      <td>NaN</td>\n",
       "      <td>Краснодар</td>\n",
       "      <td>Рафаил</td>\n",
       "      <td>Верещагин</td>\n",
       "      <td>2018-05-25</td>\n",
       "      <td>ultra</td>\n",
       "      <td>1000_1</td>\n",
       "      <td>2018-10-08</td>\n",
       "    </tr>\n",
       "    <tr>\n",
       "      <td>2</td>\n",
       "      <td>1000</td>\n",
       "      <td>52</td>\n",
       "      <td>NaN</td>\n",
       "      <td>Краснодар</td>\n",
       "      <td>Рафаил</td>\n",
       "      <td>Верещагин</td>\n",
       "      <td>2018-05-25</td>\n",
       "      <td>ultra</td>\n",
       "      <td>1000_2</td>\n",
       "      <td>2018-08-04</td>\n",
       "    </tr>\n",
       "    <tr>\n",
       "      <td>3</td>\n",
       "      <td>1000</td>\n",
       "      <td>52</td>\n",
       "      <td>NaN</td>\n",
       "      <td>Краснодар</td>\n",
       "      <td>Рафаил</td>\n",
       "      <td>Верещагин</td>\n",
       "      <td>2018-05-25</td>\n",
       "      <td>ultra</td>\n",
       "      <td>1000_3</td>\n",
       "      <td>2018-06-16</td>\n",
       "    </tr>\n",
       "    <tr>\n",
       "      <td>4</td>\n",
       "      <td>1000</td>\n",
       "      <td>52</td>\n",
       "      <td>NaN</td>\n",
       "      <td>Краснодар</td>\n",
       "      <td>Рафаил</td>\n",
       "      <td>Верещагин</td>\n",
       "      <td>2018-05-25</td>\n",
       "      <td>ultra</td>\n",
       "      <td>1000_4</td>\n",
       "      <td>2018-12-05</td>\n",
       "    </tr>\n",
       "  </tbody>\n",
       "</table>\n",
       "</div>"
      ],
      "text/plain": [
       "   user_id  age churn_date       city first_name  last_name   reg_date tariff  \\\n",
       "0     1000   52        NaN  Краснодар     Рафаил  Верещагин 2018-05-25  ultra   \n",
       "1     1000   52        NaN  Краснодар     Рафаил  Верещагин 2018-05-25  ultra   \n",
       "2     1000   52        NaN  Краснодар     Рафаил  Верещагин 2018-05-25  ultra   \n",
       "3     1000   52        NaN  Краснодар     Рафаил  Верещагин 2018-05-25  ultra   \n",
       "4     1000   52        NaN  Краснодар     Рафаил  Верещагин 2018-05-25  ultra   \n",
       "\n",
       "       id message_date  \n",
       "0  1000_0   2018-06-27  \n",
       "1  1000_1   2018-10-08  \n",
       "2  1000_2   2018-08-04  \n",
       "3  1000_3   2018-06-16  \n",
       "4  1000_4   2018-12-05  "
      ]
     },
     "execution_count": 38,
     "metadata": {},
     "output_type": "execute_result"
    }
   ],
   "source": [
    "# выведем первые 5 строк нового датафрейма\n",
    "users_messages.head()"
   ]
  },
  {
   "cell_type": "code",
   "execution_count": 39,
   "metadata": {},
   "outputs": [],
   "source": [
    "# old code\n",
    "# напишем функцию, которая выделяет месяц из даты\n",
    "#def month(dat):\n",
    "#    for i in [dat]:\n",
    "#        return i.month\n",
    "\n",
    "# применим функцию в новом столбце month  \n",
    "#users_messages['month'] = users_messages['message_date'].apply(month)\n",
    "\n",
    "# new code\n",
    "# определим месяц использования\n",
    "users_messages['month'] = users_messages['message_date'].astype('datetime64[M]')"
   ]
  },
  {
   "cell_type": "code",
   "execution_count": 40,
   "metadata": {
    "scrolled": false
   },
   "outputs": [],
   "source": [
    "# сгруппируем даннвые по user_id,month,tariff\n",
    "users_messages = pd.DataFrame(users_messages.groupby(['user_id','month','tariff'])['message_date'].agg(['count']))"
   ]
  },
  {
   "cell_type": "code",
   "execution_count": 41,
   "metadata": {},
   "outputs": [],
   "source": [
    "# переименуем столбец\n",
    "users_messages.columns = ['messages_count']"
   ]
  },
  {
   "cell_type": "code",
   "execution_count": 42,
   "metadata": {
    "scrolled": false
   },
   "outputs": [
    {
     "data": {
      "text/html": [
       "<div>\n",
       "<style scoped>\n",
       "    .dataframe tbody tr th:only-of-type {\n",
       "        vertical-align: middle;\n",
       "    }\n",
       "\n",
       "    .dataframe tbody tr th {\n",
       "        vertical-align: top;\n",
       "    }\n",
       "\n",
       "    .dataframe thead th {\n",
       "        text-align: right;\n",
       "    }\n",
       "</style>\n",
       "<table border=\"1\" class=\"dataframe\">\n",
       "  <thead>\n",
       "    <tr style=\"text-align: right;\">\n",
       "      <th></th>\n",
       "      <th></th>\n",
       "      <th></th>\n",
       "      <th>messages_count</th>\n",
       "    </tr>\n",
       "    <tr>\n",
       "      <th>user_id</th>\n",
       "      <th>month</th>\n",
       "      <th>tariff</th>\n",
       "      <th></th>\n",
       "    </tr>\n",
       "  </thead>\n",
       "  <tbody>\n",
       "    <tr>\n",
       "      <td rowspan=\"5\" valign=\"top\">1000</td>\n",
       "      <td>2018-05-01</td>\n",
       "      <td>ultra</td>\n",
       "      <td>22</td>\n",
       "    </tr>\n",
       "    <tr>\n",
       "      <td>2018-06-01</td>\n",
       "      <td>ultra</td>\n",
       "      <td>60</td>\n",
       "    </tr>\n",
       "    <tr>\n",
       "      <td>2018-07-01</td>\n",
       "      <td>ultra</td>\n",
       "      <td>75</td>\n",
       "    </tr>\n",
       "    <tr>\n",
       "      <td>2018-08-01</td>\n",
       "      <td>ultra</td>\n",
       "      <td>81</td>\n",
       "    </tr>\n",
       "    <tr>\n",
       "      <td>2018-09-01</td>\n",
       "      <td>ultra</td>\n",
       "      <td>57</td>\n",
       "    </tr>\n",
       "  </tbody>\n",
       "</table>\n",
       "</div>"
      ],
      "text/plain": [
       "                           messages_count\n",
       "user_id month      tariff                \n",
       "1000    2018-05-01 ultra               22\n",
       "        2018-06-01 ultra               60\n",
       "        2018-07-01 ultra               75\n",
       "        2018-08-01 ultra               81\n",
       "        2018-09-01 ultra               57"
      ]
     },
     "execution_count": 42,
     "metadata": {},
     "output_type": "execute_result"
    }
   ],
   "source": [
    "# выведем результат\n",
    "users_messages.head()"
   ]
  },
  {
   "cell_type": "markdown",
   "metadata": {},
   "source": [
    "<strong>Вывод</strong><br>\n",
    "На данном шаге мы объединили таблицу messages и users, а затем сгруппировали данные по кол-ву сообщений в месяц для каждого пользователя и его тарифа. Для определения месяца была написана функция. В результате мы получили сводную таблицу, где на каждого пользователя указан месяц, тариф, кол-во смс в этом месяце. Это позволит нам в дальнейшем использовать эти данные для посчета дохода компании и проверки гипотез."
   ]
  },
  {
   "cell_type": "markdown",
   "metadata": {},
   "source": [
    "### Сводная информация по интернету"
   ]
  },
  {
   "cell_type": "markdown",
   "metadata": {},
   "source": [
    "Для веб-трафика отдельные сессии не считаются. Вместо этого общая сумма за месяц округляется в бо́льшую сторону. Если абонент использует 1025 мегабайт в этом месяце, с него возьмут плату за 2 гигабайта."
   ]
  },
  {
   "cell_type": "code",
   "execution_count": 43,
   "metadata": {},
   "outputs": [],
   "source": [
    "# к данным по интернету добавим информацию по пользователям для определения выбранного тарифа\n",
    "users_internet = users.merge(internet, on='user_id')"
   ]
  },
  {
   "cell_type": "code",
   "execution_count": 44,
   "metadata": {},
   "outputs": [
    {
     "data": {
      "text/html": [
       "<div>\n",
       "<style scoped>\n",
       "    .dataframe tbody tr th:only-of-type {\n",
       "        vertical-align: middle;\n",
       "    }\n",
       "\n",
       "    .dataframe tbody tr th {\n",
       "        vertical-align: top;\n",
       "    }\n",
       "\n",
       "    .dataframe thead th {\n",
       "        text-align: right;\n",
       "    }\n",
       "</style>\n",
       "<table border=\"1\" class=\"dataframe\">\n",
       "  <thead>\n",
       "    <tr style=\"text-align: right;\">\n",
       "      <th></th>\n",
       "      <th>user_id</th>\n",
       "      <th>age</th>\n",
       "      <th>churn_date</th>\n",
       "      <th>city</th>\n",
       "      <th>first_name</th>\n",
       "      <th>last_name</th>\n",
       "      <th>reg_date</th>\n",
       "      <th>tariff</th>\n",
       "      <th>id</th>\n",
       "      <th>mb_used</th>\n",
       "      <th>session_date</th>\n",
       "    </tr>\n",
       "  </thead>\n",
       "  <tbody>\n",
       "    <tr>\n",
       "      <td>0</td>\n",
       "      <td>1000</td>\n",
       "      <td>52</td>\n",
       "      <td>NaN</td>\n",
       "      <td>Краснодар</td>\n",
       "      <td>Рафаил</td>\n",
       "      <td>Верещагин</td>\n",
       "      <td>2018-05-25</td>\n",
       "      <td>ultra</td>\n",
       "      <td>1000_0</td>\n",
       "      <td>112.95</td>\n",
       "      <td>2018-11-25</td>\n",
       "    </tr>\n",
       "    <tr>\n",
       "      <td>1</td>\n",
       "      <td>1000</td>\n",
       "      <td>52</td>\n",
       "      <td>NaN</td>\n",
       "      <td>Краснодар</td>\n",
       "      <td>Рафаил</td>\n",
       "      <td>Верещагин</td>\n",
       "      <td>2018-05-25</td>\n",
       "      <td>ultra</td>\n",
       "      <td>1000_1</td>\n",
       "      <td>1052.81</td>\n",
       "      <td>2018-09-07</td>\n",
       "    </tr>\n",
       "    <tr>\n",
       "      <td>2</td>\n",
       "      <td>1000</td>\n",
       "      <td>52</td>\n",
       "      <td>NaN</td>\n",
       "      <td>Краснодар</td>\n",
       "      <td>Рафаил</td>\n",
       "      <td>Верещагин</td>\n",
       "      <td>2018-05-25</td>\n",
       "      <td>ultra</td>\n",
       "      <td>1000_2</td>\n",
       "      <td>1197.26</td>\n",
       "      <td>2018-06-25</td>\n",
       "    </tr>\n",
       "    <tr>\n",
       "      <td>3</td>\n",
       "      <td>1000</td>\n",
       "      <td>52</td>\n",
       "      <td>NaN</td>\n",
       "      <td>Краснодар</td>\n",
       "      <td>Рафаил</td>\n",
       "      <td>Верещагин</td>\n",
       "      <td>2018-05-25</td>\n",
       "      <td>ultra</td>\n",
       "      <td>1000_3</td>\n",
       "      <td>550.27</td>\n",
       "      <td>2018-08-22</td>\n",
       "    </tr>\n",
       "    <tr>\n",
       "      <td>4</td>\n",
       "      <td>1000</td>\n",
       "      <td>52</td>\n",
       "      <td>NaN</td>\n",
       "      <td>Краснодар</td>\n",
       "      <td>Рафаил</td>\n",
       "      <td>Верещагин</td>\n",
       "      <td>2018-05-25</td>\n",
       "      <td>ultra</td>\n",
       "      <td>1000_4</td>\n",
       "      <td>302.56</td>\n",
       "      <td>2018-09-24</td>\n",
       "    </tr>\n",
       "  </tbody>\n",
       "</table>\n",
       "</div>"
      ],
      "text/plain": [
       "   user_id  age churn_date       city first_name  last_name   reg_date tariff  \\\n",
       "0     1000   52        NaN  Краснодар     Рафаил  Верещагин 2018-05-25  ultra   \n",
       "1     1000   52        NaN  Краснодар     Рафаил  Верещагин 2018-05-25  ultra   \n",
       "2     1000   52        NaN  Краснодар     Рафаил  Верещагин 2018-05-25  ultra   \n",
       "3     1000   52        NaN  Краснодар     Рафаил  Верещагин 2018-05-25  ultra   \n",
       "4     1000   52        NaN  Краснодар     Рафаил  Верещагин 2018-05-25  ultra   \n",
       "\n",
       "       id  mb_used session_date  \n",
       "0  1000_0   112.95   2018-11-25  \n",
       "1  1000_1  1052.81   2018-09-07  \n",
       "2  1000_2  1197.26   2018-06-25  \n",
       "3  1000_3   550.27   2018-08-22  \n",
       "4  1000_4   302.56   2018-09-24  "
      ]
     },
     "execution_count": 44,
     "metadata": {},
     "output_type": "execute_result"
    }
   ],
   "source": [
    "users_internet.head()"
   ]
  },
  {
   "cell_type": "code",
   "execution_count": 45,
   "metadata": {},
   "outputs": [],
   "source": [
    "# old code\n",
    "# функцию, которая выделяет месяц из даты\n",
    "#def month(dat):\n",
    "#    for i in [dat]:\n",
    "#        return i.month\n",
    "# применим функцию в новом столбце month  \n",
    "#users_internet['month'] = users_internet['session_date'].apply(month)\n",
    "\n",
    "# new code\n",
    "# определим месяц использования\n",
    "users_internet['month'] = users_internet['session_date'].astype('datetime64[M]')"
   ]
  },
  {
   "cell_type": "code",
   "execution_count": 46,
   "metadata": {},
   "outputs": [],
   "source": [
    "# создадим таблицу с данными по потреблению интернета за месяц по каждому пользователю\n",
    "users_internet = pd.DataFrame(users_internet.groupby(['user_id','month','tariff'])['mb_used'].agg(['sum']))"
   ]
  },
  {
   "cell_type": "code",
   "execution_count": 47,
   "metadata": {},
   "outputs": [],
   "source": [
    "# переименуем столбец\n",
    "users_internet.columns = ['mb_used']"
   ]
  },
  {
   "cell_type": "code",
   "execution_count": 48,
   "metadata": {
    "scrolled": false
   },
   "outputs": [],
   "source": [
    "# поделим суммарное количество мегабайт за месяц на 1024, чтобы определить кол-во гигабайт трафика\n",
    "users_internet['mb_used']=users_internet['mb_used'] / 1024"
   ]
  },
  {
   "cell_type": "code",
   "execution_count": 49,
   "metadata": {},
   "outputs": [],
   "source": [
    "# переименуем столбец в gb_used\n",
    "users_internet = users_internet.rename(columns={'mb_used':'gb_used'})"
   ]
  },
  {
   "cell_type": "code",
   "execution_count": 50,
   "metadata": {},
   "outputs": [],
   "source": [
    "# приведем данные столбца gb_used к типу integer с округлением вверх до целых гигабайт\n",
    "users_internet['gb_used']=np.ceil(users_internet.gb_used).astype(int)"
   ]
  },
  {
   "cell_type": "code",
   "execution_count": 51,
   "metadata": {
    "scrolled": false
   },
   "outputs": [
    {
     "data": {
      "text/html": [
       "<div>\n",
       "<style scoped>\n",
       "    .dataframe tbody tr th:only-of-type {\n",
       "        vertical-align: middle;\n",
       "    }\n",
       "\n",
       "    .dataframe tbody tr th {\n",
       "        vertical-align: top;\n",
       "    }\n",
       "\n",
       "    .dataframe thead th {\n",
       "        text-align: right;\n",
       "    }\n",
       "</style>\n",
       "<table border=\"1\" class=\"dataframe\">\n",
       "  <thead>\n",
       "    <tr style=\"text-align: right;\">\n",
       "      <th></th>\n",
       "      <th></th>\n",
       "      <th></th>\n",
       "      <th>gb_used</th>\n",
       "    </tr>\n",
       "    <tr>\n",
       "      <th>user_id</th>\n",
       "      <th>month</th>\n",
       "      <th>tariff</th>\n",
       "      <th></th>\n",
       "    </tr>\n",
       "  </thead>\n",
       "  <tbody>\n",
       "    <tr>\n",
       "      <td rowspan=\"5\" valign=\"top\">1000</td>\n",
       "      <td>2018-05-01</td>\n",
       "      <td>ultra</td>\n",
       "      <td>3</td>\n",
       "    </tr>\n",
       "    <tr>\n",
       "      <td>2018-06-01</td>\n",
       "      <td>ultra</td>\n",
       "      <td>23</td>\n",
       "    </tr>\n",
       "    <tr>\n",
       "      <td>2018-07-01</td>\n",
       "      <td>ultra</td>\n",
       "      <td>14</td>\n",
       "    </tr>\n",
       "    <tr>\n",
       "      <td>2018-08-01</td>\n",
       "      <td>ultra</td>\n",
       "      <td>14</td>\n",
       "    </tr>\n",
       "    <tr>\n",
       "      <td>2018-09-01</td>\n",
       "      <td>ultra</td>\n",
       "      <td>15</td>\n",
       "    </tr>\n",
       "  </tbody>\n",
       "</table>\n",
       "</div>"
      ],
      "text/plain": [
       "                           gb_used\n",
       "user_id month      tariff         \n",
       "1000    2018-05-01 ultra         3\n",
       "        2018-06-01 ultra        23\n",
       "        2018-07-01 ultra        14\n",
       "        2018-08-01 ultra        14\n",
       "        2018-09-01 ultra        15"
      ]
     },
     "execution_count": 51,
     "metadata": {},
     "output_type": "execute_result"
    }
   ],
   "source": [
    "# проверим результат\n",
    "users_internet.head()"
   ]
  },
  {
   "cell_type": "markdown",
   "metadata": {},
   "source": [
    "<strong>Вывод</strong><br>\n",
    "На данном шаге мы объединили таблицу internet и users, а затем сгруппировали данные по объему потребленного трафика в месяц для каждого пользователя и его тарифа. Для определения месяца была написана функция. В результате мы получили сводную таблицу, где на каждого пользователя указан месяц, тариф, кол-во интернет-траффика. Это позволит нам в дальнейшем использовать эти данные для посчета дохода компании и проверки гипотез. Данные по потреблению были округлены вверх до целых гигабайт ввиду того, что по правилам компании, каждый потребленный мегабайт сверх целого гб считается за отдельный гб. Тип данных колонки gb_used - integer. "
   ]
  },
  {
   "cell_type": "markdown",
   "metadata": {},
   "source": [
    "### Помесячная выручка с каждого пользователя"
   ]
  },
  {
   "cell_type": "code",
   "execution_count": 52,
   "metadata": {},
   "outputs": [],
   "source": [
    "# объединение таблиц с данными по звонкам и по сообщениям\n",
    "users_info = users_calls.merge(users_messages, on=['user_id', 'month','tariff'], how='outer')"
   ]
  },
  {
   "cell_type": "code",
   "execution_count": 53,
   "metadata": {},
   "outputs": [],
   "source": [
    "# объединение данных по интернету с данными по звонкам и сообщениям\n",
    "users_info = users_info.merge(users_internet, on=['user_id', 'month','tariff'], how='outer')"
   ]
  },
  {
   "cell_type": "code",
   "execution_count": 54,
   "metadata": {
    "scrolled": true
   },
   "outputs": [
    {
     "data": {
      "text/html": [
       "<div>\n",
       "<style scoped>\n",
       "    .dataframe tbody tr th:only-of-type {\n",
       "        vertical-align: middle;\n",
       "    }\n",
       "\n",
       "    .dataframe tbody tr th {\n",
       "        vertical-align: top;\n",
       "    }\n",
       "\n",
       "    .dataframe thead th {\n",
       "        text-align: right;\n",
       "    }\n",
       "</style>\n",
       "<table border=\"1\" class=\"dataframe\">\n",
       "  <thead>\n",
       "    <tr style=\"text-align: right;\">\n",
       "      <th></th>\n",
       "      <th></th>\n",
       "      <th></th>\n",
       "      <th>calls_count</th>\n",
       "      <th>calls_duration</th>\n",
       "      <th>messages_count</th>\n",
       "      <th>gb_used</th>\n",
       "    </tr>\n",
       "    <tr>\n",
       "      <th>user_id</th>\n",
       "      <th>month</th>\n",
       "      <th>tariff</th>\n",
       "      <th></th>\n",
       "      <th></th>\n",
       "      <th></th>\n",
       "      <th></th>\n",
       "    </tr>\n",
       "  </thead>\n",
       "  <tbody>\n",
       "    <tr>\n",
       "      <td rowspan=\"5\" valign=\"top\">1000</td>\n",
       "      <td>2018-05-01</td>\n",
       "      <td>ultra</td>\n",
       "      <td>22.0</td>\n",
       "      <td>159.0</td>\n",
       "      <td>22.0</td>\n",
       "      <td>3.0</td>\n",
       "    </tr>\n",
       "    <tr>\n",
       "      <td>2018-06-01</td>\n",
       "      <td>ultra</td>\n",
       "      <td>43.0</td>\n",
       "      <td>172.0</td>\n",
       "      <td>60.0</td>\n",
       "      <td>23.0</td>\n",
       "    </tr>\n",
       "    <tr>\n",
       "      <td>2018-07-01</td>\n",
       "      <td>ultra</td>\n",
       "      <td>47.0</td>\n",
       "      <td>340.0</td>\n",
       "      <td>75.0</td>\n",
       "      <td>14.0</td>\n",
       "    </tr>\n",
       "    <tr>\n",
       "      <td>2018-08-01</td>\n",
       "      <td>ultra</td>\n",
       "      <td>52.0</td>\n",
       "      <td>408.0</td>\n",
       "      <td>81.0</td>\n",
       "      <td>14.0</td>\n",
       "    </tr>\n",
       "    <tr>\n",
       "      <td>2018-09-01</td>\n",
       "      <td>ultra</td>\n",
       "      <td>58.0</td>\n",
       "      <td>466.0</td>\n",
       "      <td>57.0</td>\n",
       "      <td>15.0</td>\n",
       "    </tr>\n",
       "  </tbody>\n",
       "</table>\n",
       "</div>"
      ],
      "text/plain": [
       "                           calls_count  calls_duration  messages_count  \\\n",
       "user_id month      tariff                                                \n",
       "1000    2018-05-01 ultra          22.0           159.0            22.0   \n",
       "        2018-06-01 ultra          43.0           172.0            60.0   \n",
       "        2018-07-01 ultra          47.0           340.0            75.0   \n",
       "        2018-08-01 ultra          52.0           408.0            81.0   \n",
       "        2018-09-01 ultra          58.0           466.0            57.0   \n",
       "\n",
       "                           gb_used  \n",
       "user_id month      tariff           \n",
       "1000    2018-05-01 ultra       3.0  \n",
       "        2018-06-01 ultra      23.0  \n",
       "        2018-07-01 ultra      14.0  \n",
       "        2018-08-01 ultra      14.0  \n",
       "        2018-09-01 ultra      15.0  "
      ]
     },
     "execution_count": 54,
     "metadata": {},
     "output_type": "execute_result"
    }
   ],
   "source": [
    "# результат объединения\n",
    "users_info.head()"
   ]
  },
  {
   "cell_type": "markdown",
   "metadata": {},
   "source": [
    "Получив сводную таблицу по потреблению связи каждым из клиентов по месяцам, добавим к этой таблице информацию по тарифам."
   ]
  },
  {
   "cell_type": "code",
   "execution_count": 55,
   "metadata": {},
   "outputs": [],
   "source": [
    "# объединяем данные по пользователям с данными по тарифам\n",
    "df_user=users.join(tariffs.set_index(['tariff_name'],verify_integrity=True),on=['tariff'],how='left')"
   ]
  },
  {
   "cell_type": "code",
   "execution_count": 56,
   "metadata": {},
   "outputs": [],
   "source": [
    "# объединяем сводные данные по потреблению интернета с данными по пользователям и тарифам\n",
    "df=users_info.join(df_user.set_index(['user_id'],verify_integrity=True),on=['user_id'],how='left')"
   ]
  },
  {
   "cell_type": "markdown",
   "metadata": {},
   "source": [
    "С помощью функций рассчитаем прибыль компании с каждого клиента."
   ]
  },
  {
   "cell_type": "code",
   "execution_count": 57,
   "metadata": {},
   "outputs": [],
   "source": [
    "# функция для расчёта стоимости выхода за тариф по звонкам\n",
    "def call_price(calls_duration,minutes_included,rub_per_minute):\n",
    "    if calls_duration - minutes_included > 0:\n",
    "        return (calls_duration - minutes_included) * rub_per_minute\n",
    "    else:\n",
    "        return 0\n",
    "    \n",
    "# функция для расчёта стоимости выхода за тариф по смс         \n",
    "def message_price(messages_count,messages_included,rub_per_message):\n",
    "    if messages_count - messages_included > 0:\n",
    "        return (messages_count - messages_included) * rub_per_message\n",
    "    else:\n",
    "        return 0\n",
    "    \n",
    "# функция для расчёта стоимости выхода за тариф по интернету               \n",
    "def internet_price(gb_used,mb_per_month_included,rub_per_gb):\n",
    "    if gb_used - mb_per_month_included/1024 > 0:\n",
    "        return (gb_used - mb_per_month_included/1024) * rub_per_gb\n",
    "    else:\n",
    "        return 0\n",
    "\n",
    "# функция для расчёта стоимости выхода за тариф + ежемесячная плата    \n",
    "def income(call_price,message_price,internet_price,rub_monthly_fee):\n",
    "    x = call_price + message_price + internet_price + rub_monthly_fee\n",
    "    return x  "
   ]
  },
  {
   "cell_type": "code",
   "execution_count": 58,
   "metadata": {
    "scrolled": false
   },
   "outputs": [],
   "source": [
    "# выход за тариф по звонкам\n",
    "df['call_price'] = df.apply(lambda row: call_price(row['calls_duration'],row[\"minutes_included\"],row['rub_per_minute']), axis=1)                                                "
   ]
  },
  {
   "cell_type": "code",
   "execution_count": 59,
   "metadata": {},
   "outputs": [],
   "source": [
    "# выход за тариф по смс\n",
    "df['message_price'] = df.apply(lambda row: message_price(row['messages_count'],row['messages_included'],row['rub_per_message']), axis=1)"
   ]
  },
  {
   "cell_type": "code",
   "execution_count": 60,
   "metadata": {},
   "outputs": [],
   "source": [
    "# выход за тариф по интернету\n",
    "df['internet_price'] = df.apply(lambda row: internet_price(row['gb_used'],row['mb_per_month_included'],row['rub_per_gb']), axis=1)"
   ]
  },
  {
   "cell_type": "code",
   "execution_count": 61,
   "metadata": {},
   "outputs": [],
   "source": [
    "# общая прибыль с клиента по месяцам\n",
    "df['income'] = df.apply(lambda row: income(row['call_price'],row['message_price'],row['internet_price'],row['rub_monthly_fee']), axis=1)"
   ]
  },
  {
   "cell_type": "code",
   "execution_count": 62,
   "metadata": {
    "scrolled": true
   },
   "outputs": [
    {
     "data": {
      "text/html": [
       "<div>\n",
       "<style scoped>\n",
       "    .dataframe tbody tr th:only-of-type {\n",
       "        vertical-align: middle;\n",
       "    }\n",
       "\n",
       "    .dataframe tbody tr th {\n",
       "        vertical-align: top;\n",
       "    }\n",
       "\n",
       "    .dataframe thead th {\n",
       "        text-align: right;\n",
       "    }\n",
       "</style>\n",
       "<table border=\"1\" class=\"dataframe\">\n",
       "  <thead>\n",
       "    <tr style=\"text-align: right;\">\n",
       "      <th></th>\n",
       "      <th></th>\n",
       "      <th></th>\n",
       "      <th>calls_count</th>\n",
       "      <th>calls_duration</th>\n",
       "      <th>messages_count</th>\n",
       "      <th>gb_used</th>\n",
       "      <th>age</th>\n",
       "      <th>churn_date</th>\n",
       "      <th>city</th>\n",
       "      <th>first_name</th>\n",
       "      <th>last_name</th>\n",
       "      <th>reg_date</th>\n",
       "      <th>...</th>\n",
       "      <th>mb_per_month_included</th>\n",
       "      <th>minutes_included</th>\n",
       "      <th>rub_monthly_fee</th>\n",
       "      <th>rub_per_gb</th>\n",
       "      <th>rub_per_message</th>\n",
       "      <th>rub_per_minute</th>\n",
       "      <th>call_price</th>\n",
       "      <th>message_price</th>\n",
       "      <th>internet_price</th>\n",
       "      <th>income</th>\n",
       "    </tr>\n",
       "    <tr>\n",
       "      <th>user_id</th>\n",
       "      <th>month</th>\n",
       "      <th>tariff</th>\n",
       "      <th></th>\n",
       "      <th></th>\n",
       "      <th></th>\n",
       "      <th></th>\n",
       "      <th></th>\n",
       "      <th></th>\n",
       "      <th></th>\n",
       "      <th></th>\n",
       "      <th></th>\n",
       "      <th></th>\n",
       "      <th></th>\n",
       "      <th></th>\n",
       "      <th></th>\n",
       "      <th></th>\n",
       "      <th></th>\n",
       "      <th></th>\n",
       "      <th></th>\n",
       "      <th></th>\n",
       "      <th></th>\n",
       "      <th></th>\n",
       "      <th></th>\n",
       "    </tr>\n",
       "  </thead>\n",
       "  <tbody>\n",
       "    <tr>\n",
       "      <td rowspan=\"5\" valign=\"top\">1000</td>\n",
       "      <td>2018-05-01</td>\n",
       "      <td>ultra</td>\n",
       "      <td>22.0</td>\n",
       "      <td>159.0</td>\n",
       "      <td>22.0</td>\n",
       "      <td>3.0</td>\n",
       "      <td>52</td>\n",
       "      <td>NaN</td>\n",
       "      <td>Краснодар</td>\n",
       "      <td>Рафаил</td>\n",
       "      <td>Верещагин</td>\n",
       "      <td>2018-05-25</td>\n",
       "      <td>...</td>\n",
       "      <td>30720</td>\n",
       "      <td>3000</td>\n",
       "      <td>1950</td>\n",
       "      <td>150</td>\n",
       "      <td>1</td>\n",
       "      <td>1</td>\n",
       "      <td>0.0</td>\n",
       "      <td>0.0</td>\n",
       "      <td>0.0</td>\n",
       "      <td>1950.0</td>\n",
       "    </tr>\n",
       "    <tr>\n",
       "      <td>2018-06-01</td>\n",
       "      <td>ultra</td>\n",
       "      <td>43.0</td>\n",
       "      <td>172.0</td>\n",
       "      <td>60.0</td>\n",
       "      <td>23.0</td>\n",
       "      <td>52</td>\n",
       "      <td>NaN</td>\n",
       "      <td>Краснодар</td>\n",
       "      <td>Рафаил</td>\n",
       "      <td>Верещагин</td>\n",
       "      <td>2018-05-25</td>\n",
       "      <td>...</td>\n",
       "      <td>30720</td>\n",
       "      <td>3000</td>\n",
       "      <td>1950</td>\n",
       "      <td>150</td>\n",
       "      <td>1</td>\n",
       "      <td>1</td>\n",
       "      <td>0.0</td>\n",
       "      <td>0.0</td>\n",
       "      <td>0.0</td>\n",
       "      <td>1950.0</td>\n",
       "    </tr>\n",
       "    <tr>\n",
       "      <td>2018-07-01</td>\n",
       "      <td>ultra</td>\n",
       "      <td>47.0</td>\n",
       "      <td>340.0</td>\n",
       "      <td>75.0</td>\n",
       "      <td>14.0</td>\n",
       "      <td>52</td>\n",
       "      <td>NaN</td>\n",
       "      <td>Краснодар</td>\n",
       "      <td>Рафаил</td>\n",
       "      <td>Верещагин</td>\n",
       "      <td>2018-05-25</td>\n",
       "      <td>...</td>\n",
       "      <td>30720</td>\n",
       "      <td>3000</td>\n",
       "      <td>1950</td>\n",
       "      <td>150</td>\n",
       "      <td>1</td>\n",
       "      <td>1</td>\n",
       "      <td>0.0</td>\n",
       "      <td>0.0</td>\n",
       "      <td>0.0</td>\n",
       "      <td>1950.0</td>\n",
       "    </tr>\n",
       "    <tr>\n",
       "      <td>2018-08-01</td>\n",
       "      <td>ultra</td>\n",
       "      <td>52.0</td>\n",
       "      <td>408.0</td>\n",
       "      <td>81.0</td>\n",
       "      <td>14.0</td>\n",
       "      <td>52</td>\n",
       "      <td>NaN</td>\n",
       "      <td>Краснодар</td>\n",
       "      <td>Рафаил</td>\n",
       "      <td>Верещагин</td>\n",
       "      <td>2018-05-25</td>\n",
       "      <td>...</td>\n",
       "      <td>30720</td>\n",
       "      <td>3000</td>\n",
       "      <td>1950</td>\n",
       "      <td>150</td>\n",
       "      <td>1</td>\n",
       "      <td>1</td>\n",
       "      <td>0.0</td>\n",
       "      <td>0.0</td>\n",
       "      <td>0.0</td>\n",
       "      <td>1950.0</td>\n",
       "    </tr>\n",
       "    <tr>\n",
       "      <td>2018-09-01</td>\n",
       "      <td>ultra</td>\n",
       "      <td>58.0</td>\n",
       "      <td>466.0</td>\n",
       "      <td>57.0</td>\n",
       "      <td>15.0</td>\n",
       "      <td>52</td>\n",
       "      <td>NaN</td>\n",
       "      <td>Краснодар</td>\n",
       "      <td>Рафаил</td>\n",
       "      <td>Верещагин</td>\n",
       "      <td>2018-05-25</td>\n",
       "      <td>...</td>\n",
       "      <td>30720</td>\n",
       "      <td>3000</td>\n",
       "      <td>1950</td>\n",
       "      <td>150</td>\n",
       "      <td>1</td>\n",
       "      <td>1</td>\n",
       "      <td>0.0</td>\n",
       "      <td>0.0</td>\n",
       "      <td>0.0</td>\n",
       "      <td>1950.0</td>\n",
       "    </tr>\n",
       "  </tbody>\n",
       "</table>\n",
       "<p>5 rows × 22 columns</p>\n",
       "</div>"
      ],
      "text/plain": [
       "                           calls_count  calls_duration  messages_count  \\\n",
       "user_id month      tariff                                                \n",
       "1000    2018-05-01 ultra          22.0           159.0            22.0   \n",
       "        2018-06-01 ultra          43.0           172.0            60.0   \n",
       "        2018-07-01 ultra          47.0           340.0            75.0   \n",
       "        2018-08-01 ultra          52.0           408.0            81.0   \n",
       "        2018-09-01 ultra          58.0           466.0            57.0   \n",
       "\n",
       "                           gb_used  age churn_date       city first_name  \\\n",
       "user_id month      tariff                                                  \n",
       "1000    2018-05-01 ultra       3.0   52        NaN  Краснодар     Рафаил   \n",
       "        2018-06-01 ultra      23.0   52        NaN  Краснодар     Рафаил   \n",
       "        2018-07-01 ultra      14.0   52        NaN  Краснодар     Рафаил   \n",
       "        2018-08-01 ultra      14.0   52        NaN  Краснодар     Рафаил   \n",
       "        2018-09-01 ultra      15.0   52        NaN  Краснодар     Рафаил   \n",
       "\n",
       "                           last_name   reg_date  ... mb_per_month_included  \\\n",
       "user_id month      tariff                        ...                         \n",
       "1000    2018-05-01 ultra   Верещагин 2018-05-25  ...                 30720   \n",
       "        2018-06-01 ultra   Верещагин 2018-05-25  ...                 30720   \n",
       "        2018-07-01 ultra   Верещагин 2018-05-25  ...                 30720   \n",
       "        2018-08-01 ultra   Верещагин 2018-05-25  ...                 30720   \n",
       "        2018-09-01 ultra   Верещагин 2018-05-25  ...                 30720   \n",
       "\n",
       "                           minutes_included  rub_monthly_fee  rub_per_gb  \\\n",
       "user_id month      tariff                                                  \n",
       "1000    2018-05-01 ultra               3000             1950         150   \n",
       "        2018-06-01 ultra               3000             1950         150   \n",
       "        2018-07-01 ultra               3000             1950         150   \n",
       "        2018-08-01 ultra               3000             1950         150   \n",
       "        2018-09-01 ultra               3000             1950         150   \n",
       "\n",
       "                           rub_per_message  rub_per_minute  call_price  \\\n",
       "user_id month      tariff                                                \n",
       "1000    2018-05-01 ultra                 1               1         0.0   \n",
       "        2018-06-01 ultra                 1               1         0.0   \n",
       "        2018-07-01 ultra                 1               1         0.0   \n",
       "        2018-08-01 ultra                 1               1         0.0   \n",
       "        2018-09-01 ultra                 1               1         0.0   \n",
       "\n",
       "                           message_price  internet_price  income  \n",
       "user_id month      tariff                                         \n",
       "1000    2018-05-01 ultra             0.0             0.0  1950.0  \n",
       "        2018-06-01 ultra             0.0             0.0  1950.0  \n",
       "        2018-07-01 ultra             0.0             0.0  1950.0  \n",
       "        2018-08-01 ultra             0.0             0.0  1950.0  \n",
       "        2018-09-01 ultra             0.0             0.0  1950.0  \n",
       "\n",
       "[5 rows x 22 columns]"
      ]
     },
     "execution_count": 62,
     "metadata": {},
     "output_type": "execute_result"
    }
   ],
   "source": [
    "df.head()"
   ]
  },
  {
   "cell_type": "markdown",
   "metadata": {},
   "source": [
    "<strong>Вывод</strong><br>\n",
    "На данном этапе исследования мы подсчитали кол-во выручки для компании с каждого пользователя.<br>\n",
    "1. Для этого мы сначала объединили таблицы с данными по звонкам с таблицей по сообщениям. Затем, получившуюся таблицу мы объединили с данными по потреблению интернета.\n",
    "2. Далее, мы объединили таблицы с тарифами и пользователям.\n",
    "3. Получившуюся таблицу с информацией по пользователям и тарифам мы соединили со сводной таблицей по потреблению звонков, смс и интернета.\n",
    "4. С помощью функций мы добавили столбцы со стоимостью потребленного сверх выбранного тарифа звонками, смс и интернета. В каждой строке учтены те параметры, которые характерны для выбранного пользователем тарифа.\n",
    "5. В столбце income указана суммарная выручка компании по каждому пользователю в месяц."
   ]
  },
  {
   "cell_type": "markdown",
   "metadata": {},
   "source": [
    "### <strong>Вывод по пункту 2</strong>"
   ]
  },
  {
   "cell_type": "markdown",
   "metadata": {},
   "source": [
    "Коротко подведем итоги этапа \"Предобработка данных\".<br>\n",
    "Была создана единая таблица, где для каждого пользователя помесячно указаны данные по выбранному тарифу, кол-ву сделанных звонков, их длительности, потребленному интернет-траффику, отправленным смс. Также в этой таблице указана стоимость выхода за тариф по каждому типу связи и суммарная колонка выручки компании. Данные подготовлены к дальнейшему этапу \"Анализ данных\"."
   ]
  },
  {
   "cell_type": "markdown",
   "metadata": {},
   "source": [
    "## Анализ данных"
   ]
  },
  {
   "cell_type": "markdown",
   "metadata": {},
   "source": [
    "Опишите поведение клиентов оператора, исходя из выборки. Сколько минут разговора, сколько сообщений и какой объём интернет-трафика требуется пользователям каждого тарифа в месяц? Посчитайте среднее количество, дисперсию и стандартное отклонение. Постройте гистограммы. Опишите распределения."
   ]
  },
  {
   "cell_type": "markdown",
   "metadata": {},
   "source": [
    "### Минуты разговора"
   ]
  },
  {
   "cell_type": "markdown",
   "metadata": {},
   "source": [
    "Опишем поведение клиентов в рамках потребления минут разговора."
   ]
  },
  {
   "cell_type": "code",
   "execution_count": 63,
   "metadata": {
    "scrolled": true
   },
   "outputs": [],
   "source": [
    "# удалим дублирующий столбец tariff\n",
    "\n",
    "df = df.drop('tariff',axis=1)"
   ]
  },
  {
   "cell_type": "code",
   "execution_count": 64,
   "metadata": {},
   "outputs": [],
   "source": [
    "# создадим датафреймы под каждый тариф\n",
    "\n",
    "smart = df.query('tariff==\"smart\"')\n",
    "ultra = df.query('tariff==\"ultra\"')"
   ]
  },
  {
   "cell_type": "code",
   "execution_count": 65,
   "metadata": {},
   "outputs": [
    {
     "data": {
      "image/png": "[encoded data removed]",
      "text/plain": [
       "<Figure size 432x288 with 1 Axes>"
      ]
     },
     "metadata": {
      "needs_background": "light"
     },
     "output_type": "display_data"
    }
   ],
   "source": [
    "# гистограмма по тарифу смарт\n",
    "\n",
    "pyplot.hist(smart['calls_duration'], alpha=0.5, label='smart',bins=15)\n",
    "\n",
    "# лимит в 500 бесплатных минут\n",
    "pyplot.axvline(500, color='r', linestyle='-',linewidth=0.6)\n",
    "\n",
    "# легенда\n",
    "pyplot.legend(loc='upper right')\n",
    "\n",
    "# название\n",
    "pyplot.title('calls smart consumption, min')\n",
    "\n",
    "# сетка\n",
    "pyplot.grid(visible=1, linewidth=0.6)"
   ]
  },
  {
   "cell_type": "code",
   "execution_count": 66,
   "metadata": {},
   "outputs": [
    {
     "name": "stdout",
     "output_type": "stream",
     "text": [
      "35844.1895513438\n"
     ]
    }
   ],
   "source": [
    "# посчитаем дисперсию\n",
    "# агрумент ddof=1, т.к. данные являются выборкой\n",
    "\n",
    "# дисперсия по тарифу smart\n",
    "x = smart['calls_duration'] # выборка\n",
    "variance_estimate = np.var(x, ddof=1)\n",
    "print(variance_estimate)"
   ]
  },
  {
   "cell_type": "code",
   "execution_count": 67,
   "metadata": {},
   "outputs": [
    {
     "data": {
      "text/plain": [
       "count    2223.000000\n",
       "mean      419.062978\n",
       "std       189.325618\n",
       "min         0.000000\n",
       "25%       285.000000\n",
       "50%       423.000000\n",
       "75%       545.500000\n",
       "max      1435.000000\n",
       "Name: calls_duration, dtype: float64"
      ]
     },
     "execution_count": 67,
     "metadata": {},
     "output_type": "execute_result"
    }
   ],
   "source": [
    "# тариф смарт, описание распределения\n",
    "\n",
    "smart['calls_duration'].describe()"
   ]
  },
  {
   "cell_type": "markdown",
   "metadata": {},
   "source": [
    "График напоминает нормальное распределение с выбросом в правой части, среднее значение составляет 419 минут, а стандартное отклонение 189 минут.<br> Медиана - 423 минуты.<br>Дисперсиия - 35844. Размах выборки - 1435. Межквартильный размах - 260. <br> Большинство значений расположены до бесплатного лимита в 500 минут."
   ]
  },
  {
   "cell_type": "code",
   "execution_count": 68,
   "metadata": {},
   "outputs": [
    {
     "data": {
      "image/png": "[encoded data removed]",
      "text/plain": [
       "<Figure size 432x288 with 1 Axes>"
      ]
     },
     "metadata": {
      "needs_background": "light"
     },
     "output_type": "display_data"
    }
   ],
   "source": [
    "# гистограмма по тарифу ультра\n",
    "pyplot.hist(ultra['calls_duration'], alpha=0.5, label='ultra',bins=15)\n",
    "\n",
    "# лимит в 3000 бесплатных минут\n",
    "pyplot.axvline(3000, color='r', linestyle='-',linewidth=0.6)\n",
    "\n",
    "# легенда\n",
    "pyplot.legend(loc='upper right')\n",
    "\n",
    "# название\n",
    "pyplot.title('calls ultra consumption, min')\n",
    "\n",
    "# сетка\n",
    "pyplot.grid(visible=1, linewidth=0.6)"
   ]
  },
  {
   "cell_type": "code",
   "execution_count": 69,
   "metadata": {},
   "outputs": [
    {
     "name": "stdout",
     "output_type": "stream",
     "text": [
      "94203.41839614812\n"
     ]
    }
   ],
   "source": [
    "# дисперсия по тарифу ultra\n",
    "y = ultra['calls_duration'] # выборка\n",
    "variance_estimate = np.var(y, ddof=1)\n",
    "print(variance_estimate) "
   ]
  },
  {
   "cell_type": "code",
   "execution_count": 70,
   "metadata": {},
   "outputs": [
    {
     "data": {
      "text/plain": [
       "count     951.000000\n",
       "mean      545.451104\n",
       "std       306.925754\n",
       "min         0.000000\n",
       "25%       310.000000\n",
       "50%       528.000000\n",
       "75%       756.500000\n",
       "max      1673.000000\n",
       "Name: calls_duration, dtype: float64"
      ]
     },
     "execution_count": 70,
     "metadata": {},
     "output_type": "execute_result"
    }
   ],
   "source": [
    "# тариф ультра, описание распределения\n",
    "ultra['calls_duration'].describe()"
   ]
  },
  {
   "cell_type": "markdown",
   "metadata": {},
   "source": [
    "График тарифа ультра более равномерно распределен, есть выбросы в правой части, среднее значение составляет 545 минут, а стандартное отклонение 306 минут. <br> Медиана - 528 минут.<br>Дисперсия - 94203 минут. Размах выборки - 1673 мин. Межквартильный размах - 446 мин. <br> Ни один пользователь не превысил бесплатный лимит по звонкам."
   ]
  },
  {
   "cell_type": "code",
   "execution_count": 71,
   "metadata": {
    "scrolled": true
   },
   "outputs": [
    {
     "data": {
      "image/png": "[encoded data removed]",
      "text/plain": [
       "<Figure size 432x288 with 1 Axes>"
      ]
     },
     "metadata": {
      "needs_background": "light"
     },
     "output_type": "display_data"
    }
   ],
   "source": [
    "# выведем гистограммы для каждого из тарифов по потреблению телефонных звонков\n",
    "pyplot.hist(smart['calls_duration'], alpha=0.5, label='smart',bins=10)\n",
    "pyplot.hist(ultra['calls_duration'], alpha=0.5, label='ultra',bins=10)\n",
    "\n",
    "# добавим линию лимита бесплатных телефонных звонков по тарифу smart\n",
    "pyplot.axvline(500, color='r', linestyle='-',linewidth=0.6)\n",
    "\n",
    "# добавим легенду\n",
    "pyplot.legend(loc='upper right')\n",
    "\n",
    "# добавим название\n",
    "pyplot.title('calls consumption, min')\n",
    "\n",
    "# сетка\n",
    "pyplot.grid(visible=1, linewidth=0.6)"
   ]
  },
  {
   "cell_type": "markdown",
   "metadata": {},
   "source": [
    "График с потреблением звонков по двум тарифам и лимитом бесплатных звонков в 500 минут по тарифу smart."
   ]
  },
  {
   "cell_type": "markdown",
   "metadata": {},
   "source": [
    "<strong>Вывод:</strong><br>\n",
    "Размер выборки тарифа smart в 2 раза выше, чем у тарифа ultra, тем не менее, среднее значение и медиана по тарифу ультра выше, чем по тарифу смарт. <br> Среднее значение по выборке для тарифа смарт составляет 83% от бесплатного лимита, в то время как по тарифу ультра среднее значение занимает всего 18% от бесплатного лимита. Т.е. можно сделать вывод, что пользователи тарифа ультра не ставят в приоритет большой лимит по звонкам при выборе тарифа, а пользователи smart активнее пользуются бесплатным лимитом.<br> Выборка по тарифу smart более скученная, стандартное отклонение и дисперсия сильно ниже, чем у тарифа ультра."
   ]
  },
  {
   "cell_type": "markdown",
   "metadata": {},
   "source": [
    "### Сообщения"
   ]
  },
  {
   "cell_type": "markdown",
   "metadata": {},
   "source": [
    "Теперь рассмотрим потребление сообщений по обоим тарифам. Для этого построим гистограммы по каждому тарифу и опишем распределения."
   ]
  },
  {
   "cell_type": "code",
   "execution_count": 72,
   "metadata": {},
   "outputs": [
    {
     "data": {
      "image/png": "[encoded data removed]",
      "text/plain": [
       "<Figure size 432x288 with 1 Axes>"
      ]
     },
     "metadata": {
      "needs_background": "light"
     },
     "output_type": "display_data"
    }
   ],
   "source": [
    "# гистограмма по тарифу смарт\n",
    "pyplot.hist(smart['messages_count'], alpha=0.5, label='smart',bins=10)\n",
    "\n",
    "# лимит бесплатного тарифа\n",
    "pyplot.axvline(50, color='r', linestyle='-',linewidth=0.6)\n",
    "\n",
    "# легенда\n",
    "pyplot.legend(loc='upper right')\n",
    "\n",
    "# название\n",
    "pyplot.title('messages smart consumption, pcs')\n",
    "\n",
    "# сетка\n",
    "pyplot.grid(visible=1, linewidth=0.6)"
   ]
  },
  {
   "cell_type": "code",
   "execution_count": 73,
   "metadata": {},
   "outputs": [
    {
     "name": "stdout",
     "output_type": "stream",
     "text": [
      "717.5942011753547\n"
     ]
    }
   ],
   "source": [
    "# посчитаем дисперсию\n",
    "# агрумент ddof=1, т.к. данные являются выборкой\n",
    "\n",
    "# дисперсия по тарифу smart\n",
    "x = smart['messages_count'] # выборка\n",
    "variance_estimate = np.var(x, ddof=1)\n",
    "print(variance_estimate)"
   ]
  },
  {
   "cell_type": "code",
   "execution_count": 74,
   "metadata": {},
   "outputs": [
    {
     "data": {
      "text/plain": [
       "count    1922.000000\n",
       "mean       38.716441\n",
       "std        26.787949\n",
       "min         1.000000\n",
       "25%        17.000000\n",
       "50%        34.000000\n",
       "75%        55.000000\n",
       "max       143.000000\n",
       "Name: messages_count, dtype: float64"
      ]
     },
     "execution_count": 74,
     "metadata": {},
     "output_type": "execute_result"
    }
   ],
   "source": [
    "# тариф смарт, описание распределения\n",
    "\n",
    "smart['messages_count'].describe()"
   ]
  },
  {
   "cell_type": "markdown",
   "metadata": {},
   "source": [
    "График стремится к распределнию Пуассона с затуханием в правой части.<br> Среднее значение - 38 сообщений.<br> Медиана - 34.<br> Стандарнтное отклонение - 26.7, дисперсия - 717. <br>Размах выборки - 142.<br> Основная часть пользователей находится до бесплатного лимита в 50 сообщений. Есть выбросы в правой части графика."
   ]
  },
  {
   "cell_type": "code",
   "execution_count": 75,
   "metadata": {},
   "outputs": [
    {
     "data": {
      "image/png": "[encoded data removed]",
      "text/plain": [
       "<Figure size 432x288 with 1 Axes>"
      ]
     },
     "metadata": {
      "needs_background": "light"
     },
     "output_type": "display_data"
    }
   ],
   "source": [
    "# гистограмма по тарифу ультра\n",
    "pyplot.hist(ultra['messages_count'], alpha=0.5, label='ultra',bins=10)\n",
    "\n",
    "# легенда\n",
    "pyplot.legend(loc='upper right')\n",
    "\n",
    "# название\n",
    "pyplot.title('messages ultra consumption, pcs')\n",
    "\n",
    "# сетка\n",
    "pyplot.grid(visible=1, linewidth=0.6)"
   ]
  },
  {
   "cell_type": "code",
   "execution_count": 76,
   "metadata": {},
   "outputs": [
    {
     "name": "stdout",
     "output_type": "stream",
     "text": [
      "2109.6591828651995\n"
     ]
    }
   ],
   "source": [
    "# дисперсия по тарифу ultra\n",
    "y = ultra['messages_count'] # выборка\n",
    "variance_estimate = np.var(y, ddof=1)\n",
    "print(variance_estimate)"
   ]
  },
  {
   "cell_type": "code",
   "execution_count": 77,
   "metadata": {},
   "outputs": [
    {
     "data": {
      "text/plain": [
       "count    795.000000\n",
       "mean      61.161006\n",
       "std       45.931026\n",
       "min        1.000000\n",
       "25%       24.000000\n",
       "50%       51.000000\n",
       "75%       87.500000\n",
       "max      224.000000\n",
       "Name: messages_count, dtype: float64"
      ]
     },
     "execution_count": 77,
     "metadata": {},
     "output_type": "execute_result"
    }
   ],
   "source": [
    "# тариф ультра, описание распределения\n",
    "ultra['messages_count'].describe()"
   ]
  },
  {
   "cell_type": "markdown",
   "metadata": {},
   "source": [
    "График стремится к распределнию Пуассона с затуханием в правой части.<br> Среднее значение - 61 сообщение.<br> Медиана - 51.<br> Стандарнтное отклонение - 46, дисперсия - 2109. <br>Размах выборки - 223.<br> Все пользователи находятся до бесплатного порога в 1000 сообщений. "
   ]
  },
  {
   "cell_type": "code",
   "execution_count": 78,
   "metadata": {
    "scrolled": true
   },
   "outputs": [
    {
     "data": {
      "image/png": "[encoded data removed]",
      "text/plain": [
       "<Figure size 432x288 with 1 Axes>"
      ]
     },
     "metadata": {
      "needs_background": "light"
     },
     "output_type": "display_data"
    }
   ],
   "source": [
    "# выведем гистограммы для каждого из тарифов по потреблению телефонных звонков\n",
    "pyplot.hist(smart['messages_count'], alpha=0.5, label='smart',bins=10)\n",
    "pyplot.hist(ultra['messages_count'], alpha=0.5, label='ultra',bins=10)\n",
    "\n",
    "# добавим линию лимита бесплатных телефонных звонков по тарифу smart\n",
    "pyplot.axvline(50, color='r', linestyle='-', linewidth=0.6)\n",
    "\n",
    "# добавим легенду\n",
    "pyplot.legend(loc='upper right')\n",
    "\n",
    "# добавим название\n",
    "pyplot.title('messages consumption, pcs')\n",
    "\n",
    "# cетка\n",
    "pyplot.grid(visible=1, linewidth=0.6)"
   ]
  },
  {
   "cell_type": "markdown",
   "metadata": {},
   "source": [
    "График с потреблением по двум тарифам и лимитом в 50 смс по тарифу smart."
   ]
  },
  {
   "cell_type": "markdown",
   "metadata": {},
   "source": [
    "Распределение по тарифу смарт более скученное, нежели по тарифу ультра (стандартное отклонение по тарифу ультра почти в 2 раза выше чем у тарифа смарт). Среднее значение по тарифу смарт составляет 76% от доступного бесплатного лимита, а по тарифу ультра - всего 6%."
   ]
  },
  {
   "cell_type": "markdown",
   "metadata": {},
   "source": [
    "<strong>Вывод:</strong><br>\n",
    "Распределение по обоим тарифам стремится к распределению Пуассона с затуханием справа. Данные по тарифу смарт более скученные, хвост в правой части гистограммы короче. Пользователи тарифа смарт более активно пользуются возможностями бесплатного лимита."
   ]
  },
  {
   "cell_type": "markdown",
   "metadata": {},
   "source": [
    "### Интернет"
   ]
  },
  {
   "cell_type": "markdown",
   "metadata": {},
   "source": [
    "Теперь рассмотрим распределения потребления по тарифам на интернет. Процедура аналогична предыдущим шагам."
   ]
  },
  {
   "cell_type": "code",
   "execution_count": 79,
   "metadata": {},
   "outputs": [
    {
     "data": {
      "image/png": "[encoded data removed]",
      "text/plain": [
       "<Figure size 432x288 with 1 Axes>"
      ]
     },
     "metadata": {
      "needs_background": "light"
     },
     "output_type": "display_data"
    }
   ],
   "source": [
    "# гистограмма по тарифу смарт\n",
    "pyplot.hist(smart['gb_used'], alpha=0.5, label='smart', bins=10)\n",
    "\n",
    "# лимит бесплатного тарифа\n",
    "pyplot.axvline(15, color='r', linestyle='-', linewidth=0.6)\n",
    "\n",
    "# легенда\n",
    "pyplot.legend(loc='upper right')\n",
    "\n",
    "# название\n",
    "pyplot.title('internet smart consumption, gb')\n",
    "\n",
    "# сетка\n",
    "pyplot.grid(visible=1, linewidth=0.6)"
   ]
  },
  {
   "cell_type": "code",
   "execution_count": 80,
   "metadata": {},
   "outputs": [
    {
     "name": "stdout",
     "output_type": "stream",
     "text": [
      "32.92375582354312\n"
     ]
    }
   ],
   "source": [
    "# посчитаем дисперсию\n",
    "# агрумент ddof=1, т.к. данные являются выборкой\n",
    "\n",
    "# дисперсия по тарифу smart\n",
    "x = smart['gb_used'] # выборка\n",
    "variance_estimate = np.var(x, ddof=1)\n",
    "print(variance_estimate)"
   ]
  },
  {
   "cell_type": "code",
   "execution_count": 81,
   "metadata": {},
   "outputs": [
    {
     "data": {
      "text/plain": [
       "count    2228.000000\n",
       "mean       16.336176\n",
       "std         5.737923\n",
       "min         0.000000\n",
       "25%        13.000000\n",
       "50%        17.000000\n",
       "75%        20.000000\n",
       "max        38.000000\n",
       "Name: gb_used, dtype: float64"
      ]
     },
     "execution_count": 81,
     "metadata": {},
     "output_type": "execute_result"
    }
   ],
   "source": [
    "# тариф смарт, описание распределения\n",
    "\n",
    "smart['gb_used'].describe()"
   ]
  },
  {
   "cell_type": "markdown",
   "metadata": {},
   "source": [
    "График стремится к нормальному распределнию.<br> Среднее значение - 16 гб.<br> Медиана - 17.<br> Стандарнтное отклонение - 5.7, дисперсия - 33. <br>Размах выборки - 38.<br> Большая часть пользователей превышает по потреблению бесплатный лимит в 15 гб."
   ]
  },
  {
   "cell_type": "code",
   "execution_count": 82,
   "metadata": {
    "scrolled": true
   },
   "outputs": [
    {
     "data": {
      "image/png": "[encoded data removed]",
      "text/plain": [
       "<Figure size 432x288 with 1 Axes>"
      ]
     },
     "metadata": {
      "needs_background": "light"
     },
     "output_type": "display_data"
    }
   ],
   "source": [
    "# гистограмма по тарифу ультра\n",
    "pyplot.hist(ultra['gb_used'], alpha=0.5, label='ultra', bins=10)\n",
    "\n",
    "# легенда\n",
    "pyplot.legend(loc='upper right')\n",
    "\n",
    "# лимит бесплатного тарифа ultra\n",
    "pyplot.axvline(30, color='r', linestyle='-', linewidth=0.6)\n",
    "\n",
    "# название\n",
    "pyplot.title('internet ultra consumption, gb')\n",
    "\n",
    "# сетка\n",
    "pyplot.grid(visible=1, linewidth=0.6)"
   ]
  },
  {
   "cell_type": "code",
   "execution_count": 83,
   "metadata": {},
   "outputs": [
    {
     "name": "stdout",
     "output_type": "stream",
     "text": [
      "94.14673405991682\n"
     ]
    }
   ],
   "source": [
    "# дисперсия по тарифу ultra\n",
    "y = ultra['gb_used'] # выборка\n",
    "variance_estimate = np.var(y, ddof=1)\n",
    "print(variance_estimate)"
   ]
  },
  {
   "cell_type": "code",
   "execution_count": 84,
   "metadata": {},
   "outputs": [
    {
     "data": {
      "text/plain": [
       "count    975.000000\n",
       "mean      19.694359\n",
       "std        9.702924\n",
       "min        0.000000\n",
       "25%       12.000000\n",
       "50%       19.000000\n",
       "75%       27.000000\n",
       "max       49.000000\n",
       "Name: gb_used, dtype: float64"
      ]
     },
     "execution_count": 84,
     "metadata": {},
     "output_type": "execute_result"
    }
   ],
   "source": [
    "# тариф ультра, описание распределения\n",
    "\n",
    "ultra['gb_used'].describe()"
   ]
  },
  {
   "cell_type": "markdown",
   "metadata": {},
   "source": [
    "График стремится к нормальному распределнию.<br> Среднее значение - 19.6 гб.<br> Медиана - 19.<br> Стандартное отклонение - 9.7, дисперсия - 94. <br>Размах выборки - 49.<br> Большая часть пользователей не превышает по потреблению бесплатный лимит в 30 гб."
   ]
  },
  {
   "cell_type": "code",
   "execution_count": 85,
   "metadata": {
    "scrolled": true
   },
   "outputs": [
    {
     "data": {
      "image/png": "[encoded data removed]",
      "text/plain": [
       "<Figure size 432x288 with 1 Axes>"
      ]
     },
     "metadata": {
      "needs_background": "light"
     },
     "output_type": "display_data"
    }
   ],
   "source": [
    "# выведем гистограммы для каждого из тарифов по потреблению телефонных звонков\n",
    "pyplot.hist(smart['gb_used'], alpha=0.5, label='smart',bins=10)\n",
    "pyplot.hist(ultra['gb_used'], alpha=0.5, label='ultra',bins=10)\n",
    "\n",
    "# добавим линию лимита бесплатных телефонных звонков по тарифу smart\n",
    "pyplot.axvline(30, color='r', linestyle='-',linewidth=0.6)\n",
    "pyplot.axvline(15, color='b', linestyle='-',linewidth=0.6)\n",
    "\n",
    "# добавим легенду\n",
    "pyplot.legend(loc='upper right')\n",
    "\n",
    "# добавим название\n",
    "pyplot.title('internet consumption, gb')\n",
    "\n",
    "# cетка\n",
    "pyplot.grid(visible=1, linewidth=0.6)"
   ]
  },
  {
   "cell_type": "markdown",
   "metadata": {},
   "source": [
    "График потребления трафика по обоим тарифам с указанием лимита бесплатных ГБ интернета."
   ]
  },
  {
   "cell_type": "markdown",
   "metadata": {},
   "source": [
    "Оба графика стремятся к нормальному распределению, однако данные по тарифу смарт более скученные, дисперсия и стандартное отклонение ниже, чем у тарифа ультра."
   ]
  },
  {
   "cell_type": "markdown",
   "metadata": {},
   "source": [
    "<strong>Вывод:</strong><br>\n",
    "<br>Потребление по интернету и звонкам обоих тарифов стремится к нормальному распределению, потребление по сообщениям стремится к распределению Пуассона с затуханием справа. \n",
    "\n",
    "<br>Пользователи тарифа смарт практически полностью используют возможности бесплатных лимитов по всем типам связи, в то время как юзеры тарифа ультра по звонкам и смс используют лишь малую долю возможностей бесплатных лимитов.<br>\n",
    "\n",
    "Самое большое среднее кол-во потребления по тарифу ультра обнаружено по потреблению интернета. Можно сделать вывод, что пользователи данного тарифа выбирают его за расширенный лимит по интернету, не обращая внимание на расширенные пакеты смс и звонков. Поэтому для компании имеется возможность сократить пакеты бесплатных смс и звонков для пользователей тарифа ультра без потери аудитории. Это позволит немного снизить стоимость данного тарифа и он станет более привлекательным для пользователей тарифа смарт."
   ]
  },
  {
   "cell_type": "markdown",
   "metadata": {},
   "source": [
    "## Проверка гипотез"
   ]
  },
  {
   "cell_type": "markdown",
   "metadata": {},
   "source": [
    "На данном этапе нам нужно проверить две гипотезы:<br>\n",
    "1. средняя выручка пользователей тарифов «Ультра» и «Смарт» различаются;<br>\n",
    "2. средняя выручка пользователей из Москвы отличается от выручки пользователей из других регионов.<br>\n",
    "\n",
    "Пороговое значение alpha возьмем 0.05."
   ]
  },
  {
   "cell_type": "markdown",
   "metadata": {},
   "source": [
    "### Cредняя выручка пользователей тарифов «Ультра» и «Смарт» различается"
   ]
  },
  {
   "cell_type": "markdown",
   "metadata": {},
   "source": [
    "Нулевая гипотеза - средняя выручка от тарифа ультра равна средней выручке от тарифа смарт. <br>\n",
    "Альтернативная - средняя выручка от тарифа ультра отличается от средней выручки от тарифа смарт"
   ]
  },
  {
   "cell_type": "code",
   "execution_count": 86,
   "metadata": {},
   "outputs": [
    {
     "name": "stdout",
     "output_type": "stream",
     "text": [
      "141516.7450786183\n"
     ]
    }
   ],
   "source": [
    "# дисперсия по выручке от тарифа ультра\n",
    "x = ultra['income'] # совокупность\n",
    "variance = np.var(x, ddof=1) # параметр ddof=1, т.к. датасет - выборка\n",
    "print(variance) "
   ]
  },
  {
   "cell_type": "code",
   "execution_count": 87,
   "metadata": {},
   "outputs": [
    {
     "name": "stdout",
     "output_type": "stream",
     "text": [
      "669785.7080064242\n"
     ]
    }
   ],
   "source": [
    "# дисперсия по выручке от тарифа смарт\n",
    "x = smart['income'] # совокупность\n",
    "variance = np.var(x, ddof=1) # параметр ddof=1, т.к. датасет - выборка\n",
    "print(variance) "
   ]
  },
  {
   "cell_type": "markdown",
   "metadata": {},
   "source": [
    "Разница между дисперсиями велика, да и количество пользователей на разных тарифах разное, т.е. для проверки нулевой гипотезы указываем параметр \"equal_var = False\"."
   ]
  },
  {
   "cell_type": "markdown",
   "metadata": {},
   "source": [
    "Применим метод для проверки гипотезы о равенстве среднего двух генеральных совокупностей по взятым из них выборкам:"
   ]
  },
  {
   "cell_type": "code",
   "execution_count": 88,
   "metadata": {},
   "outputs": [
    {
     "name": "stdout",
     "output_type": "stream",
     "text": [
      "p-значение:  4.2606313931076085e-250\n",
      "Отвергаем нулевую гипотезу\n"
     ]
    }
   ],
   "source": [
    "sample_1 = smart['income']\n",
    "sample_2 = ultra['income']\n",
    "\n",
    "alpha = .05 # критический уровень статистической значимости\n",
    "\n",
    "\n",
    "results = st.ttest_ind(\n",
    "    sample_1, \n",
    "    sample_2,\n",
    "equal_var = False)\n",
    "\n",
    "print('p-значение: ', results.pvalue) \n",
    "\n",
    "if results.pvalue < alpha:\n",
    "    print(\"Отвергаем нулевую гипотезу\")\n",
    "else:\n",
    "    print(\"Не получилось отвергнуть нулевую гипотезу\") "
   ]
  },
  {
   "cell_type": "markdown",
   "metadata": {},
   "source": [
    "Полученное значение p-value говорит о том, что выборка нерепрезентативна и связи между средними выручками по 2 тарифам нет. Нулевая гипотеза должна быть отвергнута. Таким образом, выбор тарифа влияет на размер выручки компании."
   ]
  },
  {
   "cell_type": "markdown",
   "metadata": {},
   "source": [
    "### Средняя выручка пользователей из Москвы отличается от выручки пользователей из других регионов"
   ]
  },
  {
   "cell_type": "markdown",
   "metadata": {},
   "source": [
    "Нулевая гипотеза: средняя выручка пользователей из Москвы равна средней выручке пользователей из других регионов<br>\n",
    "Альтернативная гипотеза: средняя выручка пользователей из Москвы не равна средней выручке пользователей из регионов"
   ]
  },
  {
   "cell_type": "code",
   "execution_count": 89,
   "metadata": {},
   "outputs": [],
   "source": [
    "# создадим 2 датафрейма для Москвы и остальных регионов\n",
    "msk_income=df.query('city== \"Москва\"')\n",
    "other_income=df.query('city!= \"Москва\"')"
   ]
  },
  {
   "cell_type": "code",
   "execution_count": 90,
   "metadata": {},
   "outputs": [
    {
     "name": "stdout",
     "output_type": "stream",
     "text": [
      "565636.467011886\n"
     ]
    }
   ],
   "source": [
    "# дисперсия по выручке в Москве\n",
    "x = msk_income['income'] # совокупность\n",
    "variance = np.var(x, ddof=1) # параметр ddof=1, т.к. датасет - выборка\n",
    "print(variance) "
   ]
  },
  {
   "cell_type": "code",
   "execution_count": 91,
   "metadata": {
    "scrolled": true
   },
   "outputs": [
    {
     "name": "stdout",
     "output_type": "stream",
     "text": [
      "654137.6285218114\n"
     ]
    }
   ],
   "source": [
    "# дисперсия по средней выручке в других населенных пунктах\n",
    "x = other_income['income'] # совокупность\n",
    "variance = np.var(x, ddof=1) # параметр ddof=1, т.к. датасет - выборка\n",
    "print(variance) "
   ]
  },
  {
   "cell_type": "markdown",
   "metadata": {},
   "source": [
    "Разница между дисперсиями велика, т.е. для проверки нулевой гипотезы указываем параметр \"equal_var = False\"."
   ]
  },
  {
   "cell_type": "markdown",
   "metadata": {},
   "source": [
    "Снова применим метод для проверки гипотезы о равенстве среднего двух генеральных совокупностей по взятым из них выборкам:"
   ]
  },
  {
   "cell_type": "code",
   "execution_count": 92,
   "metadata": {},
   "outputs": [
    {
     "name": "stdout",
     "output_type": "stream",
     "text": [
      "p-значение:  0.5257376663729298\n",
      "Не получилось отвергнуть нулевую гипотезу\n"
     ]
    }
   ],
   "source": [
    "sample_1 = msk_income['income']\n",
    "sample_2 = other_income['income']\n",
    "\n",
    "alpha = .05 # критический уровень статистической значимости\n",
    "\n",
    "results = st.ttest_ind(\n",
    "    sample_1, \n",
    "    sample_2,\n",
    "equal_var = False)\n",
    "\n",
    "print('p-значение: ', results.pvalue) \n",
    "\n",
    "if results.pvalue < alpha:\n",
    "    print(\"Отвергаем нулевую гипотезу\")\n",
    "else:\n",
    "    print(\"Не получилось отвергнуть нулевую гипотезу\")  "
   ]
  },
  {
   "cell_type": "markdown",
   "metadata": {},
   "source": [
    "<strong>Вывод:</strong><br>\n",
    "Результаты теста показывают, что нулевая гипотеза о том, что средняя выручка по пользователям в Москве равна средней выручке по пользователям из регионов не отвергнута. Следовательно, выручка компании не зависит от населенного пункта, в котором зарегистрирован клиент."
   ]
  },
  {
   "cell_type": "markdown",
   "metadata": {},
   "source": [
    "## Общий вывод"
   ]
  },
  {
   "cell_type": "markdown",
   "metadata": {},
   "source": [
    "В данном исследовании мы провели большую работу по анализу выборки потребления услуг пользователей тарифов Ультра и Смарт. <br>\n",
    "\n",
    "1. С помощью нескольких источников мы сформировали единую сводную таблицу\n",
    "2. Выполнили предобработку данных\n",
    "3. Выяснили, сколько денег получает компания с каждого пользователя в зависимости от его потребления и выбранного тарифа.\n",
    "4. Проанализировали распределения каждого типа связи, нашли среднее.\n",
    "5. Проверили 2 гипотезы, связанные с выбором тарифа и выручкой компании, а также влияет ли выбор региона на объем прибыли компании.<br>\n",
    "\n",
    "В результате проведенного исследования можно сделать вывод, что для компании тариф \"ультра\" является более выгодным: это показала и первая отвергнутая гипотеза о равенстве тарифов по выручке, и тот факт, что пользователи данного тарифа сравнительно мало используют бесплатные лимиты. Однако, количество пользователей у тарифа смарт выше. Влияние региона на выручку компании не выявлено, возможно, в регионах пользователи предпочитают меньший ежемесячный тариф, но готовы переплатить за выход из бесплатного лимита, в то время как в Москве клиенты готовы платить за тариф больше, но быть уверенными, что доступных лимитов хватит на месяц."
   ]
  }
 ],
 "metadata": {
  "ExecuteTimeLog": [
   {
    "duration": 668,
    "start_time": "2022-02-20T10:25:52.448Z"
   },
   {
    "duration": 176,
    "start_time": "2022-02-20T10:26:27.599Z"
   },
   {
    "duration": 95,
    "start_time": "2022-02-20T10:27:10.991Z"
   },
   {
    "duration": 198,
    "start_time": "2022-02-20T10:27:11.544Z"
   },
   {
    "duration": 12,
    "start_time": "2022-02-20T10:27:12.054Z"
   },
   {
    "duration": 18,
    "start_time": "2022-02-20T10:27:37.439Z"
   },
   {
    "duration": 37,
    "start_time": "2022-02-20T10:28:02.044Z"
   },
   {
    "duration": 11,
    "start_time": "2022-02-20T10:28:03.695Z"
   },
   {
    "duration": 9,
    "start_time": "2022-02-20T10:28:19.901Z"
   },
   {
    "duration": 16,
    "start_time": "2022-02-20T10:28:21.034Z"
   },
   {
    "duration": 18,
    "start_time": "2022-02-20T10:28:32.000Z"
   },
   {
    "duration": 24,
    "start_time": "2022-02-20T10:28:37.768Z"
   },
   {
    "duration": 10,
    "start_time": "2022-02-20T10:28:50.444Z"
   },
   {
    "duration": 21,
    "start_time": "2022-02-20T10:28:50.888Z"
   },
   {
    "duration": 10,
    "start_time": "2022-02-20T10:29:00.743Z"
   },
   {
    "duration": 9,
    "start_time": "2022-02-20T10:29:02.039Z"
   },
   {
    "duration": 8,
    "start_time": "2022-02-20T10:30:45.307Z"
   },
   {
    "duration": 20,
    "start_time": "2022-02-20T10:30:47.469Z"
   },
   {
    "duration": 10,
    "start_time": "2022-02-20T10:30:48.216Z"
   },
   {
    "duration": 7,
    "start_time": "2022-02-20T10:30:49.395Z"
   },
   {
    "duration": 163,
    "start_time": "2022-02-20T10:30:50.492Z"
   },
   {
    "duration": 10,
    "start_time": "2022-02-20T10:30:51.370Z"
   },
   {
    "duration": 95,
    "start_time": "2022-02-20T10:30:52.783Z"
   },
   {
    "duration": 24,
    "start_time": "2022-02-20T10:30:54.444Z"
   },
   {
    "duration": 59,
    "start_time": "2022-02-20T10:36:13.534Z"
   },
   {
    "duration": 40,
    "start_time": "2022-02-20T10:37:29.453Z"
   },
   {
    "duration": 47,
    "start_time": "2022-02-20T10:37:44.675Z"
   },
   {
    "duration": 361,
    "start_time": "2022-02-20T10:41:05.171Z"
   },
   {
    "duration": 273,
    "start_time": "2022-02-20T10:41:23.964Z"
   },
   {
    "duration": 880,
    "start_time": "2022-02-20T10:41:31.895Z"
   },
   {
    "duration": 19,
    "start_time": "2022-02-20T10:41:32.777Z"
   },
   {
    "duration": 23,
    "start_time": "2022-02-20T10:41:32.798Z"
   },
   {
    "duration": 28,
    "start_time": "2022-02-20T10:41:32.823Z"
   },
   {
    "duration": 204,
    "start_time": "2022-02-20T10:41:32.854Z"
   },
   {
    "duration": 13,
    "start_time": "2022-02-20T10:41:33.062Z"
   },
   {
    "duration": 42,
    "start_time": "2022-02-20T10:41:33.077Z"
   },
   {
    "duration": 106,
    "start_time": "2022-02-20T10:41:33.124Z"
   },
   {
    "duration": 9,
    "start_time": "2022-02-20T10:41:33.232Z"
   },
   {
    "duration": 32,
    "start_time": "2022-02-20T10:41:33.243Z"
   },
   {
    "duration": 172,
    "start_time": "2022-02-20T10:41:33.278Z"
   },
   {
    "duration": 9,
    "start_time": "2022-02-20T10:41:33.453Z"
   },
   {
    "duration": 22,
    "start_time": "2022-02-20T10:41:33.464Z"
   },
   {
    "duration": 24,
    "start_time": "2022-02-20T10:41:33.489Z"
   },
   {
    "duration": 14,
    "start_time": "2022-02-20T10:41:33.515Z"
   },
   {
    "duration": 12,
    "start_time": "2022-02-20T10:41:33.531Z"
   },
   {
    "duration": 89,
    "start_time": "2022-02-20T10:41:33.545Z"
   },
   {
    "duration": 443,
    "start_time": "2022-02-20T10:41:33.636Z"
   },
   {
    "duration": -44,
    "start_time": "2022-02-20T10:41:34.125Z"
   },
   {
    "duration": 117,
    "start_time": "2022-02-20T10:42:54.582Z"
   },
   {
    "duration": 291,
    "start_time": "2022-02-20T10:43:09.713Z"
   },
   {
    "duration": 295,
    "start_time": "2022-02-20T10:43:24.591Z"
   },
   {
    "duration": 46,
    "start_time": "2022-02-20T10:45:13.875Z"
   },
   {
    "duration": 16,
    "start_time": "2022-02-20T10:45:16.232Z"
   },
   {
    "duration": 5,
    "start_time": "2022-02-20T11:44:12.032Z"
   },
   {
    "duration": 12,
    "start_time": "2022-02-20T11:44:12.692Z"
   },
   {
    "duration": 9,
    "start_time": "2022-02-20T11:44:19.131Z"
   },
   {
    "duration": 5,
    "start_time": "2022-02-20T11:44:52.035Z"
   },
   {
    "duration": 6,
    "start_time": "2022-02-20T11:47:57.306Z"
   },
   {
    "duration": 10,
    "start_time": "2022-02-20T11:48:02.659Z"
   },
   {
    "duration": 8,
    "start_time": "2022-02-20T11:51:46.319Z"
   },
   {
    "duration": 9,
    "start_time": "2022-02-20T11:51:48.329Z"
   },
   {
    "duration": 627,
    "start_time": "2022-02-20T11:51:54.755Z"
   },
   {
    "duration": 19,
    "start_time": "2022-02-20T11:51:55.384Z"
   },
   {
    "duration": 23,
    "start_time": "2022-02-20T11:51:55.409Z"
   },
   {
    "duration": 8,
    "start_time": "2022-02-20T11:51:55.433Z"
   },
   {
    "duration": 12,
    "start_time": "2022-02-20T11:51:55.443Z"
   },
   {
    "duration": 13,
    "start_time": "2022-02-20T11:51:55.457Z"
   },
   {
    "duration": 192,
    "start_time": "2022-02-20T11:51:55.472Z"
   },
   {
    "duration": 10,
    "start_time": "2022-02-20T11:51:55.667Z"
   },
   {
    "duration": 40,
    "start_time": "2022-02-20T11:51:55.680Z"
   },
   {
    "duration": 7,
    "start_time": "2022-02-20T11:51:55.722Z"
   },
   {
    "duration": 11,
    "start_time": "2022-02-20T11:51:55.731Z"
   },
   {
    "duration": 125,
    "start_time": "2022-02-20T11:51:55.744Z"
   },
   {
    "duration": 9,
    "start_time": "2022-02-20T11:51:55.871Z"
   },
   {
    "duration": 33,
    "start_time": "2022-02-20T11:51:55.882Z"
   },
   {
    "duration": 158,
    "start_time": "2022-02-20T11:51:55.918Z"
   },
   {
    "duration": 11,
    "start_time": "2022-02-20T11:51:56.078Z"
   },
   {
    "duration": 39,
    "start_time": "2022-02-20T11:51:56.091Z"
   },
   {
    "duration": 12,
    "start_time": "2022-02-20T11:51:56.132Z"
   },
   {
    "duration": 13,
    "start_time": "2022-02-20T11:51:56.146Z"
   },
   {
    "duration": 11,
    "start_time": "2022-02-20T11:51:56.161Z"
   },
   {
    "duration": 104,
    "start_time": "2022-02-20T11:51:56.174Z"
   },
   {
    "duration": 109,
    "start_time": "2022-02-20T11:51:56.281Z"
   },
   {
    "duration": 59,
    "start_time": "2022-02-20T11:51:56.392Z"
   },
   {
    "duration": 15,
    "start_time": "2022-02-20T11:51:56.453Z"
   },
   {
    "duration": 5,
    "start_time": "2022-02-20T11:52:29.467Z"
   },
   {
    "duration": 10,
    "start_time": "2022-02-20T11:52:30.956Z"
   },
   {
    "duration": 6,
    "start_time": "2022-02-20T11:53:11.149Z"
   },
   {
    "duration": 20,
    "start_time": "2022-02-20T11:55:12.976Z"
   },
   {
    "duration": 15,
    "start_time": "2022-02-20T11:55:16.461Z"
   },
   {
    "duration": 3,
    "start_time": "2022-02-20T11:55:36.111Z"
   },
   {
    "duration": 2,
    "start_time": "2022-02-20T11:55:50.820Z"
   },
   {
    "duration": 25,
    "start_time": "2022-02-20T11:57:41.120Z"
   },
   {
    "duration": 634,
    "start_time": "2022-02-20T11:59:01.433Z"
   },
   {
    "duration": 18,
    "start_time": "2022-02-20T11:59:02.069Z"
   },
   {
    "duration": 49,
    "start_time": "2022-02-20T11:59:02.090Z"
   },
   {
    "duration": 26,
    "start_time": "2022-02-20T11:59:02.142Z"
   },
   {
    "duration": 21,
    "start_time": "2022-02-20T11:59:02.170Z"
   },
   {
    "duration": 18,
    "start_time": "2022-02-20T11:59:02.194Z"
   },
   {
    "duration": 184,
    "start_time": "2022-02-20T11:59:02.214Z"
   },
   {
    "duration": 9,
    "start_time": "2022-02-20T11:59:02.400Z"
   },
   {
    "duration": 82,
    "start_time": "2022-02-20T11:59:02.412Z"
   },
   {
    "duration": 34,
    "start_time": "2022-02-20T11:59:02.497Z"
   },
   {
    "duration": 23,
    "start_time": "2022-02-20T11:59:02.534Z"
   },
   {
    "duration": 167,
    "start_time": "2022-02-20T11:59:02.560Z"
   },
   {
    "duration": 10,
    "start_time": "2022-02-20T11:59:02.729Z"
   },
   {
    "duration": 26,
    "start_time": "2022-02-20T11:59:02.742Z"
   },
   {
    "duration": 40,
    "start_time": "2022-02-20T11:59:02.770Z"
   },
   {
    "duration": 147,
    "start_time": "2022-02-20T11:59:02.813Z"
   },
   {
    "duration": 9,
    "start_time": "2022-02-20T11:59:02.962Z"
   },
   {
    "duration": 40,
    "start_time": "2022-02-20T11:59:02.973Z"
   },
   {
    "duration": 26,
    "start_time": "2022-02-20T11:59:03.015Z"
   },
   {
    "duration": 11,
    "start_time": "2022-02-20T11:59:03.044Z"
   },
   {
    "duration": 23,
    "start_time": "2022-02-20T11:59:03.057Z"
   },
   {
    "duration": 31,
    "start_time": "2022-02-20T11:59:03.082Z"
   },
   {
    "duration": 90,
    "start_time": "2022-02-20T11:59:03.116Z"
   },
   {
    "duration": 109,
    "start_time": "2022-02-20T11:59:03.208Z"
   },
   {
    "duration": 50,
    "start_time": "2022-02-20T11:59:03.319Z"
   },
   {
    "duration": 38,
    "start_time": "2022-02-20T11:59:03.371Z"
   },
   {
    "duration": 395,
    "start_time": "2022-02-20T12:01:49.192Z"
   },
   {
    "duration": 294,
    "start_time": "2022-02-20T12:01:55.498Z"
   },
   {
    "duration": 18,
    "start_time": "2022-02-20T12:02:04.374Z"
   },
   {
    "duration": 23,
    "start_time": "2022-02-20T12:02:16.495Z"
   },
   {
    "duration": 16,
    "start_time": "2022-02-20T12:02:24.598Z"
   },
   {
    "duration": 18,
    "start_time": "2022-02-20T12:02:25.710Z"
   },
   {
    "duration": 11,
    "start_time": "2022-02-20T12:02:31.698Z"
   },
   {
    "duration": 14,
    "start_time": "2022-02-20T12:02:33.208Z"
   },
   {
    "duration": 6,
    "start_time": "2022-02-20T12:03:53.285Z"
   },
   {
    "duration": 301,
    "start_time": "2022-02-20T12:04:05.636Z"
   },
   {
    "duration": 282,
    "start_time": "2022-02-20T12:04:07.572Z"
   },
   {
    "duration": 480,
    "start_time": "2022-02-20T12:04:16.351Z"
   },
   {
    "duration": 8,
    "start_time": "2022-02-20T12:04:19.728Z"
   },
   {
    "duration": 7,
    "start_time": "2022-02-20T12:04:35.334Z"
   },
   {
    "duration": 5,
    "start_time": "2022-02-20T12:05:33.510Z"
   },
   {
    "duration": 5,
    "start_time": "2022-02-20T12:05:47.815Z"
   },
   {
    "duration": 4,
    "start_time": "2022-02-20T12:05:51.608Z"
   },
   {
    "duration": 4,
    "start_time": "2022-02-20T12:05:57.071Z"
   },
   {
    "duration": 4,
    "start_time": "2022-02-20T12:06:12.346Z"
   },
   {
    "duration": 4,
    "start_time": "2022-02-20T12:06:54.386Z"
   },
   {
    "duration": 13,
    "start_time": "2022-02-20T12:06:58.484Z"
   },
   {
    "duration": 13,
    "start_time": "2022-02-20T12:07:02.480Z"
   },
   {
    "duration": 4,
    "start_time": "2022-02-20T12:07:06.218Z"
   },
   {
    "duration": 73,
    "start_time": "2022-02-20T12:15:55.042Z"
   },
   {
    "duration": 17,
    "start_time": "2022-02-20T12:16:01.335Z"
   },
   {
    "duration": 15,
    "start_time": "2022-02-20T12:16:10.329Z"
   },
   {
    "duration": 2173,
    "start_time": "2022-02-20T12:19:08.174Z"
   },
   {
    "duration": 7828,
    "start_time": "2022-02-20T12:20:54.645Z"
   },
   {
    "duration": 762,
    "start_time": "2022-02-20T12:21:07.745Z"
   },
   {
    "duration": 22,
    "start_time": "2022-02-20T12:21:08.509Z"
   },
   {
    "duration": 22,
    "start_time": "2022-02-20T12:21:08.534Z"
   },
   {
    "duration": 16,
    "start_time": "2022-02-20T12:21:08.558Z"
   },
   {
    "duration": 9,
    "start_time": "2022-02-20T12:21:08.576Z"
   },
   {
    "duration": 192,
    "start_time": "2022-02-20T12:21:08.587Z"
   },
   {
    "duration": 10,
    "start_time": "2022-02-20T12:21:08.781Z"
   },
   {
    "duration": 24,
    "start_time": "2022-02-20T12:21:08.808Z"
   },
   {
    "duration": 5,
    "start_time": "2022-02-20T12:21:08.835Z"
   },
   {
    "duration": 10,
    "start_time": "2022-02-20T12:21:08.842Z"
   },
   {
    "duration": 69,
    "start_time": "2022-02-20T12:21:08.854Z"
   },
   {
    "duration": 111,
    "start_time": "2022-02-20T12:21:08.925Z"
   },
   {
    "duration": 7,
    "start_time": "2022-02-20T12:21:09.038Z"
   },
   {
    "duration": 23,
    "start_time": "2022-02-20T12:21:09.047Z"
   },
   {
    "duration": 50,
    "start_time": "2022-02-20T12:21:09.073Z"
   },
   {
    "duration": 154,
    "start_time": "2022-02-20T12:21:09.126Z"
   },
   {
    "duration": 11,
    "start_time": "2022-02-20T12:21:09.282Z"
   },
   {
    "duration": 24,
    "start_time": "2022-02-20T12:21:09.308Z"
   },
   {
    "duration": 27,
    "start_time": "2022-02-20T12:21:09.335Z"
   },
   {
    "duration": 12,
    "start_time": "2022-02-20T12:21:09.364Z"
   },
   {
    "duration": 43,
    "start_time": "2022-02-20T12:21:09.378Z"
   },
   {
    "duration": 14,
    "start_time": "2022-02-20T12:21:09.423Z"
   },
   {
    "duration": 18,
    "start_time": "2022-02-20T12:21:09.440Z"
   },
   {
    "duration": 9,
    "start_time": "2022-02-20T12:21:09.460Z"
   },
   {
    "duration": 114,
    "start_time": "2022-02-20T12:21:09.471Z"
   },
   {
    "duration": 28,
    "start_time": "2022-02-20T12:21:09.587Z"
   },
   {
    "duration": 817,
    "start_time": "2022-02-20T12:21:09.618Z"
   },
   {
    "duration": 13,
    "start_time": "2022-02-20T12:21:10.438Z"
   },
   {
    "duration": 487,
    "start_time": "2022-02-20T12:21:10.454Z"
   },
   {
    "duration": 32,
    "start_time": "2022-02-20T12:23:03.696Z"
   },
   {
    "duration": 45,
    "start_time": "2022-02-20T12:25:13.887Z"
   },
   {
    "duration": 46,
    "start_time": "2022-02-20T12:25:36.461Z"
   },
   {
    "duration": 44,
    "start_time": "2022-02-20T12:25:47.704Z"
   },
   {
    "duration": 43,
    "start_time": "2022-02-20T12:27:24.344Z"
   },
   {
    "duration": 44,
    "start_time": "2022-02-20T12:27:50.056Z"
   },
   {
    "duration": 14,
    "start_time": "2022-02-20T12:28:03.384Z"
   },
   {
    "duration": 53,
    "start_time": "2022-02-20T12:28:11.859Z"
   },
   {
    "duration": 472,
    "start_time": "2022-02-20T12:28:43.330Z"
   },
   {
    "duration": 15,
    "start_time": "2022-02-20T12:29:01.816Z"
   },
   {
    "duration": 1286,
    "start_time": "2022-02-20T12:29:56.529Z"
   },
   {
    "duration": 31,
    "start_time": "2022-02-20T12:30:26.853Z"
   },
   {
    "duration": 35,
    "start_time": "2022-02-20T12:30:39.429Z"
   },
   {
    "duration": 53,
    "start_time": "2022-02-20T12:32:30.026Z"
   },
   {
    "duration": 14,
    "start_time": "2022-02-20T12:32:33.885Z"
   },
   {
    "duration": 15,
    "start_time": "2022-02-20T12:32:39.977Z"
   },
   {
    "duration": 512,
    "start_time": "2022-02-20T12:33:06.178Z"
   },
   {
    "duration": 16,
    "start_time": "2022-02-20T12:33:07.183Z"
   },
   {
    "duration": 60,
    "start_time": "2022-02-20T12:33:48.366Z"
   },
   {
    "duration": 264,
    "start_time": "2022-02-20T12:34:08.801Z"
   },
   {
    "duration": 274,
    "start_time": "2022-02-20T12:34:10.897Z"
   },
   {
    "duration": 8147,
    "start_time": "2022-02-20T12:34:41.893Z"
   },
   {
    "duration": 7,
    "start_time": "2022-02-20T12:35:01.851Z"
   },
   {
    "duration": 12,
    "start_time": "2022-02-20T12:35:12.481Z"
   },
   {
    "duration": 10,
    "start_time": "2022-02-20T12:35:20.489Z"
   },
   {
    "duration": 14,
    "start_time": "2022-02-20T12:35:24.537Z"
   },
   {
    "duration": 8,
    "start_time": "2022-02-20T12:35:33.533Z"
   },
   {
    "duration": 292,
    "start_time": "2022-02-20T12:35:36.530Z"
   },
   {
    "duration": 286,
    "start_time": "2022-02-20T12:35:41.577Z"
   },
   {
    "duration": 10,
    "start_time": "2022-02-20T12:35:43.744Z"
   },
   {
    "duration": 8,
    "start_time": "2022-02-20T12:35:50.321Z"
   },
   {
    "duration": 14,
    "start_time": "2022-02-20T12:36:46.938Z"
   },
   {
    "duration": 265,
    "start_time": "2022-02-20T12:38:05.823Z"
   },
   {
    "duration": 261,
    "start_time": "2022-02-20T12:38:17.817Z"
   },
   {
    "duration": 12,
    "start_time": "2022-02-20T12:39:25.612Z"
   },
   {
    "duration": 12,
    "start_time": "2022-02-20T12:39:51.606Z"
   },
   {
    "duration": -28,
    "start_time": "2022-02-20T12:40:15.805Z"
   },
   {
    "duration": 247,
    "start_time": "2022-02-20T12:40:25.458Z"
   },
   {
    "duration": 301,
    "start_time": "2022-02-20T12:40:31.554Z"
   },
   {
    "duration": 256,
    "start_time": "2022-02-20T12:40:44.588Z"
   },
   {
    "duration": 738,
    "start_time": "2022-02-20T12:40:51.460Z"
   },
   {
    "duration": 39,
    "start_time": "2022-02-20T12:40:52.200Z"
   },
   {
    "duration": 18,
    "start_time": "2022-02-20T12:40:52.241Z"
   },
   {
    "duration": 13,
    "start_time": "2022-02-20T12:40:52.261Z"
   },
   {
    "duration": 11,
    "start_time": "2022-02-20T12:40:52.276Z"
   },
   {
    "duration": 252,
    "start_time": "2022-02-20T12:40:52.289Z"
   },
   {
    "duration": 9,
    "start_time": "2022-02-20T12:40:52.543Z"
   },
   {
    "duration": 27,
    "start_time": "2022-02-20T12:40:52.556Z"
   },
   {
    "duration": 6,
    "start_time": "2022-02-20T12:40:52.585Z"
   },
   {
    "duration": 9,
    "start_time": "2022-02-20T12:40:52.607Z"
   },
   {
    "duration": 39,
    "start_time": "2022-02-20T12:40:52.618Z"
   },
   {
    "duration": 136,
    "start_time": "2022-02-20T12:40:52.659Z"
   },
   {
    "duration": 9,
    "start_time": "2022-02-20T12:40:52.797Z"
   },
   {
    "duration": 17,
    "start_time": "2022-02-20T12:40:52.808Z"
   },
   {
    "duration": 25,
    "start_time": "2022-02-20T12:40:52.827Z"
   },
   {
    "duration": 583,
    "start_time": "2022-02-20T12:40:52.854Z"
   },
   {
    "duration": 10,
    "start_time": "2022-02-20T12:40:53.439Z"
   },
   {
    "duration": 37,
    "start_time": "2022-02-20T12:40:53.451Z"
   },
   {
    "duration": 30,
    "start_time": "2022-02-20T12:40:53.490Z"
   },
   {
    "duration": 11,
    "start_time": "2022-02-20T12:40:53.522Z"
   },
   {
    "duration": 22,
    "start_time": "2022-02-20T12:40:53.535Z"
   },
   {
    "duration": 32,
    "start_time": "2022-02-20T12:40:53.559Z"
   },
   {
    "duration": 9,
    "start_time": "2022-02-20T12:40:53.596Z"
   },
   {
    "duration": 15,
    "start_time": "2022-02-20T12:40:53.606Z"
   },
   {
    "duration": 100,
    "start_time": "2022-02-20T12:40:53.623Z"
   },
   {
    "duration": 14,
    "start_time": "2022-02-20T12:40:53.725Z"
   },
   {
    "duration": 801,
    "start_time": "2022-02-20T12:40:53.741Z"
   },
   {
    "duration": 106,
    "start_time": "2022-02-20T12:40:54.544Z"
   },
   {
    "duration": 36,
    "start_time": "2022-02-20T12:40:54.652Z"
   },
   {
    "duration": 28,
    "start_time": "2022-02-20T12:40:54.690Z"
   },
   {
    "duration": 468,
    "start_time": "2022-02-20T12:40:54.721Z"
   },
   {
    "duration": 58,
    "start_time": "2022-02-20T12:40:55.191Z"
   },
   {
    "duration": 68,
    "start_time": "2022-02-20T12:40:55.251Z"
   },
   {
    "duration": 15,
    "start_time": "2022-02-20T12:40:55.321Z"
   },
   {
    "duration": 636,
    "start_time": "2022-02-20T12:40:55.338Z"
   },
   {
    "duration": 88,
    "start_time": "2022-02-20T12:40:55.976Z"
   },
   {
    "duration": 14,
    "start_time": "2022-02-20T12:40:56.066Z"
   },
   {
    "duration": 7064,
    "start_time": "2022-02-20T12:40:56.082Z"
   },
   {
    "duration": -34,
    "start_time": "2022-02-20T12:41:03.183Z"
   },
   {
    "duration": 639,
    "start_time": "2022-02-20T12:44:14.533Z"
   },
   {
    "duration": 20,
    "start_time": "2022-02-20T12:44:15.176Z"
   },
   {
    "duration": 22,
    "start_time": "2022-02-20T12:44:15.198Z"
   },
   {
    "duration": 13,
    "start_time": "2022-02-20T12:44:15.222Z"
   },
   {
    "duration": 7,
    "start_time": "2022-02-20T12:44:15.238Z"
   },
   {
    "duration": 180,
    "start_time": "2022-02-20T12:44:15.248Z"
   },
   {
    "duration": 12,
    "start_time": "2022-02-20T12:44:15.430Z"
   },
   {
    "duration": 31,
    "start_time": "2022-02-20T12:44:15.444Z"
   },
   {
    "duration": 5,
    "start_time": "2022-02-20T12:44:15.477Z"
   },
   {
    "duration": 28,
    "start_time": "2022-02-20T12:44:15.484Z"
   },
   {
    "duration": 35,
    "start_time": "2022-02-20T12:44:15.515Z"
   },
   {
    "duration": 142,
    "start_time": "2022-02-20T12:44:15.553Z"
   },
   {
    "duration": 14,
    "start_time": "2022-02-20T12:44:15.697Z"
   },
   {
    "duration": 18,
    "start_time": "2022-02-20T12:44:15.713Z"
   },
   {
    "duration": 21,
    "start_time": "2022-02-20T12:44:15.733Z"
   },
   {
    "duration": 176,
    "start_time": "2022-02-20T12:44:15.756Z"
   },
   {
    "duration": 10,
    "start_time": "2022-02-20T12:44:15.937Z"
   },
   {
    "duration": 24,
    "start_time": "2022-02-20T12:44:15.949Z"
   },
   {
    "duration": 54,
    "start_time": "2022-02-20T12:44:15.975Z"
   },
   {
    "duration": 12,
    "start_time": "2022-02-20T12:44:16.031Z"
   },
   {
    "duration": 16,
    "start_time": "2022-02-20T12:44:16.045Z"
   },
   {
    "duration": 15,
    "start_time": "2022-02-20T12:44:16.063Z"
   },
   {
    "duration": 34,
    "start_time": "2022-02-20T12:44:16.080Z"
   },
   {
    "duration": 12,
    "start_time": "2022-02-20T12:44:16.116Z"
   },
   {
    "duration": 117,
    "start_time": "2022-02-20T12:44:16.130Z"
   },
   {
    "duration": 16,
    "start_time": "2022-02-20T12:44:16.249Z"
   },
   {
    "duration": 836,
    "start_time": "2022-02-20T12:44:16.267Z"
   },
   {
    "duration": 101,
    "start_time": "2022-02-20T12:44:17.107Z"
   },
   {
    "duration": 36,
    "start_time": "2022-02-20T12:44:17.210Z"
   },
   {
    "duration": 14,
    "start_time": "2022-02-20T12:44:17.248Z"
   },
   {
    "duration": 491,
    "start_time": "2022-02-20T12:44:17.264Z"
   },
   {
    "duration": 63,
    "start_time": "2022-02-20T12:44:17.757Z"
   },
   {
    "duration": 47,
    "start_time": "2022-02-20T12:44:17.822Z"
   },
   {
    "duration": 37,
    "start_time": "2022-02-20T12:44:17.872Z"
   },
   {
    "duration": 589,
    "start_time": "2022-02-20T12:44:17.912Z"
   },
   {
    "duration": 63,
    "start_time": "2022-02-20T12:44:18.503Z"
   },
   {
    "duration": 314,
    "start_time": "2022-02-20T12:44:18.568Z"
   },
   {
    "duration": -39,
    "start_time": "2022-02-20T12:44:18.924Z"
   },
   {
    "duration": -41,
    "start_time": "2022-02-20T12:44:18.927Z"
   },
   {
    "duration": 287,
    "start_time": "2022-02-20T12:44:29.014Z"
   },
   {
    "duration": 13,
    "start_time": "2022-02-20T12:44:33.324Z"
   },
   {
    "duration": 320,
    "start_time": "2022-02-20T12:44:39.036Z"
   },
   {
    "duration": 703,
    "start_time": "2022-02-20T12:44:45.280Z"
   },
   {
    "duration": 25,
    "start_time": "2022-02-20T12:44:45.985Z"
   },
   {
    "duration": 21,
    "start_time": "2022-02-20T12:44:46.015Z"
   },
   {
    "duration": 14,
    "start_time": "2022-02-20T12:44:46.039Z"
   },
   {
    "duration": 23,
    "start_time": "2022-02-20T12:44:46.056Z"
   },
   {
    "duration": 238,
    "start_time": "2022-02-20T12:44:46.108Z"
   },
   {
    "duration": 12,
    "start_time": "2022-02-20T12:44:46.350Z"
   },
   {
    "duration": 49,
    "start_time": "2022-02-20T12:44:46.365Z"
   },
   {
    "duration": 7,
    "start_time": "2022-02-20T12:44:46.417Z"
   },
   {
    "duration": 21,
    "start_time": "2022-02-20T12:44:46.426Z"
   },
   {
    "duration": 58,
    "start_time": "2022-02-20T12:44:46.449Z"
   },
   {
    "duration": 146,
    "start_time": "2022-02-20T12:44:46.510Z"
   },
   {
    "duration": 11,
    "start_time": "2022-02-20T12:44:46.659Z"
   },
   {
    "duration": 41,
    "start_time": "2022-02-20T12:44:46.672Z"
   },
   {
    "duration": 28,
    "start_time": "2022-02-20T12:44:46.715Z"
   },
   {
    "duration": 171,
    "start_time": "2022-02-20T12:44:46.746Z"
   },
   {
    "duration": 10,
    "start_time": "2022-02-20T12:44:46.919Z"
   },
   {
    "duration": 33,
    "start_time": "2022-02-20T12:44:46.931Z"
   },
   {
    "duration": 55,
    "start_time": "2022-02-20T12:44:46.967Z"
   },
   {
    "duration": 14,
    "start_time": "2022-02-20T12:44:47.025Z"
   },
   {
    "duration": 41,
    "start_time": "2022-02-20T12:44:47.042Z"
   },
   {
    "duration": 12,
    "start_time": "2022-02-20T12:44:47.088Z"
   },
   {
    "duration": 15,
    "start_time": "2022-02-20T12:44:47.102Z"
   },
   {
    "duration": 12,
    "start_time": "2022-02-20T12:44:47.119Z"
   },
   {
    "duration": 106,
    "start_time": "2022-02-20T12:44:47.133Z"
   },
   {
    "duration": 14,
    "start_time": "2022-02-20T12:44:47.242Z"
   },
   {
    "duration": 845,
    "start_time": "2022-02-20T12:44:47.258Z"
   },
   {
    "duration": 111,
    "start_time": "2022-02-20T12:44:48.107Z"
   },
   {
    "duration": 48,
    "start_time": "2022-02-20T12:44:48.221Z"
   },
   {
    "duration": 40,
    "start_time": "2022-02-20T12:44:48.272Z"
   },
   {
    "duration": 504,
    "start_time": "2022-02-20T12:44:48.314Z"
   },
   {
    "duration": 49,
    "start_time": "2022-02-20T12:44:48.820Z"
   },
   {
    "duration": 70,
    "start_time": "2022-02-20T12:44:48.870Z"
   },
   {
    "duration": 14,
    "start_time": "2022-02-20T12:44:48.942Z"
   },
   {
    "duration": 660,
    "start_time": "2022-02-20T12:44:48.958Z"
   },
   {
    "duration": 61,
    "start_time": "2022-02-20T12:44:49.620Z"
   },
   {
    "duration": 27,
    "start_time": "2022-02-20T12:44:49.684Z"
   },
   {
    "duration": 7,
    "start_time": "2022-02-20T12:44:49.713Z"
   },
   {
    "duration": 9,
    "start_time": "2022-02-20T12:44:49.723Z"
   },
   {
    "duration": 449,
    "start_time": "2022-02-20T12:45:08.443Z"
   },
   {
    "duration": 1126,
    "start_time": "2022-02-20T12:45:20.289Z"
   },
   {
    "duration": 19,
    "start_time": "2022-02-20T12:45:21.417Z"
   },
   {
    "duration": 22,
    "start_time": "2022-02-20T12:45:21.438Z"
   },
   {
    "duration": 13,
    "start_time": "2022-02-20T12:45:21.462Z"
   },
   {
    "duration": 9,
    "start_time": "2022-02-20T12:45:21.478Z"
   },
   {
    "duration": 219,
    "start_time": "2022-02-20T12:45:21.489Z"
   },
   {
    "duration": 12,
    "start_time": "2022-02-20T12:45:21.710Z"
   },
   {
    "duration": 31,
    "start_time": "2022-02-20T12:45:21.725Z"
   },
   {
    "duration": 6,
    "start_time": "2022-02-20T12:45:21.760Z"
   },
   {
    "duration": 11,
    "start_time": "2022-02-20T12:45:21.768Z"
   },
   {
    "duration": 33,
    "start_time": "2022-02-20T12:45:21.808Z"
   },
   {
    "duration": 126,
    "start_time": "2022-02-20T12:45:21.844Z"
   },
   {
    "duration": 8,
    "start_time": "2022-02-20T12:45:21.973Z"
   },
   {
    "duration": 30,
    "start_time": "2022-02-20T12:45:21.983Z"
   },
   {
    "duration": 22,
    "start_time": "2022-02-20T12:45:22.016Z"
   },
   {
    "duration": 169,
    "start_time": "2022-02-20T12:45:22.041Z"
   },
   {
    "duration": 11,
    "start_time": "2022-02-20T12:45:22.213Z"
   },
   {
    "duration": 20,
    "start_time": "2022-02-20T12:45:22.226Z"
   },
   {
    "duration": 59,
    "start_time": "2022-02-20T12:45:22.248Z"
   },
   {
    "duration": 11,
    "start_time": "2022-02-20T12:45:22.310Z"
   },
   {
    "duration": 29,
    "start_time": "2022-02-20T12:45:22.324Z"
   },
   {
    "duration": 14,
    "start_time": "2022-02-20T12:45:22.356Z"
   },
   {
    "duration": 16,
    "start_time": "2022-02-20T12:45:22.374Z"
   },
   {
    "duration": 18,
    "start_time": "2022-02-20T12:45:22.393Z"
   },
   {
    "duration": 110,
    "start_time": "2022-02-20T12:45:22.413Z"
   },
   {
    "duration": 15,
    "start_time": "2022-02-20T12:45:22.525Z"
   },
   {
    "duration": 822,
    "start_time": "2022-02-20T12:45:22.542Z"
   },
   {
    "duration": 109,
    "start_time": "2022-02-20T12:45:23.366Z"
   },
   {
    "duration": 59,
    "start_time": "2022-02-20T12:45:23.477Z"
   },
   {
    "duration": 18,
    "start_time": "2022-02-20T12:45:23.538Z"
   },
   {
    "duration": 493,
    "start_time": "2022-02-20T12:45:23.558Z"
   },
   {
    "duration": 64,
    "start_time": "2022-02-20T12:45:24.053Z"
   },
   {
    "duration": 50,
    "start_time": "2022-02-20T12:45:24.120Z"
   },
   {
    "duration": 43,
    "start_time": "2022-02-20T12:45:24.172Z"
   },
   {
    "duration": 629,
    "start_time": "2022-02-20T12:45:24.217Z"
   },
   {
    "duration": 75,
    "start_time": "2022-02-20T12:45:24.848Z"
   },
   {
    "duration": 10,
    "start_time": "2022-02-20T12:45:24.925Z"
   },
   {
    "duration": 6,
    "start_time": "2022-02-20T12:45:24.937Z"
   },
   {
    "duration": 5,
    "start_time": "2022-02-20T12:45:24.946Z"
   },
   {
    "duration": 12,
    "start_time": "2022-02-20T12:45:35.620Z"
   },
   {
    "duration": 6,
    "start_time": "2022-02-20T12:45:47.369Z"
   },
   {
    "duration": 9,
    "start_time": "2022-02-20T12:45:56.442Z"
   },
   {
    "duration": 7,
    "start_time": "2022-02-20T12:45:57.914Z"
   },
   {
    "duration": 714,
    "start_time": "2022-02-20T12:46:17.228Z"
   },
   {
    "duration": 18,
    "start_time": "2022-02-20T12:46:17.944Z"
   },
   {
    "duration": 17,
    "start_time": "2022-02-20T12:46:17.965Z"
   },
   {
    "duration": 7,
    "start_time": "2022-02-20T12:46:17.984Z"
   },
   {
    "duration": 18,
    "start_time": "2022-02-20T12:46:17.993Z"
   },
   {
    "duration": 177,
    "start_time": "2022-02-20T12:46:18.013Z"
   },
   {
    "duration": 9,
    "start_time": "2022-02-20T12:46:18.192Z"
   },
   {
    "duration": 29,
    "start_time": "2022-02-20T12:46:18.202Z"
   },
   {
    "duration": 6,
    "start_time": "2022-02-20T12:46:18.234Z"
   },
   {
    "duration": 12,
    "start_time": "2022-02-20T12:46:18.242Z"
   },
   {
    "duration": 60,
    "start_time": "2022-02-20T12:46:18.256Z"
   },
   {
    "duration": 106,
    "start_time": "2022-02-20T12:46:18.318Z"
   },
   {
    "duration": 8,
    "start_time": "2022-02-20T12:46:18.426Z"
   },
   {
    "duration": 20,
    "start_time": "2022-02-20T12:46:18.436Z"
   },
   {
    "duration": 19,
    "start_time": "2022-02-20T12:46:18.458Z"
   },
   {
    "duration": 174,
    "start_time": "2022-02-20T12:46:18.479Z"
   },
   {
    "duration": 9,
    "start_time": "2022-02-20T12:46:18.655Z"
   },
   {
    "duration": 24,
    "start_time": "2022-02-20T12:46:18.665Z"
   },
   {
    "duration": 40,
    "start_time": "2022-02-20T12:46:18.691Z"
   },
   {
    "duration": 13,
    "start_time": "2022-02-20T12:46:18.733Z"
   },
   {
    "duration": 17,
    "start_time": "2022-02-20T12:46:18.748Z"
   },
   {
    "duration": 11,
    "start_time": "2022-02-20T12:46:18.767Z"
   },
   {
    "duration": 33,
    "start_time": "2022-02-20T12:46:18.779Z"
   },
   {
    "duration": 10,
    "start_time": "2022-02-20T12:46:18.814Z"
   },
   {
    "duration": 113,
    "start_time": "2022-02-20T12:46:18.826Z"
   },
   {
    "duration": 15,
    "start_time": "2022-02-20T12:46:18.941Z"
   },
   {
    "duration": 811,
    "start_time": "2022-02-20T12:46:18.960Z"
   },
   {
    "duration": 114,
    "start_time": "2022-02-20T12:46:19.774Z"
   },
   {
    "duration": 48,
    "start_time": "2022-02-20T12:46:19.891Z"
   },
   {
    "duration": 16,
    "start_time": "2022-02-20T12:46:19.941Z"
   },
   {
    "duration": 489,
    "start_time": "2022-02-20T12:46:19.959Z"
   },
   {
    "duration": 64,
    "start_time": "2022-02-20T12:46:20.450Z"
   },
   {
    "duration": 49,
    "start_time": "2022-02-20T12:46:20.516Z"
   },
   {
    "duration": 15,
    "start_time": "2022-02-20T12:46:20.567Z"
   },
   {
    "duration": 601,
    "start_time": "2022-02-20T12:46:20.608Z"
   },
   {
    "duration": 67,
    "start_time": "2022-02-20T12:46:21.212Z"
   },
   {
    "duration": 34,
    "start_time": "2022-02-20T12:46:21.282Z"
   },
   {
    "duration": 21,
    "start_time": "2022-02-20T12:46:21.318Z"
   },
   {
    "duration": 7,
    "start_time": "2022-02-20T12:46:21.340Z"
   },
   {
    "duration": 10,
    "start_time": "2022-02-20T12:46:21.349Z"
   },
   {
    "duration": 9,
    "start_time": "2022-02-20T12:46:32.592Z"
   },
   {
    "duration": 9,
    "start_time": "2022-02-20T12:47:52.190Z"
   },
   {
    "duration": 601,
    "start_time": "2022-02-20T12:48:12.658Z"
   },
   {
    "duration": 18,
    "start_time": "2022-02-20T12:48:13.261Z"
   },
   {
    "duration": 18,
    "start_time": "2022-02-20T12:48:13.282Z"
   },
   {
    "duration": 16,
    "start_time": "2022-02-20T12:48:13.307Z"
   },
   {
    "duration": 12,
    "start_time": "2022-02-20T12:48:13.326Z"
   },
   {
    "duration": 175,
    "start_time": "2022-02-20T12:48:13.341Z"
   },
   {
    "duration": 9,
    "start_time": "2022-02-20T12:48:13.519Z"
   },
   {
    "duration": 22,
    "start_time": "2022-02-20T12:48:13.531Z"
   },
   {
    "duration": 5,
    "start_time": "2022-02-20T12:48:13.555Z"
   },
   {
    "duration": 46,
    "start_time": "2022-02-20T12:48:13.562Z"
   },
   {
    "duration": 31,
    "start_time": "2022-02-20T12:48:13.610Z"
   },
   {
    "duration": 122,
    "start_time": "2022-02-20T12:48:13.644Z"
   },
   {
    "duration": 8,
    "start_time": "2022-02-20T12:48:13.768Z"
   },
   {
    "duration": 31,
    "start_time": "2022-02-20T12:48:13.778Z"
   },
   {
    "duration": 20,
    "start_time": "2022-02-20T12:48:13.811Z"
   },
   {
    "duration": 158,
    "start_time": "2022-02-20T12:48:13.833Z"
   },
   {
    "duration": 16,
    "start_time": "2022-02-20T12:48:13.993Z"
   },
   {
    "duration": 23,
    "start_time": "2022-02-20T12:48:14.011Z"
   },
   {
    "duration": 26,
    "start_time": "2022-02-20T12:48:14.037Z"
   },
   {
    "duration": 51,
    "start_time": "2022-02-20T12:48:14.065Z"
   },
   {
    "duration": 20,
    "start_time": "2022-02-20T12:48:14.118Z"
   },
   {
    "duration": 11,
    "start_time": "2022-02-20T12:48:14.140Z"
   },
   {
    "duration": 17,
    "start_time": "2022-02-20T12:48:14.155Z"
   },
   {
    "duration": 19,
    "start_time": "2022-02-20T12:48:14.175Z"
   },
   {
    "duration": 96,
    "start_time": "2022-02-20T12:48:14.196Z"
   },
   {
    "duration": 14,
    "start_time": "2022-02-20T12:48:14.307Z"
   },
   {
    "duration": 833,
    "start_time": "2022-02-20T12:48:14.323Z"
   },
   {
    "duration": 106,
    "start_time": "2022-02-20T12:48:15.158Z"
   },
   {
    "duration": 47,
    "start_time": "2022-02-20T12:48:15.266Z"
   },
   {
    "duration": 14,
    "start_time": "2022-02-20T12:48:15.315Z"
   },
   {
    "duration": 506,
    "start_time": "2022-02-20T12:48:15.331Z"
   },
   {
    "duration": 51,
    "start_time": "2022-02-20T12:48:15.839Z"
   },
   {
    "duration": 62,
    "start_time": "2022-02-20T12:48:15.892Z"
   },
   {
    "duration": 15,
    "start_time": "2022-02-20T12:48:15.956Z"
   },
   {
    "duration": 689,
    "start_time": "2022-02-20T12:48:15.973Z"
   },
   {
    "duration": 78,
    "start_time": "2022-02-20T12:48:16.664Z"
   },
   {
    "duration": 11,
    "start_time": "2022-02-20T12:48:16.744Z"
   },
   {
    "duration": 17,
    "start_time": "2022-02-20T12:48:16.757Z"
   },
   {
    "duration": 5,
    "start_time": "2022-02-20T12:48:16.776Z"
   },
   {
    "duration": 11,
    "start_time": "2022-02-20T12:48:16.807Z"
   },
   {
    "duration": 16,
    "start_time": "2022-02-20T13:01:56.266Z"
   },
   {
    "duration": 315,
    "start_time": "2022-02-20T13:02:20.763Z"
   },
   {
    "duration": 17,
    "start_time": "2022-02-20T13:02:25.307Z"
   },
   {
    "duration": 291,
    "start_time": "2022-02-20T13:26:34.973Z"
   },
   {
    "duration": 292,
    "start_time": "2022-02-20T13:26:52.683Z"
   },
   {
    "duration": 13,
    "start_time": "2022-02-20T13:26:59.600Z"
   },
   {
    "duration": 15,
    "start_time": "2022-02-20T13:27:04.222Z"
   },
   {
    "duration": 16,
    "start_time": "2022-02-20T13:27:25.182Z"
   },
   {
    "duration": 16,
    "start_time": "2022-02-20T13:27:25.797Z"
   },
   {
    "duration": 117,
    "start_time": "2022-02-20T13:28:30.162Z"
   },
   {
    "duration": 27,
    "start_time": "2022-02-20T13:28:33.366Z"
   },
   {
    "duration": 27,
    "start_time": "2022-02-20T13:28:45.395Z"
   },
   {
    "duration": 17,
    "start_time": "2022-02-20T13:28:48.494Z"
   },
   {
    "duration": 7,
    "start_time": "2022-02-20T13:33:03.720Z"
   },
   {
    "duration": 5,
    "start_time": "2022-02-20T13:33:27.400Z"
   },
   {
    "duration": 5,
    "start_time": "2022-02-20T13:33:30.752Z"
   },
   {
    "duration": 8,
    "start_time": "2022-02-20T13:33:34.072Z"
   },
   {
    "duration": 629,
    "start_time": "2022-02-21T06:25:34.954Z"
   },
   {
    "duration": 630,
    "start_time": "2022-02-21T06:25:44.570Z"
   },
   {
    "duration": 24,
    "start_time": "2022-02-21T06:25:45.203Z"
   },
   {
    "duration": 25,
    "start_time": "2022-02-21T06:25:45.232Z"
   },
   {
    "duration": 8,
    "start_time": "2022-02-21T06:25:45.259Z"
   },
   {
    "duration": 7,
    "start_time": "2022-02-21T06:25:45.268Z"
   },
   {
    "duration": 187,
    "start_time": "2022-02-21T06:25:45.277Z"
   },
   {
    "duration": 9,
    "start_time": "2022-02-21T06:25:45.467Z"
   },
   {
    "duration": 25,
    "start_time": "2022-02-21T06:25:45.478Z"
   },
   {
    "duration": 5,
    "start_time": "2022-02-21T06:25:45.519Z"
   },
   {
    "duration": 15,
    "start_time": "2022-02-21T06:25:45.526Z"
   },
   {
    "duration": 35,
    "start_time": "2022-02-21T06:25:45.543Z"
   },
   {
    "duration": 110,
    "start_time": "2022-02-21T06:25:45.580Z"
   },
   {
    "duration": 8,
    "start_time": "2022-02-21T06:25:45.692Z"
   },
   {
    "duration": 26,
    "start_time": "2022-02-21T06:25:45.701Z"
   },
   {
    "duration": 20,
    "start_time": "2022-02-21T06:25:45.730Z"
   },
   {
    "duration": 144,
    "start_time": "2022-02-21T06:25:45.752Z"
   },
   {
    "duration": 8,
    "start_time": "2022-02-21T06:25:45.898Z"
   },
   {
    "duration": 28,
    "start_time": "2022-02-21T06:25:45.908Z"
   },
   {
    "duration": 23,
    "start_time": "2022-02-21T06:25:45.938Z"
   },
   {
    "duration": 11,
    "start_time": "2022-02-21T06:25:45.963Z"
   },
   {
    "duration": 15,
    "start_time": "2022-02-21T06:25:45.976Z"
   },
   {
    "duration": 32,
    "start_time": "2022-02-21T06:25:45.996Z"
   },
   {
    "duration": 14,
    "start_time": "2022-02-21T06:25:46.030Z"
   },
   {
    "duration": 9,
    "start_time": "2022-02-21T06:25:46.046Z"
   },
   {
    "duration": 91,
    "start_time": "2022-02-21T06:25:46.056Z"
   },
   {
    "duration": 13,
    "start_time": "2022-02-21T06:25:46.149Z"
   },
   {
    "duration": 790,
    "start_time": "2022-02-21T06:25:46.164Z"
   },
   {
    "duration": 96,
    "start_time": "2022-02-21T06:25:46.956Z"
   },
   {
    "duration": 31,
    "start_time": "2022-02-21T06:25:47.053Z"
   },
   {
    "duration": 8,
    "start_time": "2022-02-21T06:25:47.086Z"
   },
   {
    "duration": 55,
    "start_time": "2022-02-21T06:25:47.096Z"
   },
   {
    "duration": 12,
    "start_time": "2022-02-21T06:25:47.153Z"
   },
   {
    "duration": 473,
    "start_time": "2022-02-21T06:25:47.167Z"
   },
   {
    "duration": 51,
    "start_time": "2022-02-21T06:25:47.642Z"
   },
   {
    "duration": 65,
    "start_time": "2022-02-21T06:25:47.694Z"
   },
   {
    "duration": 13,
    "start_time": "2022-02-21T06:25:47.761Z"
   },
   {
    "duration": 635,
    "start_time": "2022-02-21T06:25:47.776Z"
   },
   {
    "duration": 60,
    "start_time": "2022-02-21T06:25:48.413Z"
   },
   {
    "duration": 9,
    "start_time": "2022-02-21T06:25:48.475Z"
   },
   {
    "duration": 33,
    "start_time": "2022-02-21T06:25:48.486Z"
   },
   {
    "duration": 3,
    "start_time": "2022-02-21T06:25:48.521Z"
   },
   {
    "duration": 13,
    "start_time": "2022-02-21T06:25:48.527Z"
   },
   {
    "duration": 15,
    "start_time": "2022-02-21T06:25:48.542Z"
   },
   {
    "duration": 10,
    "start_time": "2022-02-21T06:34:20.583Z"
   },
   {
    "duration": 8,
    "start_time": "2022-02-21T06:34:31.422Z"
   },
   {
    "duration": 8,
    "start_time": "2022-02-21T06:36:19.766Z"
   },
   {
    "duration": 8,
    "start_time": "2022-02-21T06:36:21.566Z"
   },
   {
    "duration": 464,
    "start_time": "2022-02-21T06:38:11.293Z"
   },
   {
    "duration": 595,
    "start_time": "2022-02-21T06:39:22.136Z"
   },
   {
    "duration": 357,
    "start_time": "2022-02-21T06:39:28.171Z"
   },
   {
    "duration": 2826,
    "start_time": "2022-02-21T06:40:13.322Z"
   },
   {
    "duration": 9,
    "start_time": "2022-02-21T06:50:48.562Z"
   },
   {
    "duration": 8,
    "start_time": "2022-02-21T06:50:50.392Z"
   },
   {
    "duration": 10,
    "start_time": "2022-02-21T06:50:55.942Z"
   },
   {
    "duration": 8,
    "start_time": "2022-02-21T06:51:36.878Z"
   },
   {
    "duration": 10,
    "start_time": "2022-02-21T06:51:37.558Z"
   },
   {
    "duration": 907,
    "start_time": "2022-02-21T06:54:07.935Z"
   },
   {
    "duration": 2060,
    "start_time": "2022-02-21T06:55:19.136Z"
   },
   {
    "duration": 824,
    "start_time": "2022-02-21T06:56:38.155Z"
   },
   {
    "duration": 5,
    "start_time": "2022-02-21T06:57:04.347Z"
   },
   {
    "duration": 1907,
    "start_time": "2022-02-21T06:57:06.917Z"
   },
   {
    "duration": 359,
    "start_time": "2022-02-21T06:57:11.704Z"
   },
   {
    "duration": 685,
    "start_time": "2022-02-21T06:57:28.891Z"
   },
   {
    "duration": 17,
    "start_time": "2022-02-21T06:57:29.579Z"
   },
   {
    "duration": 21,
    "start_time": "2022-02-21T06:57:29.599Z"
   },
   {
    "duration": 21,
    "start_time": "2022-02-21T06:57:29.622Z"
   },
   {
    "duration": 11,
    "start_time": "2022-02-21T06:57:29.645Z"
   },
   {
    "duration": 169,
    "start_time": "2022-02-21T06:57:29.658Z"
   },
   {
    "duration": 8,
    "start_time": "2022-02-21T06:57:29.829Z"
   },
   {
    "duration": 39,
    "start_time": "2022-02-21T06:57:29.841Z"
   },
   {
    "duration": 5,
    "start_time": "2022-02-21T06:57:29.883Z"
   },
   {
    "duration": 24,
    "start_time": "2022-02-21T06:57:29.890Z"
   },
   {
    "duration": 43,
    "start_time": "2022-02-21T06:57:29.916Z"
   },
   {
    "duration": 110,
    "start_time": "2022-02-21T06:57:29.961Z"
   },
   {
    "duration": 7,
    "start_time": "2022-02-21T06:57:30.074Z"
   },
   {
    "duration": 25,
    "start_time": "2022-02-21T06:57:30.083Z"
   },
   {
    "duration": 24,
    "start_time": "2022-02-21T06:57:30.110Z"
   },
   {
    "duration": 148,
    "start_time": "2022-02-21T06:57:30.136Z"
   },
   {
    "duration": 9,
    "start_time": "2022-02-21T06:57:30.286Z"
   },
   {
    "duration": 31,
    "start_time": "2022-02-21T06:57:30.296Z"
   },
   {
    "duration": 24,
    "start_time": "2022-02-21T06:57:30.329Z"
   },
   {
    "duration": 11,
    "start_time": "2022-02-21T06:57:30.355Z"
   },
   {
    "duration": 27,
    "start_time": "2022-02-21T06:57:30.367Z"
   },
   {
    "duration": 25,
    "start_time": "2022-02-21T06:57:30.397Z"
   },
   {
    "duration": 21,
    "start_time": "2022-02-21T06:57:30.425Z"
   },
   {
    "duration": 23,
    "start_time": "2022-02-21T06:57:30.448Z"
   },
   {
    "duration": 93,
    "start_time": "2022-02-21T06:57:30.473Z"
   },
   {
    "duration": 14,
    "start_time": "2022-02-21T06:57:30.568Z"
   },
   {
    "duration": 774,
    "start_time": "2022-02-21T06:57:30.584Z"
   },
   {
    "duration": 103,
    "start_time": "2022-02-21T06:57:31.360Z"
   },
   {
    "duration": 30,
    "start_time": "2022-02-21T06:57:31.465Z"
   },
   {
    "duration": 22,
    "start_time": "2022-02-21T06:57:31.497Z"
   },
   {
    "duration": 47,
    "start_time": "2022-02-21T06:57:31.521Z"
   },
   {
    "duration": 426,
    "start_time": "2022-02-21T06:57:31.570Z"
   },
   {
    "duration": -64,
    "start_time": "2022-02-21T06:57:32.062Z"
   },
   {
    "duration": -71,
    "start_time": "2022-02-21T06:57:32.070Z"
   },
   {
    "duration": -74,
    "start_time": "2022-02-21T06:57:32.073Z"
   },
   {
    "duration": -76,
    "start_time": "2022-02-21T06:57:32.076Z"
   },
   {
    "duration": -76,
    "start_time": "2022-02-21T06:57:32.078Z"
   },
   {
    "duration": -78,
    "start_time": "2022-02-21T06:57:32.080Z"
   },
   {
    "duration": -79,
    "start_time": "2022-02-21T06:57:32.082Z"
   },
   {
    "duration": -80,
    "start_time": "2022-02-21T06:57:32.084Z"
   },
   {
    "duration": -80,
    "start_time": "2022-02-21T06:57:32.085Z"
   },
   {
    "duration": -81,
    "start_time": "2022-02-21T06:57:32.087Z"
   },
   {
    "duration": -82,
    "start_time": "2022-02-21T06:57:32.089Z"
   },
   {
    "duration": -83,
    "start_time": "2022-02-21T06:57:32.091Z"
   },
   {
    "duration": -84,
    "start_time": "2022-02-21T06:57:32.093Z"
   },
   {
    "duration": 9,
    "start_time": "2022-02-21T06:57:56.508Z"
   },
   {
    "duration": 4,
    "start_time": "2022-02-21T06:58:17.322Z"
   },
   {
    "duration": 10,
    "start_time": "2022-02-21T06:58:18.734Z"
   },
   {
    "duration": 910,
    "start_time": "2022-02-21T06:59:15.070Z"
   },
   {
    "duration": 4,
    "start_time": "2022-02-21T06:59:38.460Z"
   },
   {
    "duration": 9,
    "start_time": "2022-02-21T06:59:41.931Z"
   },
   {
    "duration": 9,
    "start_time": "2022-02-21T06:59:51.174Z"
   },
   {
    "duration": 16,
    "start_time": "2022-02-21T06:59:56.459Z"
   },
   {
    "duration": 10,
    "start_time": "2022-02-21T07:00:35.788Z"
   },
   {
    "duration": 16,
    "start_time": "2022-02-21T07:00:36.711Z"
   },
   {
    "duration": 9,
    "start_time": "2022-02-21T07:00:54.159Z"
   },
   {
    "duration": 14,
    "start_time": "2022-02-21T07:00:55.511Z"
   },
   {
    "duration": 8,
    "start_time": "2022-02-21T07:01:00.267Z"
   },
   {
    "duration": 16,
    "start_time": "2022-02-21T07:01:01.703Z"
   },
   {
    "duration": 7,
    "start_time": "2022-02-21T07:01:28.579Z"
   },
   {
    "duration": 16,
    "start_time": "2022-02-21T07:01:30.113Z"
   },
   {
    "duration": 703,
    "start_time": "2022-02-21T07:07:52.799Z"
   },
   {
    "duration": 22,
    "start_time": "2022-02-21T07:07:53.504Z"
   },
   {
    "duration": 17,
    "start_time": "2022-02-21T07:07:53.529Z"
   },
   {
    "duration": 10,
    "start_time": "2022-02-21T07:07:53.548Z"
   },
   {
    "duration": 11,
    "start_time": "2022-02-21T07:07:53.560Z"
   },
   {
    "duration": 159,
    "start_time": "2022-02-21T07:07:53.573Z"
   },
   {
    "duration": 9,
    "start_time": "2022-02-21T07:07:53.734Z"
   },
   {
    "duration": 22,
    "start_time": "2022-02-21T07:07:53.745Z"
   },
   {
    "duration": 5,
    "start_time": "2022-02-21T07:07:53.770Z"
   },
   {
    "duration": 9,
    "start_time": "2022-02-21T07:07:53.776Z"
   },
   {
    "duration": 56,
    "start_time": "2022-02-21T07:07:53.787Z"
   },
   {
    "duration": 96,
    "start_time": "2022-02-21T07:07:53.845Z"
   },
   {
    "duration": 7,
    "start_time": "2022-02-21T07:07:53.943Z"
   },
   {
    "duration": 26,
    "start_time": "2022-02-21T07:07:53.952Z"
   },
   {
    "duration": 19,
    "start_time": "2022-02-21T07:07:53.980Z"
   },
   {
    "duration": 143,
    "start_time": "2022-02-21T07:07:54.001Z"
   },
   {
    "duration": 9,
    "start_time": "2022-02-21T07:07:54.146Z"
   },
   {
    "duration": 19,
    "start_time": "2022-02-21T07:07:54.157Z"
   },
   {
    "duration": 45,
    "start_time": "2022-02-21T07:07:54.178Z"
   },
   {
    "duration": 11,
    "start_time": "2022-02-21T07:07:54.225Z"
   },
   {
    "duration": 18,
    "start_time": "2022-02-21T07:07:54.238Z"
   },
   {
    "duration": 10,
    "start_time": "2022-02-21T07:07:54.258Z"
   },
   {
    "duration": 8,
    "start_time": "2022-02-21T07:07:54.272Z"
   },
   {
    "duration": 7,
    "start_time": "2022-02-21T07:07:54.282Z"
   },
   {
    "duration": 94,
    "start_time": "2022-02-21T07:07:54.290Z"
   },
   {
    "duration": 13,
    "start_time": "2022-02-21T07:07:54.386Z"
   },
   {
    "duration": 723,
    "start_time": "2022-02-21T07:07:54.400Z"
   },
   {
    "duration": 79,
    "start_time": "2022-02-21T07:07:55.125Z"
   },
   {
    "duration": 12,
    "start_time": "2022-02-21T07:07:55.206Z"
   },
   {
    "duration": 9,
    "start_time": "2022-02-21T07:07:55.220Z"
   },
   {
    "duration": 4,
    "start_time": "2022-02-21T07:07:55.231Z"
   },
   {
    "duration": 6,
    "start_time": "2022-02-21T07:07:55.237Z"
   },
   {
    "duration": 4,
    "start_time": "2022-02-21T07:07:55.245Z"
   },
   {
    "duration": 6,
    "start_time": "2022-02-21T07:07:55.251Z"
   },
   {
    "duration": 60,
    "start_time": "2022-02-21T07:07:55.258Z"
   },
   {
    "duration": 12,
    "start_time": "2022-02-21T07:07:55.321Z"
   },
   {
    "duration": 451,
    "start_time": "2022-02-21T07:07:55.335Z"
   },
   {
    "duration": 52,
    "start_time": "2022-02-21T07:07:55.789Z"
   },
   {
    "duration": 41,
    "start_time": "2022-02-21T07:07:55.843Z"
   },
   {
    "duration": 13,
    "start_time": "2022-02-21T07:07:55.886Z"
   },
   {
    "duration": 656,
    "start_time": "2022-02-21T07:07:55.918Z"
   },
   {
    "duration": 63,
    "start_time": "2022-02-21T07:07:56.576Z"
   },
   {
    "duration": 9,
    "start_time": "2022-02-21T07:07:56.641Z"
   },
   {
    "duration": 14,
    "start_time": "2022-02-21T07:07:56.651Z"
   },
   {
    "duration": 4,
    "start_time": "2022-02-21T07:07:56.666Z"
   },
   {
    "duration": 12,
    "start_time": "2022-02-21T07:07:56.671Z"
   },
   {
    "duration": 599,
    "start_time": "2022-02-21T07:07:56.684Z"
   },
   {
    "duration": 12,
    "start_time": "2022-02-21T07:08:37.333Z"
   },
   {
    "duration": 28,
    "start_time": "2022-02-21T07:15:06.161Z"
   },
   {
    "duration": 4,
    "start_time": "2022-02-21T07:15:49.635Z"
   },
   {
    "duration": 9,
    "start_time": "2022-02-21T07:15:49.975Z"
   },
   {
    "duration": 20,
    "start_time": "2022-02-21T07:18:11.975Z"
   },
   {
    "duration": 3,
    "start_time": "2022-02-21T07:18:17.972Z"
   },
   {
    "duration": 7,
    "start_time": "2022-02-21T07:18:18.408Z"
   },
   {
    "duration": 791,
    "start_time": "2022-02-21T07:19:39.261Z"
   },
   {
    "duration": 17,
    "start_time": "2022-02-21T07:19:40.055Z"
   },
   {
    "duration": 17,
    "start_time": "2022-02-21T07:19:40.075Z"
   },
   {
    "duration": 10,
    "start_time": "2022-02-21T07:19:40.093Z"
   },
   {
    "duration": 5,
    "start_time": "2022-02-21T07:19:40.118Z"
   },
   {
    "duration": 169,
    "start_time": "2022-02-21T07:19:40.125Z"
   },
   {
    "duration": 9,
    "start_time": "2022-02-21T07:19:40.296Z"
   },
   {
    "duration": 23,
    "start_time": "2022-02-21T07:19:40.320Z"
   },
   {
    "duration": 5,
    "start_time": "2022-02-21T07:19:40.346Z"
   },
   {
    "duration": 14,
    "start_time": "2022-02-21T07:19:40.353Z"
   },
   {
    "duration": 58,
    "start_time": "2022-02-21T07:19:40.369Z"
   },
   {
    "duration": 100,
    "start_time": "2022-02-21T07:19:40.429Z"
   },
   {
    "duration": 9,
    "start_time": "2022-02-21T07:19:40.531Z"
   },
   {
    "duration": 23,
    "start_time": "2022-02-21T07:19:40.541Z"
   },
   {
    "duration": 29,
    "start_time": "2022-02-21T07:19:40.566Z"
   },
   {
    "duration": 194,
    "start_time": "2022-02-21T07:19:40.597Z"
   },
   {
    "duration": 11,
    "start_time": "2022-02-21T07:19:40.794Z"
   },
   {
    "duration": 29,
    "start_time": "2022-02-21T07:19:40.819Z"
   },
   {
    "duration": 23,
    "start_time": "2022-02-21T07:19:40.851Z"
   },
   {
    "duration": 11,
    "start_time": "2022-02-21T07:19:40.875Z"
   },
   {
    "duration": 34,
    "start_time": "2022-02-21T07:19:40.887Z"
   },
   {
    "duration": 11,
    "start_time": "2022-02-21T07:19:40.924Z"
   },
   {
    "duration": 12,
    "start_time": "2022-02-21T07:19:40.938Z"
   },
   {
    "duration": 7,
    "start_time": "2022-02-21T07:19:40.952Z"
   },
   {
    "duration": 100,
    "start_time": "2022-02-21T07:19:40.960Z"
   },
   {
    "duration": 19,
    "start_time": "2022-02-21T07:19:41.062Z"
   },
   {
    "duration": 770,
    "start_time": "2022-02-21T07:19:41.083Z"
   },
   {
    "duration": 90,
    "start_time": "2022-02-21T07:19:41.855Z"
   },
   {
    "duration": 3,
    "start_time": "2022-02-21T07:19:41.947Z"
   },
   {
    "duration": 13,
    "start_time": "2022-02-21T07:19:41.951Z"
   },
   {
    "duration": 40,
    "start_time": "2022-02-21T07:19:41.965Z"
   },
   {
    "duration": 19,
    "start_time": "2022-02-21T07:19:42.007Z"
   },
   {
    "duration": 441,
    "start_time": "2022-02-21T07:19:42.028Z"
   },
   {
    "duration": 62,
    "start_time": "2022-02-21T07:19:42.471Z"
   },
   {
    "duration": 2,
    "start_time": "2022-02-21T07:19:42.535Z"
   },
   {
    "duration": 16,
    "start_time": "2022-02-21T07:19:42.539Z"
   },
   {
    "duration": 61,
    "start_time": "2022-02-21T07:19:42.557Z"
   },
   {
    "duration": 15,
    "start_time": "2022-02-21T07:19:42.620Z"
   },
   {
    "duration": 586,
    "start_time": "2022-02-21T07:19:42.637Z"
   },
   {
    "duration": 56,
    "start_time": "2022-02-21T07:19:43.225Z"
   },
   {
    "duration": 3,
    "start_time": "2022-02-21T07:19:43.283Z"
   },
   {
    "duration": 31,
    "start_time": "2022-02-21T07:19:43.288Z"
   },
   {
    "duration": 8,
    "start_time": "2022-02-21T07:19:43.321Z"
   },
   {
    "duration": 9,
    "start_time": "2022-02-21T07:19:43.331Z"
   },
   {
    "duration": 6,
    "start_time": "2022-02-21T07:19:43.342Z"
   },
   {
    "duration": 9,
    "start_time": "2022-02-21T07:19:43.350Z"
   },
   {
    "duration": 788,
    "start_time": "2022-02-21T07:19:43.361Z"
   },
   {
    "duration": 11,
    "start_time": "2022-02-21T07:22:29.822Z"
   },
   {
    "duration": 9,
    "start_time": "2022-02-21T07:22:30.201Z"
   },
   {
    "duration": 10,
    "start_time": "2022-02-21T07:23:05.165Z"
   },
   {
    "duration": 11,
    "start_time": "2022-02-21T07:23:05.733Z"
   },
   {
    "duration": 11,
    "start_time": "2022-02-21T07:23:48.027Z"
   },
   {
    "duration": 11,
    "start_time": "2022-02-21T07:23:48.743Z"
   },
   {
    "duration": 12,
    "start_time": "2022-02-21T07:23:53.282Z"
   },
   {
    "duration": 10,
    "start_time": "2022-02-21T07:23:53.774Z"
   },
   {
    "duration": 18,
    "start_time": "2022-02-21T07:24:12.085Z"
   },
   {
    "duration": 14,
    "start_time": "2022-02-21T07:24:18.989Z"
   },
   {
    "duration": 13,
    "start_time": "2022-02-21T07:24:22.978Z"
   },
   {
    "duration": 12,
    "start_time": "2022-02-21T07:24:28.726Z"
   },
   {
    "duration": 652,
    "start_time": "2022-02-21T07:28:20.758Z"
   },
   {
    "duration": 21,
    "start_time": "2022-02-21T07:28:21.413Z"
   },
   {
    "duration": 18,
    "start_time": "2022-02-21T07:28:21.436Z"
   },
   {
    "duration": 7,
    "start_time": "2022-02-21T07:28:21.456Z"
   },
   {
    "duration": 6,
    "start_time": "2022-02-21T07:28:21.465Z"
   },
   {
    "duration": 174,
    "start_time": "2022-02-21T07:28:21.473Z"
   },
   {
    "duration": 10,
    "start_time": "2022-02-21T07:28:21.649Z"
   },
   {
    "duration": 24,
    "start_time": "2022-02-21T07:28:21.662Z"
   },
   {
    "duration": 4,
    "start_time": "2022-02-21T07:28:21.688Z"
   },
   {
    "duration": 27,
    "start_time": "2022-02-21T07:28:21.694Z"
   },
   {
    "duration": 33,
    "start_time": "2022-02-21T07:28:21.723Z"
   },
   {
    "duration": 107,
    "start_time": "2022-02-21T07:28:21.757Z"
   },
   {
    "duration": 7,
    "start_time": "2022-02-21T07:28:21.866Z"
   },
   {
    "duration": 26,
    "start_time": "2022-02-21T07:28:21.875Z"
   },
   {
    "duration": 29,
    "start_time": "2022-02-21T07:28:21.903Z"
   },
   {
    "duration": 143,
    "start_time": "2022-02-21T07:28:21.934Z"
   },
   {
    "duration": 8,
    "start_time": "2022-02-21T07:28:22.079Z"
   },
   {
    "duration": 29,
    "start_time": "2022-02-21T07:28:22.089Z"
   },
   {
    "duration": 25,
    "start_time": "2022-02-21T07:28:22.120Z"
   },
   {
    "duration": 11,
    "start_time": "2022-02-21T07:28:22.147Z"
   },
   {
    "duration": 16,
    "start_time": "2022-02-21T07:28:22.159Z"
   },
   {
    "duration": 13,
    "start_time": "2022-02-21T07:28:22.177Z"
   },
   {
    "duration": 28,
    "start_time": "2022-02-21T07:28:22.194Z"
   },
   {
    "duration": 12,
    "start_time": "2022-02-21T07:28:22.224Z"
   },
   {
    "duration": 90,
    "start_time": "2022-02-21T07:28:22.238Z"
   },
   {
    "duration": 14,
    "start_time": "2022-02-21T07:28:22.330Z"
   },
   {
    "duration": 772,
    "start_time": "2022-02-21T07:28:22.346Z"
   },
   {
    "duration": 83,
    "start_time": "2022-02-21T07:28:23.119Z"
   },
   {
    "duration": 3,
    "start_time": "2022-02-21T07:28:23.204Z"
   },
   {
    "duration": 17,
    "start_time": "2022-02-21T07:28:23.208Z"
   },
   {
    "duration": 36,
    "start_time": "2022-02-21T07:28:23.227Z"
   },
   {
    "duration": 12,
    "start_time": "2022-02-21T07:28:23.264Z"
   },
   {
    "duration": 469,
    "start_time": "2022-02-21T07:28:23.278Z"
   },
   {
    "duration": 54,
    "start_time": "2022-02-21T07:28:23.749Z"
   },
   {
    "duration": 14,
    "start_time": "2022-02-21T07:28:23.804Z"
   },
   {
    "duration": 8,
    "start_time": "2022-02-21T07:28:23.820Z"
   },
   {
    "duration": 60,
    "start_time": "2022-02-21T07:28:23.830Z"
   },
   {
    "duration": 31,
    "start_time": "2022-02-21T07:28:23.892Z"
   },
   {
    "duration": 602,
    "start_time": "2022-02-21T07:28:23.924Z"
   },
   {
    "duration": 57,
    "start_time": "2022-02-21T07:28:24.529Z"
   },
   {
    "duration": 3,
    "start_time": "2022-02-21T07:28:24.588Z"
   },
   {
    "duration": 53,
    "start_time": "2022-02-21T07:28:24.592Z"
   },
   {
    "duration": 53,
    "start_time": "2022-02-21T07:28:24.647Z"
   },
   {
    "duration": 45,
    "start_time": "2022-02-21T07:28:24.702Z"
   },
   {
    "duration": 32,
    "start_time": "2022-02-21T07:28:24.749Z"
   },
   {
    "duration": 36,
    "start_time": "2022-02-21T07:28:24.783Z"
   },
   {
    "duration": 45,
    "start_time": "2022-02-21T07:28:24.821Z"
   },
   {
    "duration": 21,
    "start_time": "2022-02-21T07:28:24.868Z"
   },
   {
    "duration": 4,
    "start_time": "2022-02-21T07:31:04.967Z"
   },
   {
    "duration": 5,
    "start_time": "2022-02-21T07:31:15.329Z"
   },
   {
    "duration": 4,
    "start_time": "2022-02-21T07:31:25.611Z"
   },
   {
    "duration": 5,
    "start_time": "2022-02-21T07:31:53.871Z"
   },
   {
    "duration": 14,
    "start_time": "2022-02-21T07:36:21.784Z"
   },
   {
    "duration": 12,
    "start_time": "2022-02-21T07:36:27.339Z"
   },
   {
    "duration": 4,
    "start_time": "2022-02-21T07:36:43.110Z"
   },
   {
    "duration": 13,
    "start_time": "2022-02-21T07:38:00.617Z"
   },
   {
    "duration": 10,
    "start_time": "2022-02-21T07:38:01.113Z"
   },
   {
    "duration": 10,
    "start_time": "2022-02-21T07:38:01.592Z"
   },
   {
    "duration": 879,
    "start_time": "2022-02-21T07:38:08.244Z"
   },
   {
    "duration": 19,
    "start_time": "2022-02-21T07:38:09.125Z"
   },
   {
    "duration": 18,
    "start_time": "2022-02-21T07:38:09.146Z"
   },
   {
    "duration": 8,
    "start_time": "2022-02-21T07:38:09.166Z"
   },
   {
    "duration": 7,
    "start_time": "2022-02-21T07:38:09.176Z"
   },
   {
    "duration": 165,
    "start_time": "2022-02-21T07:38:09.185Z"
   },
   {
    "duration": 9,
    "start_time": "2022-02-21T07:38:09.352Z"
   },
   {
    "duration": 21,
    "start_time": "2022-02-21T07:38:09.364Z"
   },
   {
    "duration": 4,
    "start_time": "2022-02-21T07:38:09.388Z"
   },
   {
    "duration": 25,
    "start_time": "2022-02-21T07:38:09.394Z"
   },
   {
    "duration": 50,
    "start_time": "2022-02-21T07:38:09.421Z"
   },
   {
    "duration": 96,
    "start_time": "2022-02-21T07:38:09.474Z"
   },
   {
    "duration": 8,
    "start_time": "2022-02-21T07:38:09.572Z"
   },
   {
    "duration": 15,
    "start_time": "2022-02-21T07:38:09.582Z"
   },
   {
    "duration": 31,
    "start_time": "2022-02-21T07:38:09.599Z"
   },
   {
    "duration": 151,
    "start_time": "2022-02-21T07:38:09.632Z"
   },
   {
    "duration": 9,
    "start_time": "2022-02-21T07:38:09.785Z"
   },
   {
    "duration": 29,
    "start_time": "2022-02-21T07:38:09.795Z"
   },
   {
    "duration": 23,
    "start_time": "2022-02-21T07:38:09.825Z"
   },
   {
    "duration": 10,
    "start_time": "2022-02-21T07:38:09.850Z"
   },
   {
    "duration": 12,
    "start_time": "2022-02-21T07:38:09.862Z"
   },
   {
    "duration": 12,
    "start_time": "2022-02-21T07:38:09.876Z"
   },
   {
    "duration": 29,
    "start_time": "2022-02-21T07:38:09.892Z"
   },
   {
    "duration": 84,
    "start_time": "2022-02-21T07:38:09.923Z"
   },
   {
    "duration": 21,
    "start_time": "2022-02-21T07:38:10.009Z"
   },
   {
    "duration": 775,
    "start_time": "2022-02-21T07:38:10.032Z"
   },
   {
    "duration": 86,
    "start_time": "2022-02-21T07:38:10.809Z"
   },
   {
    "duration": 3,
    "start_time": "2022-02-21T07:38:10.897Z"
   },
   {
    "duration": 21,
    "start_time": "2022-02-21T07:38:10.902Z"
   },
   {
    "duration": 6,
    "start_time": "2022-02-21T07:38:10.925Z"
   },
   {
    "duration": 44,
    "start_time": "2022-02-21T07:38:10.932Z"
   },
   {
    "duration": 13,
    "start_time": "2022-02-21T07:38:10.978Z"
   },
   {
    "duration": 488,
    "start_time": "2022-02-21T07:38:10.993Z"
   },
   {
    "duration": 63,
    "start_time": "2022-02-21T07:38:11.483Z"
   },
   {
    "duration": 3,
    "start_time": "2022-02-21T07:38:11.548Z"
   },
   {
    "duration": 11,
    "start_time": "2022-02-21T07:38:11.552Z"
   },
   {
    "duration": 5,
    "start_time": "2022-02-21T07:38:11.565Z"
   },
   {
    "duration": 71,
    "start_time": "2022-02-21T07:38:11.572Z"
   },
   {
    "duration": 13,
    "start_time": "2022-02-21T07:38:11.645Z"
   },
   {
    "duration": 592,
    "start_time": "2022-02-21T07:38:11.660Z"
   },
   {
    "duration": 52,
    "start_time": "2022-02-21T07:38:12.253Z"
   },
   {
    "duration": 11,
    "start_time": "2022-02-21T07:38:12.307Z"
   },
   {
    "duration": 7,
    "start_time": "2022-02-21T07:38:12.320Z"
   },
   {
    "duration": 28,
    "start_time": "2022-02-21T07:38:12.329Z"
   },
   {
    "duration": 7,
    "start_time": "2022-02-21T07:38:12.359Z"
   },
   {
    "duration": 10,
    "start_time": "2022-02-21T07:38:12.368Z"
   },
   {
    "duration": 10,
    "start_time": "2022-02-21T07:38:12.379Z"
   },
   {
    "duration": 18,
    "start_time": "2022-02-21T07:38:12.391Z"
   },
   {
    "duration": 9,
    "start_time": "2022-02-21T07:38:12.411Z"
   },
   {
    "duration": 10,
    "start_time": "2022-02-21T07:38:12.422Z"
   },
   {
    "duration": 7,
    "start_time": "2022-02-21T07:38:12.433Z"
   },
   {
    "duration": 440,
    "start_time": "2022-02-21T07:38:28.583Z"
   },
   {
    "duration": 698,
    "start_time": "2022-02-21T07:38:57.498Z"
   },
   {
    "duration": 22,
    "start_time": "2022-02-21T07:38:58.198Z"
   },
   {
    "duration": 20,
    "start_time": "2022-02-21T07:38:58.225Z"
   },
   {
    "duration": 10,
    "start_time": "2022-02-21T07:38:58.246Z"
   },
   {
    "duration": 10,
    "start_time": "2022-02-21T07:38:58.258Z"
   },
   {
    "duration": 162,
    "start_time": "2022-02-21T07:38:58.270Z"
   },
   {
    "duration": 9,
    "start_time": "2022-02-21T07:38:58.435Z"
   },
   {
    "duration": 24,
    "start_time": "2022-02-21T07:38:58.447Z"
   },
   {
    "duration": 5,
    "start_time": "2022-02-21T07:38:58.473Z"
   },
   {
    "duration": 11,
    "start_time": "2022-02-21T07:38:58.480Z"
   },
   {
    "duration": 57,
    "start_time": "2022-02-21T07:38:58.494Z"
   },
   {
    "duration": 99,
    "start_time": "2022-02-21T07:38:58.553Z"
   },
   {
    "duration": 7,
    "start_time": "2022-02-21T07:38:58.655Z"
   },
   {
    "duration": 20,
    "start_time": "2022-02-21T07:38:58.664Z"
   },
   {
    "duration": 21,
    "start_time": "2022-02-21T07:38:58.686Z"
   },
   {
    "duration": 138,
    "start_time": "2022-02-21T07:38:58.718Z"
   },
   {
    "duration": 9,
    "start_time": "2022-02-21T07:38:58.858Z"
   },
   {
    "duration": 23,
    "start_time": "2022-02-21T07:38:58.869Z"
   },
   {
    "duration": 37,
    "start_time": "2022-02-21T07:38:58.894Z"
   },
   {
    "duration": 12,
    "start_time": "2022-02-21T07:38:58.932Z"
   },
   {
    "duration": 14,
    "start_time": "2022-02-21T07:38:58.945Z"
   },
   {
    "duration": 8,
    "start_time": "2022-02-21T07:38:58.963Z"
   },
   {
    "duration": 13,
    "start_time": "2022-02-21T07:38:58.973Z"
   },
   {
    "duration": 91,
    "start_time": "2022-02-21T07:38:58.987Z"
   },
   {
    "duration": 12,
    "start_time": "2022-02-21T07:38:59.080Z"
   },
   {
    "duration": 905,
    "start_time": "2022-02-21T07:38:59.094Z"
   },
   {
    "duration": 106,
    "start_time": "2022-02-21T07:39:00.002Z"
   },
   {
    "duration": 3,
    "start_time": "2022-02-21T07:39:00.110Z"
   },
   {
    "duration": 13,
    "start_time": "2022-02-21T07:39:00.119Z"
   },
   {
    "duration": 11,
    "start_time": "2022-02-21T07:39:00.134Z"
   },
   {
    "duration": 45,
    "start_time": "2022-02-21T07:39:00.147Z"
   },
   {
    "duration": 33,
    "start_time": "2022-02-21T07:39:00.194Z"
   },
   {
    "duration": 517,
    "start_time": "2022-02-21T07:39:00.229Z"
   },
   {
    "duration": 56,
    "start_time": "2022-02-21T07:39:00.748Z"
   },
   {
    "duration": 13,
    "start_time": "2022-02-21T07:39:00.806Z"
   },
   {
    "duration": 25,
    "start_time": "2022-02-21T07:39:00.820Z"
   },
   {
    "duration": 7,
    "start_time": "2022-02-21T07:39:00.847Z"
   },
   {
    "duration": 65,
    "start_time": "2022-02-21T07:39:00.856Z"
   },
   {
    "duration": 15,
    "start_time": "2022-02-21T07:39:00.923Z"
   },
   {
    "duration": 605,
    "start_time": "2022-02-21T07:39:00.940Z"
   },
   {
    "duration": 71,
    "start_time": "2022-02-21T07:39:01.547Z"
   },
   {
    "duration": 3,
    "start_time": "2022-02-21T07:39:01.621Z"
   },
   {
    "duration": 48,
    "start_time": "2022-02-21T07:39:01.625Z"
   },
   {
    "duration": 25,
    "start_time": "2022-02-21T07:39:01.676Z"
   },
   {
    "duration": 48,
    "start_time": "2022-02-21T07:39:01.704Z"
   },
   {
    "duration": 29,
    "start_time": "2022-02-21T07:39:01.754Z"
   },
   {
    "duration": 9,
    "start_time": "2022-02-21T07:39:01.786Z"
   },
   {
    "duration": 42,
    "start_time": "2022-02-21T07:39:01.797Z"
   },
   {
    "duration": 25,
    "start_time": "2022-02-21T07:39:01.841Z"
   },
   {
    "duration": 42,
    "start_time": "2022-02-21T07:39:01.868Z"
   },
   {
    "duration": 32,
    "start_time": "2022-02-21T07:39:01.912Z"
   },
   {
    "duration": 9,
    "start_time": "2022-02-21T07:45:29.328Z"
   },
   {
    "duration": 490,
    "start_time": "2022-02-21T07:47:55.758Z"
   },
   {
    "duration": 3,
    "start_time": "2022-02-21T07:47:58.835Z"
   },
   {
    "duration": 4,
    "start_time": "2022-02-21T07:48:01.472Z"
   },
   {
    "duration": 3,
    "start_time": "2022-02-21T07:48:08.144Z"
   },
   {
    "duration": 4,
    "start_time": "2022-02-21T07:48:13.425Z"
   },
   {
    "duration": 392,
    "start_time": "2022-02-21T07:48:38.192Z"
   },
   {
    "duration": 3,
    "start_time": "2022-02-21T07:48:41.769Z"
   },
   {
    "duration": 3,
    "start_time": "2022-02-21T07:48:42.549Z"
   },
   {
    "duration": 6,
    "start_time": "2022-02-21T07:49:45.577Z"
   },
   {
    "duration": 4,
    "start_time": "2022-02-21T07:49:47.117Z"
   },
   {
    "duration": 9,
    "start_time": "2022-02-21T07:49:48.654Z"
   },
   {
    "duration": 3,
    "start_time": "2022-02-21T07:51:08.602Z"
   },
   {
    "duration": 368,
    "start_time": "2022-02-21T07:51:09.281Z"
   },
   {
    "duration": 4,
    "start_time": "2022-02-21T07:51:18.324Z"
   },
   {
    "duration": 3,
    "start_time": "2022-02-21T07:51:30.798Z"
   },
   {
    "duration": 4,
    "start_time": "2022-02-21T07:51:31.267Z"
   },
   {
    "duration": 4,
    "start_time": "2022-02-21T07:51:48.409Z"
   },
   {
    "duration": 4,
    "start_time": "2022-02-21T07:51:49.331Z"
   },
   {
    "duration": 490,
    "start_time": "2022-02-21T07:53:15.986Z"
   },
   {
    "duration": 448,
    "start_time": "2022-02-21T07:53:29.546Z"
   },
   {
    "duration": 4,
    "start_time": "2022-02-21T07:53:53.180Z"
   },
   {
    "duration": 4,
    "start_time": "2022-02-21T07:53:53.585Z"
   },
   {
    "duration": 1690,
    "start_time": "2022-02-21T07:53:59.499Z"
   },
   {
    "duration": 723,
    "start_time": "2022-02-21T07:54:09.230Z"
   },
   {
    "duration": 20,
    "start_time": "2022-02-21T07:54:09.955Z"
   },
   {
    "duration": 21,
    "start_time": "2022-02-21T07:54:09.978Z"
   },
   {
    "duration": 17,
    "start_time": "2022-02-21T07:54:10.002Z"
   },
   {
    "duration": 30,
    "start_time": "2022-02-21T07:54:10.021Z"
   },
   {
    "duration": 221,
    "start_time": "2022-02-21T07:54:10.053Z"
   },
   {
    "duration": 10,
    "start_time": "2022-02-21T07:54:10.276Z"
   },
   {
    "duration": 36,
    "start_time": "2022-02-21T07:54:10.289Z"
   },
   {
    "duration": 5,
    "start_time": "2022-02-21T07:54:10.327Z"
   },
   {
    "duration": 19,
    "start_time": "2022-02-21T07:54:10.333Z"
   },
   {
    "duration": 34,
    "start_time": "2022-02-21T07:54:10.354Z"
   },
   {
    "duration": 108,
    "start_time": "2022-02-21T07:54:10.390Z"
   },
   {
    "duration": 8,
    "start_time": "2022-02-21T07:54:10.499Z"
   },
   {
    "duration": 27,
    "start_time": "2022-02-21T07:54:10.509Z"
   },
   {
    "duration": 270,
    "start_time": "2022-02-21T07:54:10.538Z"
   },
   {
    "duration": 138,
    "start_time": "2022-02-21T07:54:10.810Z"
   },
   {
    "duration": 9,
    "start_time": "2022-02-21T07:54:10.950Z"
   },
   {
    "duration": 34,
    "start_time": "2022-02-21T07:54:10.961Z"
   },
   {
    "duration": 34,
    "start_time": "2022-02-21T07:54:10.997Z"
   },
   {
    "duration": 11,
    "start_time": "2022-02-21T07:54:11.033Z"
   },
   {
    "duration": 22,
    "start_time": "2022-02-21T07:54:11.046Z"
   },
   {
    "duration": 16,
    "start_time": "2022-02-21T07:54:11.070Z"
   },
   {
    "duration": 20,
    "start_time": "2022-02-21T07:54:11.091Z"
   },
   {
    "duration": 104,
    "start_time": "2022-02-21T07:54:11.114Z"
   },
   {
    "duration": 15,
    "start_time": "2022-02-21T07:54:11.220Z"
   },
   {
    "duration": 788,
    "start_time": "2022-02-21T07:54:11.237Z"
   },
   {
    "duration": 97,
    "start_time": "2022-02-21T07:54:12.027Z"
   },
   {
    "duration": 3,
    "start_time": "2022-02-21T07:54:12.126Z"
   },
   {
    "duration": 16,
    "start_time": "2022-02-21T07:54:12.130Z"
   },
   {
    "duration": 12,
    "start_time": "2022-02-21T07:54:12.148Z"
   },
   {
    "duration": 40,
    "start_time": "2022-02-21T07:54:12.161Z"
   },
   {
    "duration": 20,
    "start_time": "2022-02-21T07:54:12.203Z"
   },
   {
    "duration": 462,
    "start_time": "2022-02-21T07:54:12.224Z"
   },
   {
    "duration": 60,
    "start_time": "2022-02-21T07:54:12.688Z"
   },
   {
    "duration": 3,
    "start_time": "2022-02-21T07:54:12.750Z"
   },
   {
    "duration": 11,
    "start_time": "2022-02-21T07:54:12.755Z"
   },
   {
    "duration": 5,
    "start_time": "2022-02-21T07:54:12.768Z"
   },
   {
    "duration": 76,
    "start_time": "2022-02-21T07:54:12.775Z"
   },
   {
    "duration": 14,
    "start_time": "2022-02-21T07:54:12.853Z"
   },
   {
    "duration": 587,
    "start_time": "2022-02-21T07:54:12.869Z"
   },
   {
    "duration": 74,
    "start_time": "2022-02-21T07:54:13.458Z"
   },
   {
    "duration": 2,
    "start_time": "2022-02-21T07:54:13.534Z"
   },
   {
    "duration": 16,
    "start_time": "2022-02-21T07:54:13.538Z"
   },
   {
    "duration": 15,
    "start_time": "2022-02-21T07:54:13.556Z"
   },
   {
    "duration": 7,
    "start_time": "2022-02-21T07:54:13.573Z"
   },
   {
    "duration": 13,
    "start_time": "2022-02-21T07:54:13.581Z"
   },
   {
    "duration": 5,
    "start_time": "2022-02-21T07:54:13.596Z"
   },
   {
    "duration": 19,
    "start_time": "2022-02-21T07:54:13.603Z"
   },
   {
    "duration": 15,
    "start_time": "2022-02-21T07:54:13.624Z"
   },
   {
    "duration": 12,
    "start_time": "2022-02-21T07:54:13.642Z"
   },
   {
    "duration": 10,
    "start_time": "2022-02-21T07:54:13.656Z"
   },
   {
    "duration": 6,
    "start_time": "2022-02-21T07:54:13.668Z"
   },
   {
    "duration": 11,
    "start_time": "2022-02-21T07:54:13.676Z"
   },
   {
    "duration": 7,
    "start_time": "2022-02-21T07:54:13.689Z"
   },
   {
    "duration": 4,
    "start_time": "2022-02-21T07:54:13.718Z"
   },
   {
    "duration": 435,
    "start_time": "2022-02-21T07:54:13.723Z"
   },
   {
    "duration": 349,
    "start_time": "2022-02-21T07:56:11.793Z"
   },
   {
    "duration": 363,
    "start_time": "2022-02-21T07:56:23.686Z"
   },
   {
    "duration": 350,
    "start_time": "2022-02-21T07:56:27.586Z"
   },
   {
    "duration": 347,
    "start_time": "2022-02-21T07:56:37.399Z"
   },
   {
    "duration": 3,
    "start_time": "2022-02-21T07:56:42.260Z"
   },
   {
    "duration": 3,
    "start_time": "2022-02-21T07:56:42.712Z"
   },
   {
    "duration": 374,
    "start_time": "2022-02-21T07:59:07.962Z"
   },
   {
    "duration": 6,
    "start_time": "2022-02-21T08:00:35.603Z"
   },
   {
    "duration": 3,
    "start_time": "2022-02-21T08:02:07.618Z"
   },
   {
    "duration": 4,
    "start_time": "2022-02-21T08:02:08.349Z"
   },
   {
    "duration": 11819,
    "start_time": "2022-02-21T08:02:22.692Z"
   },
   {
    "duration": 5,
    "start_time": "2022-02-21T08:02:38.946Z"
   },
   {
    "duration": 3,
    "start_time": "2022-02-21T08:04:28.015Z"
   },
   {
    "duration": 4,
    "start_time": "2022-02-21T08:04:28.649Z"
   },
   {
    "duration": 3,
    "start_time": "2022-02-21T08:04:46.055Z"
   },
   {
    "duration": 4,
    "start_time": "2022-02-21T08:04:46.446Z"
   },
   {
    "duration": 4,
    "start_time": "2022-02-21T08:05:53.939Z"
   },
   {
    "duration": 3,
    "start_time": "2022-02-21T08:05:54.216Z"
   },
   {
    "duration": 403,
    "start_time": "2022-02-21T13:31:34.569Z"
   },
   {
    "duration": 11,
    "start_time": "2022-02-21T13:34:33.182Z"
   },
   {
    "duration": 609,
    "start_time": "2022-02-21T13:34:44.261Z"
   },
   {
    "duration": 20,
    "start_time": "2022-02-21T13:34:44.872Z"
   },
   {
    "duration": 20,
    "start_time": "2022-02-21T13:34:44.894Z"
   },
   {
    "duration": 13,
    "start_time": "2022-02-21T13:34:44.916Z"
   },
   {
    "duration": 15,
    "start_time": "2022-02-21T13:34:44.931Z"
   },
   {
    "duration": 179,
    "start_time": "2022-02-21T13:34:44.948Z"
   },
   {
    "duration": 13,
    "start_time": "2022-02-21T13:34:45.129Z"
   },
   {
    "duration": 34,
    "start_time": "2022-02-21T13:34:45.145Z"
   },
   {
    "duration": 13,
    "start_time": "2022-02-21T13:34:45.182Z"
   },
   {
    "duration": 16,
    "start_time": "2022-02-21T13:34:45.197Z"
   },
   {
    "duration": 50,
    "start_time": "2022-02-21T13:34:45.218Z"
   },
   {
    "duration": 130,
    "start_time": "2022-02-21T13:34:45.270Z"
   },
   {
    "duration": 9,
    "start_time": "2022-02-21T13:34:45.403Z"
   },
   {
    "duration": 34,
    "start_time": "2022-02-21T13:34:45.414Z"
   },
   {
    "duration": 21,
    "start_time": "2022-02-21T13:34:45.450Z"
   },
   {
    "duration": 154,
    "start_time": "2022-02-21T13:34:45.473Z"
   },
   {
    "duration": 10,
    "start_time": "2022-02-21T13:34:45.629Z"
   },
   {
    "duration": 26,
    "start_time": "2022-02-21T13:34:45.640Z"
   },
   {
    "duration": 25,
    "start_time": "2022-02-21T13:34:45.668Z"
   },
   {
    "duration": 25,
    "start_time": "2022-02-21T13:34:45.694Z"
   },
   {
    "duration": 17,
    "start_time": "2022-02-21T13:34:45.721Z"
   },
   {
    "duration": 11,
    "start_time": "2022-02-21T13:34:45.741Z"
   },
   {
    "duration": 10,
    "start_time": "2022-02-21T13:34:45.756Z"
   },
   {
    "duration": 101,
    "start_time": "2022-02-21T13:34:45.769Z"
   },
   {
    "duration": 15,
    "start_time": "2022-02-21T13:34:45.872Z"
   },
   {
    "duration": 783,
    "start_time": "2022-02-21T13:34:45.889Z"
   },
   {
    "duration": 88,
    "start_time": "2022-02-21T13:34:46.674Z"
   },
   {
    "duration": 3,
    "start_time": "2022-02-21T13:34:46.763Z"
   },
   {
    "duration": 23,
    "start_time": "2022-02-21T13:34:46.768Z"
   },
   {
    "duration": 15,
    "start_time": "2022-02-21T13:34:46.792Z"
   },
   {
    "duration": 44,
    "start_time": "2022-02-21T13:34:46.809Z"
   },
   {
    "duration": 12,
    "start_time": "2022-02-21T13:34:46.855Z"
   },
   {
    "duration": 464,
    "start_time": "2022-02-21T13:34:46.869Z"
   },
   {
    "duration": 53,
    "start_time": "2022-02-21T13:34:47.335Z"
   },
   {
    "duration": 3,
    "start_time": "2022-02-21T13:34:47.390Z"
   },
   {
    "duration": 11,
    "start_time": "2022-02-21T13:34:47.395Z"
   },
   {
    "duration": 28,
    "start_time": "2022-02-21T13:34:47.407Z"
   },
   {
    "duration": 60,
    "start_time": "2022-02-21T13:34:47.437Z"
   },
   {
    "duration": 13,
    "start_time": "2022-02-21T13:34:47.499Z"
   },
   {
    "duration": 606,
    "start_time": "2022-02-21T13:34:47.514Z"
   },
   {
    "duration": 61,
    "start_time": "2022-02-21T13:34:48.122Z"
   },
   {
    "duration": 3,
    "start_time": "2022-02-21T13:34:48.184Z"
   },
   {
    "duration": 18,
    "start_time": "2022-02-21T13:34:48.189Z"
   },
   {
    "duration": 10,
    "start_time": "2022-02-21T13:34:48.208Z"
   },
   {
    "duration": 18,
    "start_time": "2022-02-21T13:34:48.224Z"
   },
   {
    "duration": 11,
    "start_time": "2022-02-21T13:34:48.244Z"
   },
   {
    "duration": 7,
    "start_time": "2022-02-21T13:34:48.257Z"
   },
   {
    "duration": 16,
    "start_time": "2022-02-21T13:34:48.266Z"
   },
   {
    "duration": 15,
    "start_time": "2022-02-21T13:34:48.284Z"
   },
   {
    "duration": 28,
    "start_time": "2022-02-21T13:34:48.302Z"
   },
   {
    "duration": 12,
    "start_time": "2022-02-21T13:34:48.332Z"
   },
   {
    "duration": 9,
    "start_time": "2022-02-21T13:34:48.347Z"
   },
   {
    "duration": 10,
    "start_time": "2022-02-21T13:34:48.358Z"
   },
   {
    "duration": 12,
    "start_time": "2022-02-21T13:34:48.370Z"
   },
   {
    "duration": 13,
    "start_time": "2022-02-21T13:34:48.383Z"
   },
   {
    "duration": 16,
    "start_time": "2022-02-21T13:34:48.398Z"
   },
   {
    "duration": 24,
    "start_time": "2022-02-21T13:34:48.419Z"
   },
   {
    "duration": 376,
    "start_time": "2022-02-21T13:34:48.445Z"
   },
   {
    "duration": 5,
    "start_time": "2022-02-21T13:35:46.015Z"
   },
   {
    "duration": 13,
    "start_time": "2022-02-21T13:35:47.778Z"
   },
   {
    "duration": 668,
    "start_time": "2022-02-21T13:35:55.027Z"
   },
   {
    "duration": 18,
    "start_time": "2022-02-21T13:35:55.697Z"
   },
   {
    "duration": 34,
    "start_time": "2022-02-21T13:35:55.717Z"
   },
   {
    "duration": 7,
    "start_time": "2022-02-21T13:35:55.753Z"
   },
   {
    "duration": 5,
    "start_time": "2022-02-21T13:35:55.763Z"
   },
   {
    "duration": 174,
    "start_time": "2022-02-21T13:35:55.770Z"
   },
   {
    "duration": 9,
    "start_time": "2022-02-21T13:35:55.945Z"
   },
   {
    "duration": 22,
    "start_time": "2022-02-21T13:35:55.957Z"
   },
   {
    "duration": 6,
    "start_time": "2022-02-21T13:35:55.982Z"
   },
   {
    "duration": 32,
    "start_time": "2022-02-21T13:35:55.989Z"
   },
   {
    "duration": 34,
    "start_time": "2022-02-21T13:35:56.023Z"
   },
   {
    "duration": 113,
    "start_time": "2022-02-21T13:35:56.059Z"
   },
   {
    "duration": 7,
    "start_time": "2022-02-21T13:35:56.174Z"
   },
   {
    "duration": 18,
    "start_time": "2022-02-21T13:35:56.183Z"
   },
   {
    "duration": 36,
    "start_time": "2022-02-21T13:35:56.203Z"
   },
   {
    "duration": 145,
    "start_time": "2022-02-21T13:35:56.240Z"
   },
   {
    "duration": 9,
    "start_time": "2022-02-21T13:35:56.386Z"
   },
   {
    "duration": 31,
    "start_time": "2022-02-21T13:35:56.397Z"
   },
   {
    "duration": 29,
    "start_time": "2022-02-21T13:35:56.430Z"
   },
   {
    "duration": 11,
    "start_time": "2022-02-21T13:35:56.461Z"
   },
   {
    "duration": 15,
    "start_time": "2022-02-21T13:35:56.474Z"
   },
   {
    "duration": 11,
    "start_time": "2022-02-21T13:35:56.490Z"
   },
   {
    "duration": 7,
    "start_time": "2022-02-21T13:35:56.518Z"
   },
   {
    "duration": 103,
    "start_time": "2022-02-21T13:35:56.527Z"
   },
   {
    "duration": 15,
    "start_time": "2022-02-21T13:35:56.632Z"
   },
   {
    "duration": 822,
    "start_time": "2022-02-21T13:35:56.648Z"
   },
   {
    "duration": 90,
    "start_time": "2022-02-21T13:35:57.472Z"
   },
   {
    "duration": 3,
    "start_time": "2022-02-21T13:35:57.564Z"
   },
   {
    "duration": 12,
    "start_time": "2022-02-21T13:35:57.568Z"
   },
   {
    "duration": 6,
    "start_time": "2022-02-21T13:35:57.581Z"
   },
   {
    "duration": 54,
    "start_time": "2022-02-21T13:35:57.588Z"
   },
   {
    "duration": 13,
    "start_time": "2022-02-21T13:35:57.644Z"
   },
   {
    "duration": 483,
    "start_time": "2022-02-21T13:35:57.658Z"
   },
   {
    "duration": 53,
    "start_time": "2022-02-21T13:35:58.143Z"
   },
   {
    "duration": 3,
    "start_time": "2022-02-21T13:35:58.198Z"
   },
   {
    "duration": 27,
    "start_time": "2022-02-21T13:35:58.202Z"
   },
   {
    "duration": 15,
    "start_time": "2022-02-21T13:35:58.231Z"
   },
   {
    "duration": 65,
    "start_time": "2022-02-21T13:35:58.248Z"
   },
   {
    "duration": 19,
    "start_time": "2022-02-21T13:35:58.314Z"
   },
   {
    "duration": 643,
    "start_time": "2022-02-21T13:35:58.335Z"
   },
   {
    "duration": 71,
    "start_time": "2022-02-21T13:35:58.980Z"
   },
   {
    "duration": 3,
    "start_time": "2022-02-21T13:35:59.052Z"
   },
   {
    "duration": 16,
    "start_time": "2022-02-21T13:35:59.057Z"
   },
   {
    "duration": 4,
    "start_time": "2022-02-21T13:35:59.075Z"
   },
   {
    "duration": 11,
    "start_time": "2022-02-21T13:35:59.080Z"
   },
   {
    "duration": 11,
    "start_time": "2022-02-21T13:35:59.093Z"
   },
   {
    "duration": 15,
    "start_time": "2022-02-21T13:35:59.106Z"
   },
   {
    "duration": 18,
    "start_time": "2022-02-21T13:35:59.127Z"
   },
   {
    "duration": 15,
    "start_time": "2022-02-21T13:35:59.147Z"
   },
   {
    "duration": 11,
    "start_time": "2022-02-21T13:35:59.163Z"
   },
   {
    "duration": 10,
    "start_time": "2022-02-21T13:35:59.177Z"
   },
   {
    "duration": 8,
    "start_time": "2022-02-21T13:35:59.189Z"
   },
   {
    "duration": 14,
    "start_time": "2022-02-21T13:35:59.219Z"
   },
   {
    "duration": 11,
    "start_time": "2022-02-21T13:35:59.237Z"
   },
   {
    "duration": 8,
    "start_time": "2022-02-21T13:35:59.250Z"
   },
   {
    "duration": 9270,
    "start_time": "2022-02-21T13:35:59.260Z"
   },
   {
    "duration": -60,
    "start_time": "2022-02-21T13:36:08.592Z"
   },
   {
    "duration": -62,
    "start_time": "2022-02-21T13:36:08.595Z"
   },
   {
    "duration": 7514,
    "start_time": "2022-02-21T13:36:20.809Z"
   },
   {
    "duration": 14,
    "start_time": "2022-02-21T13:36:30.918Z"
   },
   {
    "duration": 724,
    "start_time": "2022-02-21T13:36:31.897Z"
   },
   {
    "duration": 13,
    "start_time": "2022-02-21T13:36:47.631Z"
   },
   {
    "duration": 624,
    "start_time": "2022-02-21T13:37:56.051Z"
   },
   {
    "duration": 20,
    "start_time": "2022-02-21T13:37:56.677Z"
   },
   {
    "duration": 20,
    "start_time": "2022-02-21T13:37:56.700Z"
   },
   {
    "duration": 19,
    "start_time": "2022-02-21T13:37:56.723Z"
   },
   {
    "duration": 8,
    "start_time": "2022-02-21T13:37:56.744Z"
   },
   {
    "duration": 177,
    "start_time": "2022-02-21T13:37:56.754Z"
   },
   {
    "duration": 9,
    "start_time": "2022-02-21T13:37:56.933Z"
   },
   {
    "duration": 32,
    "start_time": "2022-02-21T13:37:56.944Z"
   },
   {
    "duration": 5,
    "start_time": "2022-02-21T13:37:56.980Z"
   },
   {
    "duration": 10,
    "start_time": "2022-02-21T13:37:56.988Z"
   },
   {
    "duration": 51,
    "start_time": "2022-02-21T13:37:57.000Z"
   },
   {
    "duration": 118,
    "start_time": "2022-02-21T13:37:57.053Z"
   },
   {
    "duration": 7,
    "start_time": "2022-02-21T13:37:57.173Z"
   },
   {
    "duration": 18,
    "start_time": "2022-02-21T13:37:57.182Z"
   },
   {
    "duration": 44,
    "start_time": "2022-02-21T13:37:57.202Z"
   },
   {
    "duration": 155,
    "start_time": "2022-02-21T13:37:57.248Z"
   },
   {
    "duration": 15,
    "start_time": "2022-02-21T13:37:57.405Z"
   },
   {
    "duration": 25,
    "start_time": "2022-02-21T13:37:57.427Z"
   },
   {
    "duration": 26,
    "start_time": "2022-02-21T13:37:57.454Z"
   },
   {
    "duration": 13,
    "start_time": "2022-02-21T13:37:57.482Z"
   },
   {
    "duration": 23,
    "start_time": "2022-02-21T13:37:57.498Z"
   },
   {
    "duration": 29,
    "start_time": "2022-02-21T13:37:57.523Z"
   },
   {
    "duration": 10,
    "start_time": "2022-02-21T13:37:57.554Z"
   },
   {
    "duration": 96,
    "start_time": "2022-02-21T13:37:57.566Z"
   },
   {
    "duration": 16,
    "start_time": "2022-02-21T13:37:57.665Z"
   },
   {
    "duration": 907,
    "start_time": "2022-02-21T13:37:57.684Z"
   },
   {
    "duration": 111,
    "start_time": "2022-02-21T13:37:58.596Z"
   },
   {
    "duration": 8,
    "start_time": "2022-02-21T13:37:58.710Z"
   },
   {
    "duration": 25,
    "start_time": "2022-02-21T13:37:58.719Z"
   },
   {
    "duration": 4,
    "start_time": "2022-02-21T13:37:58.746Z"
   },
   {
    "duration": 53,
    "start_time": "2022-02-21T13:37:58.752Z"
   },
   {
    "duration": 31,
    "start_time": "2022-02-21T13:37:58.807Z"
   },
   {
    "duration": 521,
    "start_time": "2022-02-21T13:37:58.840Z"
   },
   {
    "duration": 72,
    "start_time": "2022-02-21T13:37:59.363Z"
   },
   {
    "duration": 3,
    "start_time": "2022-02-21T13:37:59.437Z"
   },
   {
    "duration": 57,
    "start_time": "2022-02-21T13:37:59.442Z"
   },
   {
    "duration": 48,
    "start_time": "2022-02-21T13:37:59.501Z"
   },
   {
    "duration": 119,
    "start_time": "2022-02-21T13:37:59.551Z"
   },
   {
    "duration": 15,
    "start_time": "2022-02-21T13:37:59.672Z"
   },
   {
    "duration": 730,
    "start_time": "2022-02-21T13:37:59.689Z"
   },
   {
    "duration": 66,
    "start_time": "2022-02-21T13:38:00.420Z"
   },
   {
    "duration": 3,
    "start_time": "2022-02-21T13:38:00.488Z"
   },
   {
    "duration": 17,
    "start_time": "2022-02-21T13:38:00.492Z"
   },
   {
    "duration": 18,
    "start_time": "2022-02-21T13:38:00.511Z"
   },
   {
    "duration": 17,
    "start_time": "2022-02-21T13:38:00.532Z"
   },
   {
    "duration": 30,
    "start_time": "2022-02-21T13:38:00.551Z"
   },
   {
    "duration": 51,
    "start_time": "2022-02-21T13:38:00.583Z"
   },
   {
    "duration": 39,
    "start_time": "2022-02-21T13:38:00.636Z"
   },
   {
    "duration": 16,
    "start_time": "2022-02-21T13:38:00.677Z"
   },
   {
    "duration": 49,
    "start_time": "2022-02-21T13:38:00.695Z"
   },
   {
    "duration": 32,
    "start_time": "2022-02-21T13:38:00.746Z"
   },
   {
    "duration": 45,
    "start_time": "2022-02-21T13:38:00.780Z"
   },
   {
    "duration": 26,
    "start_time": "2022-02-21T13:38:00.828Z"
   },
   {
    "duration": 16,
    "start_time": "2022-02-21T13:38:00.855Z"
   },
   {
    "duration": 7671,
    "start_time": "2022-02-21T13:38:00.873Z"
   },
   {
    "duration": 4,
    "start_time": "2022-02-21T13:57:09.641Z"
   },
   {
    "duration": 25,
    "start_time": "2022-02-21T13:57:14.762Z"
   },
   {
    "duration": 625,
    "start_time": "2022-02-21T13:57:36.449Z"
   },
   {
    "duration": 25,
    "start_time": "2022-02-21T13:57:37.076Z"
   },
   {
    "duration": 20,
    "start_time": "2022-02-21T13:57:37.104Z"
   },
   {
    "duration": 15,
    "start_time": "2022-02-21T13:57:37.127Z"
   },
   {
    "duration": 8,
    "start_time": "2022-02-21T13:57:37.144Z"
   },
   {
    "duration": 194,
    "start_time": "2022-02-21T13:57:37.154Z"
   },
   {
    "duration": 9,
    "start_time": "2022-02-21T13:57:37.349Z"
   },
   {
    "duration": 83,
    "start_time": "2022-02-21T13:57:37.362Z"
   },
   {
    "duration": 12,
    "start_time": "2022-02-21T13:57:37.448Z"
   },
   {
    "duration": 32,
    "start_time": "2022-02-21T13:57:37.462Z"
   },
   {
    "duration": 81,
    "start_time": "2022-02-21T13:57:37.496Z"
   },
   {
    "duration": 106,
    "start_time": "2022-02-21T13:57:37.579Z"
   },
   {
    "duration": 8,
    "start_time": "2022-02-21T13:57:37.687Z"
   },
   {
    "duration": 52,
    "start_time": "2022-02-21T13:57:37.696Z"
   },
   {
    "duration": 28,
    "start_time": "2022-02-21T13:57:37.750Z"
   },
   {
    "duration": 158,
    "start_time": "2022-02-21T13:57:37.780Z"
   },
   {
    "duration": 10,
    "start_time": "2022-02-21T13:57:37.940Z"
   },
   {
    "duration": 27,
    "start_time": "2022-02-21T13:57:37.952Z"
   },
   {
    "duration": 50,
    "start_time": "2022-02-21T13:57:37.981Z"
   },
   {
    "duration": 13,
    "start_time": "2022-02-21T13:57:38.033Z"
   },
   {
    "duration": 15,
    "start_time": "2022-02-21T13:57:38.048Z"
   },
   {
    "duration": 18,
    "start_time": "2022-02-21T13:57:38.065Z"
   },
   {
    "duration": 22,
    "start_time": "2022-02-21T13:57:38.086Z"
   },
   {
    "duration": 95,
    "start_time": "2022-02-21T13:57:38.110Z"
   },
   {
    "duration": 21,
    "start_time": "2022-02-21T13:57:38.207Z"
   },
   {
    "duration": 845,
    "start_time": "2022-02-21T13:57:38.230Z"
   },
   {
    "duration": 95,
    "start_time": "2022-02-21T13:57:39.077Z"
   },
   {
    "duration": 3,
    "start_time": "2022-02-21T13:57:39.174Z"
   },
   {
    "duration": 50,
    "start_time": "2022-02-21T13:57:39.179Z"
   },
   {
    "duration": 22,
    "start_time": "2022-02-21T13:57:39.231Z"
   },
   {
    "duration": 62,
    "start_time": "2022-02-21T13:57:39.255Z"
   },
   {
    "duration": 18,
    "start_time": "2022-02-21T13:57:39.319Z"
   },
   {
    "duration": 497,
    "start_time": "2022-02-21T13:57:39.339Z"
   },
   {
    "duration": 56,
    "start_time": "2022-02-21T13:57:39.838Z"
   },
   {
    "duration": 3,
    "start_time": "2022-02-21T13:57:39.896Z"
   },
   {
    "duration": 27,
    "start_time": "2022-02-21T13:57:39.901Z"
   },
   {
    "duration": 19,
    "start_time": "2022-02-21T13:57:39.930Z"
   },
   {
    "duration": 84,
    "start_time": "2022-02-21T13:57:39.950Z"
   },
   {
    "duration": 15,
    "start_time": "2022-02-21T13:57:40.036Z"
   },
   {
    "duration": 660,
    "start_time": "2022-02-21T13:57:40.053Z"
   },
   {
    "duration": 63,
    "start_time": "2022-02-21T13:57:40.715Z"
   },
   {
    "duration": 3,
    "start_time": "2022-02-21T13:57:40.780Z"
   },
   {
    "duration": 18,
    "start_time": "2022-02-21T13:57:40.785Z"
   },
   {
    "duration": 14,
    "start_time": "2022-02-21T13:57:40.805Z"
   },
   {
    "duration": 41,
    "start_time": "2022-02-21T13:57:40.821Z"
   },
   {
    "duration": 23,
    "start_time": "2022-02-21T13:57:40.864Z"
   },
   {
    "duration": 10,
    "start_time": "2022-02-21T13:57:40.890Z"
   },
   {
    "duration": 31,
    "start_time": "2022-02-21T13:57:40.902Z"
   },
   {
    "duration": 15,
    "start_time": "2022-02-21T13:57:40.935Z"
   },
   {
    "duration": 13,
    "start_time": "2022-02-21T13:57:40.951Z"
   },
   {
    "duration": 8,
    "start_time": "2022-02-21T13:57:40.965Z"
   },
   {
    "duration": 10,
    "start_time": "2022-02-21T13:57:40.975Z"
   },
   {
    "duration": 8,
    "start_time": "2022-02-21T13:57:40.988Z"
   },
   {
    "duration": 28,
    "start_time": "2022-02-21T13:57:40.998Z"
   },
   {
    "duration": 16,
    "start_time": "2022-02-21T13:57:41.029Z"
   },
   {
    "duration": 19,
    "start_time": "2022-02-21T13:57:48.165Z"
   },
   {
    "duration": 400,
    "start_time": "2022-02-21T13:58:56.969Z"
   },
   {
    "duration": 668,
    "start_time": "2022-02-21T13:59:04.309Z"
   },
   {
    "duration": 18,
    "start_time": "2022-02-21T13:59:04.979Z"
   },
   {
    "duration": 21,
    "start_time": "2022-02-21T13:59:05.000Z"
   },
   {
    "duration": 23,
    "start_time": "2022-02-21T13:59:05.025Z"
   },
   {
    "duration": 28,
    "start_time": "2022-02-21T13:59:05.050Z"
   },
   {
    "duration": 210,
    "start_time": "2022-02-21T13:59:05.080Z"
   },
   {
    "duration": 9,
    "start_time": "2022-02-21T13:59:05.292Z"
   },
   {
    "duration": 52,
    "start_time": "2022-02-21T13:59:05.303Z"
   },
   {
    "duration": 5,
    "start_time": "2022-02-21T13:59:05.358Z"
   },
   {
    "duration": 59,
    "start_time": "2022-02-21T13:59:05.365Z"
   },
   {
    "duration": 93,
    "start_time": "2022-02-21T13:59:05.428Z"
   },
   {
    "duration": 215,
    "start_time": "2022-02-21T13:59:05.523Z"
   },
   {
    "duration": 10,
    "start_time": "2022-02-21T13:59:05.745Z"
   },
   {
    "duration": 75,
    "start_time": "2022-02-21T13:59:05.757Z"
   },
   {
    "duration": 31,
    "start_time": "2022-02-21T13:59:05.834Z"
   },
   {
    "duration": 216,
    "start_time": "2022-02-21T13:59:05.866Z"
   },
   {
    "duration": 9,
    "start_time": "2022-02-21T13:59:06.084Z"
   },
   {
    "duration": 36,
    "start_time": "2022-02-21T13:59:06.095Z"
   },
   {
    "duration": 28,
    "start_time": "2022-02-21T13:59:06.133Z"
   },
   {
    "duration": 12,
    "start_time": "2022-02-21T13:59:06.163Z"
   },
   {
    "duration": 22,
    "start_time": "2022-02-21T13:59:06.177Z"
   },
   {
    "duration": 20,
    "start_time": "2022-02-21T13:59:06.201Z"
   },
   {
    "duration": 27,
    "start_time": "2022-02-21T13:59:06.226Z"
   },
   {
    "duration": 91,
    "start_time": "2022-02-21T13:59:06.256Z"
   },
   {
    "duration": 15,
    "start_time": "2022-02-21T13:59:06.349Z"
   },
   {
    "duration": 1172,
    "start_time": "2022-02-21T13:59:06.366Z"
   },
   {
    "duration": 112,
    "start_time": "2022-02-21T13:59:07.540Z"
   },
   {
    "duration": 4,
    "start_time": "2022-02-21T13:59:07.654Z"
   },
   {
    "duration": 13,
    "start_time": "2022-02-21T13:59:07.660Z"
   },
   {
    "duration": 6,
    "start_time": "2022-02-21T13:59:07.675Z"
   },
   {
    "duration": 63,
    "start_time": "2022-02-21T13:59:07.683Z"
   },
   {
    "duration": 12,
    "start_time": "2022-02-21T13:59:07.748Z"
   },
   {
    "duration": 471,
    "start_time": "2022-02-21T13:59:07.762Z"
   },
   {
    "duration": 70,
    "start_time": "2022-02-21T13:59:08.235Z"
   },
   {
    "duration": 3,
    "start_time": "2022-02-21T13:59:08.307Z"
   },
   {
    "duration": 21,
    "start_time": "2022-02-21T13:59:08.319Z"
   },
   {
    "duration": 12,
    "start_time": "2022-02-21T13:59:08.342Z"
   },
   {
    "duration": 61,
    "start_time": "2022-02-21T13:59:08.356Z"
   },
   {
    "duration": 16,
    "start_time": "2022-02-21T13:59:08.419Z"
   },
   {
    "duration": 617,
    "start_time": "2022-02-21T13:59:08.438Z"
   },
   {
    "duration": 73,
    "start_time": "2022-02-21T13:59:09.057Z"
   },
   {
    "duration": 4,
    "start_time": "2022-02-21T13:59:09.132Z"
   },
   {
    "duration": 23,
    "start_time": "2022-02-21T13:59:09.138Z"
   },
   {
    "duration": 12,
    "start_time": "2022-02-21T13:59:09.163Z"
   },
   {
    "duration": 29,
    "start_time": "2022-02-21T13:59:09.176Z"
   },
   {
    "duration": 18,
    "start_time": "2022-02-21T13:59:09.208Z"
   },
   {
    "duration": 18,
    "start_time": "2022-02-21T13:59:09.228Z"
   },
   {
    "duration": 13,
    "start_time": "2022-02-21T13:59:09.248Z"
   },
   {
    "duration": 13,
    "start_time": "2022-02-21T13:59:09.262Z"
   },
   {
    "duration": 11,
    "start_time": "2022-02-21T13:59:09.276Z"
   },
   {
    "duration": 8,
    "start_time": "2022-02-21T13:59:09.289Z"
   },
   {
    "duration": 12,
    "start_time": "2022-02-21T13:59:09.298Z"
   },
   {
    "duration": 14,
    "start_time": "2022-02-21T13:59:09.318Z"
   },
   {
    "duration": 36,
    "start_time": "2022-02-21T13:59:09.334Z"
   },
   {
    "duration": 6,
    "start_time": "2022-02-21T13:59:09.372Z"
   },
   {
    "duration": 10,
    "start_time": "2022-02-21T13:59:09.380Z"
   },
   {
    "duration": 16,
    "start_time": "2022-02-21T13:59:09.391Z"
   },
   {
    "duration": 9,
    "start_time": "2022-02-21T14:00:34.679Z"
   },
   {
    "duration": 23,
    "start_time": "2022-02-21T14:00:35.314Z"
   },
   {
    "duration": 634,
    "start_time": "2022-02-21T14:01:02.350Z"
   },
   {
    "duration": 19,
    "start_time": "2022-02-21T14:01:02.986Z"
   },
   {
    "duration": 22,
    "start_time": "2022-02-21T14:01:03.007Z"
   },
   {
    "duration": 16,
    "start_time": "2022-02-21T14:01:03.031Z"
   },
   {
    "duration": 16,
    "start_time": "2022-02-21T14:01:03.049Z"
   },
   {
    "duration": 196,
    "start_time": "2022-02-21T14:01:03.067Z"
   },
   {
    "duration": 9,
    "start_time": "2022-02-21T14:01:03.266Z"
   },
   {
    "duration": 40,
    "start_time": "2022-02-21T14:01:03.278Z"
   },
   {
    "duration": 6,
    "start_time": "2022-02-21T14:01:03.321Z"
   },
   {
    "duration": 24,
    "start_time": "2022-02-21T14:01:03.329Z"
   },
   {
    "duration": 51,
    "start_time": "2022-02-21T14:01:03.355Z"
   },
   {
    "duration": 136,
    "start_time": "2022-02-21T14:01:03.410Z"
   },
   {
    "duration": 10,
    "start_time": "2022-02-21T14:01:03.548Z"
   },
   {
    "duration": 33,
    "start_time": "2022-02-21T14:01:03.560Z"
   },
   {
    "duration": 35,
    "start_time": "2022-02-21T14:01:03.594Z"
   },
   {
    "duration": 161,
    "start_time": "2022-02-21T14:01:03.633Z"
   },
   {
    "duration": 9,
    "start_time": "2022-02-21T14:01:03.796Z"
   },
   {
    "duration": 50,
    "start_time": "2022-02-21T14:01:03.807Z"
   },
   {
    "duration": 26,
    "start_time": "2022-02-21T14:01:03.859Z"
   },
   {
    "duration": 11,
    "start_time": "2022-02-21T14:01:03.887Z"
   },
   {
    "duration": 25,
    "start_time": "2022-02-21T14:01:03.900Z"
   },
   {
    "duration": 15,
    "start_time": "2022-02-21T14:01:03.928Z"
   },
   {
    "duration": 6,
    "start_time": "2022-02-21T14:01:03.947Z"
   },
   {
    "duration": 97,
    "start_time": "2022-02-21T14:01:03.956Z"
   },
   {
    "duration": 14,
    "start_time": "2022-02-21T14:01:04.055Z"
   },
   {
    "duration": 820,
    "start_time": "2022-02-21T14:01:04.071Z"
   },
   {
    "duration": 95,
    "start_time": "2022-02-21T14:01:04.892Z"
   },
   {
    "duration": 3,
    "start_time": "2022-02-21T14:01:04.989Z"
   },
   {
    "duration": 13,
    "start_time": "2022-02-21T14:01:04.993Z"
   },
   {
    "duration": 15,
    "start_time": "2022-02-21T14:01:05.008Z"
   },
   {
    "duration": 55,
    "start_time": "2022-02-21T14:01:05.024Z"
   },
   {
    "duration": 13,
    "start_time": "2022-02-21T14:01:05.081Z"
   },
   {
    "duration": 509,
    "start_time": "2022-02-21T14:01:05.096Z"
   },
   {
    "duration": 63,
    "start_time": "2022-02-21T14:01:05.607Z"
   },
   {
    "duration": 3,
    "start_time": "2022-02-21T14:01:05.672Z"
   },
   {
    "duration": 21,
    "start_time": "2022-02-21T14:01:05.677Z"
   },
   {
    "duration": 9,
    "start_time": "2022-02-21T14:01:05.700Z"
   },
   {
    "duration": 62,
    "start_time": "2022-02-21T14:01:05.719Z"
   },
   {
    "duration": 12,
    "start_time": "2022-02-21T14:01:05.783Z"
   },
   {
    "duration": 649,
    "start_time": "2022-02-21T14:01:05.797Z"
   },
   {
    "duration": 71,
    "start_time": "2022-02-21T14:01:06.448Z"
   },
   {
    "duration": 4,
    "start_time": "2022-02-21T14:01:06.521Z"
   },
   {
    "duration": 21,
    "start_time": "2022-02-21T14:01:06.526Z"
   },
   {
    "duration": 3,
    "start_time": "2022-02-21T14:01:06.549Z"
   },
   {
    "duration": 9,
    "start_time": "2022-02-21T14:01:06.554Z"
   },
   {
    "duration": 9,
    "start_time": "2022-02-21T14:01:06.565Z"
   },
   {
    "duration": 4,
    "start_time": "2022-02-21T14:01:06.576Z"
   },
   {
    "duration": 21,
    "start_time": "2022-02-21T14:01:06.582Z"
   },
   {
    "duration": 29,
    "start_time": "2022-02-21T14:01:06.604Z"
   },
   {
    "duration": 12,
    "start_time": "2022-02-21T14:01:06.635Z"
   },
   {
    "duration": 7,
    "start_time": "2022-02-21T14:01:06.649Z"
   },
   {
    "duration": 13,
    "start_time": "2022-02-21T14:01:06.657Z"
   },
   {
    "duration": 11,
    "start_time": "2022-02-21T14:01:06.671Z"
   },
   {
    "duration": 17,
    "start_time": "2022-02-21T14:01:06.684Z"
   },
   {
    "duration": 19,
    "start_time": "2022-02-21T14:01:06.702Z"
   },
   {
    "duration": 14,
    "start_time": "2022-02-21T14:01:06.723Z"
   },
   {
    "duration": 21,
    "start_time": "2022-02-21T14:01:06.739Z"
   },
   {
    "duration": 5,
    "start_time": "2022-02-21T14:01:06.762Z"
   },
   {
    "duration": 9,
    "start_time": "2022-02-21T14:01:06.769Z"
   },
   {
    "duration": 9,
    "start_time": "2022-02-21T14:01:37.415Z"
   },
   {
    "duration": 25,
    "start_time": "2022-02-21T14:01:37.988Z"
   },
   {
    "duration": 12,
    "start_time": "2022-02-21T14:01:48.940Z"
   },
   {
    "duration": 18,
    "start_time": "2022-02-21T14:01:49.238Z"
   },
   {
    "duration": 7,
    "start_time": "2022-02-21T14:02:01.605Z"
   },
   {
    "duration": 23,
    "start_time": "2022-02-21T14:02:01.818Z"
   },
   {
    "duration": 10,
    "start_time": "2022-02-21T14:03:11.727Z"
   },
   {
    "duration": 20,
    "start_time": "2022-02-21T14:03:12.923Z"
   },
   {
    "duration": 7,
    "start_time": "2022-02-21T14:03:18.208Z"
   },
   {
    "duration": 11,
    "start_time": "2022-02-21T14:03:19.089Z"
   },
   {
    "duration": 589,
    "start_time": "2022-02-21T14:03:27.367Z"
   },
   {
    "duration": 17,
    "start_time": "2022-02-21T14:03:27.959Z"
   },
   {
    "duration": 17,
    "start_time": "2022-02-21T14:03:27.979Z"
   },
   {
    "duration": 7,
    "start_time": "2022-02-21T14:03:27.999Z"
   },
   {
    "duration": 5,
    "start_time": "2022-02-21T14:03:28.019Z"
   },
   {
    "duration": 171,
    "start_time": "2022-02-21T14:03:28.025Z"
   },
   {
    "duration": 9,
    "start_time": "2022-02-21T14:03:28.198Z"
   },
   {
    "duration": 30,
    "start_time": "2022-02-21T14:03:28.209Z"
   },
   {
    "duration": 4,
    "start_time": "2022-02-21T14:03:28.243Z"
   },
   {
    "duration": 10,
    "start_time": "2022-02-21T14:03:28.249Z"
   },
   {
    "duration": 32,
    "start_time": "2022-02-21T14:03:28.260Z"
   },
   {
    "duration": 130,
    "start_time": "2022-02-21T14:03:28.294Z"
   },
   {
    "duration": 8,
    "start_time": "2022-02-21T14:03:28.425Z"
   },
   {
    "duration": 22,
    "start_time": "2022-02-21T14:03:28.435Z"
   },
   {
    "duration": 26,
    "start_time": "2022-02-21T14:03:28.459Z"
   },
   {
    "duration": 163,
    "start_time": "2022-02-21T14:03:28.487Z"
   },
   {
    "duration": 9,
    "start_time": "2022-02-21T14:03:28.652Z"
   },
   {
    "duration": 20,
    "start_time": "2022-02-21T14:03:28.664Z"
   },
   {
    "duration": 45,
    "start_time": "2022-02-21T14:03:28.687Z"
   },
   {
    "duration": 11,
    "start_time": "2022-02-21T14:03:28.735Z"
   },
   {
    "duration": 14,
    "start_time": "2022-02-21T14:03:28.747Z"
   },
   {
    "duration": 10,
    "start_time": "2022-02-21T14:03:28.763Z"
   },
   {
    "duration": 7,
    "start_time": "2022-02-21T14:03:28.775Z"
   },
   {
    "duration": 109,
    "start_time": "2022-02-21T14:03:28.783Z"
   },
   {
    "duration": 14,
    "start_time": "2022-02-21T14:03:28.894Z"
   },
   {
    "duration": 815,
    "start_time": "2022-02-21T14:03:28.918Z"
   },
   {
    "duration": 190,
    "start_time": "2022-02-21T14:03:29.737Z"
   },
   {
    "duration": 3,
    "start_time": "2022-02-21T14:03:29.929Z"
   },
   {
    "duration": 16,
    "start_time": "2022-02-21T14:03:29.934Z"
   },
   {
    "duration": 14,
    "start_time": "2022-02-21T14:03:29.952Z"
   },
   {
    "duration": 91,
    "start_time": "2022-02-21T14:03:29.967Z"
   },
   {
    "duration": 68,
    "start_time": "2022-02-21T14:03:30.060Z"
   },
   {
    "duration": 774,
    "start_time": "2022-02-21T14:03:30.130Z"
   },
   {
    "duration": 54,
    "start_time": "2022-02-21T14:03:30.906Z"
   },
   {
    "duration": 3,
    "start_time": "2022-02-21T14:03:30.961Z"
   },
   {
    "duration": 19,
    "start_time": "2022-02-21T14:03:30.966Z"
   },
   {
    "duration": 10,
    "start_time": "2022-02-21T14:03:30.987Z"
   },
   {
    "duration": 73,
    "start_time": "2022-02-21T14:03:30.999Z"
   },
   {
    "duration": 16,
    "start_time": "2022-02-21T14:03:31.073Z"
   },
   {
    "duration": 663,
    "start_time": "2022-02-21T14:03:31.090Z"
   },
   {
    "duration": 70,
    "start_time": "2022-02-21T14:03:31.755Z"
   },
   {
    "duration": 3,
    "start_time": "2022-02-21T14:03:31.827Z"
   },
   {
    "duration": 25,
    "start_time": "2022-02-21T14:03:31.832Z"
   },
   {
    "duration": 9,
    "start_time": "2022-02-21T14:03:31.859Z"
   },
   {
    "duration": 18,
    "start_time": "2022-02-21T14:03:31.870Z"
   },
   {
    "duration": 34,
    "start_time": "2022-02-21T14:03:31.890Z"
   },
   {
    "duration": 10,
    "start_time": "2022-02-21T14:03:31.926Z"
   },
   {
    "duration": 24,
    "start_time": "2022-02-21T14:03:31.938Z"
   },
   {
    "duration": 17,
    "start_time": "2022-02-21T14:03:31.964Z"
   },
   {
    "duration": 13,
    "start_time": "2022-02-21T14:03:31.982Z"
   },
   {
    "duration": 14,
    "start_time": "2022-02-21T14:03:31.997Z"
   },
   {
    "duration": 25,
    "start_time": "2022-02-21T14:03:32.013Z"
   },
   {
    "duration": 23,
    "start_time": "2022-02-21T14:03:32.039Z"
   },
   {
    "duration": 19,
    "start_time": "2022-02-21T14:03:32.064Z"
   },
   {
    "duration": 4,
    "start_time": "2022-02-21T14:03:32.086Z"
   },
   {
    "duration": 12,
    "start_time": "2022-02-21T14:03:32.092Z"
   },
   {
    "duration": 18,
    "start_time": "2022-02-21T14:03:32.106Z"
   },
   {
    "duration": 13,
    "start_time": "2022-02-21T14:03:32.126Z"
   },
   {
    "duration": 31,
    "start_time": "2022-02-21T14:03:32.140Z"
   },
   {
    "duration": 8,
    "start_time": "2022-02-21T14:03:55.299Z"
   },
   {
    "duration": 21,
    "start_time": "2022-02-21T14:03:55.819Z"
   },
   {
    "duration": 10,
    "start_time": "2022-02-21T14:12:46.827Z"
   },
   {
    "duration": 16,
    "start_time": "2022-02-21T14:12:47.349Z"
   },
   {
    "duration": 7,
    "start_time": "2022-02-21T14:12:57.909Z"
   },
   {
    "duration": 20,
    "start_time": "2022-02-21T14:12:58.765Z"
   },
   {
    "duration": 379,
    "start_time": "2022-02-21T14:13:32.354Z"
   },
   {
    "duration": 23,
    "start_time": "2022-02-21T14:13:32.813Z"
   },
   {
    "duration": 8,
    "start_time": "2022-02-21T14:13:44.039Z"
   },
   {
    "duration": 26,
    "start_time": "2022-02-21T14:13:56.957Z"
   },
   {
    "duration": 21,
    "start_time": "2022-02-21T14:14:05.094Z"
   },
   {
    "duration": 261,
    "start_time": "2022-02-21T14:17:02.378Z"
   },
   {
    "duration": 22,
    "start_time": "2022-02-21T14:17:02.883Z"
   },
   {
    "duration": 677,
    "start_time": "2022-02-21T14:17:47.845Z"
   },
   {
    "duration": 19,
    "start_time": "2022-02-21T14:17:48.525Z"
   },
   {
    "duration": 29,
    "start_time": "2022-02-21T14:17:48.546Z"
   },
   {
    "duration": 13,
    "start_time": "2022-02-21T14:17:48.577Z"
   },
   {
    "duration": 14,
    "start_time": "2022-02-21T14:17:48.592Z"
   },
   {
    "duration": 184,
    "start_time": "2022-02-21T14:17:48.607Z"
   },
   {
    "duration": 8,
    "start_time": "2022-02-21T14:17:48.793Z"
   },
   {
    "duration": 35,
    "start_time": "2022-02-21T14:17:48.802Z"
   },
   {
    "duration": 5,
    "start_time": "2022-02-21T14:17:48.840Z"
   },
   {
    "duration": 10,
    "start_time": "2022-02-21T14:17:48.847Z"
   },
   {
    "duration": 37,
    "start_time": "2022-02-21T14:17:48.858Z"
   },
   {
    "duration": 115,
    "start_time": "2022-02-21T14:17:48.897Z"
   },
   {
    "duration": 8,
    "start_time": "2022-02-21T14:17:49.014Z"
   },
   {
    "duration": 31,
    "start_time": "2022-02-21T14:17:49.024Z"
   },
   {
    "duration": 20,
    "start_time": "2022-02-21T14:17:49.057Z"
   },
   {
    "duration": 158,
    "start_time": "2022-02-21T14:17:49.079Z"
   },
   {
    "duration": 8,
    "start_time": "2022-02-21T14:17:49.239Z"
   },
   {
    "duration": 20,
    "start_time": "2022-02-21T14:17:49.249Z"
   },
   {
    "duration": 47,
    "start_time": "2022-02-21T14:17:49.271Z"
   },
   {
    "duration": 15,
    "start_time": "2022-02-21T14:17:49.320Z"
   },
   {
    "duration": 16,
    "start_time": "2022-02-21T14:17:49.338Z"
   },
   {
    "duration": 11,
    "start_time": "2022-02-21T14:17:49.356Z"
   },
   {
    "duration": 15,
    "start_time": "2022-02-21T14:17:49.369Z"
   },
   {
    "duration": 107,
    "start_time": "2022-02-21T14:17:49.386Z"
   },
   {
    "duration": 14,
    "start_time": "2022-02-21T14:17:49.495Z"
   },
   {
    "duration": 845,
    "start_time": "2022-02-21T14:17:49.511Z"
   },
   {
    "duration": 108,
    "start_time": "2022-02-21T14:17:50.361Z"
   },
   {
    "duration": 3,
    "start_time": "2022-02-21T14:17:50.471Z"
   },
   {
    "duration": 17,
    "start_time": "2022-02-21T14:17:50.476Z"
   },
   {
    "duration": 7,
    "start_time": "2022-02-21T14:17:50.495Z"
   },
   {
    "duration": 61,
    "start_time": "2022-02-21T14:17:50.503Z"
   },
   {
    "duration": 14,
    "start_time": "2022-02-21T14:17:50.566Z"
   },
   {
    "duration": 505,
    "start_time": "2022-02-21T14:17:50.582Z"
   },
   {
    "duration": 77,
    "start_time": "2022-02-21T14:17:51.088Z"
   },
   {
    "duration": 4,
    "start_time": "2022-02-21T14:17:51.167Z"
   },
   {
    "duration": 12,
    "start_time": "2022-02-21T14:17:51.173Z"
   },
   {
    "duration": 6,
    "start_time": "2022-02-21T14:17:51.187Z"
   },
   {
    "duration": 83,
    "start_time": "2022-02-21T14:17:51.195Z"
   },
   {
    "duration": 15,
    "start_time": "2022-02-21T14:17:51.280Z"
   },
   {
    "duration": 641,
    "start_time": "2022-02-21T14:17:51.297Z"
   },
   {
    "duration": 64,
    "start_time": "2022-02-21T14:17:51.939Z"
   },
   {
    "duration": 3,
    "start_time": "2022-02-21T14:17:52.004Z"
   },
   {
    "duration": 11,
    "start_time": "2022-02-21T14:17:52.023Z"
   },
   {
    "duration": 9,
    "start_time": "2022-02-21T14:17:52.035Z"
   },
   {
    "duration": 6,
    "start_time": "2022-02-21T14:17:52.046Z"
   },
   {
    "duration": 11,
    "start_time": "2022-02-21T14:17:52.054Z"
   },
   {
    "duration": 3,
    "start_time": "2022-02-21T14:17:52.067Z"
   },
   {
    "duration": 15,
    "start_time": "2022-02-21T14:17:52.072Z"
   },
   {
    "duration": 43,
    "start_time": "2022-02-21T14:17:52.088Z"
   },
   {
    "duration": 12,
    "start_time": "2022-02-21T14:17:52.133Z"
   },
   {
    "duration": 6,
    "start_time": "2022-02-21T14:17:52.146Z"
   },
   {
    "duration": 12,
    "start_time": "2022-02-21T14:17:52.154Z"
   },
   {
    "duration": 16,
    "start_time": "2022-02-21T14:17:52.168Z"
   },
   {
    "duration": 319,
    "start_time": "2022-02-21T14:17:52.186Z"
   },
   {
    "duration": -18,
    "start_time": "2022-02-21T14:17:52.525Z"
   },
   {
    "duration": -23,
    "start_time": "2022-02-21T14:17:52.531Z"
   },
   {
    "duration": -25,
    "start_time": "2022-02-21T14:17:52.534Z"
   },
   {
    "duration": 286,
    "start_time": "2022-02-21T14:18:16.232Z"
   },
   {
    "duration": 11,
    "start_time": "2022-02-21T14:18:29.489Z"
   },
   {
    "duration": 18,
    "start_time": "2022-02-21T14:18:31.270Z"
   },
   {
    "duration": 294,
    "start_time": "2022-02-21T14:18:38.535Z"
   },
   {
    "duration": 726,
    "start_time": "2022-02-21T14:18:47.231Z"
   },
   {
    "duration": 18,
    "start_time": "2022-02-21T14:18:47.959Z"
   },
   {
    "duration": 22,
    "start_time": "2022-02-21T14:18:47.981Z"
   },
   {
    "duration": 22,
    "start_time": "2022-02-21T14:18:48.005Z"
   },
   {
    "duration": 26,
    "start_time": "2022-02-21T14:18:48.029Z"
   },
   {
    "duration": 182,
    "start_time": "2022-02-21T14:18:48.058Z"
   },
   {
    "duration": 8,
    "start_time": "2022-02-21T14:18:48.243Z"
   },
   {
    "duration": 30,
    "start_time": "2022-02-21T14:18:48.253Z"
   },
   {
    "duration": 4,
    "start_time": "2022-02-21T14:18:48.285Z"
   },
   {
    "duration": 15,
    "start_time": "2022-02-21T14:18:48.291Z"
   },
   {
    "duration": 36,
    "start_time": "2022-02-21T14:18:48.322Z"
   },
   {
    "duration": 138,
    "start_time": "2022-02-21T14:18:48.360Z"
   },
   {
    "duration": 9,
    "start_time": "2022-02-21T14:18:48.501Z"
   },
   {
    "duration": 27,
    "start_time": "2022-02-21T14:18:48.512Z"
   },
   {
    "duration": 21,
    "start_time": "2022-02-21T14:18:48.541Z"
   },
   {
    "duration": 168,
    "start_time": "2022-02-21T14:18:48.563Z"
   },
   {
    "duration": 9,
    "start_time": "2022-02-21T14:18:48.733Z"
   },
   {
    "duration": 20,
    "start_time": "2022-02-21T14:18:48.744Z"
   },
   {
    "duration": 23,
    "start_time": "2022-02-21T14:18:48.766Z"
   },
   {
    "duration": 27,
    "start_time": "2022-02-21T14:18:48.791Z"
   },
   {
    "duration": 15,
    "start_time": "2022-02-21T14:18:48.821Z"
   },
   {
    "duration": 21,
    "start_time": "2022-02-21T14:18:48.838Z"
   },
   {
    "duration": 19,
    "start_time": "2022-02-21T14:18:48.861Z"
   },
   {
    "duration": 90,
    "start_time": "2022-02-21T14:18:48.882Z"
   },
   {
    "duration": 13,
    "start_time": "2022-02-21T14:18:48.974Z"
   },
   {
    "duration": 928,
    "start_time": "2022-02-21T14:18:48.990Z"
   },
   {
    "duration": 99,
    "start_time": "2022-02-21T14:18:49.921Z"
   },
   {
    "duration": 5,
    "start_time": "2022-02-21T14:18:50.023Z"
   },
   {
    "duration": 19,
    "start_time": "2022-02-21T14:18:50.030Z"
   },
   {
    "duration": 8,
    "start_time": "2022-02-21T14:18:50.052Z"
   },
   {
    "duration": 45,
    "start_time": "2022-02-21T14:18:50.062Z"
   },
   {
    "duration": 30,
    "start_time": "2022-02-21T14:18:50.109Z"
   },
   {
    "duration": 490,
    "start_time": "2022-02-21T14:18:50.141Z"
   },
   {
    "duration": 57,
    "start_time": "2022-02-21T14:18:50.634Z"
   },
   {
    "duration": 3,
    "start_time": "2022-02-21T14:18:50.693Z"
   },
   {
    "duration": 49,
    "start_time": "2022-02-21T14:18:50.698Z"
   },
   {
    "duration": 19,
    "start_time": "2022-02-21T14:18:50.749Z"
   },
   {
    "duration": 76,
    "start_time": "2022-02-21T14:18:50.769Z"
   },
   {
    "duration": 15,
    "start_time": "2022-02-21T14:18:50.846Z"
   },
   {
    "duration": 647,
    "start_time": "2022-02-21T14:18:50.863Z"
   },
   {
    "duration": 75,
    "start_time": "2022-02-21T14:18:51.512Z"
   },
   {
    "duration": 2,
    "start_time": "2022-02-21T14:18:51.589Z"
   },
   {
    "duration": 16,
    "start_time": "2022-02-21T14:18:51.593Z"
   },
   {
    "duration": 11,
    "start_time": "2022-02-21T14:18:51.610Z"
   },
   {
    "duration": 16,
    "start_time": "2022-02-21T14:18:51.624Z"
   },
   {
    "duration": 10,
    "start_time": "2022-02-21T14:18:51.643Z"
   },
   {
    "duration": 8,
    "start_time": "2022-02-21T14:18:51.655Z"
   },
   {
    "duration": 18,
    "start_time": "2022-02-21T14:18:51.665Z"
   },
   {
    "duration": 12,
    "start_time": "2022-02-21T14:18:51.685Z"
   },
   {
    "duration": 32,
    "start_time": "2022-02-21T14:18:51.699Z"
   },
   {
    "duration": 6,
    "start_time": "2022-02-21T14:18:51.733Z"
   },
   {
    "duration": 10,
    "start_time": "2022-02-21T14:18:51.741Z"
   },
   {
    "duration": 21,
    "start_time": "2022-02-21T14:18:51.753Z"
   },
   {
    "duration": 326,
    "start_time": "2022-02-21T14:18:51.776Z"
   },
   {
    "duration": -46,
    "start_time": "2022-02-21T14:18:52.149Z"
   },
   {
    "duration": -50,
    "start_time": "2022-02-21T14:18:52.155Z"
   },
   {
    "duration": -52,
    "start_time": "2022-02-21T14:18:52.158Z"
   },
   {
    "duration": 9,
    "start_time": "2022-02-21T14:20:07.345Z"
   },
   {
    "duration": 13,
    "start_time": "2022-02-21T14:20:09.674Z"
   },
   {
    "duration": 245,
    "start_time": "2022-02-21T14:20:48.434Z"
   },
   {
    "duration": 19,
    "start_time": "2022-02-21T14:20:50.061Z"
   },
   {
    "duration": 21,
    "start_time": "2022-02-21T14:21:11.617Z"
   },
   {
    "duration": 17,
    "start_time": "2022-02-21T14:21:11.982Z"
   },
   {
    "duration": 252,
    "start_time": "2022-02-21T14:21:28.891Z"
   },
   {
    "duration": 10,
    "start_time": "2022-02-21T14:21:41.363Z"
   },
   {
    "duration": 19,
    "start_time": "2022-02-21T14:21:42.227Z"
   },
   {
    "duration": 233,
    "start_time": "2022-02-21T14:22:54.660Z"
   },
   {
    "duration": 17,
    "start_time": "2022-02-21T14:22:54.975Z"
   },
   {
    "duration": 608,
    "start_time": "2022-02-21T14:23:33.233Z"
   },
   {
    "duration": 17,
    "start_time": "2022-02-21T14:23:33.843Z"
   },
   {
    "duration": 62,
    "start_time": "2022-02-21T14:23:33.862Z"
   },
   {
    "duration": 31,
    "start_time": "2022-02-21T14:23:33.926Z"
   },
   {
    "duration": 28,
    "start_time": "2022-02-21T14:23:33.959Z"
   },
   {
    "duration": 259,
    "start_time": "2022-02-21T14:23:33.988Z"
   },
   {
    "duration": 10,
    "start_time": "2022-02-21T14:23:34.250Z"
   },
   {
    "duration": 68,
    "start_time": "2022-02-21T14:23:34.264Z"
   },
   {
    "duration": 5,
    "start_time": "2022-02-21T14:23:34.335Z"
   },
   {
    "duration": 44,
    "start_time": "2022-02-21T14:23:34.343Z"
   },
   {
    "duration": 77,
    "start_time": "2022-02-21T14:23:34.389Z"
   },
   {
    "duration": 135,
    "start_time": "2022-02-21T14:23:34.468Z"
   },
   {
    "duration": 14,
    "start_time": "2022-02-21T14:23:34.605Z"
   },
   {
    "duration": 37,
    "start_time": "2022-02-21T14:23:34.622Z"
   },
   {
    "duration": 54,
    "start_time": "2022-02-21T14:23:34.661Z"
   },
   {
    "duration": 152,
    "start_time": "2022-02-21T14:23:34.717Z"
   },
   {
    "duration": 12,
    "start_time": "2022-02-21T14:23:34.871Z"
   },
   {
    "duration": 56,
    "start_time": "2022-02-21T14:23:34.885Z"
   },
   {
    "duration": 48,
    "start_time": "2022-02-21T14:23:34.943Z"
   },
   {
    "duration": 56,
    "start_time": "2022-02-21T14:23:34.994Z"
   },
   {
    "duration": 63,
    "start_time": "2022-02-21T14:23:35.052Z"
   },
   {
    "duration": 45,
    "start_time": "2022-02-21T14:23:35.116Z"
   },
   {
    "duration": 30,
    "start_time": "2022-02-21T14:23:35.167Z"
   },
   {
    "duration": 120,
    "start_time": "2022-02-21T14:23:35.200Z"
   },
   {
    "duration": 14,
    "start_time": "2022-02-21T14:23:35.323Z"
   },
   {
    "duration": 1020,
    "start_time": "2022-02-21T14:23:35.338Z"
   },
   {
    "duration": 99,
    "start_time": "2022-02-21T14:23:36.360Z"
   },
   {
    "duration": 3,
    "start_time": "2022-02-21T14:23:36.461Z"
   },
   {
    "duration": 12,
    "start_time": "2022-02-21T14:23:36.465Z"
   },
   {
    "duration": 8,
    "start_time": "2022-02-21T14:23:36.479Z"
   },
   {
    "duration": 56,
    "start_time": "2022-02-21T14:23:36.489Z"
   },
   {
    "duration": 14,
    "start_time": "2022-02-21T14:23:36.548Z"
   },
   {
    "duration": 533,
    "start_time": "2022-02-21T14:23:36.565Z"
   },
   {
    "duration": 55,
    "start_time": "2022-02-21T14:23:37.100Z"
   },
   {
    "duration": 3,
    "start_time": "2022-02-21T14:23:37.157Z"
   },
   {
    "duration": 55,
    "start_time": "2022-02-21T14:23:37.161Z"
   },
   {
    "duration": 45,
    "start_time": "2022-02-21T14:23:37.217Z"
   },
   {
    "duration": 94,
    "start_time": "2022-02-21T14:23:37.264Z"
   },
   {
    "duration": 16,
    "start_time": "2022-02-21T14:23:37.360Z"
   },
   {
    "duration": 596,
    "start_time": "2022-02-21T14:23:37.378Z"
   },
   {
    "duration": 72,
    "start_time": "2022-02-21T14:23:37.976Z"
   },
   {
    "duration": 2,
    "start_time": "2022-02-21T14:23:38.050Z"
   },
   {
    "duration": 12,
    "start_time": "2022-02-21T14:23:38.054Z"
   },
   {
    "duration": 15,
    "start_time": "2022-02-21T14:23:38.068Z"
   },
   {
    "duration": 10,
    "start_time": "2022-02-21T14:23:38.085Z"
   },
   {
    "duration": 18,
    "start_time": "2022-02-21T14:23:38.097Z"
   },
   {
    "duration": 7,
    "start_time": "2022-02-21T14:23:38.117Z"
   },
   {
    "duration": 31,
    "start_time": "2022-02-21T14:23:38.126Z"
   },
   {
    "duration": 33,
    "start_time": "2022-02-21T14:23:38.159Z"
   },
   {
    "duration": 12,
    "start_time": "2022-02-21T14:23:38.193Z"
   },
   {
    "duration": 25,
    "start_time": "2022-02-21T14:23:38.206Z"
   },
   {
    "duration": 12,
    "start_time": "2022-02-21T14:23:38.233Z"
   },
   {
    "duration": 31,
    "start_time": "2022-02-21T14:23:38.247Z"
   },
   {
    "duration": 320,
    "start_time": "2022-02-21T14:23:38.279Z"
   },
   {
    "duration": -18,
    "start_time": "2022-02-21T14:23:38.619Z"
   },
   {
    "duration": -44,
    "start_time": "2022-02-21T14:23:38.646Z"
   },
   {
    "duration": -51,
    "start_time": "2022-02-21T14:23:38.654Z"
   },
   {
    "duration": -68,
    "start_time": "2022-02-21T14:23:38.672Z"
   },
   {
    "duration": 304,
    "start_time": "2022-02-21T14:24:05.622Z"
   },
   {
    "duration": 233,
    "start_time": "2022-02-21T14:24:21.248Z"
   },
   {
    "duration": 300,
    "start_time": "2022-02-21T14:24:30.501Z"
   },
   {
    "duration": 653,
    "start_time": "2022-02-21T14:25:00.340Z"
   },
   {
    "duration": 24,
    "start_time": "2022-02-21T14:25:00.995Z"
   },
   {
    "duration": 25,
    "start_time": "2022-02-21T14:25:01.021Z"
   },
   {
    "duration": 24,
    "start_time": "2022-02-21T14:25:01.049Z"
   },
   {
    "duration": 11,
    "start_time": "2022-02-21T14:25:01.075Z"
   },
   {
    "duration": 195,
    "start_time": "2022-02-21T14:25:01.088Z"
   },
   {
    "duration": 9,
    "start_time": "2022-02-21T14:25:01.285Z"
   },
   {
    "duration": 37,
    "start_time": "2022-02-21T14:25:01.297Z"
   },
   {
    "duration": 30,
    "start_time": "2022-02-21T14:25:01.336Z"
   },
   {
    "duration": 23,
    "start_time": "2022-02-21T14:25:01.367Z"
   },
   {
    "duration": 48,
    "start_time": "2022-02-21T14:25:01.392Z"
   },
   {
    "duration": 102,
    "start_time": "2022-02-21T14:25:01.442Z"
   },
   {
    "duration": 8,
    "start_time": "2022-02-21T14:25:01.546Z"
   },
   {
    "duration": 49,
    "start_time": "2022-02-21T14:25:01.556Z"
   },
   {
    "duration": 38,
    "start_time": "2022-02-21T14:25:01.608Z"
   },
   {
    "duration": 165,
    "start_time": "2022-02-21T14:25:01.648Z"
   },
   {
    "duration": 9,
    "start_time": "2022-02-21T14:25:01.818Z"
   },
   {
    "duration": 31,
    "start_time": "2022-02-21T14:25:01.829Z"
   },
   {
    "duration": 25,
    "start_time": "2022-02-21T14:25:01.862Z"
   },
   {
    "duration": 11,
    "start_time": "2022-02-21T14:25:01.889Z"
   },
   {
    "duration": 41,
    "start_time": "2022-02-21T14:25:01.920Z"
   },
   {
    "duration": 35,
    "start_time": "2022-02-21T14:25:01.963Z"
   },
   {
    "duration": 34,
    "start_time": "2022-02-21T14:25:02.002Z"
   },
   {
    "duration": 106,
    "start_time": "2022-02-21T14:25:02.039Z"
   },
   {
    "duration": 14,
    "start_time": "2022-02-21T14:25:02.147Z"
   },
   {
    "duration": 793,
    "start_time": "2022-02-21T14:25:02.162Z"
   },
   {
    "duration": 93,
    "start_time": "2022-02-21T14:25:02.957Z"
   },
   {
    "duration": 3,
    "start_time": "2022-02-21T14:25:03.052Z"
   },
   {
    "duration": 21,
    "start_time": "2022-02-21T14:25:03.057Z"
   },
   {
    "duration": 11,
    "start_time": "2022-02-21T14:25:03.081Z"
   },
   {
    "duration": 55,
    "start_time": "2022-02-21T14:25:03.094Z"
   },
   {
    "duration": 15,
    "start_time": "2022-02-21T14:25:03.151Z"
   },
   {
    "duration": 637,
    "start_time": "2022-02-21T14:25:03.168Z"
   },
   {
    "duration": 57,
    "start_time": "2022-02-21T14:25:03.807Z"
   },
   {
    "duration": 4,
    "start_time": "2022-02-21T14:25:03.866Z"
   },
   {
    "duration": 13,
    "start_time": "2022-02-21T14:25:03.872Z"
   },
   {
    "duration": 12,
    "start_time": "2022-02-21T14:25:03.887Z"
   },
   {
    "duration": 74,
    "start_time": "2022-02-21T14:25:03.901Z"
   },
   {
    "duration": 15,
    "start_time": "2022-02-21T14:25:03.976Z"
   },
   {
    "duration": 620,
    "start_time": "2022-02-21T14:25:03.992Z"
   },
   {
    "duration": 62,
    "start_time": "2022-02-21T14:25:04.614Z"
   },
   {
    "duration": 3,
    "start_time": "2022-02-21T14:25:04.677Z"
   },
   {
    "duration": 16,
    "start_time": "2022-02-21T14:25:04.682Z"
   },
   {
    "duration": 12,
    "start_time": "2022-02-21T14:25:04.700Z"
   },
   {
    "duration": 7,
    "start_time": "2022-02-21T14:25:04.718Z"
   },
   {
    "duration": 11,
    "start_time": "2022-02-21T14:25:04.727Z"
   },
   {
    "duration": 10,
    "start_time": "2022-02-21T14:25:04.740Z"
   },
   {
    "duration": 19,
    "start_time": "2022-02-21T14:25:04.752Z"
   },
   {
    "duration": 12,
    "start_time": "2022-02-21T14:25:04.772Z"
   },
   {
    "duration": 12,
    "start_time": "2022-02-21T14:25:04.786Z"
   },
   {
    "duration": 20,
    "start_time": "2022-02-21T14:25:04.801Z"
   },
   {
    "duration": 15,
    "start_time": "2022-02-21T14:25:04.823Z"
   },
   {
    "duration": 17,
    "start_time": "2022-02-21T14:25:04.841Z"
   },
   {
    "duration": 4,
    "start_time": "2022-02-21T14:25:04.860Z"
   },
   {
    "duration": 11,
    "start_time": "2022-02-21T14:25:04.866Z"
   },
   {
    "duration": 9,
    "start_time": "2022-02-21T14:25:04.879Z"
   },
   {
    "duration": 304,
    "start_time": "2022-02-21T14:26:55.182Z"
   },
   {
    "duration": 611,
    "start_time": "2022-02-21T14:27:11.052Z"
   },
   {
    "duration": 17,
    "start_time": "2022-02-21T14:27:11.666Z"
   },
   {
    "duration": 18,
    "start_time": "2022-02-21T14:27:11.685Z"
   },
   {
    "duration": 13,
    "start_time": "2022-02-21T14:27:11.705Z"
   },
   {
    "duration": 4,
    "start_time": "2022-02-21T14:27:11.720Z"
   },
   {
    "duration": 178,
    "start_time": "2022-02-21T14:27:11.726Z"
   },
   {
    "duration": 12,
    "start_time": "2022-02-21T14:27:11.906Z"
   },
   {
    "duration": 23,
    "start_time": "2022-02-21T14:27:11.921Z"
   },
   {
    "duration": 6,
    "start_time": "2022-02-21T14:27:11.946Z"
   },
   {
    "duration": 10,
    "start_time": "2022-02-21T14:27:11.953Z"
   },
   {
    "duration": 61,
    "start_time": "2022-02-21T14:27:11.964Z"
   },
   {
    "duration": 99,
    "start_time": "2022-02-21T14:27:12.027Z"
   },
   {
    "duration": 8,
    "start_time": "2022-02-21T14:27:12.128Z"
   },
   {
    "duration": 18,
    "start_time": "2022-02-21T14:27:12.138Z"
   },
   {
    "duration": 26,
    "start_time": "2022-02-21T14:27:12.158Z"
   },
   {
    "duration": 167,
    "start_time": "2022-02-21T14:27:12.186Z"
   },
   {
    "duration": 9,
    "start_time": "2022-02-21T14:27:12.355Z"
   },
   {
    "duration": 22,
    "start_time": "2022-02-21T14:27:12.366Z"
   },
   {
    "duration": 41,
    "start_time": "2022-02-21T14:27:12.390Z"
   },
   {
    "duration": 12,
    "start_time": "2022-02-21T14:27:12.433Z"
   },
   {
    "duration": 17,
    "start_time": "2022-02-21T14:27:12.447Z"
   },
   {
    "duration": 14,
    "start_time": "2022-02-21T14:27:12.466Z"
   },
   {
    "duration": 7,
    "start_time": "2022-02-21T14:27:12.484Z"
   },
   {
    "duration": 98,
    "start_time": "2022-02-21T14:27:12.494Z"
   },
   {
    "duration": 15,
    "start_time": "2022-02-21T14:27:12.594Z"
   },
   {
    "duration": 786,
    "start_time": "2022-02-21T14:27:12.618Z"
   },
   {
    "duration": 95,
    "start_time": "2022-02-21T14:27:13.405Z"
   },
   {
    "duration": 3,
    "start_time": "2022-02-21T14:27:13.502Z"
   },
   {
    "duration": 17,
    "start_time": "2022-02-21T14:27:13.507Z"
   },
   {
    "duration": 4,
    "start_time": "2022-02-21T14:27:13.526Z"
   },
   {
    "duration": 49,
    "start_time": "2022-02-21T14:27:13.532Z"
   },
   {
    "duration": 36,
    "start_time": "2022-02-21T14:27:13.583Z"
   },
   {
    "duration": 465,
    "start_time": "2022-02-21T14:27:13.621Z"
   },
   {
    "duration": 65,
    "start_time": "2022-02-21T14:27:14.088Z"
   },
   {
    "duration": 4,
    "start_time": "2022-02-21T14:27:14.155Z"
   },
   {
    "duration": 9,
    "start_time": "2022-02-21T14:27:14.161Z"
   },
   {
    "duration": 6,
    "start_time": "2022-02-21T14:27:14.173Z"
   },
   {
    "duration": 74,
    "start_time": "2022-02-21T14:27:14.181Z"
   },
   {
    "duration": 14,
    "start_time": "2022-02-21T14:27:14.257Z"
   },
   {
    "duration": 600,
    "start_time": "2022-02-21T14:27:14.273Z"
   },
   {
    "duration": 68,
    "start_time": "2022-02-21T14:27:14.876Z"
   },
   {
    "duration": 3,
    "start_time": "2022-02-21T14:27:14.946Z"
   },
   {
    "duration": 13,
    "start_time": "2022-02-21T14:27:14.951Z"
   },
   {
    "duration": 7,
    "start_time": "2022-02-21T14:27:14.966Z"
   },
   {
    "duration": 6,
    "start_time": "2022-02-21T14:27:14.975Z"
   },
   {
    "duration": 14,
    "start_time": "2022-02-21T14:27:14.983Z"
   },
   {
    "duration": 18,
    "start_time": "2022-02-21T14:27:14.999Z"
   },
   {
    "duration": 25,
    "start_time": "2022-02-21T14:27:15.019Z"
   },
   {
    "duration": 13,
    "start_time": "2022-02-21T14:27:15.046Z"
   },
   {
    "duration": 10,
    "start_time": "2022-02-21T14:27:15.061Z"
   },
   {
    "duration": 15,
    "start_time": "2022-02-21T14:27:15.073Z"
   },
   {
    "duration": 430,
    "start_time": "2022-02-21T14:27:15.090Z"
   },
   {
    "duration": -32,
    "start_time": "2022-02-21T14:27:15.554Z"
   },
   {
    "duration": -35,
    "start_time": "2022-02-21T14:27:15.558Z"
   },
   {
    "duration": -36,
    "start_time": "2022-02-21T14:27:15.560Z"
   },
   {
    "duration": -46,
    "start_time": "2022-02-21T14:27:15.571Z"
   },
   {
    "duration": 6,
    "start_time": "2022-02-21T14:28:40.992Z"
   },
   {
    "duration": 251,
    "start_time": "2022-02-21T14:28:42.697Z"
   },
   {
    "duration": 16,
    "start_time": "2022-02-21T14:28:51.148Z"
   },
   {
    "duration": 627,
    "start_time": "2022-02-21T14:29:11.619Z"
   },
   {
    "duration": 22,
    "start_time": "2022-02-21T14:29:12.248Z"
   },
   {
    "duration": 17,
    "start_time": "2022-02-21T14:29:12.273Z"
   },
   {
    "duration": 9,
    "start_time": "2022-02-21T14:29:12.292Z"
   },
   {
    "duration": 16,
    "start_time": "2022-02-21T14:29:12.303Z"
   },
   {
    "duration": 170,
    "start_time": "2022-02-21T14:29:12.321Z"
   },
   {
    "duration": 9,
    "start_time": "2022-02-21T14:29:12.493Z"
   },
   {
    "duration": 33,
    "start_time": "2022-02-21T14:29:12.506Z"
   },
   {
    "duration": 5,
    "start_time": "2022-02-21T14:29:12.542Z"
   },
   {
    "duration": 10,
    "start_time": "2022-02-21T14:29:12.549Z"
   },
   {
    "duration": 57,
    "start_time": "2022-02-21T14:29:12.561Z"
   },
   {
    "duration": 103,
    "start_time": "2022-02-21T14:29:12.620Z"
   },
   {
    "duration": 8,
    "start_time": "2022-02-21T14:29:12.725Z"
   },
   {
    "duration": 21,
    "start_time": "2022-02-21T14:29:12.735Z"
   },
   {
    "duration": 22,
    "start_time": "2022-02-21T14:29:12.758Z"
   },
   {
    "duration": 200,
    "start_time": "2022-02-21T14:29:12.782Z"
   },
   {
    "duration": 13,
    "start_time": "2022-02-21T14:29:12.985Z"
   },
   {
    "duration": 37,
    "start_time": "2022-02-21T14:29:13.000Z"
   },
   {
    "duration": 25,
    "start_time": "2022-02-21T14:29:13.039Z"
   },
   {
    "duration": 11,
    "start_time": "2022-02-21T14:29:13.066Z"
   },
   {
    "duration": 13,
    "start_time": "2022-02-21T14:29:13.080Z"
   },
   {
    "duration": 28,
    "start_time": "2022-02-21T14:29:13.095Z"
   },
   {
    "duration": 9,
    "start_time": "2022-02-21T14:29:13.127Z"
   },
   {
    "duration": 102,
    "start_time": "2022-02-21T14:29:13.138Z"
   },
   {
    "duration": 22,
    "start_time": "2022-02-21T14:29:13.242Z"
   },
   {
    "duration": 1052,
    "start_time": "2022-02-21T14:29:13.266Z"
   },
   {
    "duration": 122,
    "start_time": "2022-02-21T14:29:14.321Z"
   },
   {
    "duration": 4,
    "start_time": "2022-02-21T14:29:14.446Z"
   },
   {
    "duration": 15,
    "start_time": "2022-02-21T14:29:14.451Z"
   },
   {
    "duration": 5,
    "start_time": "2022-02-21T14:29:14.468Z"
   },
   {
    "duration": 70,
    "start_time": "2022-02-21T14:29:14.475Z"
   },
   {
    "duration": 14,
    "start_time": "2022-02-21T14:29:14.547Z"
   },
   {
    "duration": 466,
    "start_time": "2022-02-21T14:29:14.563Z"
   },
   {
    "duration": 56,
    "start_time": "2022-02-21T14:29:15.031Z"
   },
   {
    "duration": 4,
    "start_time": "2022-02-21T14:29:15.090Z"
   },
   {
    "duration": 31,
    "start_time": "2022-02-21T14:29:15.096Z"
   },
   {
    "duration": 6,
    "start_time": "2022-02-21T14:29:15.130Z"
   },
   {
    "duration": 94,
    "start_time": "2022-02-21T14:29:15.138Z"
   },
   {
    "duration": 19,
    "start_time": "2022-02-21T14:29:15.234Z"
   },
   {
    "duration": 652,
    "start_time": "2022-02-21T14:29:15.256Z"
   },
   {
    "duration": 76,
    "start_time": "2022-02-21T14:29:15.910Z"
   },
   {
    "duration": 3,
    "start_time": "2022-02-21T14:29:15.988Z"
   },
   {
    "duration": 25,
    "start_time": "2022-02-21T14:29:15.993Z"
   },
   {
    "duration": 4,
    "start_time": "2022-02-21T14:29:16.021Z"
   },
   {
    "duration": 17,
    "start_time": "2022-02-21T14:29:16.027Z"
   },
   {
    "duration": 24,
    "start_time": "2022-02-21T14:29:16.046Z"
   },
   {
    "duration": 18,
    "start_time": "2022-02-21T14:29:16.072Z"
   },
   {
    "duration": 17,
    "start_time": "2022-02-21T14:29:16.093Z"
   },
   {
    "duration": 14,
    "start_time": "2022-02-21T14:29:16.112Z"
   },
   {
    "duration": 13,
    "start_time": "2022-02-21T14:29:16.129Z"
   },
   {
    "duration": 6,
    "start_time": "2022-02-21T14:29:16.144Z"
   },
   {
    "duration": 8,
    "start_time": "2022-02-21T14:29:16.152Z"
   },
   {
    "duration": 16,
    "start_time": "2022-02-21T14:29:16.162Z"
   },
   {
    "duration": 8,
    "start_time": "2022-02-21T14:29:16.180Z"
   },
   {
    "duration": 41,
    "start_time": "2022-02-21T14:29:16.191Z"
   },
   {
    "duration": 14,
    "start_time": "2022-02-21T14:29:16.234Z"
   },
   {
    "duration": 7,
    "start_time": "2022-02-21T14:30:51.796Z"
   },
   {
    "duration": 16,
    "start_time": "2022-02-21T14:30:52.881Z"
   },
   {
    "duration": 316,
    "start_time": "2022-02-21T14:31:52.433Z"
   },
   {
    "duration": 16,
    "start_time": "2022-02-21T14:31:52.857Z"
   },
   {
    "duration": 338,
    "start_time": "2022-02-21T14:37:00.550Z"
   },
   {
    "duration": 6,
    "start_time": "2022-02-21T14:37:26.098Z"
   },
   {
    "duration": 14,
    "start_time": "2022-02-21T14:37:31.822Z"
   },
   {
    "duration": 262,
    "start_time": "2022-02-21T14:40:09.232Z"
   },
   {
    "duration": 682,
    "start_time": "2022-02-21T14:40:35.311Z"
   },
   {
    "duration": 19,
    "start_time": "2022-02-21T14:40:35.995Z"
   },
   {
    "duration": 22,
    "start_time": "2022-02-21T14:40:36.016Z"
   },
   {
    "duration": 10,
    "start_time": "2022-02-21T14:40:36.040Z"
   },
   {
    "duration": 15,
    "start_time": "2022-02-21T14:40:36.052Z"
   },
   {
    "duration": 178,
    "start_time": "2022-02-21T14:40:36.069Z"
   },
   {
    "duration": 8,
    "start_time": "2022-02-21T14:40:36.249Z"
   },
   {
    "duration": 26,
    "start_time": "2022-02-21T14:40:36.260Z"
   },
   {
    "duration": 5,
    "start_time": "2022-02-21T14:40:36.288Z"
   },
   {
    "duration": 25,
    "start_time": "2022-02-21T14:40:36.295Z"
   },
   {
    "duration": 33,
    "start_time": "2022-02-21T14:40:36.322Z"
   },
   {
    "duration": 117,
    "start_time": "2022-02-21T14:40:36.357Z"
   },
   {
    "duration": 8,
    "start_time": "2022-02-21T14:40:36.476Z"
   },
   {
    "duration": 22,
    "start_time": "2022-02-21T14:40:36.485Z"
   },
   {
    "duration": 24,
    "start_time": "2022-02-21T14:40:36.519Z"
   },
   {
    "duration": 145,
    "start_time": "2022-02-21T14:40:36.545Z"
   },
   {
    "duration": 8,
    "start_time": "2022-02-21T14:40:36.691Z"
   },
   {
    "duration": 31,
    "start_time": "2022-02-21T14:40:36.701Z"
   },
   {
    "duration": 25,
    "start_time": "2022-02-21T14:40:36.733Z"
   },
   {
    "duration": 11,
    "start_time": "2022-02-21T14:40:36.760Z"
   },
   {
    "duration": 14,
    "start_time": "2022-02-21T14:40:36.773Z"
   },
   {
    "duration": 10,
    "start_time": "2022-02-21T14:40:36.789Z"
   },
   {
    "duration": 6,
    "start_time": "2022-02-21T14:40:36.820Z"
   },
   {
    "duration": 90,
    "start_time": "2022-02-21T14:40:36.829Z"
   },
   {
    "duration": 13,
    "start_time": "2022-02-21T14:40:36.921Z"
   },
   {
    "duration": 764,
    "start_time": "2022-02-21T14:40:36.935Z"
   },
   {
    "duration": 87,
    "start_time": "2022-02-21T14:40:37.700Z"
   },
   {
    "duration": 3,
    "start_time": "2022-02-21T14:40:37.788Z"
   },
   {
    "duration": 14,
    "start_time": "2022-02-21T14:40:37.793Z"
   },
   {
    "duration": 11,
    "start_time": "2022-02-21T14:40:37.808Z"
   },
   {
    "duration": 40,
    "start_time": "2022-02-21T14:40:37.820Z"
   },
   {
    "duration": 17,
    "start_time": "2022-02-21T14:40:37.861Z"
   },
   {
    "duration": 464,
    "start_time": "2022-02-21T14:40:37.880Z"
   },
   {
    "duration": 53,
    "start_time": "2022-02-21T14:40:38.346Z"
   },
   {
    "duration": 18,
    "start_time": "2022-02-21T14:40:38.401Z"
   },
   {
    "duration": 9,
    "start_time": "2022-02-21T14:40:38.420Z"
   },
   {
    "duration": 6,
    "start_time": "2022-02-21T14:40:38.431Z"
   },
   {
    "duration": 92,
    "start_time": "2022-02-21T14:40:38.439Z"
   },
   {
    "duration": 15,
    "start_time": "2022-02-21T14:40:38.533Z"
   },
   {
    "duration": 595,
    "start_time": "2022-02-21T14:40:38.550Z"
   },
   {
    "duration": 61,
    "start_time": "2022-02-21T14:40:39.147Z"
   },
   {
    "duration": 9,
    "start_time": "2022-02-21T14:40:39.210Z"
   },
   {
    "duration": 11,
    "start_time": "2022-02-21T14:40:39.221Z"
   },
   {
    "duration": 6,
    "start_time": "2022-02-21T14:40:39.234Z"
   },
   {
    "duration": 8,
    "start_time": "2022-02-21T14:40:39.242Z"
   },
   {
    "duration": 13,
    "start_time": "2022-02-21T14:40:39.252Z"
   },
   {
    "duration": 10,
    "start_time": "2022-02-21T14:40:39.267Z"
   },
   {
    "duration": 15,
    "start_time": "2022-02-21T14:40:39.279Z"
   },
   {
    "duration": 42,
    "start_time": "2022-02-21T14:40:39.296Z"
   },
   {
    "duration": 17,
    "start_time": "2022-02-21T14:40:39.340Z"
   },
   {
    "duration": 364,
    "start_time": "2022-02-21T14:40:39.360Z"
   },
   {
    "duration": -17,
    "start_time": "2022-02-21T14:40:39.744Z"
   },
   {
    "duration": -23,
    "start_time": "2022-02-21T14:40:39.751Z"
   },
   {
    "duration": -25,
    "start_time": "2022-02-21T14:40:39.754Z"
   },
   {
    "duration": -25,
    "start_time": "2022-02-21T14:40:39.755Z"
   },
   {
    "duration": -27,
    "start_time": "2022-02-21T14:40:39.758Z"
   },
   {
    "duration": 6,
    "start_time": "2022-02-21T14:41:46.822Z"
   },
   {
    "duration": 15,
    "start_time": "2022-02-21T14:41:48.187Z"
   },
   {
    "duration": 418,
    "start_time": "2022-02-21T14:41:51.807Z"
   },
   {
    "duration": 610,
    "start_time": "2022-02-21T14:43:17.419Z"
   },
   {
    "duration": 22,
    "start_time": "2022-02-21T14:43:18.031Z"
   },
   {
    "duration": 15,
    "start_time": "2022-02-21T14:43:18.056Z"
   },
   {
    "duration": 7,
    "start_time": "2022-02-21T14:43:18.073Z"
   },
   {
    "duration": 7,
    "start_time": "2022-02-21T14:43:18.082Z"
   },
   {
    "duration": 168,
    "start_time": "2022-02-21T14:43:18.090Z"
   },
   {
    "duration": 9,
    "start_time": "2022-02-21T14:43:18.260Z"
   },
   {
    "duration": 21,
    "start_time": "2022-02-21T14:43:18.272Z"
   },
   {
    "duration": 22,
    "start_time": "2022-02-21T14:43:18.296Z"
   },
   {
    "duration": 9,
    "start_time": "2022-02-21T14:43:18.321Z"
   },
   {
    "duration": 56,
    "start_time": "2022-02-21T14:43:18.332Z"
   },
   {
    "duration": 98,
    "start_time": "2022-02-21T14:43:18.390Z"
   },
   {
    "duration": 7,
    "start_time": "2022-02-21T14:43:18.490Z"
   },
   {
    "duration": 23,
    "start_time": "2022-02-21T14:43:18.498Z"
   },
   {
    "duration": 22,
    "start_time": "2022-02-21T14:43:18.523Z"
   },
   {
    "duration": 144,
    "start_time": "2022-02-21T14:43:18.547Z"
   },
   {
    "duration": 8,
    "start_time": "2022-02-21T14:43:18.693Z"
   },
   {
    "duration": 26,
    "start_time": "2022-02-21T14:43:18.703Z"
   },
   {
    "duration": 24,
    "start_time": "2022-02-21T14:43:18.731Z"
   },
   {
    "duration": 11,
    "start_time": "2022-02-21T14:43:18.757Z"
   },
   {
    "duration": 15,
    "start_time": "2022-02-21T14:43:18.770Z"
   },
   {
    "duration": 8,
    "start_time": "2022-02-21T14:43:18.787Z"
   },
   {
    "duration": 25,
    "start_time": "2022-02-21T14:43:18.800Z"
   },
   {
    "duration": 93,
    "start_time": "2022-02-21T14:43:18.828Z"
   },
   {
    "duration": 14,
    "start_time": "2022-02-21T14:43:18.923Z"
   },
   {
    "duration": 742,
    "start_time": "2022-02-21T14:43:18.938Z"
   },
   {
    "duration": 85,
    "start_time": "2022-02-21T14:43:19.682Z"
   },
   {
    "duration": 3,
    "start_time": "2022-02-21T14:43:19.769Z"
   },
   {
    "duration": 11,
    "start_time": "2022-02-21T14:43:19.774Z"
   },
   {
    "duration": 6,
    "start_time": "2022-02-21T14:43:19.786Z"
   },
   {
    "duration": 53,
    "start_time": "2022-02-21T14:43:19.794Z"
   },
   {
    "duration": 13,
    "start_time": "2022-02-21T14:43:19.849Z"
   },
   {
    "duration": 455,
    "start_time": "2022-02-21T14:43:19.863Z"
   },
   {
    "duration": 49,
    "start_time": "2022-02-21T14:43:20.320Z"
   },
   {
    "duration": 2,
    "start_time": "2022-02-21T14:43:20.371Z"
   },
   {
    "duration": 11,
    "start_time": "2022-02-21T14:43:20.375Z"
   },
   {
    "duration": 5,
    "start_time": "2022-02-21T14:43:20.388Z"
   },
   {
    "duration": 72,
    "start_time": "2022-02-21T14:43:20.394Z"
   },
   {
    "duration": 15,
    "start_time": "2022-02-21T14:43:20.467Z"
   },
   {
    "duration": 589,
    "start_time": "2022-02-21T14:43:20.483Z"
   },
   {
    "duration": 69,
    "start_time": "2022-02-21T14:43:21.074Z"
   },
   {
    "duration": 3,
    "start_time": "2022-02-21T14:43:21.145Z"
   },
   {
    "duration": 55,
    "start_time": "2022-02-21T14:43:21.151Z"
   },
   {
    "duration": 28,
    "start_time": "2022-02-21T14:43:21.208Z"
   },
   {
    "duration": 28,
    "start_time": "2022-02-21T14:43:21.238Z"
   },
   {
    "duration": 29,
    "start_time": "2022-02-21T14:43:21.267Z"
   },
   {
    "duration": 19,
    "start_time": "2022-02-21T14:43:21.298Z"
   },
   {
    "duration": 31,
    "start_time": "2022-02-21T14:43:21.319Z"
   },
   {
    "duration": 12,
    "start_time": "2022-02-21T14:43:21.352Z"
   },
   {
    "duration": 11,
    "start_time": "2022-02-21T14:43:21.366Z"
   },
   {
    "duration": 7,
    "start_time": "2022-02-21T14:43:21.378Z"
   },
   {
    "duration": 13,
    "start_time": "2022-02-21T14:43:21.387Z"
   },
   {
    "duration": 321,
    "start_time": "2022-02-21T14:43:21.402Z"
   },
   {
    "duration": -19,
    "start_time": "2022-02-21T14:43:21.745Z"
   },
   {
    "duration": -23,
    "start_time": "2022-02-21T14:43:21.750Z"
   },
   {
    "duration": -26,
    "start_time": "2022-02-21T14:43:21.755Z"
   },
   {
    "duration": 8,
    "start_time": "2022-02-21T14:44:05.289Z"
   },
   {
    "duration": 19,
    "start_time": "2022-02-21T14:44:07.289Z"
   },
   {
    "duration": 4,
    "start_time": "2022-02-21T16:25:03.932Z"
   },
   {
    "duration": 4,
    "start_time": "2022-02-21T16:25:04.519Z"
   },
   {
    "duration": 3,
    "start_time": "2022-02-21T16:25:15.008Z"
   },
   {
    "duration": 3,
    "start_time": "2022-02-21T16:25:17.837Z"
   },
   {
    "duration": 3,
    "start_time": "2022-02-21T16:25:26.867Z"
   },
   {
    "duration": 4,
    "start_time": "2022-02-21T16:25:27.384Z"
   },
   {
    "duration": 202,
    "start_time": "2022-02-21T16:25:35.684Z"
   },
   {
    "duration": 3,
    "start_time": "2022-02-21T16:26:06.740Z"
   },
   {
    "duration": 4,
    "start_time": "2022-02-21T16:26:07.077Z"
   },
   {
    "duration": 3,
    "start_time": "2022-02-21T16:26:11.687Z"
   },
   {
    "duration": 3,
    "start_time": "2022-02-21T16:26:43.007Z"
   },
   {
    "duration": 4,
    "start_time": "2022-02-21T16:26:44.049Z"
   },
   {
    "duration": 518,
    "start_time": "2022-02-21T16:26:52.926Z"
   },
   {
    "duration": 4,
    "start_time": "2022-02-21T16:26:59.824Z"
   },
   {
    "duration": 3,
    "start_time": "2022-02-21T16:27:00.207Z"
   },
   {
    "duration": 3,
    "start_time": "2022-02-21T16:27:14.705Z"
   },
   {
    "duration": 3,
    "start_time": "2022-02-21T16:27:15.133Z"
   },
   {
    "duration": 3,
    "start_time": "2022-02-21T16:28:07.634Z"
   },
   {
    "duration": 3,
    "start_time": "2022-02-21T16:28:08.077Z"
   },
   {
    "duration": 5,
    "start_time": "2022-02-21T16:28:55.784Z"
   },
   {
    "duration": 3,
    "start_time": "2022-02-21T16:28:56.144Z"
   },
   {
    "duration": 4,
    "start_time": "2022-02-21T16:29:11.464Z"
   },
   {
    "duration": 3,
    "start_time": "2022-02-21T16:29:11.749Z"
   },
   {
    "duration": 4,
    "start_time": "2022-02-21T16:29:18.328Z"
   },
   {
    "duration": 3,
    "start_time": "2022-02-21T16:29:18.757Z"
   },
   {
    "duration": 4,
    "start_time": "2022-02-21T16:33:43.239Z"
   },
   {
    "duration": 3,
    "start_time": "2022-02-21T16:33:43.658Z"
   },
   {
    "duration": 4,
    "start_time": "2022-02-21T16:33:58.645Z"
   },
   {
    "duration": 4,
    "start_time": "2022-02-21T16:33:58.910Z"
   },
   {
    "duration": 3,
    "start_time": "2022-02-21T16:34:26.846Z"
   },
   {
    "duration": 167,
    "start_time": "2022-02-21T16:34:27.452Z"
   },
   {
    "duration": 329,
    "start_time": "2022-02-21T16:34:33.338Z"
   },
   {
    "duration": 4,
    "start_time": "2022-02-21T16:34:38.211Z"
   },
   {
    "duration": 341,
    "start_time": "2022-02-21T16:34:38.519Z"
   },
   {
    "duration": 6,
    "start_time": "2022-02-21T16:35:04.360Z"
   },
   {
    "duration": 3,
    "start_time": "2022-02-21T16:35:04.728Z"
   },
   {
    "duration": 4,
    "start_time": "2022-02-21T16:35:20.794Z"
   },
   {
    "duration": 3,
    "start_time": "2022-02-21T16:35:21.141Z"
   },
   {
    "duration": 3,
    "start_time": "2022-02-21T16:36:04.306Z"
   },
   {
    "duration": 3,
    "start_time": "2022-02-21T16:36:05.246Z"
   },
   {
    "duration": 3,
    "start_time": "2022-02-21T16:37:12.806Z"
   },
   {
    "duration": 3,
    "start_time": "2022-02-21T16:37:13.235Z"
   },
   {
    "duration": 3,
    "start_time": "2022-02-21T16:39:36.439Z"
   },
   {
    "duration": 182,
    "start_time": "2022-02-21T16:39:36.714Z"
   },
   {
    "duration": 4,
    "start_time": "2022-02-21T16:42:44.706Z"
   },
   {
    "duration": 3,
    "start_time": "2022-02-21T16:42:45.238Z"
   },
   {
    "duration": 3,
    "start_time": "2022-02-21T16:43:32.235Z"
   },
   {
    "duration": 3,
    "start_time": "2022-02-21T16:43:32.483Z"
   },
   {
    "duration": 3,
    "start_time": "2022-02-21T16:43:36.268Z"
   },
   {
    "duration": 4,
    "start_time": "2022-02-21T16:43:36.580Z"
   },
   {
    "duration": 3,
    "start_time": "2022-02-21T16:44:40.172Z"
   },
   {
    "duration": 3,
    "start_time": "2022-02-21T16:44:42.731Z"
   },
   {
    "duration": 4,
    "start_time": "2022-02-21T16:44:47.893Z"
   },
   {
    "duration": 4,
    "start_time": "2022-02-21T16:44:48.255Z"
   },
   {
    "duration": 3,
    "start_time": "2022-02-21T16:44:59.066Z"
   },
   {
    "duration": 4,
    "start_time": "2022-02-21T16:44:59.318Z"
   },
   {
    "duration": 3,
    "start_time": "2022-02-21T16:56:53.356Z"
   },
   {
    "duration": 156,
    "start_time": "2022-02-21T16:56:53.639Z"
   },
   {
    "duration": 166,
    "start_time": "2022-02-21T16:57:53.698Z"
   },
   {
    "duration": 158,
    "start_time": "2022-02-21T16:59:28.139Z"
   },
   {
    "duration": 591,
    "start_time": "2022-02-21T16:59:36.552Z"
   },
   {
    "duration": 17,
    "start_time": "2022-02-21T16:59:37.145Z"
   },
   {
    "duration": 18,
    "start_time": "2022-02-21T16:59:37.164Z"
   },
   {
    "duration": 7,
    "start_time": "2022-02-21T16:59:37.184Z"
   },
   {
    "duration": 7,
    "start_time": "2022-02-21T16:59:37.193Z"
   },
   {
    "duration": 162,
    "start_time": "2022-02-21T16:59:37.202Z"
   },
   {
    "duration": 9,
    "start_time": "2022-02-21T16:59:37.366Z"
   },
   {
    "duration": 22,
    "start_time": "2022-02-21T16:59:37.377Z"
   },
   {
    "duration": 5,
    "start_time": "2022-02-21T16:59:37.401Z"
   },
   {
    "duration": 12,
    "start_time": "2022-02-21T16:59:37.408Z"
   },
   {
    "duration": 56,
    "start_time": "2022-02-21T16:59:37.421Z"
   },
   {
    "duration": 102,
    "start_time": "2022-02-21T16:59:37.479Z"
   },
   {
    "duration": 8,
    "start_time": "2022-02-21T16:59:37.583Z"
   },
   {
    "duration": 17,
    "start_time": "2022-02-21T16:59:37.592Z"
   },
   {
    "duration": 43,
    "start_time": "2022-02-21T16:59:37.611Z"
   },
   {
    "duration": 133,
    "start_time": "2022-02-21T16:59:37.656Z"
   },
   {
    "duration": 8,
    "start_time": "2022-02-21T16:59:37.791Z"
   },
   {
    "duration": 23,
    "start_time": "2022-02-21T16:59:37.800Z"
   },
   {
    "duration": 34,
    "start_time": "2022-02-21T16:59:37.825Z"
   },
   {
    "duration": 11,
    "start_time": "2022-02-21T16:59:37.861Z"
   },
   {
    "duration": 15,
    "start_time": "2022-02-21T16:59:37.874Z"
   },
   {
    "duration": 12,
    "start_time": "2022-02-21T16:59:37.891Z"
   },
   {
    "duration": 11,
    "start_time": "2022-02-21T16:59:37.907Z"
   },
   {
    "duration": 87,
    "start_time": "2022-02-21T16:59:37.921Z"
   },
   {
    "duration": 13,
    "start_time": "2022-02-21T16:59:38.010Z"
   },
   {
    "duration": 734,
    "start_time": "2022-02-21T16:59:38.025Z"
   },
   {
    "duration": 88,
    "start_time": "2022-02-21T16:59:38.761Z"
   },
   {
    "duration": 2,
    "start_time": "2022-02-21T16:59:38.860Z"
   },
   {
    "duration": 13,
    "start_time": "2022-02-21T16:59:38.864Z"
   },
   {
    "duration": 7,
    "start_time": "2022-02-21T16:59:38.879Z"
   },
   {
    "duration": 39,
    "start_time": "2022-02-21T16:59:38.887Z"
   },
   {
    "duration": 30,
    "start_time": "2022-02-21T16:59:38.928Z"
   },
   {
    "duration": 427,
    "start_time": "2022-02-21T16:59:38.960Z"
   },
   {
    "duration": 53,
    "start_time": "2022-02-21T16:59:39.389Z"
   },
   {
    "duration": 3,
    "start_time": "2022-02-21T16:59:39.444Z"
   },
   {
    "duration": 15,
    "start_time": "2022-02-21T16:59:39.448Z"
   },
   {
    "duration": 3,
    "start_time": "2022-02-21T16:59:39.465Z"
   },
   {
    "duration": 52,
    "start_time": "2022-02-21T16:59:39.470Z"
   },
   {
    "duration": 39,
    "start_time": "2022-02-21T16:59:39.524Z"
   },
   {
    "duration": 573,
    "start_time": "2022-02-21T16:59:39.565Z"
   },
   {
    "duration": 66,
    "start_time": "2022-02-21T16:59:40.140Z"
   },
   {
    "duration": 3,
    "start_time": "2022-02-21T16:59:40.207Z"
   },
   {
    "duration": 8,
    "start_time": "2022-02-21T16:59:40.212Z"
   },
   {
    "duration": 7,
    "start_time": "2022-02-21T16:59:40.221Z"
   },
   {
    "duration": 6,
    "start_time": "2022-02-21T16:59:40.229Z"
   },
   {
    "duration": 11,
    "start_time": "2022-02-21T16:59:40.237Z"
   },
   {
    "duration": 3,
    "start_time": "2022-02-21T16:59:40.259Z"
   },
   {
    "duration": 15,
    "start_time": "2022-02-21T16:59:40.264Z"
   },
   {
    "duration": 11,
    "start_time": "2022-02-21T16:59:40.280Z"
   },
   {
    "duration": 11,
    "start_time": "2022-02-21T16:59:40.292Z"
   },
   {
    "duration": 6,
    "start_time": "2022-02-21T16:59:40.305Z"
   },
   {
    "duration": 16,
    "start_time": "2022-02-21T16:59:40.312Z"
   },
   {
    "duration": 38,
    "start_time": "2022-02-21T16:59:40.330Z"
   },
   {
    "duration": 19,
    "start_time": "2022-02-21T16:59:40.369Z"
   },
   {
    "duration": 7,
    "start_time": "2022-02-21T16:59:40.390Z"
   },
   {
    "duration": 9,
    "start_time": "2022-02-21T16:59:40.398Z"
   },
   {
    "duration": 58,
    "start_time": "2022-02-21T16:59:40.408Z"
   },
   {
    "duration": 490,
    "start_time": "2022-02-21T16:59:56.406Z"
   },
   {
    "duration": 3,
    "start_time": "2022-02-21T17:02:41.305Z"
   },
   {
    "duration": 567,
    "start_time": "2022-02-21T17:02:44.404Z"
   },
   {
    "duration": 569,
    "start_time": "2022-02-21T17:02:53.178Z"
   },
   {
    "duration": 588,
    "start_time": "2022-02-21T17:03:16.236Z"
   },
   {
    "duration": 3,
    "start_time": "2022-02-21T17:03:26.068Z"
   },
   {
    "duration": 683,
    "start_time": "2022-02-21T17:03:27.858Z"
   },
   {
    "duration": 4,
    "start_time": "2022-02-21T17:04:25.298Z"
   },
   {
    "duration": 370,
    "start_time": "2022-02-21T17:04:26.069Z"
   },
   {
    "duration": 3,
    "start_time": "2022-02-21T17:04:50.625Z"
   },
   {
    "duration": 581,
    "start_time": "2022-02-21T17:04:51.000Z"
   },
   {
    "duration": 424,
    "start_time": "2022-02-21T17:05:09.364Z"
   },
   {
    "duration": 3,
    "start_time": "2022-02-21T17:05:53.389Z"
   },
   {
    "duration": 578,
    "start_time": "2022-02-21T17:05:53.860Z"
   },
   {
    "duration": 3,
    "start_time": "2022-02-21T17:07:09.629Z"
   },
   {
    "duration": 168,
    "start_time": "2022-02-21T17:07:10.886Z"
   },
   {
    "duration": 191,
    "start_time": "2022-02-21T17:07:24.568Z"
   },
   {
    "duration": 3,
    "start_time": "2022-02-21T17:08:28.261Z"
   },
   {
    "duration": 265,
    "start_time": "2022-02-21T17:08:28.548Z"
   },
   {
    "duration": 4,
    "start_time": "2022-02-21T17:08:50.569Z"
   },
   {
    "duration": 493,
    "start_time": "2022-02-21T17:08:50.877Z"
   },
   {
    "duration": 319,
    "start_time": "2022-02-21T17:09:04.520Z"
   },
   {
    "duration": 5,
    "start_time": "2022-02-21T17:09:05.869Z"
   },
   {
    "duration": 290,
    "start_time": "2022-02-21T17:09:06.119Z"
   },
   {
    "duration": 5,
    "start_time": "2022-02-21T17:16:50.152Z"
   },
   {
    "duration": 4,
    "start_time": "2022-02-21T17:18:57.987Z"
   },
   {
    "duration": 58,
    "start_time": "2022-02-21T17:18:58.846Z"
   },
   {
    "duration": 309,
    "start_time": "2022-02-21T17:19:24.727Z"
   },
   {
    "duration": 469,
    "start_time": "2022-02-21T17:20:22.585Z"
   },
   {
    "duration": 5,
    "start_time": "2022-02-21T17:21:06.695Z"
   },
   {
    "duration": 486,
    "start_time": "2022-02-21T17:21:07.784Z"
   },
   {
    "duration": 5,
    "start_time": "2022-02-21T17:21:56.248Z"
   },
   {
    "duration": 669,
    "start_time": "2022-02-21T17:21:57.382Z"
   },
   {
    "duration": 4,
    "start_time": "2022-02-21T17:22:55.799Z"
   },
   {
    "duration": 419,
    "start_time": "2022-02-21T17:22:56.652Z"
   },
   {
    "duration": 452,
    "start_time": "2022-02-21T17:23:11.310Z"
   },
   {
    "duration": 225,
    "start_time": "2022-02-21T17:28:08.353Z"
   },
   {
    "duration": 223,
    "start_time": "2022-02-21T17:28:18.428Z"
   },
   {
    "duration": 242,
    "start_time": "2022-02-21T17:28:37.918Z"
   },
   {
    "duration": 5,
    "start_time": "2022-02-21T17:28:41.370Z"
   },
   {
    "duration": 59,
    "start_time": "2022-02-21T17:29:42.975Z"
   },
   {
    "duration": 5,
    "start_time": "2022-02-21T17:29:50.133Z"
   },
   {
    "duration": 439,
    "start_time": "2022-02-21T17:29:52.625Z"
   },
   {
    "duration": 25,
    "start_time": "2022-02-21T17:32:04.498Z"
   },
   {
    "duration": 20,
    "start_time": "2022-02-21T17:32:34.440Z"
   },
   {
    "duration": 64,
    "start_time": "2022-02-21T17:32:47.209Z"
   },
   {
    "duration": 56,
    "start_time": "2022-02-21T17:32:52.602Z"
   },
   {
    "duration": 24,
    "start_time": "2022-02-21T17:32:58.036Z"
   },
   {
    "duration": 13,
    "start_time": "2022-02-21T17:33:04.921Z"
   },
   {
    "duration": 17,
    "start_time": "2022-02-21T17:33:07.867Z"
   },
   {
    "duration": 18,
    "start_time": "2022-02-21T17:35:39.554Z"
   },
   {
    "duration": 54,
    "start_time": "2022-02-21T17:35:42.838Z"
   },
   {
    "duration": 21,
    "start_time": "2022-02-21T17:35:47.631Z"
   },
   {
    "duration": 54,
    "start_time": "2022-02-21T17:43:35.995Z"
   },
   {
    "duration": 4,
    "start_time": "2022-02-21T17:43:48.174Z"
   },
   {
    "duration": 56,
    "start_time": "2022-02-21T17:43:50.276Z"
   },
   {
    "duration": 5,
    "start_time": "2022-02-21T17:44:56.479Z"
   },
   {
    "duration": 55,
    "start_time": "2022-02-21T17:44:56.860Z"
   },
   {
    "duration": 55,
    "start_time": "2022-02-21T17:45:59.409Z"
   },
   {
    "duration": 605,
    "start_time": "2022-02-21T17:46:03.643Z"
   },
   {
    "duration": 25,
    "start_time": "2022-02-21T17:46:04.250Z"
   },
   {
    "duration": 17,
    "start_time": "2022-02-21T17:46:04.279Z"
   },
   {
    "duration": 7,
    "start_time": "2022-02-21T17:46:04.298Z"
   },
   {
    "duration": 11,
    "start_time": "2022-02-21T17:46:04.306Z"
   },
   {
    "duration": 159,
    "start_time": "2022-02-21T17:46:04.318Z"
   },
   {
    "duration": 7,
    "start_time": "2022-02-21T17:46:04.480Z"
   },
   {
    "duration": 21,
    "start_time": "2022-02-21T17:46:04.490Z"
   },
   {
    "duration": 4,
    "start_time": "2022-02-21T17:46:04.513Z"
   },
   {
    "duration": 7,
    "start_time": "2022-02-21T17:46:04.519Z"
   },
   {
    "duration": 53,
    "start_time": "2022-02-21T17:46:04.528Z"
   },
   {
    "duration": 96,
    "start_time": "2022-02-21T17:46:04.583Z"
   },
   {
    "duration": 8,
    "start_time": "2022-02-21T17:46:04.681Z"
   },
   {
    "duration": 21,
    "start_time": "2022-02-21T17:46:04.690Z"
   },
   {
    "duration": 19,
    "start_time": "2022-02-21T17:46:04.712Z"
   },
   {
    "duration": 154,
    "start_time": "2022-02-21T17:46:04.733Z"
   },
   {
    "duration": 9,
    "start_time": "2022-02-21T17:46:04.888Z"
   },
   {
    "duration": 20,
    "start_time": "2022-02-21T17:46:04.899Z"
   },
   {
    "duration": 38,
    "start_time": "2022-02-21T17:46:04.921Z"
   },
   {
    "duration": 11,
    "start_time": "2022-02-21T17:46:04.960Z"
   },
   {
    "duration": 13,
    "start_time": "2022-02-21T17:46:04.973Z"
   },
   {
    "duration": 11,
    "start_time": "2022-02-21T17:46:04.990Z"
   },
   {
    "duration": 7,
    "start_time": "2022-02-21T17:46:05.004Z"
   },
   {
    "duration": 103,
    "start_time": "2022-02-21T17:46:05.013Z"
   },
   {
    "duration": 12,
    "start_time": "2022-02-21T17:46:05.118Z"
   },
   {
    "duration": 730,
    "start_time": "2022-02-21T17:46:05.132Z"
   },
   {
    "duration": 97,
    "start_time": "2022-02-21T17:46:05.864Z"
   },
   {
    "duration": 3,
    "start_time": "2022-02-21T17:46:05.962Z"
   },
   {
    "duration": 12,
    "start_time": "2022-02-21T17:46:05.967Z"
   },
   {
    "duration": 5,
    "start_time": "2022-02-21T17:46:05.981Z"
   },
   {
    "duration": 38,
    "start_time": "2022-02-21T17:46:05.987Z"
   },
   {
    "duration": 33,
    "start_time": "2022-02-21T17:46:06.027Z"
   },
   {
    "duration": 419,
    "start_time": "2022-02-21T17:46:06.062Z"
   },
   {
    "duration": 54,
    "start_time": "2022-02-21T17:46:06.483Z"
   },
   {
    "duration": 3,
    "start_time": "2022-02-21T17:46:06.538Z"
   },
   {
    "duration": 20,
    "start_time": "2022-02-21T17:46:06.543Z"
   },
   {
    "duration": 4,
    "start_time": "2022-02-21T17:46:06.565Z"
   },
   {
    "duration": 54,
    "start_time": "2022-02-21T17:46:06.570Z"
   },
   {
    "duration": 33,
    "start_time": "2022-02-21T17:46:06.626Z"
   },
   {
    "duration": 553,
    "start_time": "2022-02-21T17:46:06.661Z"
   },
   {
    "duration": 76,
    "start_time": "2022-02-21T17:46:07.216Z"
   },
   {
    "duration": 3,
    "start_time": "2022-02-21T17:46:07.294Z"
   },
   {
    "duration": 8,
    "start_time": "2022-02-21T17:46:07.299Z"
   },
   {
    "duration": 8,
    "start_time": "2022-02-21T17:46:07.308Z"
   },
   {
    "duration": 8,
    "start_time": "2022-02-21T17:46:07.319Z"
   },
   {
    "duration": 13,
    "start_time": "2022-02-21T17:46:07.329Z"
   },
   {
    "duration": 18,
    "start_time": "2022-02-21T17:46:07.343Z"
   },
   {
    "duration": 14,
    "start_time": "2022-02-21T17:46:07.363Z"
   },
   {
    "duration": 11,
    "start_time": "2022-02-21T17:46:07.379Z"
   },
   {
    "duration": 11,
    "start_time": "2022-02-21T17:46:07.392Z"
   },
   {
    "duration": 5,
    "start_time": "2022-02-21T17:46:07.405Z"
   },
   {
    "duration": 53,
    "start_time": "2022-02-21T17:46:07.412Z"
   },
   {
    "duration": 10,
    "start_time": "2022-02-21T17:46:07.467Z"
   },
   {
    "duration": 19,
    "start_time": "2022-02-21T17:46:07.479Z"
   },
   {
    "duration": 4,
    "start_time": "2022-02-21T17:46:07.500Z"
   },
   {
    "duration": 15,
    "start_time": "2022-02-21T17:46:07.505Z"
   },
   {
    "duration": 70,
    "start_time": "2022-02-21T17:46:07.522Z"
   },
   {
    "duration": 70,
    "start_time": "2022-02-21T17:46:13.855Z"
   },
   {
    "duration": 53,
    "start_time": "2022-02-21T17:46:17.125Z"
   },
   {
    "duration": 221,
    "start_time": "2022-02-21T17:46:28.188Z"
   },
   {
    "duration": 59,
    "start_time": "2022-02-21T17:47:23.041Z"
   },
   {
    "duration": 600,
    "start_time": "2022-02-21T17:47:29.903Z"
   },
   {
    "duration": 29,
    "start_time": "2022-02-21T17:47:30.506Z"
   },
   {
    "duration": 19,
    "start_time": "2022-02-21T17:47:30.537Z"
   },
   {
    "duration": 7,
    "start_time": "2022-02-21T17:47:30.558Z"
   },
   {
    "duration": 9,
    "start_time": "2022-02-21T17:47:30.567Z"
   },
   {
    "duration": 178,
    "start_time": "2022-02-21T17:47:30.578Z"
   },
   {
    "duration": 8,
    "start_time": "2022-02-21T17:47:30.759Z"
   },
   {
    "duration": 26,
    "start_time": "2022-02-21T17:47:30.770Z"
   },
   {
    "duration": 5,
    "start_time": "2022-02-21T17:47:30.798Z"
   },
   {
    "duration": 39,
    "start_time": "2022-02-21T17:47:30.804Z"
   },
   {
    "duration": 33,
    "start_time": "2022-02-21T17:47:30.845Z"
   },
   {
    "duration": 107,
    "start_time": "2022-02-21T17:47:30.879Z"
   },
   {
    "duration": 7,
    "start_time": "2022-02-21T17:47:30.988Z"
   },
   {
    "duration": 26,
    "start_time": "2022-02-21T17:47:30.996Z"
   },
   {
    "duration": 35,
    "start_time": "2022-02-21T17:47:31.024Z"
   },
   {
    "duration": 147,
    "start_time": "2022-02-21T17:47:31.061Z"
   },
   {
    "duration": 10,
    "start_time": "2022-02-21T17:47:31.210Z"
   },
   {
    "duration": 29,
    "start_time": "2022-02-21T17:47:31.221Z"
   },
   {
    "duration": 30,
    "start_time": "2022-02-21T17:47:31.252Z"
   },
   {
    "duration": 11,
    "start_time": "2022-02-21T17:47:31.284Z"
   },
   {
    "duration": 16,
    "start_time": "2022-02-21T17:47:31.297Z"
   },
   {
    "duration": 16,
    "start_time": "2022-02-21T17:47:31.315Z"
   },
   {
    "duration": 13,
    "start_time": "2022-02-21T17:47:31.335Z"
   },
   {
    "duration": 90,
    "start_time": "2022-02-21T17:47:31.359Z"
   },
   {
    "duration": 18,
    "start_time": "2022-02-21T17:47:31.451Z"
   },
   {
    "duration": 765,
    "start_time": "2022-02-21T17:47:31.471Z"
   },
   {
    "duration": 100,
    "start_time": "2022-02-21T17:47:32.238Z"
   },
   {
    "duration": 3,
    "start_time": "2022-02-21T17:47:32.340Z"
   },
   {
    "duration": 22,
    "start_time": "2022-02-21T17:47:32.345Z"
   },
   {
    "duration": 12,
    "start_time": "2022-02-21T17:47:32.369Z"
   },
   {
    "duration": 40,
    "start_time": "2022-02-21T17:47:32.383Z"
   },
   {
    "duration": 13,
    "start_time": "2022-02-21T17:47:32.425Z"
   },
   {
    "duration": 445,
    "start_time": "2022-02-21T17:47:32.439Z"
   },
   {
    "duration": 56,
    "start_time": "2022-02-21T17:47:32.886Z"
   },
   {
    "duration": 3,
    "start_time": "2022-02-21T17:47:32.944Z"
   },
   {
    "duration": 18,
    "start_time": "2022-02-21T17:47:32.948Z"
   },
   {
    "duration": 6,
    "start_time": "2022-02-21T17:47:32.967Z"
   },
   {
    "duration": 60,
    "start_time": "2022-02-21T17:47:32.974Z"
   },
   {
    "duration": 29,
    "start_time": "2022-02-21T17:47:33.036Z"
   },
   {
    "duration": 573,
    "start_time": "2022-02-21T17:47:33.067Z"
   },
   {
    "duration": 69,
    "start_time": "2022-02-21T17:47:33.641Z"
   },
   {
    "duration": 3,
    "start_time": "2022-02-21T17:47:33.712Z"
   },
   {
    "duration": 12,
    "start_time": "2022-02-21T17:47:33.716Z"
   },
   {
    "duration": 5,
    "start_time": "2022-02-21T17:47:33.730Z"
   },
   {
    "duration": 6,
    "start_time": "2022-02-21T17:47:33.737Z"
   },
   {
    "duration": 17,
    "start_time": "2022-02-21T17:47:33.745Z"
   },
   {
    "duration": 4,
    "start_time": "2022-02-21T17:47:33.764Z"
   },
   {
    "duration": 13,
    "start_time": "2022-02-21T17:47:33.770Z"
   },
   {
    "duration": 11,
    "start_time": "2022-02-21T17:47:33.785Z"
   },
   {
    "duration": 10,
    "start_time": "2022-02-21T17:47:33.797Z"
   },
   {
    "duration": 7,
    "start_time": "2022-02-21T17:47:33.808Z"
   },
   {
    "duration": 13,
    "start_time": "2022-02-21T17:47:33.816Z"
   },
   {
    "duration": 9,
    "start_time": "2022-02-21T17:47:33.859Z"
   },
   {
    "duration": 18,
    "start_time": "2022-02-21T17:47:33.869Z"
   },
   {
    "duration": 6,
    "start_time": "2022-02-21T17:47:33.888Z"
   },
   {
    "duration": 6,
    "start_time": "2022-02-21T17:47:33.895Z"
   },
   {
    "duration": 74,
    "start_time": "2022-02-21T17:47:33.903Z"
   },
   {
    "duration": -25,
    "start_time": "2022-02-21T17:47:34.004Z"
   },
   {
    "duration": 4,
    "start_time": "2022-02-21T17:48:07.314Z"
   },
   {
    "duration": 60,
    "start_time": "2022-02-21T17:48:08.131Z"
   },
   {
    "duration": 56,
    "start_time": "2022-02-21T17:48:37.574Z"
   },
   {
    "duration": 3,
    "start_time": "2022-02-21T17:49:42.166Z"
   },
   {
    "duration": 53,
    "start_time": "2022-02-21T17:49:42.824Z"
   },
   {
    "duration": 4,
    "start_time": "2022-02-21T17:50:36.492Z"
   },
   {
    "duration": 95,
    "start_time": "2022-02-21T17:50:37.557Z"
   },
   {
    "duration": 3,
    "start_time": "2022-02-21T17:50:46.211Z"
   },
   {
    "duration": 75,
    "start_time": "2022-02-21T17:50:47.065Z"
   },
   {
    "duration": 3,
    "start_time": "2022-02-21T17:51:05.553Z"
   },
   {
    "duration": 285,
    "start_time": "2022-02-21T17:51:05.962Z"
   },
   {
    "duration": 52,
    "start_time": "2022-02-21T17:51:33.173Z"
   },
   {
    "duration": 5,
    "start_time": "2022-02-21T17:52:06.033Z"
   },
   {
    "duration": 64,
    "start_time": "2022-02-21T17:52:07.938Z"
   },
   {
    "duration": 805,
    "start_time": "2022-02-21T17:52:16.637Z"
   },
   {
    "duration": 580,
    "start_time": "2022-02-21T17:52:34.371Z"
   },
   {
    "duration": 25,
    "start_time": "2022-02-21T17:52:34.953Z"
   },
   {
    "duration": 18,
    "start_time": "2022-02-21T17:52:34.980Z"
   },
   {
    "duration": 9,
    "start_time": "2022-02-21T17:52:35.000Z"
   },
   {
    "duration": 6,
    "start_time": "2022-02-21T17:52:35.011Z"
   },
   {
    "duration": 161,
    "start_time": "2022-02-21T17:52:35.019Z"
   },
   {
    "duration": 9,
    "start_time": "2022-02-21T17:52:35.181Z"
   },
   {
    "duration": 23,
    "start_time": "2022-02-21T17:52:35.192Z"
   },
   {
    "duration": 4,
    "start_time": "2022-02-21T17:52:35.218Z"
   },
   {
    "duration": 16,
    "start_time": "2022-02-21T17:52:35.223Z"
   },
   {
    "duration": 40,
    "start_time": "2022-02-21T17:52:35.241Z"
   },
   {
    "duration": 105,
    "start_time": "2022-02-21T17:52:35.283Z"
   },
   {
    "duration": 7,
    "start_time": "2022-02-21T17:52:35.390Z"
   },
   {
    "duration": 20,
    "start_time": "2022-02-21T17:52:35.399Z"
   },
   {
    "duration": 38,
    "start_time": "2022-02-21T17:52:35.421Z"
   },
   {
    "duration": 136,
    "start_time": "2022-02-21T17:52:35.461Z"
   },
   {
    "duration": 9,
    "start_time": "2022-02-21T17:52:35.599Z"
   },
   {
    "duration": 24,
    "start_time": "2022-02-21T17:52:35.610Z"
   },
   {
    "duration": 35,
    "start_time": "2022-02-21T17:52:35.636Z"
   },
   {
    "duration": 11,
    "start_time": "2022-02-21T17:52:35.673Z"
   },
   {
    "duration": 24,
    "start_time": "2022-02-21T17:52:35.686Z"
   },
   {
    "duration": 10,
    "start_time": "2022-02-21T17:52:35.712Z"
   },
   {
    "duration": 6,
    "start_time": "2022-02-21T17:52:35.727Z"
   },
   {
    "duration": 94,
    "start_time": "2022-02-21T17:52:35.735Z"
   },
   {
    "duration": 13,
    "start_time": "2022-02-21T17:52:35.831Z"
   },
   {
    "duration": 702,
    "start_time": "2022-02-21T17:52:35.846Z"
   },
   {
    "duration": 86,
    "start_time": "2022-02-21T17:52:36.550Z"
   },
   {
    "duration": 3,
    "start_time": "2022-02-21T17:52:36.638Z"
   },
   {
    "duration": 16,
    "start_time": "2022-02-21T17:52:36.643Z"
   },
   {
    "duration": 5,
    "start_time": "2022-02-21T17:52:36.661Z"
   },
   {
    "duration": 41,
    "start_time": "2022-02-21T17:52:36.668Z"
   },
   {
    "duration": 13,
    "start_time": "2022-02-21T17:52:36.711Z"
   },
   {
    "duration": 434,
    "start_time": "2022-02-21T17:52:36.726Z"
   },
   {
    "duration": 54,
    "start_time": "2022-02-21T17:52:37.162Z"
   },
   {
    "duration": 3,
    "start_time": "2022-02-21T17:52:37.217Z"
   },
   {
    "duration": 13,
    "start_time": "2022-02-21T17:52:37.222Z"
   },
   {
    "duration": 23,
    "start_time": "2022-02-21T17:52:37.237Z"
   },
   {
    "duration": 55,
    "start_time": "2022-02-21T17:52:37.261Z"
   },
   {
    "duration": 14,
    "start_time": "2022-02-21T17:52:37.317Z"
   },
   {
    "duration": 553,
    "start_time": "2022-02-21T17:52:37.333Z"
   },
   {
    "duration": 57,
    "start_time": "2022-02-21T17:52:37.888Z"
   },
   {
    "duration": 13,
    "start_time": "2022-02-21T17:52:37.946Z"
   },
   {
    "duration": 8,
    "start_time": "2022-02-21T17:52:37.960Z"
   },
   {
    "duration": 4,
    "start_time": "2022-02-21T17:52:37.970Z"
   },
   {
    "duration": 6,
    "start_time": "2022-02-21T17:52:37.976Z"
   },
   {
    "duration": 9,
    "start_time": "2022-02-21T17:52:37.983Z"
   },
   {
    "duration": 3,
    "start_time": "2022-02-21T17:52:37.994Z"
   },
   {
    "duration": 15,
    "start_time": "2022-02-21T17:52:37.998Z"
   },
   {
    "duration": 13,
    "start_time": "2022-02-21T17:52:38.015Z"
   },
   {
    "duration": 35,
    "start_time": "2022-02-21T17:52:38.029Z"
   },
   {
    "duration": 7,
    "start_time": "2022-02-21T17:52:38.065Z"
   },
   {
    "duration": 15,
    "start_time": "2022-02-21T17:52:38.073Z"
   },
   {
    "duration": 9,
    "start_time": "2022-02-21T17:52:38.089Z"
   },
   {
    "duration": 17,
    "start_time": "2022-02-21T17:52:38.099Z"
   },
   {
    "duration": 5,
    "start_time": "2022-02-21T17:52:38.117Z"
   },
   {
    "duration": 37,
    "start_time": "2022-02-21T17:52:38.123Z"
   },
   {
    "duration": 797,
    "start_time": "2022-02-21T17:52:38.162Z"
   },
   {
    "duration": 298,
    "start_time": "2022-02-21T17:53:46.462Z"
   },
   {
    "duration": 670,
    "start_time": "2022-02-21T17:53:48.514Z"
   },
   {
    "duration": 444,
    "start_time": "2022-02-21T17:53:55.069Z"
   },
   {
    "duration": 5,
    "start_time": "2022-02-21T17:55:07.913Z"
   },
   {
    "duration": 326,
    "start_time": "2022-02-21T17:55:09.461Z"
   },
   {
    "duration": 527,
    "start_time": "2022-02-21T17:55:21.141Z"
   },
   {
    "duration": 588,
    "start_time": "2022-02-21T17:55:41.162Z"
   },
   {
    "duration": 23,
    "start_time": "2022-02-21T17:55:41.752Z"
   },
   {
    "duration": 16,
    "start_time": "2022-02-21T17:55:41.777Z"
   },
   {
    "duration": 6,
    "start_time": "2022-02-21T17:55:41.795Z"
   },
   {
    "duration": 9,
    "start_time": "2022-02-21T17:55:41.802Z"
   },
   {
    "duration": 162,
    "start_time": "2022-02-21T17:55:41.812Z"
   },
   {
    "duration": 9,
    "start_time": "2022-02-21T17:55:41.976Z"
   },
   {
    "duration": 23,
    "start_time": "2022-02-21T17:55:41.988Z"
   },
   {
    "duration": 5,
    "start_time": "2022-02-21T17:55:42.014Z"
   },
   {
    "duration": 9,
    "start_time": "2022-02-21T17:55:42.021Z"
   },
   {
    "duration": 55,
    "start_time": "2022-02-21T17:55:42.031Z"
   },
   {
    "duration": 101,
    "start_time": "2022-02-21T17:55:42.088Z"
   },
   {
    "duration": 8,
    "start_time": "2022-02-21T17:55:42.191Z"
   },
   {
    "duration": 16,
    "start_time": "2022-02-21T17:55:42.201Z"
   },
   {
    "duration": 45,
    "start_time": "2022-02-21T17:55:42.219Z"
   },
   {
    "duration": 146,
    "start_time": "2022-02-21T17:55:42.266Z"
   },
   {
    "duration": 8,
    "start_time": "2022-02-21T17:55:42.414Z"
   },
   {
    "duration": 20,
    "start_time": "2022-02-21T17:55:42.424Z"
   },
   {
    "duration": 25,
    "start_time": "2022-02-21T17:55:42.459Z"
   },
   {
    "duration": 12,
    "start_time": "2022-02-21T17:55:42.486Z"
   },
   {
    "duration": 16,
    "start_time": "2022-02-21T17:55:42.500Z"
   },
   {
    "duration": 12,
    "start_time": "2022-02-21T17:55:42.518Z"
   },
   {
    "duration": 27,
    "start_time": "2022-02-21T17:55:42.533Z"
   },
   {
    "duration": 91,
    "start_time": "2022-02-21T17:55:42.562Z"
   },
   {
    "duration": 13,
    "start_time": "2022-02-21T17:55:42.655Z"
   },
   {
    "duration": 733,
    "start_time": "2022-02-21T17:55:42.670Z"
   },
   {
    "duration": 94,
    "start_time": "2022-02-21T17:55:43.405Z"
   },
   {
    "duration": 3,
    "start_time": "2022-02-21T17:55:43.500Z"
   },
   {
    "duration": 10,
    "start_time": "2022-02-21T17:55:43.505Z"
   },
   {
    "duration": 6,
    "start_time": "2022-02-21T17:55:43.517Z"
   },
   {
    "duration": 46,
    "start_time": "2022-02-21T17:55:43.525Z"
   },
   {
    "duration": 12,
    "start_time": "2022-02-21T17:55:43.573Z"
   },
   {
    "duration": 429,
    "start_time": "2022-02-21T17:55:43.586Z"
   },
   {
    "duration": 61,
    "start_time": "2022-02-21T17:55:44.017Z"
   },
   {
    "duration": 3,
    "start_time": "2022-02-21T17:55:44.080Z"
   },
   {
    "duration": 10,
    "start_time": "2022-02-21T17:55:44.084Z"
   },
   {
    "duration": 4,
    "start_time": "2022-02-21T17:55:44.096Z"
   },
   {
    "duration": 69,
    "start_time": "2022-02-21T17:55:44.101Z"
   },
   {
    "duration": 12,
    "start_time": "2022-02-21T17:55:44.172Z"
   },
   {
    "duration": 565,
    "start_time": "2022-02-21T17:55:44.186Z"
   },
   {
    "duration": 60,
    "start_time": "2022-02-21T17:55:44.753Z"
   },
   {
    "duration": 2,
    "start_time": "2022-02-21T17:55:44.815Z"
   },
   {
    "duration": 11,
    "start_time": "2022-02-21T17:55:44.818Z"
   },
   {
    "duration": 6,
    "start_time": "2022-02-21T17:55:44.830Z"
   },
   {
    "duration": 21,
    "start_time": "2022-02-21T17:55:44.838Z"
   },
   {
    "duration": 7,
    "start_time": "2022-02-21T17:55:44.861Z"
   },
   {
    "duration": 5,
    "start_time": "2022-02-21T17:55:44.870Z"
   },
   {
    "duration": 17,
    "start_time": "2022-02-21T17:55:44.876Z"
   },
   {
    "duration": 14,
    "start_time": "2022-02-21T17:55:44.894Z"
   },
   {
    "duration": 11,
    "start_time": "2022-02-21T17:55:44.909Z"
   },
   {
    "duration": 10,
    "start_time": "2022-02-21T17:55:44.922Z"
   },
   {
    "duration": 34,
    "start_time": "2022-02-21T17:55:44.934Z"
   },
   {
    "duration": 7,
    "start_time": "2022-02-21T17:55:44.970Z"
   },
   {
    "duration": 26,
    "start_time": "2022-02-21T17:55:44.979Z"
   },
   {
    "duration": 25,
    "start_time": "2022-02-21T17:55:45.008Z"
   },
   {
    "duration": 15,
    "start_time": "2022-02-21T17:55:45.035Z"
   },
   {
    "duration": 315,
    "start_time": "2022-02-21T17:55:45.052Z"
   },
   {
    "duration": 509,
    "start_time": "2022-02-21T17:55:45.370Z"
   },
   {
    "duration": -29,
    "start_time": "2022-02-21T17:55:45.910Z"
   },
   {
    "duration": 4,
    "start_time": "2022-02-21T17:56:34.082Z"
   },
   {
    "duration": 298,
    "start_time": "2022-02-21T17:56:34.782Z"
   },
   {
    "duration": 281,
    "start_time": "2022-02-21T17:56:37.047Z"
   },
   {
    "duration": 271,
    "start_time": "2022-02-21T17:56:39.848Z"
   },
   {
    "duration": 25,
    "start_time": "2022-02-21T17:56:49.938Z"
   },
   {
    "duration": 30,
    "start_time": "2022-02-21T17:57:11.870Z"
   },
   {
    "duration": 37,
    "start_time": "2022-02-21T17:57:20.253Z"
   },
   {
    "duration": 4,
    "start_time": "2022-02-21T17:58:10.929Z"
   },
   {
    "duration": 356,
    "start_time": "2022-02-21T17:58:11.435Z"
   },
   {
    "duration": 287,
    "start_time": "2022-02-21T17:58:15.951Z"
   },
   {
    "duration": 290,
    "start_time": "2022-02-21T17:58:16.240Z"
   },
   {
    "duration": 4,
    "start_time": "2022-02-21T17:58:42.728Z"
   },
   {
    "duration": 272,
    "start_time": "2022-02-21T17:58:43.004Z"
   },
   {
    "duration": 289,
    "start_time": "2022-02-21T17:58:43.278Z"
   },
   {
    "duration": 277,
    "start_time": "2022-02-21T17:58:43.569Z"
   },
   {
    "duration": 37,
    "start_time": "2022-02-21T17:58:43.848Z"
   },
   {
    "duration": 3,
    "start_time": "2022-02-21T17:58:58.185Z"
   },
   {
    "duration": 276,
    "start_time": "2022-02-21T17:58:58.502Z"
   },
   {
    "duration": 278,
    "start_time": "2022-02-21T17:58:58.864Z"
   },
   {
    "duration": 281,
    "start_time": "2022-02-21T17:58:59.144Z"
   },
   {
    "duration": 36,
    "start_time": "2022-02-21T17:58:59.725Z"
   },
   {
    "duration": 306,
    "start_time": "2022-02-21T17:59:23.472Z"
   },
   {
    "duration": 24,
    "start_time": "2022-02-21T17:59:40.752Z"
   },
   {
    "duration": 15,
    "start_time": "2022-02-21T17:59:50.184Z"
   },
   {
    "duration": 15,
    "start_time": "2022-02-21T17:59:54.248Z"
   },
   {
    "duration": 16,
    "start_time": "2022-02-21T17:59:57.551Z"
   },
   {
    "duration": 23,
    "start_time": "2022-02-21T18:00:04.796Z"
   },
   {
    "duration": 23,
    "start_time": "2022-02-21T18:01:51.889Z"
   },
   {
    "duration": 572,
    "start_time": "2022-02-21T18:05:24.879Z"
   },
   {
    "duration": 19,
    "start_time": "2022-02-21T18:05:25.453Z"
   },
   {
    "duration": 16,
    "start_time": "2022-02-21T18:05:25.474Z"
   },
   {
    "duration": 8,
    "start_time": "2022-02-21T18:05:25.492Z"
   },
   {
    "duration": 10,
    "start_time": "2022-02-21T18:05:25.501Z"
   },
   {
    "duration": 179,
    "start_time": "2022-02-21T18:05:25.513Z"
   },
   {
    "duration": 7,
    "start_time": "2022-02-21T18:05:25.694Z"
   },
   {
    "duration": 25,
    "start_time": "2022-02-21T18:05:25.704Z"
   },
   {
    "duration": 4,
    "start_time": "2022-02-21T18:05:25.731Z"
   },
   {
    "duration": 25,
    "start_time": "2022-02-21T18:05:25.736Z"
   },
   {
    "duration": 34,
    "start_time": "2022-02-21T18:05:25.763Z"
   },
   {
    "duration": 100,
    "start_time": "2022-02-21T18:05:25.799Z"
   },
   {
    "duration": 7,
    "start_time": "2022-02-21T18:05:25.901Z"
   },
   {
    "duration": 17,
    "start_time": "2022-02-21T18:05:25.910Z"
   },
   {
    "duration": 35,
    "start_time": "2022-02-21T18:05:25.929Z"
   },
   {
    "duration": 144,
    "start_time": "2022-02-21T18:05:25.966Z"
   },
   {
    "duration": 9,
    "start_time": "2022-02-21T18:05:26.112Z"
   },
   {
    "duration": 21,
    "start_time": "2022-02-21T18:05:26.123Z"
   },
   {
    "duration": 32,
    "start_time": "2022-02-21T18:05:26.145Z"
   },
   {
    "duration": 10,
    "start_time": "2022-02-21T18:05:26.179Z"
   },
   {
    "duration": 14,
    "start_time": "2022-02-21T18:05:26.191Z"
   },
   {
    "duration": 9,
    "start_time": "2022-02-21T18:05:26.207Z"
   },
   {
    "duration": 8,
    "start_time": "2022-02-21T18:05:26.220Z"
   },
   {
    "duration": 97,
    "start_time": "2022-02-21T18:05:26.230Z"
   },
   {
    "duration": 14,
    "start_time": "2022-02-21T18:05:26.329Z"
   },
   {
    "duration": 776,
    "start_time": "2022-02-21T18:05:26.345Z"
   },
   {
    "duration": 96,
    "start_time": "2022-02-21T18:05:27.123Z"
   },
   {
    "duration": 2,
    "start_time": "2022-02-21T18:05:27.221Z"
   },
   {
    "duration": 18,
    "start_time": "2022-02-21T18:05:27.225Z"
   },
   {
    "duration": 30,
    "start_time": "2022-02-21T18:05:27.244Z"
   },
   {
    "duration": 45,
    "start_time": "2022-02-21T18:05:27.276Z"
   },
   {
    "duration": 12,
    "start_time": "2022-02-21T18:05:27.322Z"
   },
   {
    "duration": 435,
    "start_time": "2022-02-21T18:05:27.336Z"
   },
   {
    "duration": 52,
    "start_time": "2022-02-21T18:05:27.773Z"
   },
   {
    "duration": 2,
    "start_time": "2022-02-21T18:05:27.827Z"
   },
   {
    "duration": 12,
    "start_time": "2022-02-21T18:05:27.831Z"
   },
   {
    "duration": 24,
    "start_time": "2022-02-21T18:05:27.845Z"
   },
   {
    "duration": 59,
    "start_time": "2022-02-21T18:05:27.870Z"
   },
   {
    "duration": 14,
    "start_time": "2022-02-21T18:05:27.930Z"
   },
   {
    "duration": 567,
    "start_time": "2022-02-21T18:05:27.946Z"
   },
   {
    "duration": 65,
    "start_time": "2022-02-21T18:05:28.515Z"
   },
   {
    "duration": 3,
    "start_time": "2022-02-21T18:05:28.581Z"
   },
   {
    "duration": 8,
    "start_time": "2022-02-21T18:05:28.585Z"
   },
   {
    "duration": 5,
    "start_time": "2022-02-21T18:05:28.595Z"
   },
   {
    "duration": 7,
    "start_time": "2022-02-21T18:05:28.602Z"
   },
   {
    "duration": 10,
    "start_time": "2022-02-21T18:05:28.611Z"
   },
   {
    "duration": 8,
    "start_time": "2022-02-21T18:05:28.622Z"
   },
   {
    "duration": 30,
    "start_time": "2022-02-21T18:05:28.632Z"
   },
   {
    "duration": 13,
    "start_time": "2022-02-21T18:05:28.663Z"
   },
   {
    "duration": 12,
    "start_time": "2022-02-21T18:05:28.677Z"
   },
   {
    "duration": 7,
    "start_time": "2022-02-21T18:05:28.690Z"
   },
   {
    "duration": 14,
    "start_time": "2022-02-21T18:05:28.698Z"
   },
   {
    "duration": 8,
    "start_time": "2022-02-21T18:05:28.714Z"
   },
   {
    "duration": 47,
    "start_time": "2022-02-21T18:05:28.724Z"
   },
   {
    "duration": 8,
    "start_time": "2022-02-21T18:05:28.773Z"
   },
   {
    "duration": 6,
    "start_time": "2022-02-21T18:05:28.783Z"
   },
   {
    "duration": 304,
    "start_time": "2022-02-21T18:05:28.790Z"
   },
   {
    "duration": 301,
    "start_time": "2022-02-21T18:05:29.096Z"
   },
   {
    "duration": 289,
    "start_time": "2022-02-21T18:05:29.399Z"
   },
   {
    "duration": 315,
    "start_time": "2022-02-21T18:05:29.690Z"
   },
   {
    "duration": 29,
    "start_time": "2022-02-21T18:05:30.007Z"
   },
   {
    "duration": 323,
    "start_time": "2022-02-21T18:06:23.549Z"
   },
   {
    "duration": 357,
    "start_time": "2022-02-21T18:06:33.028Z"
   },
   {
    "duration": 394,
    "start_time": "2022-02-21T18:06:46.140Z"
   },
   {
    "duration": 189,
    "start_time": "2022-02-21T18:06:49.214Z"
   },
   {
    "duration": 181,
    "start_time": "2022-02-21T18:06:54.732Z"
   },
   {
    "duration": 10,
    "start_time": "2022-02-21T18:09:35.672Z"
   },
   {
    "duration": 59,
    "start_time": "2022-02-21T18:10:07.624Z"
   },
   {
    "duration": 27,
    "start_time": "2022-02-21T18:13:37.219Z"
   },
   {
    "duration": 760,
    "start_time": "2022-02-22T06:40:02.021Z"
   },
   {
    "duration": 49,
    "start_time": "2022-02-22T06:40:02.784Z"
   },
   {
    "duration": 38,
    "start_time": "2022-02-22T06:40:02.837Z"
   },
   {
    "duration": 12,
    "start_time": "2022-02-22T06:40:02.878Z"
   },
   {
    "duration": 25,
    "start_time": "2022-02-22T06:40:02.893Z"
   },
   {
    "duration": 211,
    "start_time": "2022-02-22T06:40:02.920Z"
   },
   {
    "duration": 11,
    "start_time": "2022-02-22T06:40:03.137Z"
   },
   {
    "duration": 28,
    "start_time": "2022-02-22T06:40:03.164Z"
   },
   {
    "duration": 11,
    "start_time": "2022-02-22T06:40:03.196Z"
   },
   {
    "duration": 22,
    "start_time": "2022-02-22T06:40:03.210Z"
   },
   {
    "duration": 66,
    "start_time": "2022-02-22T06:40:03.235Z"
   },
   {
    "duration": 122,
    "start_time": "2022-02-22T06:40:03.304Z"
   },
   {
    "duration": 10,
    "start_time": "2022-02-22T06:40:03.428Z"
   },
   {
    "duration": 38,
    "start_time": "2022-02-22T06:40:03.441Z"
   },
   {
    "duration": 28,
    "start_time": "2022-02-22T06:40:03.483Z"
   },
   {
    "duration": 191,
    "start_time": "2022-02-22T06:40:03.514Z"
   },
   {
    "duration": 13,
    "start_time": "2022-02-22T06:40:03.707Z"
   },
   {
    "duration": 48,
    "start_time": "2022-02-22T06:40:03.723Z"
   },
   {
    "duration": 35,
    "start_time": "2022-02-22T06:40:03.774Z"
   },
   {
    "duration": 13,
    "start_time": "2022-02-22T06:40:03.812Z"
   },
   {
    "duration": 14,
    "start_time": "2022-02-22T06:40:03.860Z"
   },
   {
    "duration": 22,
    "start_time": "2022-02-22T06:40:03.876Z"
   },
   {
    "duration": 12,
    "start_time": "2022-02-22T06:40:03.906Z"
   },
   {
    "duration": 127,
    "start_time": "2022-02-22T06:40:03.922Z"
   },
   {
    "duration": 24,
    "start_time": "2022-02-22T06:40:04.052Z"
   },
   {
    "duration": 1084,
    "start_time": "2022-02-22T06:40:04.079Z"
   },
   {
    "duration": 136,
    "start_time": "2022-02-22T06:40:05.166Z"
   },
   {
    "duration": 5,
    "start_time": "2022-02-22T06:40:05.305Z"
   },
   {
    "duration": 17,
    "start_time": "2022-02-22T06:40:05.313Z"
   },
   {
    "duration": 31,
    "start_time": "2022-02-22T06:40:05.333Z"
   },
   {
    "duration": 60,
    "start_time": "2022-02-22T06:40:05.367Z"
   },
   {
    "duration": 32,
    "start_time": "2022-02-22T06:40:05.429Z"
   },
   {
    "duration": 727,
    "start_time": "2022-02-22T06:40:05.464Z"
   },
   {
    "duration": 95,
    "start_time": "2022-02-22T06:40:06.194Z"
   },
   {
    "duration": 5,
    "start_time": "2022-02-22T06:40:06.293Z"
   },
   {
    "duration": 17,
    "start_time": "2022-02-22T06:40:06.300Z"
   },
   {
    "duration": 12,
    "start_time": "2022-02-22T06:40:06.319Z"
   },
   {
    "duration": 97,
    "start_time": "2022-02-22T06:40:06.334Z"
   },
   {
    "duration": 29,
    "start_time": "2022-02-22T06:40:06.434Z"
   },
   {
    "duration": 807,
    "start_time": "2022-02-22T06:40:06.467Z"
   },
   {
    "duration": 89,
    "start_time": "2022-02-22T06:40:07.277Z"
   },
   {
    "duration": 4,
    "start_time": "2022-02-22T06:40:07.369Z"
   },
   {
    "duration": 22,
    "start_time": "2022-02-22T06:40:07.375Z"
   },
   {
    "duration": 7,
    "start_time": "2022-02-22T06:40:07.400Z"
   },
   {
    "duration": 9,
    "start_time": "2022-02-22T06:40:07.410Z"
   },
   {
    "duration": 18,
    "start_time": "2022-02-22T06:40:07.421Z"
   },
   {
    "duration": 23,
    "start_time": "2022-02-22T06:40:07.441Z"
   },
   {
    "duration": 19,
    "start_time": "2022-02-22T06:40:07.467Z"
   },
   {
    "duration": 18,
    "start_time": "2022-02-22T06:40:07.489Z"
   },
   {
    "duration": 15,
    "start_time": "2022-02-22T06:40:07.510Z"
   },
   {
    "duration": 9,
    "start_time": "2022-02-22T06:40:07.563Z"
   },
   {
    "duration": 24,
    "start_time": "2022-02-22T06:40:07.575Z"
   },
   {
    "duration": 390,
    "start_time": "2022-02-22T06:40:07.602Z"
   },
   {
    "duration": -44,
    "start_time": "2022-02-22T06:40:08.039Z"
   },
   {
    "duration": -47,
    "start_time": "2022-02-22T06:40:08.043Z"
   },
   {
    "duration": -49,
    "start_time": "2022-02-22T06:40:08.047Z"
   },
   {
    "duration": -52,
    "start_time": "2022-02-22T06:40:08.051Z"
   },
   {
    "duration": -53,
    "start_time": "2022-02-22T06:40:08.054Z"
   },
   {
    "duration": -53,
    "start_time": "2022-02-22T06:40:08.055Z"
   },
   {
    "duration": 7,
    "start_time": "2022-02-22T06:40:12.148Z"
   },
   {
    "duration": 2827,
    "start_time": "2022-02-22T06:40:13.382Z"
   },
   {
    "duration": 572,
    "start_time": "2022-02-22T06:40:16.211Z"
   },
   {
    "duration": 575,
    "start_time": "2022-02-22T06:40:16.786Z"
   },
   {
    "duration": 589,
    "start_time": "2022-02-22T06:40:17.363Z"
   },
   {
    "duration": 43,
    "start_time": "2022-02-22T06:40:18.767Z"
   },
   {
    "duration": 18,
    "start_time": "2022-02-22T06:57:43.514Z"
   },
   {
    "duration": 31,
    "start_time": "2022-02-22T06:58:06.762Z"
   },
   {
    "duration": 521,
    "start_time": "2022-02-22T06:59:42.661Z"
   },
   {
    "duration": 297,
    "start_time": "2022-02-22T07:00:06.568Z"
   },
   {
    "duration": 307,
    "start_time": "2022-02-22T07:00:41.996Z"
   },
   {
    "duration": 305,
    "start_time": "2022-02-22T07:00:53.660Z"
   },
   {
    "duration": 33,
    "start_time": "2022-02-22T07:01:25.535Z"
   },
   {
    "duration": 285,
    "start_time": "2022-02-22T07:02:31.328Z"
   },
   {
    "duration": 280,
    "start_time": "2022-02-22T07:02:37.716Z"
   },
   {
    "duration": 39,
    "start_time": "2022-02-22T07:02:43.856Z"
   },
   {
    "duration": 24,
    "start_time": "2022-02-22T07:03:02.417Z"
   },
   {
    "duration": 295,
    "start_time": "2022-02-22T07:03:14.938Z"
   },
   {
    "duration": 15,
    "start_time": "2022-02-22T07:03:57.990Z"
   },
   {
    "duration": 30,
    "start_time": "2022-02-22T07:04:33.357Z"
   },
   {
    "duration": 84,
    "start_time": "2022-02-22T07:04:49.538Z"
   },
   {
    "duration": 312,
    "start_time": "2022-02-22T07:04:51.795Z"
   },
   {
    "duration": 760,
    "start_time": "2022-02-22T07:05:04.480Z"
   },
   {
    "duration": 27,
    "start_time": "2022-02-22T07:05:05.244Z"
   },
   {
    "duration": 25,
    "start_time": "2022-02-22T07:05:05.275Z"
   },
   {
    "duration": 16,
    "start_time": "2022-02-22T07:05:05.303Z"
   },
   {
    "duration": 7,
    "start_time": "2022-02-22T07:05:05.321Z"
   },
   {
    "duration": 194,
    "start_time": "2022-02-22T07:05:05.362Z"
   },
   {
    "duration": 12,
    "start_time": "2022-02-22T07:05:05.560Z"
   },
   {
    "duration": 30,
    "start_time": "2022-02-22T07:05:05.575Z"
   },
   {
    "duration": 5,
    "start_time": "2022-02-22T07:05:05.607Z"
   },
   {
    "duration": 51,
    "start_time": "2022-02-22T07:05:05.614Z"
   },
   {
    "duration": 38,
    "start_time": "2022-02-22T07:05:05.667Z"
   },
   {
    "duration": 144,
    "start_time": "2022-02-22T07:05:05.708Z"
   },
   {
    "duration": 13,
    "start_time": "2022-02-22T07:05:05.854Z"
   },
   {
    "duration": 20,
    "start_time": "2022-02-22T07:05:05.870Z"
   },
   {
    "duration": 25,
    "start_time": "2022-02-22T07:05:05.893Z"
   },
   {
    "duration": 200,
    "start_time": "2022-02-22T07:05:05.921Z"
   },
   {
    "duration": 13,
    "start_time": "2022-02-22T07:05:06.124Z"
   },
   {
    "duration": 42,
    "start_time": "2022-02-22T07:05:06.139Z"
   },
   {
    "duration": 6856,
    "start_time": "2022-02-22T07:05:06.184Z"
   },
   {
    "duration": -40,
    "start_time": "2022-02-22T07:05:13.084Z"
   },
   {
    "duration": -41,
    "start_time": "2022-02-22T07:05:13.087Z"
   },
   {
    "duration": -42,
    "start_time": "2022-02-22T07:05:13.090Z"
   },
   {
    "duration": -42,
    "start_time": "2022-02-22T07:05:13.092Z"
   },
   {
    "duration": -46,
    "start_time": "2022-02-22T07:05:13.097Z"
   },
   {
    "duration": -46,
    "start_time": "2022-02-22T07:05:13.099Z"
   },
   {
    "duration": -49,
    "start_time": "2022-02-22T07:05:13.104Z"
   },
   {
    "duration": -51,
    "start_time": "2022-02-22T07:05:13.107Z"
   },
   {
    "duration": -51,
    "start_time": "2022-02-22T07:05:13.109Z"
   },
   {
    "duration": -52,
    "start_time": "2022-02-22T07:05:13.111Z"
   },
   {
    "duration": -52,
    "start_time": "2022-02-22T07:05:13.113Z"
   },
   {
    "duration": -59,
    "start_time": "2022-02-22T07:05:13.121Z"
   },
   {
    "duration": -59,
    "start_time": "2022-02-22T07:05:13.123Z"
   },
   {
    "duration": -60,
    "start_time": "2022-02-22T07:05:13.125Z"
   },
   {
    "duration": -61,
    "start_time": "2022-02-22T07:05:13.127Z"
   },
   {
    "duration": -61,
    "start_time": "2022-02-22T07:05:13.129Z"
   },
   {
    "duration": -62,
    "start_time": "2022-02-22T07:05:13.131Z"
   },
   {
    "duration": -63,
    "start_time": "2022-02-22T07:05:13.133Z"
   },
   {
    "duration": -66,
    "start_time": "2022-02-22T07:05:13.137Z"
   },
   {
    "duration": -66,
    "start_time": "2022-02-22T07:05:13.139Z"
   },
   {
    "duration": -67,
    "start_time": "2022-02-22T07:05:13.141Z"
   },
   {
    "duration": -67,
    "start_time": "2022-02-22T07:05:13.143Z"
   },
   {
    "duration": -95,
    "start_time": "2022-02-22T07:05:13.172Z"
   },
   {
    "duration": -96,
    "start_time": "2022-02-22T07:05:13.175Z"
   },
   {
    "duration": -97,
    "start_time": "2022-02-22T07:05:13.177Z"
   },
   {
    "duration": -102,
    "start_time": "2022-02-22T07:05:13.184Z"
   },
   {
    "duration": -104,
    "start_time": "2022-02-22T07:05:13.187Z"
   },
   {
    "duration": -111,
    "start_time": "2022-02-22T07:05:13.196Z"
   },
   {
    "duration": -113,
    "start_time": "2022-02-22T07:05:13.199Z"
   },
   {
    "duration": -123,
    "start_time": "2022-02-22T07:05:13.211Z"
   },
   {
    "duration": -123,
    "start_time": "2022-02-22T07:05:13.213Z"
   },
   {
    "duration": -124,
    "start_time": "2022-02-22T07:05:13.215Z"
   },
   {
    "duration": -125,
    "start_time": "2022-02-22T07:05:13.218Z"
   },
   {
    "duration": -136,
    "start_time": "2022-02-22T07:05:13.231Z"
   },
   {
    "duration": -138,
    "start_time": "2022-02-22T07:05:13.234Z"
   },
   {
    "duration": -140,
    "start_time": "2022-02-22T07:05:13.237Z"
   },
   {
    "duration": -141,
    "start_time": "2022-02-22T07:05:13.240Z"
   },
   {
    "duration": 261,
    "start_time": "2022-02-22T07:05:22.169Z"
   },
   {
    "duration": 277,
    "start_time": "2022-02-22T07:05:34.497Z"
   },
   {
    "duration": 788,
    "start_time": "2022-02-22T07:05:59.903Z"
   },
   {
    "duration": 26,
    "start_time": "2022-02-22T07:06:00.694Z"
   },
   {
    "duration": 28,
    "start_time": "2022-02-22T07:06:00.723Z"
   },
   {
    "duration": 14,
    "start_time": "2022-02-22T07:06:00.754Z"
   },
   {
    "duration": 9,
    "start_time": "2022-02-22T07:06:00.770Z"
   },
   {
    "duration": 223,
    "start_time": "2022-02-22T07:06:00.781Z"
   },
   {
    "duration": 12,
    "start_time": "2022-02-22T07:06:01.006Z"
   },
   {
    "duration": 49,
    "start_time": "2022-02-22T07:06:01.023Z"
   },
   {
    "duration": 7,
    "start_time": "2022-02-22T07:06:01.077Z"
   },
   {
    "duration": 25,
    "start_time": "2022-02-22T07:06:01.088Z"
   },
   {
    "duration": 60,
    "start_time": "2022-02-22T07:06:01.116Z"
   },
   {
    "duration": 201,
    "start_time": "2022-02-22T07:06:01.179Z"
   },
   {
    "duration": 14,
    "start_time": "2022-02-22T07:06:01.383Z"
   },
   {
    "duration": 76,
    "start_time": "2022-02-22T07:06:01.400Z"
   },
   {
    "duration": 100,
    "start_time": "2022-02-22T07:06:01.479Z"
   },
   {
    "duration": 502,
    "start_time": "2022-02-22T07:06:01.582Z"
   },
   {
    "duration": 13,
    "start_time": "2022-02-22T07:06:02.087Z"
   },
   {
    "duration": 29,
    "start_time": "2022-02-22T07:06:02.102Z"
   },
   {
    "duration": 53,
    "start_time": "2022-02-22T07:06:02.133Z"
   },
   {
    "duration": 13,
    "start_time": "2022-02-22T07:06:02.188Z"
   },
   {
    "duration": 16,
    "start_time": "2022-02-22T07:06:02.204Z"
   },
   {
    "duration": 17,
    "start_time": "2022-02-22T07:06:02.223Z"
   },
   {
    "duration": 9,
    "start_time": "2022-02-22T07:06:02.268Z"
   },
   {
    "duration": 126,
    "start_time": "2022-02-22T07:06:02.281Z"
   },
   {
    "duration": 21,
    "start_time": "2022-02-22T07:06:02.410Z"
   },
   {
    "duration": 1182,
    "start_time": "2022-02-22T07:06:02.433Z"
   },
   {
    "duration": 131,
    "start_time": "2022-02-22T07:06:03.618Z"
   },
   {
    "duration": 9,
    "start_time": "2022-02-22T07:06:03.752Z"
   },
   {
    "duration": 18,
    "start_time": "2022-02-22T07:06:03.763Z"
   },
   {
    "duration": 56,
    "start_time": "2022-02-22T07:06:03.784Z"
   },
   {
    "duration": 44,
    "start_time": "2022-02-22T07:06:03.842Z"
   },
   {
    "duration": 1363,
    "start_time": "2022-02-22T07:06:03.889Z"
   },
   {
    "duration": 77,
    "start_time": "2022-02-22T07:06:05.256Z"
   },
   {
    "duration": 4,
    "start_time": "2022-02-22T07:06:05.335Z"
   },
   {
    "duration": 30,
    "start_time": "2022-02-22T07:06:05.342Z"
   },
   {
    "duration": 107,
    "start_time": "2022-02-22T07:06:05.377Z"
   },
   {
    "duration": 30,
    "start_time": "2022-02-22T07:06:05.487Z"
   },
   {
    "duration": 861,
    "start_time": "2022-02-22T07:06:05.520Z"
   },
   {
    "duration": 89,
    "start_time": "2022-02-22T07:06:06.384Z"
   },
   {
    "duration": 4,
    "start_time": "2022-02-22T07:06:06.475Z"
   },
   {
    "duration": 11,
    "start_time": "2022-02-22T07:06:06.482Z"
   },
   {
    "duration": 5,
    "start_time": "2022-02-22T07:06:06.495Z"
   },
   {
    "duration": 8,
    "start_time": "2022-02-22T07:06:06.502Z"
   },
   {
    "duration": 53,
    "start_time": "2022-02-22T07:06:06.512Z"
   },
   {
    "duration": 21,
    "start_time": "2022-02-22T07:06:06.567Z"
   },
   {
    "duration": 21,
    "start_time": "2022-02-22T07:06:06.590Z"
   },
   {
    "duration": 55,
    "start_time": "2022-02-22T07:06:06.614Z"
   },
   {
    "duration": 9,
    "start_time": "2022-02-22T07:06:06.672Z"
   },
   {
    "duration": 12,
    "start_time": "2022-02-22T07:06:06.684Z"
   },
   {
    "duration": 6,
    "start_time": "2022-02-22T07:06:06.699Z"
   },
   {
    "duration": 611,
    "start_time": "2022-02-22T07:06:06.708Z"
   },
   {
    "duration": 620,
    "start_time": "2022-02-22T07:06:07.321Z"
   },
   {
    "duration": 589,
    "start_time": "2022-02-22T07:06:07.944Z"
   },
   {
    "duration": 601,
    "start_time": "2022-02-22T07:06:08.536Z"
   },
   {
    "duration": 27,
    "start_time": "2022-02-22T07:06:09.140Z"
   },
   {
    "duration": 13,
    "start_time": "2022-02-22T07:06:09.170Z"
   },
   {
    "duration": 12,
    "start_time": "2022-02-22T07:06:09.185Z"
   },
   {
    "duration": 442,
    "start_time": "2022-02-22T07:06:13.379Z"
   },
   {
    "duration": 400,
    "start_time": "2022-02-22T07:06:51.974Z"
   },
   {
    "duration": 289,
    "start_time": "2022-02-22T07:07:02.814Z"
   },
   {
    "duration": 275,
    "start_time": "2022-02-22T07:07:09.330Z"
   },
   {
    "duration": 292,
    "start_time": "2022-02-22T07:07:13.638Z"
   },
   {
    "duration": 292,
    "start_time": "2022-02-22T07:07:18.079Z"
   },
   {
    "duration": 308,
    "start_time": "2022-02-22T07:07:36.693Z"
   },
   {
    "duration": 293,
    "start_time": "2022-02-22T07:07:51.604Z"
   },
   {
    "duration": 305,
    "start_time": "2022-02-22T07:07:56.071Z"
   },
   {
    "duration": 6735,
    "start_time": "2022-02-22T07:09:09.231Z"
   },
   {
    "duration": 6900,
    "start_time": "2022-02-22T07:09:39.191Z"
   },
   {
    "duration": 6714,
    "start_time": "2022-02-22T07:10:41.710Z"
   },
   {
    "duration": 278,
    "start_time": "2022-02-22T07:11:08.897Z"
   },
   {
    "duration": 299,
    "start_time": "2022-02-22T07:11:16.843Z"
   },
   {
    "duration": 286,
    "start_time": "2022-02-22T07:11:29.127Z"
   },
   {
    "duration": 363,
    "start_time": "2022-02-22T07:11:45.275Z"
   },
   {
    "duration": 294,
    "start_time": "2022-02-22T07:11:50.811Z"
   },
   {
    "duration": 247,
    "start_time": "2022-02-22T07:11:59.871Z"
   },
   {
    "duration": 284,
    "start_time": "2022-02-22T07:26:00.435Z"
   },
   {
    "duration": 788,
    "start_time": "2022-02-22T07:26:05.973Z"
   },
   {
    "duration": 24,
    "start_time": "2022-02-22T07:26:06.764Z"
   },
   {
    "duration": 25,
    "start_time": "2022-02-22T07:26:06.792Z"
   },
   {
    "duration": 11,
    "start_time": "2022-02-22T07:26:06.820Z"
   },
   {
    "duration": 27,
    "start_time": "2022-02-22T07:26:06.834Z"
   },
   {
    "duration": 216,
    "start_time": "2022-02-22T07:26:06.865Z"
   },
   {
    "duration": 11,
    "start_time": "2022-02-22T07:26:07.084Z"
   },
   {
    "duration": 29,
    "start_time": "2022-02-22T07:26:07.098Z"
   },
   {
    "duration": 32,
    "start_time": "2022-02-22T07:26:07.131Z"
   },
   {
    "duration": 11,
    "start_time": "2022-02-22T07:26:07.167Z"
   },
   {
    "duration": 40,
    "start_time": "2022-02-22T07:26:07.181Z"
   },
   {
    "duration": 169,
    "start_time": "2022-02-22T07:26:07.223Z"
   },
   {
    "duration": 15,
    "start_time": "2022-02-22T07:26:07.395Z"
   },
   {
    "duration": 23,
    "start_time": "2022-02-22T07:26:07.413Z"
   },
   {
    "duration": 50,
    "start_time": "2022-02-22T07:26:07.439Z"
   },
   {
    "duration": 197,
    "start_time": "2022-02-22T07:26:07.492Z"
   },
   {
    "duration": 13,
    "start_time": "2022-02-22T07:26:07.692Z"
   },
   {
    "duration": 26,
    "start_time": "2022-02-22T07:26:07.708Z"
   },
   {
    "duration": 57,
    "start_time": "2022-02-22T07:26:07.737Z"
   },
   {
    "duration": 17,
    "start_time": "2022-02-22T07:26:07.798Z"
   },
   {
    "duration": 15,
    "start_time": "2022-02-22T07:26:07.818Z"
   },
   {
    "duration": 41,
    "start_time": "2022-02-22T07:26:07.836Z"
   },
   {
    "duration": 11,
    "start_time": "2022-02-22T07:26:07.880Z"
   },
   {
    "duration": 130,
    "start_time": "2022-02-22T07:26:07.894Z"
   },
   {
    "duration": 34,
    "start_time": "2022-02-22T07:26:08.027Z"
   },
   {
    "duration": 1099,
    "start_time": "2022-02-22T07:26:08.063Z"
   },
   {
    "duration": 132,
    "start_time": "2022-02-22T07:26:09.168Z"
   },
   {
    "duration": 4,
    "start_time": "2022-02-22T07:26:09.303Z"
   },
   {
    "duration": 17,
    "start_time": "2022-02-22T07:26:09.310Z"
   },
   {
    "duration": 73,
    "start_time": "2022-02-22T07:26:09.329Z"
   },
   {
    "duration": 20,
    "start_time": "2022-02-22T07:26:09.405Z"
   },
   {
    "duration": 681,
    "start_time": "2022-02-22T07:26:09.428Z"
   },
   {
    "duration": 93,
    "start_time": "2022-02-22T07:26:10.112Z"
   },
   {
    "duration": 4,
    "start_time": "2022-02-22T07:26:10.208Z"
   },
   {
    "duration": 16,
    "start_time": "2022-02-22T07:26:10.215Z"
   },
   {
    "duration": 100,
    "start_time": "2022-02-22T07:26:10.234Z"
   },
   {
    "duration": 34,
    "start_time": "2022-02-22T07:26:10.337Z"
   },
   {
    "duration": 837,
    "start_time": "2022-02-22T07:26:10.373Z"
   },
   {
    "duration": 85,
    "start_time": "2022-02-22T07:26:11.213Z"
   },
   {
    "duration": 4,
    "start_time": "2022-02-22T07:26:11.300Z"
   },
   {
    "duration": 13,
    "start_time": "2022-02-22T07:26:11.306Z"
   },
   {
    "duration": 5,
    "start_time": "2022-02-22T07:26:11.321Z"
   },
   {
    "duration": 6,
    "start_time": "2022-02-22T07:26:11.329Z"
   },
   {
    "duration": 11,
    "start_time": "2022-02-22T07:26:11.361Z"
   },
   {
    "duration": 19,
    "start_time": "2022-02-22T07:26:11.374Z"
   },
   {
    "duration": 19,
    "start_time": "2022-02-22T07:26:11.395Z"
   },
   {
    "duration": 50,
    "start_time": "2022-02-22T07:26:11.416Z"
   },
   {
    "duration": 10,
    "start_time": "2022-02-22T07:26:11.469Z"
   },
   {
    "duration": 11,
    "start_time": "2022-02-22T07:26:11.481Z"
   },
   {
    "duration": 7,
    "start_time": "2022-02-22T07:26:11.494Z"
   },
   {
    "duration": 599,
    "start_time": "2022-02-22T07:26:11.503Z"
   },
   {
    "duration": 602,
    "start_time": "2022-02-22T07:26:12.104Z"
   },
   {
    "duration": 621,
    "start_time": "2022-02-22T07:26:12.708Z"
   },
   {
    "duration": 695,
    "start_time": "2022-02-22T07:26:13.331Z"
   },
   {
    "duration": 15,
    "start_time": "2022-02-22T07:26:14.029Z"
   },
   {
    "duration": 8,
    "start_time": "2022-02-22T07:26:14.062Z"
   },
   {
    "duration": 422,
    "start_time": "2022-02-22T07:26:14.073Z"
   },
   {
    "duration": 437,
    "start_time": "2022-02-22T07:26:14.497Z"
   },
   {
    "duration": 242,
    "start_time": "2022-02-22T07:26:39.800Z"
   },
   {
    "duration": 254,
    "start_time": "2022-02-22T07:26:43.729Z"
   },
   {
    "duration": 230,
    "start_time": "2022-02-22T07:27:04.878Z"
   },
   {
    "duration": 249,
    "start_time": "2022-02-22T07:27:23.762Z"
   },
   {
    "duration": 4,
    "start_time": "2022-02-22T07:27:50.226Z"
   },
   {
    "duration": 11,
    "start_time": "2022-02-22T07:29:46.138Z"
   },
   {
    "duration": 15,
    "start_time": "2022-02-22T07:30:14.221Z"
   },
   {
    "duration": 10,
    "start_time": "2022-02-22T07:30:28.442Z"
   },
   {
    "duration": 272,
    "start_time": "2022-02-22T07:30:34.840Z"
   },
   {
    "duration": 9,
    "start_time": "2022-02-22T07:30:56.867Z"
   },
   {
    "duration": 275,
    "start_time": "2022-02-22T07:31:00.537Z"
   },
   {
    "duration": 291,
    "start_time": "2022-02-22T07:31:12.064Z"
   },
   {
    "duration": 8,
    "start_time": "2022-02-22T07:31:20.061Z"
   },
   {
    "duration": 282,
    "start_time": "2022-02-22T07:31:20.453Z"
   },
   {
    "duration": 8,
    "start_time": "2022-02-22T07:31:22.202Z"
   },
   {
    "duration": 428,
    "start_time": "2022-02-22T07:31:22.713Z"
   },
   {
    "duration": 12,
    "start_time": "2022-02-22T07:31:59.488Z"
   },
   {
    "duration": 12,
    "start_time": "2022-02-22T07:32:09.728Z"
   },
   {
    "duration": 13,
    "start_time": "2022-02-22T07:32:42.267Z"
   },
   {
    "duration": 338,
    "start_time": "2022-02-22T07:33:25.106Z"
   },
   {
    "duration": 17,
    "start_time": "2022-02-22T07:33:32.720Z"
   },
   {
    "duration": 274,
    "start_time": "2022-02-22T07:35:57.776Z"
   },
   {
    "duration": 15,
    "start_time": "2022-02-22T07:35:59.691Z"
   },
   {
    "duration": 321,
    "start_time": "2022-02-22T07:38:06.760Z"
   },
   {
    "duration": 359,
    "start_time": "2022-02-22T07:38:15.668Z"
   },
   {
    "duration": 342,
    "start_time": "2022-02-22T07:38:20.106Z"
   },
   {
    "duration": 419,
    "start_time": "2022-02-22T07:38:25.042Z"
   },
   {
    "duration": 283,
    "start_time": "2022-02-22T07:38:34.853Z"
   },
   {
    "duration": 433,
    "start_time": "2022-02-22T07:48:30.668Z"
   },
   {
    "duration": 367,
    "start_time": "2022-02-22T07:48:56.518Z"
   },
   {
    "duration": 560,
    "start_time": "2022-02-22T07:49:16.324Z"
   },
   {
    "duration": 629,
    "start_time": "2022-02-22T07:49:19.482Z"
   },
   {
    "duration": 733,
    "start_time": "2022-02-22T07:49:23.400Z"
   },
   {
    "duration": 308,
    "start_time": "2022-02-22T07:51:52.693Z"
   },
   {
    "duration": 486,
    "start_time": "2022-02-22T07:52:30.005Z"
   },
   {
    "duration": 1715,
    "start_time": "2022-02-22T07:56:19.769Z"
   },
   {
    "duration": 666,
    "start_time": "2022-02-22T07:56:49.686Z"
   },
   {
    "duration": 2773,
    "start_time": "2022-02-22T07:58:46.234Z"
   },
   {
    "duration": 348,
    "start_time": "2022-02-22T07:58:56.139Z"
   },
   {
    "duration": 348,
    "start_time": "2022-02-22T07:59:01.988Z"
   },
   {
    "duration": 637,
    "start_time": "2022-02-22T08:00:38.711Z"
   },
   {
    "duration": 18,
    "start_time": "2022-02-22T08:00:47.982Z"
   },
   {
    "duration": 7,
    "start_time": "2022-02-22T08:01:05.142Z"
   },
   {
    "duration": 285,
    "start_time": "2022-02-22T08:01:06.811Z"
   },
   {
    "duration": 7,
    "start_time": "2022-02-22T08:01:11.410Z"
   },
   {
    "duration": 323,
    "start_time": "2022-02-22T08:01:12.802Z"
   },
   {
    "duration": 481,
    "start_time": "2022-02-22T08:01:32.384Z"
   },
   {
    "duration": 501,
    "start_time": "2022-02-22T08:02:30.764Z"
   },
   {
    "duration": 524,
    "start_time": "2022-02-22T08:02:41.391Z"
   },
   {
    "duration": 507,
    "start_time": "2022-02-22T08:02:58.718Z"
   },
   {
    "duration": 511,
    "start_time": "2022-02-22T08:03:31.789Z"
   },
   {
    "duration": 49625,
    "start_time": "2022-02-22T08:19:34.261Z"
   },
   {
    "duration": 452,
    "start_time": "2022-02-22T08:20:27.012Z"
   },
   {
    "duration": 323,
    "start_time": "2022-02-22T08:20:32.029Z"
   },
   {
    "duration": 11,
    "start_time": "2022-02-22T08:21:12.600Z"
   },
   {
    "duration": 13,
    "start_time": "2022-02-22T08:22:18.248Z"
   },
   {
    "duration": 304,
    "start_time": "2022-02-22T08:23:18.985Z"
   },
   {
    "duration": 10,
    "start_time": "2022-02-22T08:23:27.635Z"
   },
   {
    "duration": 602,
    "start_time": "2022-02-22T08:23:41.401Z"
   },
   {
    "duration": 383,
    "start_time": "2022-02-22T08:24:45.685Z"
   },
   {
    "duration": 285,
    "start_time": "2022-02-22T08:24:57.821Z"
   },
   {
    "duration": 406,
    "start_time": "2022-02-22T08:25:15.621Z"
   },
   {
    "duration": 385,
    "start_time": "2022-02-22T08:25:36.303Z"
   },
   {
    "duration": 6782,
    "start_time": "2022-02-22T08:26:02.128Z"
   },
   {
    "duration": 701,
    "start_time": "2022-02-22T08:26:19.091Z"
   },
   {
    "duration": 440,
    "start_time": "2022-02-22T08:26:25.297Z"
   },
   {
    "duration": 623,
    "start_time": "2022-02-22T08:26:48.753Z"
   },
   {
    "duration": 970,
    "start_time": "2022-02-22T08:27:18.994Z"
   },
   {
    "duration": 595,
    "start_time": "2022-02-22T08:27:30.053Z"
   },
   {
    "duration": 565,
    "start_time": "2022-02-22T08:30:27.520Z"
   },
   {
    "duration": 12461,
    "start_time": "2022-02-22T08:37:38.948Z"
   },
   {
    "duration": 10116,
    "start_time": "2022-02-22T08:38:06.704Z"
   },
   {
    "duration": 9322,
    "start_time": "2022-02-22T08:40:10.507Z"
   },
   {
    "duration": 7629,
    "start_time": "2022-02-22T08:40:47.172Z"
   },
   {
    "duration": 12803,
    "start_time": "2022-02-22T08:41:12.075Z"
   },
   {
    "duration": 7546,
    "start_time": "2022-02-22T08:41:27.793Z"
   },
   {
    "duration": 7959,
    "start_time": "2022-02-22T08:41:48.760Z"
   },
   {
    "duration": 8268,
    "start_time": "2022-02-22T08:42:09.689Z"
   },
   {
    "duration": 12,
    "start_time": "2022-02-22T08:42:55.401Z"
   },
   {
    "duration": 11,
    "start_time": "2022-02-22T08:57:45.317Z"
   },
   {
    "duration": 591,
    "start_time": "2022-02-22T08:57:49.154Z"
   },
   {
    "duration": 608,
    "start_time": "2022-02-22T08:58:03.213Z"
   },
   {
    "duration": 1065,
    "start_time": "2022-02-22T08:59:10.801Z"
   },
   {
    "duration": 510,
    "start_time": "2022-02-22T08:59:16.633Z"
   },
   {
    "duration": 574,
    "start_time": "2022-02-22T08:59:20.195Z"
   },
   {
    "duration": 556,
    "start_time": "2022-02-22T08:59:22.957Z"
   },
   {
    "duration": 547,
    "start_time": "2022-02-22T08:59:37.130Z"
   },
   {
    "duration": 10,
    "start_time": "2022-02-22T09:00:07.944Z"
   },
   {
    "duration": 580,
    "start_time": "2022-02-22T09:00:09.473Z"
   },
   {
    "duration": 539,
    "start_time": "2022-02-22T09:09:26.295Z"
   },
   {
    "duration": 570,
    "start_time": "2022-02-22T09:09:32.134Z"
   },
   {
    "duration": 654,
    "start_time": "2022-02-22T09:09:41.138Z"
   },
   {
    "duration": 591,
    "start_time": "2022-02-22T09:09:45.508Z"
   },
   {
    "duration": 735,
    "start_time": "2022-02-22T09:10:21.660Z"
   },
   {
    "duration": 19,
    "start_time": "2022-02-22T09:11:01.472Z"
   },
   {
    "duration": 620,
    "start_time": "2022-02-22T09:12:00.513Z"
   },
   {
    "duration": 17,
    "start_time": "2022-02-22T09:12:05.258Z"
   },
   {
    "duration": 357,
    "start_time": "2022-02-22T09:12:46.025Z"
   },
   {
    "duration": 395,
    "start_time": "2022-02-22T09:13:00.869Z"
   },
   {
    "duration": 17,
    "start_time": "2022-02-22T09:13:10.346Z"
   },
   {
    "duration": 23,
    "start_time": "2022-02-22T09:13:26.141Z"
   },
   {
    "duration": 623,
    "start_time": "2022-02-22T09:13:27.839Z"
   },
   {
    "duration": 17,
    "start_time": "2022-02-22T09:13:28.465Z"
   },
   {
    "duration": 375,
    "start_time": "2022-02-22T09:13:28.777Z"
   },
   {
    "duration": 25,
    "start_time": "2022-02-22T09:13:29.263Z"
   },
   {
    "duration": 11,
    "start_time": "2022-02-22T09:23:48.045Z"
   },
   {
    "duration": 17,
    "start_time": "2022-02-22T09:23:51.335Z"
   },
   {
    "duration": 347,
    "start_time": "2022-02-22T09:26:59.793Z"
   },
   {
    "duration": 370,
    "start_time": "2022-02-22T09:27:03.635Z"
   },
   {
    "duration": 1919,
    "start_time": "2022-02-22T09:27:08.934Z"
   },
   {
    "duration": 433,
    "start_time": "2022-02-22T09:27:19.555Z"
   },
   {
    "duration": 338,
    "start_time": "2022-02-22T09:27:37.805Z"
   },
   {
    "duration": 317,
    "start_time": "2022-02-22T09:27:41.369Z"
   },
   {
    "duration": 499,
    "start_time": "2022-02-22T09:27:44.611Z"
   },
   {
    "duration": 327,
    "start_time": "2022-02-22T10:03:03.442Z"
   },
   {
    "duration": 335,
    "start_time": "2022-02-22T10:04:59.155Z"
   },
   {
    "duration": 396,
    "start_time": "2022-02-22T10:05:06.748Z"
   },
   {
    "duration": 359,
    "start_time": "2022-02-22T10:05:10.484Z"
   },
   {
    "duration": 566,
    "start_time": "2022-02-22T10:05:21.283Z"
   },
   {
    "duration": 364,
    "start_time": "2022-02-22T10:05:27.200Z"
   },
   {
    "duration": 279,
    "start_time": "2022-02-22T10:05:41.231Z"
   },
   {
    "duration": 314,
    "start_time": "2022-02-22T10:05:49.021Z"
   },
   {
    "duration": 461,
    "start_time": "2022-02-22T10:05:52.337Z"
   },
   {
    "duration": 360,
    "start_time": "2022-02-22T10:05:58.511Z"
   },
   {
    "duration": 442,
    "start_time": "2022-02-22T10:06:29.677Z"
   },
   {
    "duration": 585,
    "start_time": "2022-02-22T10:06:32.377Z"
   },
   {
    "duration": 363,
    "start_time": "2022-02-22T10:06:44.578Z"
   },
   {
    "duration": 299,
    "start_time": "2022-02-22T10:07:26.644Z"
   },
   {
    "duration": 828,
    "start_time": "2022-02-22T10:07:44.633Z"
   },
   {
    "duration": 44,
    "start_time": "2022-02-22T10:07:45.464Z"
   },
   {
    "duration": 26,
    "start_time": "2022-02-22T10:07:45.514Z"
   },
   {
    "duration": 10,
    "start_time": "2022-02-22T10:07:45.543Z"
   },
   {
    "duration": 8,
    "start_time": "2022-02-22T10:07:45.555Z"
   },
   {
    "duration": 631,
    "start_time": "2022-02-22T10:07:45.566Z"
   },
   {
    "duration": 12,
    "start_time": "2022-02-22T10:07:46.201Z"
   },
   {
    "duration": 49,
    "start_time": "2022-02-22T10:07:46.216Z"
   },
   {
    "duration": 6,
    "start_time": "2022-02-22T10:07:46.267Z"
   },
   {
    "duration": 12,
    "start_time": "2022-02-22T10:07:46.275Z"
   },
   {
    "duration": 39,
    "start_time": "2022-02-22T10:07:46.289Z"
   },
   {
    "duration": 287,
    "start_time": "2022-02-22T10:07:46.331Z"
   },
   {
    "duration": 9,
    "start_time": "2022-02-22T10:07:46.621Z"
   },
   {
    "duration": 33,
    "start_time": "2022-02-22T10:07:46.633Z"
   },
   {
    "duration": 24,
    "start_time": "2022-02-22T10:07:46.669Z"
   },
   {
    "duration": 237,
    "start_time": "2022-02-22T10:07:46.695Z"
   },
   {
    "duration": 13,
    "start_time": "2022-02-22T10:07:46.934Z"
   },
   {
    "duration": 27,
    "start_time": "2022-02-22T10:07:46.949Z"
   },
   {
    "duration": 31,
    "start_time": "2022-02-22T10:07:46.979Z"
   },
   {
    "duration": 13,
    "start_time": "2022-02-22T10:07:47.013Z"
   },
   {
    "duration": 35,
    "start_time": "2022-02-22T10:07:47.029Z"
   },
   {
    "duration": 11,
    "start_time": "2022-02-22T10:07:47.070Z"
   },
   {
    "duration": 10,
    "start_time": "2022-02-22T10:07:47.084Z"
   },
   {
    "duration": 142,
    "start_time": "2022-02-22T10:07:47.097Z"
   },
   {
    "duration": 24,
    "start_time": "2022-02-22T10:07:47.242Z"
   },
   {
    "duration": 1098,
    "start_time": "2022-02-22T10:07:47.268Z"
   },
   {
    "duration": 139,
    "start_time": "2022-02-22T10:07:48.369Z"
   },
   {
    "duration": 4,
    "start_time": "2022-02-22T10:07:48.510Z"
   },
   {
    "duration": 13,
    "start_time": "2022-02-22T10:07:48.516Z"
   },
   {
    "duration": 82,
    "start_time": "2022-02-22T10:07:48.532Z"
   },
   {
    "duration": 18,
    "start_time": "2022-02-22T10:07:48.616Z"
   },
   {
    "duration": 637,
    "start_time": "2022-02-22T10:07:48.637Z"
   },
   {
    "duration": 70,
    "start_time": "2022-02-22T10:07:49.276Z"
   },
   {
    "duration": 14,
    "start_time": "2022-02-22T10:07:49.348Z"
   },
   {
    "duration": 18,
    "start_time": "2022-02-22T10:07:49.364Z"
   },
   {
    "duration": 97,
    "start_time": "2022-02-22T10:07:49.384Z"
   },
   {
    "duration": 20,
    "start_time": "2022-02-22T10:07:49.485Z"
   },
   {
    "duration": 838,
    "start_time": "2022-02-22T10:07:49.507Z"
   },
   {
    "duration": 85,
    "start_time": "2022-02-22T10:07:50.348Z"
   },
   {
    "duration": 4,
    "start_time": "2022-02-22T10:07:50.435Z"
   },
   {
    "duration": 20,
    "start_time": "2022-02-22T10:07:50.441Z"
   },
   {
    "duration": 5,
    "start_time": "2022-02-22T10:07:50.463Z"
   },
   {
    "duration": 8,
    "start_time": "2022-02-22T10:07:50.471Z"
   },
   {
    "duration": 18,
    "start_time": "2022-02-22T10:07:50.481Z"
   },
   {
    "duration": 20,
    "start_time": "2022-02-22T10:07:50.502Z"
   },
   {
    "duration": 46,
    "start_time": "2022-02-22T10:07:50.525Z"
   },
   {
    "duration": 15,
    "start_time": "2022-02-22T10:07:50.574Z"
   },
   {
    "duration": 9,
    "start_time": "2022-02-22T10:07:50.591Z"
   },
   {
    "duration": 19,
    "start_time": "2022-02-22T10:07:50.603Z"
   },
   {
    "duration": 8,
    "start_time": "2022-02-22T10:07:50.624Z"
   },
   {
    "duration": 589,
    "start_time": "2022-02-22T10:07:50.662Z"
   },
   {
    "duration": 583,
    "start_time": "2022-02-22T10:07:51.254Z"
   },
   {
    "duration": 595,
    "start_time": "2022-02-22T10:07:51.840Z"
   },
   {
    "duration": 624,
    "start_time": "2022-02-22T10:07:52.437Z"
   },
   {
    "duration": 13,
    "start_time": "2022-02-22T10:07:53.064Z"
   },
   {
    "duration": 5,
    "start_time": "2022-02-22T10:07:53.080Z"
   },
   {
    "duration": 417,
    "start_time": "2022-02-22T10:07:53.088Z"
   },
   {
    "duration": -29,
    "start_time": "2022-02-22T10:07:53.536Z"
   },
   {
    "duration": -31,
    "start_time": "2022-02-22T10:07:53.540Z"
   },
   {
    "duration": -33,
    "start_time": "2022-02-22T10:07:53.543Z"
   },
   {
    "duration": -34,
    "start_time": "2022-02-22T10:07:53.546Z"
   },
   {
    "duration": -34,
    "start_time": "2022-02-22T10:07:53.548Z"
   },
   {
    "duration": 296,
    "start_time": "2022-02-22T10:08:10.013Z"
   },
   {
    "duration": 483,
    "start_time": "2022-02-22T10:08:15.985Z"
   },
   {
    "duration": 20,
    "start_time": "2022-02-22T10:09:07.631Z"
   },
   {
    "duration": 21,
    "start_time": "2022-02-22T10:09:17.507Z"
   },
   {
    "duration": 296,
    "start_time": "2022-02-22T10:09:26.892Z"
   },
   {
    "duration": 649,
    "start_time": "2022-02-22T10:09:34.826Z"
   },
   {
    "duration": 539,
    "start_time": "2022-02-22T10:09:59.931Z"
   },
   {
    "duration": 549,
    "start_time": "2022-02-22T10:10:11.404Z"
   },
   {
    "duration": 626,
    "start_time": "2022-02-22T10:10:15.303Z"
   },
   {
    "duration": 915,
    "start_time": "2022-02-22T10:10:20.306Z"
   },
   {
    "duration": 270,
    "start_time": "2022-02-22T10:10:27.798Z"
   },
   {
    "duration": 506,
    "start_time": "2022-02-22T10:10:39.287Z"
   },
   {
    "duration": 272,
    "start_time": "2022-02-22T10:10:44.086Z"
   },
   {
    "duration": 365,
    "start_time": "2022-02-22T10:11:20.519Z"
   },
   {
    "duration": 16,
    "start_time": "2022-02-22T10:11:42.216Z"
   },
   {
    "duration": 322,
    "start_time": "2022-02-22T10:11:44.119Z"
   },
   {
    "duration": 17,
    "start_time": "2022-02-22T10:11:46.336Z"
   },
   {
    "duration": 425,
    "start_time": "2022-02-22T10:11:47.356Z"
   },
   {
    "duration": 16,
    "start_time": "2022-02-22T10:11:48.314Z"
   },
   {
    "duration": 487,
    "start_time": "2022-02-22T10:12:59.031Z"
   },
   {
    "duration": 590,
    "start_time": "2022-02-22T10:13:20.771Z"
   },
   {
    "duration": 417,
    "start_time": "2022-02-22T10:13:28.046Z"
   },
   {
    "duration": 354,
    "start_time": "2022-02-22T10:13:41.532Z"
   },
   {
    "duration": 345,
    "start_time": "2022-02-22T10:13:45.872Z"
   },
   {
    "duration": 12,
    "start_time": "2022-02-22T10:15:59.197Z"
   },
   {
    "duration": 332,
    "start_time": "2022-02-22T10:19:30.451Z"
   },
   {
    "duration": 328,
    "start_time": "2022-02-22T10:19:34.748Z"
   },
   {
    "duration": 399,
    "start_time": "2022-02-22T10:19:39.023Z"
   },
   {
    "duration": 334,
    "start_time": "2022-02-22T10:21:18.229Z"
   },
   {
    "duration": 18,
    "start_time": "2022-02-22T10:21:18.781Z"
   },
   {
    "duration": 362,
    "start_time": "2022-02-22T10:21:38.469Z"
   },
   {
    "duration": 16,
    "start_time": "2022-02-22T10:21:39.037Z"
   },
   {
    "duration": 340,
    "start_time": "2022-02-22T10:22:30.550Z"
   },
   {
    "duration": 18,
    "start_time": "2022-02-22T10:22:32.013Z"
   },
   {
    "duration": 14,
    "start_time": "2022-02-22T10:22:56.878Z"
   },
   {
    "duration": 373,
    "start_time": "2022-02-22T10:22:57.752Z"
   },
   {
    "duration": 19,
    "start_time": "2022-02-22T10:22:59.205Z"
   },
   {
    "duration": 369,
    "start_time": "2022-02-22T10:23:00.140Z"
   },
   {
    "duration": 10,
    "start_time": "2022-02-22T10:23:14.347Z"
   },
   {
    "duration": 10,
    "start_time": "2022-02-22T10:23:14.717Z"
   },
   {
    "duration": 406,
    "start_time": "2022-02-22T10:23:16.062Z"
   },
   {
    "duration": 752,
    "start_time": "2022-02-22T10:25:55.491Z"
   },
   {
    "duration": 38,
    "start_time": "2022-02-22T10:25:56.246Z"
   },
   {
    "duration": 25,
    "start_time": "2022-02-22T10:25:56.288Z"
   },
   {
    "duration": 9,
    "start_time": "2022-02-22T10:25:56.316Z"
   },
   {
    "duration": 6,
    "start_time": "2022-02-22T10:25:56.362Z"
   },
   {
    "duration": 208,
    "start_time": "2022-02-22T10:25:56.370Z"
   },
   {
    "duration": 11,
    "start_time": "2022-02-22T10:25:56.580Z"
   },
   {
    "duration": 28,
    "start_time": "2022-02-22T10:25:56.595Z"
   },
   {
    "duration": 6,
    "start_time": "2022-02-22T10:25:56.626Z"
   },
   {
    "duration": 24,
    "start_time": "2022-02-22T10:25:56.634Z"
   },
   {
    "duration": 48,
    "start_time": "2022-02-22T10:25:56.660Z"
   },
   {
    "duration": 134,
    "start_time": "2022-02-22T10:25:56.710Z"
   },
   {
    "duration": 11,
    "start_time": "2022-02-22T10:25:56.846Z"
   },
   {
    "duration": 63,
    "start_time": "2022-02-22T10:25:56.861Z"
   },
   {
    "duration": 57,
    "start_time": "2022-02-22T10:25:56.926Z"
   },
   {
    "duration": 197,
    "start_time": "2022-02-22T10:25:56.986Z"
   },
   {
    "duration": 11,
    "start_time": "2022-02-22T10:25:57.186Z"
   },
   {
    "duration": 29,
    "start_time": "2022-02-22T10:25:57.200Z"
   },
   {
    "duration": 38,
    "start_time": "2022-02-22T10:25:57.231Z"
   },
   {
    "duration": 17,
    "start_time": "2022-02-22T10:25:57.272Z"
   },
   {
    "duration": 29,
    "start_time": "2022-02-22T10:25:57.291Z"
   },
   {
    "duration": 18,
    "start_time": "2022-02-22T10:25:57.322Z"
   },
   {
    "duration": 23,
    "start_time": "2022-02-22T10:25:57.346Z"
   },
   {
    "duration": 207,
    "start_time": "2022-02-22T10:25:57.373Z"
   },
   {
    "duration": 21,
    "start_time": "2022-02-22T10:25:57.582Z"
   },
   {
    "duration": 1400,
    "start_time": "2022-02-22T10:25:57.605Z"
   },
   {
    "duration": 127,
    "start_time": "2022-02-22T10:25:59.008Z"
   },
   {
    "duration": 3,
    "start_time": "2022-02-22T10:25:59.138Z"
   },
   {
    "duration": 22,
    "start_time": "2022-02-22T10:25:59.144Z"
   },
   {
    "duration": 66,
    "start_time": "2022-02-22T10:25:59.169Z"
   },
   {
    "duration": 26,
    "start_time": "2022-02-22T10:25:59.237Z"
   },
   {
    "duration": 684,
    "start_time": "2022-02-22T10:25:59.266Z"
   },
   {
    "duration": 70,
    "start_time": "2022-02-22T10:25:59.953Z"
   },
   {
    "duration": 4,
    "start_time": "2022-02-22T10:26:00.026Z"
   },
   {
    "duration": 36,
    "start_time": "2022-02-22T10:26:00.032Z"
   },
   {
    "duration": 91,
    "start_time": "2022-02-22T10:26:00.070Z"
   },
   {
    "duration": 20,
    "start_time": "2022-02-22T10:26:00.163Z"
   },
   {
    "duration": 933,
    "start_time": "2022-02-22T10:26:00.186Z"
   },
   {
    "duration": 98,
    "start_time": "2022-02-22T10:26:01.122Z"
   },
   {
    "duration": 3,
    "start_time": "2022-02-22T10:26:01.222Z"
   },
   {
    "duration": 14,
    "start_time": "2022-02-22T10:26:01.228Z"
   },
   {
    "duration": 28,
    "start_time": "2022-02-22T10:26:01.244Z"
   },
   {
    "duration": 11,
    "start_time": "2022-02-22T10:26:01.275Z"
   },
   {
    "duration": 15,
    "start_time": "2022-02-22T10:26:01.289Z"
   },
   {
    "duration": 19,
    "start_time": "2022-02-22T10:26:01.307Z"
   },
   {
    "duration": 35,
    "start_time": "2022-02-22T10:26:01.329Z"
   },
   {
    "duration": 15,
    "start_time": "2022-02-22T10:26:01.366Z"
   },
   {
    "duration": 17,
    "start_time": "2022-02-22T10:26:01.383Z"
   },
   {
    "duration": 25,
    "start_time": "2022-02-22T10:26:01.402Z"
   },
   {
    "duration": 7,
    "start_time": "2022-02-22T10:26:01.429Z"
   },
   {
    "duration": 607,
    "start_time": "2022-02-22T10:26:01.439Z"
   },
   {
    "duration": 586,
    "start_time": "2022-02-22T10:26:02.049Z"
   },
   {
    "duration": 617,
    "start_time": "2022-02-22T10:26:02.637Z"
   },
   {
    "duration": 604,
    "start_time": "2022-02-22T10:26:03.257Z"
   },
   {
    "duration": 14,
    "start_time": "2022-02-22T10:26:03.863Z"
   },
   {
    "duration": 5,
    "start_time": "2022-02-22T10:26:03.879Z"
   },
   {
    "duration": 12,
    "start_time": "2022-02-22T10:26:03.886Z"
   },
   {
    "duration": 496,
    "start_time": "2022-02-22T10:26:03.900Z"
   },
   {
    "duration": 17,
    "start_time": "2022-02-22T10:26:04.399Z"
   },
   {
    "duration": 362,
    "start_time": "2022-02-22T10:26:04.418Z"
   },
   {
    "duration": -45,
    "start_time": "2022-02-22T10:26:04.827Z"
   },
   {
    "duration": -52,
    "start_time": "2022-02-22T10:26:04.836Z"
   },
   {
    "duration": -61,
    "start_time": "2022-02-22T10:26:04.846Z"
   },
   {
    "duration": -68,
    "start_time": "2022-02-22T10:26:04.854Z"
   },
   {
    "duration": -75,
    "start_time": "2022-02-22T10:26:04.863Z"
   },
   {
    "duration": -84,
    "start_time": "2022-02-22T10:26:04.873Z"
   },
   {
    "duration": -92,
    "start_time": "2022-02-22T10:26:04.883Z"
   },
   {
    "duration": 370,
    "start_time": "2022-02-22T11:55:54.342Z"
   },
   {
    "duration": 10,
    "start_time": "2022-02-22T11:55:56.100Z"
   },
   {
    "duration": 10,
    "start_time": "2022-02-22T11:55:58.398Z"
   },
   {
    "duration": 314,
    "start_time": "2022-02-22T11:55:59.090Z"
   },
   {
    "duration": 16,
    "start_time": "2022-02-22T11:55:59.958Z"
   },
   {
    "duration": 295,
    "start_time": "2022-02-22T11:56:01.910Z"
   },
   {
    "duration": 17,
    "start_time": "2022-02-22T11:56:02.289Z"
   },
   {
    "duration": 7356,
    "start_time": "2022-02-22T12:46:49.925Z"
   },
   {
    "duration": 16,
    "start_time": "2022-02-22T12:47:10.857Z"
   },
   {
    "duration": 481,
    "start_time": "2022-02-22T12:47:24.170Z"
   },
   {
    "duration": 323,
    "start_time": "2022-02-22T13:10:19.794Z"
   },
   {
    "duration": 348,
    "start_time": "2022-02-22T13:10:49.667Z"
   },
   {
    "duration": 266,
    "start_time": "2022-02-22T13:11:51.751Z"
   },
   {
    "duration": 443,
    "start_time": "2022-02-22T13:11:59.422Z"
   },
   {
    "duration": 298,
    "start_time": "2022-02-22T13:13:27.468Z"
   },
   {
    "duration": 280,
    "start_time": "2022-02-22T13:13:31.990Z"
   },
   {
    "duration": 333,
    "start_time": "2022-02-22T13:13:43.358Z"
   },
   {
    "duration": 312,
    "start_time": "2022-02-22T13:13:52.772Z"
   },
   {
    "duration": 339,
    "start_time": "2022-02-22T13:13:59.980Z"
   },
   {
    "duration": 6,
    "start_time": "2022-02-22T13:24:08.754Z"
   },
   {
    "duration": 15,
    "start_time": "2022-02-22T13:24:34.239Z"
   },
   {
    "duration": 17,
    "start_time": "2022-02-22T13:24:39.544Z"
   },
   {
    "duration": 11,
    "start_time": "2022-02-22T13:24:48.626Z"
   },
   {
    "duration": 819,
    "start_time": "2022-02-22T13:25:27.126Z"
   },
   {
    "duration": 24,
    "start_time": "2022-02-22T13:25:27.948Z"
   },
   {
    "duration": 32,
    "start_time": "2022-02-22T13:25:27.975Z"
   },
   {
    "duration": 21,
    "start_time": "2022-02-22T13:25:28.010Z"
   },
   {
    "duration": 7,
    "start_time": "2022-02-22T13:25:28.035Z"
   },
   {
    "duration": 213,
    "start_time": "2022-02-22T13:25:28.063Z"
   },
   {
    "duration": 11,
    "start_time": "2022-02-22T13:25:28.279Z"
   },
   {
    "duration": 67,
    "start_time": "2022-02-22T13:25:28.294Z"
   },
   {
    "duration": 8,
    "start_time": "2022-02-22T13:25:28.365Z"
   },
   {
    "duration": 17,
    "start_time": "2022-02-22T13:25:28.376Z"
   },
   {
    "duration": 79,
    "start_time": "2022-02-22T13:25:28.396Z"
   },
   {
    "duration": 126,
    "start_time": "2022-02-22T13:25:28.477Z"
   },
   {
    "duration": 15,
    "start_time": "2022-02-22T13:25:28.605Z"
   },
   {
    "duration": 40,
    "start_time": "2022-02-22T13:25:28.623Z"
   },
   {
    "duration": 31,
    "start_time": "2022-02-22T13:25:28.666Z"
   },
   {
    "duration": 195,
    "start_time": "2022-02-22T13:25:28.699Z"
   },
   {
    "duration": 15,
    "start_time": "2022-02-22T13:25:28.896Z"
   },
   {
    "duration": 47,
    "start_time": "2022-02-22T13:25:28.917Z"
   },
   {
    "duration": 33,
    "start_time": "2022-02-22T13:25:28.969Z"
   },
   {
    "duration": 15,
    "start_time": "2022-02-22T13:25:29.005Z"
   },
   {
    "duration": 39,
    "start_time": "2022-02-22T13:25:29.023Z"
   },
   {
    "duration": 14,
    "start_time": "2022-02-22T13:25:29.065Z"
   },
   {
    "duration": 9,
    "start_time": "2022-02-22T13:25:29.082Z"
   },
   {
    "duration": 143,
    "start_time": "2022-02-22T13:25:29.094Z"
   },
   {
    "duration": 30,
    "start_time": "2022-02-22T13:25:29.239Z"
   },
   {
    "duration": 1208,
    "start_time": "2022-02-22T13:25:29.272Z"
   },
   {
    "duration": 128,
    "start_time": "2022-02-22T13:25:30.483Z"
   },
   {
    "duration": 3,
    "start_time": "2022-02-22T13:25:30.614Z"
   },
   {
    "duration": 19,
    "start_time": "2022-02-22T13:25:30.620Z"
   },
   {
    "duration": 74,
    "start_time": "2022-02-22T13:25:30.642Z"
   },
   {
    "duration": 18,
    "start_time": "2022-02-22T13:25:30.719Z"
   },
   {
    "duration": 723,
    "start_time": "2022-02-22T13:25:30.740Z"
   },
   {
    "duration": 74,
    "start_time": "2022-02-22T13:25:31.465Z"
   },
   {
    "duration": 21,
    "start_time": "2022-02-22T13:25:31.542Z"
   },
   {
    "duration": 14,
    "start_time": "2022-02-22T13:25:31.566Z"
   },
   {
    "duration": 118,
    "start_time": "2022-02-22T13:25:31.583Z"
   },
   {
    "duration": 24,
    "start_time": "2022-02-22T13:25:31.704Z"
   },
   {
    "duration": 958,
    "start_time": "2022-02-22T13:25:31.731Z"
   },
   {
    "duration": 93,
    "start_time": "2022-02-22T13:25:32.692Z"
   },
   {
    "duration": 4,
    "start_time": "2022-02-22T13:25:32.787Z"
   },
   {
    "duration": 14,
    "start_time": "2022-02-22T13:25:32.794Z"
   },
   {
    "duration": 6,
    "start_time": "2022-02-22T13:25:32.811Z"
   },
   {
    "duration": 8,
    "start_time": "2022-02-22T13:25:32.820Z"
   },
   {
    "duration": 38,
    "start_time": "2022-02-22T13:25:32.830Z"
   },
   {
    "duration": 25,
    "start_time": "2022-02-22T13:25:32.871Z"
   },
   {
    "duration": 19,
    "start_time": "2022-02-22T13:25:32.899Z"
   },
   {
    "duration": 48,
    "start_time": "2022-02-22T13:25:32.921Z"
   },
   {
    "duration": 8,
    "start_time": "2022-02-22T13:25:32.972Z"
   },
   {
    "duration": 20,
    "start_time": "2022-02-22T13:25:32.982Z"
   },
   {
    "duration": 8,
    "start_time": "2022-02-22T13:25:33.004Z"
   },
   {
    "duration": 592,
    "start_time": "2022-02-22T13:25:33.015Z"
   },
   {
    "duration": 558,
    "start_time": "2022-02-22T13:25:33.610Z"
   },
   {
    "duration": 564,
    "start_time": "2022-02-22T13:25:34.170Z"
   },
   {
    "duration": 587,
    "start_time": "2022-02-22T13:25:34.743Z"
   },
   {
    "duration": 15,
    "start_time": "2022-02-22T13:25:35.333Z"
   },
   {
    "duration": 10,
    "start_time": "2022-02-22T13:25:35.362Z"
   },
   {
    "duration": 13,
    "start_time": "2022-02-22T13:25:35.374Z"
   },
   {
    "duration": 652,
    "start_time": "2022-02-22T13:25:35.390Z"
   },
   {
    "duration": 31,
    "start_time": "2022-02-22T13:25:36.045Z"
   },
   {
    "duration": 593,
    "start_time": "2022-02-22T13:25:36.079Z"
   },
   {
    "duration": 13,
    "start_time": "2022-02-22T13:25:36.676Z"
   },
   {
    "duration": 10,
    "start_time": "2022-02-22T13:25:36.692Z"
   },
   {
    "duration": 504,
    "start_time": "2022-02-22T13:25:36.705Z"
   },
   {
    "duration": 18,
    "start_time": "2022-02-22T13:25:37.213Z"
   },
   {
    "duration": 40,
    "start_time": "2022-02-22T13:25:37.234Z"
   },
   {
    "duration": 8,
    "start_time": "2022-02-22T13:25:37.277Z"
   },
   {
    "duration": 332,
    "start_time": "2022-02-22T13:25:37.287Z"
   },
   {
    "duration": 15,
    "start_time": "2022-02-22T13:25:37.622Z"
   },
   {
    "duration": 378,
    "start_time": "2022-02-22T13:25:37.640Z"
   },
   {
    "duration": 11,
    "start_time": "2022-02-22T13:25:38.021Z"
   },
   {
    "duration": 6,
    "start_time": "2022-02-22T13:25:59.197Z"
   },
   {
    "duration": 133,
    "start_time": "2022-02-22T13:26:02.004Z"
   },
   {
    "duration": 7,
    "start_time": "2022-02-22T13:26:05.407Z"
   },
   {
    "duration": 7,
    "start_time": "2022-02-22T13:26:42.304Z"
   },
   {
    "duration": 7,
    "start_time": "2022-02-22T13:27:15.688Z"
   },
   {
    "duration": 17,
    "start_time": "2022-02-22T13:27:44.936Z"
   },
   {
    "duration": 7,
    "start_time": "2022-02-22T13:29:01.943Z"
   },
   {
    "duration": 102,
    "start_time": "2022-02-22T13:29:17.444Z"
   },
   {
    "duration": 5,
    "start_time": "2022-02-22T13:29:21.822Z"
   },
   {
    "duration": 7,
    "start_time": "2022-02-22T13:30:21.279Z"
   },
   {
    "duration": 7,
    "start_time": "2022-02-22T13:48:01.538Z"
   },
   {
    "duration": 6,
    "start_time": "2022-02-22T13:48:02.023Z"
   },
   {
    "duration": 7,
    "start_time": "2022-02-22T13:49:08.808Z"
   },
   {
    "duration": 137,
    "start_time": "2022-02-22T13:50:29.806Z"
   },
   {
    "duration": 556,
    "start_time": "2022-02-22T13:52:11.268Z"
   },
   {
    "duration": 381,
    "start_time": "2022-02-22T13:53:04.661Z"
   },
   {
    "duration": 377,
    "start_time": "2022-02-22T13:53:10.887Z"
   },
   {
    "duration": 345,
    "start_time": "2022-02-22T13:53:18.363Z"
   },
   {
    "duration": 370,
    "start_time": "2022-02-22T13:53:21.135Z"
   },
   {
    "duration": 441,
    "start_time": "2022-02-22T13:53:25.720Z"
   },
   {
    "duration": 431,
    "start_time": "2022-02-22T13:53:33.003Z"
   },
   {
    "duration": 493,
    "start_time": "2022-02-22T13:53:39.768Z"
   },
   {
    "duration": 534,
    "start_time": "2022-02-22T13:53:49.490Z"
   },
   {
    "duration": 343,
    "start_time": "2022-02-22T13:54:00.766Z"
   },
   {
    "duration": 399,
    "start_time": "2022-02-22T13:54:05.665Z"
   },
   {
    "duration": 386,
    "start_time": "2022-02-22T13:54:10.318Z"
   },
   {
    "duration": 780,
    "start_time": "2022-02-22T13:54:24.467Z"
   },
   {
    "duration": 375,
    "start_time": "2022-02-22T13:55:02.470Z"
   },
   {
    "duration": 343,
    "start_time": "2022-02-22T13:55:11.526Z"
   },
   {
    "duration": 385,
    "start_time": "2022-02-22T13:55:13.471Z"
   },
   {
    "duration": 335,
    "start_time": "2022-02-22T13:56:46.200Z"
   },
   {
    "duration": 314,
    "start_time": "2022-02-22T13:57:09.250Z"
   },
   {
    "duration": 282,
    "start_time": "2022-02-22T13:57:15.040Z"
   },
   {
    "duration": 311,
    "start_time": "2022-02-22T13:57:20.000Z"
   },
   {
    "duration": 358,
    "start_time": "2022-02-22T14:11:51.472Z"
   },
   {
    "duration": 318,
    "start_time": "2022-02-22T14:12:08.228Z"
   },
   {
    "duration": 338,
    "start_time": "2022-02-22T14:12:13.472Z"
   },
   {
    "duration": 381,
    "start_time": "2022-02-22T14:12:27.982Z"
   },
   {
    "duration": 403,
    "start_time": "2022-02-22T14:12:32.165Z"
   },
   {
    "duration": 103,
    "start_time": "2022-02-22T14:13:07.944Z"
   },
   {
    "duration": 319,
    "start_time": "2022-02-22T14:13:34.961Z"
   },
   {
    "duration": 379,
    "start_time": "2022-02-22T14:13:43.393Z"
   },
   {
    "duration": 305,
    "start_time": "2022-02-22T14:13:48.877Z"
   },
   {
    "duration": 345,
    "start_time": "2022-02-22T14:14:34.009Z"
   },
   {
    "duration": 636,
    "start_time": "2022-02-22T14:16:42.436Z"
   },
   {
    "duration": 366,
    "start_time": "2022-02-22T14:16:49.434Z"
   },
   {
    "duration": 451,
    "start_time": "2022-02-22T14:16:55.845Z"
   },
   {
    "duration": 13,
    "start_time": "2022-02-22T14:18:02.753Z"
   },
   {
    "duration": 15,
    "start_time": "2022-02-22T14:18:07.709Z"
   },
   {
    "duration": 14,
    "start_time": "2022-02-22T14:18:17.203Z"
   },
   {
    "duration": 290,
    "start_time": "2022-02-22T14:20:33.311Z"
   },
   {
    "duration": 323,
    "start_time": "2022-02-22T14:20:35.867Z"
   },
   {
    "duration": 310,
    "start_time": "2022-02-22T14:21:00.946Z"
   },
   {
    "duration": 407,
    "start_time": "2022-02-22T14:21:21.507Z"
   },
   {
    "duration": 298,
    "start_time": "2022-02-22T14:21:25.046Z"
   },
   {
    "duration": 309,
    "start_time": "2022-02-22T14:21:29.926Z"
   },
   {
    "duration": 765,
    "start_time": "2022-02-22T14:22:01.947Z"
   },
   {
    "duration": 586,
    "start_time": "2022-02-22T14:22:18.093Z"
   },
   {
    "duration": 10,
    "start_time": "2022-02-22T14:26:10.063Z"
   },
   {
    "duration": 384,
    "start_time": "2022-02-22T14:26:24.142Z"
   },
   {
    "duration": 375,
    "start_time": "2022-02-22T14:26:43.345Z"
   },
   {
    "duration": 18,
    "start_time": "2022-02-22T14:27:15.228Z"
   },
   {
    "duration": 458,
    "start_time": "2022-02-22T14:28:11.140Z"
   },
   {
    "duration": 792,
    "start_time": "2022-02-22T14:28:52.147Z"
   },
   {
    "duration": 19,
    "start_time": "2022-02-22T14:28:52.942Z"
   },
   {
    "duration": 34,
    "start_time": "2022-02-22T14:28:52.964Z"
   },
   {
    "duration": 16,
    "start_time": "2022-02-22T14:28:53.001Z"
   },
   {
    "duration": 10,
    "start_time": "2022-02-22T14:28:53.020Z"
   },
   {
    "duration": 209,
    "start_time": "2022-02-22T14:28:53.032Z"
   },
   {
    "duration": 17,
    "start_time": "2022-02-22T14:28:53.244Z"
   },
   {
    "duration": 40,
    "start_time": "2022-02-22T14:28:53.265Z"
   },
   {
    "duration": 10,
    "start_time": "2022-02-22T14:28:53.308Z"
   },
   {
    "duration": 17,
    "start_time": "2022-02-22T14:28:53.320Z"
   },
   {
    "duration": 66,
    "start_time": "2022-02-22T14:28:53.339Z"
   },
   {
    "duration": 120,
    "start_time": "2022-02-22T14:28:53.408Z"
   },
   {
    "duration": 11,
    "start_time": "2022-02-22T14:28:53.530Z"
   },
   {
    "duration": 33,
    "start_time": "2022-02-22T14:28:53.543Z"
   },
   {
    "duration": 25,
    "start_time": "2022-02-22T14:28:53.579Z"
   },
   {
    "duration": 197,
    "start_time": "2022-02-22T14:28:53.607Z"
   },
   {
    "duration": 13,
    "start_time": "2022-02-22T14:28:53.806Z"
   },
   {
    "duration": 42,
    "start_time": "2022-02-22T14:28:53.821Z"
   },
   {
    "duration": 33,
    "start_time": "2022-02-22T14:28:53.866Z"
   },
   {
    "duration": 13,
    "start_time": "2022-02-22T14:28:53.902Z"
   },
   {
    "duration": 18,
    "start_time": "2022-02-22T14:28:53.918Z"
   },
   {
    "duration": 32,
    "start_time": "2022-02-22T14:28:53.938Z"
   },
   {
    "duration": 11,
    "start_time": "2022-02-22T14:28:53.977Z"
   },
   {
    "duration": 146,
    "start_time": "2022-02-22T14:28:53.993Z"
   },
   {
    "duration": 30,
    "start_time": "2022-02-22T14:28:54.142Z"
   },
   {
    "duration": 1186,
    "start_time": "2022-02-22T14:28:54.175Z"
   },
   {
    "duration": 123,
    "start_time": "2022-02-22T14:28:55.363Z"
   },
   {
    "duration": 4,
    "start_time": "2022-02-22T14:28:55.489Z"
   },
   {
    "duration": 16,
    "start_time": "2022-02-22T14:28:55.495Z"
   },
   {
    "duration": 72,
    "start_time": "2022-02-22T14:28:55.514Z"
   },
   {
    "duration": 20,
    "start_time": "2022-02-22T14:28:55.588Z"
   },
   {
    "duration": 859,
    "start_time": "2022-02-22T14:28:55.611Z"
   },
   {
    "duration": 127,
    "start_time": "2022-02-22T14:28:56.473Z"
   },
   {
    "duration": 4,
    "start_time": "2022-02-22T14:28:56.602Z"
   },
   {
    "duration": 66,
    "start_time": "2022-02-22T14:28:56.609Z"
   },
   {
    "duration": 126,
    "start_time": "2022-02-22T14:28:56.678Z"
   },
   {
    "duration": 74,
    "start_time": "2022-02-22T14:28:56.807Z"
   },
   {
    "duration": 926,
    "start_time": "2022-02-22T14:28:56.884Z"
   },
   {
    "duration": 98,
    "start_time": "2022-02-22T14:28:57.813Z"
   },
   {
    "duration": 4,
    "start_time": "2022-02-22T14:28:57.913Z"
   },
   {
    "duration": 12,
    "start_time": "2022-02-22T14:28:57.920Z"
   },
   {
    "duration": 7,
    "start_time": "2022-02-22T14:28:57.934Z"
   },
   {
    "duration": 21,
    "start_time": "2022-02-22T14:28:57.943Z"
   },
   {
    "duration": 12,
    "start_time": "2022-02-22T14:28:57.967Z"
   },
   {
    "duration": 19,
    "start_time": "2022-02-22T14:28:57.982Z"
   },
   {
    "duration": 19,
    "start_time": "2022-02-22T14:28:58.003Z"
   },
   {
    "duration": 48,
    "start_time": "2022-02-22T14:28:58.024Z"
   },
   {
    "duration": 21,
    "start_time": "2022-02-22T14:28:58.075Z"
   },
   {
    "duration": 16,
    "start_time": "2022-02-22T14:28:58.098Z"
   },
   {
    "duration": 8,
    "start_time": "2022-02-22T14:28:58.116Z"
   },
   {
    "duration": 590,
    "start_time": "2022-02-22T14:28:58.126Z"
   },
   {
    "duration": 598,
    "start_time": "2022-02-22T14:28:58.719Z"
   },
   {
    "duration": 603,
    "start_time": "2022-02-22T14:28:59.320Z"
   },
   {
    "duration": 613,
    "start_time": "2022-02-22T14:28:59.925Z"
   },
   {
    "duration": 22,
    "start_time": "2022-02-22T14:29:00.540Z"
   },
   {
    "duration": 6,
    "start_time": "2022-02-22T14:29:00.564Z"
   },
   {
    "duration": 13,
    "start_time": "2022-02-22T14:29:00.572Z"
   },
   {
    "duration": 576,
    "start_time": "2022-02-22T14:29:00.587Z"
   },
   {
    "duration": 23,
    "start_time": "2022-02-22T14:29:01.167Z"
   },
   {
    "duration": 592,
    "start_time": "2022-02-22T14:29:01.193Z"
   },
   {
    "duration": 18,
    "start_time": "2022-02-22T14:29:01.788Z"
   },
   {
    "duration": 327,
    "start_time": "2022-02-22T14:29:01.808Z"
   },
   {
    "duration": 10,
    "start_time": "2022-02-22T14:29:02.137Z"
   },
   {
    "duration": 21,
    "start_time": "2022-02-22T14:29:02.150Z"
   },
   {
    "duration": 337,
    "start_time": "2022-02-22T14:29:02.174Z"
   },
   {
    "duration": 18,
    "start_time": "2022-02-22T14:29:02.514Z"
   },
   {
    "duration": 31,
    "start_time": "2022-02-22T14:29:02.535Z"
   },
   {
    "duration": 6,
    "start_time": "2022-02-22T14:29:02.576Z"
   },
   {
    "duration": 359,
    "start_time": "2022-02-22T14:29:02.586Z"
   },
   {
    "duration": 27,
    "start_time": "2022-02-22T14:29:02.949Z"
   },
   {
    "duration": 7,
    "start_time": "2022-02-22T14:29:02.978Z"
   },
   {
    "duration": 9,
    "start_time": "2022-02-22T14:29:02.987Z"
   },
   {
    "duration": 383,
    "start_time": "2022-02-22T14:29:02.998Z"
   },
   {
    "duration": 12,
    "start_time": "2022-02-22T14:29:03.384Z"
   },
   {
    "duration": 405,
    "start_time": "2022-02-22T14:29:03.399Z"
   },
   {
    "duration": 18,
    "start_time": "2022-02-22T14:29:03.807Z"
   },
   {
    "duration": 407,
    "start_time": "2022-02-22T14:29:03.828Z"
   },
   {
    "duration": 18,
    "start_time": "2022-02-22T14:29:22.012Z"
   },
   {
    "duration": 18,
    "start_time": "2022-02-22T14:29:23.600Z"
   },
   {
    "duration": 284,
    "start_time": "2022-02-22T14:29:55.841Z"
   },
   {
    "duration": 361,
    "start_time": "2022-02-22T14:30:04.033Z"
   },
   {
    "duration": 443,
    "start_time": "2022-02-22T14:34:33.159Z"
   },
   {
    "duration": 10,
    "start_time": "2022-02-22T14:34:36.149Z"
   },
   {
    "duration": 11,
    "start_time": "2022-02-22T14:34:36.460Z"
   },
   {
    "duration": 302,
    "start_time": "2022-02-22T14:35:47.890Z"
   },
   {
    "duration": 20,
    "start_time": "2022-02-22T14:36:03.104Z"
   },
   {
    "duration": 7,
    "start_time": "2022-02-22T14:36:46.316Z"
   },
   {
    "duration": 8,
    "start_time": "2022-02-22T14:37:43.904Z"
   },
   {
    "duration": 319,
    "start_time": "2022-02-22T14:38:58.035Z"
   },
   {
    "duration": 332,
    "start_time": "2022-02-22T14:39:03.799Z"
   },
   {
    "duration": 388,
    "start_time": "2022-02-22T14:39:06.756Z"
   },
   {
    "duration": 376,
    "start_time": "2022-02-22T14:39:10.067Z"
   },
   {
    "duration": 345,
    "start_time": "2022-02-22T14:39:12.939Z"
   },
   {
    "duration": 335,
    "start_time": "2022-02-22T14:39:18.933Z"
   },
   {
    "duration": 313,
    "start_time": "2022-02-22T14:39:27.213Z"
   },
   {
    "duration": 19,
    "start_time": "2022-02-22T14:39:48.752Z"
   },
   {
    "duration": 7,
    "start_time": "2022-02-22T14:40:04.098Z"
   },
   {
    "duration": 7,
    "start_time": "2022-02-22T14:40:12.882Z"
   },
   {
    "duration": 7076,
    "start_time": "2022-02-22T14:40:51.908Z"
   },
   {
    "duration": 291,
    "start_time": "2022-02-22T14:41:04.427Z"
   },
   {
    "duration": 289,
    "start_time": "2022-02-22T14:41:10.620Z"
   },
   {
    "duration": 410,
    "start_time": "2022-02-22T14:41:14.645Z"
   },
   {
    "duration": 291,
    "start_time": "2022-02-22T14:41:20.341Z"
   },
   {
    "duration": 10,
    "start_time": "2022-02-22T14:43:27.035Z"
   },
   {
    "duration": 13,
    "start_time": "2022-02-22T14:43:30.445Z"
   },
   {
    "duration": 359,
    "start_time": "2022-02-22T14:43:57.905Z"
   },
   {
    "duration": 18,
    "start_time": "2022-02-22T14:44:15.378Z"
   },
   {
    "duration": 386,
    "start_time": "2022-02-22T14:44:43.145Z"
   },
   {
    "duration": 18,
    "start_time": "2022-02-22T14:44:48.064Z"
   },
   {
    "duration": 311,
    "start_time": "2022-02-22T14:45:18.942Z"
   },
   {
    "duration": 300,
    "start_time": "2022-02-22T14:45:24.866Z"
   },
   {
    "duration": 294,
    "start_time": "2022-02-22T14:45:28.982Z"
   },
   {
    "duration": 330,
    "start_time": "2022-02-22T14:45:35.778Z"
   },
   {
    "duration": 12,
    "start_time": "2022-02-22T14:46:49.238Z"
   },
   {
    "duration": 13,
    "start_time": "2022-02-22T14:47:19.991Z"
   },
   {
    "duration": 308,
    "start_time": "2022-02-22T14:47:36.291Z"
   },
   {
    "duration": 309,
    "start_time": "2022-02-22T14:47:42.142Z"
   },
   {
    "duration": 17,
    "start_time": "2022-02-22T14:48:02.246Z"
   },
   {
    "duration": 17,
    "start_time": "2022-02-22T14:48:07.947Z"
   },
   {
    "duration": 8,
    "start_time": "2022-02-22T14:48:41.047Z"
   },
   {
    "duration": 8,
    "start_time": "2022-02-22T14:48:51.000Z"
   },
   {
    "duration": 327,
    "start_time": "2022-02-22T14:49:52.362Z"
   },
   {
    "duration": 305,
    "start_time": "2022-02-22T14:49:55.608Z"
   },
   {
    "duration": 411,
    "start_time": "2022-02-22T14:50:19.496Z"
   },
   {
    "duration": 18,
    "start_time": "2022-02-22T14:50:25.208Z"
   },
   {
    "duration": 6,
    "start_time": "2022-02-22T14:50:39.317Z"
   },
   {
    "duration": 7,
    "start_time": "2022-02-22T14:50:49.172Z"
   },
   {
    "duration": 292,
    "start_time": "2022-02-22T14:51:17.289Z"
   },
   {
    "duration": 4,
    "start_time": "2022-02-22T14:52:52.120Z"
   },
   {
    "duration": 11,
    "start_time": "2022-02-22T16:31:26.393Z"
   },
   {
    "duration": 11,
    "start_time": "2022-02-22T16:31:36.097Z"
   },
   {
    "duration": 12,
    "start_time": "2022-02-22T16:31:43.678Z"
   },
   {
    "duration": 12,
    "start_time": "2022-02-22T16:32:01.953Z"
   },
   {
    "duration": 9,
    "start_time": "2022-02-22T16:32:18.091Z"
   },
   {
    "duration": 10,
    "start_time": "2022-02-22T16:32:18.304Z"
   },
   {
    "duration": 9,
    "start_time": "2022-02-22T16:32:25.059Z"
   },
   {
    "duration": 9,
    "start_time": "2022-02-22T16:32:26.630Z"
   },
   {
    "duration": 87,
    "start_time": "2022-02-22T16:36:27.416Z"
   },
   {
    "duration": 11,
    "start_time": "2022-02-22T16:39:35.111Z"
   },
   {
    "duration": 17,
    "start_time": "2022-02-22T16:39:35.357Z"
   },
   {
    "duration": 341,
    "start_time": "2022-02-22T16:40:29.641Z"
   },
   {
    "duration": 280,
    "start_time": "2022-02-22T16:40:41.503Z"
   },
   {
    "duration": 11,
    "start_time": "2022-02-22T16:40:49.932Z"
   },
   {
    "duration": 87,
    "start_time": "2022-02-22T16:41:06.552Z"
   },
   {
    "duration": 463,
    "start_time": "2022-02-22T16:41:08.924Z"
   },
   {
    "duration": 302,
    "start_time": "2022-02-22T16:47:01.359Z"
   },
   {
    "duration": 9,
    "start_time": "2022-02-22T16:47:22.498Z"
   },
   {
    "duration": 9,
    "start_time": "2022-02-22T16:47:22.958Z"
   },
   {
    "duration": 10,
    "start_time": "2022-02-22T16:47:24.049Z"
   },
   {
    "duration": 294,
    "start_time": "2022-02-22T16:47:27.708Z"
   },
   {
    "duration": 10,
    "start_time": "2022-02-22T16:47:41.621Z"
   },
   {
    "duration": 10,
    "start_time": "2022-02-22T16:47:42.814Z"
   },
   {
    "duration": 304,
    "start_time": "2022-02-22T16:47:43.723Z"
   },
   {
    "duration": 10,
    "start_time": "2022-02-22T16:47:54.590Z"
   },
   {
    "duration": 10,
    "start_time": "2022-02-22T16:47:54.852Z"
   },
   {
    "duration": 8,
    "start_time": "2022-02-22T16:47:55.090Z"
   },
   {
    "duration": 293,
    "start_time": "2022-02-22T16:47:55.328Z"
   },
   {
    "duration": 11,
    "start_time": "2022-02-22T16:49:38.615Z"
   },
   {
    "duration": 85,
    "start_time": "2022-02-22T16:49:43.392Z"
   },
   {
    "duration": 13,
    "start_time": "2022-02-22T16:49:45.623Z"
   },
   {
    "duration": 14,
    "start_time": "2022-02-22T16:49:58.125Z"
   },
   {
    "duration": 10,
    "start_time": "2022-02-22T16:50:12.042Z"
   },
   {
    "duration": 12,
    "start_time": "2022-02-22T16:50:13.857Z"
   },
   {
    "duration": 9,
    "start_time": "2022-02-22T16:50:24.952Z"
   },
   {
    "duration": 11,
    "start_time": "2022-02-22T16:50:27.076Z"
   },
   {
    "duration": 13,
    "start_time": "2022-02-22T16:50:38.500Z"
   },
   {
    "duration": 305,
    "start_time": "2022-02-22T16:51:55.826Z"
   },
   {
    "duration": 11,
    "start_time": "2022-02-22T16:52:20.173Z"
   },
   {
    "duration": 304,
    "start_time": "2022-02-22T16:52:38.832Z"
   },
   {
    "duration": 9,
    "start_time": "2022-02-22T16:52:47.498Z"
   },
   {
    "duration": 324,
    "start_time": "2022-02-22T16:52:47.701Z"
   },
   {
    "duration": 7,
    "start_time": "2022-02-22T16:53:11.640Z"
   },
   {
    "duration": 10,
    "start_time": "2022-02-22T16:53:29.521Z"
   },
   {
    "duration": 9,
    "start_time": "2022-02-22T16:53:33.707Z"
   },
   {
    "duration": 11,
    "start_time": "2022-02-22T16:53:38.448Z"
   },
   {
    "duration": 10,
    "start_time": "2022-02-22T16:53:44.027Z"
   },
   {
    "duration": 94,
    "start_time": "2022-02-22T16:54:42.510Z"
   },
   {
    "duration": 9,
    "start_time": "2022-02-22T16:55:01.544Z"
   },
   {
    "duration": 322,
    "start_time": "2022-02-22T16:56:30.404Z"
   },
   {
    "duration": 18,
    "start_time": "2022-02-22T16:56:43.620Z"
   },
   {
    "duration": 8,
    "start_time": "2022-02-22T16:57:46.795Z"
   },
   {
    "duration": 98,
    "start_time": "2022-02-22T17:04:41.573Z"
   },
   {
    "duration": 9,
    "start_time": "2022-02-22T17:04:50.429Z"
   },
   {
    "duration": 8,
    "start_time": "2022-02-22T17:05:11.777Z"
   },
   {
    "duration": 8,
    "start_time": "2022-02-22T17:05:15.762Z"
   },
   {
    "duration": 8,
    "start_time": "2022-02-22T17:05:19.035Z"
   },
   {
    "duration": 117,
    "start_time": "2022-02-22T17:37:33.676Z"
   },
   {
    "duration": 8,
    "start_time": "2022-02-22T17:37:38.040Z"
   },
   {
    "duration": 8,
    "start_time": "2022-02-22T17:38:17.426Z"
   },
   {
    "duration": 8,
    "start_time": "2022-02-22T17:38:22.325Z"
   },
   {
    "duration": 8,
    "start_time": "2022-02-22T17:38:23.869Z"
   },
   {
    "duration": 8,
    "start_time": "2022-02-22T17:38:34.425Z"
   },
   {
    "duration": 8,
    "start_time": "2022-02-22T17:38:36.301Z"
   },
   {
    "duration": 10,
    "start_time": "2022-02-22T17:38:44.546Z"
   },
   {
    "duration": 8,
    "start_time": "2022-02-22T17:38:46.006Z"
   },
   {
    "duration": 8,
    "start_time": "2022-02-22T17:38:54.268Z"
   },
   {
    "duration": 8,
    "start_time": "2022-02-22T17:38:55.404Z"
   },
   {
    "duration": 281,
    "start_time": "2022-02-22T17:39:33.872Z"
   },
   {
    "duration": 12,
    "start_time": "2022-02-22T17:39:44.221Z"
   },
   {
    "duration": 11,
    "start_time": "2022-02-22T17:39:55.629Z"
   },
   {
    "duration": 11,
    "start_time": "2022-02-22T17:39:58.131Z"
   },
   {
    "duration": 6,
    "start_time": "2022-02-22T17:49:45.892Z"
   },
   {
    "duration": 7,
    "start_time": "2022-02-22T17:49:47.186Z"
   },
   {
    "duration": 6,
    "start_time": "2022-02-22T18:20:11.906Z"
   },
   {
    "duration": 7,
    "start_time": "2022-02-22T18:20:12.319Z"
   },
   {
    "duration": 6,
    "start_time": "2022-02-22T18:20:36.713Z"
   },
   {
    "duration": 7,
    "start_time": "2022-02-22T18:20:40.944Z"
   },
   {
    "duration": 6,
    "start_time": "2022-02-22T18:20:46.806Z"
   },
   {
    "duration": 5,
    "start_time": "2022-02-22T18:20:50.639Z"
   },
   {
    "duration": 7,
    "start_time": "2022-02-22T19:22:07.778Z"
   },
   {
    "duration": 9,
    "start_time": "2022-02-22T19:25:56.125Z"
   },
   {
    "duration": 86,
    "start_time": "2022-02-23T07:42:07.650Z"
   },
   {
    "duration": 363,
    "start_time": "2022-02-24T09:10:08.086Z"
   },
   {
    "duration": 176,
    "start_time": "2022-02-24T09:10:28.855Z"
   },
   {
    "duration": 707,
    "start_time": "2022-02-24T09:10:33.607Z"
   },
   {
    "duration": 20,
    "start_time": "2022-02-24T09:10:34.316Z"
   },
   {
    "duration": 20,
    "start_time": "2022-02-24T09:10:34.339Z"
   },
   {
    "duration": 8,
    "start_time": "2022-02-24T09:10:34.361Z"
   },
   {
    "duration": 6,
    "start_time": "2022-02-24T09:10:34.371Z"
   },
   {
    "duration": 163,
    "start_time": "2022-02-24T09:10:34.379Z"
   },
   {
    "duration": 9,
    "start_time": "2022-02-24T09:10:34.544Z"
   },
   {
    "duration": 25,
    "start_time": "2022-02-24T09:10:34.555Z"
   },
   {
    "duration": 3,
    "start_time": "2022-02-24T09:10:34.583Z"
   },
   {
    "duration": 9,
    "start_time": "2022-02-24T09:10:34.589Z"
   },
   {
    "duration": 47,
    "start_time": "2022-02-24T09:10:34.600Z"
   },
   {
    "duration": 86,
    "start_time": "2022-02-24T09:10:34.648Z"
   },
   {
    "duration": 7,
    "start_time": "2022-02-24T09:10:34.736Z"
   },
   {
    "duration": 15,
    "start_time": "2022-02-24T09:10:34.745Z"
   },
   {
    "duration": 18,
    "start_time": "2022-02-24T09:10:34.762Z"
   },
   {
    "duration": 143,
    "start_time": "2022-02-24T09:10:34.781Z"
   },
   {
    "duration": 10,
    "start_time": "2022-02-24T09:10:34.926Z"
   },
   {
    "duration": 19,
    "start_time": "2022-02-24T09:10:34.938Z"
   },
   {
    "duration": 24,
    "start_time": "2022-02-24T09:10:34.959Z"
   },
   {
    "duration": 10,
    "start_time": "2022-02-24T09:10:34.984Z"
   },
   {
    "duration": 35,
    "start_time": "2022-02-24T09:10:34.996Z"
   },
   {
    "duration": 12,
    "start_time": "2022-02-24T09:10:35.033Z"
   },
   {
    "duration": 12,
    "start_time": "2022-02-24T09:10:35.046Z"
   },
   {
    "duration": 86,
    "start_time": "2022-02-24T09:10:35.060Z"
   },
   {
    "duration": 18,
    "start_time": "2022-02-24T09:10:35.148Z"
   },
   {
    "duration": 1134,
    "start_time": "2022-02-24T09:10:35.168Z"
   },
   {
    "duration": 104,
    "start_time": "2022-02-24T09:10:36.308Z"
   },
   {
    "duration": 3,
    "start_time": "2022-02-24T09:10:36.415Z"
   },
   {
    "duration": 16,
    "start_time": "2022-02-24T09:10:36.420Z"
   },
   {
    "duration": 30,
    "start_time": "2022-02-24T09:10:36.438Z"
   },
   {
    "duration": 12,
    "start_time": "2022-02-24T09:10:36.469Z"
   },
   {
    "duration": 425,
    "start_time": "2022-02-24T09:10:36.483Z"
   },
   {
    "duration": 56,
    "start_time": "2022-02-24T09:10:36.910Z"
   },
   {
    "duration": 3,
    "start_time": "2022-02-24T09:10:36.967Z"
   },
   {
    "duration": 10,
    "start_time": "2022-02-24T09:10:36.971Z"
   },
   {
    "duration": 60,
    "start_time": "2022-02-24T09:10:36.983Z"
   },
   {
    "duration": 13,
    "start_time": "2022-02-24T09:10:37.045Z"
   },
   {
    "duration": 542,
    "start_time": "2022-02-24T09:10:37.059Z"
   },
   {
    "duration": 61,
    "start_time": "2022-02-24T09:10:37.602Z"
   },
   {
    "duration": 3,
    "start_time": "2022-02-24T09:10:37.664Z"
   },
   {
    "duration": 10,
    "start_time": "2022-02-24T09:10:37.668Z"
   },
   {
    "duration": 4,
    "start_time": "2022-02-24T09:10:37.679Z"
   },
   {
    "duration": 5,
    "start_time": "2022-02-24T09:10:37.685Z"
   },
   {
    "duration": 9,
    "start_time": "2022-02-24T09:10:37.692Z"
   },
   {
    "duration": 29,
    "start_time": "2022-02-24T09:10:37.703Z"
   },
   {
    "duration": 12,
    "start_time": "2022-02-24T09:10:37.733Z"
   },
   {
    "duration": 10,
    "start_time": "2022-02-24T09:10:37.746Z"
   },
   {
    "duration": 7,
    "start_time": "2022-02-24T09:10:37.757Z"
   },
   {
    "duration": 9,
    "start_time": "2022-02-24T09:10:37.766Z"
   },
   {
    "duration": 6,
    "start_time": "2022-02-24T09:10:37.776Z"
   },
   {
    "duration": 311,
    "start_time": "2022-02-24T09:10:37.784Z"
   },
   {
    "duration": 306,
    "start_time": "2022-02-24T09:10:38.096Z"
   },
   {
    "duration": 475,
    "start_time": "2022-02-24T09:10:38.404Z"
   },
   {
    "duration": 522,
    "start_time": "2022-02-24T09:10:38.881Z"
   },
   {
    "duration": 11,
    "start_time": "2022-02-24T09:10:39.405Z"
   },
   {
    "duration": 13,
    "start_time": "2022-02-24T09:10:39.418Z"
   },
   {
    "duration": 8,
    "start_time": "2022-02-24T09:10:39.433Z"
   },
   {
    "duration": 494,
    "start_time": "2022-02-24T09:10:39.443Z"
   },
   {
    "duration": 15,
    "start_time": "2022-02-24T09:10:39.939Z"
   },
   {
    "duration": 346,
    "start_time": "2022-02-24T09:10:39.956Z"
   },
   {
    "duration": 14,
    "start_time": "2022-02-24T09:10:40.304Z"
   },
   {
    "duration": 267,
    "start_time": "2022-02-24T09:10:40.330Z"
   },
   {
    "duration": 8,
    "start_time": "2022-02-24T09:10:40.599Z"
   },
   {
    "duration": 20,
    "start_time": "2022-02-24T09:10:40.610Z"
   },
   {
    "duration": 192,
    "start_time": "2022-02-24T09:10:40.632Z"
   },
   {
    "duration": 11,
    "start_time": "2022-02-24T09:10:40.826Z"
   },
   {
    "duration": 6,
    "start_time": "2022-02-24T09:10:40.838Z"
   },
   {
    "duration": 7,
    "start_time": "2022-02-24T09:10:40.846Z"
   },
   {
    "duration": 198,
    "start_time": "2022-02-24T09:10:40.855Z"
   },
   {
    "duration": 11,
    "start_time": "2022-02-24T09:10:41.055Z"
   },
   {
    "duration": 5,
    "start_time": "2022-02-24T09:10:41.068Z"
   },
   {
    "duration": 5,
    "start_time": "2022-02-24T09:10:41.075Z"
   },
   {
    "duration": 317,
    "start_time": "2022-02-24T09:10:41.082Z"
   },
   {
    "duration": 7,
    "start_time": "2022-02-24T09:10:41.401Z"
   },
   {
    "duration": 321,
    "start_time": "2022-02-24T09:10:41.409Z"
   },
   {
    "duration": 14,
    "start_time": "2022-02-24T09:10:41.732Z"
   },
   {
    "duration": 348,
    "start_time": "2022-02-24T09:10:41.748Z"
   },
   {
    "duration": 13,
    "start_time": "2022-02-24T09:10:42.098Z"
   },
   {
    "duration": 187,
    "start_time": "2022-02-24T09:10:42.112Z"
   },
   {
    "duration": 7,
    "start_time": "2022-02-24T09:10:42.300Z"
   },
   {
    "duration": 18,
    "start_time": "2022-02-24T09:10:42.313Z"
   },
   {
    "duration": 243,
    "start_time": "2022-02-24T09:10:42.333Z"
   },
   {
    "duration": 10,
    "start_time": "2022-02-24T09:10:42.578Z"
   },
   {
    "duration": 8,
    "start_time": "2022-02-24T09:10:42.590Z"
   },
   {
    "duration": 9,
    "start_time": "2022-02-24T09:10:42.600Z"
   },
   {
    "duration": 214,
    "start_time": "2022-02-24T09:10:42.610Z"
   },
   {
    "duration": 11,
    "start_time": "2022-02-24T09:10:42.826Z"
   },
   {
    "duration": 7,
    "start_time": "2022-02-24T09:10:42.838Z"
   },
   {
    "duration": 7,
    "start_time": "2022-02-24T09:10:42.846Z"
   },
   {
    "duration": 188,
    "start_time": "2022-02-24T09:10:42.855Z"
   },
   {
    "duration": 6,
    "start_time": "2022-02-24T09:10:43.045Z"
   },
   {
    "duration": 236,
    "start_time": "2022-02-24T09:10:43.053Z"
   },
   {
    "duration": 11,
    "start_time": "2022-02-24T09:10:43.291Z"
   },
   {
    "duration": 236,
    "start_time": "2022-02-24T09:10:43.304Z"
   },
   {
    "duration": 12,
    "start_time": "2022-02-24T09:10:43.542Z"
   },
   {
    "duration": 194,
    "start_time": "2022-02-24T09:10:43.556Z"
   },
   {
    "duration": 7,
    "start_time": "2022-02-24T09:10:43.752Z"
   },
   {
    "duration": 15,
    "start_time": "2022-02-24T09:10:43.760Z"
   },
   {
    "duration": 188,
    "start_time": "2022-02-24T09:10:43.776Z"
   },
   {
    "duration": 13,
    "start_time": "2022-02-24T09:10:43.965Z"
   },
   {
    "duration": 10,
    "start_time": "2022-02-24T09:10:43.979Z"
   },
   {
    "duration": 8,
    "start_time": "2022-02-24T09:10:43.990Z"
   },
   {
    "duration": 198,
    "start_time": "2022-02-24T09:10:44.000Z"
   },
   {
    "duration": 11,
    "start_time": "2022-02-24T09:10:44.200Z"
   },
   {
    "duration": 22,
    "start_time": "2022-02-24T09:10:44.213Z"
   },
   {
    "duration": 7,
    "start_time": "2022-02-24T09:10:44.236Z"
   },
   {
    "duration": 174,
    "start_time": "2022-02-24T09:10:44.245Z"
   },
   {
    "duration": 6,
    "start_time": "2022-02-24T09:10:44.420Z"
   },
   {
    "duration": 7,
    "start_time": "2022-02-24T09:10:44.430Z"
   },
   {
    "duration": 11,
    "start_time": "2022-02-24T09:10:44.438Z"
   },
   {
    "duration": 9,
    "start_time": "2022-02-24T09:10:44.450Z"
   },
   {
    "duration": 4,
    "start_time": "2022-02-24T09:10:44.461Z"
   },
   {
    "duration": 5,
    "start_time": "2022-02-24T09:10:44.466Z"
   },
   {
    "duration": 457,
    "start_time": "2022-02-24T09:10:44.473Z"
   },
   {
    "duration": 8,
    "start_time": "2022-02-24T09:10:44.932Z"
   },
   {
    "duration": 9,
    "start_time": "2022-02-24T09:10:44.942Z"
   },
   {
    "duration": 8,
    "start_time": "2022-02-24T09:10:44.953Z"
   },
   {
    "duration": 8,
    "start_time": "2022-02-24T09:10:44.963Z"
   },
   {
    "duration": 311,
    "start_time": "2022-02-24T09:10:44.973Z"
   },
   {
    "duration": 14,
    "start_time": "2022-02-24T09:10:45.286Z"
   },
   {
    "duration": 5,
    "start_time": "2022-02-24T09:10:45.302Z"
   },
   {
    "duration": 7,
    "start_time": "2022-02-24T10:57:27.402Z"
   },
   {
    "duration": 6,
    "start_time": "2022-02-24T11:17:50.158Z"
   },
   {
    "duration": 84,
    "start_time": "2022-02-24T11:18:05.256Z"
   },
   {
    "duration": 42,
    "start_time": "2022-02-24T11:18:18.177Z"
   },
   {
    "duration": 34,
    "start_time": "2022-02-24T11:18:26.324Z"
   },
   {
    "duration": 32,
    "start_time": "2022-02-24T11:18:36.371Z"
   },
   {
    "duration": 6,
    "start_time": "2022-02-24T11:18:49.202Z"
   },
   {
    "duration": 59,
    "start_time": "2022-02-24T13:27:32.396Z"
   },
   {
    "duration": 264,
    "start_time": "2022-02-24T13:36:19.266Z"
   },
   {
    "duration": 307,
    "start_time": "2022-02-24T13:36:32.107Z"
   },
   {
    "duration": 220,
    "start_time": "2022-02-24T13:36:38.376Z"
   },
   {
    "duration": 8,
    "start_time": "2022-02-24T13:36:43.106Z"
   },
   {
    "duration": 5,
    "start_time": "2022-02-24T13:37:25.326Z"
   },
   {
    "duration": 4,
    "start_time": "2022-02-24T13:38:19.398Z"
   },
   {
    "duration": 21,
    "start_time": "2022-02-24T13:57:00.750Z"
   },
   {
    "duration": 536,
    "start_time": "2022-02-24T13:57:29.779Z"
   },
   {
    "duration": 17,
    "start_time": "2022-02-24T13:57:30.316Z"
   },
   {
    "duration": 16,
    "start_time": "2022-02-24T13:57:30.335Z"
   },
   {
    "duration": 14,
    "start_time": "2022-02-24T13:57:30.353Z"
   },
   {
    "duration": 16,
    "start_time": "2022-02-24T13:57:30.369Z"
   },
   {
    "duration": 9,
    "start_time": "2022-02-24T13:57:30.387Z"
   },
   {
    "duration": 9,
    "start_time": "2022-02-24T13:57:30.398Z"
   },
   {
    "duration": 136,
    "start_time": "2022-02-24T13:57:30.409Z"
   },
   {
    "duration": 8,
    "start_time": "2022-02-24T13:57:30.547Z"
   },
   {
    "duration": 23,
    "start_time": "2022-02-24T13:57:30.556Z"
   },
   {
    "duration": 9,
    "start_time": "2022-02-24T13:57:30.581Z"
   },
   {
    "duration": 12,
    "start_time": "2022-02-24T13:57:30.592Z"
   },
   {
    "duration": 43,
    "start_time": "2022-02-24T13:57:30.606Z"
   },
   {
    "duration": 91,
    "start_time": "2022-02-24T13:57:30.651Z"
   },
   {
    "duration": 86,
    "start_time": "2022-02-24T13:57:30.744Z"
   },
   {
    "duration": 8,
    "start_time": "2022-02-24T13:57:30.832Z"
   },
   {
    "duration": 31,
    "start_time": "2022-02-24T13:57:30.842Z"
   },
   {
    "duration": 38,
    "start_time": "2022-02-24T13:57:30.875Z"
   },
   {
    "duration": 46,
    "start_time": "2022-02-24T13:57:30.915Z"
   },
   {
    "duration": 120,
    "start_time": "2022-02-24T13:57:30.962Z"
   },
   {
    "duration": 8,
    "start_time": "2022-02-24T13:57:31.084Z"
   },
   {
    "duration": 23,
    "start_time": "2022-02-24T13:57:31.094Z"
   },
   {
    "duration": 28,
    "start_time": "2022-02-24T13:57:31.120Z"
   },
   {
    "duration": 7,
    "start_time": "2022-02-24T13:57:31.151Z"
   },
   {
    "duration": 48,
    "start_time": "2022-02-24T13:57:31.160Z"
   },
   {
    "duration": 9,
    "start_time": "2022-02-24T13:57:31.210Z"
   },
   {
    "duration": 16,
    "start_time": "2022-02-24T13:57:31.221Z"
   },
   {
    "duration": 7,
    "start_time": "2022-02-24T13:57:31.239Z"
   },
   {
    "duration": 68,
    "start_time": "2022-02-24T13:57:31.248Z"
   },
   {
    "duration": 23,
    "start_time": "2022-02-24T13:57:31.317Z"
   },
   {
    "duration": 688,
    "start_time": "2022-02-24T13:57:31.342Z"
   },
   {
    "duration": 75,
    "start_time": "2022-02-24T13:57:32.032Z"
   },
   {
    "duration": 3,
    "start_time": "2022-02-24T13:57:32.109Z"
   },
   {
    "duration": 24,
    "start_time": "2022-02-24T13:57:32.114Z"
   },
   {
    "duration": 34,
    "start_time": "2022-02-24T13:57:32.140Z"
   },
   {
    "duration": 12,
    "start_time": "2022-02-24T13:57:32.176Z"
   },
   {
    "duration": 418,
    "start_time": "2022-02-24T13:57:32.190Z"
   },
   {
    "duration": 55,
    "start_time": "2022-02-24T13:57:32.610Z"
   },
   {
    "duration": 3,
    "start_time": "2022-02-24T13:57:32.666Z"
   },
   {
    "duration": 13,
    "start_time": "2022-02-24T13:57:32.671Z"
   },
   {
    "duration": 50,
    "start_time": "2022-02-24T13:57:32.686Z"
   },
   {
    "duration": 13,
    "start_time": "2022-02-24T13:57:32.738Z"
   },
   {
    "duration": 531,
    "start_time": "2022-02-24T13:57:32.753Z"
   },
   {
    "duration": 57,
    "start_time": "2022-02-24T13:57:33.286Z"
   },
   {
    "duration": 3,
    "start_time": "2022-02-24T13:57:33.345Z"
   },
   {
    "duration": 6,
    "start_time": "2022-02-24T13:57:33.350Z"
   },
   {
    "duration": 5,
    "start_time": "2022-02-24T13:57:33.357Z"
   },
   {
    "duration": 5,
    "start_time": "2022-02-24T13:57:33.363Z"
   },
   {
    "duration": 17,
    "start_time": "2022-02-24T13:57:33.370Z"
   },
   {
    "duration": 18,
    "start_time": "2022-02-24T13:57:33.389Z"
   },
   {
    "duration": 33,
    "start_time": "2022-02-24T13:57:33.409Z"
   },
   {
    "duration": 11,
    "start_time": "2022-02-24T13:57:33.444Z"
   },
   {
    "duration": 6,
    "start_time": "2022-02-24T13:57:33.457Z"
   },
   {
    "duration": 9,
    "start_time": "2022-02-24T13:57:33.465Z"
   },
   {
    "duration": 5,
    "start_time": "2022-02-24T13:57:33.475Z"
   },
   {
    "duration": 317,
    "start_time": "2022-02-24T13:57:33.482Z"
   },
   {
    "duration": 291,
    "start_time": "2022-02-24T13:57:33.801Z"
   },
   {
    "duration": 282,
    "start_time": "2022-02-24T13:57:34.093Z"
   },
   {
    "duration": 306,
    "start_time": "2022-02-24T13:57:34.377Z"
   },
   {
    "duration": 20,
    "start_time": "2022-02-24T13:57:34.685Z"
   },
   {
    "duration": 5,
    "start_time": "2022-02-24T13:57:34.707Z"
   },
   {
    "duration": 21,
    "start_time": "2022-02-24T13:57:34.713Z"
   },
   {
    "duration": 340,
    "start_time": "2022-02-24T13:57:34.736Z"
   },
   {
    "duration": 10,
    "start_time": "2022-02-24T13:57:35.078Z"
   },
   {
    "duration": 232,
    "start_time": "2022-02-24T13:57:35.090Z"
   },
   {
    "duration": 15,
    "start_time": "2022-02-24T13:57:35.323Z"
   },
   {
    "duration": 189,
    "start_time": "2022-02-24T13:57:35.339Z"
   },
   {
    "duration": 7,
    "start_time": "2022-02-24T13:57:35.533Z"
   },
   {
    "duration": 7,
    "start_time": "2022-02-24T13:57:35.542Z"
   },
   {
    "duration": 197,
    "start_time": "2022-02-24T13:57:35.550Z"
   },
   {
    "duration": 10,
    "start_time": "2022-02-24T13:57:35.749Z"
   },
   {
    "duration": 6,
    "start_time": "2022-02-24T13:57:35.760Z"
   },
   {
    "duration": 7,
    "start_time": "2022-02-24T13:57:35.768Z"
   },
   {
    "duration": 200,
    "start_time": "2022-02-24T13:57:35.777Z"
   },
   {
    "duration": 12,
    "start_time": "2022-02-24T13:57:35.979Z"
   },
   {
    "duration": 8,
    "start_time": "2022-02-24T13:57:35.992Z"
   },
   {
    "duration": 13,
    "start_time": "2022-02-24T13:57:36.002Z"
   },
   {
    "duration": 212,
    "start_time": "2022-02-24T13:57:36.030Z"
   },
   {
    "duration": 7,
    "start_time": "2022-02-24T13:57:36.243Z"
   },
   {
    "duration": 232,
    "start_time": "2022-02-24T13:57:36.252Z"
   },
   {
    "duration": 11,
    "start_time": "2022-02-24T13:57:36.485Z"
   },
   {
    "duration": 234,
    "start_time": "2022-02-24T13:57:36.498Z"
   },
   {
    "duration": 11,
    "start_time": "2022-02-24T13:57:36.733Z"
   },
   {
    "duration": 181,
    "start_time": "2022-02-24T13:57:36.746Z"
   },
   {
    "duration": 6,
    "start_time": "2022-02-24T13:57:36.930Z"
   },
   {
    "duration": 8,
    "start_time": "2022-02-24T13:57:36.938Z"
   },
   {
    "duration": 266,
    "start_time": "2022-02-24T13:57:36.948Z"
   },
   {
    "duration": 16,
    "start_time": "2022-02-24T13:57:37.216Z"
   },
   {
    "duration": 6,
    "start_time": "2022-02-24T13:57:37.233Z"
   },
   {
    "duration": 9,
    "start_time": "2022-02-24T13:57:37.240Z"
   },
   {
    "duration": 208,
    "start_time": "2022-02-24T13:57:37.251Z"
   },
   {
    "duration": 12,
    "start_time": "2022-02-24T13:57:37.461Z"
   },
   {
    "duration": 5,
    "start_time": "2022-02-24T13:57:37.474Z"
   },
   {
    "duration": 7,
    "start_time": "2022-02-24T13:57:37.480Z"
   },
   {
    "duration": 174,
    "start_time": "2022-02-24T13:57:37.488Z"
   },
   {
    "duration": 6,
    "start_time": "2022-02-24T13:57:37.664Z"
   },
   {
    "duration": 229,
    "start_time": "2022-02-24T13:57:37.672Z"
   },
   {
    "duration": 10,
    "start_time": "2022-02-24T13:57:37.903Z"
   },
   {
    "duration": 223,
    "start_time": "2022-02-24T13:57:37.915Z"
   },
   {
    "duration": 12,
    "start_time": "2022-02-24T13:57:38.140Z"
   },
   {
    "duration": 187,
    "start_time": "2022-02-24T13:57:38.154Z"
   },
   {
    "duration": 7,
    "start_time": "2022-02-24T13:57:38.342Z"
   },
   {
    "duration": 9,
    "start_time": "2022-02-24T13:57:38.350Z"
   },
   {
    "duration": 198,
    "start_time": "2022-02-24T13:57:38.361Z"
   },
   {
    "duration": 12,
    "start_time": "2022-02-24T13:57:38.562Z"
   },
   {
    "duration": 6,
    "start_time": "2022-02-24T13:57:38.575Z"
   },
   {
    "duration": 12,
    "start_time": "2022-02-24T13:57:38.582Z"
   },
   {
    "duration": 199,
    "start_time": "2022-02-24T13:57:38.596Z"
   },
   {
    "duration": 18,
    "start_time": "2022-02-24T13:57:38.797Z"
   },
   {
    "duration": 14,
    "start_time": "2022-02-24T13:57:38.818Z"
   },
   {
    "duration": 6,
    "start_time": "2022-02-24T13:57:38.834Z"
   },
   {
    "duration": 202,
    "start_time": "2022-02-24T13:57:38.843Z"
   },
   {
    "duration": 8,
    "start_time": "2022-02-24T13:57:39.047Z"
   },
   {
    "duration": 10,
    "start_time": "2022-02-24T13:57:39.056Z"
   },
   {
    "duration": 15,
    "start_time": "2022-02-24T13:57:39.067Z"
   },
   {
    "duration": 7,
    "start_time": "2022-02-24T13:57:39.084Z"
   },
   {
    "duration": 451,
    "start_time": "2022-02-24T13:57:39.093Z"
   },
   {
    "duration": 6,
    "start_time": "2022-02-24T13:57:39.546Z"
   },
   {
    "duration": 9,
    "start_time": "2022-02-24T13:57:39.554Z"
   },
   {
    "duration": 11,
    "start_time": "2022-02-24T13:57:39.565Z"
   },
   {
    "duration": 16,
    "start_time": "2022-02-24T13:57:39.578Z"
   },
   {
    "duration": 301,
    "start_time": "2022-02-24T13:57:39.596Z"
   },
   {
    "duration": 11,
    "start_time": "2022-02-24T13:57:39.899Z"
   },
   {
    "duration": 20,
    "start_time": "2022-02-24T13:57:39.912Z"
   },
   {
    "duration": 29,
    "start_time": "2022-02-24T13:58:28.062Z"
   },
   {
    "duration": 21,
    "start_time": "2022-02-24T13:58:53.411Z"
   },
   {
    "duration": 189,
    "start_time": "2022-02-24T14:41:24.506Z"
   },
   {
    "duration": 7,
    "start_time": "2022-02-24T16:36:59.396Z"
   },
   {
    "duration": 63,
    "start_time": "2022-02-24T16:48:13.099Z"
   },
   {
    "duration": 3,
    "start_time": "2022-02-24T16:48:22.615Z"
   },
   {
    "duration": 4,
    "start_time": "2022-02-24T16:48:41.351Z"
   },
   {
    "duration": 4,
    "start_time": "2022-02-24T16:49:15.683Z"
   },
   {
    "duration": 8,
    "start_time": "2022-02-24T16:50:04.637Z"
   },
   {
    "duration": 193,
    "start_time": "2022-02-24T16:50:30.974Z"
   },
   {
    "duration": 203,
    "start_time": "2022-02-24T16:50:38.723Z"
   },
   {
    "duration": 197,
    "start_time": "2022-02-24T16:50:41.110Z"
   },
   {
    "duration": 174,
    "start_time": "2022-02-24T16:50:44.238Z"
   },
   {
    "duration": 170,
    "start_time": "2022-02-24T16:50:47.861Z"
   },
   {
    "duration": 187,
    "start_time": "2022-02-24T16:51:17.175Z"
   },
   {
    "duration": 264,
    "start_time": "2022-02-24T16:51:23.225Z"
   },
   {
    "duration": 204,
    "start_time": "2022-02-24T16:51:34.217Z"
   },
   {
    "duration": 416,
    "start_time": "2022-02-24T16:54:30.303Z"
   },
   {
    "duration": 344,
    "start_time": "2022-02-24T16:54:38.449Z"
   },
   {
    "duration": 185,
    "start_time": "2022-02-24T16:54:48.954Z"
   },
   {
    "duration": 320,
    "start_time": "2022-02-24T16:55:10.543Z"
   },
   {
    "duration": 317,
    "start_time": "2022-02-24T16:55:19.548Z"
   },
   {
    "duration": 235,
    "start_time": "2022-02-24T17:00:20.431Z"
   },
   {
    "duration": 377,
    "start_time": "2022-02-24T17:01:34.406Z"
   },
   {
    "duration": 185,
    "start_time": "2022-02-24T17:03:42.919Z"
   },
   {
    "duration": 180,
    "start_time": "2022-02-24T17:03:50.908Z"
   },
   {
    "duration": 198,
    "start_time": "2022-02-24T17:03:53.132Z"
   },
   {
    "duration": 195,
    "start_time": "2022-02-24T17:04:02.521Z"
   },
   {
    "duration": 194,
    "start_time": "2022-02-24T17:04:07.970Z"
   },
   {
    "duration": 203,
    "start_time": "2022-02-24T17:04:15.334Z"
   },
   {
    "duration": 185,
    "start_time": "2022-02-24T17:04:17.906Z"
   },
   {
    "duration": 224,
    "start_time": "2022-02-24T17:14:20.170Z"
   },
   {
    "duration": 126,
    "start_time": "2022-02-24T17:14:50.299Z"
   },
   {
    "duration": 9,
    "start_time": "2022-02-24T17:17:30.088Z"
   },
   {
    "duration": 206,
    "start_time": "2022-02-24T17:18:05.726Z"
   },
   {
    "duration": 122,
    "start_time": "2022-02-24T17:18:28.588Z"
   },
   {
    "duration": 122,
    "start_time": "2022-02-24T17:18:35.179Z"
   },
   {
    "duration": 127,
    "start_time": "2022-02-24T17:18:42.273Z"
   },
   {
    "duration": 177,
    "start_time": "2022-02-24T17:21:03.611Z"
   },
   {
    "duration": 60,
    "start_time": "2022-02-24T17:42:43.232Z"
   },
   {
    "duration": 16,
    "start_time": "2022-02-24T17:42:47.662Z"
   },
   {
    "duration": 6,
    "start_time": "2022-02-24T17:42:54.593Z"
   },
   {
    "duration": 7,
    "start_time": "2022-02-24T17:43:02.757Z"
   },
   {
    "duration": 91,
    "start_time": "2022-02-24T17:43:55.389Z"
   },
   {
    "duration": 5,
    "start_time": "2022-02-24T17:43:58.197Z"
   },
   {
    "duration": 6,
    "start_time": "2022-02-24T17:44:05.268Z"
   },
   {
    "duration": 6,
    "start_time": "2022-02-24T17:44:10.157Z"
   },
   {
    "duration": 129,
    "start_time": "2022-02-24T18:01:18.723Z"
   },
   {
    "duration": 134,
    "start_time": "2022-02-24T18:02:12.238Z"
   },
   {
    "duration": 182,
    "start_time": "2022-02-24T18:05:26.019Z"
   },
   {
    "duration": 163,
    "start_time": "2022-02-24T18:05:31.674Z"
   },
   {
    "duration": 167,
    "start_time": "2022-02-24T18:05:36.035Z"
   },
   {
    "duration": 188,
    "start_time": "2022-02-24T18:11:44.145Z"
   },
   {
    "duration": 186,
    "start_time": "2022-02-24T18:11:47.129Z"
   },
   {
    "duration": 213,
    "start_time": "2022-02-24T18:11:53.846Z"
   },
   {
    "duration": 121,
    "start_time": "2022-02-24T18:12:51.159Z"
   },
   {
    "duration": 186,
    "start_time": "2022-02-24T18:22:59.646Z"
   },
   {
    "duration": 194,
    "start_time": "2022-02-24T18:23:02.719Z"
   },
   {
    "duration": 198,
    "start_time": "2022-02-24T18:23:05.683Z"
   },
   {
    "duration": 306,
    "start_time": "2022-02-24T18:23:09.758Z"
   },
   {
    "duration": 186,
    "start_time": "2022-02-24T18:24:16.092Z"
   },
   {
    "duration": 130,
    "start_time": "2022-02-24T18:24:36.790Z"
   },
   {
    "duration": 201,
    "start_time": "2022-02-24T18:24:55.444Z"
   },
   {
    "duration": 188,
    "start_time": "2022-02-24T18:27:32.530Z"
   },
   {
    "duration": 205,
    "start_time": "2022-02-24T18:28:22.066Z"
   },
   {
    "duration": 203,
    "start_time": "2022-02-24T18:28:30.229Z"
   },
   {
    "duration": 10,
    "start_time": "2022-02-24T18:29:42.862Z"
   },
   {
    "duration": 5,
    "start_time": "2022-02-24T18:29:50.813Z"
   },
   {
    "duration": 181,
    "start_time": "2022-02-24T18:29:57.335Z"
   },
   {
    "duration": 131,
    "start_time": "2022-02-24T18:30:04.661Z"
   },
   {
    "duration": 6,
    "start_time": "2022-02-24T18:30:12.072Z"
   },
   {
    "duration": 140,
    "start_time": "2022-02-24T18:30:12.330Z"
   },
   {
    "duration": 6,
    "start_time": "2022-02-24T18:30:26.332Z"
   },
   {
    "duration": 143,
    "start_time": "2022-02-24T18:30:28.130Z"
   },
   {
    "duration": 6,
    "start_time": "2022-02-24T18:30:36.260Z"
   },
   {
    "duration": 131,
    "start_time": "2022-02-24T18:30:37.606Z"
   },
   {
    "duration": 161,
    "start_time": "2022-02-24T18:32:23.725Z"
   },
   {
    "duration": 134,
    "start_time": "2022-02-24T18:32:34.085Z"
   },
   {
    "duration": 128,
    "start_time": "2022-02-24T18:32:45.437Z"
   },
   {
    "duration": 184,
    "start_time": "2022-02-24T18:34:07.439Z"
   },
   {
    "duration": 127,
    "start_time": "2022-02-24T18:34:16.886Z"
   },
   {
    "duration": 123,
    "start_time": "2022-02-24T18:34:23.239Z"
   },
   {
    "duration": 173,
    "start_time": "2022-02-24T18:40:13.072Z"
   },
   {
    "duration": 165,
    "start_time": "2022-02-24T18:40:21.636Z"
   },
   {
    "duration": 169,
    "start_time": "2022-02-24T18:41:27.757Z"
   },
   {
    "duration": 166,
    "start_time": "2022-02-24T18:41:32.041Z"
   },
   {
    "duration": 300,
    "start_time": "2022-02-24T18:41:35.242Z"
   },
   {
    "duration": 175,
    "start_time": "2022-02-24T18:41:46.703Z"
   },
   {
    "duration": 176,
    "start_time": "2022-02-24T18:56:14.569Z"
   },
   {
    "duration": 168,
    "start_time": "2022-02-24T18:56:16.855Z"
   },
   {
    "duration": 180,
    "start_time": "2022-02-24T18:56:18.831Z"
   },
   {
    "duration": 185,
    "start_time": "2022-02-24T19:00:10.615Z"
   },
   {
    "duration": 124,
    "start_time": "2022-02-24T19:01:05.435Z"
   },
   {
    "duration": 117,
    "start_time": "2022-02-24T19:27:18.886Z"
   },
   {
    "duration": 167,
    "start_time": "2022-02-24T19:27:50.586Z"
   },
   {
    "duration": 175,
    "start_time": "2022-02-24T19:27:53.869Z"
   },
   {
    "duration": 176,
    "start_time": "2022-02-24T19:27:56.749Z"
   },
   {
    "duration": 171,
    "start_time": "2022-02-24T19:33:00.882Z"
   },
   {
    "duration": 431,
    "start_time": "2022-02-25T09:41:21.583Z"
   },
   {
    "duration": 841,
    "start_time": "2022-02-25T09:41:26.869Z"
   },
   {
    "duration": 44,
    "start_time": "2022-02-25T09:41:27.713Z"
   },
   {
    "duration": 23,
    "start_time": "2022-02-25T09:41:27.760Z"
   },
   {
    "duration": 7,
    "start_time": "2022-02-25T09:41:27.786Z"
   },
   {
    "duration": 10,
    "start_time": "2022-02-25T09:41:27.795Z"
   },
   {
    "duration": 10,
    "start_time": "2022-02-25T09:41:27.808Z"
   },
   {
    "duration": 4,
    "start_time": "2022-02-25T09:41:27.821Z"
   },
   {
    "duration": 13,
    "start_time": "2022-02-25T09:41:27.829Z"
   },
   {
    "duration": 6,
    "start_time": "2022-02-25T09:41:27.845Z"
   },
   {
    "duration": 233,
    "start_time": "2022-02-25T09:41:27.854Z"
   },
   {
    "duration": 11,
    "start_time": "2022-02-25T09:41:28.089Z"
   },
   {
    "duration": 34,
    "start_time": "2022-02-25T09:41:28.102Z"
   },
   {
    "duration": 5,
    "start_time": "2022-02-25T09:41:28.138Z"
   },
   {
    "duration": 11,
    "start_time": "2022-02-25T09:41:28.146Z"
   },
   {
    "duration": 79,
    "start_time": "2022-02-25T09:41:28.160Z"
   },
   {
    "duration": 126,
    "start_time": "2022-02-25T09:41:28.242Z"
   },
   {
    "duration": 119,
    "start_time": "2022-02-25T09:41:28.370Z"
   },
   {
    "duration": 10,
    "start_time": "2022-02-25T09:41:28.491Z"
   },
   {
    "duration": 18,
    "start_time": "2022-02-25T09:41:28.511Z"
   },
   {
    "duration": 24,
    "start_time": "2022-02-25T09:41:28.531Z"
   },
   {
    "duration": 82,
    "start_time": "2022-02-25T09:41:28.557Z"
   },
   {
    "duration": 161,
    "start_time": "2022-02-25T09:41:28.641Z"
   },
   {
    "duration": 11,
    "start_time": "2022-02-25T09:41:28.808Z"
   },
   {
    "duration": 22,
    "start_time": "2022-02-25T09:41:28.823Z"
   },
   {
    "duration": 29,
    "start_time": "2022-02-25T09:41:28.848Z"
   },
   {
    "duration": 40,
    "start_time": "2022-02-25T09:41:28.879Z"
   },
   {
    "duration": 54,
    "start_time": "2022-02-25T09:41:28.921Z"
   },
   {
    "duration": 19,
    "start_time": "2022-02-25T09:41:28.977Z"
   },
   {
    "duration": 11,
    "start_time": "2022-02-25T09:41:29.011Z"
   },
   {
    "duration": 9,
    "start_time": "2022-02-25T09:41:29.024Z"
   },
   {
    "duration": 133,
    "start_time": "2022-02-25T09:41:29.036Z"
   },
   {
    "duration": 21,
    "start_time": "2022-02-25T09:41:29.172Z"
   },
   {
    "duration": 1044,
    "start_time": "2022-02-25T09:41:29.195Z"
   },
   {
    "duration": 118,
    "start_time": "2022-02-25T09:41:30.241Z"
   },
   {
    "duration": 3,
    "start_time": "2022-02-25T09:41:30.362Z"
   },
   {
    "duration": 14,
    "start_time": "2022-02-25T09:41:30.368Z"
   },
   {
    "duration": 75,
    "start_time": "2022-02-25T09:41:30.385Z"
   },
   {
    "duration": 18,
    "start_time": "2022-02-25T09:41:30.463Z"
   },
   {
    "duration": 627,
    "start_time": "2022-02-25T09:41:30.483Z"
   },
   {
    "duration": 65,
    "start_time": "2022-02-25T09:41:31.113Z"
   },
   {
    "duration": 3,
    "start_time": "2022-02-25T09:41:31.181Z"
   },
   {
    "duration": 31,
    "start_time": "2022-02-25T09:41:31.186Z"
   },
   {
    "duration": 70,
    "start_time": "2022-02-25T09:41:31.220Z"
   },
   {
    "duration": 34,
    "start_time": "2022-02-25T09:41:31.292Z"
   },
   {
    "duration": 784,
    "start_time": "2022-02-25T09:41:31.329Z"
   },
   {
    "duration": 76,
    "start_time": "2022-02-25T09:41:32.115Z"
   },
   {
    "duration": 3,
    "start_time": "2022-02-25T09:41:32.193Z"
   },
   {
    "duration": 5,
    "start_time": "2022-02-25T09:41:32.211Z"
   },
   {
    "duration": 6,
    "start_time": "2022-02-25T09:41:32.218Z"
   },
   {
    "duration": 7,
    "start_time": "2022-02-25T09:41:32.227Z"
   },
   {
    "duration": 13,
    "start_time": "2022-02-25T09:41:32.237Z"
   },
   {
    "duration": 68,
    "start_time": "2022-02-25T09:41:32.252Z"
   },
   {
    "duration": 19,
    "start_time": "2022-02-25T09:41:32.323Z"
   },
   {
    "duration": 15,
    "start_time": "2022-02-25T09:41:32.344Z"
   },
   {
    "duration": 9,
    "start_time": "2022-02-25T09:41:32.361Z"
   },
   {
    "duration": 42,
    "start_time": "2022-02-25T09:41:32.373Z"
   },
   {
    "duration": 6,
    "start_time": "2022-02-25T09:41:32.417Z"
   },
   {
    "duration": 607,
    "start_time": "2022-02-25T09:41:32.426Z"
   },
   {
    "duration": 575,
    "start_time": "2022-02-25T09:41:33.035Z"
   },
   {
    "duration": 582,
    "start_time": "2022-02-25T09:41:33.613Z"
   },
   {
    "duration": 627,
    "start_time": "2022-02-25T09:41:34.198Z"
   },
   {
    "duration": 34,
    "start_time": "2022-02-25T09:41:34.827Z"
   },
   {
    "duration": 7,
    "start_time": "2022-02-25T09:41:34.864Z"
   },
   {
    "duration": 39,
    "start_time": "2022-02-25T09:41:34.874Z"
   },
   {
    "duration": 11,
    "start_time": "2022-02-25T09:41:34.916Z"
   },
   {
    "duration": 526,
    "start_time": "2022-02-25T09:41:34.929Z"
   },
   {
    "duration": 16,
    "start_time": "2022-02-25T09:41:35.457Z"
   },
   {
    "duration": 450,
    "start_time": "2022-02-25T09:41:35.484Z"
   },
   {
    "duration": 17,
    "start_time": "2022-02-25T09:41:35.938Z"
   },
   {
    "duration": 323,
    "start_time": "2022-02-25T09:41:35.957Z"
   },
   {
    "duration": 10,
    "start_time": "2022-02-25T09:41:36.282Z"
   },
   {
    "duration": 18,
    "start_time": "2022-02-25T09:41:36.295Z"
   },
   {
    "duration": 24,
    "start_time": "2022-02-25T09:41:36.316Z"
   },
   {
    "duration": 341,
    "start_time": "2022-02-25T09:41:36.343Z"
   },
   {
    "duration": 232,
    "start_time": "2022-02-25T09:41:36.687Z"
   },
   {
    "duration": 17,
    "start_time": "2022-02-25T09:41:36.922Z"
   },
   {
    "duration": 10,
    "start_time": "2022-02-25T09:41:36.941Z"
   },
   {
    "duration": 13,
    "start_time": "2022-02-25T09:41:36.953Z"
   },
   {
    "duration": 373,
    "start_time": "2022-02-25T09:41:36.969Z"
   },
   {
    "duration": 246,
    "start_time": "2022-02-25T09:41:37.345Z"
   },
   {
    "duration": 28,
    "start_time": "2022-02-25T09:41:37.593Z"
   },
   {
    "duration": 6,
    "start_time": "2022-02-25T09:41:37.623Z"
   },
   {
    "duration": 7,
    "start_time": "2022-02-25T09:41:37.632Z"
   },
   {
    "duration": 345,
    "start_time": "2022-02-25T09:41:37.642Z"
   },
   {
    "duration": 27,
    "start_time": "2022-02-25T09:41:37.990Z"
   },
   {
    "duration": 383,
    "start_time": "2022-02-25T09:41:38.019Z"
   },
   {
    "duration": 22,
    "start_time": "2022-02-25T09:41:38.405Z"
   },
   {
    "duration": 443,
    "start_time": "2022-02-25T09:41:38.429Z"
   },
   {
    "duration": 16,
    "start_time": "2022-02-25T09:41:38.874Z"
   },
   {
    "duration": 305,
    "start_time": "2022-02-25T09:41:38.911Z"
   },
   {
    "duration": 9,
    "start_time": "2022-02-25T09:41:39.219Z"
   },
   {
    "duration": 14,
    "start_time": "2022-02-25T09:41:39.230Z"
   },
   {
    "duration": 967,
    "start_time": "2022-02-25T09:41:39.246Z"
   },
   {
    "duration": 280,
    "start_time": "2022-02-25T09:41:40.216Z"
   },
   {
    "duration": 25,
    "start_time": "2022-02-25T09:41:40.499Z"
   },
   {
    "duration": 8,
    "start_time": "2022-02-25T09:41:40.527Z"
   },
   {
    "duration": 11,
    "start_time": "2022-02-25T09:41:40.538Z"
   },
   {
    "duration": 268,
    "start_time": "2022-02-25T09:41:40.552Z"
   },
   {
    "duration": 376,
    "start_time": "2022-02-25T09:41:40.822Z"
   },
   {
    "duration": 237,
    "start_time": "2022-02-25T09:41:41.200Z"
   },
   {
    "duration": 17,
    "start_time": "2022-02-25T09:41:41.440Z"
   },
   {
    "duration": 9,
    "start_time": "2022-02-25T09:41:41.460Z"
   },
   {
    "duration": 39,
    "start_time": "2022-02-25T09:41:41.472Z"
   },
   {
    "duration": 302,
    "start_time": "2022-02-25T09:41:41.513Z"
   },
   {
    "duration": 12,
    "start_time": "2022-02-25T09:41:41.818Z"
   },
   {
    "duration": 393,
    "start_time": "2022-02-25T09:41:41.833Z"
   },
   {
    "duration": 18,
    "start_time": "2022-02-25T09:41:42.228Z"
   },
   {
    "duration": 562,
    "start_time": "2022-02-25T09:41:42.249Z"
   },
   {
    "duration": 23,
    "start_time": "2022-02-25T09:41:42.814Z"
   },
   {
    "duration": 432,
    "start_time": "2022-02-25T09:41:42.840Z"
   },
   {
    "duration": 12,
    "start_time": "2022-02-25T09:41:43.275Z"
   },
   {
    "duration": 27,
    "start_time": "2022-02-25T09:41:43.290Z"
   },
   {
    "duration": 606,
    "start_time": "2022-02-25T09:41:43.320Z"
   },
   {
    "duration": 378,
    "start_time": "2022-02-25T09:41:43.930Z"
   },
   {
    "duration": 31,
    "start_time": "2022-02-25T09:41:44.310Z"
   },
   {
    "duration": 93,
    "start_time": "2022-02-25T09:41:44.344Z"
   },
   {
    "duration": 119,
    "start_time": "2022-02-25T09:41:44.441Z"
   },
   {
    "duration": 471,
    "start_time": "2022-02-25T09:41:44.564Z"
   },
   {
    "duration": 228,
    "start_time": "2022-02-25T09:41:45.037Z"
   },
   {
    "duration": 19,
    "start_time": "2022-02-25T09:41:45.267Z"
   },
   {
    "duration": 26,
    "start_time": "2022-02-25T09:41:45.289Z"
   },
   {
    "duration": 17,
    "start_time": "2022-02-25T09:41:45.318Z"
   },
   {
    "duration": 305,
    "start_time": "2022-02-25T09:41:45.337Z"
   },
   {
    "duration": 9,
    "start_time": "2022-02-25T09:41:45.645Z"
   },
   {
    "duration": 18,
    "start_time": "2022-02-25T09:41:45.657Z"
   },
   {
    "duration": 10,
    "start_time": "2022-02-25T09:41:45.677Z"
   },
   {
    "duration": 5,
    "start_time": "2022-02-25T09:41:45.710Z"
   },
   {
    "duration": 485,
    "start_time": "2022-02-25T09:41:45.717Z"
   },
   {
    "duration": 10,
    "start_time": "2022-02-25T09:41:46.205Z"
   },
   {
    "duration": 9,
    "start_time": "2022-02-25T09:41:46.217Z"
   },
   {
    "duration": 10,
    "start_time": "2022-02-25T09:41:46.228Z"
   },
   {
    "duration": 8,
    "start_time": "2022-02-25T09:41:46.241Z"
   },
   {
    "duration": 363,
    "start_time": "2022-02-25T09:41:46.252Z"
   },
   {
    "duration": 18,
    "start_time": "2022-02-25T09:41:46.617Z"
   },
   {
    "duration": 8,
    "start_time": "2022-02-25T09:41:46.637Z"
   },
   {
    "duration": 332,
    "start_time": "2022-02-25T09:45:57.023Z"
   },
   {
    "duration": 419,
    "start_time": "2022-02-25T09:46:05.348Z"
   },
   {
    "duration": 305,
    "start_time": "2022-02-25T09:46:11.218Z"
   },
   {
    "duration": 331,
    "start_time": "2022-02-25T09:46:14.874Z"
   },
   {
    "duration": 318,
    "start_time": "2022-02-25T09:46:18.138Z"
   },
   {
    "duration": 302,
    "start_time": "2022-02-25T10:40:12.127Z"
   },
   {
    "duration": 602,
    "start_time": "2022-02-25T11:06:08.552Z"
   },
   {
    "duration": 12,
    "start_time": "2022-02-25T11:06:17.315Z"
   },
   {
    "duration": 12,
    "start_time": "2022-02-25T11:06:30.520Z"
   },
   {
    "duration": 9,
    "start_time": "2022-02-25T11:11:00.756Z"
   },
   {
    "duration": 826,
    "start_time": "2022-02-25T11:11:08.069Z"
   },
   {
    "duration": 34,
    "start_time": "2022-02-25T11:11:08.898Z"
   },
   {
    "duration": 26,
    "start_time": "2022-02-25T11:11:08.935Z"
   },
   {
    "duration": 7,
    "start_time": "2022-02-25T11:11:08.964Z"
   },
   {
    "duration": 18,
    "start_time": "2022-02-25T11:11:08.973Z"
   },
   {
    "duration": 18,
    "start_time": "2022-02-25T11:11:08.994Z"
   },
   {
    "duration": 7,
    "start_time": "2022-02-25T11:11:09.015Z"
   },
   {
    "duration": 14,
    "start_time": "2022-02-25T11:11:09.026Z"
   },
   {
    "duration": 6,
    "start_time": "2022-02-25T11:11:09.044Z"
   },
   {
    "duration": 232,
    "start_time": "2022-02-25T11:11:09.053Z"
   },
   {
    "duration": 12,
    "start_time": "2022-02-25T11:11:09.287Z"
   },
   {
    "duration": 28,
    "start_time": "2022-02-25T11:11:09.310Z"
   },
   {
    "duration": 6,
    "start_time": "2022-02-25T11:11:09.341Z"
   },
   {
    "duration": 12,
    "start_time": "2022-02-25T11:11:09.350Z"
   },
   {
    "duration": 80,
    "start_time": "2022-02-25T11:11:09.364Z"
   },
   {
    "duration": 131,
    "start_time": "2022-02-25T11:11:09.447Z"
   },
   {
    "duration": 118,
    "start_time": "2022-02-25T11:11:09.580Z"
   },
   {
    "duration": 15,
    "start_time": "2022-02-25T11:11:09.700Z"
   },
   {
    "duration": 23,
    "start_time": "2022-02-25T11:11:09.717Z"
   },
   {
    "duration": 24,
    "start_time": "2022-02-25T11:11:09.743Z"
   },
   {
    "duration": 79,
    "start_time": "2022-02-25T11:11:09.769Z"
   },
   {
    "duration": 171,
    "start_time": "2022-02-25T11:11:09.851Z"
   },
   {
    "duration": 12,
    "start_time": "2022-02-25T11:11:10.028Z"
   },
   {
    "duration": 25,
    "start_time": "2022-02-25T11:11:10.044Z"
   },
   {
    "duration": 53,
    "start_time": "2022-02-25T11:11:10.072Z"
   },
   {
    "duration": 12,
    "start_time": "2022-02-25T11:11:10.127Z"
   },
   {
    "duration": 74,
    "start_time": "2022-02-25T11:11:10.142Z"
   },
   {
    "duration": 20,
    "start_time": "2022-02-25T11:11:10.218Z"
   },
   {
    "duration": 13,
    "start_time": "2022-02-25T11:11:10.240Z"
   },
   {
    "duration": 11,
    "start_time": "2022-02-25T11:11:10.256Z"
   },
   {
    "duration": 130,
    "start_time": "2022-02-25T11:11:10.270Z"
   },
   {
    "duration": 22,
    "start_time": "2022-02-25T11:11:10.402Z"
   },
   {
    "duration": 1127,
    "start_time": "2022-02-25T11:11:10.427Z"
   },
   {
    "duration": 125,
    "start_time": "2022-02-25T11:11:11.557Z"
   },
   {
    "duration": 5,
    "start_time": "2022-02-25T11:11:11.685Z"
   },
   {
    "duration": 27,
    "start_time": "2022-02-25T11:11:11.692Z"
   },
   {
    "duration": 55,
    "start_time": "2022-02-25T11:11:11.721Z"
   },
   {
    "duration": 36,
    "start_time": "2022-02-25T11:11:11.778Z"
   },
   {
    "duration": 663,
    "start_time": "2022-02-25T11:11:11.817Z"
   },
   {
    "duration": 74,
    "start_time": "2022-02-25T11:11:12.482Z"
   },
   {
    "duration": 3,
    "start_time": "2022-02-25T11:11:12.559Z"
   },
   {
    "duration": 13,
    "start_time": "2022-02-25T11:11:12.565Z"
   },
   {
    "duration": 87,
    "start_time": "2022-02-25T11:11:12.581Z"
   },
   {
    "duration": 20,
    "start_time": "2022-02-25T11:11:12.670Z"
   },
   {
    "duration": 839,
    "start_time": "2022-02-25T11:11:12.711Z"
   },
   {
    "duration": 88,
    "start_time": "2022-02-25T11:11:13.553Z"
   },
   {
    "duration": 4,
    "start_time": "2022-02-25T11:11:13.643Z"
   },
   {
    "duration": 8,
    "start_time": "2022-02-25T11:11:13.649Z"
   },
   {
    "duration": 5,
    "start_time": "2022-02-25T11:11:13.660Z"
   },
   {
    "duration": 7,
    "start_time": "2022-02-25T11:11:13.667Z"
   },
   {
    "duration": 43,
    "start_time": "2022-02-25T11:11:13.676Z"
   },
   {
    "duration": 20,
    "start_time": "2022-02-25T11:11:13.722Z"
   },
   {
    "duration": 18,
    "start_time": "2022-02-25T11:11:13.745Z"
   },
   {
    "duration": 45,
    "start_time": "2022-02-25T11:11:13.765Z"
   },
   {
    "duration": 7,
    "start_time": "2022-02-25T11:11:13.813Z"
   },
   {
    "duration": 11,
    "start_time": "2022-02-25T11:11:13.823Z"
   },
   {
    "duration": 9,
    "start_time": "2022-02-25T11:11:13.837Z"
   },
   {
    "duration": 613,
    "start_time": "2022-02-25T11:11:13.848Z"
   },
   {
    "duration": 635,
    "start_time": "2022-02-25T11:11:14.463Z"
   },
   {
    "duration": 607,
    "start_time": "2022-02-25T11:11:15.100Z"
   },
   {
    "duration": 670,
    "start_time": "2022-02-25T11:11:15.710Z"
   },
   {
    "duration": 38,
    "start_time": "2022-02-25T11:11:16.382Z"
   },
   {
    "duration": 8,
    "start_time": "2022-02-25T11:11:16.423Z"
   },
   {
    "duration": 11,
    "start_time": "2022-02-25T11:11:16.434Z"
   },
   {
    "duration": 12,
    "start_time": "2022-02-25T11:11:16.448Z"
   },
   {
    "duration": 605,
    "start_time": "2022-02-25T11:11:16.463Z"
   },
   {
    "duration": 17,
    "start_time": "2022-02-25T11:11:17.071Z"
   },
   {
    "duration": 398,
    "start_time": "2022-02-25T11:11:17.116Z"
   },
   {
    "duration": 18,
    "start_time": "2022-02-25T11:11:17.519Z"
   },
   {
    "duration": 338,
    "start_time": "2022-02-25T11:11:17.540Z"
   },
   {
    "duration": 32,
    "start_time": "2022-02-25T11:11:17.881Z"
   },
   {
    "duration": 9,
    "start_time": "2022-02-25T11:11:17.916Z"
   },
   {
    "duration": 14,
    "start_time": "2022-02-25T11:11:17.927Z"
   },
   {
    "duration": 350,
    "start_time": "2022-02-25T11:11:17.943Z"
   },
   {
    "duration": 228,
    "start_time": "2022-02-25T11:11:18.296Z"
   },
   {
    "duration": 17,
    "start_time": "2022-02-25T11:11:18.527Z"
   },
   {
    "duration": 8,
    "start_time": "2022-02-25T11:11:18.546Z"
   },
   {
    "duration": 8,
    "start_time": "2022-02-25T11:11:18.556Z"
   },
   {
    "duration": 383,
    "start_time": "2022-02-25T11:11:18.566Z"
   },
   {
    "duration": 236,
    "start_time": "2022-02-25T11:11:18.951Z"
   },
   {
    "duration": 24,
    "start_time": "2022-02-25T11:11:19.190Z"
   },
   {
    "duration": 6,
    "start_time": "2022-02-25T11:11:19.217Z"
   },
   {
    "duration": 8,
    "start_time": "2022-02-25T11:11:19.225Z"
   },
   {
    "duration": 342,
    "start_time": "2022-02-25T11:11:19.235Z"
   },
   {
    "duration": 9,
    "start_time": "2022-02-25T11:11:19.580Z"
   },
   {
    "duration": 564,
    "start_time": "2022-02-25T11:11:19.591Z"
   },
   {
    "duration": 16,
    "start_time": "2022-02-25T11:11:20.158Z"
   },
   {
    "duration": 451,
    "start_time": "2022-02-25T11:11:20.177Z"
   },
   {
    "duration": 21,
    "start_time": "2022-02-25T11:11:20.630Z"
   },
   {
    "duration": 322,
    "start_time": "2022-02-25T11:11:20.654Z"
   },
   {
    "duration": 19,
    "start_time": "2022-02-25T11:11:20.978Z"
   },
   {
    "duration": 10,
    "start_time": "2022-02-25T11:11:21.000Z"
   },
   {
    "duration": 343,
    "start_time": "2022-02-25T11:11:21.013Z"
   },
   {
    "duration": 228,
    "start_time": "2022-02-25T11:11:21.359Z"
   },
   {
    "duration": 22,
    "start_time": "2022-02-25T11:11:21.590Z"
   },
   {
    "duration": 23,
    "start_time": "2022-02-25T11:11:21.614Z"
   },
   {
    "duration": 8,
    "start_time": "2022-02-25T11:11:21.640Z"
   },
   {
    "duration": 296,
    "start_time": "2022-02-25T11:11:21.651Z"
   },
   {
    "duration": 587,
    "start_time": "2022-02-25T11:11:21.950Z"
   },
   {
    "duration": 394,
    "start_time": "2022-02-25T11:11:22.540Z"
   },
   {
    "duration": 73,
    "start_time": "2022-02-25T11:11:22.937Z"
   },
   {
    "duration": 9,
    "start_time": "2022-02-25T11:11:23.014Z"
   },
   {
    "duration": 7,
    "start_time": "2022-02-25T11:11:23.026Z"
   },
   {
    "duration": 361,
    "start_time": "2022-02-25T11:11:23.036Z"
   },
   {
    "duration": 10,
    "start_time": "2022-02-25T11:11:23.400Z"
   },
   {
    "duration": 391,
    "start_time": "2022-02-25T11:11:23.413Z"
   },
   {
    "duration": 20,
    "start_time": "2022-02-25T11:11:23.806Z"
   },
   {
    "duration": 408,
    "start_time": "2022-02-25T11:11:23.828Z"
   },
   {
    "duration": 18,
    "start_time": "2022-02-25T11:11:24.238Z"
   },
   {
    "duration": 325,
    "start_time": "2022-02-25T11:11:24.259Z"
   },
   {
    "duration": 10,
    "start_time": "2022-02-25T11:11:24.586Z"
   },
   {
    "duration": 18,
    "start_time": "2022-02-25T11:11:24.599Z"
   },
   {
    "duration": 424,
    "start_time": "2022-02-25T11:11:24.619Z"
   },
   {
    "duration": 231,
    "start_time": "2022-02-25T11:11:25.045Z"
   },
   {
    "duration": 17,
    "start_time": "2022-02-25T11:11:25.278Z"
   },
   {
    "duration": 6,
    "start_time": "2022-02-25T11:11:25.311Z"
   },
   {
    "duration": 11,
    "start_time": "2022-02-25T11:11:25.320Z"
   },
   {
    "duration": 343,
    "start_time": "2022-02-25T11:11:25.333Z"
   },
   {
    "duration": 225,
    "start_time": "2022-02-25T11:11:25.679Z"
   },
   {
    "duration": 17,
    "start_time": "2022-02-25T11:11:25.906Z"
   },
   {
    "duration": 8,
    "start_time": "2022-02-25T11:11:25.925Z"
   },
   {
    "duration": 7,
    "start_time": "2022-02-25T11:11:25.935Z"
   },
   {
    "duration": 310,
    "start_time": "2022-02-25T11:11:25.944Z"
   },
   {
    "duration": 10,
    "start_time": "2022-02-25T11:11:26.257Z"
   },
   {
    "duration": 13,
    "start_time": "2022-02-25T11:11:26.269Z"
   },
   {
    "duration": 27,
    "start_time": "2022-02-25T11:11:26.285Z"
   },
   {
    "duration": 6,
    "start_time": "2022-02-25T11:11:26.314Z"
   },
   {
    "duration": 466,
    "start_time": "2022-02-25T11:11:26.323Z"
   },
   {
    "duration": 8,
    "start_time": "2022-02-25T11:11:26.791Z"
   },
   {
    "duration": 7,
    "start_time": "2022-02-25T11:11:26.811Z"
   },
   {
    "duration": 13,
    "start_time": "2022-02-25T11:11:26.821Z"
   },
   {
    "duration": 9,
    "start_time": "2022-02-25T11:11:26.836Z"
   },
   {
    "duration": 335,
    "start_time": "2022-02-25T11:11:26.847Z"
   },
   {
    "duration": 8,
    "start_time": "2022-02-25T11:11:27.185Z"
   },
   {
    "duration": 577,
    "start_time": "2022-03-06T18:29:11.482Z"
   },
   {
    "duration": 50,
    "start_time": "2022-03-06T18:29:12.061Z"
   },
   {
    "duration": 19,
    "start_time": "2022-03-06T18:29:12.114Z"
   },
   {
    "duration": 7,
    "start_time": "2022-03-06T18:29:12.135Z"
   },
   {
    "duration": 9,
    "start_time": "2022-03-06T18:29:12.145Z"
   },
   {
    "duration": 8,
    "start_time": "2022-03-06T18:29:12.156Z"
   },
   {
    "duration": 5,
    "start_time": "2022-03-06T18:29:12.166Z"
   },
   {
    "duration": 9,
    "start_time": "2022-03-06T18:29:12.174Z"
   },
   {
    "duration": 6,
    "start_time": "2022-03-06T18:29:12.185Z"
   },
   {
    "duration": 162,
    "start_time": "2022-03-06T18:29:12.192Z"
   },
   {
    "duration": 8,
    "start_time": "2022-03-06T18:29:12.356Z"
   },
   {
    "duration": 22,
    "start_time": "2022-03-06T18:29:12.366Z"
   },
   {
    "duration": 4,
    "start_time": "2022-03-06T18:29:12.390Z"
   },
   {
    "duration": 9,
    "start_time": "2022-03-06T18:29:12.396Z"
   },
   {
    "duration": 46,
    "start_time": "2022-03-06T18:29:12.407Z"
   },
   {
    "duration": 105,
    "start_time": "2022-03-06T18:29:12.454Z"
   },
   {
    "duration": 92,
    "start_time": "2022-03-06T18:29:12.561Z"
   },
   {
    "duration": 7,
    "start_time": "2022-03-06T18:29:12.654Z"
   },
   {
    "duration": 16,
    "start_time": "2022-03-06T18:29:12.663Z"
   },
   {
    "duration": 17,
    "start_time": "2022-03-06T18:29:12.681Z"
   },
   {
    "duration": 60,
    "start_time": "2022-03-06T18:29:12.700Z"
   },
   {
    "duration": 122,
    "start_time": "2022-03-06T18:29:12.762Z"
   },
   {
    "duration": 7,
    "start_time": "2022-03-06T18:29:12.889Z"
   },
   {
    "duration": 17,
    "start_time": "2022-03-06T18:29:12.899Z"
   },
   {
    "duration": 38,
    "start_time": "2022-03-06T18:29:12.917Z"
   },
   {
    "duration": 9,
    "start_time": "2022-03-06T18:29:12.956Z"
   },
   {
    "duration": 40,
    "start_time": "2022-03-06T18:29:12.967Z"
   },
   {
    "duration": 11,
    "start_time": "2022-03-06T18:29:13.009Z"
   },
   {
    "duration": 23,
    "start_time": "2022-03-06T18:29:13.021Z"
   },
   {
    "duration": 12,
    "start_time": "2022-03-06T18:29:13.046Z"
   },
   {
    "duration": 84,
    "start_time": "2022-03-06T18:29:13.059Z"
   },
   {
    "duration": 14,
    "start_time": "2022-03-06T18:29:13.145Z"
   },
   {
    "duration": 723,
    "start_time": "2022-03-06T18:29:13.161Z"
   },
   {
    "duration": 89,
    "start_time": "2022-03-06T18:29:13.886Z"
   },
   {
    "duration": 2,
    "start_time": "2022-03-06T18:29:13.977Z"
   },
   {
    "duration": 11,
    "start_time": "2022-03-06T18:29:13.981Z"
   },
   {
    "duration": 45,
    "start_time": "2022-03-06T18:29:13.993Z"
   },
   {
    "duration": 11,
    "start_time": "2022-03-06T18:29:14.039Z"
   },
   {
    "duration": 425,
    "start_time": "2022-03-06T18:29:14.052Z"
   },
   {
    "duration": 47,
    "start_time": "2022-03-06T18:29:14.478Z"
   },
   {
    "duration": 10,
    "start_time": "2022-03-06T18:29:14.527Z"
   },
   {
    "duration": 8,
    "start_time": "2022-03-06T18:29:14.539Z"
   },
   {
    "duration": 53,
    "start_time": "2022-03-06T18:29:14.548Z"
   },
   {
    "duration": 13,
    "start_time": "2022-03-06T18:29:14.603Z"
   },
   {
    "duration": 576,
    "start_time": "2022-03-06T18:29:14.618Z"
   },
   {
    "duration": 67,
    "start_time": "2022-03-06T18:29:15.196Z"
   },
   {
    "duration": 3,
    "start_time": "2022-03-06T18:29:15.264Z"
   },
   {
    "duration": 12,
    "start_time": "2022-03-06T18:29:15.268Z"
   },
   {
    "duration": 10,
    "start_time": "2022-03-06T18:29:15.282Z"
   },
   {
    "duration": 6,
    "start_time": "2022-03-06T18:29:15.294Z"
   },
   {
    "duration": 10,
    "start_time": "2022-03-06T18:29:15.301Z"
   },
   {
    "duration": 16,
    "start_time": "2022-03-06T18:29:15.312Z"
   },
   {
    "duration": 18,
    "start_time": "2022-03-06T18:29:15.330Z"
   },
   {
    "duration": 9,
    "start_time": "2022-03-06T18:29:15.350Z"
   },
   {
    "duration": 8,
    "start_time": "2022-03-06T18:29:15.361Z"
   },
   {
    "duration": 9,
    "start_time": "2022-03-06T18:29:15.371Z"
   },
   {
    "duration": 9,
    "start_time": "2022-03-06T18:29:15.382Z"
   },
   {
    "duration": 292,
    "start_time": "2022-03-06T18:29:15.393Z"
   },
   {
    "duration": 269,
    "start_time": "2022-03-06T18:29:15.687Z"
   },
   {
    "duration": 275,
    "start_time": "2022-03-06T18:29:15.958Z"
   },
   {
    "duration": 288,
    "start_time": "2022-03-06T18:29:16.235Z"
   },
   {
    "duration": 26,
    "start_time": "2022-03-06T18:29:16.524Z"
   },
   {
    "duration": 4,
    "start_time": "2022-03-06T18:29:16.552Z"
   },
   {
    "duration": 10,
    "start_time": "2022-03-06T18:29:16.558Z"
   },
   {
    "duration": 8,
    "start_time": "2022-03-06T18:29:16.569Z"
   },
   {
    "duration": 359,
    "start_time": "2022-03-06T18:29:16.578Z"
   },
   {
    "duration": 12,
    "start_time": "2022-03-06T18:29:16.939Z"
   },
   {
    "duration": 266,
    "start_time": "2022-03-06T18:29:16.956Z"
   },
   {
    "duration": 15,
    "start_time": "2022-03-06T18:29:17.224Z"
   },
   {
    "duration": 204,
    "start_time": "2022-03-06T18:29:17.241Z"
   },
   {
    "duration": 7,
    "start_time": "2022-03-06T18:29:17.446Z"
   },
   {
    "duration": 7,
    "start_time": "2022-03-06T18:29:17.454Z"
   },
   {
    "duration": 12,
    "start_time": "2022-03-06T18:29:17.463Z"
   },
   {
    "duration": 217,
    "start_time": "2022-03-06T18:29:17.476Z"
   },
   {
    "duration": 144,
    "start_time": "2022-03-06T18:29:17.695Z"
   },
   {
    "duration": 13,
    "start_time": "2022-03-06T18:29:17.841Z"
   },
   {
    "duration": 8,
    "start_time": "2022-03-06T18:29:17.856Z"
   },
   {
    "duration": 12,
    "start_time": "2022-03-06T18:29:17.866Z"
   },
   {
    "duration": 242,
    "start_time": "2022-03-06T18:29:17.880Z"
   },
   {
    "duration": 146,
    "start_time": "2022-03-06T18:29:18.124Z"
   },
   {
    "duration": 11,
    "start_time": "2022-03-06T18:29:18.272Z"
   },
   {
    "duration": 4,
    "start_time": "2022-03-06T18:29:18.284Z"
   },
   {
    "duration": 7,
    "start_time": "2022-03-06T18:29:18.290Z"
   },
   {
    "duration": 208,
    "start_time": "2022-03-06T18:29:18.298Z"
   },
   {
    "duration": 7,
    "start_time": "2022-03-06T18:29:18.507Z"
   },
   {
    "duration": 240,
    "start_time": "2022-03-06T18:29:18.515Z"
   },
   {
    "duration": 12,
    "start_time": "2022-03-06T18:29:18.756Z"
   },
   {
    "duration": 317,
    "start_time": "2022-03-06T18:29:18.770Z"
   },
   {
    "duration": 11,
    "start_time": "2022-03-06T18:29:19.089Z"
   },
   {
    "duration": 203,
    "start_time": "2022-03-06T18:29:19.101Z"
   },
   {
    "duration": 6,
    "start_time": "2022-03-06T18:29:19.306Z"
   },
   {
    "duration": 14,
    "start_time": "2022-03-06T18:29:19.313Z"
   },
   {
    "duration": 209,
    "start_time": "2022-03-06T18:29:19.328Z"
   },
   {
    "duration": 138,
    "start_time": "2022-03-06T18:29:19.539Z"
   },
   {
    "duration": 11,
    "start_time": "2022-03-06T18:29:19.679Z"
   },
   {
    "duration": 10,
    "start_time": "2022-03-06T18:29:19.692Z"
   },
   {
    "duration": 18,
    "start_time": "2022-03-06T18:29:19.704Z"
   },
   {
    "duration": 144,
    "start_time": "2022-03-06T18:29:19.724Z"
   },
   {
    "duration": 230,
    "start_time": "2022-03-06T18:29:19.870Z"
   },
   {
    "duration": 147,
    "start_time": "2022-03-06T18:29:20.102Z"
   },
   {
    "duration": 11,
    "start_time": "2022-03-06T18:29:20.251Z"
   },
   {
    "duration": 10,
    "start_time": "2022-03-06T18:29:20.263Z"
   },
   {
    "duration": 9,
    "start_time": "2022-03-06T18:29:20.274Z"
   },
   {
    "duration": 199,
    "start_time": "2022-03-06T18:29:20.284Z"
   },
   {
    "duration": 7,
    "start_time": "2022-03-06T18:29:20.484Z"
   },
   {
    "duration": 247,
    "start_time": "2022-03-06T18:29:20.493Z"
   },
   {
    "duration": 11,
    "start_time": "2022-03-06T18:29:20.742Z"
   },
   {
    "duration": 235,
    "start_time": "2022-03-06T18:29:20.754Z"
   },
   {
    "duration": 12,
    "start_time": "2022-03-06T18:29:20.990Z"
   },
   {
    "duration": 208,
    "start_time": "2022-03-06T18:29:21.004Z"
   },
   {
    "duration": 7,
    "start_time": "2022-03-06T18:29:21.214Z"
   },
   {
    "duration": 18,
    "start_time": "2022-03-06T18:29:21.223Z"
   },
   {
    "duration": 275,
    "start_time": "2022-03-06T18:29:21.243Z"
   },
   {
    "duration": 138,
    "start_time": "2022-03-06T18:29:21.520Z"
   },
   {
    "duration": 12,
    "start_time": "2022-03-06T18:29:21.659Z"
   },
   {
    "duration": 8,
    "start_time": "2022-03-06T18:29:21.672Z"
   },
   {
    "duration": 6,
    "start_time": "2022-03-06T18:29:21.682Z"
   },
   {
    "duration": 207,
    "start_time": "2022-03-06T18:29:21.690Z"
   },
   {
    "duration": 146,
    "start_time": "2022-03-06T18:29:21.899Z"
   },
   {
    "duration": 11,
    "start_time": "2022-03-06T18:29:22.047Z"
   },
   {
    "duration": 7,
    "start_time": "2022-03-06T18:29:22.060Z"
   },
   {
    "duration": 7,
    "start_time": "2022-03-06T18:29:22.068Z"
   },
   {
    "duration": 203,
    "start_time": "2022-03-06T18:29:22.077Z"
   },
   {
    "duration": 7,
    "start_time": "2022-03-06T18:29:22.282Z"
   },
   {
    "duration": 10,
    "start_time": "2022-03-06T18:29:22.291Z"
   },
   {
    "duration": 6,
    "start_time": "2022-03-06T18:29:22.303Z"
   },
   {
    "duration": 28,
    "start_time": "2022-03-06T18:29:22.311Z"
   },
   {
    "duration": 347,
    "start_time": "2022-03-06T18:29:22.341Z"
   },
   {
    "duration": 6,
    "start_time": "2022-03-06T18:29:22.689Z"
   },
   {
    "duration": 8,
    "start_time": "2022-03-06T18:29:22.696Z"
   },
   {
    "duration": 14,
    "start_time": "2022-03-06T18:29:22.706Z"
   },
   {
    "duration": 16,
    "start_time": "2022-03-06T18:29:22.722Z"
   },
   {
    "duration": 220,
    "start_time": "2022-03-06T18:29:22.740Z"
   },
   {
    "duration": 6,
    "start_time": "2022-03-06T18:29:22.962Z"
   },
   {
    "duration": 4137,
    "start_time": "2022-03-06T18:35:25.968Z"
   },
   {
    "duration": 25,
    "start_time": "2022-03-06T18:35:40.495Z"
   },
   {
    "duration": 768,
    "start_time": "2022-03-07T16:11:56.003Z"
   },
   {
    "duration": 41,
    "start_time": "2022-03-07T16:11:56.773Z"
   },
   {
    "duration": 13,
    "start_time": "2022-03-07T16:11:56.816Z"
   },
   {
    "duration": 7,
    "start_time": "2022-03-07T16:11:56.831Z"
   },
   {
    "duration": 9,
    "start_time": "2022-03-07T16:11:56.840Z"
   },
   {
    "duration": 8,
    "start_time": "2022-03-07T16:11:56.851Z"
   },
   {
    "duration": 6,
    "start_time": "2022-03-07T16:11:56.860Z"
   },
   {
    "duration": 9,
    "start_time": "2022-03-07T16:11:56.868Z"
   },
   {
    "duration": 27,
    "start_time": "2022-03-07T16:11:56.880Z"
   },
   {
    "duration": 162,
    "start_time": "2022-03-07T16:11:56.909Z"
   },
   {
    "duration": 11,
    "start_time": "2022-03-07T16:11:57.073Z"
   },
   {
    "duration": 31,
    "start_time": "2022-03-07T16:11:57.086Z"
   },
   {
    "duration": 15,
    "start_time": "2022-03-07T16:11:57.120Z"
   },
   {
    "duration": 15,
    "start_time": "2022-03-07T16:11:57.137Z"
   },
   {
    "duration": 42,
    "start_time": "2022-03-07T16:11:57.154Z"
   },
   {
    "duration": 132,
    "start_time": "2022-03-07T16:11:57.199Z"
   },
   {
    "duration": 97,
    "start_time": "2022-03-07T16:11:57.334Z"
   },
   {
    "duration": 9,
    "start_time": "2022-03-07T16:11:57.432Z"
   },
   {
    "duration": 17,
    "start_time": "2022-03-07T16:11:57.443Z"
   },
   {
    "duration": 17,
    "start_time": "2022-03-07T16:11:57.462Z"
   },
   {
    "duration": 55,
    "start_time": "2022-03-07T16:11:57.480Z"
   },
   {
    "duration": 143,
    "start_time": "2022-03-07T16:11:57.536Z"
   },
   {
    "duration": 7,
    "start_time": "2022-03-07T16:11:57.683Z"
   },
   {
    "duration": 19,
    "start_time": "2022-03-07T16:11:57.693Z"
   },
   {
    "duration": 19,
    "start_time": "2022-03-07T16:11:57.714Z"
   },
   {
    "duration": 7,
    "start_time": "2022-03-07T16:11:57.734Z"
   },
   {
    "duration": 63,
    "start_time": "2022-03-07T16:11:57.743Z"
   },
   {
    "duration": 17,
    "start_time": "2022-03-07T16:11:57.809Z"
   },
   {
    "duration": 10,
    "start_time": "2022-03-07T16:11:57.827Z"
   },
   {
    "duration": 7,
    "start_time": "2022-03-07T16:11:57.839Z"
   },
   {
    "duration": 88,
    "start_time": "2022-03-07T16:11:57.847Z"
   },
   {
    "duration": 13,
    "start_time": "2022-03-07T16:11:57.937Z"
   },
   {
    "duration": 702,
    "start_time": "2022-03-07T16:11:57.952Z"
   },
   {
    "duration": 78,
    "start_time": "2022-03-07T16:11:58.656Z"
   },
   {
    "duration": 3,
    "start_time": "2022-03-07T16:11:58.735Z"
   },
   {
    "duration": 14,
    "start_time": "2022-03-07T16:11:58.740Z"
   },
   {
    "duration": 56,
    "start_time": "2022-03-07T16:11:58.756Z"
   },
   {
    "duration": 17,
    "start_time": "2022-03-07T16:11:58.814Z"
   },
   {
    "duration": 739,
    "start_time": "2022-03-07T16:11:58.833Z"
   },
   {
    "duration": 66,
    "start_time": "2022-03-07T16:11:59.574Z"
   },
   {
    "duration": 4,
    "start_time": "2022-03-07T16:11:59.642Z"
   },
   {
    "duration": 20,
    "start_time": "2022-03-07T16:11:59.648Z"
   },
   {
    "duration": 66,
    "start_time": "2022-03-07T16:11:59.670Z"
   },
   {
    "duration": 19,
    "start_time": "2022-03-07T16:11:59.738Z"
   },
   {
    "duration": 490,
    "start_time": "2022-03-07T16:11:59.759Z"
   },
   {
    "duration": 56,
    "start_time": "2022-03-07T16:12:00.251Z"
   },
   {
    "duration": 2,
    "start_time": "2022-03-07T16:12:00.309Z"
   },
   {
    "duration": 12,
    "start_time": "2022-03-07T16:12:00.313Z"
   },
   {
    "duration": 13,
    "start_time": "2022-03-07T16:12:00.327Z"
   },
   {
    "duration": 9,
    "start_time": "2022-03-07T16:12:00.342Z"
   },
   {
    "duration": 11,
    "start_time": "2022-03-07T16:12:00.353Z"
   },
   {
    "duration": 19,
    "start_time": "2022-03-07T16:12:00.366Z"
   },
   {
    "duration": 18,
    "start_time": "2022-03-07T16:12:00.387Z"
   },
   {
    "duration": 10,
    "start_time": "2022-03-07T16:12:00.407Z"
   },
   {
    "duration": 14,
    "start_time": "2022-03-07T16:12:00.419Z"
   },
   {
    "duration": 17,
    "start_time": "2022-03-07T16:12:00.435Z"
   },
   {
    "duration": 17,
    "start_time": "2022-03-07T16:12:00.454Z"
   },
   {
    "duration": 284,
    "start_time": "2022-03-07T16:12:00.473Z"
   },
   {
    "duration": 316,
    "start_time": "2022-03-07T16:12:00.759Z"
   },
   {
    "duration": 288,
    "start_time": "2022-03-07T16:12:01.077Z"
   },
   {
    "duration": 313,
    "start_time": "2022-03-07T16:12:01.367Z"
   },
   {
    "duration": 30,
    "start_time": "2022-03-07T16:12:01.682Z"
   },
   {
    "duration": 7,
    "start_time": "2022-03-07T16:12:01.714Z"
   },
   {
    "duration": 13,
    "start_time": "2022-03-07T16:12:01.723Z"
   },
   {
    "duration": 10,
    "start_time": "2022-03-07T16:12:01.738Z"
   },
   {
    "duration": 258,
    "start_time": "2022-03-07T16:12:01.749Z"
   },
   {
    "duration": 11,
    "start_time": "2022-03-07T16:12:02.009Z"
   },
   {
    "duration": 242,
    "start_time": "2022-03-07T16:12:02.026Z"
   },
   {
    "duration": 11,
    "start_time": "2022-03-07T16:12:02.271Z"
   },
   {
    "duration": 187,
    "start_time": "2022-03-07T16:12:02.284Z"
   },
   {
    "duration": 7,
    "start_time": "2022-03-07T16:12:02.473Z"
   },
   {
    "duration": 10,
    "start_time": "2022-03-07T16:12:02.481Z"
   },
   {
    "duration": 18,
    "start_time": "2022-03-07T16:12:02.493Z"
   },
   {
    "duration": 200,
    "start_time": "2022-03-07T16:12:02.513Z"
   },
   {
    "duration": 136,
    "start_time": "2022-03-07T16:12:02.715Z"
   },
   {
    "duration": 12,
    "start_time": "2022-03-07T16:12:02.852Z"
   },
   {
    "duration": 11,
    "start_time": "2022-03-07T16:12:02.865Z"
   },
   {
    "duration": 11,
    "start_time": "2022-03-07T16:12:02.878Z"
   },
   {
    "duration": 202,
    "start_time": "2022-03-07T16:12:02.905Z"
   },
   {
    "duration": 141,
    "start_time": "2022-03-07T16:12:03.109Z"
   },
   {
    "duration": 15,
    "start_time": "2022-03-07T16:12:03.252Z"
   },
   {
    "duration": 9,
    "start_time": "2022-03-07T16:12:03.269Z"
   },
   {
    "duration": 10,
    "start_time": "2022-03-07T16:12:03.280Z"
   },
   {
    "duration": 236,
    "start_time": "2022-03-07T16:12:03.292Z"
   },
   {
    "duration": 8,
    "start_time": "2022-03-07T16:12:03.530Z"
   },
   {
    "duration": 233,
    "start_time": "2022-03-07T16:12:03.539Z"
   },
   {
    "duration": 11,
    "start_time": "2022-03-07T16:12:03.774Z"
   },
   {
    "duration": 279,
    "start_time": "2022-03-07T16:12:03.787Z"
   },
   {
    "duration": 10,
    "start_time": "2022-03-07T16:12:04.068Z"
   },
   {
    "duration": 178,
    "start_time": "2022-03-07T16:12:04.080Z"
   },
   {
    "duration": 7,
    "start_time": "2022-03-07T16:12:04.260Z"
   },
   {
    "duration": 9,
    "start_time": "2022-03-07T16:12:04.268Z"
   },
   {
    "duration": 194,
    "start_time": "2022-03-07T16:12:04.278Z"
   },
   {
    "duration": 133,
    "start_time": "2022-03-07T16:12:04.474Z"
   },
   {
    "duration": 11,
    "start_time": "2022-03-07T16:12:04.609Z"
   },
   {
    "duration": 9,
    "start_time": "2022-03-07T16:12:04.622Z"
   },
   {
    "duration": 23,
    "start_time": "2022-03-07T16:12:04.633Z"
   },
   {
    "duration": 142,
    "start_time": "2022-03-07T16:12:04.657Z"
   },
   {
    "duration": 209,
    "start_time": "2022-03-07T16:12:04.801Z"
   },
   {
    "duration": 146,
    "start_time": "2022-03-07T16:12:05.012Z"
   },
   {
    "duration": 15,
    "start_time": "2022-03-07T16:12:05.161Z"
   },
   {
    "duration": 12,
    "start_time": "2022-03-07T16:12:05.178Z"
   },
   {
    "duration": 19,
    "start_time": "2022-03-07T16:12:05.192Z"
   },
   {
    "duration": 345,
    "start_time": "2022-03-07T16:12:05.213Z"
   },
   {
    "duration": 8,
    "start_time": "2022-03-07T16:12:05.560Z"
   },
   {
    "duration": 223,
    "start_time": "2022-03-07T16:12:05.570Z"
   },
   {
    "duration": 15,
    "start_time": "2022-03-07T16:12:05.794Z"
   },
   {
    "duration": 213,
    "start_time": "2022-03-07T16:12:05.811Z"
   },
   {
    "duration": 11,
    "start_time": "2022-03-07T16:12:06.026Z"
   },
   {
    "duration": 188,
    "start_time": "2022-03-07T16:12:06.039Z"
   },
   {
    "duration": 6,
    "start_time": "2022-03-07T16:12:06.229Z"
   },
   {
    "duration": 9,
    "start_time": "2022-03-07T16:12:06.237Z"
   },
   {
    "duration": 387,
    "start_time": "2022-03-07T16:12:06.248Z"
   },
   {
    "duration": 193,
    "start_time": "2022-03-07T16:12:06.637Z"
   },
   {
    "duration": 15,
    "start_time": "2022-03-07T16:12:06.832Z"
   },
   {
    "duration": 5,
    "start_time": "2022-03-07T16:12:06.849Z"
   },
   {
    "duration": 6,
    "start_time": "2022-03-07T16:12:06.856Z"
   },
   {
    "duration": 208,
    "start_time": "2022-03-07T16:12:06.864Z"
   },
   {
    "duration": 125,
    "start_time": "2022-03-07T16:12:07.074Z"
   },
   {
    "duration": 13,
    "start_time": "2022-03-07T16:12:07.201Z"
   },
   {
    "duration": 4,
    "start_time": "2022-03-07T16:12:07.216Z"
   },
   {
    "duration": 7,
    "start_time": "2022-03-07T16:12:07.222Z"
   },
   {
    "duration": 175,
    "start_time": "2022-03-07T16:12:07.230Z"
   },
   {
    "duration": 7,
    "start_time": "2022-03-07T16:12:07.407Z"
   },
   {
    "duration": 8,
    "start_time": "2022-03-07T16:12:07.415Z"
   },
   {
    "duration": 6,
    "start_time": "2022-03-07T16:12:07.425Z"
   },
   {
    "duration": 9,
    "start_time": "2022-03-07T16:12:07.433Z"
   },
   {
    "duration": 396,
    "start_time": "2022-03-07T16:12:07.444Z"
   },
   {
    "duration": 7,
    "start_time": "2022-03-07T16:12:07.842Z"
   },
   {
    "duration": 9,
    "start_time": "2022-03-07T16:12:07.851Z"
   },
   {
    "duration": 8,
    "start_time": "2022-03-07T16:12:07.862Z"
   },
   {
    "duration": 10,
    "start_time": "2022-03-07T16:12:07.872Z"
   },
   {
    "duration": 284,
    "start_time": "2022-03-07T16:12:07.905Z"
   },
   {
    "duration": 14,
    "start_time": "2022-03-07T16:12:08.191Z"
   },
   {
    "duration": 1042,
    "start_time": "2022-03-07T16:13:43.248Z"
   },
   {
    "duration": 42,
    "start_time": "2022-03-07T16:13:44.292Z"
   },
   {
    "duration": 14,
    "start_time": "2022-03-07T16:13:44.336Z"
   },
   {
    "duration": 9,
    "start_time": "2022-03-07T16:13:44.352Z"
   },
   {
    "duration": 12,
    "start_time": "2022-03-07T16:13:44.362Z"
   },
   {
    "duration": 9,
    "start_time": "2022-03-07T16:13:44.375Z"
   },
   {
    "duration": 5,
    "start_time": "2022-03-07T16:13:44.386Z"
   },
   {
    "duration": 9,
    "start_time": "2022-03-07T16:13:44.394Z"
   },
   {
    "duration": 8,
    "start_time": "2022-03-07T16:13:44.405Z"
   },
   {
    "duration": 146,
    "start_time": "2022-03-07T16:13:44.414Z"
   },
   {
    "duration": 8,
    "start_time": "2022-03-07T16:13:44.562Z"
   },
   {
    "duration": 27,
    "start_time": "2022-03-07T16:13:44.572Z"
   },
   {
    "duration": 4,
    "start_time": "2022-03-07T16:13:44.605Z"
   },
   {
    "duration": 9,
    "start_time": "2022-03-07T16:13:44.611Z"
   },
   {
    "duration": 31,
    "start_time": "2022-03-07T16:13:44.621Z"
   },
   {
    "duration": 103,
    "start_time": "2022-03-07T16:13:44.654Z"
   },
   {
    "duration": 86,
    "start_time": "2022-03-07T16:13:44.759Z"
   },
   {
    "duration": 7,
    "start_time": "2022-03-07T16:13:44.846Z"
   },
   {
    "duration": 15,
    "start_time": "2022-03-07T16:13:44.855Z"
   },
   {
    "duration": 20,
    "start_time": "2022-03-07T16:13:44.872Z"
   },
   {
    "duration": 45,
    "start_time": "2022-03-07T16:13:44.894Z"
   },
   {
    "duration": 125,
    "start_time": "2022-03-07T16:13:44.941Z"
   },
   {
    "duration": 8,
    "start_time": "2022-03-07T16:13:45.069Z"
   },
   {
    "duration": 27,
    "start_time": "2022-03-07T16:13:45.079Z"
   },
   {
    "duration": 20,
    "start_time": "2022-03-07T16:13:45.107Z"
   },
   {
    "duration": 8,
    "start_time": "2022-03-07T16:13:45.128Z"
   },
   {
    "duration": 40,
    "start_time": "2022-03-07T16:13:45.138Z"
   },
   {
    "duration": 25,
    "start_time": "2022-03-07T16:13:45.179Z"
   },
   {
    "duration": 12,
    "start_time": "2022-03-07T16:13:45.206Z"
   },
   {
    "duration": 10,
    "start_time": "2022-03-07T16:13:45.220Z"
   },
   {
    "duration": 75,
    "start_time": "2022-03-07T16:13:45.231Z"
   },
   {
    "duration": 12,
    "start_time": "2022-03-07T16:13:45.308Z"
   },
   {
    "duration": 680,
    "start_time": "2022-03-07T16:13:45.321Z"
   },
   {
    "duration": 70,
    "start_time": "2022-03-07T16:13:46.005Z"
   },
   {
    "duration": 2,
    "start_time": "2022-03-07T16:13:46.077Z"
   },
   {
    "duration": 14,
    "start_time": "2022-03-07T16:13:46.080Z"
   },
   {
    "duration": 34,
    "start_time": "2022-03-07T16:13:46.106Z"
   },
   {
    "duration": 11,
    "start_time": "2022-03-07T16:13:46.142Z"
   },
   {
    "duration": 407,
    "start_time": "2022-03-07T16:13:46.154Z"
   },
   {
    "duration": 55,
    "start_time": "2022-03-07T16:13:46.562Z"
   },
   {
    "duration": 3,
    "start_time": "2022-03-07T16:13:46.620Z"
   },
   {
    "duration": 10,
    "start_time": "2022-03-07T16:13:46.625Z"
   },
   {
    "duration": 45,
    "start_time": "2022-03-07T16:13:46.637Z"
   },
   {
    "duration": 30,
    "start_time": "2022-03-07T16:13:46.684Z"
   },
   {
    "duration": 631,
    "start_time": "2022-03-07T16:13:46.716Z"
   },
   {
    "duration": 62,
    "start_time": "2022-03-07T16:13:47.349Z"
   },
   {
    "duration": 3,
    "start_time": "2022-03-07T16:13:47.413Z"
   },
   {
    "duration": 6,
    "start_time": "2022-03-07T16:13:47.418Z"
   },
   {
    "duration": 5,
    "start_time": "2022-03-07T16:13:47.425Z"
   },
   {
    "duration": 7,
    "start_time": "2022-03-07T16:13:47.432Z"
   },
   {
    "duration": 9,
    "start_time": "2022-03-07T16:13:47.441Z"
   },
   {
    "duration": 12,
    "start_time": "2022-03-07T16:13:47.451Z"
   },
   {
    "duration": 11,
    "start_time": "2022-03-07T16:13:47.464Z"
   },
   {
    "duration": 34,
    "start_time": "2022-03-07T16:13:47.477Z"
   },
   {
    "duration": 12,
    "start_time": "2022-03-07T16:13:47.512Z"
   },
   {
    "duration": 10,
    "start_time": "2022-03-07T16:13:47.526Z"
   },
   {
    "duration": 5,
    "start_time": "2022-03-07T16:13:47.537Z"
   },
   {
    "duration": 269,
    "start_time": "2022-03-07T16:13:47.543Z"
   },
   {
    "duration": 258,
    "start_time": "2022-03-07T16:13:47.813Z"
   },
   {
    "duration": 268,
    "start_time": "2022-03-07T16:13:48.072Z"
   },
   {
    "duration": 284,
    "start_time": "2022-03-07T16:13:48.342Z"
   },
   {
    "duration": 23,
    "start_time": "2022-03-07T16:13:48.628Z"
   },
   {
    "duration": 6,
    "start_time": "2022-03-07T16:13:48.653Z"
   },
   {
    "duration": 8,
    "start_time": "2022-03-07T16:13:48.660Z"
   },
   {
    "duration": 36,
    "start_time": "2022-03-07T16:13:48.669Z"
   },
   {
    "duration": 224,
    "start_time": "2022-03-07T16:13:48.707Z"
   },
   {
    "duration": 11,
    "start_time": "2022-03-07T16:13:48.933Z"
   },
   {
    "duration": 226,
    "start_time": "2022-03-07T16:13:48.950Z"
   },
   {
    "duration": 10,
    "start_time": "2022-03-07T16:13:49.178Z"
   },
   {
    "duration": 180,
    "start_time": "2022-03-07T16:13:49.189Z"
   },
   {
    "duration": 6,
    "start_time": "2022-03-07T16:13:49.371Z"
   },
   {
    "duration": 8,
    "start_time": "2022-03-07T16:13:49.379Z"
   },
   {
    "duration": 22,
    "start_time": "2022-03-07T16:13:49.388Z"
   },
   {
    "duration": 186,
    "start_time": "2022-03-07T16:13:49.412Z"
   },
   {
    "duration": 140,
    "start_time": "2022-03-07T16:13:49.600Z"
   },
   {
    "duration": 11,
    "start_time": "2022-03-07T16:13:49.742Z"
   },
   {
    "duration": 6,
    "start_time": "2022-03-07T16:13:49.754Z"
   },
   {
    "duration": 6,
    "start_time": "2022-03-07T16:13:49.762Z"
   },
   {
    "duration": 208,
    "start_time": "2022-03-07T16:13:49.770Z"
   },
   {
    "duration": 186,
    "start_time": "2022-03-07T16:13:49.979Z"
   },
   {
    "duration": 11,
    "start_time": "2022-03-07T16:13:50.166Z"
   },
   {
    "duration": 6,
    "start_time": "2022-03-07T16:13:50.179Z"
   },
   {
    "duration": 20,
    "start_time": "2022-03-07T16:13:50.186Z"
   },
   {
    "duration": 187,
    "start_time": "2022-03-07T16:13:50.209Z"
   },
   {
    "duration": 8,
    "start_time": "2022-03-07T16:13:50.405Z"
   },
   {
    "duration": 223,
    "start_time": "2022-03-07T16:13:50.414Z"
   },
   {
    "duration": 11,
    "start_time": "2022-03-07T16:13:50.639Z"
   },
   {
    "duration": 223,
    "start_time": "2022-03-07T16:13:50.652Z"
   },
   {
    "duration": 10,
    "start_time": "2022-03-07T16:13:50.876Z"
   },
   {
    "duration": 169,
    "start_time": "2022-03-07T16:13:50.888Z"
   },
   {
    "duration": 6,
    "start_time": "2022-03-07T16:13:51.058Z"
   },
   {
    "duration": 6,
    "start_time": "2022-03-07T16:13:51.066Z"
   },
   {
    "duration": 191,
    "start_time": "2022-03-07T16:13:51.073Z"
   },
   {
    "duration": 125,
    "start_time": "2022-03-07T16:13:51.266Z"
   },
   {
    "duration": 17,
    "start_time": "2022-03-07T16:13:51.393Z"
   },
   {
    "duration": 4,
    "start_time": "2022-03-07T16:13:51.412Z"
   },
   {
    "duration": 6,
    "start_time": "2022-03-07T16:13:51.418Z"
   },
   {
    "duration": 146,
    "start_time": "2022-03-07T16:13:51.425Z"
   },
   {
    "duration": 200,
    "start_time": "2022-03-07T16:13:51.573Z"
   },
   {
    "duration": 132,
    "start_time": "2022-03-07T16:13:51.775Z"
   },
   {
    "duration": 10,
    "start_time": "2022-03-07T16:13:51.908Z"
   },
   {
    "duration": 6,
    "start_time": "2022-03-07T16:13:51.919Z"
   },
   {
    "duration": 6,
    "start_time": "2022-03-07T16:13:51.927Z"
   },
   {
    "duration": 178,
    "start_time": "2022-03-07T16:13:51.934Z"
   },
   {
    "duration": 6,
    "start_time": "2022-03-07T16:13:52.114Z"
   },
   {
    "duration": 279,
    "start_time": "2022-03-07T16:13:52.121Z"
   },
   {
    "duration": 11,
    "start_time": "2022-03-07T16:13:52.401Z"
   },
   {
    "duration": 214,
    "start_time": "2022-03-07T16:13:52.413Z"
   },
   {
    "duration": 10,
    "start_time": "2022-03-07T16:13:52.629Z"
   },
   {
    "duration": 180,
    "start_time": "2022-03-07T16:13:52.641Z"
   },
   {
    "duration": 7,
    "start_time": "2022-03-07T16:13:52.823Z"
   },
   {
    "duration": 7,
    "start_time": "2022-03-07T16:13:52.832Z"
   },
   {
    "duration": 191,
    "start_time": "2022-03-07T16:13:52.841Z"
   },
   {
    "duration": 126,
    "start_time": "2022-03-07T16:13:53.034Z"
   },
   {
    "duration": 10,
    "start_time": "2022-03-07T16:13:53.162Z"
   },
   {
    "duration": 8,
    "start_time": "2022-03-07T16:13:53.174Z"
   },
   {
    "duration": 23,
    "start_time": "2022-03-07T16:13:53.183Z"
   },
   {
    "duration": 173,
    "start_time": "2022-03-07T16:13:53.207Z"
   },
   {
    "duration": 129,
    "start_time": "2022-03-07T16:13:53.382Z"
   },
   {
    "duration": 10,
    "start_time": "2022-03-07T16:13:53.513Z"
   },
   {
    "duration": 7,
    "start_time": "2022-03-07T16:13:53.525Z"
   },
   {
    "duration": 6,
    "start_time": "2022-03-07T16:13:53.533Z"
   },
   {
    "duration": 171,
    "start_time": "2022-03-07T16:13:53.540Z"
   },
   {
    "duration": 7,
    "start_time": "2022-03-07T16:13:53.712Z"
   },
   {
    "duration": 9,
    "start_time": "2022-03-07T16:13:53.721Z"
   },
   {
    "duration": 7,
    "start_time": "2022-03-07T16:13:53.732Z"
   },
   {
    "duration": 8,
    "start_time": "2022-03-07T16:13:53.740Z"
   },
   {
    "duration": 9,
    "start_time": "2022-03-07T16:13:53.749Z"
   },
   {
    "duration": 7,
    "start_time": "2022-03-07T16:13:53.759Z"
   },
   {
    "duration": 7,
    "start_time": "2022-03-07T16:13:53.767Z"
   },
   {
    "duration": 31,
    "start_time": "2022-03-07T16:13:53.775Z"
   },
   {
    "duration": 6,
    "start_time": "2022-03-07T16:13:53.808Z"
   },
   {
    "duration": 187,
    "start_time": "2022-03-07T16:13:53.815Z"
   },
   {
    "duration": 5,
    "start_time": "2022-03-07T16:13:54.006Z"
   },
   {
    "duration": 1083,
    "start_time": "2022-03-07T16:18:59.234Z"
   },
   {
    "duration": 41,
    "start_time": "2022-03-07T16:19:00.319Z"
   },
   {
    "duration": 15,
    "start_time": "2022-03-07T16:19:00.362Z"
   },
   {
    "duration": 10,
    "start_time": "2022-03-07T16:19:00.378Z"
   },
   {
    "duration": 10,
    "start_time": "2022-03-07T16:19:00.390Z"
   },
   {
    "duration": 9,
    "start_time": "2022-03-07T16:19:00.402Z"
   },
   {
    "duration": 4,
    "start_time": "2022-03-07T16:19:00.413Z"
   },
   {
    "duration": 15,
    "start_time": "2022-03-07T16:19:00.419Z"
   },
   {
    "duration": 9,
    "start_time": "2022-03-07T16:19:00.436Z"
   },
   {
    "duration": 144,
    "start_time": "2022-03-07T16:19:00.446Z"
   },
   {
    "duration": 7,
    "start_time": "2022-03-07T16:19:00.591Z"
   },
   {
    "duration": 25,
    "start_time": "2022-03-07T16:19:00.600Z"
   },
   {
    "duration": 4,
    "start_time": "2022-03-07T16:19:00.627Z"
   },
   {
    "duration": 12,
    "start_time": "2022-03-07T16:19:00.632Z"
   },
   {
    "duration": 37,
    "start_time": "2022-03-07T16:19:00.645Z"
   },
   {
    "duration": 89,
    "start_time": "2022-03-07T16:19:00.684Z"
   },
   {
    "duration": 88,
    "start_time": "2022-03-07T16:19:00.774Z"
   },
   {
    "duration": 7,
    "start_time": "2022-03-07T16:19:00.864Z"
   },
   {
    "duration": 20,
    "start_time": "2022-03-07T16:19:00.872Z"
   },
   {
    "duration": 35,
    "start_time": "2022-03-07T16:19:00.894Z"
   },
   {
    "duration": 48,
    "start_time": "2022-03-07T16:19:00.930Z"
   },
   {
    "duration": 129,
    "start_time": "2022-03-07T16:19:00.979Z"
   },
   {
    "duration": 7,
    "start_time": "2022-03-07T16:19:01.112Z"
   },
   {
    "duration": 23,
    "start_time": "2022-03-07T16:19:01.122Z"
   },
   {
    "duration": 19,
    "start_time": "2022-03-07T16:19:01.147Z"
   },
   {
    "duration": 8,
    "start_time": "2022-03-07T16:19:01.168Z"
   },
   {
    "duration": 58,
    "start_time": "2022-03-07T16:19:01.178Z"
   },
   {
    "duration": 17,
    "start_time": "2022-03-07T16:19:01.237Z"
   },
   {
    "duration": 11,
    "start_time": "2022-03-07T16:19:01.256Z"
   },
   {
    "duration": 9,
    "start_time": "2022-03-07T16:19:01.268Z"
   },
   {
    "duration": 73,
    "start_time": "2022-03-07T16:19:01.279Z"
   },
   {
    "duration": 13,
    "start_time": "2022-03-07T16:19:01.353Z"
   },
   {
    "duration": 37,
    "start_time": "2022-03-07T16:19:01.368Z"
   },
   {
    "duration": 69,
    "start_time": "2022-03-07T16:19:01.407Z"
   },
   {
    "duration": 2,
    "start_time": "2022-03-07T16:19:01.478Z"
   },
   {
    "duration": 21,
    "start_time": "2022-03-07T16:19:01.482Z"
   },
   {
    "duration": 35,
    "start_time": "2022-03-07T16:19:01.505Z"
   },
   {
    "duration": 11,
    "start_time": "2022-03-07T16:19:01.542Z"
   },
   {
    "duration": 431,
    "start_time": "2022-03-07T16:19:01.554Z"
   },
   {
    "duration": 36,
    "start_time": "2022-03-07T16:19:01.987Z"
   },
   {
    "duration": 2,
    "start_time": "2022-03-07T16:19:02.025Z"
   },
   {
    "duration": 20,
    "start_time": "2022-03-07T16:19:02.029Z"
   },
   {
    "duration": 38,
    "start_time": "2022-03-07T16:19:02.051Z"
   },
   {
    "duration": 20,
    "start_time": "2022-03-07T16:19:02.091Z"
   },
   {
    "duration": 541,
    "start_time": "2022-03-07T16:19:02.112Z"
   },
   {
    "duration": 40,
    "start_time": "2022-03-07T16:19:02.655Z"
   },
   {
    "duration": 3,
    "start_time": "2022-03-07T16:19:02.705Z"
   },
   {
    "duration": 7,
    "start_time": "2022-03-07T16:19:02.709Z"
   },
   {
    "duration": 5,
    "start_time": "2022-03-07T16:19:02.718Z"
   },
   {
    "duration": 6,
    "start_time": "2022-03-07T16:19:02.724Z"
   },
   {
    "duration": 10,
    "start_time": "2022-03-07T16:19:02.731Z"
   },
   {
    "duration": 13,
    "start_time": "2022-03-07T16:19:02.743Z"
   },
   {
    "duration": 12,
    "start_time": "2022-03-07T16:19:02.758Z"
   },
   {
    "duration": 9,
    "start_time": "2022-03-07T16:19:02.772Z"
   },
   {
    "duration": 6,
    "start_time": "2022-03-07T16:19:02.806Z"
   },
   {
    "duration": 11,
    "start_time": "2022-03-07T16:19:02.814Z"
   },
   {
    "duration": 6,
    "start_time": "2022-03-07T16:19:02.826Z"
   },
   {
    "duration": 277,
    "start_time": "2022-03-07T16:19:02.834Z"
   },
   {
    "duration": 258,
    "start_time": "2022-03-07T16:19:03.113Z"
   },
   {
    "duration": 299,
    "start_time": "2022-03-07T16:19:03.372Z"
   },
   {
    "duration": 300,
    "start_time": "2022-03-07T16:19:03.672Z"
   },
   {
    "duration": 20,
    "start_time": "2022-03-07T16:19:03.974Z"
   },
   {
    "duration": 4,
    "start_time": "2022-03-07T16:19:04.006Z"
   },
   {
    "duration": 23,
    "start_time": "2022-03-07T16:19:04.012Z"
   },
   {
    "duration": 17,
    "start_time": "2022-03-07T16:19:04.037Z"
   },
   {
    "duration": 231,
    "start_time": "2022-03-07T16:19:04.055Z"
   },
   {
    "duration": 18,
    "start_time": "2022-03-07T16:19:04.288Z"
   },
   {
    "duration": 231,
    "start_time": "2022-03-07T16:19:04.313Z"
   },
   {
    "duration": 11,
    "start_time": "2022-03-07T16:19:04.546Z"
   },
   {
    "duration": 189,
    "start_time": "2022-03-07T16:19:04.558Z"
   },
   {
    "duration": 6,
    "start_time": "2022-03-07T16:19:04.749Z"
   },
   {
    "duration": 34,
    "start_time": "2022-03-07T16:19:04.757Z"
   },
   {
    "duration": 47,
    "start_time": "2022-03-07T16:19:04.793Z"
   },
   {
    "duration": 191,
    "start_time": "2022-03-07T16:19:04.842Z"
   },
   {
    "duration": 144,
    "start_time": "2022-03-07T16:19:05.035Z"
   },
   {
    "duration": 11,
    "start_time": "2022-03-07T16:19:05.180Z"
   },
   {
    "duration": 15,
    "start_time": "2022-03-07T16:19:05.192Z"
   },
   {
    "duration": 6,
    "start_time": "2022-03-07T16:19:05.208Z"
   },
   {
    "duration": 203,
    "start_time": "2022-03-07T16:19:05.216Z"
   },
   {
    "duration": 135,
    "start_time": "2022-03-07T16:19:05.420Z"
   },
   {
    "duration": 10,
    "start_time": "2022-03-07T16:19:05.557Z"
   },
   {
    "duration": 7,
    "start_time": "2022-03-07T16:19:05.569Z"
   },
   {
    "duration": 8,
    "start_time": "2022-03-07T16:19:05.577Z"
   },
   {
    "duration": 188,
    "start_time": "2022-03-07T16:19:05.586Z"
   },
   {
    "duration": 7,
    "start_time": "2022-03-07T16:19:05.775Z"
   },
   {
    "duration": 215,
    "start_time": "2022-03-07T16:19:05.783Z"
   },
   {
    "duration": 12,
    "start_time": "2022-03-07T16:19:06.000Z"
   },
   {
    "duration": 228,
    "start_time": "2022-03-07T16:19:06.014Z"
   },
   {
    "duration": 11,
    "start_time": "2022-03-07T16:19:06.244Z"
   },
   {
    "duration": 172,
    "start_time": "2022-03-07T16:19:06.256Z"
   },
   {
    "duration": 7,
    "start_time": "2022-03-07T16:19:06.429Z"
   },
   {
    "duration": 7,
    "start_time": "2022-03-07T16:19:06.437Z"
   },
   {
    "duration": 207,
    "start_time": "2022-03-07T16:19:06.446Z"
   },
   {
    "duration": 127,
    "start_time": "2022-03-07T16:19:06.655Z"
   },
   {
    "duration": 11,
    "start_time": "2022-03-07T16:19:06.783Z"
   },
   {
    "duration": 5,
    "start_time": "2022-03-07T16:19:06.806Z"
   },
   {
    "duration": 5,
    "start_time": "2022-03-07T16:19:06.813Z"
   },
   {
    "duration": 204,
    "start_time": "2022-03-07T16:19:06.820Z"
   },
   {
    "duration": 211,
    "start_time": "2022-03-07T16:19:07.026Z"
   },
   {
    "duration": 141,
    "start_time": "2022-03-07T16:19:07.239Z"
   },
   {
    "duration": 13,
    "start_time": "2022-03-07T16:19:07.382Z"
   },
   {
    "duration": 3,
    "start_time": "2022-03-07T16:19:07.405Z"
   },
   {
    "duration": 12,
    "start_time": "2022-03-07T16:19:07.410Z"
   },
   {
    "duration": 167,
    "start_time": "2022-03-07T16:19:07.423Z"
   },
   {
    "duration": 14,
    "start_time": "2022-03-07T16:19:07.591Z"
   },
   {
    "duration": 215,
    "start_time": "2022-03-07T16:19:07.607Z"
   },
   {
    "duration": 12,
    "start_time": "2022-03-07T16:19:07.825Z"
   },
   {
    "duration": 242,
    "start_time": "2022-03-07T16:19:07.838Z"
   },
   {
    "duration": 11,
    "start_time": "2022-03-07T16:19:08.082Z"
   },
   {
    "duration": 183,
    "start_time": "2022-03-07T16:19:08.105Z"
   },
   {
    "duration": 6,
    "start_time": "2022-03-07T16:19:08.290Z"
   },
   {
    "duration": 7,
    "start_time": "2022-03-07T16:19:08.305Z"
   },
   {
    "duration": 192,
    "start_time": "2022-03-07T16:19:08.313Z"
   },
   {
    "duration": 128,
    "start_time": "2022-03-07T16:19:08.507Z"
   },
   {
    "duration": 11,
    "start_time": "2022-03-07T16:19:08.636Z"
   },
   {
    "duration": 8,
    "start_time": "2022-03-07T16:19:08.649Z"
   },
   {
    "duration": 7,
    "start_time": "2022-03-07T16:19:08.658Z"
   },
   {
    "duration": 191,
    "start_time": "2022-03-07T16:19:08.666Z"
   },
   {
    "duration": 138,
    "start_time": "2022-03-07T16:19:08.859Z"
   },
   {
    "duration": 16,
    "start_time": "2022-03-07T16:19:08.998Z"
   },
   {
    "duration": 5,
    "start_time": "2022-03-07T16:19:09.016Z"
   },
   {
    "duration": 6,
    "start_time": "2022-03-07T16:19:09.023Z"
   },
   {
    "duration": 180,
    "start_time": "2022-03-07T16:19:09.031Z"
   },
   {
    "duration": 6,
    "start_time": "2022-03-07T16:19:09.213Z"
   },
   {
    "duration": 7,
    "start_time": "2022-03-07T16:19:09.221Z"
   },
   {
    "duration": 6,
    "start_time": "2022-03-07T16:19:09.229Z"
   },
   {
    "duration": 15,
    "start_time": "2022-03-07T16:19:09.236Z"
   },
   {
    "duration": 7,
    "start_time": "2022-03-07T16:19:09.252Z"
   },
   {
    "duration": 8,
    "start_time": "2022-03-07T16:19:09.260Z"
   },
   {
    "duration": 5,
    "start_time": "2022-03-07T16:19:09.269Z"
   },
   {
    "duration": 32,
    "start_time": "2022-03-07T16:19:09.276Z"
   },
   {
    "duration": 12,
    "start_time": "2022-03-07T16:19:09.310Z"
   },
   {
    "duration": 176,
    "start_time": "2022-03-07T16:19:09.323Z"
   },
   {
    "duration": 5,
    "start_time": "2022-03-07T16:19:09.505Z"
   },
   {
    "duration": 1269,
    "start_time": "2022-03-07T16:19:47.357Z"
   },
   {
    "duration": 30,
    "start_time": "2022-03-07T16:19:48.628Z"
   },
   {
    "duration": 14,
    "start_time": "2022-03-07T16:19:48.660Z"
   },
   {
    "duration": 6,
    "start_time": "2022-03-07T16:19:48.676Z"
   },
   {
    "duration": 10,
    "start_time": "2022-03-07T16:19:48.683Z"
   },
   {
    "duration": 8,
    "start_time": "2022-03-07T16:19:48.695Z"
   },
   {
    "duration": 5,
    "start_time": "2022-03-07T16:19:48.705Z"
   },
   {
    "duration": 10,
    "start_time": "2022-03-07T16:19:48.713Z"
   },
   {
    "duration": 6,
    "start_time": "2022-03-07T16:19:48.726Z"
   },
   {
    "duration": 214,
    "start_time": "2022-03-07T16:19:48.734Z"
   },
   {
    "duration": 10,
    "start_time": "2022-03-07T16:19:48.950Z"
   },
   {
    "duration": 21,
    "start_time": "2022-03-07T16:19:48.962Z"
   },
   {
    "duration": 20,
    "start_time": "2022-03-07T16:19:48.985Z"
   },
   {
    "duration": 7,
    "start_time": "2022-03-07T16:19:49.007Z"
   },
   {
    "duration": 27,
    "start_time": "2022-03-07T16:19:49.015Z"
   },
   {
    "duration": 97,
    "start_time": "2022-03-07T16:19:49.044Z"
   },
   {
    "duration": 84,
    "start_time": "2022-03-07T16:19:49.143Z"
   },
   {
    "duration": 6,
    "start_time": "2022-03-07T16:19:49.229Z"
   },
   {
    "duration": 15,
    "start_time": "2022-03-07T16:19:49.237Z"
   },
   {
    "duration": 15,
    "start_time": "2022-03-07T16:19:49.254Z"
   },
   {
    "duration": 49,
    "start_time": "2022-03-07T16:19:49.270Z"
   },
   {
    "duration": 113,
    "start_time": "2022-03-07T16:19:49.320Z"
   },
   {
    "duration": 7,
    "start_time": "2022-03-07T16:19:49.437Z"
   },
   {
    "duration": 17,
    "start_time": "2022-03-07T16:19:49.447Z"
   },
   {
    "duration": 23,
    "start_time": "2022-03-07T16:19:49.465Z"
   },
   {
    "duration": 8,
    "start_time": "2022-03-07T16:19:49.505Z"
   },
   {
    "duration": 37,
    "start_time": "2022-03-07T16:19:49.514Z"
   },
   {
    "duration": 17,
    "start_time": "2022-03-07T16:19:49.553Z"
   },
   {
    "duration": 12,
    "start_time": "2022-03-07T16:19:49.571Z"
   },
   {
    "duration": 21,
    "start_time": "2022-03-07T16:19:49.584Z"
   },
   {
    "duration": 66,
    "start_time": "2022-03-07T16:19:49.607Z"
   },
   {
    "duration": 12,
    "start_time": "2022-03-07T16:19:49.674Z"
   },
   {
    "duration": 38,
    "start_time": "2022-03-07T16:19:49.688Z"
   },
   {
    "duration": 93,
    "start_time": "2022-03-07T16:19:49.728Z"
   },
   {
    "duration": 3,
    "start_time": "2022-03-07T16:19:49.823Z"
   },
   {
    "duration": 12,
    "start_time": "2022-03-07T16:19:49.827Z"
   },
   {
    "duration": 39,
    "start_time": "2022-03-07T16:19:49.840Z"
   },
   {
    "duration": 32,
    "start_time": "2022-03-07T16:19:49.880Z"
   },
   {
    "duration": 428,
    "start_time": "2022-03-07T16:19:49.914Z"
   },
   {
    "duration": 47,
    "start_time": "2022-03-07T16:19:50.344Z"
   },
   {
    "duration": 3,
    "start_time": "2022-03-07T16:19:50.405Z"
   },
   {
    "duration": 10,
    "start_time": "2022-03-07T16:19:50.410Z"
   },
   {
    "duration": 46,
    "start_time": "2022-03-07T16:19:50.422Z"
   },
   {
    "duration": 38,
    "start_time": "2022-03-07T16:19:50.470Z"
   },
   {
    "duration": 558,
    "start_time": "2022-03-07T16:19:50.510Z"
   },
   {
    "duration": 59,
    "start_time": "2022-03-07T16:19:51.070Z"
   },
   {
    "duration": 3,
    "start_time": "2022-03-07T16:19:51.131Z"
   },
   {
    "duration": 6,
    "start_time": "2022-03-07T16:19:51.135Z"
   },
   {
    "duration": 7,
    "start_time": "2022-03-07T16:19:51.142Z"
   },
   {
    "duration": 7,
    "start_time": "2022-03-07T16:19:51.150Z"
   },
   {
    "duration": 11,
    "start_time": "2022-03-07T16:19:51.158Z"
   },
   {
    "duration": 386,
    "start_time": "2022-03-07T16:19:51.170Z"
   },
   {
    "duration": -49294,
    "start_time": "2022-03-07T16:20:40.855Z"
   },
   {
    "duration": -49298,
    "start_time": "2022-03-07T16:20:40.860Z"
   },
   {
    "duration": -49302,
    "start_time": "2022-03-07T16:20:40.865Z"
   },
   {
    "duration": -49306,
    "start_time": "2022-03-07T16:20:40.869Z"
   },
   {
    "duration": -49310,
    "start_time": "2022-03-07T16:20:40.874Z"
   },
   {
    "duration": -49313,
    "start_time": "2022-03-07T16:20:40.878Z"
   },
   {
    "duration": -49317,
    "start_time": "2022-03-07T16:20:40.883Z"
   },
   {
    "duration": -49321,
    "start_time": "2022-03-07T16:20:40.888Z"
   },
   {
    "duration": -49324,
    "start_time": "2022-03-07T16:20:40.892Z"
   },
   {
    "duration": -49328,
    "start_time": "2022-03-07T16:20:40.897Z"
   },
   {
    "duration": -49332,
    "start_time": "2022-03-07T16:20:40.901Z"
   },
   {
    "duration": -49336,
    "start_time": "2022-03-07T16:20:40.906Z"
   },
   {
    "duration": -49339,
    "start_time": "2022-03-07T16:20:40.910Z"
   },
   {
    "duration": -49343,
    "start_time": "2022-03-07T16:20:40.915Z"
   },
   {
    "duration": -49374,
    "start_time": "2022-03-07T16:20:40.947Z"
   },
   {
    "duration": -49378,
    "start_time": "2022-03-07T16:20:40.952Z"
   },
   {
    "duration": -49384,
    "start_time": "2022-03-07T16:20:40.959Z"
   },
   {
    "duration": -49389,
    "start_time": "2022-03-07T16:20:40.964Z"
   },
   {
    "duration": -49393,
    "start_time": "2022-03-07T16:20:40.969Z"
   },
   {
    "duration": -49399,
    "start_time": "2022-03-07T16:20:40.976Z"
   },
   {
    "duration": -49402,
    "start_time": "2022-03-07T16:20:40.980Z"
   },
   {
    "duration": -49407,
    "start_time": "2022-03-07T16:20:40.986Z"
   },
   {
    "duration": -49411,
    "start_time": "2022-03-07T16:20:40.991Z"
   },
   {
    "duration": -49416,
    "start_time": "2022-03-07T16:20:40.997Z"
   },
   {
    "duration": -49419,
    "start_time": "2022-03-07T16:20:41.001Z"
   },
   {
    "duration": -49423,
    "start_time": "2022-03-07T16:20:41.006Z"
   },
   {
    "duration": -49429,
    "start_time": "2022-03-07T16:20:41.012Z"
   },
   {
    "duration": -49432,
    "start_time": "2022-03-07T16:20:41.016Z"
   },
   {
    "duration": -49436,
    "start_time": "2022-03-07T16:20:41.021Z"
   },
   {
    "duration": -49441,
    "start_time": "2022-03-07T16:20:41.027Z"
   },
   {
    "duration": -49444,
    "start_time": "2022-03-07T16:20:41.031Z"
   },
   {
    "duration": -49449,
    "start_time": "2022-03-07T16:20:41.036Z"
   },
   {
    "duration": -49454,
    "start_time": "2022-03-07T16:20:41.042Z"
   },
   {
    "duration": -49473,
    "start_time": "2022-03-07T16:20:41.062Z"
   },
   {
    "duration": -49478,
    "start_time": "2022-03-07T16:20:41.068Z"
   },
   {
    "duration": -49481,
    "start_time": "2022-03-07T16:20:41.073Z"
   },
   {
    "duration": -49485,
    "start_time": "2022-03-07T16:20:41.078Z"
   },
   {
    "duration": -49489,
    "start_time": "2022-03-07T16:20:41.083Z"
   },
   {
    "duration": -49493,
    "start_time": "2022-03-07T16:20:41.088Z"
   },
   {
    "duration": -49499,
    "start_time": "2022-03-07T16:20:41.095Z"
   },
   {
    "duration": -49502,
    "start_time": "2022-03-07T16:20:41.099Z"
   },
   {
    "duration": -49500,
    "start_time": "2022-03-07T16:20:41.105Z"
   },
   {
    "duration": -49505,
    "start_time": "2022-03-07T16:20:41.111Z"
   },
   {
    "duration": -49509,
    "start_time": "2022-03-07T16:20:41.116Z"
   },
   {
    "duration": -49512,
    "start_time": "2022-03-07T16:20:41.120Z"
   },
   {
    "duration": -49519,
    "start_time": "2022-03-07T16:20:41.127Z"
   },
   {
    "duration": -49523,
    "start_time": "2022-03-07T16:20:41.132Z"
   },
   {
    "duration": -49527,
    "start_time": "2022-03-07T16:20:41.137Z"
   },
   {
    "duration": -49531,
    "start_time": "2022-03-07T16:20:41.142Z"
   },
   {
    "duration": -49534,
    "start_time": "2022-03-07T16:20:41.147Z"
   },
   {
    "duration": -49537,
    "start_time": "2022-03-07T16:20:41.151Z"
   },
   {
    "duration": -49554,
    "start_time": "2022-03-07T16:20:41.170Z"
   },
   {
    "duration": -49558,
    "start_time": "2022-03-07T16:20:41.175Z"
   },
   {
    "duration": -49561,
    "start_time": "2022-03-07T16:20:41.180Z"
   },
   {
    "duration": -49565,
    "start_time": "2022-03-07T16:20:41.185Z"
   },
   {
    "duration": -49568,
    "start_time": "2022-03-07T16:20:41.189Z"
   },
   {
    "duration": -49571,
    "start_time": "2022-03-07T16:20:41.194Z"
   },
   {
    "duration": -49574,
    "start_time": "2022-03-07T16:20:41.198Z"
   },
   {
    "duration": -49576,
    "start_time": "2022-03-07T16:20:41.202Z"
   },
   {
    "duration": -49580,
    "start_time": "2022-03-07T16:20:41.207Z"
   },
   {
    "duration": -49583,
    "start_time": "2022-03-07T16:20:41.211Z"
   },
   {
    "duration": -49587,
    "start_time": "2022-03-07T16:20:41.217Z"
   },
   {
    "duration": -49590,
    "start_time": "2022-03-07T16:20:41.221Z"
   },
   {
    "duration": -49593,
    "start_time": "2022-03-07T16:20:41.226Z"
   },
   {
    "duration": -49596,
    "start_time": "2022-03-07T16:20:41.230Z"
   },
   {
    "duration": -49598,
    "start_time": "2022-03-07T16:20:41.234Z"
   },
   {
    "duration": -49601,
    "start_time": "2022-03-07T16:20:41.238Z"
   },
   {
    "duration": -49626,
    "start_time": "2022-03-07T16:20:41.265Z"
   },
   {
    "duration": -49638,
    "start_time": "2022-03-07T16:20:41.278Z"
   },
   {
    "duration": -49640,
    "start_time": "2022-03-07T16:20:41.282Z"
   },
   {
    "duration": -49644,
    "start_time": "2022-03-07T16:20:41.287Z"
   },
   {
    "duration": -49648,
    "start_time": "2022-03-07T16:20:41.293Z"
   },
   {
    "duration": -49591,
    "start_time": "2022-03-07T16:20:41.297Z"
   },
   {
    "duration": -49593,
    "start_time": "2022-03-07T16:20:41.301Z"
   },
   {
    "duration": -49597,
    "start_time": "2022-03-07T16:20:41.306Z"
   },
   {
    "duration": -49600,
    "start_time": "2022-03-07T16:20:41.311Z"
   },
   {
    "duration": -49603,
    "start_time": "2022-03-07T16:20:41.315Z"
   },
   {
    "duration": -49605,
    "start_time": "2022-03-07T16:20:41.319Z"
   },
   {
    "duration": -49609,
    "start_time": "2022-03-07T16:20:41.324Z"
   },
   {
    "duration": -49616,
    "start_time": "2022-03-07T16:20:41.332Z"
   },
   {
    "duration": -49619,
    "start_time": "2022-03-07T16:20:41.337Z"
   },
   {
    "duration": -49623,
    "start_time": "2022-03-07T16:20:41.342Z"
   },
   {
    "duration": 7565,
    "start_time": "2022-03-07T16:21:01.421Z"
   },
   {
    "duration": -48850,
    "start_time": "2022-03-07T16:21:57.838Z"
   },
   {
    "duration": -48853,
    "start_time": "2022-03-07T16:21:57.842Z"
   },
   {
    "duration": -48856,
    "start_time": "2022-03-07T16:21:57.846Z"
   },
   {
    "duration": 7668,
    "start_time": "2022-03-07T16:21:18.227Z"
   },
   {
    "duration": 1028,
    "start_time": "2022-03-07T16:21:40.951Z"
   },
   {
    "duration": 29,
    "start_time": "2022-03-07T16:21:41.981Z"
   },
   {
    "duration": 12,
    "start_time": "2022-03-07T16:21:42.012Z"
   },
   {
    "duration": 5,
    "start_time": "2022-03-07T16:21:42.026Z"
   },
   {
    "duration": 7,
    "start_time": "2022-03-07T16:21:42.033Z"
   },
   {
    "duration": 8,
    "start_time": "2022-03-07T16:21:42.042Z"
   },
   {
    "duration": 4,
    "start_time": "2022-03-07T16:21:42.052Z"
   },
   {
    "duration": 11,
    "start_time": "2022-03-07T16:21:42.059Z"
   },
   {
    "duration": 33,
    "start_time": "2022-03-07T16:21:42.072Z"
   },
   {
    "duration": 199,
    "start_time": "2022-03-07T16:21:42.107Z"
   },
   {
    "duration": 7,
    "start_time": "2022-03-07T16:21:42.308Z"
   },
   {
    "duration": 21,
    "start_time": "2022-03-07T16:21:42.317Z"
   },
   {
    "duration": 4,
    "start_time": "2022-03-07T16:21:42.339Z"
   },
   {
    "duration": 9,
    "start_time": "2022-03-07T16:21:42.344Z"
   },
   {
    "duration": 26,
    "start_time": "2022-03-07T16:21:42.354Z"
   },
   {
    "duration": 101,
    "start_time": "2022-03-07T16:21:42.381Z"
   },
   {
    "duration": 90,
    "start_time": "2022-03-07T16:21:42.484Z"
   },
   {
    "duration": 7,
    "start_time": "2022-03-07T16:21:42.575Z"
   },
   {
    "duration": 22,
    "start_time": "2022-03-07T16:21:42.583Z"
   },
   {
    "duration": 21,
    "start_time": "2022-03-07T16:21:42.607Z"
   },
   {
    "duration": 33,
    "start_time": "2022-03-07T16:21:42.629Z"
   },
   {
    "duration": 115,
    "start_time": "2022-03-07T16:21:42.663Z"
   },
   {
    "duration": 7,
    "start_time": "2022-03-07T16:21:42.782Z"
   },
   {
    "duration": 28,
    "start_time": "2022-03-07T16:21:42.792Z"
   },
   {
    "duration": 20,
    "start_time": "2022-03-07T16:21:42.821Z"
   },
   {
    "duration": 9,
    "start_time": "2022-03-07T16:21:42.842Z"
   },
   {
    "duration": 55,
    "start_time": "2022-03-07T16:21:42.853Z"
   },
   {
    "duration": 18,
    "start_time": "2022-03-07T16:21:42.909Z"
   },
   {
    "duration": 11,
    "start_time": "2022-03-07T16:21:42.928Z"
   },
   {
    "duration": 9,
    "start_time": "2022-03-07T16:21:42.940Z"
   },
   {
    "duration": 71,
    "start_time": "2022-03-07T16:21:42.950Z"
   },
   {
    "duration": 12,
    "start_time": "2022-03-07T16:21:43.022Z"
   },
   {
    "duration": 23,
    "start_time": "2022-03-07T16:21:43.036Z"
   },
   {
    "duration": 89,
    "start_time": "2022-03-07T16:21:43.061Z"
   },
   {
    "duration": 3,
    "start_time": "2022-03-07T16:21:43.152Z"
   },
   {
    "duration": 15,
    "start_time": "2022-03-07T16:21:43.156Z"
   },
   {
    "duration": 47,
    "start_time": "2022-03-07T16:21:43.173Z"
   },
   {
    "duration": 11,
    "start_time": "2022-03-07T16:21:43.222Z"
   },
   {
    "duration": 17,
    "start_time": "2022-03-07T16:21:43.235Z"
   },
   {
    "duration": 58,
    "start_time": "2022-03-07T16:21:43.254Z"
   },
   {
    "duration": 3,
    "start_time": "2022-03-07T16:21:43.314Z"
   },
   {
    "duration": 15,
    "start_time": "2022-03-07T16:21:43.318Z"
   },
   {
    "duration": 54,
    "start_time": "2022-03-07T16:21:43.334Z"
   },
   {
    "duration": 15,
    "start_time": "2022-03-07T16:21:43.390Z"
   },
   {
    "duration": 483,
    "start_time": "2022-03-07T16:21:43.407Z"
   },
   {
    "duration": 64,
    "start_time": "2022-03-07T16:21:43.892Z"
   },
   {
    "duration": 2,
    "start_time": "2022-03-07T16:21:43.958Z"
   },
   {
    "duration": 6,
    "start_time": "2022-03-07T16:21:43.962Z"
   },
   {
    "duration": 5,
    "start_time": "2022-03-07T16:21:43.969Z"
   },
   {
    "duration": 5,
    "start_time": "2022-03-07T16:21:43.975Z"
   },
   {
    "duration": 23,
    "start_time": "2022-03-07T16:21:43.982Z"
   },
   {
    "duration": 12,
    "start_time": "2022-03-07T16:21:44.007Z"
   },
   {
    "duration": 401,
    "start_time": "2022-03-07T16:21:44.021Z"
   },
   {
    "duration": -49242,
    "start_time": "2022-03-07T16:22:33.668Z"
   },
   {
    "duration": -49247,
    "start_time": "2022-03-07T16:22:33.674Z"
   },
   {
    "duration": -49251,
    "start_time": "2022-03-07T16:22:33.678Z"
   },
   {
    "duration": -49255,
    "start_time": "2022-03-07T16:22:33.684Z"
   },
   {
    "duration": -49258,
    "start_time": "2022-03-07T16:22:33.688Z"
   },
   {
    "duration": -49264,
    "start_time": "2022-03-07T16:22:33.694Z"
   },
   {
    "duration": -49266,
    "start_time": "2022-03-07T16:22:33.698Z"
   },
   {
    "duration": -49270,
    "start_time": "2022-03-07T16:22:33.703Z"
   },
   {
    "duration": -49274,
    "start_time": "2022-03-07T16:22:33.708Z"
   },
   {
    "duration": -49277,
    "start_time": "2022-03-07T16:22:33.712Z"
   },
   {
    "duration": -49281,
    "start_time": "2022-03-07T16:22:33.717Z"
   },
   {
    "duration": -49285,
    "start_time": "2022-03-07T16:22:33.722Z"
   },
   {
    "duration": -49289,
    "start_time": "2022-03-07T16:22:33.726Z"
   },
   {
    "duration": -49293,
    "start_time": "2022-03-07T16:22:33.731Z"
   },
   {
    "duration": -49297,
    "start_time": "2022-03-07T16:22:33.736Z"
   },
   {
    "duration": -49300,
    "start_time": "2022-03-07T16:22:33.740Z"
   },
   {
    "duration": -49304,
    "start_time": "2022-03-07T16:22:33.745Z"
   },
   {
    "duration": -49308,
    "start_time": "2022-03-07T16:22:33.750Z"
   },
   {
    "duration": -49312,
    "start_time": "2022-03-07T16:22:33.755Z"
   },
   {
    "duration": -49483,
    "start_time": "2022-03-07T16:22:33.926Z"
   },
   {
    "duration": -49488,
    "start_time": "2022-03-07T16:22:33.932Z"
   },
   {
    "duration": -49513,
    "start_time": "2022-03-07T16:22:33.958Z"
   },
   {
    "duration": -49522,
    "start_time": "2022-03-07T16:22:33.968Z"
   },
   {
    "duration": -49535,
    "start_time": "2022-03-07T16:22:33.981Z"
   },
   {
    "duration": -49538,
    "start_time": "2022-03-07T16:22:33.985Z"
   },
   {
    "duration": -49551,
    "start_time": "2022-03-07T16:22:33.999Z"
   },
   {
    "duration": -49556,
    "start_time": "2022-03-07T16:22:34.005Z"
   },
   {
    "duration": -49568,
    "start_time": "2022-03-07T16:22:34.018Z"
   },
   {
    "duration": -49572,
    "start_time": "2022-03-07T16:22:34.023Z"
   },
   {
    "duration": -49643,
    "start_time": "2022-03-07T16:22:34.095Z"
   },
   {
    "duration": -49768,
    "start_time": "2022-03-07T16:22:34.221Z"
   },
   {
    "duration": -49771,
    "start_time": "2022-03-07T16:22:34.225Z"
   },
   {
    "duration": -49775,
    "start_time": "2022-03-07T16:22:34.229Z"
   },
   {
    "duration": -49778,
    "start_time": "2022-03-07T16:22:34.233Z"
   },
   {
    "duration": -49782,
    "start_time": "2022-03-07T16:22:34.238Z"
   },
   {
    "duration": -49785,
    "start_time": "2022-03-07T16:22:34.242Z"
   },
   {
    "duration": -49788,
    "start_time": "2022-03-07T16:22:34.246Z"
   },
   {
    "duration": -49793,
    "start_time": "2022-03-07T16:22:34.252Z"
   },
   {
    "duration": -49798,
    "start_time": "2022-03-07T16:22:34.258Z"
   },
   {
    "duration": -49803,
    "start_time": "2022-03-07T16:22:34.263Z"
   },
   {
    "duration": -49806,
    "start_time": "2022-03-07T16:22:34.267Z"
   },
   {
    "duration": -49769,
    "start_time": "2022-03-07T16:22:34.273Z"
   },
   {
    "duration": -49771,
    "start_time": "2022-03-07T16:22:34.277Z"
   },
   {
    "duration": -49774,
    "start_time": "2022-03-07T16:22:34.281Z"
   },
   {
    "duration": -49777,
    "start_time": "2022-03-07T16:22:34.285Z"
   },
   {
    "duration": -49781,
    "start_time": "2022-03-07T16:22:34.290Z"
   },
   {
    "duration": -49784,
    "start_time": "2022-03-07T16:22:34.294Z"
   },
   {
    "duration": -49788,
    "start_time": "2022-03-07T16:22:34.299Z"
   },
   {
    "duration": -49791,
    "start_time": "2022-03-07T16:22:34.303Z"
   },
   {
    "duration": -49794,
    "start_time": "2022-03-07T16:22:34.307Z"
   },
   {
    "duration": -49797,
    "start_time": "2022-03-07T16:22:34.311Z"
   },
   {
    "duration": -49801,
    "start_time": "2022-03-07T16:22:34.316Z"
   },
   {
    "duration": -49813,
    "start_time": "2022-03-07T16:22:34.329Z"
   },
   {
    "duration": -49817,
    "start_time": "2022-03-07T16:22:34.334Z"
   },
   {
    "duration": -49821,
    "start_time": "2022-03-07T16:22:34.339Z"
   },
   {
    "duration": -49823,
    "start_time": "2022-03-07T16:22:34.343Z"
   },
   {
    "duration": -49827,
    "start_time": "2022-03-07T16:22:34.347Z"
   },
   {
    "duration": -49831,
    "start_time": "2022-03-07T16:22:34.352Z"
   },
   {
    "duration": -49834,
    "start_time": "2022-03-07T16:22:34.356Z"
   },
   {
    "duration": -49853,
    "start_time": "2022-03-07T16:22:34.376Z"
   },
   {
    "duration": -49856,
    "start_time": "2022-03-07T16:22:34.380Z"
   },
   {
    "duration": -49859,
    "start_time": "2022-03-07T16:22:34.385Z"
   },
   {
    "duration": -49863,
    "start_time": "2022-03-07T16:22:34.390Z"
   },
   {
    "duration": -49914,
    "start_time": "2022-03-07T16:22:34.442Z"
   },
   {
    "duration": -49917,
    "start_time": "2022-03-07T16:22:34.446Z"
   },
   {
    "duration": -49921,
    "start_time": "2022-03-07T16:22:34.451Z"
   },
   {
    "duration": -49925,
    "start_time": "2022-03-07T16:22:34.456Z"
   },
   {
    "duration": -49928,
    "start_time": "2022-03-07T16:22:34.460Z"
   },
   {
    "duration": -49931,
    "start_time": "2022-03-07T16:22:34.464Z"
   },
   {
    "duration": -49934,
    "start_time": "2022-03-07T16:22:34.468Z"
   },
   {
    "duration": -49939,
    "start_time": "2022-03-07T16:22:34.473Z"
   },
   {
    "duration": -49943,
    "start_time": "2022-03-07T16:22:34.478Z"
   },
   {
    "duration": -49945,
    "start_time": "2022-03-07T16:22:34.481Z"
   },
   {
    "duration": -49956,
    "start_time": "2022-03-07T16:22:34.493Z"
   },
   {
    "duration": -49959,
    "start_time": "2022-03-07T16:22:34.497Z"
   },
   {
    "duration": -49962,
    "start_time": "2022-03-07T16:22:34.501Z"
   },
   {
    "duration": -49966,
    "start_time": "2022-03-07T16:22:34.506Z"
   },
   {
    "duration": -49970,
    "start_time": "2022-03-07T16:22:34.511Z"
   },
   {
    "duration": -49973,
    "start_time": "2022-03-07T16:22:34.515Z"
   },
   {
    "duration": -49977,
    "start_time": "2022-03-07T16:22:34.520Z"
   },
   {
    "duration": -49980,
    "start_time": "2022-03-07T16:22:34.524Z"
   },
   {
    "duration": 1086,
    "start_time": "2022-03-07T16:22:49.095Z"
   },
   {
    "duration": 43,
    "start_time": "2022-03-07T16:22:50.183Z"
   },
   {
    "duration": 17,
    "start_time": "2022-03-07T16:22:50.227Z"
   },
   {
    "duration": 7,
    "start_time": "2022-03-07T16:22:50.246Z"
   },
   {
    "duration": 9,
    "start_time": "2022-03-07T16:22:50.254Z"
   },
   {
    "duration": 12,
    "start_time": "2022-03-07T16:22:50.265Z"
   },
   {
    "duration": 6,
    "start_time": "2022-03-07T16:22:50.278Z"
   },
   {
    "duration": 14,
    "start_time": "2022-03-07T16:22:50.287Z"
   },
   {
    "duration": 6,
    "start_time": "2022-03-07T16:22:50.304Z"
   },
   {
    "duration": 210,
    "start_time": "2022-03-07T16:22:50.311Z"
   },
   {
    "duration": 10,
    "start_time": "2022-03-07T16:22:50.523Z"
   },
   {
    "duration": 20,
    "start_time": "2022-03-07T16:22:50.535Z"
   },
   {
    "duration": 3,
    "start_time": "2022-03-07T16:22:50.557Z"
   },
   {
    "duration": 8,
    "start_time": "2022-03-07T16:22:50.562Z"
   },
   {
    "duration": 55,
    "start_time": "2022-03-07T16:22:50.572Z"
   },
   {
    "duration": 91,
    "start_time": "2022-03-07T16:22:50.629Z"
   },
   {
    "duration": 86,
    "start_time": "2022-03-07T16:22:50.722Z"
   },
   {
    "duration": 6,
    "start_time": "2022-03-07T16:22:50.810Z"
   },
   {
    "duration": 23,
    "start_time": "2022-03-07T16:22:50.818Z"
   },
   {
    "duration": 16,
    "start_time": "2022-03-07T16:22:50.843Z"
   },
   {
    "duration": 58,
    "start_time": "2022-03-07T16:22:50.860Z"
   },
   {
    "duration": 117,
    "start_time": "2022-03-07T16:22:50.920Z"
   },
   {
    "duration": 8,
    "start_time": "2022-03-07T16:22:51.041Z"
   },
   {
    "duration": 16,
    "start_time": "2022-03-07T16:22:51.052Z"
   },
   {
    "duration": 19,
    "start_time": "2022-03-07T16:22:51.070Z"
   },
   {
    "duration": 20,
    "start_time": "2022-03-07T16:22:51.090Z"
   },
   {
    "duration": 35,
    "start_time": "2022-03-07T16:22:51.112Z"
   },
   {
    "duration": 17,
    "start_time": "2022-03-07T16:22:51.148Z"
   },
   {
    "duration": 9,
    "start_time": "2022-03-07T16:22:51.167Z"
   },
   {
    "duration": 9,
    "start_time": "2022-03-07T16:22:51.178Z"
   },
   {
    "duration": 85,
    "start_time": "2022-03-07T16:22:51.188Z"
   },
   {
    "duration": 11,
    "start_time": "2022-03-07T16:22:51.275Z"
   },
   {
    "duration": 36,
    "start_time": "2022-03-07T16:22:51.288Z"
   },
   {
    "duration": 86,
    "start_time": "2022-03-07T16:22:51.326Z"
   },
   {
    "duration": 3,
    "start_time": "2022-03-07T16:22:51.414Z"
   },
   {
    "duration": 10,
    "start_time": "2022-03-07T16:22:51.419Z"
   },
   {
    "duration": 47,
    "start_time": "2022-03-07T16:22:51.431Z"
   },
   {
    "duration": 12,
    "start_time": "2022-03-07T16:22:51.479Z"
   },
   {
    "duration": 15,
    "start_time": "2022-03-07T16:22:51.506Z"
   },
   {
    "duration": 46,
    "start_time": "2022-03-07T16:22:51.522Z"
   },
   {
    "duration": 3,
    "start_time": "2022-03-07T16:22:51.570Z"
   },
   {
    "duration": 32,
    "start_time": "2022-03-07T16:22:51.574Z"
   },
   {
    "duration": 46,
    "start_time": "2022-03-07T16:22:51.608Z"
   },
   {
    "duration": 22,
    "start_time": "2022-03-07T16:22:51.656Z"
   },
   {
    "duration": 26,
    "start_time": "2022-03-07T16:22:51.680Z"
   },
   {
    "duration": 51,
    "start_time": "2022-03-07T16:22:51.708Z"
   },
   {
    "duration": 3,
    "start_time": "2022-03-07T16:22:51.761Z"
   },
   {
    "duration": 5,
    "start_time": "2022-03-07T16:22:51.766Z"
   },
   {
    "duration": 5,
    "start_time": "2022-03-07T16:22:51.772Z"
   },
   {
    "duration": 28,
    "start_time": "2022-03-07T16:22:51.779Z"
   },
   {
    "duration": 12,
    "start_time": "2022-03-07T16:22:51.809Z"
   },
   {
    "duration": 15,
    "start_time": "2022-03-07T16:22:51.823Z"
   },
   {
    "duration": 14,
    "start_time": "2022-03-07T16:22:51.839Z"
   },
   {
    "duration": 10,
    "start_time": "2022-03-07T16:22:51.855Z"
   },
   {
    "duration": 6,
    "start_time": "2022-03-07T16:22:51.867Z"
   },
   {
    "duration": 7,
    "start_time": "2022-03-07T16:22:51.875Z"
   },
   {
    "duration": 25,
    "start_time": "2022-03-07T16:22:51.883Z"
   },
   {
    "duration": 297,
    "start_time": "2022-03-07T16:22:51.910Z"
   },
   {
    "duration": 276,
    "start_time": "2022-03-07T16:22:52.208Z"
   },
   {
    "duration": 281,
    "start_time": "2022-03-07T16:22:52.485Z"
   },
   {
    "duration": 290,
    "start_time": "2022-03-07T16:22:52.767Z"
   },
   {
    "duration": 20,
    "start_time": "2022-03-07T16:22:53.059Z"
   },
   {
    "duration": 4,
    "start_time": "2022-03-07T16:22:53.080Z"
   },
   {
    "duration": 25,
    "start_time": "2022-03-07T16:22:53.086Z"
   },
   {
    "duration": 11,
    "start_time": "2022-03-07T16:22:53.113Z"
   },
   {
    "duration": 279,
    "start_time": "2022-03-07T16:22:53.126Z"
   },
   {
    "duration": 13,
    "start_time": "2022-03-07T16:22:53.407Z"
   },
   {
    "duration": 269,
    "start_time": "2022-03-07T16:22:53.426Z"
   },
   {
    "duration": 16,
    "start_time": "2022-03-07T16:22:53.698Z"
   },
   {
    "duration": 182,
    "start_time": "2022-03-07T16:22:53.716Z"
   },
   {
    "duration": 12,
    "start_time": "2022-03-07T16:22:53.900Z"
   },
   {
    "duration": 11,
    "start_time": "2022-03-07T16:22:53.913Z"
   },
   {
    "duration": 16,
    "start_time": "2022-03-07T16:22:53.926Z"
   },
   {
    "duration": 197,
    "start_time": "2022-03-07T16:22:53.944Z"
   },
   {
    "duration": 192,
    "start_time": "2022-03-07T16:22:54.143Z"
   },
   {
    "duration": 11,
    "start_time": "2022-03-07T16:22:54.336Z"
   },
   {
    "duration": 12,
    "start_time": "2022-03-07T16:22:54.349Z"
   },
   {
    "duration": 9,
    "start_time": "2022-03-07T16:22:54.364Z"
   },
   {
    "duration": 449,
    "start_time": "2022-03-07T16:22:54.375Z"
   },
   {
    "duration": 334,
    "start_time": "2022-03-07T16:22:54.826Z"
   },
   {
    "duration": 47,
    "start_time": "2022-03-07T16:22:55.162Z"
   },
   {
    "duration": 6,
    "start_time": "2022-03-07T16:22:55.210Z"
   },
   {
    "duration": 5,
    "start_time": "2022-03-07T16:22:55.218Z"
   },
   {
    "duration": 197,
    "start_time": "2022-03-07T16:22:55.225Z"
   },
   {
    "duration": 7,
    "start_time": "2022-03-07T16:22:55.424Z"
   },
   {
    "duration": 244,
    "start_time": "2022-03-07T16:22:55.433Z"
   },
   {
    "duration": 11,
    "start_time": "2022-03-07T16:22:55.679Z"
   },
   {
    "duration": 257,
    "start_time": "2022-03-07T16:22:55.691Z"
   },
   {
    "duration": 10,
    "start_time": "2022-03-07T16:22:55.950Z"
   },
   {
    "duration": 183,
    "start_time": "2022-03-07T16:22:55.961Z"
   },
   {
    "duration": 8,
    "start_time": "2022-03-07T16:22:56.145Z"
   },
   {
    "duration": 6,
    "start_time": "2022-03-07T16:22:56.154Z"
   },
   {
    "duration": 192,
    "start_time": "2022-03-07T16:22:56.162Z"
   },
   {
    "duration": 131,
    "start_time": "2022-03-07T16:22:56.356Z"
   },
   {
    "duration": 17,
    "start_time": "2022-03-07T16:22:56.489Z"
   },
   {
    "duration": 4,
    "start_time": "2022-03-07T16:22:56.508Z"
   },
   {
    "duration": 6,
    "start_time": "2022-03-07T16:22:56.513Z"
   },
   {
    "duration": 143,
    "start_time": "2022-03-07T16:22:56.521Z"
   },
   {
    "duration": 205,
    "start_time": "2022-03-07T16:22:56.666Z"
   },
   {
    "duration": 208,
    "start_time": "2022-03-07T16:22:56.873Z"
   },
   {
    "duration": 11,
    "start_time": "2022-03-07T16:22:57.083Z"
   },
   {
    "duration": 11,
    "start_time": "2022-03-07T16:22:57.096Z"
   },
   {
    "duration": 7,
    "start_time": "2022-03-07T16:22:57.109Z"
   },
   {
    "duration": 183,
    "start_time": "2022-03-07T16:22:57.118Z"
   },
   {
    "duration": 8,
    "start_time": "2022-03-07T16:22:57.303Z"
   },
   {
    "duration": 252,
    "start_time": "2022-03-07T16:22:57.313Z"
   },
   {
    "duration": 12,
    "start_time": "2022-03-07T16:22:57.566Z"
   },
   {
    "duration": 247,
    "start_time": "2022-03-07T16:22:57.580Z"
   },
   {
    "duration": 11,
    "start_time": "2022-03-07T16:22:57.829Z"
   },
   {
    "duration": 193,
    "start_time": "2022-03-07T16:22:57.842Z"
   },
   {
    "duration": 9,
    "start_time": "2022-03-07T16:22:58.037Z"
   },
   {
    "duration": 8,
    "start_time": "2022-03-07T16:22:58.047Z"
   },
   {
    "duration": 206,
    "start_time": "2022-03-07T16:22:58.056Z"
   },
   {
    "duration": 124,
    "start_time": "2022-03-07T16:22:58.264Z"
   },
   {
    "duration": 19,
    "start_time": "2022-03-07T16:22:58.390Z"
   },
   {
    "duration": 12,
    "start_time": "2022-03-07T16:22:58.411Z"
   },
   {
    "duration": 12,
    "start_time": "2022-03-07T16:22:58.425Z"
   },
   {
    "duration": 183,
    "start_time": "2022-03-07T16:22:58.439Z"
   },
   {
    "duration": 128,
    "start_time": "2022-03-07T16:22:58.623Z"
   },
   {
    "duration": 14,
    "start_time": "2022-03-07T16:22:58.753Z"
   },
   {
    "duration": 4,
    "start_time": "2022-03-07T16:22:58.769Z"
   },
   {
    "duration": 6,
    "start_time": "2022-03-07T16:22:58.775Z"
   },
   {
    "duration": 262,
    "start_time": "2022-03-07T16:22:58.782Z"
   },
   {
    "duration": 10,
    "start_time": "2022-03-07T16:22:59.046Z"
   },
   {
    "duration": 8,
    "start_time": "2022-03-07T16:22:59.057Z"
   },
   {
    "duration": 6,
    "start_time": "2022-03-07T16:22:59.067Z"
   },
   {
    "duration": 5,
    "start_time": "2022-03-07T16:22:59.075Z"
   },
   {
    "duration": 30,
    "start_time": "2022-03-07T16:22:59.082Z"
   },
   {
    "duration": 7,
    "start_time": "2022-03-07T16:22:59.114Z"
   },
   {
    "duration": 6,
    "start_time": "2022-03-07T16:22:59.122Z"
   },
   {
    "duration": 9,
    "start_time": "2022-03-07T16:22:59.129Z"
   },
   {
    "duration": 8,
    "start_time": "2022-03-07T16:22:59.139Z"
   },
   {
    "duration": 210,
    "start_time": "2022-03-07T16:22:59.148Z"
   },
   {
    "duration": 5,
    "start_time": "2022-03-07T16:22:59.360Z"
   },
   {
    "duration": 110,
    "start_time": "2022-03-07T16:28:00.061Z"
   },
   {
    "duration": 11,
    "start_time": "2022-03-07T16:30:03.030Z"
   },
   {
    "duration": 11,
    "start_time": "2022-03-07T16:30:11.218Z"
   },
   {
    "duration": 419,
    "start_time": "2022-03-07T16:30:22.253Z"
   },
   {
    "duration": 22,
    "start_time": "2022-03-07T16:30:54.357Z"
   },
   {
    "duration": 12,
    "start_time": "2022-03-07T16:31:06.575Z"
   },
   {
    "duration": 22,
    "start_time": "2022-03-07T16:31:58.621Z"
   },
   {
    "duration": 315,
    "start_time": "2022-03-07T16:34:44.218Z"
   },
   {
    "duration": 318,
    "start_time": "2022-03-07T16:35:00.877Z"
   },
   {
    "duration": 387,
    "start_time": "2022-03-07T16:35:41.695Z"
   },
   {
    "duration": 163,
    "start_time": "2022-03-07T16:35:49.559Z"
   },
   {
    "duration": 184,
    "start_time": "2022-03-07T16:36:13.751Z"
   },
   {
    "duration": 627,
    "start_time": "2022-03-07T16:46:03.977Z"
   },
   {
    "duration": 189,
    "start_time": "2022-03-07T16:46:13.355Z"
   },
   {
    "duration": 518,
    "start_time": "2022-03-07T16:46:51.410Z"
   },
   {
    "duration": 104,
    "start_time": "2022-03-07T16:47:04.154Z"
   },
   {
    "duration": 218,
    "start_time": "2022-03-07T16:47:06.434Z"
   },
   {
    "duration": 517,
    "start_time": "2022-03-07T16:47:23.343Z"
   },
   {
    "duration": 501,
    "start_time": "2022-03-07T16:48:17.742Z"
   },
   {
    "duration": 486,
    "start_time": "2022-03-07T16:48:24.725Z"
   },
   {
    "duration": 202,
    "start_time": "2022-03-07T16:48:47.741Z"
   },
   {
    "duration": 208,
    "start_time": "2022-03-07T16:48:57.578Z"
   },
   {
    "duration": 219,
    "start_time": "2022-03-07T16:49:04.962Z"
   },
   {
    "duration": 316,
    "start_time": "2022-03-07T16:49:08.910Z"
   },
   {
    "duration": 203,
    "start_time": "2022-03-07T16:49:21.246Z"
   },
   {
    "duration": 487,
    "start_time": "2022-03-07T16:49:24.929Z"
   },
   {
    "duration": 213,
    "start_time": "2022-03-07T16:49:30.930Z"
   },
   {
    "duration": 221,
    "start_time": "2022-03-07T16:49:35.367Z"
   },
   {
    "duration": 189,
    "start_time": "2022-03-07T16:49:42.308Z"
   },
   {
    "duration": 493,
    "start_time": "2022-03-07T16:52:46.702Z"
   },
   {
    "duration": 307,
    "start_time": "2022-03-07T16:52:51.762Z"
   },
   {
    "duration": 20,
    "start_time": "2022-03-07T16:53:37.603Z"
   },
   {
    "duration": 343,
    "start_time": "2022-03-07T16:53:55.674Z"
   },
   {
    "duration": 358,
    "start_time": "2022-03-07T16:54:53.035Z"
   },
   {
    "duration": 306,
    "start_time": "2022-03-07T16:54:58.093Z"
   },
   {
    "duration": 294,
    "start_time": "2022-03-07T17:48:12.388Z"
   },
   {
    "duration": 616,
    "start_time": "2022-03-07T17:50:59.775Z"
   },
   {
    "duration": 321,
    "start_time": "2022-03-07T17:51:04.697Z"
   },
   {
    "duration": 463,
    "start_time": "2022-03-07T17:51:35.714Z"
   },
   {
    "duration": 296,
    "start_time": "2022-03-07T17:52:07.753Z"
   },
   {
    "duration": 300,
    "start_time": "2022-03-07T17:52:50.298Z"
   },
   {
    "duration": 332,
    "start_time": "2022-03-07T17:53:06.498Z"
   },
   {
    "duration": 337,
    "start_time": "2022-03-07T17:53:21.446Z"
   },
   {
    "duration": 43,
    "start_time": "2022-03-07T17:55:27.194Z"
   },
   {
    "duration": 8,
    "start_time": "2022-03-07T17:55:35.493Z"
   },
   {
    "duration": 7,
    "start_time": "2022-03-07T17:55:41.828Z"
   },
   {
    "duration": 7,
    "start_time": "2022-03-07T17:56:05.633Z"
   },
   {
    "duration": 278,
    "start_time": "2022-03-07T18:13:10.645Z"
   },
   {
    "duration": 362,
    "start_time": "2022-03-07T18:13:14.665Z"
   },
   {
    "duration": -48802,
    "start_time": "2022-03-07T18:14:03.830Z"
   },
   {
    "duration": 284,
    "start_time": "2022-03-07T18:13:15.397Z"
   },
   {
    "duration": 999,
    "start_time": "2022-03-07T18:13:19.415Z"
   },
   {
    "duration": 28,
    "start_time": "2022-03-07T18:13:20.416Z"
   },
   {
    "duration": 11,
    "start_time": "2022-03-07T18:13:20.448Z"
   },
   {
    "duration": 4,
    "start_time": "2022-03-07T18:13:20.460Z"
   },
   {
    "duration": 9,
    "start_time": "2022-03-07T18:13:20.465Z"
   },
   {
    "duration": 6,
    "start_time": "2022-03-07T18:13:20.476Z"
   },
   {
    "duration": 3,
    "start_time": "2022-03-07T18:13:20.484Z"
   },
   {
    "duration": 11,
    "start_time": "2022-03-07T18:13:20.489Z"
   },
   {
    "duration": 9,
    "start_time": "2022-03-07T18:13:20.501Z"
   },
   {
    "duration": 134,
    "start_time": "2022-03-07T18:13:20.511Z"
   },
   {
    "duration": 7,
    "start_time": "2022-03-07T18:13:20.647Z"
   },
   {
    "duration": 20,
    "start_time": "2022-03-07T18:13:20.656Z"
   },
   {
    "duration": 4,
    "start_time": "2022-03-07T18:13:20.677Z"
   },
   {
    "duration": 10,
    "start_time": "2022-03-07T18:13:20.683Z"
   },
   {
    "duration": 23,
    "start_time": "2022-03-07T18:13:20.705Z"
   },
   {
    "duration": 83,
    "start_time": "2022-03-07T18:13:20.730Z"
   },
   {
    "duration": 80,
    "start_time": "2022-03-07T18:13:20.815Z"
   },
   {
    "duration": 6,
    "start_time": "2022-03-07T18:13:20.897Z"
   },
   {
    "duration": 19,
    "start_time": "2022-03-07T18:13:20.904Z"
   },
   {
    "duration": 16,
    "start_time": "2022-03-07T18:13:20.925Z"
   },
   {
    "duration": 30,
    "start_time": "2022-03-07T18:13:20.942Z"
   },
   {
    "duration": 117,
    "start_time": "2022-03-07T18:13:20.975Z"
   },
   {
    "duration": 12,
    "start_time": "2022-03-07T18:13:21.094Z"
   },
   {
    "duration": 15,
    "start_time": "2022-03-07T18:13:21.107Z"
   },
   {
    "duration": 16,
    "start_time": "2022-03-07T18:13:21.124Z"
   },
   {
    "duration": 6,
    "start_time": "2022-03-07T18:13:21.141Z"
   },
   {
    "duration": 33,
    "start_time": "2022-03-07T18:13:21.149Z"
   },
   {
    "duration": 36,
    "start_time": "2022-03-07T18:13:21.184Z"
   },
   {
    "duration": 9,
    "start_time": "2022-03-07T18:13:21.222Z"
   },
   {
    "duration": 6,
    "start_time": "2022-03-07T18:13:21.233Z"
   },
   {
    "duration": 64,
    "start_time": "2022-03-07T18:13:21.241Z"
   },
   {
    "duration": 11,
    "start_time": "2022-03-07T18:13:21.307Z"
   },
   {
    "duration": 20,
    "start_time": "2022-03-07T18:13:21.320Z"
   },
   {
    "duration": 90,
    "start_time": "2022-03-07T18:13:21.341Z"
   },
   {
    "duration": 3,
    "start_time": "2022-03-07T18:13:21.432Z"
   },
   {
    "duration": 11,
    "start_time": "2022-03-07T18:13:21.436Z"
   },
   {
    "duration": 38,
    "start_time": "2022-03-07T18:13:21.448Z"
   },
   {
    "duration": 22,
    "start_time": "2022-03-07T18:13:21.488Z"
   },
   {
    "duration": 13,
    "start_time": "2022-03-07T18:13:21.512Z"
   },
   {
    "duration": 43,
    "start_time": "2022-03-07T18:13:21.527Z"
   },
   {
    "duration": 3,
    "start_time": "2022-03-07T18:13:21.572Z"
   },
   {
    "duration": 33,
    "start_time": "2022-03-07T18:13:21.576Z"
   },
   {
    "duration": 42,
    "start_time": "2022-03-07T18:13:21.611Z"
   },
   {
    "duration": 12,
    "start_time": "2022-03-07T18:13:21.655Z"
   },
   {
    "duration": 17,
    "start_time": "2022-03-07T18:13:21.669Z"
   },
   {
    "duration": 49,
    "start_time": "2022-03-07T18:13:21.705Z"
   },
   {
    "duration": 3,
    "start_time": "2022-03-07T18:13:21.756Z"
   },
   {
    "duration": 5,
    "start_time": "2022-03-07T18:13:21.760Z"
   },
   {
    "duration": 6,
    "start_time": "2022-03-07T18:13:21.766Z"
   },
   {
    "duration": 4,
    "start_time": "2022-03-07T18:13:21.774Z"
   },
   {
    "duration": 26,
    "start_time": "2022-03-07T18:13:21.780Z"
   },
   {
    "duration": 11,
    "start_time": "2022-03-07T18:13:21.807Z"
   },
   {
    "duration": 11,
    "start_time": "2022-03-07T18:13:21.819Z"
   },
   {
    "duration": 10,
    "start_time": "2022-03-07T18:13:21.831Z"
   },
   {
    "duration": 6,
    "start_time": "2022-03-07T18:13:21.842Z"
   },
   {
    "duration": 7,
    "start_time": "2022-03-07T18:13:21.849Z"
   },
   {
    "duration": 4,
    "start_time": "2022-03-07T18:13:21.857Z"
   },
   {
    "duration": 299,
    "start_time": "2022-03-07T18:13:21.862Z"
   },
   {
    "duration": 428,
    "start_time": "2022-03-07T18:13:22.163Z"
   },
   {
    "duration": 425,
    "start_time": "2022-03-07T18:13:22.593Z"
   },
   {
    "duration": 451,
    "start_time": "2022-03-07T18:13:23.020Z"
   },
   {
    "duration": 25,
    "start_time": "2022-03-07T18:13:23.472Z"
   },
   {
    "duration": 5,
    "start_time": "2022-03-07T18:13:23.505Z"
   },
   {
    "duration": 18,
    "start_time": "2022-03-07T18:13:23.511Z"
   },
   {
    "duration": 763,
    "start_time": "2022-03-07T18:13:23.530Z"
   },
   {
    "duration": -49324,
    "start_time": "2022-03-07T18:14:13.621Z"
   },
   {
    "duration": -49327,
    "start_time": "2022-03-07T18:14:13.626Z"
   },
   {
    "duration": -49332,
    "start_time": "2022-03-07T18:14:13.632Z"
   },
   {
    "duration": -49337,
    "start_time": "2022-03-07T18:14:13.638Z"
   },
   {
    "duration": -49342,
    "start_time": "2022-03-07T18:14:13.644Z"
   },
   {
    "duration": -49344,
    "start_time": "2022-03-07T18:14:13.649Z"
   },
   {
    "duration": -49365,
    "start_time": "2022-03-07T18:14:13.671Z"
   },
   {
    "duration": -49371,
    "start_time": "2022-03-07T18:14:13.678Z"
   },
   {
    "duration": -49374,
    "start_time": "2022-03-07T18:14:13.682Z"
   },
   {
    "duration": -49378,
    "start_time": "2022-03-07T18:14:13.687Z"
   },
   {
    "duration": -49383,
    "start_time": "2022-03-07T18:14:13.693Z"
   },
   {
    "duration": -49386,
    "start_time": "2022-03-07T18:14:13.697Z"
   },
   {
    "duration": -49390,
    "start_time": "2022-03-07T18:14:13.702Z"
   },
   {
    "duration": -49394,
    "start_time": "2022-03-07T18:14:13.708Z"
   },
   {
    "duration": -49398,
    "start_time": "2022-03-07T18:14:13.713Z"
   },
   {
    "duration": -49402,
    "start_time": "2022-03-07T18:14:13.718Z"
   },
   {
    "duration": -49405,
    "start_time": "2022-03-07T18:14:13.722Z"
   },
   {
    "duration": -49410,
    "start_time": "2022-03-07T18:14:13.728Z"
   },
   {
    "duration": -49413,
    "start_time": "2022-03-07T18:14:13.732Z"
   },
   {
    "duration": -49418,
    "start_time": "2022-03-07T18:14:13.738Z"
   },
   {
    "duration": -49422,
    "start_time": "2022-03-07T18:14:13.743Z"
   },
   {
    "duration": -49426,
    "start_time": "2022-03-07T18:14:13.748Z"
   },
   {
    "duration": -49429,
    "start_time": "2022-03-07T18:14:13.752Z"
   },
   {
    "duration": -49434,
    "start_time": "2022-03-07T18:14:13.758Z"
   },
   {
    "duration": -49438,
    "start_time": "2022-03-07T18:14:13.763Z"
   },
   {
    "duration": -49452,
    "start_time": "2022-03-07T18:14:13.778Z"
   },
   {
    "duration": -49456,
    "start_time": "2022-03-07T18:14:13.783Z"
   },
   {
    "duration": -49461,
    "start_time": "2022-03-07T18:14:13.789Z"
   },
   {
    "duration": -49465,
    "start_time": "2022-03-07T18:14:13.794Z"
   },
   {
    "duration": -49469,
    "start_time": "2022-03-07T18:14:13.799Z"
   },
   {
    "duration": -49472,
    "start_time": "2022-03-07T18:14:13.804Z"
   },
   {
    "duration": -49476,
    "start_time": "2022-03-07T18:14:13.809Z"
   },
   {
    "duration": -49480,
    "start_time": "2022-03-07T18:14:13.814Z"
   },
   {
    "duration": -49484,
    "start_time": "2022-03-07T18:14:13.819Z"
   },
   {
    "duration": -49487,
    "start_time": "2022-03-07T18:14:13.824Z"
   },
   {
    "duration": -49492,
    "start_time": "2022-03-07T18:14:13.830Z"
   },
   {
    "duration": -49497,
    "start_time": "2022-03-07T18:14:13.835Z"
   },
   {
    "duration": -49500,
    "start_time": "2022-03-07T18:14:13.839Z"
   },
   {
    "duration": -49505,
    "start_time": "2022-03-07T18:14:13.845Z"
   },
   {
    "duration": -49509,
    "start_time": "2022-03-07T18:14:13.850Z"
   },
   {
    "duration": -49513,
    "start_time": "2022-03-07T18:14:13.854Z"
   },
   {
    "duration": -49518,
    "start_time": "2022-03-07T18:14:13.860Z"
   },
   {
    "duration": -49521,
    "start_time": "2022-03-07T18:14:13.864Z"
   },
   {
    "duration": -49526,
    "start_time": "2022-03-07T18:14:13.870Z"
   },
   {
    "duration": -49531,
    "start_time": "2022-03-07T18:14:13.875Z"
   },
   {
    "duration": -49544,
    "start_time": "2022-03-07T18:14:13.889Z"
   },
   {
    "duration": -49490,
    "start_time": "2022-03-07T18:14:13.895Z"
   },
   {
    "duration": -49493,
    "start_time": "2022-03-07T18:14:13.899Z"
   },
   {
    "duration": -49497,
    "start_time": "2022-03-07T18:14:13.904Z"
   },
   {
    "duration": -49502,
    "start_time": "2022-03-07T18:14:13.909Z"
   },
   {
    "duration": -49507,
    "start_time": "2022-03-07T18:14:13.915Z"
   },
   {
    "duration": -49511,
    "start_time": "2022-03-07T18:14:13.920Z"
   },
   {
    "duration": -49515,
    "start_time": "2022-03-07T18:14:13.925Z"
   },
   {
    "duration": -49520,
    "start_time": "2022-03-07T18:14:13.930Z"
   },
   {
    "duration": -49523,
    "start_time": "2022-03-07T18:14:13.934Z"
   },
   {
    "duration": -49527,
    "start_time": "2022-03-07T18:14:13.939Z"
   },
   {
    "duration": -49533,
    "start_time": "2022-03-07T18:14:13.945Z"
   },
   {
    "duration": -49537,
    "start_time": "2022-03-07T18:14:13.950Z"
   },
   {
    "duration": -49541,
    "start_time": "2022-03-07T18:14:13.955Z"
   },
   {
    "duration": -49545,
    "start_time": "2022-03-07T18:14:13.960Z"
   },
   {
    "duration": -49550,
    "start_time": "2022-03-07T18:14:13.965Z"
   },
   {
    "duration": -49554,
    "start_time": "2022-03-07T18:14:13.970Z"
   },
   {
    "duration": -49557,
    "start_time": "2022-03-07T18:14:13.974Z"
   },
   {
    "duration": -49563,
    "start_time": "2022-03-07T18:14:13.980Z"
   },
   {
    "duration": -49566,
    "start_time": "2022-03-07T18:14:13.984Z"
   },
   {
    "duration": -49580,
    "start_time": "2022-03-07T18:14:13.999Z"
   },
   {
    "duration": -49584,
    "start_time": "2022-03-07T18:14:14.003Z"
   },
   {
    "duration": -49589,
    "start_time": "2022-03-07T18:14:14.009Z"
   },
   {
    "duration": -49593,
    "start_time": "2022-03-07T18:14:14.014Z"
   },
   {
    "duration": -49595,
    "start_time": "2022-03-07T18:14:14.018Z"
   },
   {
    "duration": -49599,
    "start_time": "2022-03-07T18:14:14.023Z"
   },
   {
    "duration": -49604,
    "start_time": "2022-03-07T18:14:14.029Z"
   },
   {
    "duration": 297,
    "start_time": "2022-03-07T18:13:33.360Z"
   },
   {
    "duration": 5,
    "start_time": "2022-03-07T18:34:03.415Z"
   },
   {
    "duration": 5,
    "start_time": "2022-03-07T18:35:10.070Z"
   },
   {
    "duration": 7,
    "start_time": "2022-03-07T18:36:42.850Z"
   },
   {
    "duration": 7,
    "start_time": "2022-03-07T18:36:43.954Z"
   },
   {
    "duration": 4,
    "start_time": "2022-03-07T18:38:51.971Z"
   },
   {
    "duration": 4,
    "start_time": "2022-03-07T18:38:52.534Z"
   },
   {
    "duration": 9,
    "start_time": "2022-03-07T18:39:05.815Z"
   },
   {
    "duration": 1121,
    "start_time": "2022-03-07T18:41:11.726Z"
   },
   {
    "duration": 29,
    "start_time": "2022-03-07T18:41:12.849Z"
   },
   {
    "duration": 15,
    "start_time": "2022-03-07T18:41:12.880Z"
   },
   {
    "duration": 5,
    "start_time": "2022-03-07T18:41:12.897Z"
   },
   {
    "duration": 15,
    "start_time": "2022-03-07T18:41:12.903Z"
   },
   {
    "duration": 6,
    "start_time": "2022-03-07T18:41:12.920Z"
   },
   {
    "duration": 6,
    "start_time": "2022-03-07T18:41:12.927Z"
   },
   {
    "duration": 6,
    "start_time": "2022-03-07T18:41:12.935Z"
   },
   {
    "duration": 4,
    "start_time": "2022-03-07T18:41:12.943Z"
   },
   {
    "duration": 140,
    "start_time": "2022-03-07T18:41:12.948Z"
   },
   {
    "duration": 8,
    "start_time": "2022-03-07T18:41:13.090Z"
   },
   {
    "duration": 19,
    "start_time": "2022-03-07T18:41:13.105Z"
   },
   {
    "duration": 4,
    "start_time": "2022-03-07T18:41:13.125Z"
   },
   {
    "duration": 7,
    "start_time": "2022-03-07T18:41:13.130Z"
   },
   {
    "duration": 25,
    "start_time": "2022-03-07T18:41:13.138Z"
   },
   {
    "duration": 102,
    "start_time": "2022-03-07T18:41:13.164Z"
   },
   {
    "duration": 78,
    "start_time": "2022-03-07T18:41:13.268Z"
   },
   {
    "duration": 6,
    "start_time": "2022-03-07T18:41:13.348Z"
   },
   {
    "duration": 15,
    "start_time": "2022-03-07T18:41:13.355Z"
   },
   {
    "duration": 17,
    "start_time": "2022-03-07T18:41:13.371Z"
   },
   {
    "duration": 42,
    "start_time": "2022-03-07T18:41:13.389Z"
   },
   {
    "duration": 159,
    "start_time": "2022-03-07T18:41:13.433Z"
   },
   {
    "duration": 14,
    "start_time": "2022-03-07T18:41:13.597Z"
   },
   {
    "duration": 25,
    "start_time": "2022-03-07T18:41:13.613Z"
   },
   {
    "duration": 27,
    "start_time": "2022-03-07T18:41:13.640Z"
   },
   {
    "duration": 9,
    "start_time": "2022-03-07T18:41:13.668Z"
   },
   {
    "duration": 53,
    "start_time": "2022-03-07T18:41:13.678Z"
   },
   {
    "duration": 16,
    "start_time": "2022-03-07T18:41:13.732Z"
   },
   {
    "duration": 9,
    "start_time": "2022-03-07T18:41:13.749Z"
   },
   {
    "duration": 8,
    "start_time": "2022-03-07T18:41:13.759Z"
   },
   {
    "duration": 66,
    "start_time": "2022-03-07T18:41:13.768Z"
   },
   {
    "duration": 11,
    "start_time": "2022-03-07T18:41:13.836Z"
   },
   {
    "duration": 20,
    "start_time": "2022-03-07T18:41:13.849Z"
   },
   {
    "duration": 111,
    "start_time": "2022-03-07T18:41:13.870Z"
   },
   {
    "duration": 3,
    "start_time": "2022-03-07T18:41:13.983Z"
   },
   {
    "duration": 17,
    "start_time": "2022-03-07T18:41:13.988Z"
   },
   {
    "duration": 43,
    "start_time": "2022-03-07T18:41:14.007Z"
   },
   {
    "duration": 14,
    "start_time": "2022-03-07T18:41:14.051Z"
   },
   {
    "duration": 18,
    "start_time": "2022-03-07T18:41:14.067Z"
   },
   {
    "duration": 76,
    "start_time": "2022-03-07T18:41:14.087Z"
   },
   {
    "duration": 2,
    "start_time": "2022-03-07T18:41:14.165Z"
   },
   {
    "duration": 9,
    "start_time": "2022-03-07T18:41:14.169Z"
   },
   {
    "duration": 56,
    "start_time": "2022-03-07T18:41:14.179Z"
   },
   {
    "duration": 11,
    "start_time": "2022-03-07T18:41:14.237Z"
   },
   {
    "duration": 17,
    "start_time": "2022-03-07T18:41:14.249Z"
   },
   {
    "duration": 71,
    "start_time": "2022-03-07T18:41:14.268Z"
   },
   {
    "duration": 2,
    "start_time": "2022-03-07T18:41:14.341Z"
   },
   {
    "duration": 6,
    "start_time": "2022-03-07T18:41:14.344Z"
   },
   {
    "duration": 8,
    "start_time": "2022-03-07T18:41:14.351Z"
   },
   {
    "duration": 6,
    "start_time": "2022-03-07T18:41:14.360Z"
   },
   {
    "duration": 10,
    "start_time": "2022-03-07T18:41:14.367Z"
   },
   {
    "duration": 28,
    "start_time": "2022-03-07T18:41:14.378Z"
   },
   {
    "duration": 10,
    "start_time": "2022-03-07T18:41:14.407Z"
   },
   {
    "duration": 9,
    "start_time": "2022-03-07T18:41:14.419Z"
   },
   {
    "duration": 7,
    "start_time": "2022-03-07T18:41:14.429Z"
   },
   {
    "duration": 9,
    "start_time": "2022-03-07T18:41:14.437Z"
   },
   {
    "duration": 4,
    "start_time": "2022-03-07T18:41:14.447Z"
   },
   {
    "duration": 288,
    "start_time": "2022-03-07T18:41:14.453Z"
   },
   {
    "duration": 260,
    "start_time": "2022-03-07T18:41:14.743Z"
   },
   {
    "duration": 265,
    "start_time": "2022-03-07T18:41:15.004Z"
   },
   {
    "duration": 273,
    "start_time": "2022-03-07T18:41:15.270Z"
   },
   {
    "duration": 27,
    "start_time": "2022-03-07T18:41:15.544Z"
   },
   {
    "duration": 4,
    "start_time": "2022-03-07T18:41:15.573Z"
   },
   {
    "duration": 26,
    "start_time": "2022-03-07T18:41:15.579Z"
   },
   {
    "duration": 398,
    "start_time": "2022-03-07T18:41:15.607Z"
   },
   {
    "duration": 4,
    "start_time": "2022-03-07T18:41:16.007Z"
   },
   {
    "duration": 8,
    "start_time": "2022-03-07T18:41:16.013Z"
   },
   {
    "duration": 8,
    "start_time": "2022-03-07T18:41:16.027Z"
   },
   {
    "duration": 9,
    "start_time": "2022-03-07T18:41:16.037Z"
   },
   {
    "duration": 8,
    "start_time": "2022-03-07T18:41:16.048Z"
   },
   {
    "duration": 250,
    "start_time": "2022-03-07T18:41:16.058Z"
   },
   {
    "duration": 10,
    "start_time": "2022-03-07T18:41:16.310Z"
   },
   {
    "duration": 236,
    "start_time": "2022-03-07T18:41:16.321Z"
   },
   {
    "duration": 11,
    "start_time": "2022-03-07T18:41:16.559Z"
   },
   {
    "duration": 238,
    "start_time": "2022-03-07T18:41:16.572Z"
   },
   {
    "duration": 9,
    "start_time": "2022-03-07T18:41:16.811Z"
   },
   {
    "duration": 7,
    "start_time": "2022-03-07T18:41:16.822Z"
   },
   {
    "duration": 324,
    "start_time": "2022-03-07T18:41:16.831Z"
   },
   {
    "duration": 166,
    "start_time": "2022-03-07T18:41:17.157Z"
   },
   {
    "duration": 12,
    "start_time": "2022-03-07T18:41:17.325Z"
   },
   {
    "duration": 4,
    "start_time": "2022-03-07T18:41:17.339Z"
   },
   {
    "duration": 6,
    "start_time": "2022-03-07T18:41:17.345Z"
   },
   {
    "duration": 146,
    "start_time": "2022-03-07T18:41:17.353Z"
   },
   {
    "duration": 186,
    "start_time": "2022-03-07T18:41:17.505Z"
   },
   {
    "duration": 125,
    "start_time": "2022-03-07T18:41:17.693Z"
   },
   {
    "duration": 10,
    "start_time": "2022-03-07T18:41:17.819Z"
   },
   {
    "duration": 6,
    "start_time": "2022-03-07T18:41:17.830Z"
   },
   {
    "duration": 6,
    "start_time": "2022-03-07T18:41:17.837Z"
   },
   {
    "duration": 162,
    "start_time": "2022-03-07T18:41:17.845Z"
   },
   {
    "duration": 7,
    "start_time": "2022-03-07T18:41:18.009Z"
   },
   {
    "duration": 228,
    "start_time": "2022-03-07T18:41:18.017Z"
   },
   {
    "duration": 11,
    "start_time": "2022-03-07T18:41:18.247Z"
   },
   {
    "duration": 230,
    "start_time": "2022-03-07T18:41:18.259Z"
   },
   {
    "duration": 16,
    "start_time": "2022-03-07T18:41:18.491Z"
   },
   {
    "duration": 162,
    "start_time": "2022-03-07T18:41:18.509Z"
   },
   {
    "duration": 8,
    "start_time": "2022-03-07T18:41:18.673Z"
   },
   {
    "duration": 6,
    "start_time": "2022-03-07T18:41:18.682Z"
   },
   {
    "duration": 177,
    "start_time": "2022-03-07T18:41:18.689Z"
   },
   {
    "duration": 112,
    "start_time": "2022-03-07T18:41:18.867Z"
   },
   {
    "duration": 10,
    "start_time": "2022-03-07T18:41:18.981Z"
   },
   {
    "duration": 15,
    "start_time": "2022-03-07T18:41:18.992Z"
   },
   {
    "duration": 9,
    "start_time": "2022-03-07T18:41:19.008Z"
   },
   {
    "duration": 224,
    "start_time": "2022-03-07T18:41:19.018Z"
   },
   {
    "duration": 126,
    "start_time": "2022-03-07T18:41:19.244Z"
   },
   {
    "duration": 11,
    "start_time": "2022-03-07T18:41:19.372Z"
   },
   {
    "duration": 5,
    "start_time": "2022-03-07T18:41:19.384Z"
   },
   {
    "duration": 5,
    "start_time": "2022-03-07T18:41:19.405Z"
   },
   {
    "duration": 154,
    "start_time": "2022-03-07T18:41:19.412Z"
   },
   {
    "duration": 8,
    "start_time": "2022-03-07T18:41:19.568Z"
   },
   {
    "duration": 6,
    "start_time": "2022-03-07T18:41:19.577Z"
   },
   {
    "duration": 21,
    "start_time": "2022-03-07T18:41:19.584Z"
   },
   {
    "duration": 4,
    "start_time": "2022-03-07T18:41:19.606Z"
   },
   {
    "duration": 6,
    "start_time": "2022-03-07T18:41:19.611Z"
   },
   {
    "duration": 8,
    "start_time": "2022-03-07T18:41:19.618Z"
   },
   {
    "duration": 5,
    "start_time": "2022-03-07T18:41:19.627Z"
   },
   {
    "duration": 10,
    "start_time": "2022-03-07T18:41:19.634Z"
   },
   {
    "duration": 7,
    "start_time": "2022-03-07T18:41:19.645Z"
   },
   {
    "duration": 255,
    "start_time": "2022-03-07T18:41:19.653Z"
   },
   {
    "duration": 5,
    "start_time": "2022-03-07T18:41:19.909Z"
   },
   {
    "duration": 424,
    "start_time": "2022-03-07T18:59:43.077Z"
   },
   {
    "duration": 149,
    "start_time": "2022-03-07T19:03:55.217Z"
   },
   {
    "duration": 363,
    "start_time": "2022-03-07T19:05:20.093Z"
   },
   {
    "duration": 158,
    "start_time": "2022-03-07T19:05:31.203Z"
   },
   {
    "duration": 287,
    "start_time": "2022-03-07T19:06:13.674Z"
   },
   {
    "duration": 252,
    "start_time": "2022-03-07T19:06:19.453Z"
   },
   {
    "duration": 251,
    "start_time": "2022-03-07T19:06:44.261Z"
   },
   {
    "duration": 270,
    "start_time": "2022-03-07T19:07:13.229Z"
   },
   {
    "duration": 290,
    "start_time": "2022-03-07T19:09:38.102Z"
   },
   {
    "duration": 359,
    "start_time": "2022-03-07T19:09:43.750Z"
   },
   {
    "duration": 1218,
    "start_time": "2022-03-08T08:32:50.340Z"
   },
   {
    "duration": 20,
    "start_time": "2022-03-08T08:32:51.561Z"
   },
   {
    "duration": 17,
    "start_time": "2022-03-08T08:32:51.585Z"
   },
   {
    "duration": 6,
    "start_time": "2022-03-08T08:32:51.606Z"
   },
   {
    "duration": 15,
    "start_time": "2022-03-08T08:32:51.614Z"
   },
   {
    "duration": 14,
    "start_time": "2022-03-08T08:32:51.631Z"
   },
   {
    "duration": 5,
    "start_time": "2022-03-08T08:32:51.648Z"
   },
   {
    "duration": 46,
    "start_time": "2022-03-08T08:32:51.657Z"
   },
   {
    "duration": 7,
    "start_time": "2022-03-08T08:32:51.706Z"
   },
   {
    "duration": 172,
    "start_time": "2022-03-08T08:32:51.715Z"
   },
   {
    "duration": 15,
    "start_time": "2022-03-08T08:32:51.890Z"
   },
   {
    "duration": 27,
    "start_time": "2022-03-08T08:32:51.907Z"
   },
   {
    "duration": 6,
    "start_time": "2022-03-08T08:32:51.936Z"
   },
   {
    "duration": 12,
    "start_time": "2022-03-08T08:32:51.944Z"
   },
   {
    "duration": 59,
    "start_time": "2022-03-08T08:32:51.959Z"
   },
   {
    "duration": 110,
    "start_time": "2022-03-08T08:32:52.019Z"
   },
   {
    "duration": 98,
    "start_time": "2022-03-08T08:32:52.131Z"
   },
   {
    "duration": 8,
    "start_time": "2022-03-08T08:32:52.230Z"
   },
   {
    "duration": 22,
    "start_time": "2022-03-08T08:32:52.240Z"
   },
   {
    "duration": 40,
    "start_time": "2022-03-08T08:32:52.264Z"
   },
   {
    "duration": 46,
    "start_time": "2022-03-08T08:32:52.306Z"
   },
   {
    "duration": 144,
    "start_time": "2022-03-08T08:32:52.354Z"
   },
   {
    "duration": 9,
    "start_time": "2022-03-08T08:32:52.503Z"
   },
   {
    "duration": 22,
    "start_time": "2022-03-08T08:32:52.515Z"
   },
   {
    "duration": 28,
    "start_time": "2022-03-08T08:32:52.539Z"
   },
   {
    "duration": 32,
    "start_time": "2022-03-08T08:32:52.569Z"
   },
   {
    "duration": 61,
    "start_time": "2022-03-08T08:32:52.604Z"
   },
   {
    "duration": 12,
    "start_time": "2022-03-08T08:32:52.667Z"
   },
   {
    "duration": 15,
    "start_time": "2022-03-08T08:32:52.681Z"
   },
   {
    "duration": 9,
    "start_time": "2022-03-08T08:32:52.698Z"
   },
   {
    "duration": 92,
    "start_time": "2022-03-08T08:32:52.709Z"
   },
   {
    "duration": 20,
    "start_time": "2022-03-08T08:32:52.804Z"
   },
   {
    "duration": 34,
    "start_time": "2022-03-08T08:32:52.827Z"
   },
   {
    "duration": 112,
    "start_time": "2022-03-08T08:32:52.864Z"
   },
   {
    "duration": 4,
    "start_time": "2022-03-08T08:32:52.978Z"
   },
   {
    "duration": 24,
    "start_time": "2022-03-08T08:32:52.984Z"
   },
   {
    "duration": 43,
    "start_time": "2022-03-08T08:32:53.011Z"
   },
   {
    "duration": 14,
    "start_time": "2022-03-08T08:32:53.056Z"
   },
   {
    "duration": 39,
    "start_time": "2022-03-08T08:32:53.072Z"
   },
   {
    "duration": 52,
    "start_time": "2022-03-08T08:32:53.113Z"
   },
   {
    "duration": 3,
    "start_time": "2022-03-08T08:32:53.168Z"
   },
   {
    "duration": 35,
    "start_time": "2022-03-08T08:32:53.173Z"
   },
   {
    "duration": 61,
    "start_time": "2022-03-08T08:32:53.210Z"
   },
   {
    "duration": 14,
    "start_time": "2022-03-08T08:32:53.273Z"
   },
   {
    "duration": 19,
    "start_time": "2022-03-08T08:32:53.301Z"
   },
   {
    "duration": 79,
    "start_time": "2022-03-08T08:32:53.322Z"
   },
   {
    "duration": 4,
    "start_time": "2022-03-08T08:32:53.403Z"
   },
   {
    "duration": 14,
    "start_time": "2022-03-08T08:32:53.409Z"
   },
   {
    "duration": 10,
    "start_time": "2022-03-08T08:32:53.425Z"
   },
   {
    "duration": 14,
    "start_time": "2022-03-08T08:32:53.437Z"
   },
   {
    "duration": 24,
    "start_time": "2022-03-08T08:32:53.453Z"
   },
   {
    "duration": 21,
    "start_time": "2022-03-08T08:32:53.479Z"
   },
   {
    "duration": 14,
    "start_time": "2022-03-08T08:32:53.502Z"
   },
   {
    "duration": 12,
    "start_time": "2022-03-08T08:32:53.518Z"
   },
   {
    "duration": 13,
    "start_time": "2022-03-08T08:32:53.532Z"
   },
   {
    "duration": 14,
    "start_time": "2022-03-08T08:32:53.547Z"
   },
   {
    "duration": 14,
    "start_time": "2022-03-08T08:32:53.563Z"
   },
   {
    "duration": 406,
    "start_time": "2022-03-08T08:32:53.579Z"
   },
   {
    "duration": 474,
    "start_time": "2022-03-08T08:32:53.987Z"
   },
   {
    "duration": 375,
    "start_time": "2022-03-08T08:32:54.463Z"
   },
   {
    "duration": 365,
    "start_time": "2022-03-08T08:32:54.840Z"
   },
   {
    "duration": 24,
    "start_time": "2022-03-08T08:32:55.207Z"
   },
   {
    "duration": 5,
    "start_time": "2022-03-08T08:32:55.233Z"
   },
   {
    "duration": 24,
    "start_time": "2022-03-08T08:32:55.240Z"
   },
   {
    "duration": 366,
    "start_time": "2022-03-08T08:32:55.265Z"
   },
   {
    "duration": 4,
    "start_time": "2022-03-08T08:32:55.633Z"
   },
   {
    "duration": 20,
    "start_time": "2022-03-08T08:32:55.638Z"
   },
   {
    "duration": 369,
    "start_time": "2022-03-08T08:32:55.664Z"
   },
   {
    "duration": 4,
    "start_time": "2022-03-08T08:32:56.036Z"
   },
   {
    "duration": 24,
    "start_time": "2022-03-08T08:32:56.042Z"
   },
   {
    "duration": 636,
    "start_time": "2022-03-08T08:32:56.068Z"
   },
   {
    "duration": 9,
    "start_time": "2022-03-08T08:32:56.707Z"
   },
   {
    "duration": 315,
    "start_time": "2022-03-08T08:32:56.718Z"
   },
   {
    "duration": 13,
    "start_time": "2022-03-08T08:32:57.035Z"
   },
   {
    "duration": 373,
    "start_time": "2022-03-08T08:32:57.050Z"
   },
   {
    "duration": 13,
    "start_time": "2022-03-08T08:32:57.425Z"
   },
   {
    "duration": 261,
    "start_time": "2022-03-08T08:32:57.440Z"
   },
   {
    "duration": 8,
    "start_time": "2022-03-08T08:32:57.703Z"
   },
   {
    "duration": 32,
    "start_time": "2022-03-08T08:32:57.713Z"
   },
   {
    "duration": 257,
    "start_time": "2022-03-08T08:32:57.747Z"
   },
   {
    "duration": 144,
    "start_time": "2022-03-08T08:32:58.006Z"
   },
   {
    "duration": 11,
    "start_time": "2022-03-08T08:32:58.152Z"
   },
   {
    "duration": 27,
    "start_time": "2022-03-08T08:32:58.165Z"
   },
   {
    "duration": 25,
    "start_time": "2022-03-08T08:32:58.194Z"
   },
   {
    "duration": 196,
    "start_time": "2022-03-08T08:32:58.221Z"
   },
   {
    "duration": 252,
    "start_time": "2022-03-08T08:32:58.419Z"
   },
   {
    "duration": 163,
    "start_time": "2022-03-08T08:32:58.673Z"
   },
   {
    "duration": 12,
    "start_time": "2022-03-08T08:32:58.838Z"
   },
   {
    "duration": 9,
    "start_time": "2022-03-08T08:32:58.852Z"
   },
   {
    "duration": 16,
    "start_time": "2022-03-08T08:32:58.863Z"
   },
   {
    "duration": 208,
    "start_time": "2022-03-08T08:32:58.881Z"
   },
   {
    "duration": 17,
    "start_time": "2022-03-08T08:32:59.091Z"
   },
   {
    "duration": 350,
    "start_time": "2022-03-08T08:32:59.110Z"
   },
   {
    "duration": 12,
    "start_time": "2022-03-08T08:32:59.462Z"
   },
   {
    "duration": 266,
    "start_time": "2022-03-08T08:32:59.476Z"
   },
   {
    "duration": 12,
    "start_time": "2022-03-08T08:32:59.744Z"
   },
   {
    "duration": 207,
    "start_time": "2022-03-08T08:32:59.758Z"
   },
   {
    "duration": 9,
    "start_time": "2022-03-08T08:32:59.966Z"
   },
   {
    "duration": 11,
    "start_time": "2022-03-08T08:32:59.977Z"
   },
   {
    "duration": 437,
    "start_time": "2022-03-08T08:32:59.989Z"
   },
   {
    "duration": 209,
    "start_time": "2022-03-08T08:33:00.428Z"
   },
   {
    "duration": 14,
    "start_time": "2022-03-08T08:33:00.639Z"
   },
   {
    "duration": 53,
    "start_time": "2022-03-08T08:33:00.655Z"
   },
   {
    "duration": 26,
    "start_time": "2022-03-08T08:33:00.711Z"
   },
   {
    "duration": 295,
    "start_time": "2022-03-08T08:33:00.739Z"
   },
   {
    "duration": 165,
    "start_time": "2022-03-08T08:33:01.036Z"
   },
   {
    "duration": 13,
    "start_time": "2022-03-08T08:33:01.203Z"
   },
   {
    "duration": 17,
    "start_time": "2022-03-08T08:33:01.218Z"
   },
   {
    "duration": 32,
    "start_time": "2022-03-08T08:33:01.237Z"
   },
   {
    "duration": 212,
    "start_time": "2022-03-08T08:33:01.271Z"
   },
   {
    "duration": 15,
    "start_time": "2022-03-08T08:33:01.486Z"
   },
   {
    "duration": 8,
    "start_time": "2022-03-08T08:33:01.503Z"
   },
   {
    "duration": 45,
    "start_time": "2022-03-08T08:33:01.513Z"
   },
   {
    "duration": 40,
    "start_time": "2022-03-08T08:33:01.560Z"
   },
   {
    "duration": 41,
    "start_time": "2022-03-08T08:33:01.602Z"
   },
   {
    "duration": 58,
    "start_time": "2022-03-08T08:33:01.645Z"
   },
   {
    "duration": 57,
    "start_time": "2022-03-08T08:33:01.705Z"
   },
   {
    "duration": 31,
    "start_time": "2022-03-08T08:33:01.764Z"
   },
   {
    "duration": 48,
    "start_time": "2022-03-08T08:33:01.798Z"
   },
   {
    "duration": 247,
    "start_time": "2022-03-08T08:33:01.848Z"
   },
   {
    "duration": 7,
    "start_time": "2022-03-08T08:33:02.101Z"
   },
   {
    "duration": 1078,
    "start_time": "2022-03-08T08:33:53.823Z"
   },
   {
    "duration": 22,
    "start_time": "2022-03-08T08:33:54.903Z"
   },
   {
    "duration": 23,
    "start_time": "2022-03-08T08:33:54.927Z"
   },
   {
    "duration": 16,
    "start_time": "2022-03-08T08:33:54.952Z"
   },
   {
    "duration": 14,
    "start_time": "2022-03-08T08:33:54.970Z"
   },
   {
    "duration": 15,
    "start_time": "2022-03-08T08:33:54.986Z"
   },
   {
    "duration": 12,
    "start_time": "2022-03-08T08:33:55.003Z"
   },
   {
    "duration": 18,
    "start_time": "2022-03-08T08:33:55.018Z"
   },
   {
    "duration": 12,
    "start_time": "2022-03-08T08:33:55.038Z"
   },
   {
    "duration": 163,
    "start_time": "2022-03-08T08:33:55.052Z"
   },
   {
    "duration": 8,
    "start_time": "2022-03-08T08:33:55.218Z"
   },
   {
    "duration": 27,
    "start_time": "2022-03-08T08:33:55.228Z"
   },
   {
    "duration": 5,
    "start_time": "2022-03-08T08:33:55.257Z"
   },
   {
    "duration": 12,
    "start_time": "2022-03-08T08:33:55.264Z"
   },
   {
    "duration": 51,
    "start_time": "2022-03-08T08:33:55.278Z"
   },
   {
    "duration": 109,
    "start_time": "2022-03-08T08:33:55.331Z"
   },
   {
    "duration": 98,
    "start_time": "2022-03-08T08:33:55.442Z"
   },
   {
    "duration": 7,
    "start_time": "2022-03-08T08:33:55.542Z"
   },
   {
    "duration": 20,
    "start_time": "2022-03-08T08:33:55.551Z"
   },
   {
    "duration": 35,
    "start_time": "2022-03-08T08:33:55.573Z"
   },
   {
    "duration": 41,
    "start_time": "2022-03-08T08:33:55.610Z"
   },
   {
    "duration": 143,
    "start_time": "2022-03-08T08:33:55.653Z"
   },
   {
    "duration": 10,
    "start_time": "2022-03-08T08:33:55.800Z"
   },
   {
    "duration": 21,
    "start_time": "2022-03-08T08:33:55.813Z"
   },
   {
    "duration": 21,
    "start_time": "2022-03-08T08:33:55.836Z"
   },
   {
    "duration": 9,
    "start_time": "2022-03-08T08:33:55.858Z"
   },
   {
    "duration": 71,
    "start_time": "2022-03-08T08:33:55.869Z"
   },
   {
    "duration": 11,
    "start_time": "2022-03-08T08:33:55.942Z"
   },
   {
    "duration": 11,
    "start_time": "2022-03-08T08:33:55.955Z"
   },
   {
    "duration": 10,
    "start_time": "2022-03-08T08:33:55.968Z"
   },
   {
    "duration": 92,
    "start_time": "2022-03-08T08:33:55.980Z"
   },
   {
    "duration": 27,
    "start_time": "2022-03-08T08:33:56.074Z"
   },
   {
    "duration": 24,
    "start_time": "2022-03-08T08:33:56.103Z"
   },
   {
    "duration": 100,
    "start_time": "2022-03-08T08:33:56.129Z"
   },
   {
    "duration": 3,
    "start_time": "2022-03-08T08:33:56.231Z"
   },
   {
    "duration": 19,
    "start_time": "2022-03-08T08:33:56.236Z"
   },
   {
    "duration": 48,
    "start_time": "2022-03-08T08:33:56.257Z"
   },
   {
    "duration": 12,
    "start_time": "2022-03-08T08:33:56.307Z"
   },
   {
    "duration": 17,
    "start_time": "2022-03-08T08:33:56.321Z"
   },
   {
    "duration": 74,
    "start_time": "2022-03-08T08:33:56.340Z"
   },
   {
    "duration": 4,
    "start_time": "2022-03-08T08:33:56.416Z"
   },
   {
    "duration": 11,
    "start_time": "2022-03-08T08:33:56.422Z"
   },
   {
    "duration": 71,
    "start_time": "2022-03-08T08:33:56.435Z"
   },
   {
    "duration": 14,
    "start_time": "2022-03-08T08:33:56.508Z"
   },
   {
    "duration": 22,
    "start_time": "2022-03-08T08:33:56.524Z"
   },
   {
    "duration": 79,
    "start_time": "2022-03-08T08:33:56.548Z"
   },
   {
    "duration": 2,
    "start_time": "2022-03-08T08:33:56.630Z"
   },
   {
    "duration": 8,
    "start_time": "2022-03-08T08:33:56.634Z"
   },
   {
    "duration": 8,
    "start_time": "2022-03-08T08:33:56.643Z"
   },
   {
    "duration": 8,
    "start_time": "2022-03-08T08:33:56.653Z"
   },
   {
    "duration": 14,
    "start_time": "2022-03-08T08:33:56.663Z"
   },
   {
    "duration": 33,
    "start_time": "2022-03-08T08:33:56.679Z"
   },
   {
    "duration": 14,
    "start_time": "2022-03-08T08:33:56.713Z"
   },
   {
    "duration": 12,
    "start_time": "2022-03-08T08:33:56.729Z"
   },
   {
    "duration": 7,
    "start_time": "2022-03-08T08:33:56.743Z"
   },
   {
    "duration": 12,
    "start_time": "2022-03-08T08:33:56.752Z"
   },
   {
    "duration": 35,
    "start_time": "2022-03-08T08:33:56.766Z"
   },
   {
    "duration": 313,
    "start_time": "2022-03-08T08:33:56.803Z"
   },
   {
    "duration": 310,
    "start_time": "2022-03-08T08:33:57.118Z"
   },
   {
    "duration": 310,
    "start_time": "2022-03-08T08:33:57.430Z"
   },
   {
    "duration": 322,
    "start_time": "2022-03-08T08:33:57.742Z"
   },
   {
    "duration": 23,
    "start_time": "2022-03-08T08:33:58.066Z"
   },
   {
    "duration": 7,
    "start_time": "2022-03-08T08:33:58.101Z"
   },
   {
    "duration": 14,
    "start_time": "2022-03-08T08:33:58.110Z"
   },
   {
    "duration": 338,
    "start_time": "2022-03-08T08:33:58.126Z"
   },
   {
    "duration": 4,
    "start_time": "2022-03-08T08:33:58.466Z"
   },
   {
    "duration": 14,
    "start_time": "2022-03-08T08:33:58.472Z"
   },
   {
    "duration": 328,
    "start_time": "2022-03-08T08:33:58.503Z"
   },
   {
    "duration": 4,
    "start_time": "2022-03-08T08:33:58.834Z"
   },
   {
    "duration": 11,
    "start_time": "2022-03-08T08:33:58.839Z"
   },
   {
    "duration": 391,
    "start_time": "2022-03-08T08:33:58.852Z"
   },
   {
    "duration": 9,
    "start_time": "2022-03-08T08:33:59.245Z"
   },
   {
    "duration": 280,
    "start_time": "2022-03-08T08:33:59.255Z"
   },
   {
    "duration": 12,
    "start_time": "2022-03-08T08:33:59.537Z"
   },
   {
    "duration": 336,
    "start_time": "2022-03-08T08:33:59.551Z"
   },
   {
    "duration": 20,
    "start_time": "2022-03-08T08:33:59.889Z"
   },
   {
    "duration": 208,
    "start_time": "2022-03-08T08:33:59.911Z"
   },
   {
    "duration": 9,
    "start_time": "2022-03-08T08:34:00.121Z"
   },
   {
    "duration": 25,
    "start_time": "2022-03-08T08:34:00.132Z"
   },
   {
    "duration": 453,
    "start_time": "2022-03-08T08:34:00.159Z"
   },
   {
    "duration": 172,
    "start_time": "2022-03-08T08:34:00.614Z"
   },
   {
    "duration": 18,
    "start_time": "2022-03-08T08:34:00.788Z"
   },
   {
    "duration": 7,
    "start_time": "2022-03-08T08:34:00.807Z"
   },
   {
    "duration": 12,
    "start_time": "2022-03-08T08:34:00.817Z"
   },
   {
    "duration": 170,
    "start_time": "2022-03-08T08:34:00.831Z"
   },
   {
    "duration": 249,
    "start_time": "2022-03-08T08:34:01.003Z"
   },
   {
    "duration": 175,
    "start_time": "2022-03-08T08:34:01.255Z"
   },
   {
    "duration": 14,
    "start_time": "2022-03-08T08:34:01.433Z"
   },
   {
    "duration": 19,
    "start_time": "2022-03-08T08:34:01.450Z"
   },
   {
    "duration": 41,
    "start_time": "2022-03-08T08:34:01.472Z"
   },
   {
    "duration": 215,
    "start_time": "2022-03-08T08:34:01.515Z"
   },
   {
    "duration": 11,
    "start_time": "2022-03-08T08:34:01.733Z"
   },
   {
    "duration": 340,
    "start_time": "2022-03-08T08:34:01.746Z"
   },
   {
    "duration": 19,
    "start_time": "2022-03-08T08:34:02.088Z"
   },
   {
    "duration": 288,
    "start_time": "2022-03-08T08:34:02.109Z"
   },
   {
    "duration": 14,
    "start_time": "2022-03-08T08:34:02.401Z"
   },
   {
    "duration": 249,
    "start_time": "2022-03-08T08:34:02.416Z"
   },
   {
    "duration": 9,
    "start_time": "2022-03-08T08:34:02.667Z"
   },
   {
    "duration": 31,
    "start_time": "2022-03-08T08:34:02.678Z"
   },
   {
    "duration": 287,
    "start_time": "2022-03-08T08:34:02.711Z"
   },
   {
    "duration": 147,
    "start_time": "2022-03-08T08:34:03.000Z"
   },
   {
    "duration": 12,
    "start_time": "2022-03-08T08:34:03.149Z"
   },
   {
    "duration": 17,
    "start_time": "2022-03-08T08:34:03.163Z"
   },
   {
    "duration": 10,
    "start_time": "2022-03-08T08:34:03.182Z"
   },
   {
    "duration": 208,
    "start_time": "2022-03-08T08:34:03.202Z"
   },
   {
    "duration": 152,
    "start_time": "2022-03-08T08:34:03.412Z"
   },
   {
    "duration": 13,
    "start_time": "2022-03-08T08:34:03.566Z"
   },
   {
    "duration": 22,
    "start_time": "2022-03-08T08:34:03.581Z"
   },
   {
    "duration": 25,
    "start_time": "2022-03-08T08:34:03.604Z"
   },
   {
    "duration": 203,
    "start_time": "2022-03-08T08:34:03.631Z"
   },
   {
    "duration": 9,
    "start_time": "2022-03-08T08:34:03.835Z"
   },
   {
    "duration": 35,
    "start_time": "2022-03-08T08:34:03.846Z"
   },
   {
    "duration": 10,
    "start_time": "2022-03-08T08:34:03.883Z"
   },
   {
    "duration": 13,
    "start_time": "2022-03-08T08:34:03.895Z"
   },
   {
    "duration": 26,
    "start_time": "2022-03-08T08:34:03.910Z"
   },
   {
    "duration": 27,
    "start_time": "2022-03-08T08:34:03.938Z"
   },
   {
    "duration": 49,
    "start_time": "2022-03-08T08:34:03.967Z"
   },
   {
    "duration": 33,
    "start_time": "2022-03-08T08:34:04.018Z"
   },
   {
    "duration": 25,
    "start_time": "2022-03-08T08:34:04.052Z"
   },
   {
    "duration": 193,
    "start_time": "2022-03-08T08:34:04.079Z"
   },
   {
    "duration": 6,
    "start_time": "2022-03-08T08:34:04.274Z"
   },
   {
    "duration": 337,
    "start_time": "2022-03-08T08:39:45.179Z"
   },
   {
    "duration": 10,
    "start_time": "2022-03-08T08:43:23.162Z"
   },
   {
    "duration": 319,
    "start_time": "2022-03-08T08:43:41.835Z"
   },
   {
    "duration": 5,
    "start_time": "2022-03-08T08:45:55.161Z"
   },
   {
    "duration": 8,
    "start_time": "2022-03-08T08:45:57.298Z"
   },
   {
    "duration": 1080,
    "start_time": "2022-03-08T08:46:55.124Z"
   },
   {
    "duration": 19,
    "start_time": "2022-03-08T08:46:56.206Z"
   },
   {
    "duration": 14,
    "start_time": "2022-03-08T08:46:56.227Z"
   },
   {
    "duration": 8,
    "start_time": "2022-03-08T08:46:56.243Z"
   },
   {
    "duration": 22,
    "start_time": "2022-03-08T08:46:56.253Z"
   },
   {
    "duration": 14,
    "start_time": "2022-03-08T08:46:56.277Z"
   },
   {
    "duration": 8,
    "start_time": "2022-03-08T08:46:56.294Z"
   },
   {
    "duration": 15,
    "start_time": "2022-03-08T08:46:56.305Z"
   },
   {
    "duration": 7,
    "start_time": "2022-03-08T08:46:56.322Z"
   },
   {
    "duration": 157,
    "start_time": "2022-03-08T08:46:56.331Z"
   },
   {
    "duration": 12,
    "start_time": "2022-03-08T08:46:56.490Z"
   },
   {
    "duration": 37,
    "start_time": "2022-03-08T08:46:56.504Z"
   },
   {
    "duration": 4,
    "start_time": "2022-03-08T08:46:56.543Z"
   },
   {
    "duration": 14,
    "start_time": "2022-03-08T08:46:56.549Z"
   },
   {
    "duration": 44,
    "start_time": "2022-03-08T08:46:56.565Z"
   },
   {
    "duration": 105,
    "start_time": "2022-03-08T08:46:56.611Z"
   },
   {
    "duration": 95,
    "start_time": "2022-03-08T08:46:56.718Z"
   },
   {
    "duration": 7,
    "start_time": "2022-03-08T08:46:56.815Z"
   },
   {
    "duration": 19,
    "start_time": "2022-03-08T08:46:56.824Z"
   },
   {
    "duration": 19,
    "start_time": "2022-03-08T08:46:56.845Z"
   },
   {
    "duration": 63,
    "start_time": "2022-03-08T08:46:56.866Z"
   },
   {
    "duration": 134,
    "start_time": "2022-03-08T08:46:56.931Z"
   },
   {
    "duration": 9,
    "start_time": "2022-03-08T08:46:57.069Z"
   },
   {
    "duration": 31,
    "start_time": "2022-03-08T08:46:57.081Z"
   },
   {
    "duration": 22,
    "start_time": "2022-03-08T08:46:57.114Z"
   },
   {
    "duration": 8,
    "start_time": "2022-03-08T08:46:57.138Z"
   },
   {
    "duration": 61,
    "start_time": "2022-03-08T08:46:57.148Z"
   },
   {
    "duration": 11,
    "start_time": "2022-03-08T08:46:57.211Z"
   },
   {
    "duration": 10,
    "start_time": "2022-03-08T08:46:57.224Z"
   },
   {
    "duration": 8,
    "start_time": "2022-03-08T08:46:57.236Z"
   },
   {
    "duration": 95,
    "start_time": "2022-03-08T08:46:57.246Z"
   },
   {
    "duration": 14,
    "start_time": "2022-03-08T08:46:57.342Z"
   },
   {
    "duration": 42,
    "start_time": "2022-03-08T08:46:57.359Z"
   },
   {
    "duration": 85,
    "start_time": "2022-03-08T08:46:57.403Z"
   },
   {
    "duration": 3,
    "start_time": "2022-03-08T08:46:57.490Z"
   },
   {
    "duration": 14,
    "start_time": "2022-03-08T08:46:57.502Z"
   },
   {
    "duration": 46,
    "start_time": "2022-03-08T08:46:57.518Z"
   },
   {
    "duration": 35,
    "start_time": "2022-03-08T08:46:57.566Z"
   },
   {
    "duration": 16,
    "start_time": "2022-03-08T08:46:57.603Z"
   },
   {
    "duration": 53,
    "start_time": "2022-03-08T08:46:57.621Z"
   },
   {
    "duration": 3,
    "start_time": "2022-03-08T08:46:57.675Z"
   },
   {
    "duration": 28,
    "start_time": "2022-03-08T08:46:57.680Z"
   },
   {
    "duration": 56,
    "start_time": "2022-03-08T08:46:57.710Z"
   },
   {
    "duration": 14,
    "start_time": "2022-03-08T08:46:57.768Z"
   },
   {
    "duration": 35,
    "start_time": "2022-03-08T08:46:57.784Z"
   },
   {
    "duration": 57,
    "start_time": "2022-03-08T08:46:57.820Z"
   },
   {
    "duration": 3,
    "start_time": "2022-03-08T08:46:57.879Z"
   },
   {
    "duration": 19,
    "start_time": "2022-03-08T08:46:57.884Z"
   },
   {
    "duration": 9,
    "start_time": "2022-03-08T08:46:57.905Z"
   },
   {
    "duration": 19,
    "start_time": "2022-03-08T08:46:57.916Z"
   },
   {
    "duration": 21,
    "start_time": "2022-03-08T08:46:57.938Z"
   },
   {
    "duration": 25,
    "start_time": "2022-03-08T08:46:57.962Z"
   },
   {
    "duration": 15,
    "start_time": "2022-03-08T08:46:57.989Z"
   },
   {
    "duration": 12,
    "start_time": "2022-03-08T08:46:58.006Z"
   },
   {
    "duration": 13,
    "start_time": "2022-03-08T08:46:58.020Z"
   },
   {
    "duration": 10,
    "start_time": "2022-03-08T08:46:58.035Z"
   },
   {
    "duration": 5,
    "start_time": "2022-03-08T08:46:58.047Z"
   },
   {
    "duration": 348,
    "start_time": "2022-03-08T08:46:58.053Z"
   },
   {
    "duration": 362,
    "start_time": "2022-03-08T08:46:58.403Z"
   },
   {
    "duration": 316,
    "start_time": "2022-03-08T08:46:58.767Z"
   },
   {
    "duration": 325,
    "start_time": "2022-03-08T08:46:59.085Z"
   },
   {
    "duration": 26,
    "start_time": "2022-03-08T08:46:59.412Z"
   },
   {
    "duration": 8,
    "start_time": "2022-03-08T08:46:59.440Z"
   },
   {
    "duration": 15,
    "start_time": "2022-03-08T08:46:59.450Z"
   },
   {
    "duration": 455,
    "start_time": "2022-03-08T08:46:59.467Z"
   },
   {
    "duration": 4,
    "start_time": "2022-03-08T08:46:59.924Z"
   },
   {
    "duration": 13,
    "start_time": "2022-03-08T08:46:59.930Z"
   },
   {
    "duration": 320,
    "start_time": "2022-03-08T08:46:59.950Z"
   },
   {
    "duration": 4,
    "start_time": "2022-03-08T08:47:00.273Z"
   },
   {
    "duration": 18,
    "start_time": "2022-03-08T08:47:00.279Z"
   },
   {
    "duration": 357,
    "start_time": "2022-03-08T08:47:00.301Z"
   },
   {
    "duration": 8,
    "start_time": "2022-03-08T08:47:00.660Z"
   },
   {
    "duration": 534,
    "start_time": "2022-03-08T08:47:00.670Z"
   },
   {
    "duration": 4,
    "start_time": "2022-03-08T08:47:01.206Z"
   },
   {
    "duration": 22,
    "start_time": "2022-03-08T08:47:01.212Z"
   },
   {
    "duration": 349,
    "start_time": "2022-03-08T08:47:01.236Z"
   },
   {
    "duration": -49495,
    "start_time": "2022-03-08T08:47:51.082Z"
   },
   {
    "duration": -49499,
    "start_time": "2022-03-08T08:47:51.087Z"
   },
   {
    "duration": -49505,
    "start_time": "2022-03-08T08:47:51.094Z"
   },
   {
    "duration": -49510,
    "start_time": "2022-03-08T08:47:51.099Z"
   },
   {
    "duration": -49513,
    "start_time": "2022-03-08T08:47:51.103Z"
   },
   {
    "duration": -49517,
    "start_time": "2022-03-08T08:47:51.108Z"
   },
   {
    "duration": -49521,
    "start_time": "2022-03-08T08:47:51.114Z"
   },
   {
    "duration": -49527,
    "start_time": "2022-03-08T08:47:51.120Z"
   },
   {
    "duration": -49531,
    "start_time": "2022-03-08T08:47:51.125Z"
   },
   {
    "duration": -49544,
    "start_time": "2022-03-08T08:47:51.139Z"
   },
   {
    "duration": -49548,
    "start_time": "2022-03-08T08:47:51.144Z"
   },
   {
    "duration": -49552,
    "start_time": "2022-03-08T08:47:51.149Z"
   },
   {
    "duration": -49557,
    "start_time": "2022-03-08T08:47:51.155Z"
   },
   {
    "duration": -49560,
    "start_time": "2022-03-08T08:47:51.160Z"
   },
   {
    "duration": -49564,
    "start_time": "2022-03-08T08:47:51.165Z"
   },
   {
    "duration": -49569,
    "start_time": "2022-03-08T08:47:51.171Z"
   },
   {
    "duration": -49575,
    "start_time": "2022-03-08T08:47:51.177Z"
   },
   {
    "duration": -49580,
    "start_time": "2022-03-08T08:47:51.183Z"
   },
   {
    "duration": -49583,
    "start_time": "2022-03-08T08:47:51.187Z"
   },
   {
    "duration": -49588,
    "start_time": "2022-03-08T08:47:51.193Z"
   },
   {
    "duration": -49592,
    "start_time": "2022-03-08T08:47:51.198Z"
   },
   {
    "duration": -49596,
    "start_time": "2022-03-08T08:47:51.203Z"
   },
   {
    "duration": -49601,
    "start_time": "2022-03-08T08:47:51.209Z"
   },
   {
    "duration": -49605,
    "start_time": "2022-03-08T08:47:51.214Z"
   },
   {
    "duration": -49610,
    "start_time": "2022-03-08T08:47:51.220Z"
   },
   {
    "duration": -49615,
    "start_time": "2022-03-08T08:47:51.226Z"
   },
   {
    "duration": -49619,
    "start_time": "2022-03-08T08:47:51.231Z"
   },
   {
    "duration": -49624,
    "start_time": "2022-03-08T08:47:51.237Z"
   },
   {
    "duration": -49637,
    "start_time": "2022-03-08T08:47:51.251Z"
   },
   {
    "duration": -49640,
    "start_time": "2022-03-08T08:47:51.255Z"
   },
   {
    "duration": -49645,
    "start_time": "2022-03-08T08:47:51.261Z"
   },
   {
    "duration": -49650,
    "start_time": "2022-03-08T08:47:51.266Z"
   },
   {
    "duration": -49654,
    "start_time": "2022-03-08T08:47:51.271Z"
   },
   {
    "duration": 408,
    "start_time": "2022-03-08T08:48:00.695Z"
   },
   {
    "duration": 5,
    "start_time": "2022-03-08T08:48:01.190Z"
   },
   {
    "duration": 8,
    "start_time": "2022-03-08T08:48:02.568Z"
   },
   {
    "duration": 296,
    "start_time": "2022-03-08T08:48:13.137Z"
   },
   {
    "duration": 209,
    "start_time": "2022-03-08T08:48:20.870Z"
   },
   {
    "duration": 320,
    "start_time": "2022-03-08T08:49:09.423Z"
   },
   {
    "duration": 359,
    "start_time": "2022-03-08T08:49:14.458Z"
   },
   {
    "duration": 495,
    "start_time": "2022-03-08T08:50:37.735Z"
   },
   {
    "duration": 304,
    "start_time": "2022-03-08T08:51:39.533Z"
   },
   {
    "duration": 325,
    "start_time": "2022-03-08T08:52:02.358Z"
   },
   {
    "duration": 368,
    "start_time": "2022-03-08T08:52:07.963Z"
   },
   {
    "duration": 314,
    "start_time": "2022-03-08T08:52:12.734Z"
   },
   {
    "duration": 318,
    "start_time": "2022-03-08T08:52:17.143Z"
   },
   {
    "duration": 438,
    "start_time": "2022-03-08T08:52:45.690Z"
   },
   {
    "duration": 366,
    "start_time": "2022-03-08T08:52:53.567Z"
   },
   {
    "duration": 375,
    "start_time": "2022-03-08T08:52:58.971Z"
   },
   {
    "duration": 352,
    "start_time": "2022-03-08T08:53:03.014Z"
   },
   {
    "duration": 320,
    "start_time": "2022-03-08T08:53:06.129Z"
   },
   {
    "duration": 376,
    "start_time": "2022-03-08T08:53:10.568Z"
   },
   {
    "duration": 343,
    "start_time": "2022-03-08T08:53:14.998Z"
   },
   {
    "duration": 363,
    "start_time": "2022-03-08T08:53:26.451Z"
   },
   {
    "duration": 373,
    "start_time": "2022-03-08T08:53:30.076Z"
   },
   {
    "duration": 347,
    "start_time": "2022-03-08T08:53:39.276Z"
   },
   {
    "duration": 332,
    "start_time": "2022-03-08T08:53:46.693Z"
   },
   {
    "duration": 322,
    "start_time": "2022-03-08T08:53:55.183Z"
   },
   {
    "duration": 364,
    "start_time": "2022-03-08T08:54:18.647Z"
   },
   {
    "duration": 350,
    "start_time": "2022-03-08T08:54:26.715Z"
   },
   {
    "duration": 391,
    "start_time": "2022-03-08T09:03:48.074Z"
   },
   {
    "duration": 192,
    "start_time": "2022-03-08T09:03:53.821Z"
   },
   {
    "duration": 332,
    "start_time": "2022-03-08T09:04:00.153Z"
   },
   {
    "duration": 348,
    "start_time": "2022-03-08T09:06:46.155Z"
   },
   {
    "duration": 77,
    "start_time": "2022-03-08T09:09:41.448Z"
   },
   {
    "duration": 201,
    "start_time": "2022-03-08T09:10:59.482Z"
   },
   {
    "duration": 381,
    "start_time": "2022-03-08T09:11:03.177Z"
   },
   {
    "duration": 332,
    "start_time": "2022-03-08T09:11:14.552Z"
   },
   {
    "duration": 374,
    "start_time": "2022-03-08T09:11:28.154Z"
   },
   {
    "duration": 434,
    "start_time": "2022-03-08T09:11:37.623Z"
   },
   {
    "duration": 356,
    "start_time": "2022-03-08T09:15:13.692Z"
   },
   {
    "duration": 337,
    "start_time": "2022-03-08T09:15:50.004Z"
   },
   {
    "duration": 4,
    "start_time": "2022-03-08T09:31:54.379Z"
   },
   {
    "duration": 10,
    "start_time": "2022-03-08T09:32:06.039Z"
   },
   {
    "duration": 315,
    "start_time": "2022-03-08T09:32:34.321Z"
   },
   {
    "duration": 425,
    "start_time": "2022-03-08T09:32:53.028Z"
   },
   {
    "duration": 9,
    "start_time": "2022-03-08T09:33:15.033Z"
   },
   {
    "duration": 5,
    "start_time": "2022-03-08T09:33:29.755Z"
   },
   {
    "duration": 307,
    "start_time": "2022-03-08T09:34:16.628Z"
   },
   {
    "duration": 347,
    "start_time": "2022-03-08T09:34:24.484Z"
   },
   {
    "duration": 224,
    "start_time": "2022-03-08T09:34:30.069Z"
   },
   {
    "duration": 312,
    "start_time": "2022-03-08T09:34:32.829Z"
   },
   {
    "duration": 312,
    "start_time": "2022-03-08T09:34:55.837Z"
   },
   {
    "duration": 340,
    "start_time": "2022-03-08T09:35:06.361Z"
   },
   {
    "duration": 474,
    "start_time": "2022-03-08T09:35:35.260Z"
   },
   {
    "duration": 4,
    "start_time": "2022-03-08T10:00:17.315Z"
   },
   {
    "duration": 5,
    "start_time": "2022-03-08T10:00:17.915Z"
   },
   {
    "duration": 34,
    "start_time": "2022-03-08T10:00:37.707Z"
   },
   {
    "duration": 6,
    "start_time": "2022-03-08T10:03:25.853Z"
   },
   {
    "duration": 1082,
    "start_time": "2022-03-08T10:20:05.621Z"
   },
   {
    "duration": 18,
    "start_time": "2022-03-08T10:20:06.705Z"
   },
   {
    "duration": 26,
    "start_time": "2022-03-08T10:20:06.726Z"
   },
   {
    "duration": 22,
    "start_time": "2022-03-08T10:20:06.754Z"
   },
   {
    "duration": 21,
    "start_time": "2022-03-08T10:20:06.779Z"
   },
   {
    "duration": 30,
    "start_time": "2022-03-08T10:20:06.803Z"
   },
   {
    "duration": 16,
    "start_time": "2022-03-08T10:20:06.835Z"
   },
   {
    "duration": 17,
    "start_time": "2022-03-08T10:20:06.854Z"
   },
   {
    "duration": 11,
    "start_time": "2022-03-08T10:20:06.873Z"
   },
   {
    "duration": 173,
    "start_time": "2022-03-08T10:20:06.885Z"
   },
   {
    "duration": 9,
    "start_time": "2022-03-08T10:20:07.060Z"
   },
   {
    "duration": 33,
    "start_time": "2022-03-08T10:20:07.071Z"
   },
   {
    "duration": 5,
    "start_time": "2022-03-08T10:20:07.106Z"
   },
   {
    "duration": 26,
    "start_time": "2022-03-08T10:20:07.112Z"
   },
   {
    "duration": 35,
    "start_time": "2022-03-08T10:20:07.140Z"
   },
   {
    "duration": 98,
    "start_time": "2022-03-08T10:20:07.177Z"
   },
   {
    "duration": 97,
    "start_time": "2022-03-08T10:20:07.277Z"
   },
   {
    "duration": 7,
    "start_time": "2022-03-08T10:20:07.376Z"
   },
   {
    "duration": 27,
    "start_time": "2022-03-08T10:20:07.385Z"
   },
   {
    "duration": 26,
    "start_time": "2022-03-08T10:20:07.414Z"
   },
   {
    "duration": 43,
    "start_time": "2022-03-08T10:20:07.442Z"
   },
   {
    "duration": 147,
    "start_time": "2022-03-08T10:20:07.487Z"
   },
   {
    "duration": 9,
    "start_time": "2022-03-08T10:20:07.638Z"
   },
   {
    "duration": 22,
    "start_time": "2022-03-08T10:20:07.650Z"
   },
   {
    "duration": 37,
    "start_time": "2022-03-08T10:20:07.674Z"
   },
   {
    "duration": 9,
    "start_time": "2022-03-08T10:20:07.713Z"
   },
   {
    "duration": 57,
    "start_time": "2022-03-08T10:20:07.724Z"
   },
   {
    "duration": 12,
    "start_time": "2022-03-08T10:20:07.783Z"
   },
   {
    "duration": 9,
    "start_time": "2022-03-08T10:20:07.800Z"
   },
   {
    "duration": 25,
    "start_time": "2022-03-08T10:20:07.811Z"
   },
   {
    "duration": 85,
    "start_time": "2022-03-08T10:20:07.838Z"
   },
   {
    "duration": 14,
    "start_time": "2022-03-08T10:20:07.925Z"
   },
   {
    "duration": 42,
    "start_time": "2022-03-08T10:20:07.940Z"
   },
   {
    "duration": 88,
    "start_time": "2022-03-08T10:20:07.984Z"
   },
   {
    "duration": 3,
    "start_time": "2022-03-08T10:20:08.074Z"
   },
   {
    "duration": 25,
    "start_time": "2022-03-08T10:20:08.079Z"
   },
   {
    "duration": 53,
    "start_time": "2022-03-08T10:20:08.106Z"
   },
   {
    "duration": 14,
    "start_time": "2022-03-08T10:20:08.161Z"
   },
   {
    "duration": 24,
    "start_time": "2022-03-08T10:20:08.177Z"
   },
   {
    "duration": 54,
    "start_time": "2022-03-08T10:20:08.203Z"
   },
   {
    "duration": 3,
    "start_time": "2022-03-08T10:20:08.259Z"
   },
   {
    "duration": 16,
    "start_time": "2022-03-08T10:20:08.264Z"
   },
   {
    "duration": 78,
    "start_time": "2022-03-08T10:20:08.282Z"
   },
   {
    "duration": 15,
    "start_time": "2022-03-08T10:20:08.362Z"
   },
   {
    "duration": 31,
    "start_time": "2022-03-08T10:20:08.379Z"
   },
   {
    "duration": 61,
    "start_time": "2022-03-08T10:20:08.412Z"
   },
   {
    "duration": 5,
    "start_time": "2022-03-08T10:20:08.475Z"
   },
   {
    "duration": 18,
    "start_time": "2022-03-08T10:20:08.483Z"
   },
   {
    "duration": 22,
    "start_time": "2022-03-08T10:20:08.503Z"
   },
   {
    "duration": 13,
    "start_time": "2022-03-08T10:20:08.527Z"
   },
   {
    "duration": 17,
    "start_time": "2022-03-08T10:20:08.542Z"
   },
   {
    "duration": 20,
    "start_time": "2022-03-08T10:20:08.561Z"
   },
   {
    "duration": 21,
    "start_time": "2022-03-08T10:20:08.582Z"
   },
   {
    "duration": 14,
    "start_time": "2022-03-08T10:20:08.605Z"
   },
   {
    "duration": 13,
    "start_time": "2022-03-08T10:20:08.621Z"
   },
   {
    "duration": 24,
    "start_time": "2022-03-08T10:20:08.636Z"
   },
   {
    "duration": 7,
    "start_time": "2022-03-08T10:20:08.662Z"
   },
   {
    "duration": 327,
    "start_time": "2022-03-08T10:20:08.672Z"
   },
   {
    "duration": 313,
    "start_time": "2022-03-08T10:20:09.001Z"
   },
   {
    "duration": 315,
    "start_time": "2022-03-08T10:20:09.316Z"
   },
   {
    "duration": 345,
    "start_time": "2022-03-08T10:20:09.633Z"
   },
   {
    "duration": 32,
    "start_time": "2022-03-08T10:20:09.980Z"
   },
   {
    "duration": 14,
    "start_time": "2022-03-08T10:20:10.015Z"
   },
   {
    "duration": 17,
    "start_time": "2022-03-08T10:20:10.031Z"
   },
   {
    "duration": 391,
    "start_time": "2022-03-08T10:20:10.051Z"
   },
   {
    "duration": 4,
    "start_time": "2022-03-08T10:20:10.445Z"
   },
   {
    "duration": 17,
    "start_time": "2022-03-08T10:20:10.451Z"
   },
   {
    "duration": 354,
    "start_time": "2022-03-08T10:20:10.474Z"
   },
   {
    "duration": 5,
    "start_time": "2022-03-08T10:20:10.830Z"
   },
   {
    "duration": 18,
    "start_time": "2022-03-08T10:20:10.837Z"
   },
   {
    "duration": 383,
    "start_time": "2022-03-08T10:20:10.857Z"
   },
   {
    "duration": 327,
    "start_time": "2022-03-08T10:20:11.243Z"
   },
   {
    "duration": 4,
    "start_time": "2022-03-08T10:20:11.572Z"
   },
   {
    "duration": 24,
    "start_time": "2022-03-08T10:20:11.578Z"
   },
   {
    "duration": 272,
    "start_time": "2022-03-08T10:20:11.604Z"
   },
   {
    "duration": 4,
    "start_time": "2022-03-08T10:20:11.878Z"
   },
   {
    "duration": 26,
    "start_time": "2022-03-08T10:20:11.884Z"
   },
   {
    "duration": 355,
    "start_time": "2022-03-08T10:20:11.912Z"
   },
   {
    "duration": 357,
    "start_time": "2022-03-08T10:20:12.269Z"
   },
   {
    "duration": 4,
    "start_time": "2022-03-08T10:20:12.628Z"
   },
   {
    "duration": 19,
    "start_time": "2022-03-08T10:20:12.634Z"
   },
   {
    "duration": 323,
    "start_time": "2022-03-08T10:20:12.655Z"
   },
   {
    "duration": 4,
    "start_time": "2022-03-08T10:20:12.980Z"
   },
   {
    "duration": 21,
    "start_time": "2022-03-08T10:20:12.986Z"
   },
   {
    "duration": 333,
    "start_time": "2022-03-08T10:20:13.009Z"
   },
   {
    "duration": 5,
    "start_time": "2022-03-08T10:20:13.344Z"
   },
   {
    "duration": 29,
    "start_time": "2022-03-08T10:20:13.351Z"
   },
   {
    "duration": 44,
    "start_time": "2022-03-08T10:20:13.382Z"
   },
   {
    "duration": 332,
    "start_time": "2022-03-08T10:20:13.428Z"
   },
   {
    "duration": -49130,
    "start_time": "2022-03-08T10:21:02.892Z"
   },
   {
    "duration": 11,
    "start_time": "2022-03-08T10:22:36.805Z"
   },
   {
    "duration": 7,
    "start_time": "2022-03-08T10:23:14.345Z"
   },
   {
    "duration": 4,
    "start_time": "2022-03-08T10:23:14.686Z"
   },
   {
    "duration": 6,
    "start_time": "2022-03-08T10:24:05.590Z"
   },
   {
    "duration": 334,
    "start_time": "2022-03-08T17:14:19.701Z"
   },
   {
    "duration": 314,
    "start_time": "2022-03-08T17:14:23.915Z"
   },
   {
    "duration": 371,
    "start_time": "2022-03-08T17:14:41.330Z"
   },
   {
    "duration": 1240,
    "start_time": "2022-03-08T17:14:47.983Z"
   },
   {
    "duration": 19,
    "start_time": "2022-03-08T17:14:49.225Z"
   },
   {
    "duration": 20,
    "start_time": "2022-03-08T17:14:49.246Z"
   },
   {
    "duration": 9,
    "start_time": "2022-03-08T17:14:49.269Z"
   },
   {
    "duration": 28,
    "start_time": "2022-03-08T17:14:49.280Z"
   },
   {
    "duration": 10,
    "start_time": "2022-03-08T17:14:49.310Z"
   },
   {
    "duration": 10,
    "start_time": "2022-03-08T17:14:49.322Z"
   },
   {
    "duration": 15,
    "start_time": "2022-03-08T17:14:49.335Z"
   },
   {
    "duration": 6,
    "start_time": "2022-03-08T17:14:49.353Z"
   },
   {
    "duration": 185,
    "start_time": "2022-03-08T17:14:49.361Z"
   },
   {
    "duration": 9,
    "start_time": "2022-03-08T17:14:49.548Z"
   },
   {
    "duration": 43,
    "start_time": "2022-03-08T17:14:49.559Z"
   },
   {
    "duration": 5,
    "start_time": "2022-03-08T17:14:49.604Z"
   },
   {
    "duration": 11,
    "start_time": "2022-03-08T17:14:49.611Z"
   },
   {
    "duration": 36,
    "start_time": "2022-03-08T17:14:49.624Z"
   },
   {
    "duration": 113,
    "start_time": "2022-03-08T17:14:49.662Z"
   },
   {
    "duration": 96,
    "start_time": "2022-03-08T17:14:49.777Z"
   },
   {
    "duration": 8,
    "start_time": "2022-03-08T17:14:49.876Z"
   },
   {
    "duration": 18,
    "start_time": "2022-03-08T17:14:49.901Z"
   },
   {
    "duration": 20,
    "start_time": "2022-03-08T17:14:49.921Z"
   },
   {
    "duration": 68,
    "start_time": "2022-03-08T17:14:49.943Z"
   },
   {
    "duration": 141,
    "start_time": "2022-03-08T17:14:50.013Z"
   },
   {
    "duration": 10,
    "start_time": "2022-03-08T17:14:50.159Z"
   },
   {
    "duration": 36,
    "start_time": "2022-03-08T17:14:50.172Z"
   },
   {
    "duration": 24,
    "start_time": "2022-03-08T17:14:50.210Z"
   },
   {
    "duration": 9,
    "start_time": "2022-03-08T17:14:50.235Z"
   },
   {
    "duration": 64,
    "start_time": "2022-03-08T17:14:50.246Z"
   },
   {
    "duration": 12,
    "start_time": "2022-03-08T17:14:50.313Z"
   },
   {
    "duration": 16,
    "start_time": "2022-03-08T17:14:50.328Z"
   },
   {
    "duration": 13,
    "start_time": "2022-03-08T17:14:50.346Z"
   },
   {
    "duration": 94,
    "start_time": "2022-03-08T17:14:50.361Z"
   },
   {
    "duration": 14,
    "start_time": "2022-03-08T17:14:50.457Z"
   },
   {
    "duration": 43,
    "start_time": "2022-03-08T17:14:50.473Z"
   },
   {
    "duration": 94,
    "start_time": "2022-03-08T17:14:50.518Z"
   },
   {
    "duration": 3,
    "start_time": "2022-03-08T17:14:50.614Z"
   },
   {
    "duration": 13,
    "start_time": "2022-03-08T17:14:50.620Z"
   },
   {
    "duration": 54,
    "start_time": "2022-03-08T17:14:50.636Z"
   },
   {
    "duration": 14,
    "start_time": "2022-03-08T17:14:50.702Z"
   },
   {
    "duration": 18,
    "start_time": "2022-03-08T17:14:50.718Z"
   },
   {
    "duration": 83,
    "start_time": "2022-03-08T17:14:50.738Z"
   },
   {
    "duration": 3,
    "start_time": "2022-03-08T17:14:50.823Z"
   },
   {
    "duration": 27,
    "start_time": "2022-03-08T17:14:50.828Z"
   },
   {
    "duration": 62,
    "start_time": "2022-03-08T17:14:50.857Z"
   },
   {
    "duration": 14,
    "start_time": "2022-03-08T17:14:50.920Z"
   },
   {
    "duration": 25,
    "start_time": "2022-03-08T17:14:50.936Z"
   },
   {
    "duration": 77,
    "start_time": "2022-03-08T17:14:50.963Z"
   },
   {
    "duration": 4,
    "start_time": "2022-03-08T17:14:51.042Z"
   },
   {
    "duration": 11,
    "start_time": "2022-03-08T17:14:51.048Z"
   },
   {
    "duration": 12,
    "start_time": "2022-03-08T17:14:51.061Z"
   },
   {
    "duration": 12,
    "start_time": "2022-03-08T17:14:51.075Z"
   },
   {
    "duration": 16,
    "start_time": "2022-03-08T17:14:51.089Z"
   },
   {
    "duration": 16,
    "start_time": "2022-03-08T17:14:51.107Z"
   },
   {
    "duration": 14,
    "start_time": "2022-03-08T17:14:51.125Z"
   },
   {
    "duration": 12,
    "start_time": "2022-03-08T17:14:51.141Z"
   },
   {
    "duration": 13,
    "start_time": "2022-03-08T17:14:51.155Z"
   },
   {
    "duration": 40,
    "start_time": "2022-03-08T17:14:51.170Z"
   },
   {
    "duration": 6,
    "start_time": "2022-03-08T17:14:51.211Z"
   },
   {
    "duration": 338,
    "start_time": "2022-03-08T17:14:51.219Z"
   },
   {
    "duration": 331,
    "start_time": "2022-03-08T17:14:51.559Z"
   },
   {
    "duration": 335,
    "start_time": "2022-03-08T17:14:51.892Z"
   },
   {
    "duration": 353,
    "start_time": "2022-03-08T17:14:52.229Z"
   },
   {
    "duration": 30,
    "start_time": "2022-03-08T17:14:52.583Z"
   },
   {
    "duration": 18,
    "start_time": "2022-03-08T17:14:52.615Z"
   },
   {
    "duration": 23,
    "start_time": "2022-03-08T17:14:52.635Z"
   },
   {
    "duration": 369,
    "start_time": "2022-03-08T17:14:52.660Z"
   },
   {
    "duration": 5,
    "start_time": "2022-03-08T17:14:53.032Z"
   },
   {
    "duration": 15,
    "start_time": "2022-03-08T17:14:53.039Z"
   },
   {
    "duration": 391,
    "start_time": "2022-03-08T17:14:53.059Z"
   },
   {
    "duration": 4,
    "start_time": "2022-03-08T17:14:53.452Z"
   },
   {
    "duration": 14,
    "start_time": "2022-03-08T17:14:53.458Z"
   },
   {
    "duration": 395,
    "start_time": "2022-03-08T17:14:53.474Z"
   },
   {
    "duration": 380,
    "start_time": "2022-03-08T17:14:53.871Z"
   },
   {
    "duration": 4,
    "start_time": "2022-03-08T17:14:54.254Z"
   },
   {
    "duration": 31,
    "start_time": "2022-03-08T17:14:54.260Z"
   },
   {
    "duration": 277,
    "start_time": "2022-03-08T17:14:54.293Z"
   },
   {
    "duration": 5,
    "start_time": "2022-03-08T17:14:54.572Z"
   },
   {
    "duration": 29,
    "start_time": "2022-03-08T17:14:54.579Z"
   },
   {
    "duration": 333,
    "start_time": "2022-03-08T17:14:54.610Z"
   },
   {
    "duration": 321,
    "start_time": "2022-03-08T17:14:54.945Z"
   },
   {
    "duration": 5,
    "start_time": "2022-03-08T17:14:55.268Z"
   },
   {
    "duration": 18,
    "start_time": "2022-03-08T17:14:55.275Z"
   },
   {
    "duration": 357,
    "start_time": "2022-03-08T17:14:55.295Z"
   },
   {
    "duration": 4,
    "start_time": "2022-03-08T17:14:55.654Z"
   },
   {
    "duration": 26,
    "start_time": "2022-03-08T17:14:55.661Z"
   },
   {
    "duration": 373,
    "start_time": "2022-03-08T17:14:55.689Z"
   },
   {
    "duration": 4,
    "start_time": "2022-03-08T17:14:56.065Z"
   },
   {
    "duration": 25,
    "start_time": "2022-03-08T17:14:56.072Z"
   },
   {
    "duration": 15,
    "start_time": "2022-03-08T17:14:56.100Z"
   },
   {
    "duration": 32,
    "start_time": "2022-03-08T17:14:56.117Z"
   },
   {
    "duration": 24,
    "start_time": "2022-03-08T17:14:56.151Z"
   },
   {
    "duration": 47,
    "start_time": "2022-03-08T17:14:56.178Z"
   },
   {
    "duration": 67,
    "start_time": "2022-03-08T17:14:56.227Z"
   },
   {
    "duration": 1176,
    "start_time": "2022-03-08T17:21:55.822Z"
   },
   {
    "duration": 18,
    "start_time": "2022-03-08T17:21:57.004Z"
   },
   {
    "duration": 14,
    "start_time": "2022-03-08T17:21:57.025Z"
   },
   {
    "duration": 10,
    "start_time": "2022-03-08T17:21:57.041Z"
   },
   {
    "duration": 11,
    "start_time": "2022-03-08T17:21:57.053Z"
   },
   {
    "duration": 11,
    "start_time": "2022-03-08T17:21:57.066Z"
   },
   {
    "duration": 26,
    "start_time": "2022-03-08T17:21:57.081Z"
   },
   {
    "duration": 17,
    "start_time": "2022-03-08T17:21:57.110Z"
   },
   {
    "duration": 19,
    "start_time": "2022-03-08T17:21:57.129Z"
   },
   {
    "duration": 154,
    "start_time": "2022-03-08T17:21:57.150Z"
   },
   {
    "duration": 9,
    "start_time": "2022-03-08T17:21:57.307Z"
   },
   {
    "duration": 26,
    "start_time": "2022-03-08T17:21:57.318Z"
   },
   {
    "duration": 4,
    "start_time": "2022-03-08T17:21:57.346Z"
   },
   {
    "duration": 11,
    "start_time": "2022-03-08T17:21:57.351Z"
   },
   {
    "duration": 56,
    "start_time": "2022-03-08T17:21:57.364Z"
   },
   {
    "duration": 104,
    "start_time": "2022-03-08T17:21:57.422Z"
   },
   {
    "duration": 97,
    "start_time": "2022-03-08T17:21:57.528Z"
   },
   {
    "duration": 8,
    "start_time": "2022-03-08T17:21:57.627Z"
   },
   {
    "duration": 19,
    "start_time": "2022-03-08T17:21:57.636Z"
   },
   {
    "duration": 44,
    "start_time": "2022-03-08T17:21:57.657Z"
   },
   {
    "duration": 43,
    "start_time": "2022-03-08T17:21:57.703Z"
   },
   {
    "duration": 136,
    "start_time": "2022-03-08T17:21:57.751Z"
   },
   {
    "duration": 12,
    "start_time": "2022-03-08T17:21:57.890Z"
   },
   {
    "duration": 21,
    "start_time": "2022-03-08T17:21:57.904Z"
   },
   {
    "duration": 21,
    "start_time": "2022-03-08T17:21:57.927Z"
   },
   {
    "duration": 9,
    "start_time": "2022-03-08T17:21:57.950Z"
   },
   {
    "duration": 64,
    "start_time": "2022-03-08T17:21:57.961Z"
   },
   {
    "duration": 12,
    "start_time": "2022-03-08T17:21:58.027Z"
   },
   {
    "duration": 12,
    "start_time": "2022-03-08T17:21:58.041Z"
   },
   {
    "duration": 10,
    "start_time": "2022-03-08T17:21:58.055Z"
   },
   {
    "duration": 88,
    "start_time": "2022-03-08T17:21:58.067Z"
   },
   {
    "duration": 14,
    "start_time": "2022-03-08T17:21:58.157Z"
   },
   {
    "duration": 39,
    "start_time": "2022-03-08T17:21:58.173Z"
   },
   {
    "duration": 94,
    "start_time": "2022-03-08T17:21:58.214Z"
   },
   {
    "duration": 3,
    "start_time": "2022-03-08T17:21:58.310Z"
   },
   {
    "duration": 16,
    "start_time": "2022-03-08T17:21:58.315Z"
   },
   {
    "duration": 43,
    "start_time": "2022-03-08T17:21:58.333Z"
   },
   {
    "duration": 37,
    "start_time": "2022-03-08T17:21:58.378Z"
   },
   {
    "duration": 20,
    "start_time": "2022-03-08T17:21:58.417Z"
   },
   {
    "duration": 62,
    "start_time": "2022-03-08T17:21:58.439Z"
   },
   {
    "duration": 3,
    "start_time": "2022-03-08T17:21:58.503Z"
   },
   {
    "duration": 14,
    "start_time": "2022-03-08T17:21:58.508Z"
   },
   {
    "duration": 50,
    "start_time": "2022-03-08T17:21:58.524Z"
   },
   {
    "duration": 31,
    "start_time": "2022-03-08T17:21:58.576Z"
   },
   {
    "duration": 24,
    "start_time": "2022-03-08T17:21:58.610Z"
   },
   {
    "duration": 79,
    "start_time": "2022-03-08T17:21:58.636Z"
   },
   {
    "duration": 3,
    "start_time": "2022-03-08T17:21:58.718Z"
   },
   {
    "duration": 10,
    "start_time": "2022-03-08T17:21:58.724Z"
   },
   {
    "duration": 6,
    "start_time": "2022-03-08T17:21:58.737Z"
   },
   {
    "duration": 7,
    "start_time": "2022-03-08T17:21:58.745Z"
   },
   {
    "duration": 17,
    "start_time": "2022-03-08T17:21:58.754Z"
   },
   {
    "duration": 37,
    "start_time": "2022-03-08T17:21:58.774Z"
   },
   {
    "duration": 16,
    "start_time": "2022-03-08T17:21:58.813Z"
   },
   {
    "duration": 13,
    "start_time": "2022-03-08T17:21:58.831Z"
   },
   {
    "duration": 14,
    "start_time": "2022-03-08T17:21:58.846Z"
   },
   {
    "duration": 14,
    "start_time": "2022-03-08T17:21:58.862Z"
   },
   {
    "duration": 24,
    "start_time": "2022-03-08T17:21:58.878Z"
   },
   {
    "duration": 320,
    "start_time": "2022-03-08T17:21:58.904Z"
   },
   {
    "duration": 304,
    "start_time": "2022-03-08T17:21:59.226Z"
   },
   {
    "duration": 306,
    "start_time": "2022-03-08T17:21:59.532Z"
   },
   {
    "duration": 349,
    "start_time": "2022-03-08T17:21:59.840Z"
   },
   {
    "duration": 35,
    "start_time": "2022-03-08T17:22:00.191Z"
   },
   {
    "duration": 6,
    "start_time": "2022-03-08T17:22:00.228Z"
   },
   {
    "duration": 20,
    "start_time": "2022-03-08T17:22:00.236Z"
   },
   {
    "duration": 363,
    "start_time": "2022-03-08T17:22:00.258Z"
   },
   {
    "duration": 5,
    "start_time": "2022-03-08T17:22:00.624Z"
   },
   {
    "duration": 23,
    "start_time": "2022-03-08T17:22:00.636Z"
   },
   {
    "duration": 388,
    "start_time": "2022-03-08T17:22:00.662Z"
   },
   {
    "duration": 4,
    "start_time": "2022-03-08T17:22:01.053Z"
   },
   {
    "duration": 20,
    "start_time": "2022-03-08T17:22:01.058Z"
   },
   {
    "duration": 366,
    "start_time": "2022-03-08T17:22:01.080Z"
   },
   {
    "duration": 322,
    "start_time": "2022-03-08T17:22:01.448Z"
   },
   {
    "duration": 5,
    "start_time": "2022-03-08T17:22:01.772Z"
   },
   {
    "duration": 35,
    "start_time": "2022-03-08T17:22:01.779Z"
   },
   {
    "duration": 282,
    "start_time": "2022-03-08T17:22:01.816Z"
   },
   {
    "duration": 4,
    "start_time": "2022-03-08T17:22:02.100Z"
   },
   {
    "duration": 42,
    "start_time": "2022-03-08T17:22:02.106Z"
   },
   {
    "duration": 415,
    "start_time": "2022-03-08T17:22:02.150Z"
   },
   {
    "duration": 400,
    "start_time": "2022-03-08T17:22:02.567Z"
   },
   {
    "duration": 4,
    "start_time": "2022-03-08T17:22:02.969Z"
   },
   {
    "duration": 29,
    "start_time": "2022-03-08T17:22:02.975Z"
   },
   {
    "duration": 353,
    "start_time": "2022-03-08T17:22:03.007Z"
   },
   {
    "duration": 5,
    "start_time": "2022-03-08T17:22:03.361Z"
   },
   {
    "duration": 46,
    "start_time": "2022-03-08T17:22:03.368Z"
   },
   {
    "duration": 340,
    "start_time": "2022-03-08T17:22:03.416Z"
   },
   {
    "duration": 5,
    "start_time": "2022-03-08T17:22:03.758Z"
   },
   {
    "duration": 22,
    "start_time": "2022-03-08T17:22:03.765Z"
   },
   {
    "duration": 13,
    "start_time": "2022-03-08T17:22:03.789Z"
   },
   {
    "duration": 11,
    "start_time": "2022-03-08T17:22:03.804Z"
   },
   {
    "duration": 11,
    "start_time": "2022-03-08T17:22:03.817Z"
   },
   {
    "duration": 9,
    "start_time": "2022-03-08T17:22:03.830Z"
   },
   {
    "duration": 11,
    "start_time": "2022-03-08T17:22:03.842Z"
   },
   {
    "duration": 1109,
    "start_time": "2022-03-08T22:02:08.869Z"
   },
   {
    "duration": 37,
    "start_time": "2022-03-08T22:02:09.980Z"
   },
   {
    "duration": 29,
    "start_time": "2022-03-08T22:02:10.019Z"
   },
   {
    "duration": 24,
    "start_time": "2022-03-08T22:02:10.049Z"
   },
   {
    "duration": 25,
    "start_time": "2022-03-08T22:02:10.074Z"
   },
   {
    "duration": 30,
    "start_time": "2022-03-08T22:02:10.100Z"
   },
   {
    "duration": 32,
    "start_time": "2022-03-08T22:02:10.131Z"
   },
   {
    "duration": 23,
    "start_time": "2022-03-08T22:02:10.165Z"
   },
   {
    "duration": 16,
    "start_time": "2022-03-08T22:02:10.190Z"
   },
   {
    "duration": 180,
    "start_time": "2022-03-08T22:02:10.208Z"
   },
   {
    "duration": 8,
    "start_time": "2022-03-08T22:02:10.390Z"
   },
   {
    "duration": 47,
    "start_time": "2022-03-08T22:02:10.399Z"
   },
   {
    "duration": 4,
    "start_time": "2022-03-08T22:02:10.448Z"
   },
   {
    "duration": 39,
    "start_time": "2022-03-08T22:02:10.453Z"
   },
   {
    "duration": 46,
    "start_time": "2022-03-08T22:02:10.493Z"
   },
   {
    "duration": 99,
    "start_time": "2022-03-08T22:02:10.541Z"
   },
   {
    "duration": 98,
    "start_time": "2022-03-08T22:02:10.642Z"
   },
   {
    "duration": 7,
    "start_time": "2022-03-08T22:02:10.742Z"
   },
   {
    "duration": 32,
    "start_time": "2022-03-08T22:02:10.751Z"
   },
   {
    "duration": 24,
    "start_time": "2022-03-08T22:02:10.785Z"
   },
   {
    "duration": 48,
    "start_time": "2022-03-08T22:02:10.811Z"
   },
   {
    "duration": 143,
    "start_time": "2022-03-08T22:02:10.861Z"
   },
   {
    "duration": 9,
    "start_time": "2022-03-08T22:02:11.009Z"
   },
   {
    "duration": 21,
    "start_time": "2022-03-08T22:02:11.022Z"
   },
   {
    "duration": 52,
    "start_time": "2022-03-08T22:02:11.045Z"
   },
   {
    "duration": 11,
    "start_time": "2022-03-08T22:02:11.099Z"
   },
   {
    "duration": 61,
    "start_time": "2022-03-08T22:02:11.112Z"
   },
   {
    "duration": 16,
    "start_time": "2022-03-08T22:02:11.176Z"
   },
   {
    "duration": 27,
    "start_time": "2022-03-08T22:02:11.194Z"
   },
   {
    "duration": 27,
    "start_time": "2022-03-08T22:02:11.223Z"
   },
   {
    "duration": 87,
    "start_time": "2022-03-08T22:02:11.251Z"
   },
   {
    "duration": 13,
    "start_time": "2022-03-08T22:02:11.339Z"
   },
   {
    "duration": 43,
    "start_time": "2022-03-08T22:02:11.354Z"
   },
   {
    "duration": 95,
    "start_time": "2022-03-08T22:02:11.399Z"
   },
   {
    "duration": 3,
    "start_time": "2022-03-08T22:02:11.496Z"
   },
   {
    "duration": 27,
    "start_time": "2022-03-08T22:02:11.500Z"
   },
   {
    "duration": 54,
    "start_time": "2022-03-08T22:02:11.529Z"
   },
   {
    "duration": 12,
    "start_time": "2022-03-08T22:02:11.585Z"
   },
   {
    "duration": 28,
    "start_time": "2022-03-08T22:02:11.599Z"
   },
   {
    "duration": 59,
    "start_time": "2022-03-08T22:02:11.628Z"
   },
   {
    "duration": 2,
    "start_time": "2022-03-08T22:02:11.689Z"
   },
   {
    "duration": 14,
    "start_time": "2022-03-08T22:02:11.693Z"
   },
   {
    "duration": 66,
    "start_time": "2022-03-08T22:02:11.709Z"
   },
   {
    "duration": 14,
    "start_time": "2022-03-08T22:02:11.777Z"
   },
   {
    "duration": 34,
    "start_time": "2022-03-08T22:02:11.793Z"
   },
   {
    "duration": 72,
    "start_time": "2022-03-08T22:02:11.829Z"
   },
   {
    "duration": 3,
    "start_time": "2022-03-08T22:02:11.903Z"
   },
   {
    "duration": 15,
    "start_time": "2022-03-08T22:02:11.908Z"
   },
   {
    "duration": 24,
    "start_time": "2022-03-08T22:02:11.925Z"
   },
   {
    "duration": 15,
    "start_time": "2022-03-08T22:02:11.951Z"
   },
   {
    "duration": 20,
    "start_time": "2022-03-08T22:02:11.968Z"
   },
   {
    "duration": 36,
    "start_time": "2022-03-08T22:02:11.990Z"
   },
   {
    "duration": 15,
    "start_time": "2022-03-08T22:02:12.028Z"
   },
   {
    "duration": 35,
    "start_time": "2022-03-08T22:02:12.045Z"
   },
   {
    "duration": 25,
    "start_time": "2022-03-08T22:02:12.082Z"
   },
   {
    "duration": 16,
    "start_time": "2022-03-08T22:02:12.109Z"
   },
   {
    "duration": 15,
    "start_time": "2022-03-08T22:02:12.127Z"
   },
   {
    "duration": 336,
    "start_time": "2022-03-08T22:02:12.143Z"
   },
   {
    "duration": 301,
    "start_time": "2022-03-08T22:02:12.481Z"
   },
   {
    "duration": 298,
    "start_time": "2022-03-08T22:02:12.783Z"
   },
   {
    "duration": 320,
    "start_time": "2022-03-08T22:02:13.083Z"
   },
   {
    "duration": 23,
    "start_time": "2022-03-08T22:02:13.405Z"
   },
   {
    "duration": 4,
    "start_time": "2022-03-08T22:02:13.430Z"
   },
   {
    "duration": 12,
    "start_time": "2022-03-08T22:02:13.436Z"
   },
   {
    "duration": 375,
    "start_time": "2022-03-08T22:02:13.450Z"
   },
   {
    "duration": 4,
    "start_time": "2022-03-08T22:02:13.826Z"
   },
   {
    "duration": 10,
    "start_time": "2022-03-08T22:02:13.832Z"
   },
   {
    "duration": 376,
    "start_time": "2022-03-08T22:02:13.848Z"
   },
   {
    "duration": 4,
    "start_time": "2022-03-08T22:02:14.226Z"
   },
   {
    "duration": 15,
    "start_time": "2022-03-08T22:02:14.232Z"
   },
   {
    "duration": 389,
    "start_time": "2022-03-08T22:02:14.249Z"
   },
   {
    "duration": 375,
    "start_time": "2022-03-08T22:02:14.640Z"
   },
   {
    "duration": 5,
    "start_time": "2022-03-08T22:02:15.017Z"
   },
   {
    "duration": 23,
    "start_time": "2022-03-08T22:02:15.024Z"
   },
   {
    "duration": 297,
    "start_time": "2022-03-08T22:02:15.049Z"
   },
   {
    "duration": 4,
    "start_time": "2022-03-08T22:02:15.348Z"
   },
   {
    "duration": 13,
    "start_time": "2022-03-08T22:02:15.353Z"
   },
   {
    "duration": 360,
    "start_time": "2022-03-08T22:02:15.377Z"
   },
   {
    "duration": 353,
    "start_time": "2022-03-08T22:02:15.739Z"
   },
   {
    "duration": 4,
    "start_time": "2022-03-08T22:02:16.094Z"
   },
   {
    "duration": 13,
    "start_time": "2022-03-08T22:02:16.100Z"
   },
   {
    "duration": 325,
    "start_time": "2022-03-08T22:02:16.115Z"
   },
   {
    "duration": 4,
    "start_time": "2022-03-08T22:02:16.442Z"
   },
   {
    "duration": 11,
    "start_time": "2022-03-08T22:02:16.447Z"
   },
   {
    "duration": 376,
    "start_time": "2022-03-08T22:02:16.460Z"
   },
   {
    "duration": 4,
    "start_time": "2022-03-08T22:02:16.838Z"
   },
   {
    "duration": 7,
    "start_time": "2022-03-08T22:02:16.844Z"
   },
   {
    "duration": 6,
    "start_time": "2022-03-08T22:02:16.852Z"
   },
   {
    "duration": 9,
    "start_time": "2022-03-08T22:02:16.877Z"
   },
   {
    "duration": 6,
    "start_time": "2022-03-08T22:02:16.888Z"
   },
   {
    "duration": 11,
    "start_time": "2022-03-08T22:02:16.896Z"
   },
   {
    "duration": 6,
    "start_time": "2022-03-08T22:02:16.909Z"
   }
  ],
  "kernelspec": {
   "display_name": "Python 3",
   "language": "python",
   "name": "python3"
  },
  "language_info": {
   "codemirror_mode": {
    "name": "ipython",
    "version": 3
   },
   "file_extension": ".py",
   "mimetype": "text/x-python",
   "name": "python",
   "nbconvert_exporter": "python",
   "pygments_lexer": "ipython3",
   "version": "3.8.3"
  },
  "toc": {
   "base_numbering": 1,
   "nav_menu": {
    "height": "193px",
    "width": "305px"
   },
   "number_sections": true,
   "sideBar": true,
   "skip_h1_title": true,
   "title_cell": "Table of Contents",
   "title_sidebar": "Contents",
   "toc_cell": false,
   "toc_position": {
    "height": "calc(100% - 180px)",
    "left": "10px",
    "top": "150px",
    "width": "311.375px"
   },
   "toc_section_display": true,
   "toc_window_display": true
  }
 },
 "nbformat": 4,
 "nbformat_minor": 2
}
