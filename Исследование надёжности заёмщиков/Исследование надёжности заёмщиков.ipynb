{
 "cells": [
  {
   "cell_type": "markdown",
   "metadata": {},
   "source": [
    "# Исследование надёжности заёмщиков\n",
    "\n",
    "Заказчик — кредитный отдел банка. Нужно разобраться, влияет ли семейное положение и количество детей клиента на факт погашения кредита в срок. Входные данные от банка — статистика о платёжеспособности клиентов.\n",
    "\n",
    "Результаты исследования будут учтены при построении модели **кредитного скоринга** — специальной системы, которая оценивает способность потенциального заёмщика вернуть кредит банку."
   ]
  },
  {
   "cell_type": "markdown",
   "metadata": {},
   "source": [
    "## Шаг 1. Откройте файл с данными и изучите общую информацию"
   ]
  },
  {
   "cell_type": "code",
   "execution_count": 1,
   "metadata": {
    "scrolled": false
   },
   "outputs": [],
   "source": [
    "#импортируем библиотеку pandas заведем таблицу в переменную df\n",
    "import pandas as pd\n",
    "df = pd.read_csv('/datasets/data.csv')"
   ]
  },
  {
   "cell_type": "code",
   "execution_count": 2,
   "metadata": {},
   "outputs": [
    {
     "name": "stdout",
     "output_type": "stream",
     "text": [
      "<class 'pandas.core.frame.DataFrame'>\n",
      "RangeIndex: 21525 entries, 0 to 21524\n",
      "Data columns (total 12 columns):\n",
      "children            21525 non-null int64\n",
      "days_employed       19351 non-null float64\n",
      "dob_years           21525 non-null int64\n",
      "education           21525 non-null object\n",
      "education_id        21525 non-null int64\n",
      "family_status       21525 non-null object\n",
      "family_status_id    21525 non-null int64\n",
      "gender              21525 non-null object\n",
      "income_type         21525 non-null object\n",
      "debt                21525 non-null int64\n",
      "total_income        19351 non-null float64\n",
      "purpose             21525 non-null object\n",
      "dtypes: float64(2), int64(5), object(5)\n",
      "memory usage: 2.0+ MB\n"
     ]
    }
   ],
   "source": [
    "#выведем общую информацию о датафрейме\n",
    "df.info()"
   ]
  },
  {
   "cell_type": "code",
   "execution_count": 3,
   "metadata": {
    "scrolled": true
   },
   "outputs": [
    {
     "data": {
      "text/html": [
       "<div>\n",
       "<style scoped>\n",
       "    .dataframe tbody tr th:only-of-type {\n",
       "        vertical-align: middle;\n",
       "    }\n",
       "\n",
       "    .dataframe tbody tr th {\n",
       "        vertical-align: top;\n",
       "    }\n",
       "\n",
       "    .dataframe thead th {\n",
       "        text-align: right;\n",
       "    }\n",
       "</style>\n",
       "<table border=\"1\" class=\"dataframe\">\n",
       "  <thead>\n",
       "    <tr style=\"text-align: right;\">\n",
       "      <th></th>\n",
       "      <th>children</th>\n",
       "      <th>days_employed</th>\n",
       "      <th>dob_years</th>\n",
       "      <th>education</th>\n",
       "      <th>education_id</th>\n",
       "      <th>family_status</th>\n",
       "      <th>family_status_id</th>\n",
       "      <th>gender</th>\n",
       "      <th>income_type</th>\n",
       "      <th>debt</th>\n",
       "      <th>total_income</th>\n",
       "      <th>purpose</th>\n",
       "    </tr>\n",
       "  </thead>\n",
       "  <tbody>\n",
       "    <tr>\n",
       "      <td>0</td>\n",
       "      <td>1</td>\n",
       "      <td>-8437.673028</td>\n",
       "      <td>42</td>\n",
       "      <td>высшее</td>\n",
       "      <td>0</td>\n",
       "      <td>женат / замужем</td>\n",
       "      <td>0</td>\n",
       "      <td>F</td>\n",
       "      <td>сотрудник</td>\n",
       "      <td>0</td>\n",
       "      <td>253875.639453</td>\n",
       "      <td>покупка жилья</td>\n",
       "    </tr>\n",
       "    <tr>\n",
       "      <td>1</td>\n",
       "      <td>1</td>\n",
       "      <td>-4024.803754</td>\n",
       "      <td>36</td>\n",
       "      <td>среднее</td>\n",
       "      <td>1</td>\n",
       "      <td>женат / замужем</td>\n",
       "      <td>0</td>\n",
       "      <td>F</td>\n",
       "      <td>сотрудник</td>\n",
       "      <td>0</td>\n",
       "      <td>112080.014102</td>\n",
       "      <td>приобретение автомобиля</td>\n",
       "    </tr>\n",
       "    <tr>\n",
       "      <td>2</td>\n",
       "      <td>0</td>\n",
       "      <td>-5623.422610</td>\n",
       "      <td>33</td>\n",
       "      <td>Среднее</td>\n",
       "      <td>1</td>\n",
       "      <td>женат / замужем</td>\n",
       "      <td>0</td>\n",
       "      <td>M</td>\n",
       "      <td>сотрудник</td>\n",
       "      <td>0</td>\n",
       "      <td>145885.952297</td>\n",
       "      <td>покупка жилья</td>\n",
       "    </tr>\n",
       "    <tr>\n",
       "      <td>3</td>\n",
       "      <td>3</td>\n",
       "      <td>-4124.747207</td>\n",
       "      <td>32</td>\n",
       "      <td>среднее</td>\n",
       "      <td>1</td>\n",
       "      <td>женат / замужем</td>\n",
       "      <td>0</td>\n",
       "      <td>M</td>\n",
       "      <td>сотрудник</td>\n",
       "      <td>0</td>\n",
       "      <td>267628.550329</td>\n",
       "      <td>дополнительное образование</td>\n",
       "    </tr>\n",
       "    <tr>\n",
       "      <td>4</td>\n",
       "      <td>0</td>\n",
       "      <td>340266.072047</td>\n",
       "      <td>53</td>\n",
       "      <td>среднее</td>\n",
       "      <td>1</td>\n",
       "      <td>гражданский брак</td>\n",
       "      <td>1</td>\n",
       "      <td>F</td>\n",
       "      <td>пенсионер</td>\n",
       "      <td>0</td>\n",
       "      <td>158616.077870</td>\n",
       "      <td>сыграть свадьбу</td>\n",
       "    </tr>\n",
       "    <tr>\n",
       "      <td>5</td>\n",
       "      <td>0</td>\n",
       "      <td>-926.185831</td>\n",
       "      <td>27</td>\n",
       "      <td>высшее</td>\n",
       "      <td>0</td>\n",
       "      <td>гражданский брак</td>\n",
       "      <td>1</td>\n",
       "      <td>M</td>\n",
       "      <td>компаньон</td>\n",
       "      <td>0</td>\n",
       "      <td>255763.565419</td>\n",
       "      <td>покупка жилья</td>\n",
       "    </tr>\n",
       "    <tr>\n",
       "      <td>6</td>\n",
       "      <td>0</td>\n",
       "      <td>-2879.202052</td>\n",
       "      <td>43</td>\n",
       "      <td>высшее</td>\n",
       "      <td>0</td>\n",
       "      <td>женат / замужем</td>\n",
       "      <td>0</td>\n",
       "      <td>F</td>\n",
       "      <td>компаньон</td>\n",
       "      <td>0</td>\n",
       "      <td>240525.971920</td>\n",
       "      <td>операции с жильем</td>\n",
       "    </tr>\n",
       "    <tr>\n",
       "      <td>7</td>\n",
       "      <td>0</td>\n",
       "      <td>-152.779569</td>\n",
       "      <td>50</td>\n",
       "      <td>СРЕДНЕЕ</td>\n",
       "      <td>1</td>\n",
       "      <td>женат / замужем</td>\n",
       "      <td>0</td>\n",
       "      <td>M</td>\n",
       "      <td>сотрудник</td>\n",
       "      <td>0</td>\n",
       "      <td>135823.934197</td>\n",
       "      <td>образование</td>\n",
       "    </tr>\n",
       "    <tr>\n",
       "      <td>8</td>\n",
       "      <td>2</td>\n",
       "      <td>-6929.865299</td>\n",
       "      <td>35</td>\n",
       "      <td>ВЫСШЕЕ</td>\n",
       "      <td>0</td>\n",
       "      <td>гражданский брак</td>\n",
       "      <td>1</td>\n",
       "      <td>F</td>\n",
       "      <td>сотрудник</td>\n",
       "      <td>0</td>\n",
       "      <td>95856.832424</td>\n",
       "      <td>на проведение свадьбы</td>\n",
       "    </tr>\n",
       "    <tr>\n",
       "      <td>9</td>\n",
       "      <td>0</td>\n",
       "      <td>-2188.756445</td>\n",
       "      <td>41</td>\n",
       "      <td>среднее</td>\n",
       "      <td>1</td>\n",
       "      <td>женат / замужем</td>\n",
       "      <td>0</td>\n",
       "      <td>M</td>\n",
       "      <td>сотрудник</td>\n",
       "      <td>0</td>\n",
       "      <td>144425.938277</td>\n",
       "      <td>покупка жилья для семьи</td>\n",
       "    </tr>\n",
       "  </tbody>\n",
       "</table>\n",
       "</div>"
      ],
      "text/plain": [
       "   children  days_employed  dob_years education  education_id  \\\n",
       "0         1   -8437.673028         42    высшее             0   \n",
       "1         1   -4024.803754         36   среднее             1   \n",
       "2         0   -5623.422610         33   Среднее             1   \n",
       "3         3   -4124.747207         32   среднее             1   \n",
       "4         0  340266.072047         53   среднее             1   \n",
       "5         0    -926.185831         27    высшее             0   \n",
       "6         0   -2879.202052         43    высшее             0   \n",
       "7         0    -152.779569         50   СРЕДНЕЕ             1   \n",
       "8         2   -6929.865299         35    ВЫСШЕЕ             0   \n",
       "9         0   -2188.756445         41   среднее             1   \n",
       "\n",
       "      family_status  family_status_id gender income_type  debt   total_income  \\\n",
       "0   женат / замужем                 0      F   сотрудник     0  253875.639453   \n",
       "1   женат / замужем                 0      F   сотрудник     0  112080.014102   \n",
       "2   женат / замужем                 0      M   сотрудник     0  145885.952297   \n",
       "3   женат / замужем                 0      M   сотрудник     0  267628.550329   \n",
       "4  гражданский брак                 1      F   пенсионер     0  158616.077870   \n",
       "5  гражданский брак                 1      M   компаньон     0  255763.565419   \n",
       "6   женат / замужем                 0      F   компаньон     0  240525.971920   \n",
       "7   женат / замужем                 0      M   сотрудник     0  135823.934197   \n",
       "8  гражданский брак                 1      F   сотрудник     0   95856.832424   \n",
       "9   женат / замужем                 0      M   сотрудник     0  144425.938277   \n",
       "\n",
       "                      purpose  \n",
       "0               покупка жилья  \n",
       "1     приобретение автомобиля  \n",
       "2               покупка жилья  \n",
       "3  дополнительное образование  \n",
       "4             сыграть свадьбу  \n",
       "5               покупка жилья  \n",
       "6           операции с жильем  \n",
       "7                 образование  \n",
       "8       на проведение свадьбы  \n",
       "9     покупка жилья для семьи  "
      ]
     },
     "metadata": {},
     "output_type": "display_data"
    }
   ],
   "source": [
    "#выведем первые 10 строк датафрейма\n",
    "display(df.head(10))"
   ]
  },
  {
   "cell_type": "markdown",
   "metadata": {},
   "source": [
    "**Вывод**\n",
    "\n",
    "\n",
    "<b>1.</b> Дата фрейм состоит из более чем 25 тыс строк и 12 колонок, есть пропуски в столбцах days_employed, total_income, которые нужно обработать.\n",
    "<br><b>2.</b> В колонке days_employed есть ошибочные значения (например, 340266 дней стажа = 945 лет), но в рамках данного исследования мы не сможем уточнить эти данные. Кроме того, данные этой колонки нам не понадобятся в исследовании.\n",
    "<br><b>3.</b> В данных days_employed есть отрицательные значения, обработаем их.\n",
    "<br><b>4.</b> В колонке education обнаружен различный регистр, приведем его к змеиному.\n",
    "<br><b>5.</b> Значения total_income нужно привести к типу int для более удобного анализа.\n",
    "<br><b>6.</b> В названиях колонок нарушений стиля нет.\n",
    "<br><b>7.</b> Возможны ошибки в категорийных переменных children, family_status_id, gender, debt, education_id, нужно проверить.\n",
    "\n",
    "</div>"
   ]
  },
  {
   "cell_type": "markdown",
   "metadata": {},
   "source": [
    "## Шаг 2. Предобработка данных"
   ]
  },
  {
   "cell_type": "markdown",
   "metadata": {},
   "source": [
    "### Обработка пропусков"
   ]
  },
  {
   "cell_type": "markdown",
   "metadata": {
    "scrolled": true
   },
   "source": [
    "Как видно в описании датафрейма, в столбцах day_employed и total_income значений меньше, чем в остальных, проверим таблицу на наличие пропусков в этих столбцах. <br>\n",
    "Для этого вызовем метод isna() к столбцу days_employed и выведем первые 5 строк:"
   ]
  },
  {
   "cell_type": "code",
   "execution_count": 4,
   "metadata": {
    "scrolled": false
   },
   "outputs": [
    {
     "data": {
      "text/html": [
       "<div>\n",
       "<style scoped>\n",
       "    .dataframe tbody tr th:only-of-type {\n",
       "        vertical-align: middle;\n",
       "    }\n",
       "\n",
       "    .dataframe tbody tr th {\n",
       "        vertical-align: top;\n",
       "    }\n",
       "\n",
       "    .dataframe thead th {\n",
       "        text-align: right;\n",
       "    }\n",
       "</style>\n",
       "<table border=\"1\" class=\"dataframe\">\n",
       "  <thead>\n",
       "    <tr style=\"text-align: right;\">\n",
       "      <th></th>\n",
       "      <th>children</th>\n",
       "      <th>days_employed</th>\n",
       "      <th>dob_years</th>\n",
       "      <th>education</th>\n",
       "      <th>education_id</th>\n",
       "      <th>family_status</th>\n",
       "      <th>family_status_id</th>\n",
       "      <th>gender</th>\n",
       "      <th>income_type</th>\n",
       "      <th>debt</th>\n",
       "      <th>total_income</th>\n",
       "      <th>purpose</th>\n",
       "    </tr>\n",
       "  </thead>\n",
       "  <tbody>\n",
       "    <tr>\n",
       "      <td>12</td>\n",
       "      <td>0</td>\n",
       "      <td>NaN</td>\n",
       "      <td>65</td>\n",
       "      <td>среднее</td>\n",
       "      <td>1</td>\n",
       "      <td>гражданский брак</td>\n",
       "      <td>1</td>\n",
       "      <td>M</td>\n",
       "      <td>пенсионер</td>\n",
       "      <td>0</td>\n",
       "      <td>NaN</td>\n",
       "      <td>сыграть свадьбу</td>\n",
       "    </tr>\n",
       "    <tr>\n",
       "      <td>26</td>\n",
       "      <td>0</td>\n",
       "      <td>NaN</td>\n",
       "      <td>41</td>\n",
       "      <td>среднее</td>\n",
       "      <td>1</td>\n",
       "      <td>женат / замужем</td>\n",
       "      <td>0</td>\n",
       "      <td>M</td>\n",
       "      <td>госслужащий</td>\n",
       "      <td>0</td>\n",
       "      <td>NaN</td>\n",
       "      <td>образование</td>\n",
       "    </tr>\n",
       "    <tr>\n",
       "      <td>29</td>\n",
       "      <td>0</td>\n",
       "      <td>NaN</td>\n",
       "      <td>63</td>\n",
       "      <td>среднее</td>\n",
       "      <td>1</td>\n",
       "      <td>Не женат / не замужем</td>\n",
       "      <td>4</td>\n",
       "      <td>F</td>\n",
       "      <td>пенсионер</td>\n",
       "      <td>0</td>\n",
       "      <td>NaN</td>\n",
       "      <td>строительство жилой недвижимости</td>\n",
       "    </tr>\n",
       "    <tr>\n",
       "      <td>41</td>\n",
       "      <td>0</td>\n",
       "      <td>NaN</td>\n",
       "      <td>50</td>\n",
       "      <td>среднее</td>\n",
       "      <td>1</td>\n",
       "      <td>женат / замужем</td>\n",
       "      <td>0</td>\n",
       "      <td>F</td>\n",
       "      <td>госслужащий</td>\n",
       "      <td>0</td>\n",
       "      <td>NaN</td>\n",
       "      <td>сделка с подержанным автомобилем</td>\n",
       "    </tr>\n",
       "    <tr>\n",
       "      <td>55</td>\n",
       "      <td>0</td>\n",
       "      <td>NaN</td>\n",
       "      <td>54</td>\n",
       "      <td>среднее</td>\n",
       "      <td>1</td>\n",
       "      <td>гражданский брак</td>\n",
       "      <td>1</td>\n",
       "      <td>F</td>\n",
       "      <td>пенсионер</td>\n",
       "      <td>1</td>\n",
       "      <td>NaN</td>\n",
       "      <td>сыграть свадьбу</td>\n",
       "    </tr>\n",
       "  </tbody>\n",
       "</table>\n",
       "</div>"
      ],
      "text/plain": [
       "    children  days_employed  dob_years education  education_id  \\\n",
       "12         0            NaN         65   среднее             1   \n",
       "26         0            NaN         41   среднее             1   \n",
       "29         0            NaN         63   среднее             1   \n",
       "41         0            NaN         50   среднее             1   \n",
       "55         0            NaN         54   среднее             1   \n",
       "\n",
       "            family_status  family_status_id gender  income_type  debt  \\\n",
       "12       гражданский брак                 1      M    пенсионер     0   \n",
       "26        женат / замужем                 0      M  госслужащий     0   \n",
       "29  Не женат / не замужем                 4      F    пенсионер     0   \n",
       "41        женат / замужем                 0      F  госслужащий     0   \n",
       "55       гражданский брак                 1      F    пенсионер     1   \n",
       "\n",
       "    total_income                           purpose  \n",
       "12           NaN                   сыграть свадьбу  \n",
       "26           NaN                       образование  \n",
       "29           NaN  строительство жилой недвижимости  \n",
       "41           NaN  сделка с подержанным автомобилем  \n",
       "55           NaN                   сыграть свадьбу  "
      ]
     },
     "execution_count": 4,
     "metadata": {},
     "output_type": "execute_result"
    }
   ],
   "source": [
    "df[df['days_employed'].isna()].head(5)"
   ]
  },
  {
   "cell_type": "markdown",
   "metadata": {},
   "source": [
    "Подсчитаем количество пропущенных значений для стоблцов days_employed и total_income:"
   ]
  },
  {
   "cell_type": "code",
   "execution_count": 5,
   "metadata": {
    "scrolled": true
   },
   "outputs": [
    {
     "name": "stdout",
     "output_type": "stream",
     "text": [
      "В столбце days_employed пропущено 2174 значений\n",
      "В столбце total_income пропущено 2174 значений\n"
     ]
    }
   ],
   "source": [
    "print(\"В столбце days_employed пропущено\",len(df[df['days_employed'].isna()]), \"значений\")\n",
    "print(\"В столбце total_income пропущено\",len(df[df['total_income'].isna()]), \"значений\")"
   ]
  },
  {
   "cell_type": "markdown",
   "metadata": {},
   "source": [
    "Данные пропуски могли появится как результат сбоя системы сбора информации (т.к. кол-во пропусков одинаковое), либо пользователь не занёс данные сведения умышленно или неумышленно."
   ]
  },
  {
   "cell_type": "markdown",
   "metadata": {},
   "source": [
    "Приведем значения колонки day_employed к положительным и заменим пропущенные значения на 'unknown'. В дальнейшем данные этой колонки нам больше не понадобятся."
   ]
  },
  {
   "cell_type": "code",
   "execution_count": 6,
   "metadata": {
    "scrolled": false
   },
   "outputs": [
    {
     "name": "stdout",
     "output_type": "stream",
     "text": [
      "<class 'pandas.core.frame.DataFrame'>\n",
      "RangeIndex: 21525 entries, 0 to 21524\n",
      "Data columns (total 12 columns):\n",
      "children            21525 non-null int64\n",
      "days_employed       21525 non-null object\n",
      "dob_years           21525 non-null int64\n",
      "education           21525 non-null object\n",
      "education_id        21525 non-null int64\n",
      "family_status       21525 non-null object\n",
      "family_status_id    21525 non-null int64\n",
      "gender              21525 non-null object\n",
      "income_type         21525 non-null object\n",
      "debt                21525 non-null int64\n",
      "total_income        19351 non-null float64\n",
      "purpose             21525 non-null object\n",
      "dtypes: float64(1), int64(5), object(6)\n",
      "memory usage: 2.0+ MB\n"
     ]
    }
   ],
   "source": [
    "#перевод значений в положительное\n",
    "df['days_employed'] = df['days_employed'].abs()\n",
    "\n",
    "#Заменим пропущенные значения столбца days_employed на 'unknown'.\n",
    "df['days_employed'] = df['days_employed'].fillna(value='unknown')\n",
    "\n",
    "#Проверим, заполнились ли пропуски\n",
    "df.info()"
   ]
  },
  {
   "cell_type": "markdown",
   "metadata": {},
   "source": [
    "Пропуски столбца day_employed заменили, теперь переходим к обработке пропущенных значений стобца total_income. Эти данные в дальнейшем исследовании нам пригодятся.<br>\n",
    "Создадим отдельную таблицу total_income_mean, где будет указано медианное значение total_income по каждой категории income_type\n",
    "<br> Медианное значение используем, чтобы исключить влияние статистических выбросов."
   ]
  },
  {
   "cell_type": "code",
   "execution_count": 7,
   "metadata": {
    "scrolled": false
   },
   "outputs": [
    {
     "data": {
      "text/plain": [
       "20667.26379327158"
      ]
     },
     "execution_count": 7,
     "metadata": {},
     "output_type": "execute_result"
    }
   ],
   "source": [
    "#Проверим, нет ли отрицательных значений в данной колонке:\n",
    "df['total_income'].min()"
   ]
  },
  {
   "cell_type": "markdown",
   "metadata": {},
   "source": [
    "Найдём медианное значение дохода по каждой категории и выведем эти значения в отдельную таблицу:"
   ]
  },
  {
   "cell_type": "code",
   "execution_count": 8,
   "metadata": {
    "scrolled": true
   },
   "outputs": [
    {
     "data": {
      "text/html": [
       "<div>\n",
       "<style scoped>\n",
       "    .dataframe tbody tr th:only-of-type {\n",
       "        vertical-align: middle;\n",
       "    }\n",
       "\n",
       "    .dataframe tbody tr th {\n",
       "        vertical-align: top;\n",
       "    }\n",
       "\n",
       "    .dataframe thead th {\n",
       "        text-align: right;\n",
       "    }\n",
       "</style>\n",
       "<table border=\"1\" class=\"dataframe\">\n",
       "  <thead>\n",
       "    <tr style=\"text-align: right;\">\n",
       "      <th></th>\n",
       "      <th>total_income_mean</th>\n",
       "    </tr>\n",
       "    <tr>\n",
       "      <th>income_type</th>\n",
       "      <th></th>\n",
       "    </tr>\n",
       "  </thead>\n",
       "  <tbody>\n",
       "    <tr>\n",
       "      <td>безработный</td>\n",
       "      <td>131339.751676</td>\n",
       "    </tr>\n",
       "    <tr>\n",
       "      <td>в декрете</td>\n",
       "      <td>53829.130729</td>\n",
       "    </tr>\n",
       "    <tr>\n",
       "      <td>госслужащий</td>\n",
       "      <td>150447.935283</td>\n",
       "    </tr>\n",
       "    <tr>\n",
       "      <td>компаньон</td>\n",
       "      <td>172357.950966</td>\n",
       "    </tr>\n",
       "    <tr>\n",
       "      <td>пенсионер</td>\n",
       "      <td>118514.486412</td>\n",
       "    </tr>\n",
       "    <tr>\n",
       "      <td>предприниматель</td>\n",
       "      <td>499163.144947</td>\n",
       "    </tr>\n",
       "    <tr>\n",
       "      <td>сотрудник</td>\n",
       "      <td>142594.396847</td>\n",
       "    </tr>\n",
       "    <tr>\n",
       "      <td>студент</td>\n",
       "      <td>98201.625314</td>\n",
       "    </tr>\n",
       "  </tbody>\n",
       "</table>\n",
       "</div>"
      ],
      "text/plain": [
       "                 total_income_mean\n",
       "income_type                       \n",
       "безработный          131339.751676\n",
       "в декрете             53829.130729\n",
       "госслужащий          150447.935283\n",
       "компаньон            172357.950966\n",
       "пенсионер            118514.486412\n",
       "предприниматель      499163.144947\n",
       "сотрудник            142594.396847\n",
       "студент               98201.625314"
      ]
     },
     "metadata": {},
     "output_type": "display_data"
    }
   ],
   "source": [
    "#Создадим новую таблицу total_income_mean и найдем по каждому типу income_type медианное значение этой группы\n",
    "total_income_mean = pd.DataFrame(df.groupby('income_type')['total_income'].median())\n",
    "\n",
    "#Переименуем название столбца с медианными значениями\n",
    "total_income_mean = total_income_mean.rename(columns={'total_income':'total_income_mean'})\n",
    "\n",
    "#Выведем итоговую таблицу\n",
    "display(total_income_mean)"
   ]
  },
  {
   "cell_type": "code",
   "execution_count": 9,
   "metadata": {},
   "outputs": [],
   "source": [
    "#Для замены пропущенных значений вызовем библиотеку numpy\n",
    "import numpy as np\n",
    "\n",
    "#заменим нулевые значения на nan\n",
    "df['total_income'] = df['total_income'].replace(0, np.nan)\n",
    "\n",
    "#заменим значения Nan медиоаной по 2 параметрам - income_type, family status\n",
    "df['total_income']= df['total_income'].fillna(df.groupby(['income_type','family_status'])['total_income'].transform('median'))\n",
    "\n",
    "#оставшиеся значения Nan заменим обратно на 0, такие данные могут появится, если найдутся уникальные сочетания income_type и family_status\n",
    "df['total_income'] = df['total_income'].replace(np.nan, 0)\n"
   ]
  },
  {
   "cell_type": "markdown",
   "metadata": {},
   "source": [
    "Добавим новый столбец со средним значением по доходу к основной таблице и используем его для замены пропущенных значений в колонке total_income:"
   ]
  },
  {
   "cell_type": "code",
   "execution_count": 10,
   "metadata": {
    "scrolled": true
   },
   "outputs": [
    {
     "name": "stdout",
     "output_type": "stream",
     "text": [
      "<class 'pandas.core.frame.DataFrame'>\n",
      "RangeIndex: 21525 entries, 0 to 21524\n",
      "Data columns (total 12 columns):\n",
      "children            21525 non-null int64\n",
      "days_employed       21525 non-null object\n",
      "dob_years           21525 non-null int64\n",
      "education           21525 non-null object\n",
      "education_id        21525 non-null int64\n",
      "family_status       21525 non-null object\n",
      "family_status_id    21525 non-null int64\n",
      "gender              21525 non-null object\n",
      "income_type         21525 non-null object\n",
      "debt                21525 non-null int64\n",
      "total_income        21525 non-null float64\n",
      "purpose             21525 non-null object\n",
      "dtypes: float64(1), int64(5), object(6)\n",
      "memory usage: 2.0+ MB\n"
     ]
    }
   ],
   "source": [
    "#Проверим, заполнились ли пропуски\n",
    "df.info()"
   ]
  },
  {
   "cell_type": "markdown",
   "metadata": {},
   "source": [
    "**Вывод**\n"
   ]
  },
  {
   "cell_type": "markdown",
   "metadata": {},
   "source": [
    "Таким образом, мы заменили пропущенные значения days_employed на unknown, а total_income на медианное по каждой категории income_type."
   ]
  },
  {
   "cell_type": "markdown",
   "metadata": {},
   "source": [
    "### Замена типа данных"
   ]
  },
  {
   "cell_type": "markdown",
   "metadata": {},
   "source": [
    "Для того, чтобы в дальнейшем производить какие-либо математические операции, заменим тип данных в столбце total_income с вещественного на целочисленный через метод astype(), который вызовет ошибку, если какие-то данные некорректны."
   ]
  },
  {
   "cell_type": "code",
   "execution_count": 33,
   "metadata": {},
   "outputs": [],
   "source": [
    "df['total_income'] = df['total_income'].astype('int')"
   ]
  },
  {
   "cell_type": "markdown",
   "metadata": {},
   "source": [
    "Ошибок метод не вывел, проверим, что преобразование типов произошло успешно через info()"
   ]
  },
  {
   "cell_type": "code",
   "execution_count": 34,
   "metadata": {
    "scrolled": false
   },
   "outputs": [
    {
     "name": "stdout",
     "output_type": "stream",
     "text": [
      "<class 'pandas.core.frame.DataFrame'>\n",
      "RangeIndex: 21525 entries, 0 to 21524\n",
      "Data columns (total 12 columns):\n",
      "children            21525 non-null int64\n",
      "days_employed       21525 non-null object\n",
      "dob_years           21525 non-null int64\n",
      "education           21525 non-null object\n",
      "education_id        21525 non-null int64\n",
      "family_status       21525 non-null object\n",
      "family_status_id    21525 non-null int64\n",
      "gender              21525 non-null object\n",
      "income_type         21525 non-null object\n",
      "debt                21525 non-null int64\n",
      "total_income        21525 non-null int64\n",
      "purpose             21525 non-null object\n",
      "dtypes: int64(6), object(6)\n",
      "memory usage: 2.0+ MB\n"
     ]
    }
   ],
   "source": [
    "df.info()"
   ]
  },
  {
   "cell_type": "markdown",
   "metadata": {},
   "source": [
    "\n",
    "**Вывод**\n"
   ]
  },
  {
   "cell_type": "markdown",
   "metadata": {},
   "source": [
    "\n",
    "На данном этапе мы преобразовали тип данных из вещественного в целочисленный, применив метод astype, позволящий перевести тип значения в нужный."
   ]
  },
  {
   "cell_type": "markdown",
   "metadata": {},
   "source": [
    "### Обработка дубликатов"
   ]
  },
  {
   "cell_type": "markdown",
   "metadata": {},
   "source": [
    "Перейдём к проверке данных в столбце education"
   ]
  },
  {
   "cell_type": "code",
   "execution_count": 35,
   "metadata": {},
   "outputs": [
    {
     "name": "stdout",
     "output_type": "stream",
     "text": [
      "['высшее' 'среднее' 'Среднее' 'СРЕДНЕЕ' 'ВЫСШЕЕ' 'неоконченное высшее'\n",
      " 'начальное' 'Высшее' 'НЕОКОНЧЕННОЕ ВЫСШЕЕ' 'Неоконченное высшее'\n",
      " 'НАЧАЛЬНОЕ' 'Начальное' 'Ученая степень' 'УЧЕНАЯ СТЕПЕНЬ'\n",
      " 'ученая степень']\n"
     ]
    }
   ],
   "source": [
    "#Проверяем столбец education на дубликаты методом unique()\n",
    "print(df['education'].unique())"
   ]
  },
  {
   "cell_type": "markdown",
   "metadata": {},
   "source": [
    "В данном столбце значения введены с разным регистром, приведем всё к единому стилю методом str.lower()"
   ]
  },
  {
   "cell_type": "code",
   "execution_count": 36,
   "metadata": {},
   "outputs": [
    {
     "name": "stdout",
     "output_type": "stream",
     "text": [
      "['высшее' 'среднее' 'неоконченное высшее' 'начальное' 'ученая степень']\n"
     ]
    }
   ],
   "source": [
    "#применим метод\n",
    "df['education'] = df['education'].str.lower()\n",
    "\n",
    "#Проверяем\n",
    "print(df['education'].unique())"
   ]
  },
  {
   "cell_type": "markdown",
   "metadata": {},
   "source": [
    "Проанализируем количество явных дубликатов в датафрейме, для этого вызовем метод duplicated() и подсчитаем их количество методом sum():"
   ]
  },
  {
   "cell_type": "code",
   "execution_count": 37,
   "metadata": {
    "scrolled": true
   },
   "outputs": [
    {
     "name": "stdout",
     "output_type": "stream",
     "text": [
      "Количество явных дубликатов в датафрейме: 71\n"
     ]
    }
   ],
   "source": [
    "print('Количество явных дубликатов в датафрейме:', df.duplicated().sum())"
   ]
  },
  {
   "cell_type": "markdown",
   "metadata": {},
   "source": [
    "Для удаления явных дубликатов воспользуемся методом drop_duplicates() и восстановим индексацию после удаления строк через reset_index()"
   ]
  },
  {
   "cell_type": "code",
   "execution_count": 38,
   "metadata": {},
   "outputs": [],
   "source": [
    "df = df.drop_duplicates().reset_index(drop=True)"
   ]
  },
  {
   "cell_type": "markdown",
   "metadata": {},
   "source": [
    "Проверим количество явных дубликатов:"
   ]
  },
  {
   "cell_type": "code",
   "execution_count": 39,
   "metadata": {},
   "outputs": [
    {
     "name": "stdout",
     "output_type": "stream",
     "text": [
      "Количество явных дубликатов в датафрейме: 0\n"
     ]
    }
   ],
   "source": [
    "print('Количество явных дубликатов в датафрейме:', df.duplicated().sum())"
   ]
  },
  {
   "cell_type": "markdown",
   "metadata": {},
   "source": [
    "Явные дубликаты удалены.<br> Их появление может быть связано со сбоем работы инструмента по сбору информации, когда пользователь заполнил форму дважды."
   ]
  },
  {
   "cell_type": "markdown",
   "metadata": {},
   "source": [
    "Теперь проверим датафрейм на наличие неявных дубликатов.\n",
    "Для этого поочередно вызовем метод unique() к столбцам данных с типом object."
   ]
  },
  {
   "cell_type": "code",
   "execution_count": 40,
   "metadata": {
    "scrolled": true
   },
   "outputs": [
    {
     "name": "stdout",
     "output_type": "stream",
     "text": [
      "[ 1  0  3  2 -1  4 20  5]\n"
     ]
    }
   ],
   "source": [
    "print(df['children'].unique())"
   ]
  },
  {
   "cell_type": "markdown",
   "metadata": {},
   "source": [
    " \n",
    "В данных столбца children обнаружились значения \"-1\" и \"20\". Проверим количество строк с данными значениями."
   ]
  },
  {
   "cell_type": "code",
   "execution_count": 41,
   "metadata": {
    "scrolled": true
   },
   "outputs": [
    {
     "name": "stdout",
     "output_type": "stream",
     "text": [
      " 0     14091\n",
      " 1      4808\n",
      " 2      2052\n",
      " 3       330\n",
      " 20       76\n",
      "-1        47\n",
      " 4        41\n",
      " 5         9\n",
      "Name: children, dtype: int64\n"
     ]
    }
   ],
   "source": [
    "print(df['children'].value_counts())"
   ]
  },
  {
   "cell_type": "markdown",
   "metadata": {},
   "source": [
    "Предположим, что данные значения были введены вручную с ошибкой. Чтобы сделать их корректными, применим к столбцу метод abs() для перевода значения \"-1\" в \"-1\", а затем заменим значение \"20\" на \"2\" через метод replace()."
   ]
  },
  {
   "cell_type": "code",
   "execution_count": 42,
   "metadata": {
    "scrolled": true
   },
   "outputs": [
    {
     "name": "stdout",
     "output_type": "stream",
     "text": [
      "0    14091\n",
      "1     4855\n",
      "2     2128\n",
      "3      330\n",
      "4       41\n",
      "5        9\n",
      "Name: children, dtype: int64\n"
     ]
    }
   ],
   "source": [
    "#Меняем значение -1 на 1\n",
    "df['children'] = df['children'].abs()\n",
    "\n",
    "#Меняем значение 20 на 2\n",
    "df['children'] = df['children'].replace(20, 2)\n",
    "\n",
    "#Проверяем\n",
    "print(df['children'].value_counts())"
   ]
  },
  {
   "cell_type": "markdown",
   "metadata": {},
   "source": [
    "Перейдём к проверке данных в столбце education"
   ]
  },
  {
   "cell_type": "code",
   "execution_count": 43,
   "metadata": {},
   "outputs": [
    {
     "name": "stdout",
     "output_type": "stream",
     "text": [
      "['женат / замужем' 'гражданский брак' 'вдовец / вдова' 'в разводе'\n",
      " 'Не женат / не замужем']\n"
     ]
    }
   ],
   "source": [
    "#Выведем уникальные значения family_status:\n",
    "print(df['family_status'].unique())"
   ]
  },
  {
   "cell_type": "markdown",
   "metadata": {},
   "source": [
    "В данном столбце всё приведено к нижнему регистру и нет дубликатов."
   ]
  },
  {
   "cell_type": "code",
   "execution_count": 44,
   "metadata": {},
   "outputs": [
    {
     "name": "stdout",
     "output_type": "stream",
     "text": [
      "['F' 'M' 'XNA']\n"
     ]
    }
   ],
   "source": [
    "#Проверяем данные столбца gender\n",
    "print(df['gender'].unique())"
   ]
  },
  {
   "cell_type": "markdown",
   "metadata": {},
   "source": [
    "Находим ошибочно указанную категорию, проверяем кол-во строк с данной категорией столбца gender"
   ]
  },
  {
   "cell_type": "code",
   "execution_count": 45,
   "metadata": {},
   "outputs": [
    {
     "data": {
      "text/plain": [
       "F      14174\n",
       "M       7279\n",
       "XNA        1\n",
       "Name: gender, dtype: int64"
      ]
     },
     "execution_count": 45,
     "metadata": {},
     "output_type": "execute_result"
    }
   ],
   "source": [
    "df['gender'].value_counts()"
   ]
  },
  {
   "cell_type": "markdown",
   "metadata": {},
   "source": [
    "Т.к. остальные данные датафрема не характеризуют значение столбца 'gender' и такая строка одна, то удалим данную строку из датафрейма. Это не окажет сильного влияния на итоговый результат исследования."
   ]
  },
  {
   "cell_type": "code",
   "execution_count": 46,
   "metadata": {},
   "outputs": [
    {
     "name": "stdout",
     "output_type": "stream",
     "text": [
      "['F' 'M']\n"
     ]
    }
   ],
   "source": [
    "df = df.drop(df[df.gender == 'XNA'].index)\n",
    "#Восстановим порядок индексов после удаления строки\n",
    "df = df.reset_index()\n",
    "#Выведем снова уникальные значения столбца gender\n",
    "print(df['gender'].unique())"
   ]
  },
  {
   "cell_type": "markdown",
   "metadata": {},
   "source": [
    "Теперь, когда осталось только два гендера, переходим к проверке данных столбца purpose."
   ]
  },
  {
   "cell_type": "code",
   "execution_count": 47,
   "metadata": {},
   "outputs": [
    {
     "name": "stdout",
     "output_type": "stream",
     "text": [
      "['покупка жилья' 'приобретение автомобиля' 'дополнительное образование'\n",
      " 'сыграть свадьбу' 'операции с жильем' 'образование'\n",
      " 'на проведение свадьбы' 'покупка жилья для семьи' 'покупка недвижимости'\n",
      " 'покупка коммерческой недвижимости' 'покупка жилой недвижимости'\n",
      " 'строительство собственной недвижимости' 'недвижимость'\n",
      " 'строительство недвижимости' 'на покупку подержанного автомобиля'\n",
      " 'на покупку своего автомобиля' 'операции с коммерческой недвижимостью'\n",
      " 'строительство жилой недвижимости' 'жилье'\n",
      " 'операции со своей недвижимостью' 'автомобили' 'заняться образованием'\n",
      " 'сделка с подержанным автомобилем' 'получение образования' 'автомобиль'\n",
      " 'свадьба' 'получение дополнительного образования' 'покупка своего жилья'\n",
      " 'операции с недвижимостью' 'получение высшего образования'\n",
      " 'свой автомобиль' 'сделка с автомобилем' 'профильное образование'\n",
      " 'высшее образование' 'покупка жилья для сдачи' 'на покупку автомобиля'\n",
      " 'ремонт жилью' 'заняться высшим образованием']\n"
     ]
    }
   ],
   "source": [
    "#выведем уникальные значения столбца\n",
    "print(df['purpose'].unique())"
   ]
  },
  {
   "cell_type": "markdown",
   "metadata": {},
   "source": [
    "Проанализировав список уникальных значений колонки purpose, можно сделать вывод, что некоторые значения списка похожи друг на друга, но нужно привести их к словарной форме, чтобы затем определить наиболее популярные цели, выделить категории и ответить на вопрос, поставленный в исследовании."
   ]
  },
  {
   "cell_type": "markdown",
   "metadata": {},
   "source": [
    "**Вывод**\n"
   ]
  },
  {
   "cell_type": "markdown",
   "metadata": {},
   "source": [
    "На данном этапе мы обработали явные и неявные дубликаты датафрема, применив такие методы как unique(), value_counts(), drop_duplicates(), replace(), str.lower(). Выполнив различные операции по удалению и замене, мы дошли до столбца с целями кредита и обнаружили, что цели похожи между собой и необходимо выделить основные для дальнейшей категоризации всех данных."
   ]
  },
  {
   "cell_type": "markdown",
   "metadata": {},
   "source": [
    "### Лемматизация"
   ]
  },
  {
   "cell_type": "markdown",
   "metadata": {},
   "source": [
    "Для проведения лемматизации нужно в первую очередь оценить количество уникальных значений."
   ]
  },
  {
   "cell_type": "code",
   "execution_count": 48,
   "metadata": {
    "scrolled": false
   },
   "outputs": [
    {
     "name": "stdout",
     "output_type": "stream",
     "text": [
      "['покупка жилья', 'приобретение автомобиля', 'дополнительное образование', 'сыграть свадьбу', 'операции с жильем', 'образование', 'на проведение свадьбы', 'покупка жилья для семьи', 'покупка недвижимости', 'покупка коммерческой недвижимости', 'покупка жилой недвижимости', 'строительство собственной недвижимости', 'недвижимость', 'строительство недвижимости', 'на покупку подержанного автомобиля', 'на покупку своего автомобиля', 'операции с коммерческой недвижимостью', 'строительство жилой недвижимости', 'жилье', 'операции со своей недвижимостью', 'автомобили', 'заняться образованием', 'сделка с подержанным автомобилем', 'получение образования', 'автомобиль', 'свадьба', 'получение дополнительного образования', 'покупка своего жилья', 'операции с недвижимостью', 'получение высшего образования', 'свой автомобиль', 'сделка с автомобилем', 'профильное образование', 'высшее образование', 'покупка жилья для сдачи', 'на покупку автомобиля', 'ремонт жилью', 'заняться высшим образованием']\n"
     ]
    }
   ],
   "source": [
    "#Переведем уникальные значения колонки purpose в виде списка\n",
    "purpose_list = df['purpose'].unique().tolist()\n",
    "\n",
    "#Выведем результат\n",
    "print(purpose_list)"
   ]
  },
  {
   "cell_type": "code",
   "execution_count": 49,
   "metadata": {},
   "outputs": [
    {
     "name": "stdout",
     "output_type": "stream",
     "text": [
      "Количество уникальных целей для кредита: 38\n"
     ]
    }
   ],
   "source": [
    "print(\"Количество уникальных целей для кредита:\",len(purpose_list))"
   ]
  },
  {
   "cell_type": "markdown",
   "metadata": {},
   "source": [
    "На выходе мы получили список из уникальных значений колонки purpose размером в 38 позиций. <br> Теперь попробуем определить, какие цели можно выделить среди уникальных значений, чтобы сделать категоризацию всего датафрема в дальнейшем."
   ]
  },
  {
   "cell_type": "code",
   "execution_count": 50,
   "metadata": {
    "scrolled": true
   },
   "outputs": [
    {
     "data": {
      "text/html": [
       "<div>\n",
       "<style scoped>\n",
       "    .dataframe tbody tr th:only-of-type {\n",
       "        vertical-align: middle;\n",
       "    }\n",
       "\n",
       "    .dataframe tbody tr th {\n",
       "        vertical-align: top;\n",
       "    }\n",
       "\n",
       "    .dataframe thead th {\n",
       "        text-align: right;\n",
       "    }\n",
       "</style>\n",
       "<table border=\"1\" class=\"dataframe\">\n",
       "  <thead>\n",
       "    <tr style=\"text-align: right;\">\n",
       "      <th></th>\n",
       "      <th>quantity</th>\n",
       "    </tr>\n",
       "  </thead>\n",
       "  <tbody>\n",
       "    <tr>\n",
       "      <td></td>\n",
       "      <td>59</td>\n",
       "    </tr>\n",
       "    <tr>\n",
       "      <td>\\n</td>\n",
       "      <td>38</td>\n",
       "    </tr>\n",
       "    <tr>\n",
       "      <td>покупка</td>\n",
       "      <td>10</td>\n",
       "    </tr>\n",
       "    <tr>\n",
       "      <td>недвижимость</td>\n",
       "      <td>10</td>\n",
       "    </tr>\n",
       "    <tr>\n",
       "      <td>образование</td>\n",
       "      <td>9</td>\n",
       "    </tr>\n",
       "    <tr>\n",
       "      <td>автомобиль</td>\n",
       "      <td>9</td>\n",
       "    </tr>\n",
       "    <tr>\n",
       "      <td>жилье</td>\n",
       "      <td>7</td>\n",
       "    </tr>\n",
       "    <tr>\n",
       "      <td>с</td>\n",
       "      <td>5</td>\n",
       "    </tr>\n",
       "    <tr>\n",
       "      <td>свой</td>\n",
       "      <td>4</td>\n",
       "    </tr>\n",
       "    <tr>\n",
       "      <td>операция</td>\n",
       "      <td>4</td>\n",
       "    </tr>\n",
       "    <tr>\n",
       "      <td>на</td>\n",
       "      <td>4</td>\n",
       "    </tr>\n",
       "    <tr>\n",
       "      <td>получение</td>\n",
       "      <td>3</td>\n",
       "    </tr>\n",
       "    <tr>\n",
       "      <td>свадьба</td>\n",
       "      <td>3</td>\n",
       "    </tr>\n",
       "    <tr>\n",
       "      <td>строительство</td>\n",
       "      <td>3</td>\n",
       "    </tr>\n",
       "    <tr>\n",
       "      <td>высокий</td>\n",
       "      <td>3</td>\n",
       "    </tr>\n",
       "  </tbody>\n",
       "</table>\n",
       "</div>"
      ],
      "text/plain": [
       "               quantity\n",
       "                     59\n",
       "\\n                   38\n",
       "покупка              10\n",
       "недвижимость         10\n",
       "образование           9\n",
       "автомобиль            9\n",
       "жилье                 7\n",
       "с                     5\n",
       "свой                  4\n",
       "операция              4\n",
       "на                    4\n",
       "получение             3\n",
       "свадьба               3\n",
       "строительство         3\n",
       "высокий               3"
      ]
     },
     "metadata": {},
     "output_type": "display_data"
    }
   ],
   "source": [
    "#Импортируем pymystem3\n",
    "from pymystem3 import Mystem\n",
    "m = Mystem()\n",
    "\n",
    "#Импортируем collections\n",
    "from collections import Counter\n",
    "\n",
    "#Переведем значения колонки purpose в список purpose_list, чтобы затем пройтись по нему циклом\n",
    "purpose_list = df['purpose'].unique()\n",
    "\n",
    "#Лемматизируем каждое значение списка purpose_list и заведем эти значения в список списков purpose_list_lem\n",
    "purpose_list_lem = []\n",
    "for i in purpose_list:\n",
    "    lemmas = m.lemmatize(i)\n",
    "    purpose_list_lem.append(lemmas)\n",
    "\n",
    "#Распакуем каждое значение списка списков и пересчитаем их в purpose_count\n",
    "purpose_count = []\n",
    "for i in purpose_list_lem:\n",
    "    for y in i:\n",
    "        purpose_count.append(y)\n",
    "\n",
    "#Подсчитаем кол-во лемм\n",
    "purpose_count_final = Counter(purpose_count)\n",
    "\n",
    "#Выведем итоговую таблицу с количеством повторений каждой леммы, сортировка по убыванию, первые 15 значений.\n",
    "purpose_df = pd.DataFrame.from_dict(purpose_count_final, orient='index', columns=['quantity']).sort_values(by='quantity',ascending=False)\n",
    "display(purpose_df.head(15))"
   ]
  },
  {
   "cell_type": "markdown",
   "metadata": {},
   "source": [
    "\n",
    "Из таблицы видно, что с самыми частыми повторениями являются следующие леммы: жилье (недвижимость), автомобиль, свадьба, образование.<br> Теперь напишем функцию, которая переведет значения колонки purpose к одной из выделенных нами ранее категорий.\n"
   ]
  },
  {
   "cell_type": "code",
   "execution_count": 51,
   "metadata": {
    "scrolled": false
   },
   "outputs": [
    {
     "name": "stdout",
     "output_type": "stream",
     "text": [
      "                      purpose purpose_category\n",
      "0               покупка жилья     недвижимость\n",
      "1     приобретение автомобиля       автомобиль\n",
      "2               покупка жилья     недвижимость\n",
      "3  дополнительное образование      образование\n",
      "4             сыграть свадьбу          свадьба\n",
      "5               покупка жилья     недвижимость\n",
      "6           операции с жильем     недвижимость\n",
      "7                 образование      образование\n",
      "8       на проведение свадьбы          свадьба\n",
      "9     покупка жилья для семьи     недвижимость\n"
     ]
    }
   ],
   "source": [
    "#Функция определит, к какой из 4х категорий относится цель\n",
    "def purpose_category(purpose):\n",
    "    i = ' '.join(m.lemmatize(purpose))\n",
    "    for y in i:\n",
    "        if \"жилье\" in i or 'недвижимость' in i:\n",
    "            return 'недвижимость'\n",
    "        if \"автомобиль\" in i:\n",
    "            return 'автомобиль'\n",
    "        if \"свадьба\" in i:\n",
    "            return 'свадьба'\n",
    "        if \"образование\" in i:\n",
    "            return 'образование'\n",
    "        else:\n",
    "            return 0\n",
    "\n",
    "#Применим функцию к столбцу основного датафрейма\n",
    "df['purpose_category'] = df['purpose'].apply(purpose_category)\n",
    "\n",
    "#Проверим результат, выведем первые 10 значений столбцов purpose и purpose_category\n",
    "print(df[['purpose','purpose_category']].head(10))"
   ]
  },
  {
   "cell_type": "code",
   "execution_count": 52,
   "metadata": {
    "scrolled": true
   },
   "outputs": [
    {
     "name": "stdout",
     "output_type": "stream",
     "text": [
      "Empty DataFrame\n",
      "Columns: [index, children, days_employed, dob_years, education, education_id, family_status, family_status_id, gender, income_type, debt, total_income, purpose, purpose_category]\n",
      "Index: []\n"
     ]
    }
   ],
   "source": [
    "#Проверим на наличие значений, не попадающих ни под одну категорию\n",
    "print(df[df['purpose_category'] == 0].head(10))"
   ]
  },
  {
   "cell_type": "markdown",
   "metadata": {},
   "source": [
    "**Вывод**"
   ]
  },
  {
   "cell_type": "markdown",
   "metadata": {},
   "source": [
    "\n",
    "Результатом данного этапа исследования является лемматизация целей кредита, создание нового столбца с выделенными целями кредита, который позволит нам категоризировать данные."
   ]
  },
  {
   "cell_type": "markdown",
   "metadata": {},
   "source": [
    "### Категоризация данных"
   ]
  },
  {
   "cell_type": "markdown",
   "metadata": {},
   "source": [
    "Чтобы ответить на все вопросы, поставленные в данном исследовании, необходимо провести категоризацию данных, которая позволит объединить данные по нужным нам критериям."
   ]
  },
  {
   "cell_type": "markdown",
   "metadata": {},
   "source": [
    "В первую очередь категоризируем всех должников по колонке children."
   ]
  },
  {
   "cell_type": "code",
   "execution_count": 53,
   "metadata": {
    "scrolled": true
   },
   "outputs": [
    {
     "data": {
      "text/html": [
       "<div>\n",
       "<style scoped>\n",
       "    .dataframe tbody tr th:only-of-type {\n",
       "        vertical-align: middle;\n",
       "    }\n",
       "\n",
       "    .dataframe tbody tr th {\n",
       "        vertical-align: top;\n",
       "    }\n",
       "\n",
       "    .dataframe thead th {\n",
       "        text-align: right;\n",
       "    }\n",
       "</style>\n",
       "<table border=\"1\" class=\"dataframe\">\n",
       "  <thead>\n",
       "    <tr style=\"text-align: right;\">\n",
       "      <th></th>\n",
       "      <th>debt</th>\n",
       "      <th>total</th>\n",
       "      <th>share_cat%</th>\n",
       "    </tr>\n",
       "    <tr>\n",
       "      <th>children</th>\n",
       "      <th></th>\n",
       "      <th></th>\n",
       "      <th></th>\n",
       "    </tr>\n",
       "  </thead>\n",
       "  <tbody>\n",
       "    <tr>\n",
       "      <td>0</td>\n",
       "      <td>1063</td>\n",
       "      <td>14090</td>\n",
       "      <td>7.544358</td>\n",
       "    </tr>\n",
       "    <tr>\n",
       "      <td>1</td>\n",
       "      <td>445</td>\n",
       "      <td>4855</td>\n",
       "      <td>9.165808</td>\n",
       "    </tr>\n",
       "    <tr>\n",
       "      <td>2</td>\n",
       "      <td>202</td>\n",
       "      <td>2128</td>\n",
       "      <td>9.492481</td>\n",
       "    </tr>\n",
       "    <tr>\n",
       "      <td>3</td>\n",
       "      <td>27</td>\n",
       "      <td>330</td>\n",
       "      <td>8.181818</td>\n",
       "    </tr>\n",
       "    <tr>\n",
       "      <td>4</td>\n",
       "      <td>4</td>\n",
       "      <td>41</td>\n",
       "      <td>9.756098</td>\n",
       "    </tr>\n",
       "    <tr>\n",
       "      <td>5</td>\n",
       "      <td>0</td>\n",
       "      <td>9</td>\n",
       "      <td>0.000000</td>\n",
       "    </tr>\n",
       "  </tbody>\n",
       "</table>\n",
       "</div>"
      ],
      "text/plain": [
       "          debt  total  share_cat%\n",
       "children                         \n",
       "0         1063  14090    7.544358\n",
       "1          445   4855    9.165808\n",
       "2          202   2128    9.492481\n",
       "3           27    330    8.181818\n",
       "4            4     41    9.756098\n",
       "5            0      9    0.000000"
      ]
     },
     "metadata": {},
     "output_type": "display_data"
    }
   ],
   "source": [
    "#сгруппируем всех должников по наличию детей в новой таблице\n",
    "child_debt = pd.DataFrame(df.groupby('children')['debt'].sum()).sort_values('debt',ascending=False)\n",
    "\n",
    "#найдём общее количество клиентов по каждой категории \n",
    "child_category_df = df.pivot_table(index='children', values = 'debt', aggfunc='count')\n",
    "\n",
    "#переименуем столбец series\n",
    "child_category_df.columns = [\"total\"]\n",
    "\n",
    "#добавим столбец к таблице\n",
    "child_debt = child_debt.merge(child_category_df, on ='children')\n",
    "\n",
    "#посчитаем долю должников в каждоый категории колонки children\n",
    "child_debt['share_cat%'] = child_debt['debt'] / child_debt['total'] * 100\n",
    "\n",
    "\n",
    "#выведем результат\n",
    "display(child_debt)"
   ]
  },
  {
   "cell_type": "markdown",
   "metadata": {},
   "source": [
    "Затем категоризируем всех должников по колонке family_status."
   ]
  },
  {
   "cell_type": "code",
   "execution_count": 54,
   "metadata": {
    "scrolled": false
   },
   "outputs": [
    {
     "data": {
      "text/html": [
       "<div>\n",
       "<style scoped>\n",
       "    .dataframe tbody tr th:only-of-type {\n",
       "        vertical-align: middle;\n",
       "    }\n",
       "\n",
       "    .dataframe tbody tr th {\n",
       "        vertical-align: top;\n",
       "    }\n",
       "\n",
       "    .dataframe thead th {\n",
       "        text-align: right;\n",
       "    }\n",
       "</style>\n",
       "<table border=\"1\" class=\"dataframe\">\n",
       "  <thead>\n",
       "    <tr style=\"text-align: right;\">\n",
       "      <th></th>\n",
       "      <th>debt</th>\n",
       "      <th>total</th>\n",
       "      <th>share_cat%</th>\n",
       "    </tr>\n",
       "    <tr>\n",
       "      <th>family_status</th>\n",
       "      <th></th>\n",
       "      <th></th>\n",
       "      <th></th>\n",
       "    </tr>\n",
       "  </thead>\n",
       "  <tbody>\n",
       "    <tr>\n",
       "      <td>женат / замужем</td>\n",
       "      <td>931</td>\n",
       "      <td>12339</td>\n",
       "      <td>7.545182</td>\n",
       "    </tr>\n",
       "    <tr>\n",
       "      <td>гражданский брак</td>\n",
       "      <td>388</td>\n",
       "      <td>4150</td>\n",
       "      <td>9.349398</td>\n",
       "    </tr>\n",
       "    <tr>\n",
       "      <td>Не женат / не замужем</td>\n",
       "      <td>274</td>\n",
       "      <td>2810</td>\n",
       "      <td>9.750890</td>\n",
       "    </tr>\n",
       "    <tr>\n",
       "      <td>в разводе</td>\n",
       "      <td>85</td>\n",
       "      <td>1195</td>\n",
       "      <td>7.112971</td>\n",
       "    </tr>\n",
       "    <tr>\n",
       "      <td>вдовец / вдова</td>\n",
       "      <td>63</td>\n",
       "      <td>959</td>\n",
       "      <td>6.569343</td>\n",
       "    </tr>\n",
       "  </tbody>\n",
       "</table>\n",
       "</div>"
      ],
      "text/plain": [
       "                       debt  total  share_cat%\n",
       "family_status                                 \n",
       "женат / замужем         931  12339    7.545182\n",
       "гражданский брак        388   4150    9.349398\n",
       "Не женат / не замужем   274   2810    9.750890\n",
       "в разводе                85   1195    7.112971\n",
       "вдовец / вдова           63    959    6.569343"
      ]
     },
     "metadata": {},
     "output_type": "display_data"
    }
   ],
   "source": [
    "#сгруппируем всех должников по семейному положению в новой таблице\n",
    "family_debt = pd.DataFrame(df.groupby('family_status')['debt'].sum()).sort_values('debt',ascending=False)\n",
    "\n",
    "#найдём общее количество клиентов по каждой категории \n",
    "family_debt_df = df.pivot_table(index='family_status', values='debt', aggfunc='count')\n",
    "\n",
    "#переименуем столбец series\n",
    "family_debt_df.columns = [\"total\"]\n",
    "\n",
    "#добавим столбец к таблице\n",
    "family_debt = family_debt.merge(family_debt_df, on='family_status')\n",
    "\n",
    "#посчитаем долю должников в каждоый категории колонки family_status\n",
    "family_debt['share_cat%'] = family_debt['debt'] / family_debt['total'] * 100\n",
    "\n",
    "#выведем результат\n",
    "display(family_debt)"
   ]
  },
  {
   "cell_type": "markdown",
   "metadata": {},
   "source": [
    "Перейдём к категоризации по уровню дохода.<br> \n",
    "Для более корректной установки границ дохода, построим гистограмму, которая наглядно позволит нам увидеть, на какие группы можно разбить уровни дохода."
   ]
  },
  {
   "cell_type": "code",
   "execution_count": 55,
   "metadata": {
    "scrolled": false
   },
   "outputs": [
    {
     "data": {
      "image/png": "[encoded data removed]",
      "text/plain": [
       "<Figure size 432x288 with 1 Axes>"
      ]
     },
     "metadata": {
      "needs_background": "light"
     },
     "output_type": "display_data"
    }
   ],
   "source": [
    "#Строим гистограмму на основе данных total_income\n",
    "income_hist = df['total_income'].hist()\n",
    "fig = income_hist.get_figure()"
   ]
  },
  {
   "cell_type": "markdown",
   "metadata": {},
   "source": [
    "По данным гистограммы можно сделать вывод, что возможна группировка всех доходов на 3 группы: до 250 тыс., от 250 до 500 тыс., более 500 тыс."
   ]
  },
  {
   "cell_type": "code",
   "execution_count": 56,
   "metadata": {
    "scrolled": false
   },
   "outputs": [
    {
     "name": "stdout",
     "output_type": "stream",
     "text": [
      "          debt  total  share_cat%\n",
      "category                         \n",
      "high       330   4734    6.970849\n",
      "low        423   5308    7.969103\n",
      "middle     515   5827    8.838167\n",
      "middle+    473   5584    8.470630\n"
     ]
    }
   ],
   "source": [
    "#Напишем функцию, которая определяет категорию для уровня дохода\n",
    "pd.options.mode.chained_assignment = None\n",
    "income_debt = df[['debt', 'total_income']]\n",
    "\n",
    "def income_category(income):\n",
    "    if income <= 107000:\n",
    "        return 'low'\n",
    "    if income > 107000 and income < 145000:\n",
    "        return 'middle'\n",
    "    if income > 145000 and income < 205000:\n",
    "        return 'middle+'\n",
    "    return 'high'\n",
    "\n",
    "\n",
    "#Применим функцию к датафрейму\n",
    "income_debt['category'] = income_debt['total_income'].apply(income_category)\n",
    "\n",
    "#Импортируем numpy, чтобы заменить нулевые значения в столбце debt на Nan, это даст нам возможность подсчитать кол-во строк\n",
    "import numpy as np\n",
    "income_debt['debt'] = income_debt['debt'].replace(0, np.nan)\n",
    "\n",
    "#сделаем пивот с числом должников по каждой категории и числом клиентов по каждой категории\n",
    "income_debt_pivot = income_debt.pivot_table(index='category', aggfunc='count')\n",
    "\n",
    "#Переименуем столбцы пивота\n",
    "income_debt_pivot.columns = ['debt', 'total']\n",
    "\n",
    "#найдём долю должников в общем числе клиентов для каждоый категории\n",
    "income_debt_pivot[\"share_cat%\"] = income_debt_pivot['debt'] / income_debt_pivot['total'] * 100\n",
    "\n",
    "\n",
    "#выведем результат\n",
    "print(income_debt_pivot)\n"
   ]
  },
  {
   "cell_type": "markdown",
   "metadata": {},
   "source": [
    "Сгруппируем всех должников по целям кредита. Для этого используем уже сформированные данные в колонке purpose_category."
   ]
  },
  {
   "cell_type": "code",
   "execution_count": 66,
   "metadata": {
    "scrolled": false
   },
   "outputs": [
    {
     "data": {
      "text/html": [
       "<div>\n",
       "<style scoped>\n",
       "    .dataframe tbody tr th:only-of-type {\n",
       "        vertical-align: middle;\n",
       "    }\n",
       "\n",
       "    .dataframe tbody tr th {\n",
       "        vertical-align: top;\n",
       "    }\n",
       "\n",
       "    .dataframe thead th {\n",
       "        text-align: right;\n",
       "    }\n",
       "</style>\n",
       "<table border=\"1\" class=\"dataframe\">\n",
       "  <thead>\n",
       "    <tr style=\"text-align: right;\">\n",
       "      <th></th>\n",
       "      <th>debt</th>\n",
       "      <th>total</th>\n",
       "      <th>share_cat%</th>\n",
       "    </tr>\n",
       "    <tr>\n",
       "      <th>purpose_category</th>\n",
       "      <th></th>\n",
       "      <th></th>\n",
       "      <th></th>\n",
       "    </tr>\n",
       "  </thead>\n",
       "  <tbody>\n",
       "    <tr>\n",
       "      <td>недвижимость</td>\n",
       "      <td>782</td>\n",
       "      <td>10810</td>\n",
       "      <td>7.234043</td>\n",
       "    </tr>\n",
       "    <tr>\n",
       "      <td>автомобиль</td>\n",
       "      <td>403</td>\n",
       "      <td>4306</td>\n",
       "      <td>9.359034</td>\n",
       "    </tr>\n",
       "    <tr>\n",
       "      <td>образование</td>\n",
       "      <td>370</td>\n",
       "      <td>4013</td>\n",
       "      <td>9.220035</td>\n",
       "    </tr>\n",
       "    <tr>\n",
       "      <td>свадьба</td>\n",
       "      <td>186</td>\n",
       "      <td>2324</td>\n",
       "      <td>8.003442</td>\n",
       "    </tr>\n",
       "  </tbody>\n",
       "</table>\n",
       "</div>"
      ],
      "text/plain": [
       "                  debt  total  share_cat%\n",
       "purpose_category                         \n",
       "недвижимость       782  10810    7.234043\n",
       "автомобиль         403   4306    9.359034\n",
       "образование        370   4013    9.220035\n",
       "свадьба            186   2324    8.003442"
      ]
     },
     "metadata": {},
     "output_type": "display_data"
    }
   ],
   "source": [
    "#Сгруппируем получившиеся значения\n",
    "goal_debt = pd.DataFrame(df.groupby('purpose_category')['debt'].sum()).sort_values('debt',ascending=False)\n",
    "\n",
    "#посчитаем кол-во клиентов по каждой категории purpose\n",
    "goal_debt_pivot = df.pivot_table(index='purpose_category', values='debt', aggfunc='count')\n",
    "\n",
    "#переименуем столбец series\n",
    "goal_debt_pivot.columns = ['total']\n",
    "\n",
    "#добавим столбец к итоговой таблице\n",
    "goal_debt = goal_debt.merge(goal_debt_pivot, on='purpose_category')\n",
    "\n",
    "#найдём долю должников в каждой категории Purpose\n",
    "goal_debt[\"share_cat%\"] = goal_debt['debt'] / goal_debt['total'] * 100\n",
    "\n",
    "#выведем результат\n",
    "display(goal_debt)"
   ]
  },
  {
   "cell_type": "markdown",
   "metadata": {},
   "source": [
    "**Вывод**"
   ]
  },
  {
   "cell_type": "markdown",
   "metadata": {},
   "source": [
    "На данном этапе мы подготовили датафреймы, которые позволят нам ответить на вопросы, поставленные в данном исследовании. Категоризация данных была основана на данных из обработанного датафрейма."
   ]
  },
  {
   "cell_type": "markdown",
   "metadata": {},
   "source": [
    "## Шаг 3. Ответьте на вопросы"
   ]
  },
  {
   "cell_type": "markdown",
   "metadata": {},
   "source": [
    "- Есть ли зависимость между наличием детей и возвратом кредита в срок?"
   ]
  },
  {
   "cell_type": "code",
   "execution_count": 58,
   "metadata": {},
   "outputs": [
    {
     "data": {
      "text/html": [
       "<div>\n",
       "<style scoped>\n",
       "    .dataframe tbody tr th:only-of-type {\n",
       "        vertical-align: middle;\n",
       "    }\n",
       "\n",
       "    .dataframe tbody tr th {\n",
       "        vertical-align: top;\n",
       "    }\n",
       "\n",
       "    .dataframe thead th {\n",
       "        text-align: right;\n",
       "    }\n",
       "</style>\n",
       "<table border=\"1\" class=\"dataframe\">\n",
       "  <thead>\n",
       "    <tr style=\"text-align: right;\">\n",
       "      <th></th>\n",
       "      <th>debt</th>\n",
       "      <th>total</th>\n",
       "      <th>share_cat%</th>\n",
       "    </tr>\n",
       "    <tr>\n",
       "      <th>children</th>\n",
       "      <th></th>\n",
       "      <th></th>\n",
       "      <th></th>\n",
       "    </tr>\n",
       "  </thead>\n",
       "  <tbody>\n",
       "    <tr>\n",
       "      <td>0</td>\n",
       "      <td>1063</td>\n",
       "      <td>14090</td>\n",
       "      <td>7.544358</td>\n",
       "    </tr>\n",
       "    <tr>\n",
       "      <td>1</td>\n",
       "      <td>445</td>\n",
       "      <td>4855</td>\n",
       "      <td>9.165808</td>\n",
       "    </tr>\n",
       "    <tr>\n",
       "      <td>2</td>\n",
       "      <td>202</td>\n",
       "      <td>2128</td>\n",
       "      <td>9.492481</td>\n",
       "    </tr>\n",
       "    <tr>\n",
       "      <td>3</td>\n",
       "      <td>27</td>\n",
       "      <td>330</td>\n",
       "      <td>8.181818</td>\n",
       "    </tr>\n",
       "    <tr>\n",
       "      <td>4</td>\n",
       "      <td>4</td>\n",
       "      <td>41</td>\n",
       "      <td>9.756098</td>\n",
       "    </tr>\n",
       "    <tr>\n",
       "      <td>5</td>\n",
       "      <td>0</td>\n",
       "      <td>9</td>\n",
       "      <td>0.000000</td>\n",
       "    </tr>\n",
       "  </tbody>\n",
       "</table>\n",
       "</div>"
      ],
      "text/plain": [
       "          debt  total  share_cat%\n",
       "children                         \n",
       "0         1063  14090    7.544358\n",
       "1          445   4855    9.165808\n",
       "2          202   2128    9.492481\n",
       "3           27    330    8.181818\n",
       "4            4     41    9.756098\n",
       "5            0      9    0.000000"
      ]
     },
     "metadata": {},
     "output_type": "display_data"
    }
   ],
   "source": [
    "#приведем подготовленную таблицу\n",
    "display(child_debt)"
   ]
  },
  {
   "cell_type": "markdown",
   "metadata": {},
   "source": [
    "**Вывод**"
   ]
  },
  {
   "cell_type": "markdown",
   "metadata": {},
   "source": [
    "\n",
    "Как видно из таблицы, чаще всего не возвращают кредиты клиенты с 4, 2, 1 ребенком. Но т.к. группы в генеральной совокупности распределены неравномерно (группа без детей составляет порядка 66% от все совокупности), то трудно сделать определенные выводы относительно зависимости наличия детей и возврата по кредиту."
   ]
  },
  {
   "cell_type": "markdown",
   "metadata": {},
   "source": [
    "- Есть ли зависимость между семейным положением и возвратом кредита в срок?"
   ]
  },
  {
   "cell_type": "code",
   "execution_count": 59,
   "metadata": {},
   "outputs": [
    {
     "data": {
      "text/html": [
       "<div>\n",
       "<style scoped>\n",
       "    .dataframe tbody tr th:only-of-type {\n",
       "        vertical-align: middle;\n",
       "    }\n",
       "\n",
       "    .dataframe tbody tr th {\n",
       "        vertical-align: top;\n",
       "    }\n",
       "\n",
       "    .dataframe thead th {\n",
       "        text-align: right;\n",
       "    }\n",
       "</style>\n",
       "<table border=\"1\" class=\"dataframe\">\n",
       "  <thead>\n",
       "    <tr style=\"text-align: right;\">\n",
       "      <th></th>\n",
       "      <th>debt</th>\n",
       "      <th>total</th>\n",
       "      <th>share_cat%</th>\n",
       "    </tr>\n",
       "    <tr>\n",
       "      <th>family_status</th>\n",
       "      <th></th>\n",
       "      <th></th>\n",
       "      <th></th>\n",
       "    </tr>\n",
       "  </thead>\n",
       "  <tbody>\n",
       "    <tr>\n",
       "      <td>женат / замужем</td>\n",
       "      <td>931</td>\n",
       "      <td>12339</td>\n",
       "      <td>7.545182</td>\n",
       "    </tr>\n",
       "    <tr>\n",
       "      <td>гражданский брак</td>\n",
       "      <td>388</td>\n",
       "      <td>4150</td>\n",
       "      <td>9.349398</td>\n",
       "    </tr>\n",
       "    <tr>\n",
       "      <td>Не женат / не замужем</td>\n",
       "      <td>274</td>\n",
       "      <td>2810</td>\n",
       "      <td>9.750890</td>\n",
       "    </tr>\n",
       "    <tr>\n",
       "      <td>в разводе</td>\n",
       "      <td>85</td>\n",
       "      <td>1195</td>\n",
       "      <td>7.112971</td>\n",
       "    </tr>\n",
       "    <tr>\n",
       "      <td>вдовец / вдова</td>\n",
       "      <td>63</td>\n",
       "      <td>959</td>\n",
       "      <td>6.569343</td>\n",
       "    </tr>\n",
       "  </tbody>\n",
       "</table>\n",
       "</div>"
      ],
      "text/plain": [
       "                       debt  total  share_cat%\n",
       "family_status                                 \n",
       "женат / замужем         931  12339    7.545182\n",
       "гражданский брак        388   4150    9.349398\n",
       "Не женат / не замужем   274   2810    9.750890\n",
       "в разводе                85   1195    7.112971\n",
       "вдовец / вдова           63    959    6.569343"
      ]
     },
     "metadata": {},
     "output_type": "display_data"
    }
   ],
   "source": [
    "#приведем подготовленную таблицу\n",
    "display(family_debt)"
   ]
  },
  {
   "cell_type": "markdown",
   "metadata": {},
   "source": [
    "**Вывод**"
   ]
  },
  {
   "cell_type": "markdown",
   "metadata": {},
   "source": [
    "\n",
    "Наибольший процент просрочек по кредиту наблюдается в категориях \"гражданский брак\" и \"не женат/не замужем\". Группа \"женат/замужем\" непропорционально большая, и возможно её следует разделить на более равномерные категории. Исходя из полученных данных можно сделать предварительный вывод, что люди не состоящие в отношениях меньше склонны к просрочкам по кредиту (в разводе - 7.1%, вдовец/вдова - 6.5%), чем те, кто состоит в отношениях (женат/замужем - 7.5%, гражданский брак - 9.3%). "
   ]
  },
  {
   "cell_type": "markdown",
   "metadata": {},
   "source": [
    "- Есть ли зависимость между уровнем дохода и возвратом кредита в срок?"
   ]
  },
  {
   "cell_type": "code",
   "execution_count": 60,
   "metadata": {},
   "outputs": [
    {
     "data": {
      "text/html": [
       "<div>\n",
       "<style scoped>\n",
       "    .dataframe tbody tr th:only-of-type {\n",
       "        vertical-align: middle;\n",
       "    }\n",
       "\n",
       "    .dataframe tbody tr th {\n",
       "        vertical-align: top;\n",
       "    }\n",
       "\n",
       "    .dataframe thead th {\n",
       "        text-align: right;\n",
       "    }\n",
       "</style>\n",
       "<table border=\"1\" class=\"dataframe\">\n",
       "  <thead>\n",
       "    <tr style=\"text-align: right;\">\n",
       "      <th></th>\n",
       "      <th>debt</th>\n",
       "      <th>total</th>\n",
       "      <th>share_cat%</th>\n",
       "    </tr>\n",
       "    <tr>\n",
       "      <th>category</th>\n",
       "      <th></th>\n",
       "      <th></th>\n",
       "      <th></th>\n",
       "    </tr>\n",
       "  </thead>\n",
       "  <tbody>\n",
       "    <tr>\n",
       "      <td>high</td>\n",
       "      <td>330</td>\n",
       "      <td>4734</td>\n",
       "      <td>6.970849</td>\n",
       "    </tr>\n",
       "    <tr>\n",
       "      <td>low</td>\n",
       "      <td>423</td>\n",
       "      <td>5308</td>\n",
       "      <td>7.969103</td>\n",
       "    </tr>\n",
       "    <tr>\n",
       "      <td>middle</td>\n",
       "      <td>515</td>\n",
       "      <td>5827</td>\n",
       "      <td>8.838167</td>\n",
       "    </tr>\n",
       "    <tr>\n",
       "      <td>middle+</td>\n",
       "      <td>473</td>\n",
       "      <td>5584</td>\n",
       "      <td>8.470630</td>\n",
       "    </tr>\n",
       "  </tbody>\n",
       "</table>\n",
       "</div>"
      ],
      "text/plain": [
       "          debt  total  share_cat%\n",
       "category                         \n",
       "high       330   4734    6.970849\n",
       "low        423   5308    7.969103\n",
       "middle     515   5827    8.838167\n",
       "middle+    473   5584    8.470630"
      ]
     },
     "metadata": {},
     "output_type": "display_data"
    }
   ],
   "source": [
    "#приведем подготовленную таблицу\n",
    "display(income_debt_pivot)"
   ]
  },
  {
   "cell_type": "markdown",
   "metadata": {},
   "source": [
    "**Вывод**"
   ]
  },
  {
   "cell_type": "markdown",
   "metadata": {},
   "source": [
    "Категории для данного датафрейма выбраны произвольно, поэтому здесь сложно выделить какую-либо зависимость между уровнем дохода клиента и процентом невозврата кредита. Клиенты с высоким уровнем заработка наименее склонны к просрочкам по кредиту, это подтверждает таблица и здравый смысл. Что касается наиболее частых должников, то при условии произвольной разбивки выделяются категории middle (8.8% невозврата) и middle+ (8.4% невозврата). "
   ]
  },
  {
   "cell_type": "markdown",
   "metadata": {},
   "source": [
    "- Как разные цели кредита влияют на его возврат в срок?"
   ]
  },
  {
   "cell_type": "code",
   "execution_count": 61,
   "metadata": {
    "scrolled": true
   },
   "outputs": [
    {
     "data": {
      "text/html": [
       "<div>\n",
       "<style scoped>\n",
       "    .dataframe tbody tr th:only-of-type {\n",
       "        vertical-align: middle;\n",
       "    }\n",
       "\n",
       "    .dataframe tbody tr th {\n",
       "        vertical-align: top;\n",
       "    }\n",
       "\n",
       "    .dataframe thead th {\n",
       "        text-align: right;\n",
       "    }\n",
       "</style>\n",
       "<table border=\"1\" class=\"dataframe\">\n",
       "  <thead>\n",
       "    <tr style=\"text-align: right;\">\n",
       "      <th></th>\n",
       "      <th>debt</th>\n",
       "      <th>total</th>\n",
       "      <th>share_cat%</th>\n",
       "    </tr>\n",
       "    <tr>\n",
       "      <th>purpose_category</th>\n",
       "      <th></th>\n",
       "      <th></th>\n",
       "      <th></th>\n",
       "    </tr>\n",
       "  </thead>\n",
       "  <tbody>\n",
       "    <tr>\n",
       "      <td>недвижимость</td>\n",
       "      <td>782</td>\n",
       "      <td>10810</td>\n",
       "      <td>7.234043</td>\n",
       "    </tr>\n",
       "    <tr>\n",
       "      <td>автомобиль</td>\n",
       "      <td>403</td>\n",
       "      <td>4306</td>\n",
       "      <td>9.359034</td>\n",
       "    </tr>\n",
       "    <tr>\n",
       "      <td>образование</td>\n",
       "      <td>370</td>\n",
       "      <td>4013</td>\n",
       "      <td>9.220035</td>\n",
       "    </tr>\n",
       "    <tr>\n",
       "      <td>свадьба</td>\n",
       "      <td>186</td>\n",
       "      <td>2324</td>\n",
       "      <td>8.003442</td>\n",
       "    </tr>\n",
       "  </tbody>\n",
       "</table>\n",
       "</div>"
      ],
      "text/plain": [
       "                  debt  total  share_cat%\n",
       "purpose_category                         \n",
       "недвижимость       782  10810    7.234043\n",
       "автомобиль         403   4306    9.359034\n",
       "образование        370   4013    9.220035\n",
       "свадьба            186   2324    8.003442"
      ]
     },
     "metadata": {},
     "output_type": "display_data"
    }
   ],
   "source": [
    "display(goal_debt)"
   ]
  },
  {
   "cell_type": "markdown",
   "metadata": {},
   "source": [
    "**Вывод**"
   ]
  },
  {
   "cell_type": "markdown",
   "metadata": {},
   "source": [
    "\n",
    "В категориях \"автомобиль\" и \"образование\" находится наибольшее кол-во должников по отношению к соответствующей категории кредита. Возможно, это связано с большим процентом по возврату (потребительский кредит). Наименее вероятны просрочки по категории \"недвижимость\". Процент по ипотеке традиционно ниже потребительского."
   ]
  },
  {
   "cell_type": "markdown",
   "metadata": {},
   "source": [
    "## Шаг 4. Общий вывод"
   ]
  },
  {
   "cell_type": "markdown",
   "metadata": {},
   "source": [
    " В данном исследовании мы рассмотрели в различных разрезах должников банка и сформировали образ клиента, который вероятнее всего не вернёт кредит в срок: это клиенты, которые берут кредиты по категории \"автомобиль\" (9.25% невозврата), имеют 4 (9.75%) или 2 ребенка (9.49%). По уровням дохода сложно сделать какой-либо определенный вывод, т.к. границы уровней дохода выбраны произвольно, данная категория требует дополнительной проработки. Можно предположить, по данным исследования, что наибольшим процентом невозврата обладают категории middle и middle+.<br> Стоит рассмотреть выдачу кредита более внимательно для клиентов, обладающими перечисленными выше характеристиками.<br><br> С большей вероятностью клиент вернет кредит в срок, если он берёт в долг по категории \"недвижимость\" (7.23%), имеет высокий уровень дохода (6.9%, требует проработки), вдовец/вдова (6.5%) и не имеет детей (7.5%)."
   ]
  }
 ],
 "metadata": {
  "ExecuteTimeLog": [
   {
    "duration": 793,
    "start_time": "2022-01-21T08:23:41.806Z"
   },
   {
    "duration": 80,
    "start_time": "2022-01-21T08:25:25.407Z"
   },
   {
    "duration": 76,
    "start_time": "2022-01-21T08:25:48.338Z"
   },
   {
    "duration": 71,
    "start_time": "2022-01-21T08:25:54.417Z"
   },
   {
    "duration": 88,
    "start_time": "2022-01-21T08:26:46.393Z"
   },
   {
    "duration": 87,
    "start_time": "2022-01-21T08:26:55.517Z"
   },
   {
    "duration": 86,
    "start_time": "2022-01-21T08:26:59.468Z"
   },
   {
    "duration": 102,
    "start_time": "2022-01-21T08:27:12.829Z"
   },
   {
    "duration": 88,
    "start_time": "2022-01-21T10:41:44.830Z"
   },
   {
    "duration": 1547,
    "start_time": "2022-01-21T12:08:23.239Z"
   },
   {
    "duration": 384,
    "start_time": "2022-01-21T12:08:37.950Z"
   },
   {
    "duration": 5,
    "start_time": "2022-01-21T12:08:44.909Z"
   },
   {
    "duration": 265,
    "start_time": "2022-01-21T12:09:38.662Z"
   },
   {
    "duration": 5,
    "start_time": "2022-01-21T12:09:41.685Z"
   },
   {
    "duration": 5,
    "start_time": "2022-01-21T12:09:48.637Z"
   },
   {
    "duration": 9,
    "start_time": "2022-01-21T12:10:02.717Z"
   },
   {
    "duration": 20,
    "start_time": "2022-01-21T12:11:55.181Z"
   },
   {
    "duration": 20,
    "start_time": "2022-01-21T12:12:13.039Z"
   },
   {
    "duration": 8,
    "start_time": "2022-01-21T12:13:24.499Z"
   },
   {
    "duration": 9,
    "start_time": "2022-01-21T12:13:41.567Z"
   },
   {
    "duration": 14,
    "start_time": "2022-01-21T12:13:58.286Z"
   },
   {
    "duration": 74,
    "start_time": "2022-01-21T12:17:21.903Z"
   },
   {
    "duration": 19,
    "start_time": "2022-01-21T12:17:23.811Z"
   },
   {
    "duration": 301,
    "start_time": "2022-01-21T12:19:05.304Z"
   },
   {
    "duration": 783,
    "start_time": "2022-01-21T12:19:22.527Z"
   },
   {
    "duration": 29,
    "start_time": "2022-01-21T12:19:23.313Z"
   },
   {
    "duration": 369,
    "start_time": "2022-01-21T12:19:23.345Z"
   },
   {
    "duration": -29,
    "start_time": "2022-01-21T12:19:23.746Z"
   },
   {
    "duration": -30,
    "start_time": "2022-01-21T12:19:23.748Z"
   },
   {
    "duration": 12,
    "start_time": "2022-01-21T12:19:59.095Z"
   },
   {
    "duration": 298,
    "start_time": "2022-01-21T12:25:19.754Z"
   },
   {
    "duration": 299,
    "start_time": "2022-01-21T12:25:51.856Z"
   },
   {
    "duration": 305,
    "start_time": "2022-01-21T12:26:21.111Z"
   },
   {
    "duration": 19,
    "start_time": "2022-01-21T12:28:08.930Z"
   },
   {
    "duration": -32,
    "start_time": "2022-01-21T12:31:41.651Z"
   },
   {
    "duration": 883,
    "start_time": "2022-01-21T12:31:47.436Z"
   },
   {
    "duration": 30,
    "start_time": "2022-01-21T12:31:48.321Z"
   },
   {
    "duration": 26,
    "start_time": "2022-01-21T12:31:48.372Z"
   },
   {
    "duration": 11,
    "start_time": "2022-01-21T12:31:48.401Z"
   },
   {
    "duration": 6733,
    "start_time": "2022-01-21T12:31:48.415Z"
   },
   {
    "duration": 6,
    "start_time": "2022-01-21T12:32:02.560Z"
   },
   {
    "duration": 591,
    "start_time": "2022-01-22T09:39:46.634Z"
   },
   {
    "duration": 19,
    "start_time": "2022-01-22T09:41:00.430Z"
   },
   {
    "duration": 72,
    "start_time": "2022-01-22T09:46:09.452Z"
   },
   {
    "duration": 6,
    "start_time": "2022-01-22T09:48:11.977Z"
   },
   {
    "duration": 4,
    "start_time": "2022-01-22T09:54:45.299Z"
   },
   {
    "duration": 5,
    "start_time": "2022-01-22T09:54:52.894Z"
   },
   {
    "duration": 4,
    "start_time": "2022-01-22T09:55:03.885Z"
   },
   {
    "duration": 4,
    "start_time": "2022-01-22T09:55:07.733Z"
   },
   {
    "duration": 3,
    "start_time": "2022-01-22T09:55:12.645Z"
   },
   {
    "duration": 6,
    "start_time": "2022-01-22T09:55:17.805Z"
   },
   {
    "duration": 867,
    "start_time": "2022-01-22T09:57:54.862Z"
   },
   {
    "duration": 59,
    "start_time": "2022-01-22T09:58:06.169Z"
   },
   {
    "duration": 272,
    "start_time": "2022-01-22T09:58:08.685Z"
   },
   {
    "duration": 183,
    "start_time": "2022-01-22T09:58:15.453Z"
   },
   {
    "duration": 181,
    "start_time": "2022-01-22T09:58:35.595Z"
   },
   {
    "duration": 6,
    "start_time": "2022-01-22T10:00:16.550Z"
   },
   {
    "duration": 15,
    "start_time": "2022-01-22T10:01:55.387Z"
   },
   {
    "duration": 17,
    "start_time": "2022-01-22T10:02:04.325Z"
   },
   {
    "duration": 17,
    "start_time": "2022-01-22T10:02:15.766Z"
   },
   {
    "duration": 26,
    "start_time": "2022-01-22T10:02:20.037Z"
   },
   {
    "duration": 31,
    "start_time": "2022-01-22T10:02:36.913Z"
   },
   {
    "duration": 33,
    "start_time": "2022-01-22T10:02:53.633Z"
   },
   {
    "duration": 2,
    "start_time": "2022-01-22T10:04:32.767Z"
   },
   {
    "duration": 207,
    "start_time": "2022-01-22T10:16:08.471Z"
   },
   {
    "duration": 11,
    "start_time": "2022-01-22T10:18:42.459Z"
   },
   {
    "duration": 10,
    "start_time": "2022-01-22T10:18:52.863Z"
   },
   {
    "duration": 14,
    "start_time": "2022-01-22T10:19:15.009Z"
   },
   {
    "duration": 31,
    "start_time": "2022-01-22T10:19:45.100Z"
   },
   {
    "duration": 625,
    "start_time": "2022-01-22T10:20:18.927Z"
   },
   {
    "duration": 20,
    "start_time": "2022-01-22T10:20:19.554Z"
   },
   {
    "duration": 24,
    "start_time": "2022-01-22T10:20:19.576Z"
   },
   {
    "duration": 14,
    "start_time": "2022-01-22T10:20:19.602Z"
   },
   {
    "duration": 3,
    "start_time": "2022-01-22T10:20:19.617Z"
   },
   {
    "duration": 14,
    "start_time": "2022-01-22T10:20:19.622Z"
   },
   {
    "duration": 26,
    "start_time": "2022-01-22T10:20:19.637Z"
   },
   {
    "duration": 22,
    "start_time": "2022-01-22T10:20:41.593Z"
   },
   {
    "duration": 13,
    "start_time": "2022-01-22T10:21:37.153Z"
   },
   {
    "duration": 26,
    "start_time": "2022-01-22T10:21:49.556Z"
   },
   {
    "duration": 4947,
    "start_time": "2022-01-22T10:26:44.050Z"
   },
   {
    "duration": 608,
    "start_time": "2022-01-22T10:27:09.719Z"
   },
   {
    "duration": 20,
    "start_time": "2022-01-22T10:27:10.329Z"
   },
   {
    "duration": 15,
    "start_time": "2022-01-22T10:27:10.352Z"
   },
   {
    "duration": 9,
    "start_time": "2022-01-22T10:27:10.369Z"
   },
   {
    "duration": 44,
    "start_time": "2022-01-22T10:27:10.380Z"
   },
   {
    "duration": 3,
    "start_time": "2022-01-22T10:27:10.426Z"
   },
   {
    "duration": 258,
    "start_time": "2022-01-22T10:27:10.430Z"
   },
   {
    "duration": 13,
    "start_time": "2022-01-22T10:27:48.389Z"
   },
   {
    "duration": 11,
    "start_time": "2022-01-22T10:28:21.897Z"
   },
   {
    "duration": 11,
    "start_time": "2022-01-22T10:29:51.167Z"
   },
   {
    "duration": 16,
    "start_time": "2022-01-22T10:30:04.441Z"
   },
   {
    "duration": 22,
    "start_time": "2022-01-22T10:30:17.210Z"
   },
   {
    "duration": 23,
    "start_time": "2022-01-22T10:31:13.622Z"
   },
   {
    "duration": 22,
    "start_time": "2022-01-22T10:34:06.528Z"
   },
   {
    "duration": 31,
    "start_time": "2022-01-22T10:34:13.154Z"
   },
   {
    "duration": 33,
    "start_time": "2022-01-22T10:34:19.415Z"
   },
   {
    "duration": 33,
    "start_time": "2022-01-22T10:34:23.676Z"
   },
   {
    "duration": 36,
    "start_time": "2022-01-22T10:35:07.646Z"
   },
   {
    "duration": 32,
    "start_time": "2022-01-22T10:35:29.548Z"
   },
   {
    "duration": 28,
    "start_time": "2022-01-22T10:35:44.217Z"
   },
   {
    "duration": 621,
    "start_time": "2022-01-22T10:35:53.524Z"
   },
   {
    "duration": 19,
    "start_time": "2022-01-22T10:35:54.146Z"
   },
   {
    "duration": 17,
    "start_time": "2022-01-22T10:35:54.167Z"
   },
   {
    "duration": 6,
    "start_time": "2022-01-22T10:35:54.186Z"
   },
   {
    "duration": 13,
    "start_time": "2022-01-22T10:35:54.212Z"
   },
   {
    "duration": 10,
    "start_time": "2022-01-22T10:35:54.226Z"
   },
   {
    "duration": 23,
    "start_time": "2022-01-22T10:35:54.237Z"
   },
   {
    "duration": 14,
    "start_time": "2022-01-22T10:38:55.705Z"
   },
   {
    "duration": 600,
    "start_time": "2022-01-22T10:39:02.342Z"
   },
   {
    "duration": 18,
    "start_time": "2022-01-22T10:39:02.944Z"
   },
   {
    "duration": 14,
    "start_time": "2022-01-22T10:39:02.966Z"
   },
   {
    "duration": 32,
    "start_time": "2022-01-22T10:39:02.981Z"
   },
   {
    "duration": 13,
    "start_time": "2022-01-22T10:39:03.015Z"
   },
   {
    "duration": 12,
    "start_time": "2022-01-22T10:39:03.029Z"
   },
   {
    "duration": 24,
    "start_time": "2022-01-22T10:39:03.042Z"
   },
   {
    "duration": 22,
    "start_time": "2022-01-22T10:39:30.353Z"
   },
   {
    "duration": 603,
    "start_time": "2022-01-22T10:39:45.221Z"
   },
   {
    "duration": 18,
    "start_time": "2022-01-22T10:39:45.826Z"
   },
   {
    "duration": 13,
    "start_time": "2022-01-22T10:39:45.846Z"
   },
   {
    "duration": 8,
    "start_time": "2022-01-22T10:39:45.861Z"
   },
   {
    "duration": 12,
    "start_time": "2022-01-22T10:39:45.870Z"
   },
   {
    "duration": 36,
    "start_time": "2022-01-22T10:39:45.884Z"
   },
   {
    "duration": 23,
    "start_time": "2022-01-22T10:39:45.922Z"
   },
   {
    "duration": 23,
    "start_time": "2022-01-22T10:41:09.669Z"
   },
   {
    "duration": 25,
    "start_time": "2022-01-22T10:41:17.737Z"
   },
   {
    "duration": 28,
    "start_time": "2022-01-22T10:41:24.478Z"
   },
   {
    "duration": 641,
    "start_time": "2022-01-22T10:42:29.698Z"
   },
   {
    "duration": 20,
    "start_time": "2022-01-22T10:42:30.341Z"
   },
   {
    "duration": 15,
    "start_time": "2022-01-22T10:42:30.367Z"
   },
   {
    "duration": 33,
    "start_time": "2022-01-22T10:42:30.384Z"
   },
   {
    "duration": 13,
    "start_time": "2022-01-22T10:42:30.419Z"
   },
   {
    "duration": 17,
    "start_time": "2022-01-22T10:42:30.434Z"
   },
   {
    "duration": 27,
    "start_time": "2022-01-22T10:42:30.454Z"
   },
   {
    "duration": 5,
    "start_time": "2022-01-22T10:45:27.848Z"
   },
   {
    "duration": 10,
    "start_time": "2022-01-22T10:50:18.365Z"
   },
   {
    "duration": 7,
    "start_time": "2022-01-22T10:50:30.583Z"
   },
   {
    "duration": 7,
    "start_time": "2022-01-22T10:50:45.543Z"
   },
   {
    "duration": 627,
    "start_time": "2022-01-22T10:51:16.328Z"
   },
   {
    "duration": 20,
    "start_time": "2022-01-22T10:51:16.957Z"
   },
   {
    "duration": 35,
    "start_time": "2022-01-22T10:51:16.979Z"
   },
   {
    "duration": 10,
    "start_time": "2022-01-22T10:51:17.017Z"
   },
   {
    "duration": 8,
    "start_time": "2022-01-22T10:51:17.029Z"
   },
   {
    "duration": 13,
    "start_time": "2022-01-22T10:51:17.039Z"
   },
   {
    "duration": 11,
    "start_time": "2022-01-22T10:51:17.054Z"
   },
   {
    "duration": 65,
    "start_time": "2022-01-22T10:51:17.068Z"
   },
   {
    "duration": 6,
    "start_time": "2022-01-22T10:51:17.135Z"
   },
   {
    "duration": 14,
    "start_time": "2022-01-22T10:51:17.143Z"
   },
   {
    "duration": 10,
    "start_time": "2022-01-22T10:59:02.997Z"
   },
   {
    "duration": 75,
    "start_time": "2022-01-22T10:59:32.204Z"
   },
   {
    "duration": 10,
    "start_time": "2022-01-22T10:59:48.948Z"
   },
   {
    "duration": 582,
    "start_time": "2022-01-22T10:59:59.144Z"
   },
   {
    "duration": 19,
    "start_time": "2022-01-22T10:59:59.728Z"
   },
   {
    "duration": 12,
    "start_time": "2022-01-22T10:59:59.748Z"
   },
   {
    "duration": 6,
    "start_time": "2022-01-22T10:59:59.762Z"
   },
   {
    "duration": 6,
    "start_time": "2022-01-22T10:59:59.770Z"
   },
   {
    "duration": 43,
    "start_time": "2022-01-22T10:59:59.777Z"
   },
   {
    "duration": 9,
    "start_time": "2022-01-22T10:59:59.822Z"
   },
   {
    "duration": 27,
    "start_time": "2022-01-22T10:59:59.833Z"
   },
   {
    "duration": 12,
    "start_time": "2022-01-22T10:59:59.861Z"
   },
   {
    "duration": 4,
    "start_time": "2022-01-22T10:59:59.875Z"
   },
   {
    "duration": 38,
    "start_time": "2022-01-22T10:59:59.880Z"
   },
   {
    "duration": 10,
    "start_time": "2022-01-22T11:00:56.763Z"
   },
   {
    "duration": 26,
    "start_time": "2022-01-22T11:06:16.111Z"
   },
   {
    "duration": 252,
    "start_time": "2022-01-22T11:07:58.848Z"
   },
   {
    "duration": 635,
    "start_time": "2022-01-22T11:09:05.085Z"
   },
   {
    "duration": 18,
    "start_time": "2022-01-22T11:09:05.722Z"
   },
   {
    "duration": 12,
    "start_time": "2022-01-22T11:09:05.742Z"
   },
   {
    "duration": 7,
    "start_time": "2022-01-22T11:09:05.755Z"
   },
   {
    "duration": 6,
    "start_time": "2022-01-22T11:09:05.764Z"
   },
   {
    "duration": 41,
    "start_time": "2022-01-22T11:09:05.772Z"
   },
   {
    "duration": 10,
    "start_time": "2022-01-22T11:09:05.815Z"
   },
   {
    "duration": 23,
    "start_time": "2022-01-22T11:09:05.827Z"
   },
   {
    "duration": 3,
    "start_time": "2022-01-22T11:09:05.852Z"
   },
   {
    "duration": 10,
    "start_time": "2022-01-22T11:09:05.857Z"
   },
   {
    "duration": 60,
    "start_time": "2022-01-22T11:09:05.868Z"
   },
   {
    "duration": 4922,
    "start_time": "2022-01-22T11:11:11.742Z"
   },
   {
    "duration": 608,
    "start_time": "2022-01-22T11:11:35.980Z"
   },
   {
    "duration": 18,
    "start_time": "2022-01-22T11:11:36.589Z"
   },
   {
    "duration": 12,
    "start_time": "2022-01-22T11:11:36.609Z"
   },
   {
    "duration": 7,
    "start_time": "2022-01-22T11:11:36.623Z"
   },
   {
    "duration": 6,
    "start_time": "2022-01-22T11:11:36.631Z"
   },
   {
    "duration": 12,
    "start_time": "2022-01-22T11:11:36.638Z"
   },
   {
    "duration": 8,
    "start_time": "2022-01-22T11:11:36.652Z"
   },
   {
    "duration": 56,
    "start_time": "2022-01-22T11:11:36.662Z"
   },
   {
    "duration": 4,
    "start_time": "2022-01-22T11:11:36.720Z"
   },
   {
    "duration": 10,
    "start_time": "2022-01-22T11:11:36.725Z"
   },
   {
    "duration": 33,
    "start_time": "2022-01-22T11:11:36.736Z"
   },
   {
    "duration": 5016,
    "start_time": "2022-01-22T11:11:41.718Z"
   },
   {
    "duration": 635,
    "start_time": "2022-01-22T11:11:52.392Z"
   },
   {
    "duration": 20,
    "start_time": "2022-01-22T11:11:53.028Z"
   },
   {
    "duration": 13,
    "start_time": "2022-01-22T11:11:53.050Z"
   },
   {
    "duration": 7,
    "start_time": "2022-01-22T11:11:53.064Z"
   },
   {
    "duration": 6,
    "start_time": "2022-01-22T11:11:53.073Z"
   },
   {
    "duration": 42,
    "start_time": "2022-01-22T11:11:53.080Z"
   },
   {
    "duration": 11,
    "start_time": "2022-01-22T11:11:53.124Z"
   },
   {
    "duration": 26,
    "start_time": "2022-01-22T11:11:53.137Z"
   },
   {
    "duration": 4,
    "start_time": "2022-01-22T11:11:53.165Z"
   },
   {
    "duration": 11,
    "start_time": "2022-01-22T11:11:53.171Z"
   },
   {
    "duration": 58,
    "start_time": "2022-01-22T11:11:53.184Z"
   },
   {
    "duration": 13,
    "start_time": "2022-01-22T11:13:20.552Z"
   },
   {
    "duration": 13,
    "start_time": "2022-01-22T11:13:34.668Z"
   },
   {
    "duration": 26,
    "start_time": "2022-01-22T11:15:43.422Z"
   },
   {
    "duration": 278,
    "start_time": "2022-01-22T11:15:54.065Z"
   },
   {
    "duration": 665,
    "start_time": "2022-01-22T11:16:01.594Z"
   },
   {
    "duration": 18,
    "start_time": "2022-01-22T11:16:02.260Z"
   },
   {
    "duration": 12,
    "start_time": "2022-01-22T11:16:02.280Z"
   },
   {
    "duration": 21,
    "start_time": "2022-01-22T11:16:02.294Z"
   },
   {
    "duration": 6,
    "start_time": "2022-01-22T11:16:02.317Z"
   },
   {
    "duration": 17,
    "start_time": "2022-01-22T11:16:02.324Z"
   },
   {
    "duration": 9,
    "start_time": "2022-01-22T11:16:02.342Z"
   },
   {
    "duration": 29,
    "start_time": "2022-01-22T11:16:02.354Z"
   },
   {
    "duration": 29,
    "start_time": "2022-01-22T11:16:02.385Z"
   },
   {
    "duration": 9,
    "start_time": "2022-01-22T11:16:02.415Z"
   },
   {
    "duration": 23,
    "start_time": "2022-01-22T11:16:02.426Z"
   },
   {
    "duration": 4,
    "start_time": "2022-01-22T11:16:02.451Z"
   },
   {
    "duration": 254,
    "start_time": "2022-01-22T12:24:05.380Z"
   },
   {
    "duration": 11,
    "start_time": "2022-01-22T12:24:13.658Z"
   },
   {
    "duration": 8,
    "start_time": "2022-01-22T12:24:22.409Z"
   },
   {
    "duration": 7,
    "start_time": "2022-01-22T12:24:50.189Z"
   },
   {
    "duration": 623,
    "start_time": "2022-01-22T12:24:55.275Z"
   },
   {
    "duration": 21,
    "start_time": "2022-01-22T12:24:55.900Z"
   },
   {
    "duration": 15,
    "start_time": "2022-01-22T12:24:55.924Z"
   },
   {
    "duration": 9,
    "start_time": "2022-01-22T12:24:55.942Z"
   },
   {
    "duration": 9,
    "start_time": "2022-01-22T12:24:55.953Z"
   },
   {
    "duration": 16,
    "start_time": "2022-01-22T12:24:55.964Z"
   },
   {
    "duration": 40,
    "start_time": "2022-01-22T12:24:55.982Z"
   },
   {
    "duration": 27,
    "start_time": "2022-01-22T12:24:56.024Z"
   },
   {
    "duration": 5,
    "start_time": "2022-01-22T12:24:56.054Z"
   },
   {
    "duration": 11,
    "start_time": "2022-01-22T12:24:56.061Z"
   },
   {
    "duration": 62,
    "start_time": "2022-01-22T12:24:56.074Z"
   },
   {
    "duration": 5,
    "start_time": "2022-01-22T12:24:56.138Z"
   },
   {
    "duration": 7,
    "start_time": "2022-01-22T12:25:11.859Z"
   },
   {
    "duration": 629,
    "start_time": "2022-01-22T12:25:21.217Z"
   },
   {
    "duration": 20,
    "start_time": "2022-01-22T12:25:21.849Z"
   },
   {
    "duration": 13,
    "start_time": "2022-01-22T12:25:21.872Z"
   },
   {
    "duration": 30,
    "start_time": "2022-01-22T12:25:21.888Z"
   },
   {
    "duration": 8,
    "start_time": "2022-01-22T12:25:21.920Z"
   },
   {
    "duration": 13,
    "start_time": "2022-01-22T12:25:21.931Z"
   },
   {
    "duration": 12,
    "start_time": "2022-01-22T12:25:21.946Z"
   },
   {
    "duration": 68,
    "start_time": "2022-01-22T12:25:21.961Z"
   },
   {
    "duration": 6,
    "start_time": "2022-01-22T12:25:22.031Z"
   },
   {
    "duration": 12,
    "start_time": "2022-01-22T12:25:22.038Z"
   },
   {
    "duration": 25,
    "start_time": "2022-01-22T12:25:22.052Z"
   },
   {
    "duration": 5,
    "start_time": "2022-01-22T12:25:22.079Z"
   },
   {
    "duration": 11,
    "start_time": "2022-01-22T12:27:06.746Z"
   },
   {
    "duration": 574,
    "start_time": "2022-01-22T12:38:21.171Z"
   },
   {
    "duration": 18,
    "start_time": "2022-01-22T12:38:21.746Z"
   },
   {
    "duration": 14,
    "start_time": "2022-01-22T12:38:21.766Z"
   },
   {
    "duration": 6,
    "start_time": "2022-01-22T12:38:21.781Z"
   },
   {
    "duration": 34,
    "start_time": "2022-01-22T12:38:21.789Z"
   },
   {
    "duration": 11,
    "start_time": "2022-01-22T12:38:21.824Z"
   },
   {
    "duration": 28,
    "start_time": "2022-01-22T12:38:21.836Z"
   },
   {
    "duration": 4,
    "start_time": "2022-01-22T12:38:21.866Z"
   },
   {
    "duration": 42,
    "start_time": "2022-01-22T12:38:21.872Z"
   },
   {
    "duration": 27,
    "start_time": "2022-01-22T12:38:21.916Z"
   },
   {
    "duration": 6,
    "start_time": "2022-01-22T12:38:21.945Z"
   },
   {
    "duration": 4,
    "start_time": "2022-01-22T12:43:39.972Z"
   },
   {
    "duration": 12,
    "start_time": "2022-01-22T12:44:17.240Z"
   },
   {
    "duration": 20,
    "start_time": "2022-01-22T12:44:32.458Z"
   },
   {
    "duration": 21,
    "start_time": "2022-01-22T12:44:41.778Z"
   },
   {
    "duration": 9,
    "start_time": "2022-01-22T12:44:51.683Z"
   },
   {
    "duration": 5,
    "start_time": "2022-01-22T12:51:45.630Z"
   },
   {
    "duration": 5,
    "start_time": "2022-01-22T12:52:13.552Z"
   },
   {
    "duration": 620,
    "start_time": "2022-01-22T12:52:28.484Z"
   },
   {
    "duration": 18,
    "start_time": "2022-01-22T12:52:29.106Z"
   },
   {
    "duration": 258,
    "start_time": "2022-01-22T12:52:29.125Z"
   },
   {
    "duration": -48,
    "start_time": "2022-01-22T12:52:29.434Z"
   },
   {
    "duration": -49,
    "start_time": "2022-01-22T12:52:29.436Z"
   },
   {
    "duration": -51,
    "start_time": "2022-01-22T12:52:29.438Z"
   },
   {
    "duration": -60,
    "start_time": "2022-01-22T12:52:29.448Z"
   },
   {
    "duration": -60,
    "start_time": "2022-01-22T12:52:29.450Z"
   },
   {
    "duration": -60,
    "start_time": "2022-01-22T12:52:29.451Z"
   },
   {
    "duration": -61,
    "start_time": "2022-01-22T12:52:29.453Z"
   },
   {
    "duration": -61,
    "start_time": "2022-01-22T12:52:29.454Z"
   },
   {
    "duration": -61,
    "start_time": "2022-01-22T12:52:29.455Z"
   },
   {
    "duration": -61,
    "start_time": "2022-01-22T12:52:29.456Z"
   },
   {
    "duration": -62,
    "start_time": "2022-01-22T12:52:29.458Z"
   },
   {
    "duration": 6,
    "start_time": "2022-01-22T12:52:55.568Z"
   },
   {
    "duration": 618,
    "start_time": "2022-01-22T12:53:02.500Z"
   },
   {
    "duration": 20,
    "start_time": "2022-01-22T12:53:03.120Z"
   },
   {
    "duration": 6,
    "start_time": "2022-01-22T12:53:03.145Z"
   },
   {
    "duration": 15,
    "start_time": "2022-01-22T12:53:03.153Z"
   },
   {
    "duration": 7,
    "start_time": "2022-01-22T12:53:03.170Z"
   },
   {
    "duration": 45,
    "start_time": "2022-01-22T12:53:03.178Z"
   },
   {
    "duration": 10,
    "start_time": "2022-01-22T12:53:03.226Z"
   },
   {
    "duration": 26,
    "start_time": "2022-01-22T12:53:03.238Z"
   },
   {
    "duration": 4,
    "start_time": "2022-01-22T12:53:03.266Z"
   },
   {
    "duration": 41,
    "start_time": "2022-01-22T12:53:03.272Z"
   },
   {
    "duration": 30,
    "start_time": "2022-01-22T12:53:03.315Z"
   },
   {
    "duration": 5,
    "start_time": "2022-01-22T12:53:03.346Z"
   },
   {
    "duration": 6,
    "start_time": "2022-01-22T12:53:03.352Z"
   },
   {
    "duration": 12,
    "start_time": "2022-01-22T12:53:03.360Z"
   },
   {
    "duration": 4,
    "start_time": "2022-01-22T12:54:34.548Z"
   },
   {
    "duration": 11,
    "start_time": "2022-01-22T12:54:36.563Z"
   },
   {
    "duration": 17,
    "start_time": "2022-01-22T12:56:12.354Z"
   },
   {
    "duration": 20,
    "start_time": "2022-01-22T12:56:21.188Z"
   },
   {
    "duration": 15,
    "start_time": "2022-01-22T12:58:43.820Z"
   },
   {
    "duration": 15,
    "start_time": "2022-01-22T12:59:07.705Z"
   },
   {
    "duration": 24,
    "start_time": "2022-01-22T12:59:29.194Z"
   },
   {
    "duration": 39,
    "start_time": "2022-01-22T13:00:19.143Z"
   },
   {
    "duration": 47,
    "start_time": "2022-01-22T13:00:30.406Z"
   },
   {
    "duration": 23,
    "start_time": "2022-01-22T13:00:37.645Z"
   },
   {
    "duration": 299,
    "start_time": "2022-01-22T13:00:53.029Z"
   },
   {
    "duration": 13,
    "start_time": "2022-01-22T13:09:00.634Z"
   },
   {
    "duration": 620,
    "start_time": "2022-01-22T13:09:07.619Z"
   },
   {
    "duration": 18,
    "start_time": "2022-01-22T13:09:08.240Z"
   },
   {
    "duration": 13,
    "start_time": "2022-01-22T13:09:08.260Z"
   },
   {
    "duration": 6,
    "start_time": "2022-01-22T13:09:08.275Z"
   },
   {
    "duration": 32,
    "start_time": "2022-01-22T13:09:08.282Z"
   },
   {
    "duration": 9,
    "start_time": "2022-01-22T13:09:08.316Z"
   },
   {
    "duration": 23,
    "start_time": "2022-01-22T13:09:08.327Z"
   },
   {
    "duration": 4,
    "start_time": "2022-01-22T13:09:08.352Z"
   },
   {
    "duration": 9,
    "start_time": "2022-01-22T13:09:08.358Z"
   },
   {
    "duration": 58,
    "start_time": "2022-01-22T13:09:08.368Z"
   },
   {
    "duration": 4,
    "start_time": "2022-01-22T13:09:08.427Z"
   },
   {
    "duration": 6,
    "start_time": "2022-01-22T13:09:08.433Z"
   },
   {
    "duration": 12,
    "start_time": "2022-01-22T13:09:08.440Z"
   },
   {
    "duration": 13,
    "start_time": "2022-01-22T13:09:08.453Z"
   },
   {
    "duration": 14,
    "start_time": "2022-01-22T13:09:49.157Z"
   },
   {
    "duration": 18,
    "start_time": "2022-01-22T13:13:40.224Z"
   },
   {
    "duration": 15,
    "start_time": "2022-01-22T13:14:08.064Z"
   },
   {
    "duration": 16,
    "start_time": "2022-01-22T13:14:12.852Z"
   },
   {
    "duration": 14,
    "start_time": "2022-01-22T13:14:17.033Z"
   },
   {
    "duration": 4,
    "start_time": "2022-01-22T13:23:30.428Z"
   },
   {
    "duration": 5,
    "start_time": "2022-01-22T13:23:53.398Z"
   },
   {
    "duration": 4,
    "start_time": "2022-01-22T13:23:56.453Z"
   },
   {
    "duration": 5,
    "start_time": "2022-01-22T13:25:17.997Z"
   },
   {
    "duration": 6,
    "start_time": "2022-01-22T13:33:02.290Z"
   },
   {
    "duration": 4,
    "start_time": "2022-01-22T13:34:54.110Z"
   },
   {
    "duration": 7,
    "start_time": "2022-01-22T13:34:59.907Z"
   },
   {
    "duration": 7,
    "start_time": "2022-01-22T13:36:31.898Z"
   },
   {
    "duration": 5,
    "start_time": "2022-01-22T13:38:02.714Z"
   },
   {
    "duration": 5,
    "start_time": "2022-01-22T13:38:04.214Z"
   },
   {
    "duration": 4,
    "start_time": "2022-01-22T13:38:09.655Z"
   },
   {
    "duration": 5,
    "start_time": "2022-01-22T13:38:13.296Z"
   },
   {
    "duration": 6,
    "start_time": "2022-01-22T13:38:59.034Z"
   },
   {
    "duration": 4,
    "start_time": "2022-01-22T13:39:24.228Z"
   },
   {
    "duration": 241,
    "start_time": "2022-01-22T13:40:14.657Z"
   },
   {
    "duration": 189,
    "start_time": "2022-01-22T13:41:24.335Z"
   },
   {
    "duration": 14,
    "start_time": "2022-01-22T13:41:41.311Z"
   },
   {
    "duration": 14,
    "start_time": "2022-01-22T13:42:07.373Z"
   },
   {
    "duration": 4,
    "start_time": "2022-01-22T13:42:52.296Z"
   },
   {
    "duration": 5,
    "start_time": "2022-01-22T13:43:11.819Z"
   },
   {
    "duration": 4,
    "start_time": "2022-01-22T13:44:22.263Z"
   },
   {
    "duration": 4617,
    "start_time": "2022-01-22T13:45:32.212Z"
   },
   {
    "duration": 11,
    "start_time": "2022-01-22T13:45:38.733Z"
   },
   {
    "duration": 7,
    "start_time": "2022-01-22T13:55:18.758Z"
   },
   {
    "duration": 66,
    "start_time": "2022-01-22T13:59:01.797Z"
   },
   {
    "duration": 183,
    "start_time": "2022-01-22T13:59:06.204Z"
   },
   {
    "duration": 57,
    "start_time": "2022-01-22T15:28:11.406Z"
   },
   {
    "duration": 59,
    "start_time": "2022-01-22T15:28:19.124Z"
   },
   {
    "duration": 198,
    "start_time": "2022-01-22T15:28:25.312Z"
   },
   {
    "duration": 193,
    "start_time": "2022-01-22T15:28:53.192Z"
   },
   {
    "duration": 281,
    "start_time": "2022-01-22T15:29:27.434Z"
   },
   {
    "duration": 8,
    "start_time": "2022-01-22T15:29:39.389Z"
   },
   {
    "duration": 6,
    "start_time": "2022-01-22T15:29:46.237Z"
   },
   {
    "duration": 59,
    "start_time": "2022-01-22T15:29:53.918Z"
   },
   {
    "duration": 60,
    "start_time": "2022-01-22T15:29:59.688Z"
   },
   {
    "duration": 6,
    "start_time": "2022-01-22T15:30:12.390Z"
   },
   {
    "duration": 7,
    "start_time": "2022-01-22T15:30:28.016Z"
   },
   {
    "duration": 583,
    "start_time": "2022-01-22T15:30:33.545Z"
   },
   {
    "duration": 18,
    "start_time": "2022-01-22T15:30:34.130Z"
   },
   {
    "duration": 13,
    "start_time": "2022-01-22T15:30:34.152Z"
   },
   {
    "duration": 7,
    "start_time": "2022-01-22T15:30:34.166Z"
   },
   {
    "duration": 39,
    "start_time": "2022-01-22T15:30:34.175Z"
   },
   {
    "duration": 9,
    "start_time": "2022-01-22T15:30:34.216Z"
   },
   {
    "duration": 23,
    "start_time": "2022-01-22T15:30:34.228Z"
   },
   {
    "duration": 4,
    "start_time": "2022-01-22T15:30:34.253Z"
   },
   {
    "duration": 9,
    "start_time": "2022-01-22T15:30:34.258Z"
   },
   {
    "duration": 58,
    "start_time": "2022-01-22T15:30:34.269Z"
   },
   {
    "duration": 4,
    "start_time": "2022-01-22T15:30:34.329Z"
   },
   {
    "duration": 7,
    "start_time": "2022-01-22T15:30:34.335Z"
   },
   {
    "duration": 11,
    "start_time": "2022-01-22T15:30:34.343Z"
   },
   {
    "duration": 13,
    "start_time": "2022-01-22T15:30:34.356Z"
   },
   {
    "duration": 15,
    "start_time": "2022-01-22T15:30:34.371Z"
   },
   {
    "duration": 35,
    "start_time": "2022-01-22T15:30:34.388Z"
   },
   {
    "duration": 3,
    "start_time": "2022-01-22T15:30:34.424Z"
   },
   {
    "duration": 6,
    "start_time": "2022-01-22T15:30:34.428Z"
   },
   {
    "duration": 7,
    "start_time": "2022-01-22T15:30:34.436Z"
   },
   {
    "duration": 4,
    "start_time": "2022-01-22T15:30:34.445Z"
   },
   {
    "duration": 16,
    "start_time": "2022-01-22T15:30:34.450Z"
   },
   {
    "duration": 7,
    "start_time": "2022-01-22T15:30:34.468Z"
   },
   {
    "duration": 39,
    "start_time": "2022-01-22T15:30:34.476Z"
   },
   {
    "duration": 244,
    "start_time": "2022-01-22T15:30:34.517Z"
   },
   {
    "duration": -53,
    "start_time": "2022-01-22T15:30:34.816Z"
   },
   {
    "duration": -58,
    "start_time": "2022-01-22T15:30:34.822Z"
   },
   {
    "duration": 851,
    "start_time": "2022-01-22T19:36:08.114Z"
   },
   {
    "duration": 932,
    "start_time": "2022-01-22T19:36:22.458Z"
   },
   {
    "duration": 40,
    "start_time": "2022-01-22T19:36:23.394Z"
   },
   {
    "duration": 33,
    "start_time": "2022-01-22T19:36:23.438Z"
   },
   {
    "duration": 12,
    "start_time": "2022-01-22T19:36:23.475Z"
   },
   {
    "duration": 19,
    "start_time": "2022-01-22T19:36:23.490Z"
   },
   {
    "duration": 15,
    "start_time": "2022-01-22T19:36:23.512Z"
   },
   {
    "duration": 84,
    "start_time": "2022-01-22T19:36:23.529Z"
   },
   {
    "duration": 7,
    "start_time": "2022-01-22T19:36:23.619Z"
   },
   {
    "duration": 57,
    "start_time": "2022-01-22T19:36:23.630Z"
   },
   {
    "duration": 39,
    "start_time": "2022-01-22T19:36:23.689Z"
   },
   {
    "duration": 7,
    "start_time": "2022-01-22T19:36:23.730Z"
   },
   {
    "duration": 37,
    "start_time": "2022-01-22T19:36:23.739Z"
   },
   {
    "duration": 22,
    "start_time": "2022-01-22T19:36:23.779Z"
   },
   {
    "duration": 20,
    "start_time": "2022-01-22T19:36:23.804Z"
   },
   {
    "duration": 57,
    "start_time": "2022-01-22T19:36:23.827Z"
   },
   {
    "duration": 29,
    "start_time": "2022-01-22T19:36:23.888Z"
   },
   {
    "duration": 5,
    "start_time": "2022-01-22T19:36:23.919Z"
   },
   {
    "duration": 9,
    "start_time": "2022-01-22T19:36:23.926Z"
   },
   {
    "duration": 17,
    "start_time": "2022-01-22T19:36:23.970Z"
   },
   {
    "duration": 7,
    "start_time": "2022-01-22T19:36:23.990Z"
   },
   {
    "duration": 23,
    "start_time": "2022-01-22T19:36:24.000Z"
   },
   {
    "duration": 50,
    "start_time": "2022-01-22T19:36:24.026Z"
   },
   {
    "duration": 8,
    "start_time": "2022-01-22T19:36:24.083Z"
   },
   {
    "duration": 455,
    "start_time": "2022-01-22T19:36:24.094Z"
   },
   {
    "duration": 5,
    "start_time": "2022-01-22T19:36:24.547Z"
   },
   {
    "duration": 100,
    "start_time": "2022-01-22T19:42:19.721Z"
   },
   {
    "duration": 798,
    "start_time": "2022-01-22T19:42:29.058Z"
   },
   {
    "duration": 333,
    "start_time": "2022-01-22T19:43:40.626Z"
   },
   {
    "duration": 472,
    "start_time": "2022-01-22T19:43:49.877Z"
   },
   {
    "duration": 363,
    "start_time": "2022-01-22T19:44:00.983Z"
   },
   {
    "duration": 14,
    "start_time": "2022-01-22T19:44:30.543Z"
   },
   {
    "duration": 2342,
    "start_time": "2022-01-22T19:45:01.417Z"
   },
   {
    "duration": 339,
    "start_time": "2022-01-22T19:45:08.391Z"
   },
   {
    "duration": 21,
    "start_time": "2022-01-22T19:45:59.225Z"
   },
   {
    "duration": 25,
    "start_time": "2022-01-22T19:46:10.297Z"
   },
   {
    "duration": 333,
    "start_time": "2022-01-22T19:46:32.282Z"
   },
   {
    "duration": 330,
    "start_time": "2022-01-22T19:46:39.920Z"
   },
   {
    "duration": 310,
    "start_time": "2022-01-22T19:48:13.334Z"
   },
   {
    "duration": 595,
    "start_time": "2022-01-22T19:49:13.057Z"
   },
   {
    "duration": 332,
    "start_time": "2022-01-22T19:49:59.790Z"
   },
   {
    "duration": 510,
    "start_time": "2022-01-22T19:50:10.230Z"
   },
   {
    "duration": 899,
    "start_time": "2022-01-22T19:51:01.250Z"
   },
   {
    "duration": 39,
    "start_time": "2022-01-22T19:51:02.152Z"
   },
   {
    "duration": 22,
    "start_time": "2022-01-22T19:51:02.195Z"
   },
   {
    "duration": 10,
    "start_time": "2022-01-22T19:51:02.220Z"
   },
   {
    "duration": 52,
    "start_time": "2022-01-22T19:51:02.234Z"
   },
   {
    "duration": 14,
    "start_time": "2022-01-22T19:51:02.289Z"
   },
   {
    "duration": 74,
    "start_time": "2022-01-22T19:51:02.306Z"
   },
   {
    "duration": 6,
    "start_time": "2022-01-22T19:51:02.384Z"
   },
   {
    "duration": 17,
    "start_time": "2022-01-22T19:51:02.394Z"
   },
   {
    "duration": 80,
    "start_time": "2022-01-22T19:51:02.413Z"
   },
   {
    "duration": 7,
    "start_time": "2022-01-22T19:51:02.496Z"
   },
   {
    "duration": 14,
    "start_time": "2022-01-22T19:51:02.505Z"
   },
   {
    "duration": 19,
    "start_time": "2022-01-22T19:51:02.521Z"
   },
   {
    "duration": 44,
    "start_time": "2022-01-22T19:51:02.542Z"
   },
   {
    "duration": 28,
    "start_time": "2022-01-22T19:51:02.588Z"
   },
   {
    "duration": 20,
    "start_time": "2022-01-22T19:51:02.619Z"
   },
   {
    "duration": 6,
    "start_time": "2022-01-22T19:51:02.666Z"
   },
   {
    "duration": 30,
    "start_time": "2022-01-22T19:51:02.675Z"
   },
   {
    "duration": 14,
    "start_time": "2022-01-22T19:51:02.708Z"
   },
   {
    "duration": 6,
    "start_time": "2022-01-22T19:51:02.724Z"
   },
   {
    "duration": 52,
    "start_time": "2022-01-22T19:51:02.732Z"
   },
   {
    "duration": 7,
    "start_time": "2022-01-22T19:51:02.787Z"
   },
   {
    "duration": 7,
    "start_time": "2022-01-22T19:51:02.801Z"
   },
   {
    "duration": 13,
    "start_time": "2022-01-22T19:51:02.810Z"
   },
   {
    "duration": 64,
    "start_time": "2022-01-22T19:51:02.826Z"
   },
   {
    "duration": 7,
    "start_time": "2022-01-22T19:51:02.895Z"
   },
   {
    "duration": 7,
    "start_time": "2022-01-22T19:52:50.016Z"
   },
   {
    "duration": 7,
    "start_time": "2022-01-22T19:53:46.032Z"
   },
   {
    "duration": 8,
    "start_time": "2022-01-22T19:55:07.948Z"
   },
   {
    "duration": 9,
    "start_time": "2022-01-22T19:55:12.807Z"
   },
   {
    "duration": 7,
    "start_time": "2022-01-22T19:55:21.178Z"
   },
   {
    "duration": 10,
    "start_time": "2022-01-22T20:02:01.036Z"
   },
   {
    "duration": 6,
    "start_time": "2022-01-22T20:02:23.611Z"
   },
   {
    "duration": 4,
    "start_time": "2022-01-22T20:02:26.748Z"
   },
   {
    "duration": 6,
    "start_time": "2022-01-22T20:06:58.866Z"
   },
   {
    "duration": 7,
    "start_time": "2022-01-22T20:07:07.581Z"
   },
   {
    "duration": 7,
    "start_time": "2022-01-22T20:07:23.749Z"
   },
   {
    "duration": 8,
    "start_time": "2022-01-22T20:08:17.562Z"
   },
   {
    "duration": 206,
    "start_time": "2022-01-23T07:48:36.746Z"
   },
   {
    "duration": 510,
    "start_time": "2022-01-23T07:48:39.950Z"
   },
   {
    "duration": 204,
    "start_time": "2022-01-23T07:48:41.058Z"
   },
   {
    "duration": 615,
    "start_time": "2022-01-23T07:48:47.802Z"
   },
   {
    "duration": 17,
    "start_time": "2022-01-23T07:48:48.419Z"
   },
   {
    "duration": 17,
    "start_time": "2022-01-23T07:48:48.438Z"
   },
   {
    "duration": 21,
    "start_time": "2022-01-23T07:48:48.457Z"
   },
   {
    "duration": 22,
    "start_time": "2022-01-23T07:48:48.480Z"
   },
   {
    "duration": 27,
    "start_time": "2022-01-23T07:48:48.503Z"
   },
   {
    "duration": 35,
    "start_time": "2022-01-23T07:48:48.531Z"
   },
   {
    "duration": 5,
    "start_time": "2022-01-23T07:48:48.569Z"
   },
   {
    "duration": 36,
    "start_time": "2022-01-23T07:48:48.576Z"
   },
   {
    "duration": 42,
    "start_time": "2022-01-23T07:48:48.614Z"
   },
   {
    "duration": 22,
    "start_time": "2022-01-23T07:48:48.657Z"
   },
   {
    "duration": 27,
    "start_time": "2022-01-23T07:48:48.681Z"
   },
   {
    "duration": 42,
    "start_time": "2022-01-23T07:48:48.710Z"
   },
   {
    "duration": 29,
    "start_time": "2022-01-23T07:48:48.754Z"
   },
   {
    "duration": 18,
    "start_time": "2022-01-23T07:48:48.784Z"
   },
   {
    "duration": 22,
    "start_time": "2022-01-23T07:48:48.804Z"
   },
   {
    "duration": 9,
    "start_time": "2022-01-23T07:48:48.828Z"
   },
   {
    "duration": 34,
    "start_time": "2022-01-23T07:48:48.839Z"
   },
   {
    "duration": 35,
    "start_time": "2022-01-23T07:48:48.874Z"
   },
   {
    "duration": 36,
    "start_time": "2022-01-23T07:48:48.911Z"
   },
   {
    "duration": 50,
    "start_time": "2022-01-23T07:48:48.948Z"
   },
   {
    "duration": 30,
    "start_time": "2022-01-23T07:48:49.000Z"
   },
   {
    "duration": 34,
    "start_time": "2022-01-23T07:48:49.033Z"
   },
   {
    "duration": 27,
    "start_time": "2022-01-23T07:48:49.069Z"
   },
   {
    "duration": 57,
    "start_time": "2022-01-23T07:48:49.097Z"
   },
   {
    "duration": 20,
    "start_time": "2022-01-23T07:48:49.156Z"
   },
   {
    "duration": 49,
    "start_time": "2022-01-23T07:48:49.178Z"
   },
   {
    "duration": 34,
    "start_time": "2022-01-23T07:48:49.228Z"
   },
   {
    "duration": 290,
    "start_time": "2022-01-23T07:48:49.263Z"
   },
   {
    "duration": 641,
    "start_time": "2022-01-23T07:50:47.665Z"
   },
   {
    "duration": 55,
    "start_time": "2022-01-23T07:51:34.563Z"
   },
   {
    "duration": 20,
    "start_time": "2022-01-23T07:51:37.033Z"
   },
   {
    "duration": 21,
    "start_time": "2022-01-23T07:52:32.671Z"
   },
   {
    "duration": 16,
    "start_time": "2022-01-23T07:52:54.490Z"
   },
   {
    "duration": 171,
    "start_time": "2022-01-23T07:53:24.141Z"
   },
   {
    "duration": 20,
    "start_time": "2022-01-23T07:53:26.940Z"
   },
   {
    "duration": 16,
    "start_time": "2022-01-23T07:53:37.278Z"
   },
   {
    "duration": 60,
    "start_time": "2022-01-23T07:53:44.738Z"
   },
   {
    "duration": 88,
    "start_time": "2022-01-23T07:54:08.920Z"
   },
   {
    "duration": 62,
    "start_time": "2022-01-23T07:54:48.795Z"
   },
   {
    "duration": 55,
    "start_time": "2022-01-23T07:55:06.411Z"
   },
   {
    "duration": 56,
    "start_time": "2022-01-23T07:55:21.594Z"
   },
   {
    "duration": 616,
    "start_time": "2022-01-23T07:55:27.466Z"
   },
   {
    "duration": 18,
    "start_time": "2022-01-23T07:55:28.084Z"
   },
   {
    "duration": 17,
    "start_time": "2022-01-23T07:55:28.103Z"
   },
   {
    "duration": 7,
    "start_time": "2022-01-23T07:55:28.121Z"
   },
   {
    "duration": 15,
    "start_time": "2022-01-23T07:55:28.129Z"
   },
   {
    "duration": 10,
    "start_time": "2022-01-23T07:55:28.145Z"
   },
   {
    "duration": 52,
    "start_time": "2022-01-23T07:55:28.158Z"
   },
   {
    "duration": 3,
    "start_time": "2022-01-23T07:55:28.212Z"
   },
   {
    "duration": 21,
    "start_time": "2022-01-23T07:55:28.217Z"
   },
   {
    "duration": 24,
    "start_time": "2022-01-23T07:55:28.240Z"
   },
   {
    "duration": 5,
    "start_time": "2022-01-23T07:55:28.265Z"
   },
   {
    "duration": 26,
    "start_time": "2022-01-23T07:55:28.271Z"
   },
   {
    "duration": 11,
    "start_time": "2022-01-23T07:55:28.299Z"
   },
   {
    "duration": 14,
    "start_time": "2022-01-23T07:55:28.312Z"
   },
   {
    "duration": 17,
    "start_time": "2022-01-23T07:55:28.327Z"
   },
   {
    "duration": 15,
    "start_time": "2022-01-23T07:55:28.345Z"
   },
   {
    "duration": 3,
    "start_time": "2022-01-23T07:55:28.362Z"
   },
   {
    "duration": 5,
    "start_time": "2022-01-23T07:55:28.398Z"
   },
   {
    "duration": 6,
    "start_time": "2022-01-23T07:55:28.405Z"
   },
   {
    "duration": 4,
    "start_time": "2022-01-23T07:55:28.412Z"
   },
   {
    "duration": 18,
    "start_time": "2022-01-23T07:55:28.418Z"
   },
   {
    "duration": 4,
    "start_time": "2022-01-23T07:55:28.439Z"
   },
   {
    "duration": 6,
    "start_time": "2022-01-23T07:55:28.445Z"
   },
   {
    "duration": 7,
    "start_time": "2022-01-23T07:55:28.453Z"
   },
   {
    "duration": 13,
    "start_time": "2022-01-23T07:55:28.498Z"
   },
   {
    "duration": 6,
    "start_time": "2022-01-23T07:55:28.513Z"
   },
   {
    "duration": 7,
    "start_time": "2022-01-23T07:55:28.521Z"
   },
   {
    "duration": 7,
    "start_time": "2022-01-23T07:55:28.530Z"
   },
   {
    "duration": 67,
    "start_time": "2022-01-23T07:55:28.538Z"
   },
   {
    "duration": 712,
    "start_time": "2022-01-23T07:55:34.503Z"
   },
   {
    "duration": 244,
    "start_time": "2022-01-23T07:55:43.991Z"
   },
   {
    "duration": 100,
    "start_time": "2022-01-23T07:55:46.811Z"
   },
   {
    "duration": 115,
    "start_time": "2022-01-23T07:55:54.496Z"
   },
   {
    "duration": 84,
    "start_time": "2022-01-23T07:55:59.722Z"
   },
   {
    "duration": 53,
    "start_time": "2022-01-23T07:57:01.161Z"
   },
   {
    "duration": 83,
    "start_time": "2022-01-23T07:57:35.518Z"
   },
   {
    "duration": 76,
    "start_time": "2022-01-23T07:57:57.623Z"
   },
   {
    "duration": 11,
    "start_time": "2022-01-23T07:58:05.864Z"
   },
   {
    "duration": 10,
    "start_time": "2022-01-23T07:58:18.751Z"
   },
   {
    "duration": 50,
    "start_time": "2022-01-23T07:58:30.447Z"
   },
   {
    "duration": 11,
    "start_time": "2022-01-23T07:58:37.295Z"
   },
   {
    "duration": 632,
    "start_time": "2022-01-23T07:59:21.800Z"
   },
   {
    "duration": 18,
    "start_time": "2022-01-23T07:59:22.434Z"
   },
   {
    "duration": 42,
    "start_time": "2022-01-23T07:59:22.454Z"
   },
   {
    "duration": 7,
    "start_time": "2022-01-23T07:59:22.498Z"
   },
   {
    "duration": 37,
    "start_time": "2022-01-23T07:59:22.506Z"
   },
   {
    "duration": 24,
    "start_time": "2022-01-23T07:59:22.544Z"
   },
   {
    "duration": 42,
    "start_time": "2022-01-23T07:59:22.569Z"
   },
   {
    "duration": 16,
    "start_time": "2022-01-23T07:59:22.614Z"
   },
   {
    "duration": 19,
    "start_time": "2022-01-23T07:59:22.633Z"
   },
   {
    "duration": 49,
    "start_time": "2022-01-23T07:59:22.654Z"
   },
   {
    "duration": 4,
    "start_time": "2022-01-23T07:59:22.705Z"
   },
   {
    "duration": 31,
    "start_time": "2022-01-23T07:59:22.711Z"
   },
   {
    "duration": 20,
    "start_time": "2022-01-23T07:59:22.743Z"
   },
   {
    "duration": 14,
    "start_time": "2022-01-23T07:59:22.764Z"
   },
   {
    "duration": 17,
    "start_time": "2022-01-23T07:59:22.780Z"
   },
   {
    "duration": 13,
    "start_time": "2022-01-23T07:59:22.799Z"
   },
   {
    "duration": 3,
    "start_time": "2022-01-23T07:59:22.814Z"
   },
   {
    "duration": 8,
    "start_time": "2022-01-23T07:59:22.819Z"
   },
   {
    "duration": 8,
    "start_time": "2022-01-23T07:59:22.828Z"
   },
   {
    "duration": 4,
    "start_time": "2022-01-23T07:59:22.838Z"
   },
   {
    "duration": 14,
    "start_time": "2022-01-23T07:59:22.843Z"
   },
   {
    "duration": 4,
    "start_time": "2022-01-23T07:59:22.859Z"
   },
   {
    "duration": 35,
    "start_time": "2022-01-23T07:59:22.865Z"
   },
   {
    "duration": 10,
    "start_time": "2022-01-23T07:59:22.902Z"
   },
   {
    "duration": 12,
    "start_time": "2022-01-23T07:59:22.914Z"
   },
   {
    "duration": 5,
    "start_time": "2022-01-23T07:59:22.927Z"
   },
   {
    "duration": 4,
    "start_time": "2022-01-23T07:59:22.933Z"
   },
   {
    "duration": 6,
    "start_time": "2022-01-23T07:59:22.939Z"
   },
   {
    "duration": 674,
    "start_time": "2022-01-23T07:59:22.946Z"
   },
   {
    "duration": 143,
    "start_time": "2022-01-23T08:00:18.087Z"
   },
   {
    "duration": 13,
    "start_time": "2022-01-23T08:00:22.063Z"
   },
   {
    "duration": 61,
    "start_time": "2022-01-23T08:01:07.174Z"
   },
   {
    "duration": 245,
    "start_time": "2022-01-23T08:01:09.866Z"
   },
   {
    "duration": 17,
    "start_time": "2022-01-23T08:01:28.752Z"
   },
   {
    "duration": 69,
    "start_time": "2022-01-23T08:01:44.134Z"
   },
   {
    "duration": 241,
    "start_time": "2022-01-23T08:01:46.905Z"
   },
   {
    "duration": 228,
    "start_time": "2022-01-23T08:03:09.997Z"
   },
   {
    "duration": 179,
    "start_time": "2022-01-23T08:03:21.081Z"
   },
   {
    "duration": 234,
    "start_time": "2022-01-23T08:03:26.260Z"
   },
   {
    "duration": 15,
    "start_time": "2022-01-23T08:06:04.162Z"
   },
   {
    "duration": 10,
    "start_time": "2022-01-23T08:06:07.453Z"
   },
   {
    "duration": 10,
    "start_time": "2022-01-23T08:08:59.985Z"
   },
   {
    "duration": 10,
    "start_time": "2022-01-23T08:12:20.867Z"
   },
   {
    "duration": 12,
    "start_time": "2022-01-23T08:12:26.488Z"
   },
   {
    "duration": 13,
    "start_time": "2022-01-23T08:12:31.991Z"
   },
   {
    "duration": 11,
    "start_time": "2022-01-23T08:12:38.614Z"
   },
   {
    "duration": 171,
    "start_time": "2022-01-23T08:52:06.970Z"
   },
   {
    "duration": 2729,
    "start_time": "2022-01-23T08:52:20.000Z"
   },
   {
    "duration": 3398,
    "start_time": "2022-01-23T08:53:17.207Z"
   },
   {
    "duration": 3565,
    "start_time": "2022-01-23T08:54:10.713Z"
   },
   {
    "duration": 9,
    "start_time": "2022-01-23T09:25:41.513Z"
   },
   {
    "duration": 6,
    "start_time": "2022-01-23T09:25:57.350Z"
   },
   {
    "duration": 3314,
    "start_time": "2022-01-23T09:32:47.264Z"
   },
   {
    "duration": 3281,
    "start_time": "2022-01-23T09:38:43.448Z"
   },
   {
    "duration": 3331,
    "start_time": "2022-01-23T09:39:56.597Z"
   },
   {
    "duration": 3547,
    "start_time": "2022-01-23T09:40:16.236Z"
   },
   {
    "duration": 3672,
    "start_time": "2022-01-23T09:41:29.317Z"
   },
   {
    "duration": 3312,
    "start_time": "2022-01-23T09:43:48.759Z"
   },
   {
    "duration": 3403,
    "start_time": "2022-01-23T09:46:27.779Z"
   },
   {
    "duration": 3375,
    "start_time": "2022-01-23T09:46:36.210Z"
   },
   {
    "duration": 3381,
    "start_time": "2022-01-23T09:46:54.454Z"
   },
   {
    "duration": 3691,
    "start_time": "2022-01-23T09:48:46.479Z"
   },
   {
    "duration": 3698,
    "start_time": "2022-01-23T09:49:02.072Z"
   },
   {
    "duration": 3475,
    "start_time": "2022-01-23T09:49:42.795Z"
   },
   {
    "duration": 3742,
    "start_time": "2022-01-23T09:49:53.563Z"
   },
   {
    "duration": 3612,
    "start_time": "2022-01-23T09:50:28.621Z"
   },
   {
    "duration": 61,
    "start_time": "2022-01-23T09:51:55.673Z"
   },
   {
    "duration": 67,
    "start_time": "2022-01-23T09:51:59.347Z"
   },
   {
    "duration": 4005,
    "start_time": "2022-01-23T09:52:04.115Z"
   },
   {
    "duration": 3603,
    "start_time": "2022-01-23T09:52:11.828Z"
   },
   {
    "duration": 3456,
    "start_time": "2022-01-23T09:53:11.873Z"
   },
   {
    "duration": 3773,
    "start_time": "2022-01-23T09:53:35.043Z"
   },
   {
    "duration": 3372,
    "start_time": "2022-01-23T09:54:54.037Z"
   },
   {
    "duration": 3423,
    "start_time": "2022-01-23T09:55:05.690Z"
   },
   {
    "duration": 3491,
    "start_time": "2022-01-23T09:56:06.173Z"
   },
   {
    "duration": 3490,
    "start_time": "2022-01-23T09:57:12.816Z"
   },
   {
    "duration": 8,
    "start_time": "2022-01-23T10:40:44.055Z"
   },
   {
    "duration": 20,
    "start_time": "2022-01-23T10:41:07.181Z"
   },
   {
    "duration": 3410,
    "start_time": "2022-01-23T10:44:17.987Z"
   },
   {
    "duration": 3579,
    "start_time": "2022-01-23T10:44:24.854Z"
   },
   {
    "duration": 3353,
    "start_time": "2022-01-23T10:52:47.228Z"
   },
   {
    "duration": 3536,
    "start_time": "2022-01-23T10:53:23.944Z"
   },
   {
    "duration": 13,
    "start_time": "2022-01-23T11:30:59.313Z"
   },
   {
    "duration": 630,
    "start_time": "2022-01-23T11:34:54.553Z"
   },
   {
    "duration": 19,
    "start_time": "2022-01-23T11:34:55.185Z"
   },
   {
    "duration": 16,
    "start_time": "2022-01-23T11:34:55.206Z"
   },
   {
    "duration": 7,
    "start_time": "2022-01-23T11:34:55.224Z"
   },
   {
    "duration": 21,
    "start_time": "2022-01-23T11:34:55.232Z"
   },
   {
    "duration": 17,
    "start_time": "2022-01-23T11:34:55.255Z"
   },
   {
    "duration": 48,
    "start_time": "2022-01-23T11:34:55.274Z"
   },
   {
    "duration": 5,
    "start_time": "2022-01-23T11:34:55.325Z"
   },
   {
    "duration": 19,
    "start_time": "2022-01-23T11:34:55.332Z"
   },
   {
    "duration": 49,
    "start_time": "2022-01-23T11:34:55.353Z"
   },
   {
    "duration": 5,
    "start_time": "2022-01-23T11:34:55.404Z"
   },
   {
    "duration": 9,
    "start_time": "2022-01-23T11:34:55.411Z"
   },
   {
    "duration": 18,
    "start_time": "2022-01-23T11:34:55.421Z"
   },
   {
    "duration": 15,
    "start_time": "2022-01-23T11:34:55.441Z"
   },
   {
    "duration": 42,
    "start_time": "2022-01-23T11:34:55.457Z"
   },
   {
    "duration": 14,
    "start_time": "2022-01-23T11:34:55.502Z"
   },
   {
    "duration": 3,
    "start_time": "2022-01-23T11:34:55.518Z"
   },
   {
    "duration": 9,
    "start_time": "2022-01-23T11:34:55.523Z"
   },
   {
    "duration": 10,
    "start_time": "2022-01-23T11:34:55.534Z"
   },
   {
    "duration": 5,
    "start_time": "2022-01-23T11:34:55.545Z"
   },
   {
    "duration": 53,
    "start_time": "2022-01-23T11:34:55.552Z"
   },
   {
    "duration": 7,
    "start_time": "2022-01-23T11:34:55.607Z"
   },
   {
    "duration": 4,
    "start_time": "2022-01-23T11:34:55.617Z"
   },
   {
    "duration": 15,
    "start_time": "2022-01-23T11:34:55.623Z"
   },
   {
    "duration": 15,
    "start_time": "2022-01-23T11:34:55.640Z"
   },
   {
    "duration": 5,
    "start_time": "2022-01-23T11:34:55.657Z"
   },
   {
    "duration": 35,
    "start_time": "2022-01-23T11:34:55.664Z"
   },
   {
    "duration": 3751,
    "start_time": "2022-01-23T11:34:55.700Z"
   },
   {
    "duration": 27,
    "start_time": "2022-01-23T11:55:21.415Z"
   },
   {
    "duration": 33,
    "start_time": "2022-01-23T11:55:30.494Z"
   },
   {
    "duration": 28,
    "start_time": "2022-01-23T11:55:43.729Z"
   },
   {
    "duration": 25,
    "start_time": "2022-01-23T11:56:13.465Z"
   },
   {
    "duration": 24,
    "start_time": "2022-01-23T11:56:17.470Z"
   },
   {
    "duration": 25,
    "start_time": "2022-01-23T11:56:27.079Z"
   },
   {
    "duration": 30,
    "start_time": "2022-01-23T11:56:30.865Z"
   },
   {
    "duration": 27,
    "start_time": "2022-01-23T11:56:47.974Z"
   },
   {
    "duration": 34,
    "start_time": "2022-01-23T11:56:50.755Z"
   },
   {
    "duration": 690,
    "start_time": "2022-01-23T11:57:00.432Z"
   },
   {
    "duration": 20,
    "start_time": "2022-01-23T11:57:01.124Z"
   },
   {
    "duration": 16,
    "start_time": "2022-01-23T11:57:01.146Z"
   },
   {
    "duration": 32,
    "start_time": "2022-01-23T11:57:01.165Z"
   },
   {
    "duration": 14,
    "start_time": "2022-01-23T11:57:01.199Z"
   },
   {
    "duration": 62,
    "start_time": "2022-01-23T11:57:01.215Z"
   },
   {
    "duration": 259,
    "start_time": "2022-01-23T11:57:01.279Z"
   },
   {
    "duration": -10,
    "start_time": "2022-01-23T11:57:01.551Z"
   },
   {
    "duration": -13,
    "start_time": "2022-01-23T11:57:01.555Z"
   },
   {
    "duration": -14,
    "start_time": "2022-01-23T11:57:01.557Z"
   },
   {
    "duration": -15,
    "start_time": "2022-01-23T11:57:01.559Z"
   },
   {
    "duration": -17,
    "start_time": "2022-01-23T11:57:01.562Z"
   },
   {
    "duration": -18,
    "start_time": "2022-01-23T11:57:01.564Z"
   },
   {
    "duration": -19,
    "start_time": "2022-01-23T11:57:01.566Z"
   },
   {
    "duration": -25,
    "start_time": "2022-01-23T11:57:01.572Z"
   },
   {
    "duration": -26,
    "start_time": "2022-01-23T11:57:01.575Z"
   },
   {
    "duration": -29,
    "start_time": "2022-01-23T11:57:01.578Z"
   },
   {
    "duration": -30,
    "start_time": "2022-01-23T11:57:01.580Z"
   },
   {
    "duration": -31,
    "start_time": "2022-01-23T11:57:01.582Z"
   },
   {
    "duration": -33,
    "start_time": "2022-01-23T11:57:01.586Z"
   },
   {
    "duration": -35,
    "start_time": "2022-01-23T11:57:01.588Z"
   },
   {
    "duration": -35,
    "start_time": "2022-01-23T11:57:01.590Z"
   },
   {
    "duration": -36,
    "start_time": "2022-01-23T11:57:01.591Z"
   },
   {
    "duration": -37,
    "start_time": "2022-01-23T11:57:01.593Z"
   },
   {
    "duration": -47,
    "start_time": "2022-01-23T11:57:01.604Z"
   },
   {
    "duration": -50,
    "start_time": "2022-01-23T11:57:01.608Z"
   },
   {
    "duration": -51,
    "start_time": "2022-01-23T11:57:01.610Z"
   },
   {
    "duration": -52,
    "start_time": "2022-01-23T11:57:01.612Z"
   },
   {
    "duration": -53,
    "start_time": "2022-01-23T11:57:01.614Z"
   },
   {
    "duration": 35,
    "start_time": "2022-01-23T11:58:17.360Z"
   },
   {
    "duration": 3,
    "start_time": "2022-01-23T11:58:41.240Z"
   },
   {
    "duration": 172,
    "start_time": "2022-01-23T11:58:43.822Z"
   },
   {
    "duration": 644,
    "start_time": "2022-01-23T11:58:57.035Z"
   },
   {
    "duration": 19,
    "start_time": "2022-01-23T11:58:57.681Z"
   },
   {
    "duration": 16,
    "start_time": "2022-01-23T11:58:57.705Z"
   },
   {
    "duration": 26,
    "start_time": "2022-01-23T11:58:57.722Z"
   },
   {
    "duration": 44,
    "start_time": "2022-01-23T11:58:57.750Z"
   },
   {
    "duration": 20,
    "start_time": "2022-01-23T11:58:57.795Z"
   },
   {
    "duration": 30,
    "start_time": "2022-01-23T11:58:57.817Z"
   },
   {
    "duration": 38,
    "start_time": "2022-01-23T11:58:57.848Z"
   },
   {
    "duration": 7,
    "start_time": "2022-01-23T11:58:57.888Z"
   },
   {
    "duration": 12,
    "start_time": "2022-01-23T11:58:57.896Z"
   },
   {
    "duration": 26,
    "start_time": "2022-01-23T11:58:57.910Z"
   },
   {
    "duration": 5,
    "start_time": "2022-01-23T11:58:57.938Z"
   },
   {
    "duration": 10,
    "start_time": "2022-01-23T11:58:57.944Z"
   },
   {
    "duration": 14,
    "start_time": "2022-01-23T11:58:57.955Z"
   },
   {
    "duration": 36,
    "start_time": "2022-01-23T11:58:57.971Z"
   },
   {
    "duration": 19,
    "start_time": "2022-01-23T11:58:58.009Z"
   },
   {
    "duration": 15,
    "start_time": "2022-01-23T11:58:58.030Z"
   },
   {
    "duration": 4,
    "start_time": "2022-01-23T11:58:58.047Z"
   },
   {
    "duration": 14,
    "start_time": "2022-01-23T11:58:58.053Z"
   },
   {
    "duration": 32,
    "start_time": "2022-01-23T11:58:58.068Z"
   },
   {
    "duration": 4,
    "start_time": "2022-01-23T11:58:58.102Z"
   },
   {
    "duration": 17,
    "start_time": "2022-01-23T11:58:58.109Z"
   },
   {
    "duration": 5,
    "start_time": "2022-01-23T11:58:58.128Z"
   },
   {
    "duration": 5,
    "start_time": "2022-01-23T11:58:58.135Z"
   },
   {
    "duration": 9,
    "start_time": "2022-01-23T11:58:58.142Z"
   },
   {
    "duration": 46,
    "start_time": "2022-01-23T11:58:58.152Z"
   },
   {
    "duration": 5,
    "start_time": "2022-01-23T11:58:58.200Z"
   },
   {
    "duration": 8,
    "start_time": "2022-01-23T11:58:58.207Z"
   },
   {
    "duration": 3811,
    "start_time": "2022-01-23T11:58:58.217Z"
   },
   {
    "duration": 22,
    "start_time": "2022-01-23T11:59:21.015Z"
   },
   {
    "duration": 21,
    "start_time": "2022-01-23T11:59:28.876Z"
   },
   {
    "duration": 45,
    "start_time": "2022-01-23T11:59:50.511Z"
   },
   {
    "duration": 44,
    "start_time": "2022-01-23T12:00:06.693Z"
   },
   {
    "duration": 611,
    "start_time": "2022-01-23T12:00:17.822Z"
   },
   {
    "duration": 23,
    "start_time": "2022-01-23T12:00:18.435Z"
   },
   {
    "duration": 37,
    "start_time": "2022-01-23T12:00:18.461Z"
   },
   {
    "duration": 7,
    "start_time": "2022-01-23T12:00:18.500Z"
   },
   {
    "duration": 17,
    "start_time": "2022-01-23T12:00:18.509Z"
   },
   {
    "duration": 44,
    "start_time": "2022-01-23T12:00:18.528Z"
   },
   {
    "duration": 262,
    "start_time": "2022-01-23T12:00:18.573Z"
   },
   {
    "duration": -50,
    "start_time": "2022-01-23T12:00:18.887Z"
   },
   {
    "duration": -52,
    "start_time": "2022-01-23T12:00:18.890Z"
   },
   {
    "duration": -54,
    "start_time": "2022-01-23T12:00:18.893Z"
   },
   {
    "duration": -56,
    "start_time": "2022-01-23T12:00:18.896Z"
   },
   {
    "duration": -66,
    "start_time": "2022-01-23T12:00:18.907Z"
   },
   {
    "duration": -68,
    "start_time": "2022-01-23T12:00:18.910Z"
   },
   {
    "duration": -69,
    "start_time": "2022-01-23T12:00:18.911Z"
   },
   {
    "duration": -70,
    "start_time": "2022-01-23T12:00:18.913Z"
   },
   {
    "duration": -71,
    "start_time": "2022-01-23T12:00:18.915Z"
   },
   {
    "duration": -72,
    "start_time": "2022-01-23T12:00:18.917Z"
   },
   {
    "duration": -73,
    "start_time": "2022-01-23T12:00:18.919Z"
   },
   {
    "duration": -74,
    "start_time": "2022-01-23T12:00:18.921Z"
   },
   {
    "duration": -75,
    "start_time": "2022-01-23T12:00:18.923Z"
   },
   {
    "duration": -76,
    "start_time": "2022-01-23T12:00:18.925Z"
   },
   {
    "duration": -77,
    "start_time": "2022-01-23T12:00:18.927Z"
   },
   {
    "duration": -77,
    "start_time": "2022-01-23T12:00:18.928Z"
   },
   {
    "duration": -78,
    "start_time": "2022-01-23T12:00:18.930Z"
   },
   {
    "duration": -79,
    "start_time": "2022-01-23T12:00:18.932Z"
   },
   {
    "duration": -79,
    "start_time": "2022-01-23T12:00:18.933Z"
   },
   {
    "duration": -80,
    "start_time": "2022-01-23T12:00:18.935Z"
   },
   {
    "duration": -81,
    "start_time": "2022-01-23T12:00:18.937Z"
   },
   {
    "duration": -82,
    "start_time": "2022-01-23T12:00:18.939Z"
   },
   {
    "duration": 697,
    "start_time": "2022-01-23T12:03:10.276Z"
   },
   {
    "duration": 626,
    "start_time": "2022-01-23T12:03:22.166Z"
   },
   {
    "duration": 18,
    "start_time": "2022-01-23T12:03:22.794Z"
   },
   {
    "duration": 13,
    "start_time": "2022-01-23T12:03:22.814Z"
   },
   {
    "duration": 6,
    "start_time": "2022-01-23T12:03:22.829Z"
   },
   {
    "duration": 12,
    "start_time": "2022-01-23T12:03:22.836Z"
   },
   {
    "duration": 753,
    "start_time": "2022-01-23T12:03:22.850Z"
   },
   {
    "duration": -39,
    "start_time": "2022-01-23T12:03:23.644Z"
   },
   {
    "duration": -40,
    "start_time": "2022-01-23T12:03:23.647Z"
   },
   {
    "duration": -41,
    "start_time": "2022-01-23T12:03:23.649Z"
   },
   {
    "duration": -42,
    "start_time": "2022-01-23T12:03:23.651Z"
   },
   {
    "duration": -43,
    "start_time": "2022-01-23T12:03:23.652Z"
   },
   {
    "duration": -44,
    "start_time": "2022-01-23T12:03:23.654Z"
   },
   {
    "duration": -45,
    "start_time": "2022-01-23T12:03:23.656Z"
   },
   {
    "duration": -46,
    "start_time": "2022-01-23T12:03:23.658Z"
   },
   {
    "duration": -48,
    "start_time": "2022-01-23T12:03:23.661Z"
   },
   {
    "duration": -49,
    "start_time": "2022-01-23T12:03:23.663Z"
   },
   {
    "duration": -50,
    "start_time": "2022-01-23T12:03:23.665Z"
   },
   {
    "duration": -50,
    "start_time": "2022-01-23T12:03:23.666Z"
   },
   {
    "duration": -51,
    "start_time": "2022-01-23T12:03:23.668Z"
   },
   {
    "duration": -52,
    "start_time": "2022-01-23T12:03:23.670Z"
   },
   {
    "duration": -58,
    "start_time": "2022-01-23T12:03:23.677Z"
   },
   {
    "duration": -60,
    "start_time": "2022-01-23T12:03:23.680Z"
   },
   {
    "duration": -61,
    "start_time": "2022-01-23T12:03:23.682Z"
   },
   {
    "duration": -62,
    "start_time": "2022-01-23T12:03:23.684Z"
   },
   {
    "duration": -62,
    "start_time": "2022-01-23T12:03:23.685Z"
   },
   {
    "duration": -63,
    "start_time": "2022-01-23T12:03:23.687Z"
   },
   {
    "duration": -65,
    "start_time": "2022-01-23T12:03:23.690Z"
   },
   {
    "duration": -68,
    "start_time": "2022-01-23T12:03:23.694Z"
   },
   {
    "duration": -69,
    "start_time": "2022-01-23T12:03:23.696Z"
   },
   {
    "duration": 768,
    "start_time": "2022-01-23T12:06:06.960Z"
   },
   {
    "duration": 754,
    "start_time": "2022-01-23T12:06:24.275Z"
   },
   {
    "duration": 753,
    "start_time": "2022-01-23T12:07:57.191Z"
   },
   {
    "duration": 200,
    "start_time": "2022-01-23T12:08:09.912Z"
   },
   {
    "duration": 564,
    "start_time": "2022-01-23T12:30:38.053Z"
   },
   {
    "duration": 18,
    "start_time": "2022-01-23T12:30:38.619Z"
   },
   {
    "duration": 12,
    "start_time": "2022-01-23T12:30:38.641Z"
   },
   {
    "duration": 6,
    "start_time": "2022-01-23T12:30:38.655Z"
   },
   {
    "duration": 44,
    "start_time": "2022-01-23T12:30:38.662Z"
   },
   {
    "duration": 10,
    "start_time": "2022-01-23T12:30:38.708Z"
   },
   {
    "duration": 25,
    "start_time": "2022-01-23T12:30:38.720Z"
   },
   {
    "duration": 4,
    "start_time": "2022-01-23T12:30:38.747Z"
   },
   {
    "duration": 14,
    "start_time": "2022-01-23T12:30:38.752Z"
   },
   {
    "duration": 56,
    "start_time": "2022-01-23T12:30:38.767Z"
   },
   {
    "duration": 4,
    "start_time": "2022-01-23T12:30:38.825Z"
   },
   {
    "duration": 17,
    "start_time": "2022-01-23T12:30:38.831Z"
   },
   {
    "duration": 16,
    "start_time": "2022-01-23T12:30:38.849Z"
   },
   {
    "duration": 15,
    "start_time": "2022-01-23T12:30:38.867Z"
   },
   {
    "duration": 18,
    "start_time": "2022-01-23T12:30:38.896Z"
   },
   {
    "duration": 16,
    "start_time": "2022-01-23T12:30:38.916Z"
   },
   {
    "duration": 5,
    "start_time": "2022-01-23T12:30:38.934Z"
   },
   {
    "duration": 8,
    "start_time": "2022-01-23T12:30:38.940Z"
   },
   {
    "duration": 8,
    "start_time": "2022-01-23T12:30:38.950Z"
   },
   {
    "duration": 37,
    "start_time": "2022-01-23T12:30:38.960Z"
   },
   {
    "duration": 15,
    "start_time": "2022-01-23T12:30:38.999Z"
   },
   {
    "duration": 5,
    "start_time": "2022-01-23T12:30:39.017Z"
   },
   {
    "duration": 6,
    "start_time": "2022-01-23T12:30:39.024Z"
   },
   {
    "duration": 15,
    "start_time": "2022-01-23T12:30:39.032Z"
   },
   {
    "duration": 12,
    "start_time": "2022-01-23T12:30:39.048Z"
   },
   {
    "duration": 5,
    "start_time": "2022-01-23T12:30:39.062Z"
   },
   {
    "duration": 38,
    "start_time": "2022-01-23T12:30:39.068Z"
   },
   {
    "duration": 6,
    "start_time": "2022-01-23T12:30:39.108Z"
   },
   {
    "duration": 3333,
    "start_time": "2022-01-23T12:30:39.116Z"
   },
   {
    "duration": 15,
    "start_time": "2022-01-23T12:54:05.612Z"
   },
   {
    "duration": 239,
    "start_time": "2022-01-23T12:57:49.166Z"
   },
   {
    "duration": 1044,
    "start_time": "2022-01-23T12:58:00.667Z"
   },
   {
    "duration": 173,
    "start_time": "2022-01-23T12:58:05.494Z"
   },
   {
    "duration": 13,
    "start_time": "2022-01-23T12:58:10.742Z"
   },
   {
    "duration": 10,
    "start_time": "2022-01-23T12:59:19.139Z"
   },
   {
    "duration": 8,
    "start_time": "2022-01-23T13:01:27.036Z"
   },
   {
    "duration": 9,
    "start_time": "2022-01-23T13:01:35.486Z"
   },
   {
    "duration": 74,
    "start_time": "2022-01-23T13:01:39.166Z"
   },
   {
    "duration": 8,
    "start_time": "2022-01-23T13:01:48.522Z"
   },
   {
    "duration": 7,
    "start_time": "2022-01-23T13:01:51.974Z"
   },
   {
    "duration": 8,
    "start_time": "2022-01-23T13:02:05.676Z"
   },
   {
    "duration": 7,
    "start_time": "2022-01-23T13:02:08.528Z"
   },
   {
    "duration": 7,
    "start_time": "2022-01-23T13:04:07.273Z"
   },
   {
    "duration": 10,
    "start_time": "2022-01-23T13:05:48.082Z"
   },
   {
    "duration": 186,
    "start_time": "2022-01-23T13:06:11.331Z"
   },
   {
    "duration": 189,
    "start_time": "2022-01-23T13:06:29.276Z"
   },
   {
    "duration": 242,
    "start_time": "2022-01-23T13:08:21.283Z"
   },
   {
    "duration": 9,
    "start_time": "2022-01-23T13:08:31.760Z"
   },
   {
    "duration": 194,
    "start_time": "2022-01-23T13:08:34.457Z"
   },
   {
    "duration": 196,
    "start_time": "2022-01-23T13:08:49.242Z"
   },
   {
    "duration": 9,
    "start_time": "2022-01-23T13:08:57.663Z"
   },
   {
    "duration": 179,
    "start_time": "2022-01-23T13:12:26.819Z"
   },
   {
    "duration": 181,
    "start_time": "2022-01-23T13:12:33.887Z"
   },
   {
    "duration": 8,
    "start_time": "2022-01-23T13:12:37.892Z"
   },
   {
    "duration": 7,
    "start_time": "2022-01-23T13:12:40.070Z"
   },
   {
    "duration": 10,
    "start_time": "2022-01-23T13:12:47.742Z"
   },
   {
    "duration": 11,
    "start_time": "2022-01-23T13:14:17.979Z"
   },
   {
    "duration": 11,
    "start_time": "2022-01-23T13:15:07.800Z"
   },
   {
    "duration": 11,
    "start_time": "2022-01-23T13:15:15.633Z"
   },
   {
    "duration": 16,
    "start_time": "2022-01-23T13:15:18.738Z"
   },
   {
    "duration": 10,
    "start_time": "2022-01-23T13:15:44.030Z"
   },
   {
    "duration": 14,
    "start_time": "2022-01-23T13:16:31.035Z"
   },
   {
    "duration": 10,
    "start_time": "2022-01-23T13:16:35.405Z"
   },
   {
    "duration": 11,
    "start_time": "2022-01-23T13:16:44.475Z"
   },
   {
    "duration": 10,
    "start_time": "2022-01-23T13:16:47.752Z"
   },
   {
    "duration": 5457,
    "start_time": "2022-01-23T13:19:25.369Z"
   },
   {
    "duration": 1262,
    "start_time": "2022-01-23T13:19:54.491Z"
   },
   {
    "duration": 4,
    "start_time": "2022-01-23T13:20:18.156Z"
   },
   {
    "duration": 65,
    "start_time": "2022-01-23T13:24:27.403Z"
   },
   {
    "duration": 5,
    "start_time": "2022-01-23T13:24:31.308Z"
   },
   {
    "duration": 5,
    "start_time": "2022-01-23T13:24:35.660Z"
   },
   {
    "duration": 6,
    "start_time": "2022-01-23T13:24:37.887Z"
   },
   {
    "duration": 5,
    "start_time": "2022-01-23T13:24:56.855Z"
   },
   {
    "duration": 5,
    "start_time": "2022-01-23T13:25:00.353Z"
   },
   {
    "duration": 5,
    "start_time": "2022-01-23T13:25:03.560Z"
   },
   {
    "duration": 13,
    "start_time": "2022-01-23T13:28:23.037Z"
   },
   {
    "duration": 18,
    "start_time": "2022-01-23T13:29:44.227Z"
   },
   {
    "duration": 19,
    "start_time": "2022-01-23T13:29:54.446Z"
   },
   {
    "duration": 19,
    "start_time": "2022-01-23T13:29:59.643Z"
   },
   {
    "duration": 18,
    "start_time": "2022-01-23T13:30:06.167Z"
   },
   {
    "duration": 16,
    "start_time": "2022-01-23T13:30:10.649Z"
   },
   {
    "duration": 185,
    "start_time": "2022-01-23T13:33:14.647Z"
   },
   {
    "duration": 19,
    "start_time": "2022-01-23T13:33:47.888Z"
   },
   {
    "duration": 17,
    "start_time": "2022-01-23T13:36:04.452Z"
   },
   {
    "duration": 182,
    "start_time": "2022-01-23T13:36:37.682Z"
   },
   {
    "duration": 6,
    "start_time": "2022-01-23T13:36:49.021Z"
   },
   {
    "duration": 174,
    "start_time": "2022-01-23T13:36:55.946Z"
   },
   {
    "duration": 8,
    "start_time": "2022-01-23T13:37:13.852Z"
   },
   {
    "duration": 612,
    "start_time": "2022-01-23T13:37:33.525Z"
   },
   {
    "duration": 19,
    "start_time": "2022-01-23T13:37:34.138Z"
   },
   {
    "duration": 13,
    "start_time": "2022-01-23T13:37:34.160Z"
   },
   {
    "duration": 23,
    "start_time": "2022-01-23T13:37:34.175Z"
   },
   {
    "duration": 13,
    "start_time": "2022-01-23T13:37:34.200Z"
   },
   {
    "duration": 11,
    "start_time": "2022-01-23T13:37:34.215Z"
   },
   {
    "duration": 28,
    "start_time": "2022-01-23T13:37:34.227Z"
   },
   {
    "duration": 4,
    "start_time": "2022-01-23T13:37:34.258Z"
   },
   {
    "duration": 46,
    "start_time": "2022-01-23T13:37:34.264Z"
   },
   {
    "duration": 27,
    "start_time": "2022-01-23T13:37:34.312Z"
   },
   {
    "duration": 5,
    "start_time": "2022-01-23T13:37:34.341Z"
   },
   {
    "duration": 10,
    "start_time": "2022-01-23T13:37:34.348Z"
   },
   {
    "duration": 13,
    "start_time": "2022-01-23T13:37:34.360Z"
   },
   {
    "duration": 35,
    "start_time": "2022-01-23T13:37:34.374Z"
   },
   {
    "duration": 17,
    "start_time": "2022-01-23T13:37:34.411Z"
   },
   {
    "duration": 15,
    "start_time": "2022-01-23T13:37:34.430Z"
   },
   {
    "duration": 4,
    "start_time": "2022-01-23T13:37:34.446Z"
   },
   {
    "duration": 10,
    "start_time": "2022-01-23T13:37:34.452Z"
   },
   {
    "duration": 34,
    "start_time": "2022-01-23T13:37:34.464Z"
   },
   {
    "duration": 14,
    "start_time": "2022-01-23T13:37:34.500Z"
   },
   {
    "duration": 18,
    "start_time": "2022-01-23T13:37:34.516Z"
   },
   {
    "duration": 9,
    "start_time": "2022-01-23T13:37:34.536Z"
   },
   {
    "duration": 9,
    "start_time": "2022-01-23T13:37:34.548Z"
   },
   {
    "duration": 12,
    "start_time": "2022-01-23T13:37:34.558Z"
   },
   {
    "duration": 26,
    "start_time": "2022-01-23T13:37:34.572Z"
   },
   {
    "duration": 8,
    "start_time": "2022-01-23T13:37:34.600Z"
   },
   {
    "duration": 7,
    "start_time": "2022-01-23T13:37:34.610Z"
   },
   {
    "duration": 3349,
    "start_time": "2022-01-23T13:37:34.618Z"
   },
   {
    "duration": 14,
    "start_time": "2022-01-23T13:37:37.969Z"
   },
   {
    "duration": 10,
    "start_time": "2022-01-23T13:37:37.997Z"
   },
   {
    "duration": 13,
    "start_time": "2022-01-23T13:37:38.008Z"
   },
   {
    "duration": 7,
    "start_time": "2022-01-23T13:37:38.023Z"
   },
   {
    "duration": 18,
    "start_time": "2022-01-23T13:37:38.031Z"
   },
   {
    "duration": 57,
    "start_time": "2022-01-23T13:37:38.051Z"
   },
   {
    "duration": 17,
    "start_time": "2022-01-23T13:38:17.370Z"
   },
   {
    "duration": 17,
    "start_time": "2022-01-23T13:38:45.455Z"
   },
   {
    "duration": 18,
    "start_time": "2022-01-23T13:39:03.966Z"
   },
   {
    "duration": 18,
    "start_time": "2022-01-23T13:39:23.954Z"
   },
   {
    "duration": 18,
    "start_time": "2022-01-23T13:39:33.503Z"
   },
   {
    "duration": 16,
    "start_time": "2022-01-23T13:39:42.248Z"
   },
   {
    "duration": 19,
    "start_time": "2022-01-23T13:39:56.587Z"
   },
   {
    "duration": 18,
    "start_time": "2022-01-23T13:40:10.859Z"
   },
   {
    "duration": 17,
    "start_time": "2022-01-23T13:40:20.513Z"
   },
   {
    "duration": 12,
    "start_time": "2022-01-23T13:41:38.670Z"
   },
   {
    "duration": 11,
    "start_time": "2022-01-23T17:17:47.810Z"
   },
   {
    "duration": 7,
    "start_time": "2022-01-23T17:23:33.091Z"
   },
   {
    "duration": 63,
    "start_time": "2022-01-23T17:23:44.384Z"
   },
   {
    "duration": 10,
    "start_time": "2022-01-23T17:23:47.700Z"
   },
   {
    "duration": 3647,
    "start_time": "2022-01-23T17:31:33.191Z"
   },
   {
    "duration": 3615,
    "start_time": "2022-01-23T17:34:58.102Z"
   },
   {
    "duration": 596,
    "start_time": "2022-01-23T17:35:03.654Z"
   },
   {
    "duration": 18,
    "start_time": "2022-01-23T17:35:04.252Z"
   },
   {
    "duration": 15,
    "start_time": "2022-01-23T17:35:04.271Z"
   },
   {
    "duration": 13,
    "start_time": "2022-01-23T17:35:04.287Z"
   },
   {
    "duration": 10,
    "start_time": "2022-01-23T17:35:04.302Z"
   },
   {
    "duration": 17,
    "start_time": "2022-01-23T17:35:04.314Z"
   },
   {
    "duration": 25,
    "start_time": "2022-01-23T17:35:04.333Z"
   },
   {
    "duration": 4,
    "start_time": "2022-01-23T17:35:04.360Z"
   },
   {
    "duration": 33,
    "start_time": "2022-01-23T17:35:04.365Z"
   },
   {
    "duration": 26,
    "start_time": "2022-01-23T17:35:04.399Z"
   },
   {
    "duration": 5,
    "start_time": "2022-01-23T17:35:04.426Z"
   },
   {
    "duration": 10,
    "start_time": "2022-01-23T17:35:04.432Z"
   },
   {
    "duration": 13,
    "start_time": "2022-01-23T17:35:04.443Z"
   },
   {
    "duration": 13,
    "start_time": "2022-01-23T17:35:04.458Z"
   },
   {
    "duration": 18,
    "start_time": "2022-01-23T17:35:04.497Z"
   },
   {
    "duration": 14,
    "start_time": "2022-01-23T17:35:04.517Z"
   },
   {
    "duration": 3,
    "start_time": "2022-01-23T17:35:04.533Z"
   },
   {
    "duration": 14,
    "start_time": "2022-01-23T17:35:04.538Z"
   },
   {
    "duration": 9,
    "start_time": "2022-01-23T17:35:04.553Z"
   },
   {
    "duration": 7,
    "start_time": "2022-01-23T17:35:04.563Z"
   },
   {
    "duration": 38,
    "start_time": "2022-01-23T17:35:04.572Z"
   },
   {
    "duration": 8,
    "start_time": "2022-01-23T17:35:04.612Z"
   },
   {
    "duration": 5,
    "start_time": "2022-01-23T17:35:04.625Z"
   },
   {
    "duration": 8,
    "start_time": "2022-01-23T17:35:04.631Z"
   },
   {
    "duration": 12,
    "start_time": "2022-01-23T17:35:04.641Z"
   },
   {
    "duration": 4,
    "start_time": "2022-01-23T17:35:04.655Z"
   },
   {
    "duration": 5,
    "start_time": "2022-01-23T17:35:04.697Z"
   },
   {
    "duration": 3458,
    "start_time": "2022-01-23T17:35:04.704Z"
   },
   {
    "duration": 14,
    "start_time": "2022-01-23T17:35:08.163Z"
   },
   {
    "duration": 24,
    "start_time": "2022-01-23T17:35:08.179Z"
   },
   {
    "duration": 13,
    "start_time": "2022-01-23T17:35:08.205Z"
   },
   {
    "duration": 17,
    "start_time": "2022-01-23T17:35:08.219Z"
   },
   {
    "duration": 11,
    "start_time": "2022-01-23T17:35:08.238Z"
   },
   {
    "duration": 12,
    "start_time": "2022-01-23T17:35:08.251Z"
   },
   {
    "duration": 17,
    "start_time": "2022-01-23T17:36:07.603Z"
   },
   {
    "duration": 18,
    "start_time": "2022-01-23T17:36:13.387Z"
   },
   {
    "duration": 11,
    "start_time": "2022-01-23T17:58:49.976Z"
   },
   {
    "duration": 11,
    "start_time": "2022-01-23T17:58:57.836Z"
   },
   {
    "duration": 2136,
    "start_time": "2022-01-24T18:25:53.831Z"
   },
   {
    "duration": 965,
    "start_time": "2022-01-24T18:26:05.175Z"
   },
   {
    "duration": 31,
    "start_time": "2022-01-24T18:26:06.142Z"
   },
   {
    "duration": 19,
    "start_time": "2022-01-24T18:26:06.176Z"
   },
   {
    "duration": 14,
    "start_time": "2022-01-24T18:26:06.198Z"
   },
   {
    "duration": 51,
    "start_time": "2022-01-24T18:26:06.215Z"
   },
   {
    "duration": 18,
    "start_time": "2022-01-24T18:26:06.269Z"
   },
   {
    "duration": 42,
    "start_time": "2022-01-24T18:26:06.290Z"
   },
   {
    "duration": 6,
    "start_time": "2022-01-24T18:26:06.364Z"
   },
   {
    "duration": 25,
    "start_time": "2022-01-24T18:26:06.374Z"
   },
   {
    "duration": 62,
    "start_time": "2022-01-24T18:26:06.403Z"
   },
   {
    "duration": 7,
    "start_time": "2022-01-24T18:26:06.468Z"
   },
   {
    "duration": 9,
    "start_time": "2022-01-24T18:26:06.479Z"
   },
   {
    "duration": 23,
    "start_time": "2022-01-24T18:26:06.491Z"
   },
   {
    "duration": 48,
    "start_time": "2022-01-24T18:26:06.517Z"
   },
   {
    "duration": 27,
    "start_time": "2022-01-24T18:26:06.568Z"
   },
   {
    "duration": 23,
    "start_time": "2022-01-24T18:26:06.598Z"
   },
   {
    "duration": 41,
    "start_time": "2022-01-24T18:26:06.624Z"
   },
   {
    "duration": 10,
    "start_time": "2022-01-24T18:26:06.667Z"
   },
   {
    "duration": 13,
    "start_time": "2022-01-24T18:26:06.679Z"
   },
   {
    "duration": 6,
    "start_time": "2022-01-24T18:26:06.695Z"
   },
   {
    "duration": 62,
    "start_time": "2022-01-24T18:26:06.704Z"
   },
   {
    "duration": 6,
    "start_time": "2022-01-24T18:26:06.769Z"
   },
   {
    "duration": 13,
    "start_time": "2022-01-24T18:26:06.780Z"
   },
   {
    "duration": 17,
    "start_time": "2022-01-24T18:26:06.797Z"
   },
   {
    "duration": 22,
    "start_time": "2022-01-24T18:26:06.817Z"
   },
   {
    "duration": 30,
    "start_time": "2022-01-24T18:26:06.841Z"
   },
   {
    "duration": 9,
    "start_time": "2022-01-24T18:26:06.875Z"
   },
   {
    "duration": 5423,
    "start_time": "2022-01-24T18:26:06.887Z"
   },
   {
    "duration": 20,
    "start_time": "2022-01-24T18:26:12.312Z"
   },
   {
    "duration": 45,
    "start_time": "2022-01-24T18:26:12.334Z"
   },
   {
    "duration": 14,
    "start_time": "2022-01-24T18:26:12.381Z"
   },
   {
    "duration": 30,
    "start_time": "2022-01-24T18:26:12.397Z"
   },
   {
    "duration": 9508,
    "start_time": "2022-01-24T18:26:12.429Z"
   },
   {
    "duration": -43,
    "start_time": "2022-01-24T18:26:21.983Z"
   },
   {
    "duration": -44,
    "start_time": "2022-01-24T18:26:21.985Z"
   },
   {
    "duration": 1148,
    "start_time": "2022-01-24T18:26:25.668Z"
   },
   {
    "duration": 61,
    "start_time": "2022-01-24T18:26:26.820Z"
   },
   {
    "duration": 22,
    "start_time": "2022-01-24T18:26:26.885Z"
   },
   {
    "duration": 13,
    "start_time": "2022-01-24T18:26:26.910Z"
   },
   {
    "duration": 51,
    "start_time": "2022-01-24T18:26:26.926Z"
   },
   {
    "duration": 16,
    "start_time": "2022-01-24T18:26:26.979Z"
   },
   {
    "duration": 84,
    "start_time": "2022-01-24T18:26:26.997Z"
   },
   {
    "duration": 7,
    "start_time": "2022-01-24T18:26:27.087Z"
   },
   {
    "duration": 22,
    "start_time": "2022-01-24T18:26:27.098Z"
   },
   {
    "duration": 93,
    "start_time": "2022-01-24T18:26:27.123Z"
   },
   {
    "duration": 10,
    "start_time": "2022-01-24T18:26:27.219Z"
   },
   {
    "duration": 36,
    "start_time": "2022-01-24T18:26:27.233Z"
   },
   {
    "duration": 19,
    "start_time": "2022-01-24T18:26:27.272Z"
   },
   {
    "duration": 21,
    "start_time": "2022-01-24T18:26:27.294Z"
   },
   {
    "duration": 65,
    "start_time": "2022-01-24T18:26:27.318Z"
   },
   {
    "duration": 23,
    "start_time": "2022-01-24T18:26:27.386Z"
   },
   {
    "duration": 5,
    "start_time": "2022-01-24T18:26:27.412Z"
   },
   {
    "duration": 9,
    "start_time": "2022-01-24T18:26:27.420Z"
   },
   {
    "duration": 10,
    "start_time": "2022-01-24T18:26:27.466Z"
   },
   {
    "duration": 8,
    "start_time": "2022-01-24T18:26:27.479Z"
   },
   {
    "duration": 21,
    "start_time": "2022-01-24T18:26:27.489Z"
   },
   {
    "duration": 53,
    "start_time": "2022-01-24T18:26:27.512Z"
   },
   {
    "duration": 7,
    "start_time": "2022-01-24T18:26:27.570Z"
   },
   {
    "duration": 14,
    "start_time": "2022-01-24T18:26:27.580Z"
   },
   {
    "duration": 16,
    "start_time": "2022-01-24T18:26:27.596Z"
   },
   {
    "duration": 50,
    "start_time": "2022-01-24T18:26:27.615Z"
   },
   {
    "duration": 9,
    "start_time": "2022-01-24T18:26:27.668Z"
   },
   {
    "duration": 5691,
    "start_time": "2022-01-24T18:26:27.680Z"
   },
   {
    "duration": 19,
    "start_time": "2022-01-24T18:26:33.374Z"
   },
   {
    "duration": 28,
    "start_time": "2022-01-24T18:26:33.396Z"
   },
   {
    "duration": 43,
    "start_time": "2022-01-24T18:26:33.427Z"
   },
   {
    "duration": 25,
    "start_time": "2022-01-24T18:26:33.473Z"
   },
   {
    "duration": 12596,
    "start_time": "2022-01-24T18:26:33.501Z"
   },
   {
    "duration": -45,
    "start_time": "2022-01-24T18:26:46.146Z"
   },
   {
    "duration": -46,
    "start_time": "2022-01-24T18:26:46.149Z"
   },
   {
    "duration": 7703,
    "start_time": "2022-01-24T18:27:02.754Z"
   },
   {
    "duration": 903,
    "start_time": "2022-01-24T18:27:45.416Z"
   },
   {
    "duration": 1018,
    "start_time": "2022-01-24T18:27:59.431Z"
   },
   {
    "duration": 4931,
    "start_time": "2022-01-24T18:28:38.952Z"
   },
   {
    "duration": 3429,
    "start_time": "2022-01-24T18:28:57.327Z"
   },
   {
    "duration": 943,
    "start_time": "2022-01-24T18:29:10.270Z"
   },
   {
    "duration": 925,
    "start_time": "2022-01-24T18:29:14.075Z"
   },
   {
    "duration": 1023,
    "start_time": "2022-01-24T18:29:39.001Z"
   },
   {
    "duration": 922,
    "start_time": "2022-01-24T18:47:11.589Z"
   },
   {
    "duration": 29,
    "start_time": "2022-01-24T18:47:12.514Z"
   },
   {
    "duration": 33,
    "start_time": "2022-01-24T18:47:12.546Z"
   },
   {
    "duration": 10,
    "start_time": "2022-01-24T18:47:12.582Z"
   },
   {
    "duration": 18,
    "start_time": "2022-01-24T18:47:12.595Z"
   },
   {
    "duration": 53,
    "start_time": "2022-01-24T18:47:12.615Z"
   },
   {
    "duration": 39,
    "start_time": "2022-01-24T18:47:12.671Z"
   },
   {
    "duration": 6,
    "start_time": "2022-01-24T18:47:12.714Z"
   },
   {
    "duration": 47,
    "start_time": "2022-01-24T18:47:12.723Z"
   },
   {
    "duration": 40,
    "start_time": "2022-01-24T18:47:12.773Z"
   },
   {
    "duration": 6,
    "start_time": "2022-01-24T18:47:12.816Z"
   },
   {
    "duration": 10,
    "start_time": "2022-01-24T18:47:12.825Z"
   },
   {
    "duration": 16,
    "start_time": "2022-01-24T18:47:12.865Z"
   },
   {
    "duration": 21,
    "start_time": "2022-01-24T18:47:12.884Z"
   },
   {
    "duration": 25,
    "start_time": "2022-01-24T18:47:12.907Z"
   },
   {
    "duration": 51,
    "start_time": "2022-01-24T18:47:12.934Z"
   },
   {
    "duration": 6,
    "start_time": "2022-01-24T18:47:12.988Z"
   },
   {
    "duration": 8,
    "start_time": "2022-01-24T18:47:12.997Z"
   },
   {
    "duration": 11,
    "start_time": "2022-01-24T18:47:13.008Z"
   },
   {
    "duration": 44,
    "start_time": "2022-01-24T18:47:13.022Z"
   },
   {
    "duration": 22,
    "start_time": "2022-01-24T18:47:13.069Z"
   },
   {
    "duration": 7,
    "start_time": "2022-01-24T18:47:13.094Z"
   },
   {
    "duration": 6,
    "start_time": "2022-01-24T18:47:13.106Z"
   },
   {
    "duration": 53,
    "start_time": "2022-01-24T18:47:13.115Z"
   },
   {
    "duration": 20,
    "start_time": "2022-01-24T18:47:13.171Z"
   },
   {
    "duration": 7,
    "start_time": "2022-01-24T18:47:13.194Z"
   },
   {
    "duration": 11,
    "start_time": "2022-01-24T18:47:13.204Z"
   },
   {
    "duration": 4953,
    "start_time": "2022-01-24T18:47:13.218Z"
   },
   {
    "duration": 19,
    "start_time": "2022-01-24T18:47:18.174Z"
   },
   {
    "duration": 31,
    "start_time": "2022-01-24T18:47:18.196Z"
   },
   {
    "duration": 46,
    "start_time": "2022-01-24T18:47:18.230Z"
   },
   {
    "duration": 36,
    "start_time": "2022-01-24T18:47:18.279Z"
   },
   {
    "duration": 1200,
    "start_time": "2022-01-24T18:47:18.318Z"
   },
   {
    "duration": -37,
    "start_time": "2022-01-24T18:47:19.557Z"
   },
   {
    "duration": -40,
    "start_time": "2022-01-24T18:47:19.562Z"
   },
   {
    "duration": 102,
    "start_time": "2022-01-24T18:47:47.830Z"
   },
   {
    "duration": 285,
    "start_time": "2022-01-24T18:47:53.610Z"
   },
   {
    "duration": 328,
    "start_time": "2022-01-24T18:48:37.346Z"
   },
   {
    "duration": 213,
    "start_time": "2022-01-24T18:49:12.598Z"
   },
   {
    "duration": 857,
    "start_time": "2022-01-24T18:49:26.092Z"
   },
   {
    "duration": 278,
    "start_time": "2022-01-24T18:49:42.427Z"
   },
   {
    "duration": 5386,
    "start_time": "2022-01-24T18:49:59.812Z"
   },
   {
    "duration": 309,
    "start_time": "2022-01-24T18:50:18.730Z"
   },
   {
    "duration": 334,
    "start_time": "2022-01-24T18:52:02.304Z"
   },
   {
    "duration": 319,
    "start_time": "2022-01-24T18:53:05.960Z"
   },
   {
    "duration": 310,
    "start_time": "2022-01-24T18:53:09.078Z"
   },
   {
    "duration": 299,
    "start_time": "2022-01-24T18:53:12.234Z"
   },
   {
    "duration": 577,
    "start_time": "2022-01-24T18:53:15.494Z"
   },
   {
    "duration": 432,
    "start_time": "2022-01-24T18:53:18.871Z"
   },
   {
    "duration": 855,
    "start_time": "2022-01-24T18:54:16.655Z"
   },
   {
    "duration": 33,
    "start_time": "2022-01-24T18:54:17.514Z"
   },
   {
    "duration": 33,
    "start_time": "2022-01-24T18:54:17.550Z"
   },
   {
    "duration": 10,
    "start_time": "2022-01-24T18:54:17.585Z"
   },
   {
    "duration": 22,
    "start_time": "2022-01-24T18:54:17.597Z"
   },
   {
    "duration": 52,
    "start_time": "2022-01-24T18:54:17.621Z"
   },
   {
    "duration": 36,
    "start_time": "2022-01-24T18:54:17.675Z"
   },
   {
    "duration": 6,
    "start_time": "2022-01-24T18:54:17.715Z"
   },
   {
    "duration": 50,
    "start_time": "2022-01-24T18:54:17.724Z"
   },
   {
    "duration": 39,
    "start_time": "2022-01-24T18:54:17.776Z"
   },
   {
    "duration": 7,
    "start_time": "2022-01-24T18:54:17.818Z"
   },
   {
    "duration": 38,
    "start_time": "2022-01-24T18:54:17.827Z"
   },
   {
    "duration": 15,
    "start_time": "2022-01-24T18:54:17.867Z"
   },
   {
    "duration": 21,
    "start_time": "2022-01-24T18:54:17.884Z"
   },
   {
    "duration": 59,
    "start_time": "2022-01-24T18:54:17.908Z"
   },
   {
    "duration": 23,
    "start_time": "2022-01-24T18:54:17.969Z"
   },
   {
    "duration": 6,
    "start_time": "2022-01-24T18:54:17.995Z"
   },
   {
    "duration": 10,
    "start_time": "2022-01-24T18:54:18.004Z"
   },
   {
    "duration": 48,
    "start_time": "2022-01-24T18:54:18.017Z"
   },
   {
    "duration": 7,
    "start_time": "2022-01-24T18:54:18.068Z"
   },
   {
    "duration": 21,
    "start_time": "2022-01-24T18:54:18.078Z"
   },
   {
    "duration": 6,
    "start_time": "2022-01-24T18:54:18.102Z"
   },
   {
    "duration": 5,
    "start_time": "2022-01-24T18:54:18.113Z"
   },
   {
    "duration": 10,
    "start_time": "2022-01-24T18:54:18.166Z"
   },
   {
    "duration": 18,
    "start_time": "2022-01-24T18:54:18.178Z"
   },
   {
    "duration": 6,
    "start_time": "2022-01-24T18:54:18.199Z"
   },
   {
    "duration": 13,
    "start_time": "2022-01-24T18:54:18.207Z"
   },
   {
    "duration": 5133,
    "start_time": "2022-01-24T18:54:18.222Z"
   },
   {
    "duration": 19,
    "start_time": "2022-01-24T18:54:23.364Z"
   },
   {
    "duration": 46,
    "start_time": "2022-01-24T18:54:23.386Z"
   },
   {
    "duration": 38,
    "start_time": "2022-01-24T18:54:23.435Z"
   },
   {
    "duration": 6,
    "start_time": "2022-01-24T18:54:23.476Z"
   },
   {
    "duration": 191,
    "start_time": "2022-01-24T18:54:23.485Z"
   },
   {
    "duration": -27,
    "start_time": "2022-01-24T18:54:23.705Z"
   },
   {
    "duration": -27,
    "start_time": "2022-01-24T18:54:23.707Z"
   },
   {
    "duration": 685,
    "start_time": "2022-01-24T18:54:50.015Z"
   },
   {
    "duration": 533,
    "start_time": "2022-01-24T18:54:57.979Z"
   },
   {
    "duration": 155,
    "start_time": "2022-01-24T18:56:57.955Z"
   },
   {
    "duration": 287,
    "start_time": "2022-01-24T18:57:01.698Z"
   },
   {
    "duration": 296,
    "start_time": "2022-01-24T18:57:09.074Z"
   },
   {
    "duration": 404,
    "start_time": "2022-01-24T18:59:08.176Z"
   },
   {
    "duration": 517,
    "start_time": "2022-01-24T18:59:17.449Z"
   },
   {
    "duration": 838,
    "start_time": "2022-01-24T18:59:50.153Z"
   },
   {
    "duration": 29,
    "start_time": "2022-01-24T18:59:50.994Z"
   },
   {
    "duration": 20,
    "start_time": "2022-01-24T18:59:51.026Z"
   },
   {
    "duration": 9,
    "start_time": "2022-01-24T18:59:51.066Z"
   },
   {
    "duration": 29,
    "start_time": "2022-01-24T18:59:51.078Z"
   },
   {
    "duration": 14,
    "start_time": "2022-01-24T18:59:51.109Z"
   },
   {
    "duration": 66,
    "start_time": "2022-01-24T18:59:51.125Z"
   },
   {
    "duration": 5,
    "start_time": "2022-01-24T18:59:51.195Z"
   },
   {
    "duration": 25,
    "start_time": "2022-01-24T18:59:51.203Z"
   },
   {
    "duration": 58,
    "start_time": "2022-01-24T18:59:51.231Z"
   },
   {
    "duration": 7,
    "start_time": "2022-01-24T18:59:51.291Z"
   },
   {
    "duration": 21,
    "start_time": "2022-01-24T18:59:51.301Z"
   },
   {
    "duration": 15,
    "start_time": "2022-01-24T18:59:51.324Z"
   },
   {
    "duration": 33,
    "start_time": "2022-01-24T18:59:51.342Z"
   },
   {
    "duration": 23,
    "start_time": "2022-01-24T18:59:51.377Z"
   },
   {
    "duration": 19,
    "start_time": "2022-01-24T18:59:51.403Z"
   },
   {
    "duration": 4,
    "start_time": "2022-01-24T18:59:51.425Z"
   },
   {
    "duration": 43,
    "start_time": "2022-01-24T18:59:51.432Z"
   },
   {
    "duration": 14,
    "start_time": "2022-01-24T18:59:51.477Z"
   },
   {
    "duration": 8,
    "start_time": "2022-01-24T18:59:51.493Z"
   },
   {
    "duration": 23,
    "start_time": "2022-01-24T18:59:51.503Z"
   },
   {
    "duration": 38,
    "start_time": "2022-01-24T18:59:51.528Z"
   },
   {
    "duration": 6,
    "start_time": "2022-01-24T18:59:51.571Z"
   },
   {
    "duration": 19,
    "start_time": "2022-01-24T18:59:51.580Z"
   },
   {
    "duration": 21,
    "start_time": "2022-01-24T18:59:51.601Z"
   },
   {
    "duration": 6,
    "start_time": "2022-01-24T18:59:51.625Z"
   },
   {
    "duration": 7,
    "start_time": "2022-01-24T18:59:51.666Z"
   },
   {
    "duration": 5032,
    "start_time": "2022-01-24T18:59:51.676Z"
   },
   {
    "duration": 21,
    "start_time": "2022-01-24T18:59:56.711Z"
   },
   {
    "duration": 55,
    "start_time": "2022-01-24T18:59:56.735Z"
   },
   {
    "duration": 13,
    "start_time": "2022-01-24T18:59:56.793Z"
   },
   {
    "duration": 10,
    "start_time": "2022-01-24T18:59:56.809Z"
   },
   {
    "duration": 684,
    "start_time": "2022-01-24T18:59:56.821Z"
   },
   {
    "duration": 16,
    "start_time": "2022-01-24T18:59:57.507Z"
   },
   {
    "duration": 13,
    "start_time": "2022-01-24T18:59:57.526Z"
   },
   {
    "duration": 11,
    "start_time": "2022-01-24T19:00:09.573Z"
   },
   {
    "duration": 549,
    "start_time": "2022-01-24T19:01:32.348Z"
   },
   {
    "duration": 453,
    "start_time": "2022-01-24T19:01:35.473Z"
   },
   {
    "duration": 476,
    "start_time": "2022-01-24T19:01:37.902Z"
   },
   {
    "duration": 560,
    "start_time": "2022-01-24T19:01:45.857Z"
   },
   {
    "duration": 858,
    "start_time": "2022-01-24T19:07:38.749Z"
   },
   {
    "duration": 29,
    "start_time": "2022-01-24T19:07:39.610Z"
   },
   {
    "duration": 36,
    "start_time": "2022-01-24T19:07:39.642Z"
   },
   {
    "duration": 9,
    "start_time": "2022-01-24T19:07:39.681Z"
   },
   {
    "duration": 29,
    "start_time": "2022-01-24T19:07:39.693Z"
   },
   {
    "duration": 41,
    "start_time": "2022-01-24T19:07:39.725Z"
   },
   {
    "duration": 38,
    "start_time": "2022-01-24T19:07:39.769Z"
   },
   {
    "duration": 6,
    "start_time": "2022-01-24T19:07:39.810Z"
   },
   {
    "duration": 45,
    "start_time": "2022-01-24T19:07:39.819Z"
   },
   {
    "duration": 41,
    "start_time": "2022-01-24T19:07:39.867Z"
   },
   {
    "duration": 7,
    "start_time": "2022-01-24T19:07:39.910Z"
   },
   {
    "duration": 10,
    "start_time": "2022-01-24T19:07:39.919Z"
   },
   {
    "duration": 42,
    "start_time": "2022-01-24T19:07:39.932Z"
   },
   {
    "duration": 21,
    "start_time": "2022-01-24T19:07:39.977Z"
   },
   {
    "duration": 27,
    "start_time": "2022-01-24T19:07:40.001Z"
   },
   {
    "duration": 50,
    "start_time": "2022-01-24T19:07:40.031Z"
   },
   {
    "duration": 5,
    "start_time": "2022-01-24T19:07:40.084Z"
   },
   {
    "duration": 10,
    "start_time": "2022-01-24T19:07:40.092Z"
   },
   {
    "duration": 9,
    "start_time": "2022-01-24T19:07:40.104Z"
   },
   {
    "duration": 6,
    "start_time": "2022-01-24T19:07:40.116Z"
   },
   {
    "duration": 22,
    "start_time": "2022-01-24T19:07:40.166Z"
   },
   {
    "duration": 9,
    "start_time": "2022-01-24T19:07:40.190Z"
   },
   {
    "duration": 6,
    "start_time": "2022-01-24T19:07:40.204Z"
   },
   {
    "duration": 57,
    "start_time": "2022-01-24T19:07:40.213Z"
   },
   {
    "duration": 21,
    "start_time": "2022-01-24T19:07:40.273Z"
   },
   {
    "duration": 7,
    "start_time": "2022-01-24T19:07:40.297Z"
   },
   {
    "duration": 10,
    "start_time": "2022-01-24T19:07:40.306Z"
   },
   {
    "duration": 4876,
    "start_time": "2022-01-24T19:07:40.319Z"
   },
   {
    "duration": 21,
    "start_time": "2022-01-24T19:07:45.198Z"
   },
   {
    "duration": 51,
    "start_time": "2022-01-24T19:07:45.221Z"
   },
   {
    "duration": 14,
    "start_time": "2022-01-24T19:07:45.275Z"
   },
   {
    "duration": 6,
    "start_time": "2022-01-24T19:07:45.291Z"
   },
   {
    "duration": 798,
    "start_time": "2022-01-24T19:09:05.485Z"
   },
   {
    "duration": 29,
    "start_time": "2022-01-24T19:09:06.286Z"
   },
   {
    "duration": 20,
    "start_time": "2022-01-24T19:09:06.318Z"
   },
   {
    "duration": 30,
    "start_time": "2022-01-24T19:09:06.341Z"
   },
   {
    "duration": 18,
    "start_time": "2022-01-24T19:09:06.373Z"
   },
   {
    "duration": 16,
    "start_time": "2022-01-24T19:09:06.393Z"
   },
   {
    "duration": 83,
    "start_time": "2022-01-24T19:09:06.412Z"
   },
   {
    "duration": 6,
    "start_time": "2022-01-24T19:09:06.499Z"
   },
   {
    "duration": 16,
    "start_time": "2022-01-24T19:09:06.508Z"
   },
   {
    "duration": 65,
    "start_time": "2022-01-24T19:09:06.526Z"
   },
   {
    "duration": 6,
    "start_time": "2022-01-24T19:09:06.594Z"
   },
   {
    "duration": 8,
    "start_time": "2022-01-24T19:09:06.603Z"
   },
   {
    "duration": 14,
    "start_time": "2022-01-24T19:09:06.613Z"
   },
   {
    "duration": 53,
    "start_time": "2022-01-24T19:09:06.630Z"
   },
   {
    "duration": 24,
    "start_time": "2022-01-24T19:09:06.685Z"
   },
   {
    "duration": 21,
    "start_time": "2022-01-24T19:09:06.711Z"
   },
   {
    "duration": 33,
    "start_time": "2022-01-24T19:09:06.734Z"
   },
   {
    "duration": 23,
    "start_time": "2022-01-24T19:09:06.770Z"
   },
   {
    "duration": 17,
    "start_time": "2022-01-24T19:09:06.796Z"
   },
   {
    "duration": 11,
    "start_time": "2022-01-24T19:09:06.816Z"
   },
   {
    "duration": 35,
    "start_time": "2022-01-24T19:09:06.829Z"
   },
   {
    "duration": 6,
    "start_time": "2022-01-24T19:09:06.867Z"
   },
   {
    "duration": 7,
    "start_time": "2022-01-24T19:09:06.878Z"
   },
   {
    "duration": 16,
    "start_time": "2022-01-24T19:09:06.887Z"
   },
   {
    "duration": 16,
    "start_time": "2022-01-24T19:09:06.905Z"
   },
   {
    "duration": 44,
    "start_time": "2022-01-24T19:09:06.923Z"
   },
   {
    "duration": 8,
    "start_time": "2022-01-24T19:09:06.971Z"
   },
   {
    "duration": 4938,
    "start_time": "2022-01-24T19:09:06.982Z"
   },
   {
    "duration": 20,
    "start_time": "2022-01-24T19:09:11.923Z"
   },
   {
    "duration": 42,
    "start_time": "2022-01-24T19:09:11.945Z"
   },
   {
    "duration": 14,
    "start_time": "2022-01-24T19:09:11.990Z"
   },
   {
    "duration": 5,
    "start_time": "2022-01-24T19:09:12.006Z"
   },
   {
    "duration": 421,
    "start_time": "2022-01-24T19:09:12.013Z"
   },
   {
    "duration": 35,
    "start_time": "2022-01-24T19:09:12.438Z"
   },
   {
    "duration": 12,
    "start_time": "2022-01-24T19:09:12.476Z"
   },
   {
    "duration": 336,
    "start_time": "2022-01-24T19:12:02.936Z"
   },
   {
    "duration": 259,
    "start_time": "2022-01-24T19:12:17.730Z"
   },
   {
    "duration": 287,
    "start_time": "2022-01-24T19:12:21.868Z"
   },
   {
    "duration": 353,
    "start_time": "2022-01-24T19:12:25.137Z"
   },
   {
    "duration": 102,
    "start_time": "2022-01-24T19:13:00.736Z"
   },
   {
    "duration": 10,
    "start_time": "2022-01-24T19:13:07.046Z"
   },
   {
    "duration": 262,
    "start_time": "2022-01-24T19:13:08.956Z"
   },
   {
    "duration": 273,
    "start_time": "2022-01-24T19:13:14.002Z"
   },
   {
    "duration": 8,
    "start_time": "2022-01-24T19:13:27.846Z"
   },
   {
    "duration": 366,
    "start_time": "2022-01-24T19:13:29.072Z"
   },
   {
    "duration": 7,
    "start_time": "2022-01-24T19:13:36.772Z"
   },
   {
    "duration": 296,
    "start_time": "2022-01-24T19:13:37.911Z"
   },
   {
    "duration": 308,
    "start_time": "2022-01-24T19:13:40.476Z"
   },
   {
    "duration": 1582,
    "start_time": "2022-01-24T19:14:08.892Z"
   },
   {
    "duration": 8,
    "start_time": "2022-01-24T19:14:51.756Z"
   },
   {
    "duration": 291,
    "start_time": "2022-01-24T19:14:52.875Z"
   },
   {
    "duration": 478,
    "start_time": "2022-01-24T19:14:58.811Z"
   },
   {
    "duration": 308,
    "start_time": "2022-01-24T19:15:09.091Z"
   },
   {
    "duration": 305,
    "start_time": "2022-01-24T19:15:11.586Z"
   },
   {
    "duration": 262,
    "start_time": "2022-01-24T19:15:25.579Z"
   },
   {
    "duration": 278,
    "start_time": "2022-01-24T19:15:27.889Z"
   },
   {
    "duration": 307,
    "start_time": "2022-01-24T19:15:57.791Z"
   },
   {
    "duration": 317,
    "start_time": "2022-01-24T19:16:02.043Z"
   },
   {
    "duration": 446,
    "start_time": "2022-01-24T19:16:04.712Z"
   },
   {
    "duration": 818,
    "start_time": "2022-01-24T19:18:21.809Z"
   },
   {
    "duration": 754,
    "start_time": "2022-01-24T19:20:32.396Z"
   },
   {
    "duration": 816,
    "start_time": "2022-01-24T19:20:36.626Z"
   },
   {
    "duration": 842,
    "start_time": "2022-01-24T19:20:41.408Z"
   },
   {
    "duration": 944,
    "start_time": "2022-01-24T19:20:47.755Z"
   },
   {
    "duration": 791,
    "start_time": "2022-01-24T19:20:58.553Z"
   },
   {
    "duration": 964,
    "start_time": "2022-01-24T19:25:46.800Z"
   },
   {
    "duration": 578,
    "start_time": "2022-01-24T19:27:42.967Z"
   },
   {
    "duration": 412,
    "start_time": "2022-01-24T19:27:54.100Z"
   },
   {
    "duration": 316,
    "start_time": "2022-01-24T19:29:03.648Z"
   },
   {
    "duration": 279,
    "start_time": "2022-01-24T19:29:47.318Z"
   },
   {
    "duration": 29,
    "start_time": "2022-01-24T19:30:32.861Z"
   },
   {
    "duration": 3,
    "start_time": "2022-01-24T19:31:08.701Z"
   },
   {
    "duration": 16,
    "start_time": "2022-01-24T19:31:21.013Z"
   },
   {
    "duration": 802,
    "start_time": "2022-01-24T19:39:45.307Z"
   },
   {
    "duration": 28,
    "start_time": "2022-01-24T19:39:46.112Z"
   },
   {
    "duration": 35,
    "start_time": "2022-01-24T19:39:46.143Z"
   },
   {
    "duration": 11,
    "start_time": "2022-01-24T19:39:46.181Z"
   },
   {
    "duration": 19,
    "start_time": "2022-01-24T19:39:46.194Z"
   },
   {
    "duration": 4,
    "start_time": "2022-01-24T19:39:46.215Z"
   },
   {
    "duration": 64,
    "start_time": "2022-01-24T19:39:46.221Z"
   },
   {
    "duration": 6,
    "start_time": "2022-01-24T19:39:46.288Z"
   },
   {
    "duration": 19,
    "start_time": "2022-01-24T19:39:46.298Z"
   },
   {
    "duration": 79,
    "start_time": "2022-01-24T19:39:46.320Z"
   },
   {
    "duration": 400,
    "start_time": "2022-01-24T19:39:46.401Z"
   },
   {
    "duration": -28,
    "start_time": "2022-01-24T19:39:46.833Z"
   },
   {
    "duration": -29,
    "start_time": "2022-01-24T19:39:46.836Z"
   },
   {
    "duration": -29,
    "start_time": "2022-01-24T19:39:46.838Z"
   },
   {
    "duration": -35,
    "start_time": "2022-01-24T19:39:46.846Z"
   },
   {
    "duration": -34,
    "start_time": "2022-01-24T19:39:46.848Z"
   },
   {
    "duration": -34,
    "start_time": "2022-01-24T19:39:46.851Z"
   },
   {
    "duration": -34,
    "start_time": "2022-01-24T19:39:46.853Z"
   },
   {
    "duration": -35,
    "start_time": "2022-01-24T19:39:46.855Z"
   },
   {
    "duration": -39,
    "start_time": "2022-01-24T19:39:46.861Z"
   },
   {
    "duration": -40,
    "start_time": "2022-01-24T19:39:46.864Z"
   },
   {
    "duration": -40,
    "start_time": "2022-01-24T19:39:46.866Z"
   },
   {
    "duration": -40,
    "start_time": "2022-01-24T19:39:46.868Z"
   },
   {
    "duration": -41,
    "start_time": "2022-01-24T19:39:46.870Z"
   },
   {
    "duration": -43,
    "start_time": "2022-01-24T19:39:46.873Z"
   },
   {
    "duration": -48,
    "start_time": "2022-01-24T19:39:46.880Z"
   },
   {
    "duration": -50,
    "start_time": "2022-01-24T19:39:46.883Z"
   },
   {
    "duration": -51,
    "start_time": "2022-01-24T19:39:46.886Z"
   },
   {
    "duration": -52,
    "start_time": "2022-01-24T19:39:46.888Z"
   },
   {
    "duration": -30,
    "start_time": "2022-01-24T19:39:46.894Z"
   },
   {
    "duration": -32,
    "start_time": "2022-01-24T19:39:46.898Z"
   },
   {
    "duration": -32,
    "start_time": "2022-01-24T19:39:46.900Z"
   },
   {
    "duration": -32,
    "start_time": "2022-01-24T19:39:46.902Z"
   },
   {
    "duration": -32,
    "start_time": "2022-01-24T19:39:46.904Z"
   },
   {
    "duration": 9,
    "start_time": "2022-01-24T19:40:16.313Z"
   },
   {
    "duration": 9,
    "start_time": "2022-01-24T19:40:21.792Z"
   },
   {
    "duration": 20,
    "start_time": "2022-01-24T19:44:53.276Z"
   },
   {
    "duration": 791,
    "start_time": "2022-01-24T19:45:08.522Z"
   },
   {
    "duration": 29,
    "start_time": "2022-01-24T19:45:09.317Z"
   },
   {
    "duration": 20,
    "start_time": "2022-01-24T19:45:09.364Z"
   },
   {
    "duration": 10,
    "start_time": "2022-01-24T19:45:09.387Z"
   },
   {
    "duration": 18,
    "start_time": "2022-01-24T19:45:09.400Z"
   },
   {
    "duration": 59,
    "start_time": "2022-01-24T19:45:09.421Z"
   },
   {
    "duration": 3,
    "start_time": "2022-01-24T19:45:09.483Z"
   },
   {
    "duration": 26,
    "start_time": "2022-01-24T19:45:09.490Z"
   },
   {
    "duration": 6,
    "start_time": "2022-01-24T19:45:09.519Z"
   },
   {
    "duration": 46,
    "start_time": "2022-01-24T19:45:09.528Z"
   },
   {
    "duration": 42,
    "start_time": "2022-01-24T19:45:09.577Z"
   },
   {
    "duration": 374,
    "start_time": "2022-01-24T19:45:09.622Z"
   },
   {
    "duration": -36,
    "start_time": "2022-01-24T19:45:10.036Z"
   },
   {
    "duration": -41,
    "start_time": "2022-01-24T19:45:10.042Z"
   },
   {
    "duration": -41,
    "start_time": "2022-01-24T19:45:10.044Z"
   },
   {
    "duration": -42,
    "start_time": "2022-01-24T19:45:10.046Z"
   },
   {
    "duration": -43,
    "start_time": "2022-01-24T19:45:10.049Z"
   },
   {
    "duration": -43,
    "start_time": "2022-01-24T19:45:10.050Z"
   },
   {
    "duration": -44,
    "start_time": "2022-01-24T19:45:10.052Z"
   },
   {
    "duration": -44,
    "start_time": "2022-01-24T19:45:10.054Z"
   },
   {
    "duration": -45,
    "start_time": "2022-01-24T19:45:10.056Z"
   },
   {
    "duration": -46,
    "start_time": "2022-01-24T19:45:10.058Z"
   },
   {
    "duration": -52,
    "start_time": "2022-01-24T19:45:10.065Z"
   },
   {
    "duration": -52,
    "start_time": "2022-01-24T19:45:10.067Z"
   },
   {
    "duration": -56,
    "start_time": "2022-01-24T19:45:10.072Z"
   },
   {
    "duration": -57,
    "start_time": "2022-01-24T19:45:10.074Z"
   },
   {
    "duration": -57,
    "start_time": "2022-01-24T19:45:10.076Z"
   },
   {
    "duration": -58,
    "start_time": "2022-01-24T19:45:10.078Z"
   },
   {
    "duration": -59,
    "start_time": "2022-01-24T19:45:10.081Z"
   },
   {
    "duration": -63,
    "start_time": "2022-01-24T19:45:10.086Z"
   },
   {
    "duration": -63,
    "start_time": "2022-01-24T19:45:10.088Z"
   },
   {
    "duration": -65,
    "start_time": "2022-01-24T19:45:10.091Z"
   },
   {
    "duration": -66,
    "start_time": "2022-01-24T19:45:10.093Z"
   },
   {
    "duration": -67,
    "start_time": "2022-01-24T19:45:10.095Z"
   },
   {
    "duration": -71,
    "start_time": "2022-01-24T19:45:10.101Z"
   },
   {
    "duration": 7,
    "start_time": "2022-01-24T19:49:24.999Z"
   },
   {
    "duration": 19,
    "start_time": "2022-01-24T19:50:36.264Z"
   },
   {
    "duration": 15,
    "start_time": "2022-01-24T19:51:00.678Z"
   },
   {
    "duration": -19,
    "start_time": "2022-01-24T19:52:02.931Z"
   },
   {
    "duration": 324,
    "start_time": "2022-01-24T19:53:29.164Z"
   },
   {
    "duration": 902,
    "start_time": "2022-01-24T19:53:48.501Z"
   },
   {
    "duration": 29,
    "start_time": "2022-01-24T19:53:49.406Z"
   },
   {
    "duration": 33,
    "start_time": "2022-01-24T19:53:49.438Z"
   },
   {
    "duration": 10,
    "start_time": "2022-01-24T19:53:49.474Z"
   },
   {
    "duration": 29,
    "start_time": "2022-01-24T19:53:49.486Z"
   },
   {
    "duration": 52,
    "start_time": "2022-01-24T19:53:49.518Z"
   },
   {
    "duration": 6,
    "start_time": "2022-01-24T19:53:49.573Z"
   },
   {
    "duration": 18,
    "start_time": "2022-01-24T19:53:49.583Z"
   },
   {
    "duration": 84,
    "start_time": "2022-01-24T19:53:49.605Z"
   },
   {
    "duration": 8,
    "start_time": "2022-01-24T19:53:49.692Z"
   },
   {
    "duration": 1246,
    "start_time": "2022-01-24T19:53:49.704Z"
   },
   {
    "duration": -45,
    "start_time": "2022-01-24T19:53:50.999Z"
   },
   {
    "duration": -50,
    "start_time": "2022-01-24T19:53:51.005Z"
   },
   {
    "duration": -51,
    "start_time": "2022-01-24T19:53:51.008Z"
   },
   {
    "duration": -52,
    "start_time": "2022-01-24T19:53:51.010Z"
   },
   {
    "duration": -52,
    "start_time": "2022-01-24T19:53:51.012Z"
   },
   {
    "duration": -52,
    "start_time": "2022-01-24T19:53:51.014Z"
   },
   {
    "duration": -66,
    "start_time": "2022-01-24T19:53:51.029Z"
   },
   {
    "duration": -67,
    "start_time": "2022-01-24T19:53:51.032Z"
   },
   {
    "duration": -72,
    "start_time": "2022-01-24T19:53:51.038Z"
   },
   {
    "duration": -72,
    "start_time": "2022-01-24T19:53:51.040Z"
   },
   {
    "duration": -73,
    "start_time": "2022-01-24T19:53:51.042Z"
   },
   {
    "duration": -75,
    "start_time": "2022-01-24T19:53:51.046Z"
   },
   {
    "duration": -75,
    "start_time": "2022-01-24T19:53:51.048Z"
   },
   {
    "duration": -76,
    "start_time": "2022-01-24T19:53:51.050Z"
   },
   {
    "duration": -81,
    "start_time": "2022-01-24T19:53:51.057Z"
   },
   {
    "duration": -83,
    "start_time": "2022-01-24T19:53:51.061Z"
   },
   {
    "duration": -84,
    "start_time": "2022-01-24T19:53:51.064Z"
   },
   {
    "duration": -85,
    "start_time": "2022-01-24T19:53:51.066Z"
   },
   {
    "duration": -91,
    "start_time": "2022-01-24T19:53:51.074Z"
   },
   {
    "duration": -92,
    "start_time": "2022-01-24T19:53:51.076Z"
   },
   {
    "duration": -93,
    "start_time": "2022-01-24T19:53:51.079Z"
   },
   {
    "duration": -94,
    "start_time": "2022-01-24T19:53:51.081Z"
   },
   {
    "duration": 6,
    "start_time": "2022-01-24T19:54:56.091Z"
   },
   {
    "duration": 607,
    "start_time": "2022-01-24T20:04:21.192Z"
   },
   {
    "duration": 810,
    "start_time": "2022-01-24T20:04:43.465Z"
   },
   {
    "duration": 28,
    "start_time": "2022-01-24T20:04:44.278Z"
   },
   {
    "duration": 22,
    "start_time": "2022-01-24T20:04:44.309Z"
   },
   {
    "duration": 32,
    "start_time": "2022-01-24T20:04:44.334Z"
   },
   {
    "duration": 18,
    "start_time": "2022-01-24T20:04:44.369Z"
   },
   {
    "duration": 25,
    "start_time": "2022-01-24T20:04:44.390Z"
   },
   {
    "duration": 5,
    "start_time": "2022-01-24T20:04:44.418Z"
   },
   {
    "duration": 50,
    "start_time": "2022-01-24T20:04:44.428Z"
   },
   {
    "duration": 42,
    "start_time": "2022-01-24T20:04:44.481Z"
   },
   {
    "duration": 8,
    "start_time": "2022-01-24T20:04:44.525Z"
   },
   {
    "duration": 33,
    "start_time": "2022-01-24T20:04:44.536Z"
   },
   {
    "duration": 21,
    "start_time": "2022-01-24T20:04:44.572Z"
   },
   {
    "duration": 29,
    "start_time": "2022-01-24T20:04:44.596Z"
   },
   {
    "duration": 62,
    "start_time": "2022-01-24T20:04:44.627Z"
   },
   {
    "duration": 26,
    "start_time": "2022-01-24T20:04:44.692Z"
   },
   {
    "duration": 7,
    "start_time": "2022-01-24T20:04:44.720Z"
   },
   {
    "duration": 45,
    "start_time": "2022-01-24T20:04:44.729Z"
   },
   {
    "duration": 9,
    "start_time": "2022-01-24T20:04:44.776Z"
   },
   {
    "duration": 8,
    "start_time": "2022-01-24T20:04:44.788Z"
   },
   {
    "duration": 31,
    "start_time": "2022-01-24T20:04:44.798Z"
   },
   {
    "duration": 35,
    "start_time": "2022-01-24T20:04:44.832Z"
   },
   {
    "duration": 5,
    "start_time": "2022-01-24T20:04:44.870Z"
   },
   {
    "duration": 10,
    "start_time": "2022-01-24T20:04:44.879Z"
   },
   {
    "duration": 15,
    "start_time": "2022-01-24T20:04:44.892Z"
   },
   {
    "duration": 6,
    "start_time": "2022-01-24T20:04:44.909Z"
   },
   {
    "duration": 48,
    "start_time": "2022-01-24T20:04:44.917Z"
   },
   {
    "duration": 4874,
    "start_time": "2022-01-24T20:04:44.967Z"
   },
   {
    "duration": 42,
    "start_time": "2022-01-24T20:04:49.845Z"
   },
   {
    "duration": 107,
    "start_time": "2022-01-24T20:04:49.891Z"
   },
   {
    "duration": 554,
    "start_time": "2022-01-24T20:04:50.001Z"
   },
   {
    "duration": 28,
    "start_time": "2022-01-24T20:04:50.565Z"
   },
   {
    "duration": 13,
    "start_time": "2022-01-24T20:04:50.596Z"
   },
   {
    "duration": 12,
    "start_time": "2022-01-24T20:04:50.611Z"
   },
   {
    "duration": 385,
    "start_time": "2022-01-24T20:05:22.650Z"
   },
   {
    "duration": 10,
    "start_time": "2022-01-24T20:05:25.692Z"
   },
   {
    "duration": 386,
    "start_time": "2022-01-24T20:05:27.415Z"
   },
   {
    "duration": 816,
    "start_time": "2022-01-24T20:05:33.828Z"
   },
   {
    "duration": 29,
    "start_time": "2022-01-24T20:05:34.647Z"
   },
   {
    "duration": 20,
    "start_time": "2022-01-24T20:05:34.678Z"
   },
   {
    "duration": 8,
    "start_time": "2022-01-24T20:05:34.701Z"
   },
   {
    "duration": 7,
    "start_time": "2022-01-24T20:05:34.712Z"
   },
   {
    "duration": 57,
    "start_time": "2022-01-24T20:05:34.721Z"
   },
   {
    "duration": 8,
    "start_time": "2022-01-24T20:05:34.780Z"
   },
   {
    "duration": 18,
    "start_time": "2022-01-24T20:05:34.794Z"
   },
   {
    "duration": 85,
    "start_time": "2022-01-24T20:05:34.816Z"
   },
   {
    "duration": 8,
    "start_time": "2022-01-24T20:05:34.905Z"
   },
   {
    "duration": 8,
    "start_time": "2022-01-24T20:05:34.916Z"
   },
   {
    "duration": 43,
    "start_time": "2022-01-24T20:05:34.927Z"
   },
   {
    "duration": 30,
    "start_time": "2022-01-24T20:05:34.974Z"
   },
   {
    "duration": 63,
    "start_time": "2022-01-24T20:05:35.007Z"
   },
   {
    "duration": 32,
    "start_time": "2022-01-24T20:05:35.073Z"
   },
   {
    "duration": 7,
    "start_time": "2022-01-24T20:05:35.109Z"
   },
   {
    "duration": 9,
    "start_time": "2022-01-24T20:05:35.119Z"
   },
   {
    "duration": 13,
    "start_time": "2022-01-24T20:05:35.164Z"
   },
   {
    "duration": 9,
    "start_time": "2022-01-24T20:05:35.180Z"
   },
   {
    "duration": 23,
    "start_time": "2022-01-24T20:05:35.192Z"
   },
   {
    "duration": 7,
    "start_time": "2022-01-24T20:05:35.218Z"
   },
   {
    "duration": 42,
    "start_time": "2022-01-24T20:05:35.227Z"
   },
   {
    "duration": 13,
    "start_time": "2022-01-24T20:05:35.274Z"
   },
   {
    "duration": 20,
    "start_time": "2022-01-24T20:05:35.290Z"
   },
   {
    "duration": 8,
    "start_time": "2022-01-24T20:05:35.313Z"
   },
   {
    "duration": 10,
    "start_time": "2022-01-24T20:05:35.365Z"
   },
   {
    "duration": 5737,
    "start_time": "2022-01-24T20:05:35.379Z"
   },
   {
    "duration": 24,
    "start_time": "2022-01-24T20:05:41.119Z"
   },
   {
    "duration": 30,
    "start_time": "2022-01-24T20:05:41.145Z"
   },
   {
    "duration": 402,
    "start_time": "2022-01-24T20:05:41.177Z"
   },
   {
    "duration": 30,
    "start_time": "2022-01-24T20:05:41.581Z"
   },
   {
    "duration": 53,
    "start_time": "2022-01-24T20:05:41.613Z"
   },
   {
    "duration": 12,
    "start_time": "2022-01-24T20:05:41.669Z"
   },
   {
    "duration": 327,
    "start_time": "2022-01-25T07:26:50.098Z"
   },
   {
    "duration": 726,
    "start_time": "2022-01-25T07:26:59.771Z"
   },
   {
    "duration": 21,
    "start_time": "2022-01-25T07:27:00.500Z"
   },
   {
    "duration": 23,
    "start_time": "2022-01-25T07:27:00.524Z"
   },
   {
    "duration": 10,
    "start_time": "2022-01-25T07:27:00.549Z"
   },
   {
    "duration": 50,
    "start_time": "2022-01-25T07:27:00.562Z"
   },
   {
    "duration": 5,
    "start_time": "2022-01-25T07:27:00.614Z"
   },
   {
    "duration": 27,
    "start_time": "2022-01-25T07:27:00.621Z"
   },
   {
    "duration": 35,
    "start_time": "2022-01-25T07:27:00.652Z"
   },
   {
    "duration": 19,
    "start_time": "2022-01-25T07:27:00.690Z"
   },
   {
    "duration": 13,
    "start_time": "2022-01-25T07:27:00.711Z"
   },
   {
    "duration": 19,
    "start_time": "2022-01-25T07:27:00.726Z"
   },
   {
    "duration": 24,
    "start_time": "2022-01-25T07:27:00.747Z"
   },
   {
    "duration": 48,
    "start_time": "2022-01-25T07:27:00.774Z"
   },
   {
    "duration": 24,
    "start_time": "2022-01-25T07:27:00.824Z"
   },
   {
    "duration": 6,
    "start_time": "2022-01-25T07:27:00.850Z"
   },
   {
    "duration": 20,
    "start_time": "2022-01-25T07:27:00.857Z"
   },
   {
    "duration": 28,
    "start_time": "2022-01-25T07:27:00.879Z"
   },
   {
    "duration": 18,
    "start_time": "2022-01-25T07:27:00.909Z"
   },
   {
    "duration": 24,
    "start_time": "2022-01-25T07:27:00.929Z"
   },
   {
    "duration": 27,
    "start_time": "2022-01-25T07:27:00.955Z"
   },
   {
    "duration": 35,
    "start_time": "2022-01-25T07:27:00.984Z"
   },
   {
    "duration": 22,
    "start_time": "2022-01-25T07:27:01.021Z"
   },
   {
    "duration": 45,
    "start_time": "2022-01-25T07:27:01.047Z"
   },
   {
    "duration": 15,
    "start_time": "2022-01-25T07:27:01.094Z"
   },
   {
    "duration": 39,
    "start_time": "2022-01-25T07:27:01.111Z"
   },
   {
    "duration": 4471,
    "start_time": "2022-01-25T07:27:01.152Z"
   },
   {
    "duration": 19,
    "start_time": "2022-01-25T07:27:05.625Z"
   },
   {
    "duration": 12,
    "start_time": "2022-01-25T07:27:05.646Z"
   },
   {
    "duration": 306,
    "start_time": "2022-01-25T07:27:05.660Z"
   },
   {
    "duration": 22,
    "start_time": "2022-01-25T07:27:05.968Z"
   },
   {
    "duration": 11,
    "start_time": "2022-01-25T07:27:06.008Z"
   },
   {
    "duration": 29,
    "start_time": "2022-01-25T07:27:06.021Z"
   },
   {
    "duration": 329,
    "start_time": "2022-01-25T16:26:54.832Z"
   },
   {
    "duration": 7,
    "start_time": "2022-01-25T16:26:59.186Z"
   },
   {
    "duration": 742,
    "start_time": "2022-01-25T16:28:14.973Z"
   },
   {
    "duration": 765,
    "start_time": "2022-01-25T16:29:14.519Z"
   },
   {
    "duration": 754,
    "start_time": "2022-01-25T16:29:26.521Z"
   },
   {
    "duration": 1163,
    "start_time": "2022-01-25T16:30:16.086Z"
   },
   {
    "duration": 727,
    "start_time": "2022-01-25T16:30:43.447Z"
   },
   {
    "duration": 731,
    "start_time": "2022-01-25T16:31:02.968Z"
   },
   {
    "duration": 234,
    "start_time": "2022-01-25T16:33:12.826Z"
   },
   {
    "duration": 240,
    "start_time": "2022-01-25T16:33:34.320Z"
   },
   {
    "duration": 245,
    "start_time": "2022-01-25T16:34:18.510Z"
   },
   {
    "duration": 125,
    "start_time": "2022-01-25T16:34:39.218Z"
   },
   {
    "duration": 296,
    "start_time": "2022-01-25T16:34:41.774Z"
   },
   {
    "duration": 740,
    "start_time": "2022-01-25T16:35:22.341Z"
   },
   {
    "duration": 28,
    "start_time": "2022-01-25T16:41:47.385Z"
   },
   {
    "duration": 253,
    "start_time": "2022-01-25T16:43:28.973Z"
   },
   {
    "duration": 1155,
    "start_time": "2022-01-25T16:44:01.840Z"
   },
   {
    "duration": 15,
    "start_time": "2022-01-25T16:44:18.930Z"
   },
   {
    "duration": 100,
    "start_time": "2022-01-25T16:44:48.940Z"
   },
   {
    "duration": 80,
    "start_time": "2022-01-25T16:44:52.194Z"
   },
   {
    "duration": 16,
    "start_time": "2022-01-25T16:44:58.794Z"
   },
   {
    "duration": 18,
    "start_time": "2022-01-25T16:45:05.117Z"
   },
   {
    "duration": 237,
    "start_time": "2022-01-25T16:45:44.931Z"
   },
   {
    "duration": 714,
    "start_time": "2022-01-25T16:46:11.008Z"
   },
   {
    "duration": 230,
    "start_time": "2022-01-25T16:46:14.037Z"
   },
   {
    "duration": 18,
    "start_time": "2022-01-25T16:47:06.043Z"
   },
   {
    "duration": 21,
    "start_time": "2022-01-25T16:47:29.945Z"
   },
   {
    "duration": 30,
    "start_time": "2022-01-25T16:47:33.945Z"
   },
   {
    "duration": 18,
    "start_time": "2022-01-25T16:47:50.066Z"
   },
   {
    "duration": 80,
    "start_time": "2022-01-25T16:49:03.546Z"
   },
   {
    "duration": 4720,
    "start_time": "2022-01-25T16:50:30.091Z"
   },
   {
    "duration": 3514,
    "start_time": "2022-01-25T16:50:49.270Z"
   },
   {
    "duration": 24,
    "start_time": "2022-01-25T16:52:41.998Z"
   },
   {
    "duration": 323,
    "start_time": "2022-01-25T16:53:26.793Z"
   },
   {
    "duration": 469,
    "start_time": "2022-01-25T16:54:59.953Z"
   },
   {
    "duration": 77,
    "start_time": "2022-01-25T16:55:12.012Z"
   },
   {
    "duration": 406,
    "start_time": "2022-01-25T16:55:24.075Z"
   },
   {
    "duration": 89,
    "start_time": "2022-01-25T16:56:21.775Z"
   },
   {
    "duration": 6,
    "start_time": "2022-01-25T16:56:27.111Z"
   },
   {
    "duration": 11,
    "start_time": "2022-01-25T16:57:41.352Z"
   },
   {
    "duration": 704,
    "start_time": "2022-01-25T16:58:14.524Z"
   },
   {
    "duration": 22,
    "start_time": "2022-01-25T16:58:15.232Z"
   },
   {
    "duration": 16,
    "start_time": "2022-01-25T16:58:15.256Z"
   },
   {
    "duration": 36,
    "start_time": "2022-01-25T16:58:15.274Z"
   },
   {
    "duration": 19,
    "start_time": "2022-01-25T16:58:15.312Z"
   },
   {
    "duration": 5,
    "start_time": "2022-01-25T16:58:15.332Z"
   },
   {
    "duration": 21,
    "start_time": "2022-01-25T16:58:15.340Z"
   },
   {
    "duration": 53,
    "start_time": "2022-01-25T16:58:15.363Z"
   },
   {
    "duration": 5,
    "start_time": "2022-01-25T16:58:15.418Z"
   },
   {
    "duration": 11,
    "start_time": "2022-01-25T16:58:15.425Z"
   },
   {
    "duration": 25,
    "start_time": "2022-01-25T16:58:15.437Z"
   },
   {
    "duration": 21,
    "start_time": "2022-01-25T16:58:15.464Z"
   },
   {
    "duration": 39,
    "start_time": "2022-01-25T16:58:15.487Z"
   },
   {
    "duration": 22,
    "start_time": "2022-01-25T16:58:15.528Z"
   },
   {
    "duration": 4,
    "start_time": "2022-01-25T16:58:15.552Z"
   },
   {
    "duration": 21,
    "start_time": "2022-01-25T16:58:15.558Z"
   },
   {
    "duration": 26,
    "start_time": "2022-01-25T16:58:15.581Z"
   },
   {
    "duration": 8,
    "start_time": "2022-01-25T16:58:15.609Z"
   },
   {
    "duration": 23,
    "start_time": "2022-01-25T16:58:15.619Z"
   },
   {
    "duration": 9,
    "start_time": "2022-01-25T16:58:15.644Z"
   },
   {
    "duration": 10,
    "start_time": "2022-01-25T16:58:15.655Z"
   },
   {
    "duration": 12,
    "start_time": "2022-01-25T16:58:15.669Z"
   },
   {
    "duration": 31,
    "start_time": "2022-01-25T16:58:15.683Z"
   },
   {
    "duration": 10,
    "start_time": "2022-01-25T16:58:15.716Z"
   },
   {
    "duration": 8,
    "start_time": "2022-01-25T16:58:15.728Z"
   },
   {
    "duration": 7,
    "start_time": "2022-01-25T16:58:15.738Z"
   },
   {
    "duration": 20,
    "start_time": "2022-01-25T16:58:15.747Z"
   },
   {
    "duration": 38,
    "start_time": "2022-01-25T16:58:15.769Z"
   },
   {
    "duration": 14,
    "start_time": "2022-01-25T16:58:15.809Z"
   },
   {
    "duration": 18,
    "start_time": "2022-01-25T16:58:15.825Z"
   },
   {
    "duration": 284,
    "start_time": "2022-01-25T16:58:15.845Z"
   },
   {
    "duration": 19,
    "start_time": "2022-01-25T16:58:16.131Z"
   },
   {
    "duration": 10,
    "start_time": "2022-01-25T16:58:16.153Z"
   },
   {
    "duration": 9,
    "start_time": "2022-01-25T16:58:16.165Z"
   },
   {
    "duration": 4461,
    "start_time": "2022-01-25T17:01:25.002Z"
   },
   {
    "duration": 3401,
    "start_time": "2022-01-25T17:02:03.837Z"
   },
   {
    "duration": 3539,
    "start_time": "2022-01-25T17:03:19.670Z"
   },
   {
    "duration": 784,
    "start_time": "2022-01-25T17:06:15.034Z"
   },
   {
    "duration": 3514,
    "start_time": "2022-01-25T17:07:34.962Z"
   },
   {
    "duration": 668,
    "start_time": "2022-01-25T17:08:10.742Z"
   },
   {
    "duration": 22,
    "start_time": "2022-01-25T17:08:11.412Z"
   },
   {
    "duration": 18,
    "start_time": "2022-01-25T17:08:11.437Z"
   },
   {
    "duration": 8,
    "start_time": "2022-01-25T17:08:11.458Z"
   },
   {
    "duration": 49,
    "start_time": "2022-01-25T17:08:11.468Z"
   },
   {
    "duration": 6,
    "start_time": "2022-01-25T17:08:11.519Z"
   },
   {
    "duration": 14,
    "start_time": "2022-01-25T17:08:11.527Z"
   },
   {
    "duration": 62,
    "start_time": "2022-01-25T17:08:11.545Z"
   },
   {
    "duration": 7,
    "start_time": "2022-01-25T17:08:11.610Z"
   },
   {
    "duration": 13,
    "start_time": "2022-01-25T17:08:11.619Z"
   },
   {
    "duration": 29,
    "start_time": "2022-01-25T17:08:11.634Z"
   },
   {
    "duration": 26,
    "start_time": "2022-01-25T17:08:11.665Z"
   },
   {
    "duration": 31,
    "start_time": "2022-01-25T17:08:11.693Z"
   },
   {
    "duration": 22,
    "start_time": "2022-01-25T17:08:11.727Z"
   },
   {
    "duration": 4,
    "start_time": "2022-01-25T17:08:11.752Z"
   },
   {
    "duration": 10,
    "start_time": "2022-01-25T17:08:11.758Z"
   },
   {
    "duration": 41,
    "start_time": "2022-01-25T17:08:11.770Z"
   },
   {
    "duration": 4,
    "start_time": "2022-01-25T17:08:11.814Z"
   },
   {
    "duration": 22,
    "start_time": "2022-01-25T17:08:11.821Z"
   },
   {
    "duration": 11,
    "start_time": "2022-01-25T17:08:11.845Z"
   },
   {
    "duration": 20,
    "start_time": "2022-01-25T17:08:11.858Z"
   },
   {
    "duration": 30,
    "start_time": "2022-01-25T17:08:11.880Z"
   },
   {
    "duration": 15,
    "start_time": "2022-01-25T17:08:11.914Z"
   },
   {
    "duration": 15,
    "start_time": "2022-01-25T17:08:11.932Z"
   },
   {
    "duration": 10,
    "start_time": "2022-01-25T17:08:11.949Z"
   },
   {
    "duration": 5,
    "start_time": "2022-01-25T17:08:11.961Z"
   },
   {
    "duration": 1083,
    "start_time": "2022-01-25T17:08:11.968Z"
   },
   {
    "duration": 3559,
    "start_time": "2022-01-25T17:08:13.053Z"
   },
   {
    "duration": 18,
    "start_time": "2022-01-25T17:08:16.614Z"
   },
   {
    "duration": 11,
    "start_time": "2022-01-25T17:08:16.633Z"
   },
   {
    "duration": 298,
    "start_time": "2022-01-25T17:08:16.646Z"
   },
   {
    "duration": 20,
    "start_time": "2022-01-25T17:08:16.946Z"
   },
   {
    "duration": 15,
    "start_time": "2022-01-25T17:08:16.968Z"
   },
   {
    "duration": 24,
    "start_time": "2022-01-25T17:08:16.986Z"
   },
   {
    "duration": 3759,
    "start_time": "2022-01-25T17:08:44.520Z"
   },
   {
    "duration": 85,
    "start_time": "2022-01-25T17:09:08.640Z"
   },
   {
    "duration": 3483,
    "start_time": "2022-01-25T17:09:16.073Z"
   },
   {
    "duration": 3794,
    "start_time": "2022-01-25T17:11:17.058Z"
   },
   {
    "duration": 3524,
    "start_time": "2022-01-25T17:12:27.349Z"
   },
   {
    "duration": 3901,
    "start_time": "2022-01-25T17:13:23.944Z"
   },
   {
    "duration": 3678,
    "start_time": "2022-01-25T17:14:06.976Z"
   },
   {
    "duration": 97,
    "start_time": "2022-01-25T17:14:46.769Z"
   },
   {
    "duration": 3709,
    "start_time": "2022-01-25T17:14:50.156Z"
   },
   {
    "duration": 3621,
    "start_time": "2022-01-25T17:18:43.214Z"
   },
   {
    "duration": 7,
    "start_time": "2022-01-25T18:43:33.023Z"
   },
   {
    "duration": 757,
    "start_time": "2022-01-25T18:46:17.090Z"
   },
   {
    "duration": 756,
    "start_time": "2022-01-25T18:46:35.498Z"
   },
   {
    "duration": 747,
    "start_time": "2022-01-25T18:47:03.796Z"
   },
   {
    "duration": 79,
    "start_time": "2022-01-25T18:48:08.027Z"
   },
   {
    "duration": 3637,
    "start_time": "2022-01-25T18:48:13.903Z"
   },
   {
    "duration": 1125,
    "start_time": "2022-01-25T18:49:19.012Z"
   },
   {
    "duration": 812,
    "start_time": "2022-01-25T18:49:27.126Z"
   },
   {
    "duration": 4007,
    "start_time": "2022-01-25T18:54:31.361Z"
   },
   {
    "duration": 3933,
    "start_time": "2022-01-25T18:54:39.448Z"
   },
   {
    "duration": 3774,
    "start_time": "2022-01-25T18:54:44.617Z"
   },
   {
    "duration": 724,
    "start_time": "2022-01-25T18:55:07.724Z"
   },
   {
    "duration": 22,
    "start_time": "2022-01-25T18:55:08.450Z"
   },
   {
    "duration": 34,
    "start_time": "2022-01-25T18:55:08.475Z"
   },
   {
    "duration": 9,
    "start_time": "2022-01-25T18:55:08.511Z"
   },
   {
    "duration": 22,
    "start_time": "2022-01-25T18:55:08.523Z"
   },
   {
    "duration": 7,
    "start_time": "2022-01-25T18:55:08.548Z"
   },
   {
    "duration": 23,
    "start_time": "2022-01-25T18:55:08.557Z"
   },
   {
    "duration": 55,
    "start_time": "2022-01-25T18:55:08.583Z"
   },
   {
    "duration": 6,
    "start_time": "2022-01-25T18:55:08.641Z"
   },
   {
    "duration": 14,
    "start_time": "2022-01-25T18:55:08.650Z"
   },
   {
    "duration": 18,
    "start_time": "2022-01-25T18:55:08.666Z"
   },
   {
    "duration": 41,
    "start_time": "2022-01-25T18:55:08.686Z"
   },
   {
    "duration": 28,
    "start_time": "2022-01-25T18:55:08.729Z"
   },
   {
    "duration": 49,
    "start_time": "2022-01-25T18:55:08.759Z"
   },
   {
    "duration": 4,
    "start_time": "2022-01-25T18:55:08.810Z"
   },
   {
    "duration": 10,
    "start_time": "2022-01-25T18:55:08.816Z"
   },
   {
    "duration": 12,
    "start_time": "2022-01-25T18:55:08.829Z"
   },
   {
    "duration": 10,
    "start_time": "2022-01-25T18:55:08.843Z"
   },
   {
    "duration": 19,
    "start_time": "2022-01-25T18:55:08.855Z"
   },
   {
    "duration": 11,
    "start_time": "2022-01-25T18:55:08.908Z"
   },
   {
    "duration": 5,
    "start_time": "2022-01-25T18:55:08.921Z"
   },
   {
    "duration": 11,
    "start_time": "2022-01-25T18:55:08.928Z"
   },
   {
    "duration": 20,
    "start_time": "2022-01-25T18:55:08.943Z"
   },
   {
    "duration": 42,
    "start_time": "2022-01-25T18:55:08.965Z"
   },
   {
    "duration": 8,
    "start_time": "2022-01-25T18:55:09.010Z"
   },
   {
    "duration": 799,
    "start_time": "2022-01-25T18:55:09.020Z"
   },
   {
    "duration": 3970,
    "start_time": "2022-01-25T18:55:09.822Z"
   },
   {
    "duration": -32,
    "start_time": "2022-01-25T18:55:13.827Z"
   },
   {
    "duration": -33,
    "start_time": "2022-01-25T18:55:13.829Z"
   },
   {
    "duration": -34,
    "start_time": "2022-01-25T18:55:13.831Z"
   },
   {
    "duration": -37,
    "start_time": "2022-01-25T18:55:13.835Z"
   },
   {
    "duration": -38,
    "start_time": "2022-01-25T18:55:13.837Z"
   },
   {
    "duration": -39,
    "start_time": "2022-01-25T18:55:13.839Z"
   },
   {
    "duration": 91,
    "start_time": "2022-01-25T18:55:51.298Z"
   },
   {
    "duration": 10939,
    "start_time": "2022-01-25T18:55:57.491Z"
   },
   {
    "duration": 3743,
    "start_time": "2022-01-25T18:56:20.514Z"
   },
   {
    "duration": 3758,
    "start_time": "2022-01-25T18:56:42.884Z"
   },
   {
    "duration": 3723,
    "start_time": "2022-01-25T18:57:30.938Z"
   },
   {
    "duration": 3828,
    "start_time": "2022-01-25T18:57:50.707Z"
   },
   {
    "duration": 7,
    "start_time": "2022-01-25T18:58:00.968Z"
   },
   {
    "duration": 4,
    "start_time": "2022-01-25T19:00:13.801Z"
   },
   {
    "duration": 6,
    "start_time": "2022-01-25T19:00:16.338Z"
   },
   {
    "duration": 17,
    "start_time": "2022-01-25T19:03:03.735Z"
   },
   {
    "duration": 84,
    "start_time": "2022-01-25T19:05:10.820Z"
   },
   {
    "duration": 13,
    "start_time": "2022-01-25T19:05:15.062Z"
   },
   {
    "duration": 272,
    "start_time": "2022-01-25T19:05:24.811Z"
   },
   {
    "duration": 243,
    "start_time": "2022-01-25T19:05:44.533Z"
   },
   {
    "duration": 253,
    "start_time": "2022-01-25T19:05:51.439Z"
   },
   {
    "duration": 19,
    "start_time": "2022-01-25T19:05:56.815Z"
   },
   {
    "duration": 83,
    "start_time": "2022-01-25T19:06:02.180Z"
   },
   {
    "duration": 13,
    "start_time": "2022-01-25T19:06:04.910Z"
   },
   {
    "duration": 12,
    "start_time": "2022-01-25T19:06:36.684Z"
   },
   {
    "duration": 13,
    "start_time": "2022-01-25T19:06:53.801Z"
   },
   {
    "duration": 81,
    "start_time": "2022-01-25T19:06:58.934Z"
   },
   {
    "duration": 14,
    "start_time": "2022-01-25T19:09:29.329Z"
   },
   {
    "duration": 12,
    "start_time": "2022-01-25T19:09:48.647Z"
   },
   {
    "duration": 12,
    "start_time": "2022-01-25T19:09:53.251Z"
   },
   {
    "duration": 12,
    "start_time": "2022-01-25T19:10:13.101Z"
   },
   {
    "duration": 13,
    "start_time": "2022-01-25T19:10:18.774Z"
   },
   {
    "duration": 13,
    "start_time": "2022-01-25T19:11:45.252Z"
   },
   {
    "duration": 17,
    "start_time": "2022-01-25T19:12:21.047Z"
   },
   {
    "duration": 282,
    "start_time": "2022-01-25T19:16:03.027Z"
   },
   {
    "duration": 198,
    "start_time": "2022-01-25T19:16:41.678Z"
   },
   {
    "duration": 107,
    "start_time": "2022-01-25T19:20:07.615Z"
   },
   {
    "duration": 5,
    "start_time": "2022-01-25T19:21:34.786Z"
   },
   {
    "duration": 4,
    "start_time": "2022-01-25T19:21:38.427Z"
   },
   {
    "duration": 4,
    "start_time": "2022-01-25T19:21:51.696Z"
   },
   {
    "duration": 5,
    "start_time": "2022-01-25T19:22:16.374Z"
   },
   {
    "duration": 5,
    "start_time": "2022-01-25T19:22:34.078Z"
   },
   {
    "duration": 5,
    "start_time": "2022-01-25T19:22:50.515Z"
   },
   {
    "duration": 535,
    "start_time": "2022-01-25T19:24:09.152Z"
   },
   {
    "duration": 653,
    "start_time": "2022-01-25T19:24:55.853Z"
   },
   {
    "duration": 20,
    "start_time": "2022-01-25T19:24:56.508Z"
   },
   {
    "duration": 25,
    "start_time": "2022-01-25T19:24:56.531Z"
   },
   {
    "duration": 16,
    "start_time": "2022-01-25T19:24:56.559Z"
   },
   {
    "duration": 26,
    "start_time": "2022-01-25T19:24:56.577Z"
   },
   {
    "duration": 5,
    "start_time": "2022-01-25T19:24:56.607Z"
   },
   {
    "duration": 24,
    "start_time": "2022-01-25T19:24:56.614Z"
   },
   {
    "duration": 36,
    "start_time": "2022-01-25T19:24:56.641Z"
   },
   {
    "duration": 6,
    "start_time": "2022-01-25T19:24:56.680Z"
   },
   {
    "duration": 23,
    "start_time": "2022-01-25T19:24:56.688Z"
   },
   {
    "duration": 27,
    "start_time": "2022-01-25T19:24:56.714Z"
   },
   {
    "duration": 30,
    "start_time": "2022-01-25T19:24:56.744Z"
   },
   {
    "duration": 49,
    "start_time": "2022-01-25T19:24:56.777Z"
   },
   {
    "duration": 33,
    "start_time": "2022-01-25T19:24:56.829Z"
   },
   {
    "duration": 5,
    "start_time": "2022-01-25T19:24:56.864Z"
   },
   {
    "duration": 10,
    "start_time": "2022-01-25T19:24:56.871Z"
   },
   {
    "duration": 31,
    "start_time": "2022-01-25T19:24:56.882Z"
   },
   {
    "duration": 16,
    "start_time": "2022-01-25T19:24:56.915Z"
   },
   {
    "duration": 43,
    "start_time": "2022-01-25T19:24:56.933Z"
   },
   {
    "duration": 13,
    "start_time": "2022-01-25T19:24:56.978Z"
   },
   {
    "duration": 8,
    "start_time": "2022-01-25T19:24:56.993Z"
   },
   {
    "duration": 20,
    "start_time": "2022-01-25T19:24:57.003Z"
   },
   {
    "duration": 22,
    "start_time": "2022-01-25T19:24:57.026Z"
   },
   {
    "duration": 6,
    "start_time": "2022-01-25T19:24:57.051Z"
   },
   {
    "duration": 7,
    "start_time": "2022-01-25T19:24:57.058Z"
   },
   {
    "duration": 6,
    "start_time": "2022-01-25T19:24:57.067Z"
   },
   {
    "duration": 775,
    "start_time": "2022-01-25T19:24:57.075Z"
   },
   {
    "duration": 3586,
    "start_time": "2022-01-25T19:24:57.853Z"
   },
   {
    "duration": 9,
    "start_time": "2022-01-25T19:25:01.441Z"
   },
   {
    "duration": 42,
    "start_time": "2022-01-25T19:25:01.453Z"
   },
   {
    "duration": 20,
    "start_time": "2022-01-25T19:25:01.498Z"
   },
   {
    "duration": 416,
    "start_time": "2022-01-25T19:25:01.520Z"
   },
   {
    "duration": 29,
    "start_time": "2022-01-25T19:25:01.939Z"
   },
   {
    "duration": 32,
    "start_time": "2022-01-25T19:25:01.970Z"
   },
   {
    "duration": 35,
    "start_time": "2022-01-25T19:25:02.004Z"
   },
   {
    "duration": 22,
    "start_time": "2022-01-25T19:29:03.544Z"
   },
   {
    "duration": 317,
    "start_time": "2022-01-25T19:29:26.639Z"
   },
   {
    "duration": 12,
    "start_time": "2022-01-25T19:30:23.459Z"
   },
   {
    "duration": 12,
    "start_time": "2022-01-25T19:32:13.252Z"
   },
   {
    "duration": 10,
    "start_time": "2022-01-25T19:34:39.595Z"
   },
   {
    "duration": 7,
    "start_time": "2022-01-25T19:34:45.748Z"
   },
   {
    "duration": 7,
    "start_time": "2022-01-25T19:35:00.457Z"
   },
   {
    "duration": 8,
    "start_time": "2022-01-25T19:37:37.562Z"
   },
   {
    "duration": 7,
    "start_time": "2022-01-25T19:50:33.845Z"
   },
   {
    "duration": 8,
    "start_time": "2022-01-25T19:52:44.192Z"
   },
   {
    "duration": 712,
    "start_time": "2022-01-26T11:40:05.968Z"
   },
   {
    "duration": 27,
    "start_time": "2022-01-26T11:40:18.061Z"
   },
   {
    "duration": 65,
    "start_time": "2022-01-26T11:40:32.836Z"
   },
   {
    "duration": 22,
    "start_time": "2022-01-26T11:52:01.219Z"
   },
   {
    "duration": 4,
    "start_time": "2022-01-26T11:52:53.998Z"
   },
   {
    "duration": 7,
    "start_time": "2022-01-26T11:53:00.743Z"
   },
   {
    "duration": 831,
    "start_time": "2022-01-26T11:55:34.222Z"
   },
   {
    "duration": 438,
    "start_time": "2022-01-26T11:57:47.158Z"
   },
   {
    "duration": 730,
    "start_time": "2022-01-26T11:58:04.257Z"
   },
   {
    "duration": 26,
    "start_time": "2022-01-26T11:58:04.990Z"
   },
   {
    "duration": 19,
    "start_time": "2022-01-26T11:58:05.023Z"
   },
   {
    "duration": 9,
    "start_time": "2022-01-26T11:58:05.045Z"
   },
   {
    "duration": 27,
    "start_time": "2022-01-26T11:58:05.056Z"
   },
   {
    "duration": 4,
    "start_time": "2022-01-26T11:58:05.086Z"
   },
   {
    "duration": 13,
    "start_time": "2022-01-26T11:58:05.124Z"
   },
   {
    "duration": 39,
    "start_time": "2022-01-26T11:58:05.140Z"
   },
   {
    "duration": 6,
    "start_time": "2022-01-26T11:58:05.182Z"
   },
   {
    "duration": 34,
    "start_time": "2022-01-26T11:58:05.190Z"
   },
   {
    "duration": 15,
    "start_time": "2022-01-26T11:58:05.226Z"
   },
   {
    "duration": 24,
    "start_time": "2022-01-26T11:58:05.243Z"
   },
   {
    "duration": 28,
    "start_time": "2022-01-26T11:58:05.269Z"
   },
   {
    "duration": 24,
    "start_time": "2022-01-26T11:58:05.324Z"
   },
   {
    "duration": 4,
    "start_time": "2022-01-26T11:58:05.350Z"
   },
   {
    "duration": 11,
    "start_time": "2022-01-26T11:58:05.356Z"
   },
   {
    "duration": 12,
    "start_time": "2022-01-26T11:58:05.369Z"
   },
   {
    "duration": 40,
    "start_time": "2022-01-26T11:58:05.383Z"
   },
   {
    "duration": 19,
    "start_time": "2022-01-26T11:58:05.425Z"
   },
   {
    "duration": 7,
    "start_time": "2022-01-26T11:58:05.446Z"
   },
   {
    "duration": 6,
    "start_time": "2022-01-26T11:58:05.455Z"
   },
   {
    "duration": 9,
    "start_time": "2022-01-26T11:58:05.464Z"
   },
   {
    "duration": 15,
    "start_time": "2022-01-26T11:58:05.522Z"
   },
   {
    "duration": 7,
    "start_time": "2022-01-26T11:58:05.539Z"
   },
   {
    "duration": 7,
    "start_time": "2022-01-26T11:58:05.549Z"
   },
   {
    "duration": 4,
    "start_time": "2022-01-26T11:58:05.559Z"
   },
   {
    "duration": 922,
    "start_time": "2022-01-26T11:58:05.565Z"
   },
   {
    "duration": 3591,
    "start_time": "2022-01-26T11:58:06.489Z"
   },
   {
    "duration": 8,
    "start_time": "2022-01-26T11:58:10.083Z"
   },
   {
    "duration": 37,
    "start_time": "2022-01-26T11:58:10.093Z"
   },
   {
    "duration": 16,
    "start_time": "2022-01-26T11:58:10.132Z"
   },
   {
    "duration": 367,
    "start_time": "2022-01-26T11:58:10.150Z"
   },
   {
    "duration": 26,
    "start_time": "2022-01-26T11:58:10.523Z"
   },
   {
    "duration": 14,
    "start_time": "2022-01-26T11:58:10.552Z"
   },
   {
    "duration": 9,
    "start_time": "2022-01-26T11:58:10.569Z"
   },
   {
    "duration": 46,
    "start_time": "2022-01-26T11:58:10.581Z"
   },
   {
    "duration": 12,
    "start_time": "2022-01-26T11:58:10.630Z"
   },
   {
    "duration": 10,
    "start_time": "2022-01-26T11:58:10.644Z"
   },
   {
    "duration": 28,
    "start_time": "2022-01-26T12:01:37.073Z"
   },
   {
    "duration": 819,
    "start_time": "2022-01-26T12:01:45.955Z"
   },
   {
    "duration": 28,
    "start_time": "2022-01-26T12:01:46.777Z"
   },
   {
    "duration": 43,
    "start_time": "2022-01-26T12:01:46.808Z"
   },
   {
    "duration": 8,
    "start_time": "2022-01-26T12:01:46.854Z"
   },
   {
    "duration": 21,
    "start_time": "2022-01-26T12:01:46.864Z"
   },
   {
    "duration": 5,
    "start_time": "2022-01-26T12:01:46.888Z"
   },
   {
    "duration": 41,
    "start_time": "2022-01-26T12:01:46.895Z"
   },
   {
    "duration": 42,
    "start_time": "2022-01-26T12:01:46.941Z"
   },
   {
    "duration": 7,
    "start_time": "2022-01-26T12:01:46.986Z"
   },
   {
    "duration": 4,
    "start_time": "2022-01-26T12:01:47.023Z"
   },
   {
    "duration": 19,
    "start_time": "2022-01-26T12:01:47.029Z"
   },
   {
    "duration": 25,
    "start_time": "2022-01-26T12:01:47.050Z"
   },
   {
    "duration": 61,
    "start_time": "2022-01-26T12:01:47.077Z"
   },
   {
    "duration": 25,
    "start_time": "2022-01-26T12:01:47.141Z"
   },
   {
    "duration": 5,
    "start_time": "2022-01-26T12:01:47.168Z"
   },
   {
    "duration": 7,
    "start_time": "2022-01-26T12:01:47.175Z"
   },
   {
    "duration": 45,
    "start_time": "2022-01-26T12:01:47.184Z"
   },
   {
    "duration": 5,
    "start_time": "2022-01-26T12:01:47.231Z"
   },
   {
    "duration": 28,
    "start_time": "2022-01-26T12:01:47.238Z"
   },
   {
    "duration": 7,
    "start_time": "2022-01-26T12:01:47.268Z"
   },
   {
    "duration": 5,
    "start_time": "2022-01-26T12:01:47.278Z"
   },
   {
    "duration": 43,
    "start_time": "2022-01-26T12:01:47.286Z"
   },
   {
    "duration": 23,
    "start_time": "2022-01-26T12:01:47.334Z"
   },
   {
    "duration": 6,
    "start_time": "2022-01-26T12:01:47.360Z"
   },
   {
    "duration": 6,
    "start_time": "2022-01-26T12:01:47.369Z"
   },
   {
    "duration": 5,
    "start_time": "2022-01-26T12:01:47.378Z"
   },
   {
    "duration": 863,
    "start_time": "2022-01-26T12:01:47.424Z"
   },
   {
    "duration": 3805,
    "start_time": "2022-01-26T12:01:48.290Z"
   },
   {
    "duration": 25,
    "start_time": "2022-01-26T12:01:52.098Z"
   },
   {
    "duration": 22,
    "start_time": "2022-01-26T12:01:52.126Z"
   },
   {
    "duration": 15,
    "start_time": "2022-01-26T12:01:52.150Z"
   },
   {
    "duration": 377,
    "start_time": "2022-01-26T12:01:52.167Z"
   },
   {
    "duration": 27,
    "start_time": "2022-01-26T12:01:52.547Z"
   },
   {
    "duration": 16,
    "start_time": "2022-01-26T12:01:52.576Z"
   },
   {
    "duration": 33,
    "start_time": "2022-01-26T12:01:52.594Z"
   },
   {
    "duration": 10,
    "start_time": "2022-01-26T12:01:52.630Z"
   },
   {
    "duration": 9,
    "start_time": "2022-01-26T12:01:52.642Z"
   },
   {
    "duration": 9,
    "start_time": "2022-01-26T12:01:52.653Z"
   },
   {
    "duration": 773,
    "start_time": "2022-01-26T12:02:42.806Z"
   },
   {
    "duration": 27,
    "start_time": "2022-01-26T12:02:43.581Z"
   },
   {
    "duration": 29,
    "start_time": "2022-01-26T12:02:43.611Z"
   },
   {
    "duration": 10,
    "start_time": "2022-01-26T12:02:43.642Z"
   },
   {
    "duration": 24,
    "start_time": "2022-01-26T12:02:43.654Z"
   },
   {
    "duration": 7,
    "start_time": "2022-01-26T12:02:43.680Z"
   },
   {
    "duration": 20,
    "start_time": "2022-01-26T12:02:43.724Z"
   },
   {
    "duration": 74,
    "start_time": "2022-01-26T12:02:43.749Z"
   },
   {
    "duration": 8,
    "start_time": "2022-01-26T12:02:43.827Z"
   },
   {
    "duration": 7,
    "start_time": "2022-01-26T12:02:43.838Z"
   },
   {
    "duration": 17,
    "start_time": "2022-01-26T12:02:43.848Z"
   },
   {
    "duration": 62,
    "start_time": "2022-01-26T12:02:43.867Z"
   },
   {
    "duration": 28,
    "start_time": "2022-01-26T12:02:43.931Z"
   },
   {
    "duration": 24,
    "start_time": "2022-01-26T12:02:43.961Z"
   },
   {
    "duration": 4,
    "start_time": "2022-01-26T12:02:43.988Z"
   },
   {
    "duration": 33,
    "start_time": "2022-01-26T12:02:43.994Z"
   },
   {
    "duration": 10,
    "start_time": "2022-01-26T12:02:44.029Z"
   },
   {
    "duration": 5,
    "start_time": "2022-01-26T12:02:44.041Z"
   },
   {
    "duration": 18,
    "start_time": "2022-01-26T12:02:44.049Z"
   },
   {
    "duration": 6,
    "start_time": "2022-01-26T12:02:44.069Z"
   },
   {
    "duration": 6,
    "start_time": "2022-01-26T12:02:44.123Z"
   },
   {
    "duration": 10,
    "start_time": "2022-01-26T12:02:44.131Z"
   },
   {
    "duration": 14,
    "start_time": "2022-01-26T12:02:44.145Z"
   },
   {
    "duration": 6,
    "start_time": "2022-01-26T12:02:44.162Z"
   },
   {
    "duration": 7,
    "start_time": "2022-01-26T12:02:44.170Z"
   },
   {
    "duration": 4,
    "start_time": "2022-01-26T12:02:44.224Z"
   },
   {
    "duration": 851,
    "start_time": "2022-01-26T12:02:44.231Z"
   },
   {
    "duration": 3466,
    "start_time": "2022-01-26T12:02:45.084Z"
   },
   {
    "duration": 10,
    "start_time": "2022-01-26T12:02:48.553Z"
   },
   {
    "duration": 21,
    "start_time": "2022-01-26T12:02:48.565Z"
   },
   {
    "duration": 43,
    "start_time": "2022-01-26T12:02:48.588Z"
   },
   {
    "duration": 364,
    "start_time": "2022-01-26T12:02:48.633Z"
   },
   {
    "duration": 36,
    "start_time": "2022-01-26T12:02:48.999Z"
   },
   {
    "duration": 14,
    "start_time": "2022-01-26T12:02:49.037Z"
   },
   {
    "duration": 8,
    "start_time": "2022-01-26T12:02:49.053Z"
   },
   {
    "duration": 9,
    "start_time": "2022-01-26T12:02:49.063Z"
   },
   {
    "duration": 49,
    "start_time": "2022-01-26T12:02:49.074Z"
   },
   {
    "duration": 9,
    "start_time": "2022-01-26T12:02:49.125Z"
   },
   {
    "duration": 637,
    "start_time": "2022-02-03T17:17:17.045Z"
   },
   {
    "duration": 20,
    "start_time": "2022-02-03T17:17:17.684Z"
   },
   {
    "duration": 13,
    "start_time": "2022-02-03T17:17:17.706Z"
   },
   {
    "duration": 9,
    "start_time": "2022-02-03T17:17:17.721Z"
   },
   {
    "duration": 41,
    "start_time": "2022-02-03T17:17:17.732Z"
   },
   {
    "duration": 4,
    "start_time": "2022-02-03T17:17:17.775Z"
   },
   {
    "duration": 13,
    "start_time": "2022-02-03T17:17:17.780Z"
   },
   {
    "duration": 29,
    "start_time": "2022-02-03T17:17:17.796Z"
   },
   {
    "duration": 5,
    "start_time": "2022-02-03T17:17:17.827Z"
   },
   {
    "duration": 28,
    "start_time": "2022-02-03T17:17:17.834Z"
   },
   {
    "duration": 15,
    "start_time": "2022-02-03T17:17:17.864Z"
   },
   {
    "duration": 18,
    "start_time": "2022-02-03T17:17:17.881Z"
   },
   {
    "duration": 21,
    "start_time": "2022-02-03T17:17:17.901Z"
   },
   {
    "duration": 42,
    "start_time": "2022-02-03T17:17:17.924Z"
   },
   {
    "duration": 4,
    "start_time": "2022-02-03T17:17:17.968Z"
   },
   {
    "duration": 7,
    "start_time": "2022-02-03T17:17:17.974Z"
   },
   {
    "duration": 8,
    "start_time": "2022-02-03T17:17:17.983Z"
   },
   {
    "duration": 5,
    "start_time": "2022-02-03T17:17:17.993Z"
   },
   {
    "duration": 16,
    "start_time": "2022-02-03T17:17:18.000Z"
   },
   {
    "duration": 42,
    "start_time": "2022-02-03T17:17:18.017Z"
   },
   {
    "duration": 5,
    "start_time": "2022-02-03T17:17:18.062Z"
   },
   {
    "duration": 11,
    "start_time": "2022-02-03T17:17:18.069Z"
   },
   {
    "duration": 12,
    "start_time": "2022-02-03T17:17:18.084Z"
   },
   {
    "duration": 6,
    "start_time": "2022-02-03T17:17:18.098Z"
   },
   {
    "duration": 6,
    "start_time": "2022-02-03T17:17:18.105Z"
   },
   {
    "duration": 5,
    "start_time": "2022-02-03T17:17:18.113Z"
   },
   {
    "duration": 656,
    "start_time": "2022-02-03T17:17:18.160Z"
   },
   {
    "duration": 2746,
    "start_time": "2022-02-03T17:17:18.818Z"
   },
   {
    "duration": 6,
    "start_time": "2022-02-03T17:17:21.566Z"
   },
   {
    "duration": 16,
    "start_time": "2022-02-03T17:17:21.574Z"
   },
   {
    "duration": 12,
    "start_time": "2022-02-03T17:17:21.592Z"
   },
   {
    "duration": 271,
    "start_time": "2022-02-03T17:17:21.605Z"
   },
   {
    "duration": 19,
    "start_time": "2022-02-03T17:17:21.878Z"
   },
   {
    "duration": 10,
    "start_time": "2022-02-03T17:17:21.899Z"
   },
   {
    "duration": 6,
    "start_time": "2022-02-03T17:17:21.910Z"
   },
   {
    "duration": 11,
    "start_time": "2022-02-03T17:17:21.918Z"
   },
   {
    "duration": 29,
    "start_time": "2022-02-03T17:17:21.931Z"
   },
   {
    "duration": 6,
    "start_time": "2022-02-03T17:17:21.961Z"
   },
   {
    "duration": 4439,
    "start_time": "2022-02-03T17:24:24.965Z"
   },
   {
    "duration": 7,
    "start_time": "2022-02-03T17:26:53.283Z"
   },
   {
    "duration": 72,
    "start_time": "2022-02-04T07:49:17.377Z"
   },
   {
    "duration": 64,
    "start_time": "2022-02-04T07:49:38.358Z"
   },
   {
    "duration": 621,
    "start_time": "2022-02-04T07:50:23.401Z"
   },
   {
    "duration": 11,
    "start_time": "2022-02-04T07:50:24.545Z"
   },
   {
    "duration": 590,
    "start_time": "2022-02-04T08:09:46.629Z"
   },
   {
    "duration": 11,
    "start_time": "2022-02-04T08:09:47.221Z"
   },
   {
    "duration": 19,
    "start_time": "2022-02-04T08:09:47.234Z"
   },
   {
    "duration": 13,
    "start_time": "2022-02-04T08:09:47.255Z"
   },
   {
    "duration": 6,
    "start_time": "2022-02-04T08:09:47.269Z"
   },
   {
    "duration": 50,
    "start_time": "2022-02-04T08:09:47.277Z"
   },
   {
    "duration": 4,
    "start_time": "2022-02-04T08:09:47.329Z"
   },
   {
    "duration": 14,
    "start_time": "2022-02-04T08:09:47.335Z"
   },
   {
    "duration": 19,
    "start_time": "2022-02-04T08:09:47.351Z"
   },
   {
    "duration": 61,
    "start_time": "2022-02-04T08:09:47.371Z"
   },
   {
    "duration": 5,
    "start_time": "2022-02-04T08:09:47.434Z"
   },
   {
    "duration": 6,
    "start_time": "2022-02-04T08:09:47.440Z"
   },
   {
    "duration": 14,
    "start_time": "2022-02-04T08:09:47.447Z"
   },
   {
    "duration": 49,
    "start_time": "2022-02-04T08:09:47.463Z"
   },
   {
    "duration": 21,
    "start_time": "2022-02-04T08:09:47.514Z"
   },
   {
    "duration": 18,
    "start_time": "2022-02-04T08:09:47.536Z"
   },
   {
    "duration": 3,
    "start_time": "2022-02-04T08:09:47.555Z"
   },
   {
    "duration": 6,
    "start_time": "2022-02-04T08:09:47.560Z"
   },
   {
    "duration": 7,
    "start_time": "2022-02-04T08:09:47.567Z"
   },
   {
    "duration": 44,
    "start_time": "2022-02-04T08:09:47.575Z"
   },
   {
    "duration": 15,
    "start_time": "2022-02-04T08:09:47.621Z"
   },
   {
    "duration": 6,
    "start_time": "2022-02-04T08:09:47.637Z"
   },
   {
    "duration": 3,
    "start_time": "2022-02-04T08:09:47.646Z"
   },
   {
    "duration": 7,
    "start_time": "2022-02-04T08:09:47.651Z"
   },
   {
    "duration": 52,
    "start_time": "2022-02-04T08:09:47.660Z"
   },
   {
    "duration": 4,
    "start_time": "2022-02-04T08:09:47.714Z"
   },
   {
    "duration": 5,
    "start_time": "2022-02-04T08:09:47.720Z"
   },
   {
    "duration": 3,
    "start_time": "2022-02-04T08:09:47.727Z"
   },
   {
    "duration": 698,
    "start_time": "2022-02-04T08:09:47.732Z"
   },
   {
    "duration": 2599,
    "start_time": "2022-02-04T08:09:48.432Z"
   },
   {
    "duration": 6,
    "start_time": "2022-02-04T08:09:51.033Z"
   },
   {
    "duration": 13,
    "start_time": "2022-02-04T08:09:51.040Z"
   },
   {
    "duration": 10,
    "start_time": "2022-02-04T08:09:51.055Z"
   },
   {
    "duration": 286,
    "start_time": "2022-02-04T08:09:51.066Z"
   },
   {
    "duration": 18,
    "start_time": "2022-02-04T08:09:51.353Z"
   },
   {
    "duration": 10,
    "start_time": "2022-02-04T08:09:51.373Z"
   },
   {
    "duration": 30,
    "start_time": "2022-02-04T08:09:51.384Z"
   },
   {
    "duration": 9,
    "start_time": "2022-02-04T08:09:51.416Z"
   },
   {
    "duration": 9,
    "start_time": "2022-02-04T08:09:51.427Z"
   },
   {
    "duration": 13,
    "start_time": "2022-02-04T08:09:51.438Z"
   },
   {
    "duration": 19,
    "start_time": "2022-02-04T08:11:00.165Z"
   },
   {
    "duration": 22,
    "start_time": "2022-02-04T08:20:27.765Z"
   },
   {
    "duration": 21,
    "start_time": "2022-02-04T08:20:33.792Z"
   },
   {
    "duration": 21,
    "start_time": "2022-02-04T08:20:58.737Z"
   },
   {
    "duration": 22,
    "start_time": "2022-02-04T08:21:23.331Z"
   },
   {
    "duration": 21,
    "start_time": "2022-02-04T08:21:29.321Z"
   },
   {
    "duration": 23,
    "start_time": "2022-02-04T08:22:16.840Z"
   },
   {
    "duration": 14,
    "start_time": "2022-02-04T08:22:52.799Z"
   },
   {
    "duration": 14,
    "start_time": "2022-02-04T08:23:49.457Z"
   },
   {
    "duration": 5,
    "start_time": "2022-02-04T08:27:33.012Z"
   },
   {
    "duration": 15,
    "start_time": "2022-02-04T08:28:48.428Z"
   },
   {
    "duration": 22,
    "start_time": "2022-02-04T08:28:59.436Z"
   },
   {
    "duration": 592,
    "start_time": "2022-02-04T08:30:19.259Z"
   },
   {
    "duration": 10,
    "start_time": "2022-02-04T08:30:19.853Z"
   },
   {
    "duration": 19,
    "start_time": "2022-02-04T08:30:19.867Z"
   },
   {
    "duration": 32,
    "start_time": "2022-02-04T08:30:19.887Z"
   },
   {
    "duration": 7,
    "start_time": "2022-02-04T08:30:19.921Z"
   },
   {
    "duration": 20,
    "start_time": "2022-02-04T08:30:19.930Z"
   },
   {
    "duration": 4,
    "start_time": "2022-02-04T08:30:19.952Z"
   },
   {
    "duration": 10,
    "start_time": "2022-02-04T08:30:19.958Z"
   },
   {
    "duration": 58,
    "start_time": "2022-02-04T08:30:19.970Z"
   },
   {
    "duration": 28,
    "start_time": "2022-02-04T08:30:20.030Z"
   },
   {
    "duration": 5,
    "start_time": "2022-02-04T08:30:20.060Z"
   },
   {
    "duration": 7,
    "start_time": "2022-02-04T08:30:20.066Z"
   },
   {
    "duration": 45,
    "start_time": "2022-02-04T08:30:20.075Z"
   },
   {
    "duration": 4,
    "start_time": "2022-02-04T08:30:20.121Z"
   },
   {
    "duration": 19,
    "start_time": "2022-02-04T08:30:20.126Z"
   },
   {
    "duration": 22,
    "start_time": "2022-02-04T08:30:20.147Z"
   },
   {
    "duration": 45,
    "start_time": "2022-02-04T08:30:20.171Z"
   },
   {
    "duration": 20,
    "start_time": "2022-02-04T08:30:20.218Z"
   },
   {
    "duration": 3,
    "start_time": "2022-02-04T08:30:20.240Z"
   },
   {
    "duration": 7,
    "start_time": "2022-02-04T08:30:20.245Z"
   },
   {
    "duration": 11,
    "start_time": "2022-02-04T08:30:20.254Z"
   },
   {
    "duration": 6,
    "start_time": "2022-02-04T08:30:20.268Z"
   },
   {
    "duration": 39,
    "start_time": "2022-02-04T08:30:20.276Z"
   },
   {
    "duration": 11,
    "start_time": "2022-02-04T08:30:20.317Z"
   },
   {
    "duration": 14,
    "start_time": "2022-02-04T08:30:20.329Z"
   },
   {
    "duration": 5,
    "start_time": "2022-02-04T08:30:20.345Z"
   },
   {
    "duration": 7,
    "start_time": "2022-02-04T08:30:20.351Z"
   },
   {
    "duration": 53,
    "start_time": "2022-02-04T08:30:20.360Z"
   },
   {
    "duration": 681,
    "start_time": "2022-02-04T08:30:20.415Z"
   },
   {
    "duration": 2679,
    "start_time": "2022-02-04T08:30:21.098Z"
   },
   {
    "duration": 6,
    "start_time": "2022-02-04T08:30:23.778Z"
   },
   {
    "duration": 33,
    "start_time": "2022-02-04T08:30:23.786Z"
   },
   {
    "duration": 13,
    "start_time": "2022-02-04T08:30:23.820Z"
   },
   {
    "duration": 280,
    "start_time": "2022-02-04T08:30:23.834Z"
   },
   {
    "duration": 22,
    "start_time": "2022-02-04T08:30:24.115Z"
   },
   {
    "duration": 10,
    "start_time": "2022-02-04T08:30:24.139Z"
   },
   {
    "duration": 7,
    "start_time": "2022-02-04T08:30:24.151Z"
   },
   {
    "duration": 7,
    "start_time": "2022-02-04T08:30:24.160Z"
   },
   {
    "duration": 49,
    "start_time": "2022-02-04T08:30:24.169Z"
   },
   {
    "duration": 8,
    "start_time": "2022-02-04T08:30:24.220Z"
   },
   {
    "duration": 254,
    "start_time": "2022-02-04T08:49:50.390Z"
   },
   {
    "duration": 193,
    "start_time": "2022-02-04T08:49:54.447Z"
   },
   {
    "duration": 21,
    "start_time": "2022-02-04T08:50:01.332Z"
   },
   {
    "duration": 20,
    "start_time": "2022-02-04T08:50:05.452Z"
   },
   {
    "duration": 217,
    "start_time": "2022-02-04T08:50:59.085Z"
   },
   {
    "duration": 212,
    "start_time": "2022-02-04T08:51:04.077Z"
   },
   {
    "duration": 20,
    "start_time": "2022-02-04T08:51:08.492Z"
   },
   {
    "duration": 21,
    "start_time": "2022-02-04T08:51:12.679Z"
   },
   {
    "duration": 20,
    "start_time": "2022-02-04T08:51:17.952Z"
   },
   {
    "duration": 21,
    "start_time": "2022-02-04T08:52:10.767Z"
   },
   {
    "duration": 20,
    "start_time": "2022-02-04T08:52:18.169Z"
   },
   {
    "duration": 219,
    "start_time": "2022-02-04T08:52:28.929Z"
   },
   {
    "duration": 21,
    "start_time": "2022-02-04T08:52:37.946Z"
   },
   {
    "duration": 59,
    "start_time": "2022-02-04T08:55:02.580Z"
   },
   {
    "duration": 18,
    "start_time": "2022-02-04T08:57:45.999Z"
   },
   {
    "duration": 187,
    "start_time": "2022-02-04T08:58:49.377Z"
   },
   {
    "duration": 21,
    "start_time": "2022-02-04T08:58:57.357Z"
   },
   {
    "duration": 492,
    "start_time": "2022-02-04T08:59:10.432Z"
   },
   {
    "duration": 465,
    "start_time": "2022-02-04T08:59:24.107Z"
   },
   {
    "duration": 640,
    "start_time": "2022-02-04T08:59:31.141Z"
   },
   {
    "duration": 10,
    "start_time": "2022-02-04T08:59:31.783Z"
   },
   {
    "duration": 24,
    "start_time": "2022-02-04T08:59:31.796Z"
   },
   {
    "duration": 20,
    "start_time": "2022-02-04T08:59:31.822Z"
   },
   {
    "duration": 7,
    "start_time": "2022-02-04T08:59:31.844Z"
   },
   {
    "duration": 31,
    "start_time": "2022-02-04T08:59:31.853Z"
   },
   {
    "duration": 5,
    "start_time": "2022-02-04T08:59:31.886Z"
   },
   {
    "duration": 11,
    "start_time": "2022-02-04T08:59:31.914Z"
   },
   {
    "duration": 24,
    "start_time": "2022-02-04T08:59:31.927Z"
   },
   {
    "duration": 28,
    "start_time": "2022-02-04T08:59:31.953Z"
   },
   {
    "duration": 34,
    "start_time": "2022-02-04T08:59:31.983Z"
   },
   {
    "duration": 22,
    "start_time": "2022-02-04T08:59:32.019Z"
   },
   {
    "duration": 16,
    "start_time": "2022-02-04T08:59:32.044Z"
   },
   {
    "duration": 4,
    "start_time": "2022-02-04T08:59:32.062Z"
   },
   {
    "duration": 43,
    "start_time": "2022-02-04T08:59:32.069Z"
   },
   {
    "duration": 32,
    "start_time": "2022-02-04T08:59:32.115Z"
   },
   {
    "duration": 25,
    "start_time": "2022-02-04T08:59:32.150Z"
   },
   {
    "duration": 43,
    "start_time": "2022-02-04T08:59:32.176Z"
   },
   {
    "duration": 3,
    "start_time": "2022-02-04T08:59:32.221Z"
   },
   {
    "duration": 11,
    "start_time": "2022-02-04T08:59:32.226Z"
   },
   {
    "duration": 9,
    "start_time": "2022-02-04T08:59:32.239Z"
   },
   {
    "duration": 5,
    "start_time": "2022-02-04T08:59:32.249Z"
   },
   {
    "duration": 5,
    "start_time": "2022-02-04T08:59:32.257Z"
   },
   {
    "duration": 12,
    "start_time": "2022-02-04T08:59:32.264Z"
   },
   {
    "duration": 49,
    "start_time": "2022-02-04T08:59:32.277Z"
   },
   {
    "duration": 5,
    "start_time": "2022-02-04T08:59:32.328Z"
   },
   {
    "duration": 6,
    "start_time": "2022-02-04T08:59:32.335Z"
   },
   {
    "duration": 11,
    "start_time": "2022-02-04T08:59:32.343Z"
   },
   {
    "duration": 699,
    "start_time": "2022-02-04T08:59:32.356Z"
   },
   {
    "duration": 2897,
    "start_time": "2022-02-04T08:59:33.057Z"
   },
   {
    "duration": 6,
    "start_time": "2022-02-04T08:59:35.956Z"
   },
   {
    "duration": 20,
    "start_time": "2022-02-04T08:59:35.964Z"
   },
   {
    "duration": 40,
    "start_time": "2022-02-04T08:59:35.986Z"
   },
   {
    "duration": 278,
    "start_time": "2022-02-04T08:59:36.028Z"
   },
   {
    "duration": 18,
    "start_time": "2022-02-04T08:59:36.312Z"
   },
   {
    "duration": 12,
    "start_time": "2022-02-04T08:59:36.332Z"
   },
   {
    "duration": 6,
    "start_time": "2022-02-04T08:59:36.346Z"
   },
   {
    "duration": 9,
    "start_time": "2022-02-04T08:59:36.353Z"
   },
   {
    "duration": 7,
    "start_time": "2022-02-04T08:59:36.364Z"
   },
   {
    "duration": 42,
    "start_time": "2022-02-04T08:59:36.372Z"
   },
   {
    "duration": 23,
    "start_time": "2022-02-04T09:02:21.636Z"
   },
   {
    "duration": 271,
    "start_time": "2022-02-04T09:02:27.380Z"
   },
   {
    "duration": 573,
    "start_time": "2022-02-04T09:02:42.457Z"
   },
   {
    "duration": 10,
    "start_time": "2022-02-04T09:02:43.032Z"
   },
   {
    "duration": 18,
    "start_time": "2022-02-04T09:02:43.045Z"
   },
   {
    "duration": 13,
    "start_time": "2022-02-04T09:02:43.064Z"
   },
   {
    "duration": 39,
    "start_time": "2022-02-04T09:02:43.078Z"
   },
   {
    "duration": 16,
    "start_time": "2022-02-04T09:02:43.119Z"
   },
   {
    "duration": 3,
    "start_time": "2022-02-04T09:02:43.137Z"
   },
   {
    "duration": 11,
    "start_time": "2022-02-04T09:02:43.143Z"
   },
   {
    "duration": 58,
    "start_time": "2022-02-04T09:02:43.156Z"
   },
   {
    "duration": 27,
    "start_time": "2022-02-04T09:02:43.216Z"
   },
   {
    "duration": 5,
    "start_time": "2022-02-04T09:02:43.245Z"
   },
   {
    "duration": 10,
    "start_time": "2022-02-04T09:02:43.252Z"
   },
   {
    "duration": 14,
    "start_time": "2022-02-04T09:02:43.263Z"
   },
   {
    "duration": 3,
    "start_time": "2022-02-04T09:02:43.279Z"
   },
   {
    "duration": 17,
    "start_time": "2022-02-04T09:02:43.312Z"
   },
   {
    "duration": 22,
    "start_time": "2022-02-04T09:02:43.331Z"
   },
   {
    "duration": 20,
    "start_time": "2022-02-04T09:02:43.355Z"
   },
   {
    "duration": 49,
    "start_time": "2022-02-04T09:02:43.376Z"
   },
   {
    "duration": 4,
    "start_time": "2022-02-04T09:02:43.426Z"
   },
   {
    "duration": 6,
    "start_time": "2022-02-04T09:02:43.432Z"
   },
   {
    "duration": 6,
    "start_time": "2022-02-04T09:02:43.440Z"
   },
   {
    "duration": 5,
    "start_time": "2022-02-04T09:02:43.447Z"
   },
   {
    "duration": 8,
    "start_time": "2022-02-04T09:02:43.456Z"
   },
   {
    "duration": 52,
    "start_time": "2022-02-04T09:02:43.466Z"
   },
   {
    "duration": 17,
    "start_time": "2022-02-04T09:02:43.520Z"
   },
   {
    "duration": 5,
    "start_time": "2022-02-04T09:02:43.538Z"
   },
   {
    "duration": 6,
    "start_time": "2022-02-04T09:02:43.545Z"
   },
   {
    "duration": 3,
    "start_time": "2022-02-04T09:02:43.552Z"
   },
   {
    "duration": 727,
    "start_time": "2022-02-04T09:02:43.557Z"
   },
   {
    "duration": 2614,
    "start_time": "2022-02-04T09:02:44.285Z"
   },
   {
    "duration": 6,
    "start_time": "2022-02-04T09:02:46.912Z"
   },
   {
    "duration": 16,
    "start_time": "2022-02-04T09:02:46.920Z"
   },
   {
    "duration": 12,
    "start_time": "2022-02-04T09:02:46.937Z"
   },
   {
    "duration": 282,
    "start_time": "2022-02-04T09:02:46.951Z"
   },
   {
    "duration": 20,
    "start_time": "2022-02-04T09:02:47.235Z"
   },
   {
    "duration": 10,
    "start_time": "2022-02-04T09:02:47.257Z"
   },
   {
    "duration": 6,
    "start_time": "2022-02-04T09:02:47.269Z"
   },
   {
    "duration": 37,
    "start_time": "2022-02-04T09:02:47.277Z"
   },
   {
    "duration": 9,
    "start_time": "2022-02-04T09:02:47.315Z"
   },
   {
    "duration": 8,
    "start_time": "2022-02-04T09:02:47.325Z"
   },
   {
    "duration": 257,
    "start_time": "2022-02-04T09:03:49.183Z"
   },
   {
    "duration": 211,
    "start_time": "2022-02-04T09:05:51.451Z"
   },
   {
    "duration": 5438,
    "start_time": "2022-02-04T09:06:26.496Z"
   },
   {
    "duration": 4704,
    "start_time": "2022-02-04T09:07:05.432Z"
   },
   {
    "duration": 5175,
    "start_time": "2022-02-04T09:08:02.764Z"
   },
   {
    "duration": 23,
    "start_time": "2022-02-04T09:08:11.757Z"
   },
   {
    "duration": 21,
    "start_time": "2022-02-04T09:09:00.405Z"
   },
   {
    "duration": 610,
    "start_time": "2022-02-04T09:09:16.544Z"
   },
   {
    "duration": 11,
    "start_time": "2022-02-04T09:09:17.156Z"
   },
   {
    "duration": 20,
    "start_time": "2022-02-04T09:09:17.170Z"
   },
   {
    "duration": 33,
    "start_time": "2022-02-04T09:09:17.192Z"
   },
   {
    "duration": 6,
    "start_time": "2022-02-04T09:09:17.227Z"
   },
   {
    "duration": 20,
    "start_time": "2022-02-04T09:09:17.235Z"
   },
   {
    "duration": 4,
    "start_time": "2022-02-04T09:09:17.257Z"
   },
   {
    "duration": 13,
    "start_time": "2022-02-04T09:09:17.262Z"
   },
   {
    "duration": 19,
    "start_time": "2022-02-04T09:09:17.314Z"
   },
   {
    "duration": 30,
    "start_time": "2022-02-04T09:09:17.335Z"
   },
   {
    "duration": 5,
    "start_time": "2022-02-04T09:09:17.367Z"
   },
   {
    "duration": 39,
    "start_time": "2022-02-04T09:09:17.373Z"
   },
   {
    "duration": 11,
    "start_time": "2022-02-04T09:09:17.414Z"
   },
   {
    "duration": 4,
    "start_time": "2022-02-04T09:09:17.427Z"
   },
   {
    "duration": 17,
    "start_time": "2022-02-04T09:09:17.432Z"
   },
   {
    "duration": 20,
    "start_time": "2022-02-04T09:09:17.451Z"
   },
   {
    "duration": 58,
    "start_time": "2022-02-04T09:09:17.473Z"
   },
   {
    "duration": 20,
    "start_time": "2022-02-04T09:09:17.532Z"
   },
   {
    "duration": 3,
    "start_time": "2022-02-04T09:09:17.553Z"
   },
   {
    "duration": 7,
    "start_time": "2022-02-04T09:09:17.558Z"
   },
   {
    "duration": 7,
    "start_time": "2022-02-04T09:09:17.566Z"
   },
   {
    "duration": 5,
    "start_time": "2022-02-04T09:09:17.613Z"
   },
   {
    "duration": 4,
    "start_time": "2022-02-04T09:09:17.620Z"
   },
   {
    "duration": 8,
    "start_time": "2022-02-04T09:09:17.626Z"
   },
   {
    "duration": 12,
    "start_time": "2022-02-04T09:09:17.636Z"
   },
   {
    "duration": 5,
    "start_time": "2022-02-04T09:09:17.650Z"
   },
   {
    "duration": 53,
    "start_time": "2022-02-04T09:09:17.659Z"
   },
   {
    "duration": 3,
    "start_time": "2022-02-04T09:09:17.714Z"
   },
   {
    "duration": 712,
    "start_time": "2022-02-04T09:09:17.718Z"
   },
   {
    "duration": 2815,
    "start_time": "2022-02-04T09:09:18.431Z"
   },
   {
    "duration": 6,
    "start_time": "2022-02-04T09:09:21.248Z"
   },
   {
    "duration": 15,
    "start_time": "2022-02-04T09:09:21.256Z"
   },
   {
    "duration": 40,
    "start_time": "2022-02-04T09:09:21.273Z"
   },
   {
    "duration": 276,
    "start_time": "2022-02-04T09:09:21.315Z"
   },
   {
    "duration": 28,
    "start_time": "2022-02-04T09:09:21.592Z"
   },
   {
    "duration": 24,
    "start_time": "2022-02-04T09:09:21.621Z"
   },
   {
    "duration": 7,
    "start_time": "2022-02-04T09:09:21.646Z"
   },
   {
    "duration": 20,
    "start_time": "2022-02-04T09:09:21.654Z"
   },
   {
    "duration": 10,
    "start_time": "2022-02-04T09:09:21.675Z"
   },
   {
    "duration": 17,
    "start_time": "2022-02-04T09:09:21.687Z"
   },
   {
    "duration": 23,
    "start_time": "2022-02-04T09:09:57.497Z"
   },
   {
    "duration": 25,
    "start_time": "2022-02-04T09:11:26.078Z"
   },
   {
    "duration": 28,
    "start_time": "2022-02-04T09:11:56.774Z"
   },
   {
    "duration": 314,
    "start_time": "2022-02-04T09:12:25.518Z"
   },
   {
    "duration": 28,
    "start_time": "2022-02-04T09:12:37.542Z"
   },
   {
    "duration": 25,
    "start_time": "2022-02-04T09:12:53.952Z"
   },
   {
    "duration": 24,
    "start_time": "2022-02-04T09:17:40.309Z"
   },
   {
    "duration": 599,
    "start_time": "2022-02-04T09:17:49.126Z"
   },
   {
    "duration": 10,
    "start_time": "2022-02-04T09:17:49.727Z"
   },
   {
    "duration": 18,
    "start_time": "2022-02-04T09:17:49.740Z"
   },
   {
    "duration": 13,
    "start_time": "2022-02-04T09:17:49.760Z"
   },
   {
    "duration": 7,
    "start_time": "2022-02-04T09:17:49.774Z"
   },
   {
    "duration": 17,
    "start_time": "2022-02-04T09:17:49.812Z"
   },
   {
    "duration": 4,
    "start_time": "2022-02-04T09:17:49.830Z"
   },
   {
    "duration": 10,
    "start_time": "2022-02-04T09:17:49.836Z"
   },
   {
    "duration": 16,
    "start_time": "2022-02-04T09:17:49.848Z"
   },
   {
    "duration": 66,
    "start_time": "2022-02-04T09:17:49.866Z"
   },
   {
    "duration": 5,
    "start_time": "2022-02-04T09:17:49.934Z"
   },
   {
    "duration": 6,
    "start_time": "2022-02-04T09:17:49.941Z"
   },
   {
    "duration": 14,
    "start_time": "2022-02-04T09:17:49.949Z"
   },
   {
    "duration": 4,
    "start_time": "2022-02-04T09:17:49.965Z"
   },
   {
    "duration": 58,
    "start_time": "2022-02-04T09:17:49.971Z"
   },
   {
    "duration": 21,
    "start_time": "2022-02-04T09:17:50.032Z"
   },
   {
    "duration": 22,
    "start_time": "2022-02-04T09:17:50.055Z"
   },
   {
    "duration": 21,
    "start_time": "2022-02-04T09:17:50.113Z"
   },
   {
    "duration": 4,
    "start_time": "2022-02-04T09:17:50.136Z"
   },
   {
    "duration": 9,
    "start_time": "2022-02-04T09:17:50.142Z"
   },
   {
    "duration": 10,
    "start_time": "2022-02-04T09:17:50.153Z"
   },
   {
    "duration": 4,
    "start_time": "2022-02-04T09:17:50.165Z"
   },
   {
    "duration": 43,
    "start_time": "2022-02-04T09:17:50.172Z"
   },
   {
    "duration": 7,
    "start_time": "2022-02-04T09:17:50.217Z"
   },
   {
    "duration": 12,
    "start_time": "2022-02-04T09:17:50.226Z"
   },
   {
    "duration": 5,
    "start_time": "2022-02-04T09:17:50.240Z"
   },
   {
    "duration": 5,
    "start_time": "2022-02-04T09:17:50.247Z"
   },
   {
    "duration": 3,
    "start_time": "2022-02-04T09:17:50.254Z"
   },
   {
    "duration": 719,
    "start_time": "2022-02-04T09:17:50.259Z"
   },
   {
    "duration": 2647,
    "start_time": "2022-02-04T09:17:50.980Z"
   },
   {
    "duration": 7,
    "start_time": "2022-02-04T09:17:53.629Z"
   },
   {
    "duration": 16,
    "start_time": "2022-02-04T09:17:53.638Z"
   },
   {
    "duration": 13,
    "start_time": "2022-02-04T09:17:53.656Z"
   },
   {
    "duration": 306,
    "start_time": "2022-02-04T09:17:53.670Z"
   },
   {
    "duration": 36,
    "start_time": "2022-02-04T09:17:53.978Z"
   },
   {
    "duration": 12,
    "start_time": "2022-02-04T09:17:54.016Z"
   },
   {
    "duration": 7,
    "start_time": "2022-02-04T09:17:54.029Z"
   },
   {
    "duration": 12,
    "start_time": "2022-02-04T09:17:54.038Z"
   },
   {
    "duration": 12,
    "start_time": "2022-02-04T09:17:54.051Z"
   },
   {
    "duration": 12,
    "start_time": "2022-02-04T09:17:54.065Z"
   },
   {
    "duration": 26,
    "start_time": "2022-02-04T09:18:03.356Z"
   },
   {
    "duration": 22,
    "start_time": "2022-02-04T09:18:40.385Z"
   },
   {
    "duration": 13,
    "start_time": "2022-02-04T10:00:56.626Z"
   },
   {
    "duration": 13,
    "start_time": "2022-02-04T10:01:24.658Z"
   },
   {
    "duration": 14,
    "start_time": "2022-02-04T10:01:27.519Z"
   },
   {
    "duration": 13,
    "start_time": "2022-02-04T10:02:49.754Z"
   },
   {
    "duration": 13,
    "start_time": "2022-02-04T10:02:58.154Z"
   },
   {
    "duration": 292,
    "start_time": "2022-02-04T10:03:26.874Z"
   },
   {
    "duration": 14,
    "start_time": "2022-02-04T10:03:28.986Z"
   },
   {
    "duration": 14,
    "start_time": "2022-02-04T10:03:45.335Z"
   },
   {
    "duration": 6,
    "start_time": "2022-02-04T10:04:32.738Z"
   },
   {
    "duration": 10,
    "start_time": "2022-02-04T10:04:37.300Z"
   },
   {
    "duration": 6,
    "start_time": "2022-02-04T10:04:43.368Z"
   },
   {
    "duration": 69,
    "start_time": "2022-02-04T10:05:30.296Z"
   },
   {
    "duration": 20,
    "start_time": "2022-02-04T10:06:01.927Z"
   },
   {
    "duration": 22,
    "start_time": "2022-02-04T10:08:31.445Z"
   },
   {
    "duration": 24,
    "start_time": "2022-02-04T10:08:43.796Z"
   },
   {
    "duration": 25,
    "start_time": "2022-02-04T10:09:17.549Z"
   },
   {
    "duration": 24,
    "start_time": "2022-02-04T10:09:22.900Z"
   },
   {
    "duration": 25,
    "start_time": "2022-02-04T10:10:00.842Z"
   },
   {
    "duration": 13,
    "start_time": "2022-02-04T10:19:45.962Z"
   },
   {
    "duration": 23,
    "start_time": "2022-02-04T10:19:58.661Z"
   },
   {
    "duration": 14,
    "start_time": "2022-02-04T10:20:08.408Z"
   },
   {
    "duration": 13,
    "start_time": "2022-02-04T10:20:14.149Z"
   },
   {
    "duration": 9,
    "start_time": "2022-02-04T10:20:34.646Z"
   },
   {
    "duration": 7,
    "start_time": "2022-02-04T10:20:36.747Z"
   },
   {
    "duration": 6,
    "start_time": "2022-02-04T10:20:40.164Z"
   },
   {
    "duration": 620,
    "start_time": "2022-02-04T11:01:04.229Z"
   },
   {
    "duration": 13,
    "start_time": "2022-02-04T11:01:04.851Z"
   },
   {
    "duration": 21,
    "start_time": "2022-02-04T11:01:04.866Z"
   },
   {
    "duration": 35,
    "start_time": "2022-02-04T11:01:04.890Z"
   },
   {
    "duration": 8,
    "start_time": "2022-02-04T11:01:04.927Z"
   },
   {
    "duration": 18,
    "start_time": "2022-02-04T11:01:04.937Z"
   },
   {
    "duration": 5,
    "start_time": "2022-02-04T11:01:04.957Z"
   },
   {
    "duration": 59,
    "start_time": "2022-02-04T11:01:04.965Z"
   },
   {
    "duration": 19,
    "start_time": "2022-02-04T11:01:05.027Z"
   },
   {
    "duration": 66,
    "start_time": "2022-02-04T11:01:05.048Z"
   },
   {
    "duration": 5,
    "start_time": "2022-02-04T11:01:05.116Z"
   },
   {
    "duration": 6,
    "start_time": "2022-02-04T11:01:05.123Z"
   },
   {
    "duration": 14,
    "start_time": "2022-02-04T11:01:05.131Z"
   },
   {
    "duration": 4,
    "start_time": "2022-02-04T11:01:05.146Z"
   },
   {
    "duration": 15,
    "start_time": "2022-02-04T11:01:05.152Z"
   },
   {
    "duration": 56,
    "start_time": "2022-02-04T11:01:05.169Z"
   },
   {
    "duration": 21,
    "start_time": "2022-02-04T11:01:05.226Z"
   },
   {
    "duration": 19,
    "start_time": "2022-02-04T11:01:05.248Z"
   },
   {
    "duration": 4,
    "start_time": "2022-02-04T11:01:05.268Z"
   },
   {
    "duration": 38,
    "start_time": "2022-02-04T11:01:05.274Z"
   },
   {
    "duration": 7,
    "start_time": "2022-02-04T11:01:05.314Z"
   },
   {
    "duration": 14,
    "start_time": "2022-02-04T11:01:05.323Z"
   },
   {
    "duration": 6,
    "start_time": "2022-02-04T11:01:05.340Z"
   },
   {
    "duration": 14,
    "start_time": "2022-02-04T11:01:05.348Z"
   },
   {
    "duration": 12,
    "start_time": "2022-02-04T11:01:05.363Z"
   },
   {
    "duration": 4,
    "start_time": "2022-02-04T11:01:05.377Z"
   },
   {
    "duration": 32,
    "start_time": "2022-02-04T11:01:05.383Z"
   },
   {
    "duration": 4,
    "start_time": "2022-02-04T11:01:05.417Z"
   },
   {
    "duration": 712,
    "start_time": "2022-02-04T11:01:05.423Z"
   },
   {
    "duration": 2494,
    "start_time": "2022-02-04T11:01:06.136Z"
   },
   {
    "duration": 7,
    "start_time": "2022-02-04T11:01:08.632Z"
   },
   {
    "duration": 17,
    "start_time": "2022-02-04T11:01:08.641Z"
   },
   {
    "duration": 14,
    "start_time": "2022-02-04T11:01:08.659Z"
   },
   {
    "duration": 297,
    "start_time": "2022-02-04T11:01:08.674Z"
   },
   {
    "duration": 24,
    "start_time": "2022-02-04T11:01:08.973Z"
   },
   {
    "duration": 13,
    "start_time": "2022-02-04T11:01:09.012Z"
   },
   {
    "duration": 6,
    "start_time": "2022-02-04T11:01:09.027Z"
   },
   {
    "duration": 8,
    "start_time": "2022-02-04T11:01:09.035Z"
   },
   {
    "duration": 8,
    "start_time": "2022-02-04T11:01:09.044Z"
   },
   {
    "duration": 8,
    "start_time": "2022-02-04T11:01:09.054Z"
   },
   {
    "duration": 23,
    "start_time": "2022-02-04T11:05:22.955Z"
   },
   {
    "duration": 24,
    "start_time": "2022-02-04T11:05:27.490Z"
   },
   {
    "duration": 35,
    "start_time": "2022-02-04T11:13:10.400Z"
   },
   {
    "duration": 32,
    "start_time": "2022-02-04T11:14:16.911Z"
   },
   {
    "duration": 49,
    "start_time": "2022-02-04T11:14:54.849Z"
   },
   {
    "duration": 43,
    "start_time": "2022-02-04T11:15:14.796Z"
   },
   {
    "duration": 52,
    "start_time": "2022-02-04T11:15:30.783Z"
   },
   {
    "duration": 43,
    "start_time": "2022-02-04T11:16:21.244Z"
   },
   {
    "duration": 34,
    "start_time": "2022-02-04T11:16:27.137Z"
   },
   {
    "duration": 30,
    "start_time": "2022-02-04T11:16:45.647Z"
   },
   {
    "duration": 87,
    "start_time": "2022-02-04T11:18:16.027Z"
   },
   {
    "duration": 34,
    "start_time": "2022-02-04T11:18:20.310Z"
   },
   {
    "duration": 630,
    "start_time": "2022-02-04T11:18:42.505Z"
   },
   {
    "duration": 12,
    "start_time": "2022-02-04T11:18:43.136Z"
   },
   {
    "duration": 20,
    "start_time": "2022-02-04T11:18:43.150Z"
   },
   {
    "duration": 42,
    "start_time": "2022-02-04T11:18:43.172Z"
   },
   {
    "duration": 7,
    "start_time": "2022-02-04T11:18:43.216Z"
   },
   {
    "duration": 17,
    "start_time": "2022-02-04T11:18:43.225Z"
   },
   {
    "duration": 4,
    "start_time": "2022-02-04T11:18:43.244Z"
   },
   {
    "duration": 11,
    "start_time": "2022-02-04T11:18:43.250Z"
   },
   {
    "duration": 55,
    "start_time": "2022-02-04T11:18:43.264Z"
   },
   {
    "duration": 30,
    "start_time": "2022-02-04T11:18:43.321Z"
   },
   {
    "duration": 6,
    "start_time": "2022-02-04T11:18:43.352Z"
   },
   {
    "duration": 6,
    "start_time": "2022-02-04T11:18:43.359Z"
   },
   {
    "duration": 46,
    "start_time": "2022-02-04T11:18:43.366Z"
   },
   {
    "duration": 4,
    "start_time": "2022-02-04T11:18:43.414Z"
   },
   {
    "duration": 18,
    "start_time": "2022-02-04T11:18:43.420Z"
   },
   {
    "duration": 24,
    "start_time": "2022-02-04T11:18:43.439Z"
   },
   {
    "duration": 47,
    "start_time": "2022-02-04T11:18:43.465Z"
   },
   {
    "duration": 20,
    "start_time": "2022-02-04T11:18:43.514Z"
   },
   {
    "duration": 3,
    "start_time": "2022-02-04T11:18:43.535Z"
   },
   {
    "duration": 7,
    "start_time": "2022-02-04T11:18:43.540Z"
   },
   {
    "duration": 7,
    "start_time": "2022-02-04T11:18:43.548Z"
   },
   {
    "duration": 10,
    "start_time": "2022-02-04T11:18:43.556Z"
   },
   {
    "duration": 5,
    "start_time": "2022-02-04T11:18:43.567Z"
   },
   {
    "duration": 46,
    "start_time": "2022-02-04T11:18:43.573Z"
   },
   {
    "duration": 18,
    "start_time": "2022-02-04T11:18:43.621Z"
   },
   {
    "duration": 4,
    "start_time": "2022-02-04T11:18:43.641Z"
   },
   {
    "duration": 5,
    "start_time": "2022-02-04T11:18:43.648Z"
   },
   {
    "duration": 9,
    "start_time": "2022-02-04T11:18:43.656Z"
   },
   {
    "duration": 731,
    "start_time": "2022-02-04T11:18:43.667Z"
   },
   {
    "duration": 2786,
    "start_time": "2022-02-04T11:18:44.400Z"
   },
   {
    "duration": 6,
    "start_time": "2022-02-04T11:18:47.187Z"
   },
   {
    "duration": 46,
    "start_time": "2022-02-04T11:18:47.195Z"
   },
   {
    "duration": 12,
    "start_time": "2022-02-04T11:18:47.243Z"
   },
   {
    "duration": 286,
    "start_time": "2022-02-04T11:18:47.257Z"
   },
   {
    "duration": 24,
    "start_time": "2022-02-04T11:18:47.545Z"
   },
   {
    "duration": 13,
    "start_time": "2022-02-04T11:18:47.570Z"
   },
   {
    "duration": 32,
    "start_time": "2022-02-04T11:18:47.584Z"
   },
   {
    "duration": 9,
    "start_time": "2022-02-04T11:18:47.619Z"
   },
   {
    "duration": 9,
    "start_time": "2022-02-04T11:18:47.630Z"
   },
   {
    "duration": 9,
    "start_time": "2022-02-04T11:18:47.641Z"
   },
   {
    "duration": 18,
    "start_time": "2022-02-04T11:20:36.487Z"
   },
   {
    "duration": 16,
    "start_time": "2022-02-04T11:20:48.268Z"
   },
   {
    "duration": 29,
    "start_time": "2022-02-04T11:21:20.358Z"
   },
   {
    "duration": 16,
    "start_time": "2022-02-04T11:21:26.661Z"
   },
   {
    "duration": 24,
    "start_time": "2022-02-04T11:21:39.805Z"
   },
   {
    "duration": 89,
    "start_time": "2022-02-04T11:22:43.069Z"
   },
   {
    "duration": 20,
    "start_time": "2022-02-04T11:22:46.311Z"
   },
   {
    "duration": 16,
    "start_time": "2022-02-04T11:23:02.537Z"
   },
   {
    "duration": 969,
    "start_time": "2022-02-04T11:23:58.703Z"
   },
   {
    "duration": 822,
    "start_time": "2022-02-04T11:24:12.600Z"
   },
   {
    "duration": 22,
    "start_time": "2022-02-04T11:24:34.730Z"
   },
   {
    "duration": 801,
    "start_time": "2022-02-04T11:24:51.395Z"
   },
   {
    "duration": 22,
    "start_time": "2022-02-04T11:25:05.158Z"
   },
   {
    "duration": 25,
    "start_time": "2022-02-04T11:27:14.071Z"
   },
   {
    "duration": 31,
    "start_time": "2022-02-04T11:32:34.294Z"
   },
   {
    "duration": 22,
    "start_time": "2022-02-04T11:33:09.076Z"
   },
   {
    "duration": 22,
    "start_time": "2022-02-04T11:33:33.890Z"
   },
   {
    "duration": 13,
    "start_time": "2022-02-04T11:34:09.433Z"
   },
   {
    "duration": 205,
    "start_time": "2022-02-04T11:36:02.705Z"
   },
   {
    "duration": 26,
    "start_time": "2022-02-04T11:36:22.657Z"
   },
   {
    "duration": 20,
    "start_time": "2022-02-04T11:42:28.249Z"
   },
   {
    "duration": 23,
    "start_time": "2022-02-04T11:43:14.715Z"
   },
   {
    "duration": 25,
    "start_time": "2022-02-04T11:50:06.835Z"
   },
   {
    "duration": 25,
    "start_time": "2022-02-04T11:50:25.866Z"
   },
   {
    "duration": 21,
    "start_time": "2022-02-04T11:50:45.657Z"
   },
   {
    "duration": 24,
    "start_time": "2022-02-04T11:51:30.963Z"
   },
   {
    "duration": 22,
    "start_time": "2022-02-04T11:52:34.483Z"
   },
   {
    "duration": 22,
    "start_time": "2022-02-04T11:53:35.120Z"
   },
   {
    "duration": 22,
    "start_time": "2022-02-04T11:55:27.132Z"
   },
   {
    "duration": 23,
    "start_time": "2022-02-04T11:55:46.043Z"
   },
   {
    "duration": 25,
    "start_time": "2022-02-04T11:56:13.724Z"
   },
   {
    "duration": 25,
    "start_time": "2022-02-04T11:56:25.105Z"
   },
   {
    "duration": 26,
    "start_time": "2022-02-04T11:56:35.582Z"
   },
   {
    "duration": -63,
    "start_time": "2022-02-04T11:56:58.504Z"
   },
   {
    "duration": 24,
    "start_time": "2022-02-04T11:57:11.384Z"
   },
   {
    "duration": 22,
    "start_time": "2022-02-04T11:57:19.166Z"
   },
   {
    "duration": 22,
    "start_time": "2022-02-04T11:57:24.639Z"
   },
   {
    "duration": 20,
    "start_time": "2022-02-04T12:01:10.772Z"
   },
   {
    "duration": 595,
    "start_time": "2022-02-04T12:02:04.058Z"
   },
   {
    "duration": 14,
    "start_time": "2022-02-04T12:02:04.654Z"
   },
   {
    "duration": 21,
    "start_time": "2022-02-04T12:02:04.670Z"
   },
   {
    "duration": 32,
    "start_time": "2022-02-04T12:02:04.693Z"
   },
   {
    "duration": 8,
    "start_time": "2022-02-04T12:02:04.727Z"
   },
   {
    "duration": 19,
    "start_time": "2022-02-04T12:02:04.737Z"
   },
   {
    "duration": 5,
    "start_time": "2022-02-04T12:02:04.758Z"
   },
   {
    "duration": 56,
    "start_time": "2022-02-04T12:02:04.765Z"
   },
   {
    "duration": 20,
    "start_time": "2022-02-04T12:02:04.825Z"
   },
   {
    "duration": 65,
    "start_time": "2022-02-04T12:02:04.847Z"
   },
   {
    "duration": 6,
    "start_time": "2022-02-04T12:02:04.914Z"
   },
   {
    "duration": 9,
    "start_time": "2022-02-04T12:02:04.922Z"
   },
   {
    "duration": 23,
    "start_time": "2022-02-04T12:02:04.933Z"
   },
   {
    "duration": 6,
    "start_time": "2022-02-04T12:02:04.958Z"
   },
   {
    "duration": 21,
    "start_time": "2022-02-04T12:02:04.966Z"
   },
   {
    "duration": 22,
    "start_time": "2022-02-04T12:02:05.012Z"
   },
   {
    "duration": 20,
    "start_time": "2022-02-04T12:02:05.036Z"
   },
   {
    "duration": 18,
    "start_time": "2022-02-04T12:02:05.057Z"
   },
   {
    "duration": 36,
    "start_time": "2022-02-04T12:02:05.077Z"
   },
   {
    "duration": 19,
    "start_time": "2022-02-04T12:02:05.115Z"
   },
   {
    "duration": 11,
    "start_time": "2022-02-04T12:02:05.135Z"
   },
   {
    "duration": 19,
    "start_time": "2022-02-04T12:02:05.148Z"
   },
   {
    "duration": 10,
    "start_time": "2022-02-04T12:02:05.169Z"
   },
   {
    "duration": 12,
    "start_time": "2022-02-04T12:02:05.181Z"
   },
   {
    "duration": 19,
    "start_time": "2022-02-04T12:02:05.194Z"
   },
   {
    "duration": 6,
    "start_time": "2022-02-04T12:02:05.215Z"
   },
   {
    "duration": 18,
    "start_time": "2022-02-04T12:02:05.224Z"
   },
   {
    "duration": 14,
    "start_time": "2022-02-04T12:02:05.244Z"
   },
   {
    "duration": 718,
    "start_time": "2022-02-04T12:02:05.260Z"
   },
   {
    "duration": 2618,
    "start_time": "2022-02-04T12:02:05.980Z"
   },
   {
    "duration": 17,
    "start_time": "2022-02-04T12:02:08.600Z"
   },
   {
    "duration": 26,
    "start_time": "2022-02-04T12:02:08.620Z"
   },
   {
    "duration": 25,
    "start_time": "2022-02-04T12:02:08.648Z"
   },
   {
    "duration": 303,
    "start_time": "2022-02-04T12:02:08.675Z"
   },
   {
    "duration": 37,
    "start_time": "2022-02-04T12:02:08.980Z"
   },
   {
    "duration": 24,
    "start_time": "2022-02-04T12:02:09.019Z"
   },
   {
    "duration": 8,
    "start_time": "2022-02-04T12:02:09.045Z"
   },
   {
    "duration": 14,
    "start_time": "2022-02-04T12:02:09.055Z"
   },
   {
    "duration": 17,
    "start_time": "2022-02-04T12:02:09.070Z"
   },
   {
    "duration": 7,
    "start_time": "2022-02-04T12:02:09.113Z"
   },
   {
    "duration": 2828,
    "start_time": "2022-02-04T12:35:51.749Z"
   },
   {
    "duration": 2889,
    "start_time": "2022-02-04T12:36:13.261Z"
   },
   {
    "duration": 5689,
    "start_time": "2022-02-04T12:36:43.078Z"
   },
   {
    "duration": 15,
    "start_time": "2022-02-04T12:41:50.694Z"
   },
   {
    "duration": 18,
    "start_time": "2022-02-04T12:42:26.667Z"
   },
   {
    "duration": 17,
    "start_time": "2022-02-04T12:42:44.653Z"
   },
   {
    "duration": 201,
    "start_time": "2022-02-04T12:56:02.550Z"
   },
   {
    "duration": 223,
    "start_time": "2022-02-04T12:56:08.750Z"
   },
   {
    "duration": 12,
    "start_time": "2022-02-04T12:56:46.501Z"
   },
   {
    "duration": 13,
    "start_time": "2022-02-04T12:57:04.222Z"
   },
   {
    "duration": 13,
    "start_time": "2022-02-04T12:57:33.464Z"
   },
   {
    "duration": 13,
    "start_time": "2022-02-04T12:57:41.874Z"
   },
   {
    "duration": 14,
    "start_time": "2022-02-04T12:57:52.494Z"
   },
   {
    "duration": 14,
    "start_time": "2022-02-04T12:58:05.363Z"
   },
   {
    "duration": 16,
    "start_time": "2022-02-04T12:58:15.830Z"
   },
   {
    "duration": 15,
    "start_time": "2022-02-04T12:58:22.592Z"
   },
   {
    "duration": 14,
    "start_time": "2022-02-04T12:58:28.257Z"
   },
   {
    "duration": 36,
    "start_time": "2022-02-04T13:00:02.973Z"
   },
   {
    "duration": 640,
    "start_time": "2022-02-04T13:00:24.610Z"
   },
   {
    "duration": 10,
    "start_time": "2022-02-04T13:00:25.252Z"
   },
   {
    "duration": 19,
    "start_time": "2022-02-04T13:00:25.264Z"
   },
   {
    "duration": 34,
    "start_time": "2022-02-04T13:00:25.285Z"
   },
   {
    "duration": 6,
    "start_time": "2022-02-04T13:00:25.321Z"
   },
   {
    "duration": 16,
    "start_time": "2022-02-04T13:00:25.329Z"
   },
   {
    "duration": 3,
    "start_time": "2022-02-04T13:00:25.347Z"
   },
   {
    "duration": 10,
    "start_time": "2022-02-04T13:00:25.353Z"
   },
   {
    "duration": 52,
    "start_time": "2022-02-04T13:00:25.365Z"
   },
   {
    "duration": 12,
    "start_time": "2022-02-04T13:00:25.418Z"
   },
   {
    "duration": 31,
    "start_time": "2022-02-04T13:00:25.432Z"
   },
   {
    "duration": 4,
    "start_time": "2022-02-04T13:00:25.465Z"
   },
   {
    "duration": 277,
    "start_time": "2022-02-04T13:00:25.471Z"
   },
   {
    "duration": -76,
    "start_time": "2022-02-04T13:00:25.827Z"
   },
   {
    "duration": -78,
    "start_time": "2022-02-04T13:00:25.830Z"
   },
   {
    "duration": -81,
    "start_time": "2022-02-04T13:00:25.834Z"
   },
   {
    "duration": -83,
    "start_time": "2022-02-04T13:00:25.837Z"
   },
   {
    "duration": -86,
    "start_time": "2022-02-04T13:00:25.841Z"
   },
   {
    "duration": -87,
    "start_time": "2022-02-04T13:00:25.843Z"
   },
   {
    "duration": -89,
    "start_time": "2022-02-04T13:00:25.846Z"
   },
   {
    "duration": -91,
    "start_time": "2022-02-04T13:00:25.849Z"
   },
   {
    "duration": -94,
    "start_time": "2022-02-04T13:00:25.852Z"
   },
   {
    "duration": -96,
    "start_time": "2022-02-04T13:00:25.855Z"
   },
   {
    "duration": -98,
    "start_time": "2022-02-04T13:00:25.858Z"
   },
   {
    "duration": -100,
    "start_time": "2022-02-04T13:00:25.861Z"
   },
   {
    "duration": -102,
    "start_time": "2022-02-04T13:00:25.864Z"
   },
   {
    "duration": -104,
    "start_time": "2022-02-04T13:00:25.867Z"
   },
   {
    "duration": -106,
    "start_time": "2022-02-04T13:00:25.870Z"
   },
   {
    "duration": -108,
    "start_time": "2022-02-04T13:00:25.873Z"
   },
   {
    "duration": -111,
    "start_time": "2022-02-04T13:00:25.876Z"
   },
   {
    "duration": -113,
    "start_time": "2022-02-04T13:00:25.879Z"
   },
   {
    "duration": -113,
    "start_time": "2022-02-04T13:00:25.881Z"
   },
   {
    "duration": -115,
    "start_time": "2022-02-04T13:00:25.884Z"
   },
   {
    "duration": -116,
    "start_time": "2022-02-04T13:00:25.886Z"
   },
   {
    "duration": -128,
    "start_time": "2022-02-04T13:00:25.898Z"
   },
   {
    "duration": -130,
    "start_time": "2022-02-04T13:00:25.901Z"
   },
   {
    "duration": -131,
    "start_time": "2022-02-04T13:00:25.903Z"
   },
   {
    "duration": -133,
    "start_time": "2022-02-04T13:00:25.906Z"
   },
   {
    "duration": -134,
    "start_time": "2022-02-04T13:00:25.908Z"
   },
   {
    "duration": -136,
    "start_time": "2022-02-04T13:00:25.911Z"
   },
   {
    "duration": -138,
    "start_time": "2022-02-04T13:00:25.913Z"
   },
   {
    "duration": 13,
    "start_time": "2022-02-04T13:30:09.899Z"
   },
   {
    "duration": 218,
    "start_time": "2022-02-04T13:32:07.227Z"
   },
   {
    "duration": 588,
    "start_time": "2022-02-04T13:32:37.676Z"
   },
   {
    "duration": 11,
    "start_time": "2022-02-04T13:32:38.266Z"
   },
   {
    "duration": 20,
    "start_time": "2022-02-04T13:32:38.279Z"
   },
   {
    "duration": 15,
    "start_time": "2022-02-04T13:32:38.313Z"
   },
   {
    "duration": 8,
    "start_time": "2022-02-04T13:32:38.330Z"
   },
   {
    "duration": 18,
    "start_time": "2022-02-04T13:32:38.340Z"
   },
   {
    "duration": 5,
    "start_time": "2022-02-04T13:32:38.360Z"
   },
   {
    "duration": 12,
    "start_time": "2022-02-04T13:32:38.412Z"
   },
   {
    "duration": 17,
    "start_time": "2022-02-04T13:32:38.427Z"
   },
   {
    "duration": 16,
    "start_time": "2022-02-04T13:32:38.446Z"
   },
   {
    "duration": 53,
    "start_time": "2022-02-04T13:32:38.464Z"
   },
   {
    "duration": 266,
    "start_time": "2022-02-04T13:32:38.519Z"
   },
   {
    "duration": -69,
    "start_time": "2022-02-04T13:32:38.856Z"
   },
   {
    "duration": -79,
    "start_time": "2022-02-04T13:32:38.867Z"
   },
   {
    "duration": -81,
    "start_time": "2022-02-04T13:32:38.870Z"
   },
   {
    "duration": -95,
    "start_time": "2022-02-04T13:32:38.885Z"
   },
   {
    "duration": -110,
    "start_time": "2022-02-04T13:32:38.901Z"
   },
   {
    "duration": -118,
    "start_time": "2022-02-04T13:32:38.909Z"
   },
   {
    "duration": -128,
    "start_time": "2022-02-04T13:32:38.920Z"
   },
   {
    "duration": -145,
    "start_time": "2022-02-04T13:32:38.938Z"
   },
   {
    "duration": -153,
    "start_time": "2022-02-04T13:32:38.947Z"
   },
   {
    "duration": -160,
    "start_time": "2022-02-04T13:32:38.955Z"
   },
   {
    "duration": -165,
    "start_time": "2022-02-04T13:32:38.961Z"
   },
   {
    "duration": -169,
    "start_time": "2022-02-04T13:32:38.966Z"
   },
   {
    "duration": -172,
    "start_time": "2022-02-04T13:32:38.970Z"
   },
   {
    "duration": -178,
    "start_time": "2022-02-04T13:32:38.977Z"
   },
   {
    "duration": -191,
    "start_time": "2022-02-04T13:32:38.991Z"
   },
   {
    "duration": -197,
    "start_time": "2022-02-04T13:32:38.998Z"
   },
   {
    "duration": -202,
    "start_time": "2022-02-04T13:32:39.004Z"
   },
   {
    "duration": -211,
    "start_time": "2022-02-04T13:32:39.014Z"
   },
   {
    "duration": -213,
    "start_time": "2022-02-04T13:32:39.017Z"
   },
   {
    "duration": -215,
    "start_time": "2022-02-04T13:32:39.020Z"
   },
   {
    "duration": -229,
    "start_time": "2022-02-04T13:32:39.034Z"
   },
   {
    "duration": -231,
    "start_time": "2022-02-04T13:32:39.037Z"
   },
   {
    "duration": -242,
    "start_time": "2022-02-04T13:32:39.049Z"
   },
   {
    "duration": -246,
    "start_time": "2022-02-04T13:32:39.054Z"
   },
   {
    "duration": -259,
    "start_time": "2022-02-04T13:32:39.068Z"
   },
   {
    "duration": -264,
    "start_time": "2022-02-04T13:32:39.074Z"
   },
   {
    "duration": -285,
    "start_time": "2022-02-04T13:32:39.096Z"
   },
   {
    "duration": -289,
    "start_time": "2022-02-04T13:32:39.101Z"
   },
   {
    "duration": -293,
    "start_time": "2022-02-04T13:32:39.106Z"
   },
   {
    "duration": 658,
    "start_time": "2022-02-04T13:33:16.302Z"
   },
   {
    "duration": 11,
    "start_time": "2022-02-04T13:33:16.962Z"
   },
   {
    "duration": 21,
    "start_time": "2022-02-04T13:33:16.975Z"
   },
   {
    "duration": 28,
    "start_time": "2022-02-04T13:33:16.998Z"
   },
   {
    "duration": 7,
    "start_time": "2022-02-04T13:33:17.027Z"
   },
   {
    "duration": 19,
    "start_time": "2022-02-04T13:33:17.036Z"
   },
   {
    "duration": 4,
    "start_time": "2022-02-04T13:33:17.057Z"
   },
   {
    "duration": 50,
    "start_time": "2022-02-04T13:33:17.063Z"
   },
   {
    "duration": 15,
    "start_time": "2022-02-04T13:33:17.116Z"
   },
   {
    "duration": 14,
    "start_time": "2022-02-04T13:33:17.133Z"
   },
   {
    "duration": 12,
    "start_time": "2022-02-04T13:33:17.148Z"
   },
   {
    "duration": 2,
    "start_time": "2022-02-04T13:33:17.162Z"
   },
   {
    "duration": 315,
    "start_time": "2022-02-04T13:33:17.165Z"
   },
   {
    "duration": -57,
    "start_time": "2022-02-04T13:33:17.540Z"
   },
   {
    "duration": -61,
    "start_time": "2022-02-04T13:33:17.546Z"
   },
   {
    "duration": -70,
    "start_time": "2022-02-04T13:33:17.557Z"
   },
   {
    "duration": -84,
    "start_time": "2022-02-04T13:33:17.572Z"
   },
   {
    "duration": -89,
    "start_time": "2022-02-04T13:33:17.578Z"
   },
   {
    "duration": -99,
    "start_time": "2022-02-04T13:33:17.590Z"
   },
   {
    "duration": -104,
    "start_time": "2022-02-04T13:33:17.597Z"
   },
   {
    "duration": -109,
    "start_time": "2022-02-04T13:33:17.603Z"
   },
   {
    "duration": -111,
    "start_time": "2022-02-04T13:33:17.606Z"
   },
   {
    "duration": -115,
    "start_time": "2022-02-04T13:33:17.612Z"
   },
   {
    "duration": -120,
    "start_time": "2022-02-04T13:33:17.618Z"
   },
   {
    "duration": -123,
    "start_time": "2022-02-04T13:33:17.623Z"
   },
   {
    "duration": -127,
    "start_time": "2022-02-04T13:33:17.628Z"
   },
   {
    "duration": -130,
    "start_time": "2022-02-04T13:33:17.633Z"
   },
   {
    "duration": -134,
    "start_time": "2022-02-04T13:33:17.638Z"
   },
   {
    "duration": -137,
    "start_time": "2022-02-04T13:33:17.643Z"
   },
   {
    "duration": -142,
    "start_time": "2022-02-04T13:33:17.649Z"
   },
   {
    "duration": -144,
    "start_time": "2022-02-04T13:33:17.653Z"
   },
   {
    "duration": -147,
    "start_time": "2022-02-04T13:33:17.657Z"
   },
   {
    "duration": -148,
    "start_time": "2022-02-04T13:33:17.660Z"
   },
   {
    "duration": -150,
    "start_time": "2022-02-04T13:33:17.664Z"
   },
   {
    "duration": -152,
    "start_time": "2022-02-04T13:33:17.667Z"
   },
   {
    "duration": -153,
    "start_time": "2022-02-04T13:33:17.670Z"
   },
   {
    "duration": -163,
    "start_time": "2022-02-04T13:33:17.681Z"
   },
   {
    "duration": -182,
    "start_time": "2022-02-04T13:33:17.702Z"
   },
   {
    "duration": -186,
    "start_time": "2022-02-04T13:33:17.707Z"
   },
   {
    "duration": -189,
    "start_time": "2022-02-04T13:33:17.711Z"
   },
   {
    "duration": -195,
    "start_time": "2022-02-04T13:33:17.718Z"
   },
   {
    "duration": 212,
    "start_time": "2022-02-04T13:33:47.833Z"
   },
   {
    "duration": 15,
    "start_time": "2022-02-04T13:34:29.904Z"
   },
   {
    "duration": 647,
    "start_time": "2022-02-04T13:34:35.322Z"
   },
   {
    "duration": 13,
    "start_time": "2022-02-04T13:34:35.971Z"
   },
   {
    "duration": 28,
    "start_time": "2022-02-04T13:34:35.987Z"
   },
   {
    "duration": 13,
    "start_time": "2022-02-04T13:34:36.017Z"
   },
   {
    "duration": 12,
    "start_time": "2022-02-04T13:34:36.032Z"
   },
   {
    "duration": 18,
    "start_time": "2022-02-04T13:34:36.045Z"
   },
   {
    "duration": 5,
    "start_time": "2022-02-04T13:34:36.065Z"
   },
   {
    "duration": 48,
    "start_time": "2022-02-04T13:34:36.072Z"
   },
   {
    "duration": 15,
    "start_time": "2022-02-04T13:34:36.122Z"
   },
   {
    "duration": 14,
    "start_time": "2022-02-04T13:34:36.139Z"
   },
   {
    "duration": 10,
    "start_time": "2022-02-04T13:34:36.154Z"
   },
   {
    "duration": 46,
    "start_time": "2022-02-04T13:34:36.166Z"
   },
   {
    "duration": 311,
    "start_time": "2022-02-04T13:34:36.214Z"
   },
   {
    "duration": -60,
    "start_time": "2022-02-04T13:34:36.588Z"
   },
   {
    "duration": -63,
    "start_time": "2022-02-04T13:34:36.592Z"
   },
   {
    "duration": -71,
    "start_time": "2022-02-04T13:34:36.601Z"
   },
   {
    "duration": -73,
    "start_time": "2022-02-04T13:34:36.603Z"
   },
   {
    "duration": -76,
    "start_time": "2022-02-04T13:34:36.607Z"
   },
   {
    "duration": -79,
    "start_time": "2022-02-04T13:34:36.611Z"
   },
   {
    "duration": -81,
    "start_time": "2022-02-04T13:34:36.614Z"
   },
   {
    "duration": -82,
    "start_time": "2022-02-04T13:34:36.616Z"
   },
   {
    "duration": -84,
    "start_time": "2022-02-04T13:34:36.619Z"
   },
   {
    "duration": -85,
    "start_time": "2022-02-04T13:34:36.622Z"
   },
   {
    "duration": -87,
    "start_time": "2022-02-04T13:34:36.625Z"
   },
   {
    "duration": -91,
    "start_time": "2022-02-04T13:34:36.630Z"
   },
   {
    "duration": -93,
    "start_time": "2022-02-04T13:34:36.633Z"
   },
   {
    "duration": -95,
    "start_time": "2022-02-04T13:34:36.637Z"
   },
   {
    "duration": -96,
    "start_time": "2022-02-04T13:34:36.640Z"
   },
   {
    "duration": -104,
    "start_time": "2022-02-04T13:34:36.649Z"
   },
   {
    "duration": -105,
    "start_time": "2022-02-04T13:34:36.652Z"
   },
   {
    "duration": -109,
    "start_time": "2022-02-04T13:34:36.657Z"
   },
   {
    "duration": -115,
    "start_time": "2022-02-04T13:34:36.665Z"
   },
   {
    "duration": -123,
    "start_time": "2022-02-04T13:34:36.674Z"
   },
   {
    "duration": -128,
    "start_time": "2022-02-04T13:34:36.680Z"
   },
   {
    "duration": -131,
    "start_time": "2022-02-04T13:34:36.684Z"
   },
   {
    "duration": -134,
    "start_time": "2022-02-04T13:34:36.688Z"
   },
   {
    "duration": -136,
    "start_time": "2022-02-04T13:34:36.691Z"
   },
   {
    "duration": -141,
    "start_time": "2022-02-04T13:34:36.697Z"
   },
   {
    "duration": -143,
    "start_time": "2022-02-04T13:34:36.700Z"
   },
   {
    "duration": -146,
    "start_time": "2022-02-04T13:34:36.704Z"
   },
   {
    "duration": -148,
    "start_time": "2022-02-04T13:34:36.707Z"
   },
   {
    "duration": 215,
    "start_time": "2022-02-04T13:34:56.092Z"
   },
   {
    "duration": 13,
    "start_time": "2022-02-04T13:36:21.265Z"
   },
   {
    "duration": 12,
    "start_time": "2022-02-04T13:36:24.933Z"
   },
   {
    "duration": 224,
    "start_time": "2022-02-04T13:36:36.396Z"
   },
   {
    "duration": 776,
    "start_time": "2022-02-04T13:36:42.090Z"
   },
   {
    "duration": 10,
    "start_time": "2022-02-04T13:36:42.868Z"
   },
   {
    "duration": 19,
    "start_time": "2022-02-04T13:36:42.881Z"
   },
   {
    "duration": 13,
    "start_time": "2022-02-04T13:36:42.913Z"
   },
   {
    "duration": 7,
    "start_time": "2022-02-04T13:36:42.928Z"
   },
   {
    "duration": 17,
    "start_time": "2022-02-04T13:36:42.937Z"
   },
   {
    "duration": 4,
    "start_time": "2022-02-04T13:36:42.956Z"
   },
   {
    "duration": 52,
    "start_time": "2022-02-04T13:36:42.963Z"
   },
   {
    "duration": 15,
    "start_time": "2022-02-04T13:36:43.017Z"
   },
   {
    "duration": 12,
    "start_time": "2022-02-04T13:36:43.034Z"
   },
   {
    "duration": 11,
    "start_time": "2022-02-04T13:36:43.047Z"
   },
   {
    "duration": 2,
    "start_time": "2022-02-04T13:36:43.060Z"
   },
   {
    "duration": 318,
    "start_time": "2022-02-04T13:36:43.064Z"
   },
   {
    "duration": -54,
    "start_time": "2022-02-04T13:36:43.439Z"
   },
   {
    "duration": -68,
    "start_time": "2022-02-04T13:36:43.454Z"
   },
   {
    "duration": -75,
    "start_time": "2022-02-04T13:36:43.462Z"
   },
   {
    "duration": -92,
    "start_time": "2022-02-04T13:36:43.480Z"
   },
   {
    "duration": -106,
    "start_time": "2022-02-04T13:36:43.495Z"
   },
   {
    "duration": -115,
    "start_time": "2022-02-04T13:36:43.505Z"
   },
   {
    "duration": -128,
    "start_time": "2022-02-04T13:36:43.519Z"
   },
   {
    "duration": -133,
    "start_time": "2022-02-04T13:36:43.525Z"
   },
   {
    "duration": -143,
    "start_time": "2022-02-04T13:36:43.536Z"
   },
   {
    "duration": -148,
    "start_time": "2022-02-04T13:36:43.542Z"
   },
   {
    "duration": -153,
    "start_time": "2022-02-04T13:36:43.548Z"
   },
   {
    "duration": -157,
    "start_time": "2022-02-04T13:36:43.553Z"
   },
   {
    "duration": -158,
    "start_time": "2022-02-04T13:36:43.556Z"
   },
   {
    "duration": -164,
    "start_time": "2022-02-04T13:36:43.563Z"
   },
   {
    "duration": -166,
    "start_time": "2022-02-04T13:36:43.566Z"
   },
   {
    "duration": -170,
    "start_time": "2022-02-04T13:36:43.571Z"
   },
   {
    "duration": -172,
    "start_time": "2022-02-04T13:36:43.575Z"
   },
   {
    "duration": -175,
    "start_time": "2022-02-04T13:36:43.579Z"
   },
   {
    "duration": -179,
    "start_time": "2022-02-04T13:36:43.584Z"
   },
   {
    "duration": -183,
    "start_time": "2022-02-04T13:36:43.589Z"
   },
   {
    "duration": -188,
    "start_time": "2022-02-04T13:36:43.595Z"
   },
   {
    "duration": -191,
    "start_time": "2022-02-04T13:36:43.599Z"
   },
   {
    "duration": -201,
    "start_time": "2022-02-04T13:36:43.610Z"
   },
   {
    "duration": -213,
    "start_time": "2022-02-04T13:36:43.623Z"
   },
   {
    "duration": -225,
    "start_time": "2022-02-04T13:36:43.636Z"
   },
   {
    "duration": -231,
    "start_time": "2022-02-04T13:36:43.643Z"
   },
   {
    "duration": -239,
    "start_time": "2022-02-04T13:36:43.653Z"
   },
   {
    "duration": -244,
    "start_time": "2022-02-04T13:36:43.659Z"
   },
   {
    "duration": 15,
    "start_time": "2022-02-04T13:39:16.281Z"
   },
   {
    "duration": 16,
    "start_time": "2022-02-04T13:39:23.489Z"
   },
   {
    "duration": 15,
    "start_time": "2022-02-04T13:39:33.637Z"
   },
   {
    "duration": 16,
    "start_time": "2022-02-04T13:40:25.189Z"
   },
   {
    "duration": 16,
    "start_time": "2022-02-04T13:40:28.792Z"
   },
   {
    "duration": 15,
    "start_time": "2022-02-04T13:40:35.367Z"
   },
   {
    "duration": 5,
    "start_time": "2022-02-04T13:41:42.674Z"
   },
   {
    "duration": 597,
    "start_time": "2022-02-04T13:41:49.534Z"
   },
   {
    "duration": 11,
    "start_time": "2022-02-04T13:41:50.133Z"
   },
   {
    "duration": 19,
    "start_time": "2022-02-04T13:41:50.145Z"
   },
   {
    "duration": 19,
    "start_time": "2022-02-04T13:41:50.166Z"
   },
   {
    "duration": 25,
    "start_time": "2022-02-04T13:41:50.187Z"
   },
   {
    "duration": 17,
    "start_time": "2022-02-04T13:41:50.214Z"
   },
   {
    "duration": 4,
    "start_time": "2022-02-04T13:41:50.232Z"
   },
   {
    "duration": 10,
    "start_time": "2022-02-04T13:41:50.238Z"
   },
   {
    "duration": 4,
    "start_time": "2022-02-04T13:41:50.250Z"
   },
   {
    "duration": 12,
    "start_time": "2022-02-04T13:41:50.255Z"
   },
   {
    "duration": 2,
    "start_time": "2022-02-04T13:41:50.313Z"
   },
   {
    "duration": 262,
    "start_time": "2022-02-04T13:41:50.317Z"
   },
   {
    "duration": -139,
    "start_time": "2022-02-04T13:41:50.720Z"
   },
   {
    "duration": -149,
    "start_time": "2022-02-04T13:41:50.731Z"
   },
   {
    "duration": -150,
    "start_time": "2022-02-04T13:41:50.733Z"
   },
   {
    "duration": -152,
    "start_time": "2022-02-04T13:41:50.737Z"
   },
   {
    "duration": -167,
    "start_time": "2022-02-04T13:41:50.752Z"
   },
   {
    "duration": -183,
    "start_time": "2022-02-04T13:41:50.770Z"
   },
   {
    "duration": -189,
    "start_time": "2022-02-04T13:41:50.777Z"
   },
   {
    "duration": -192,
    "start_time": "2022-02-04T13:41:50.781Z"
   },
   {
    "duration": -194,
    "start_time": "2022-02-04T13:41:50.784Z"
   },
   {
    "duration": -198,
    "start_time": "2022-02-04T13:41:50.789Z"
   },
   {
    "duration": -202,
    "start_time": "2022-02-04T13:41:50.794Z"
   },
   {
    "duration": -205,
    "start_time": "2022-02-04T13:41:50.798Z"
   },
   {
    "duration": -208,
    "start_time": "2022-02-04T13:41:50.802Z"
   },
   {
    "duration": -211,
    "start_time": "2022-02-04T13:41:50.807Z"
   },
   {
    "duration": -213,
    "start_time": "2022-02-04T13:41:50.810Z"
   },
   {
    "duration": -216,
    "start_time": "2022-02-04T13:41:50.814Z"
   },
   {
    "duration": -219,
    "start_time": "2022-02-04T13:41:50.818Z"
   },
   {
    "duration": -231,
    "start_time": "2022-02-04T13:41:50.831Z"
   },
   {
    "duration": -234,
    "start_time": "2022-02-04T13:41:50.835Z"
   },
   {
    "duration": -239,
    "start_time": "2022-02-04T13:41:50.841Z"
   },
   {
    "duration": -246,
    "start_time": "2022-02-04T13:41:50.849Z"
   },
   {
    "duration": -248,
    "start_time": "2022-02-04T13:41:50.852Z"
   },
   {
    "duration": -251,
    "start_time": "2022-02-04T13:41:50.856Z"
   },
   {
    "duration": -260,
    "start_time": "2022-02-04T13:41:50.866Z"
   },
   {
    "duration": -263,
    "start_time": "2022-02-04T13:41:50.870Z"
   },
   {
    "duration": -278,
    "start_time": "2022-02-04T13:41:50.886Z"
   },
   {
    "duration": -289,
    "start_time": "2022-02-04T13:41:50.899Z"
   },
   {
    "duration": -291,
    "start_time": "2022-02-04T13:41:50.902Z"
   },
   {
    "duration": 5,
    "start_time": "2022-02-04T13:42:09.399Z"
   },
   {
    "duration": 608,
    "start_time": "2022-02-04T13:42:19.650Z"
   },
   {
    "duration": 11,
    "start_time": "2022-02-04T13:42:20.260Z"
   },
   {
    "duration": 20,
    "start_time": "2022-02-04T13:42:20.273Z"
   },
   {
    "duration": 20,
    "start_time": "2022-02-04T13:42:20.295Z"
   },
   {
    "duration": 7,
    "start_time": "2022-02-04T13:42:20.317Z"
   },
   {
    "duration": 20,
    "start_time": "2022-02-04T13:42:20.326Z"
   },
   {
    "duration": 4,
    "start_time": "2022-02-04T13:42:20.348Z"
   },
   {
    "duration": 13,
    "start_time": "2022-02-04T13:42:20.355Z"
   },
   {
    "duration": 47,
    "start_time": "2022-02-04T13:42:20.370Z"
   },
   {
    "duration": 22,
    "start_time": "2022-02-04T13:42:20.418Z"
   },
   {
    "duration": 7,
    "start_time": "2022-02-04T13:42:20.442Z"
   },
   {
    "duration": 277,
    "start_time": "2022-02-04T13:42:20.450Z"
   },
   {
    "duration": -75,
    "start_time": "2022-02-04T13:42:20.806Z"
   },
   {
    "duration": -83,
    "start_time": "2022-02-04T13:42:20.815Z"
   },
   {
    "duration": -87,
    "start_time": "2022-02-04T13:42:20.820Z"
   },
   {
    "duration": -92,
    "start_time": "2022-02-04T13:42:20.826Z"
   },
   {
    "duration": -94,
    "start_time": "2022-02-04T13:42:20.829Z"
   },
   {
    "duration": -95,
    "start_time": "2022-02-04T13:42:20.831Z"
   },
   {
    "duration": -103,
    "start_time": "2022-02-04T13:42:20.840Z"
   },
   {
    "duration": -105,
    "start_time": "2022-02-04T13:42:20.843Z"
   },
   {
    "duration": -106,
    "start_time": "2022-02-04T13:42:20.845Z"
   },
   {
    "duration": -108,
    "start_time": "2022-02-04T13:42:20.848Z"
   },
   {
    "duration": -109,
    "start_time": "2022-02-04T13:42:20.850Z"
   },
   {
    "duration": -114,
    "start_time": "2022-02-04T13:42:20.856Z"
   },
   {
    "duration": -116,
    "start_time": "2022-02-04T13:42:20.859Z"
   },
   {
    "duration": -117,
    "start_time": "2022-02-04T13:42:20.861Z"
   },
   {
    "duration": -119,
    "start_time": "2022-02-04T13:42:20.864Z"
   },
   {
    "duration": -120,
    "start_time": "2022-02-04T13:42:20.866Z"
   },
   {
    "duration": -122,
    "start_time": "2022-02-04T13:42:20.869Z"
   },
   {
    "duration": -124,
    "start_time": "2022-02-04T13:42:20.872Z"
   },
   {
    "duration": -126,
    "start_time": "2022-02-04T13:42:20.875Z"
   },
   {
    "duration": -127,
    "start_time": "2022-02-04T13:42:20.877Z"
   },
   {
    "duration": -146,
    "start_time": "2022-02-04T13:42:20.897Z"
   },
   {
    "duration": -149,
    "start_time": "2022-02-04T13:42:20.901Z"
   },
   {
    "duration": -160,
    "start_time": "2022-02-04T13:42:20.913Z"
   },
   {
    "duration": -163,
    "start_time": "2022-02-04T13:42:20.917Z"
   },
   {
    "duration": -175,
    "start_time": "2022-02-04T13:42:20.930Z"
   },
   {
    "duration": -177,
    "start_time": "2022-02-04T13:42:20.933Z"
   },
   {
    "duration": -189,
    "start_time": "2022-02-04T13:42:20.946Z"
   },
   {
    "duration": -192,
    "start_time": "2022-02-04T13:42:20.950Z"
   },
   {
    "duration": 16,
    "start_time": "2022-02-04T13:42:36.277Z"
   },
   {
    "duration": 221,
    "start_time": "2022-02-04T13:42:53.022Z"
   },
   {
    "duration": 13,
    "start_time": "2022-02-04T13:43:42.167Z"
   },
   {
    "duration": 14,
    "start_time": "2022-02-04T13:43:53.848Z"
   },
   {
    "duration": 37,
    "start_time": "2022-02-04T13:45:26.274Z"
   },
   {
    "duration": 12,
    "start_time": "2022-02-04T13:45:39.887Z"
   },
   {
    "duration": 36,
    "start_time": "2022-02-04T13:45:57.601Z"
   },
   {
    "duration": 12,
    "start_time": "2022-02-04T13:46:00.506Z"
   },
   {
    "duration": 19,
    "start_time": "2022-02-04T13:46:56.196Z"
   },
   {
    "duration": 223,
    "start_time": "2022-02-04T13:47:01.742Z"
   },
   {
    "duration": 15,
    "start_time": "2022-02-04T13:47:08.791Z"
   },
   {
    "duration": 15,
    "start_time": "2022-02-04T13:47:36.767Z"
   },
   {
    "duration": 116,
    "start_time": "2022-02-04T13:48:03.726Z"
   },
   {
    "duration": 211,
    "start_time": "2022-02-04T13:48:09.238Z"
   },
   {
    "duration": 25,
    "start_time": "2022-02-04T13:48:26.591Z"
   },
   {
    "duration": 26,
    "start_time": "2022-02-04T13:48:35.959Z"
   },
   {
    "duration": 28,
    "start_time": "2022-02-04T13:49:54.055Z"
   },
   {
    "duration": 139,
    "start_time": "2022-02-04T13:50:39.987Z"
   },
   {
    "duration": 37,
    "start_time": "2022-02-04T13:51:11.184Z"
   },
   {
    "duration": 21,
    "start_time": "2022-02-04T13:51:41.247Z"
   },
   {
    "duration": 18,
    "start_time": "2022-02-04T13:52:07.293Z"
   },
   {
    "duration": 19,
    "start_time": "2022-02-04T13:52:15.601Z"
   },
   {
    "duration": 19,
    "start_time": "2022-02-04T13:52:20.037Z"
   },
   {
    "duration": 19,
    "start_time": "2022-02-04T13:52:29.788Z"
   },
   {
    "duration": 19,
    "start_time": "2022-02-04T13:52:33.223Z"
   },
   {
    "duration": 23,
    "start_time": "2022-02-04T13:52:43.777Z"
   },
   {
    "duration": 21,
    "start_time": "2022-02-04T13:52:49.537Z"
   },
   {
    "duration": 25,
    "start_time": "2022-02-04T13:52:52.608Z"
   },
   {
    "duration": 22,
    "start_time": "2022-02-04T13:54:26.929Z"
   },
   {
    "duration": 21,
    "start_time": "2022-02-04T13:54:32.797Z"
   },
   {
    "duration": 23,
    "start_time": "2022-02-04T13:54:36.275Z"
   },
   {
    "duration": 612,
    "start_time": "2022-02-04T13:54:45.131Z"
   },
   {
    "duration": 13,
    "start_time": "2022-02-04T13:54:45.745Z"
   },
   {
    "duration": 21,
    "start_time": "2022-02-04T13:54:45.763Z"
   },
   {
    "duration": 16,
    "start_time": "2022-02-04T13:54:45.813Z"
   },
   {
    "duration": 8,
    "start_time": "2022-02-04T13:54:45.831Z"
   },
   {
    "duration": 19,
    "start_time": "2022-02-04T13:54:45.841Z"
   },
   {
    "duration": 5,
    "start_time": "2022-02-04T13:54:45.863Z"
   },
   {
    "duration": 13,
    "start_time": "2022-02-04T13:54:45.913Z"
   },
   {
    "duration": 32,
    "start_time": "2022-02-04T13:54:45.927Z"
   },
   {
    "duration": 14,
    "start_time": "2022-02-04T13:54:45.961Z"
   },
   {
    "duration": 37,
    "start_time": "2022-02-04T13:54:45.976Z"
   },
   {
    "duration": 280,
    "start_time": "2022-02-04T13:54:46.015Z"
   },
   {
    "duration": -97,
    "start_time": "2022-02-04T13:54:46.396Z"
   },
   {
    "duration": -110,
    "start_time": "2022-02-04T13:54:46.410Z"
   },
   {
    "duration": -122,
    "start_time": "2022-02-04T13:54:46.424Z"
   },
   {
    "duration": -133,
    "start_time": "2022-02-04T13:54:46.436Z"
   },
   {
    "duration": -145,
    "start_time": "2022-02-04T13:54:46.450Z"
   },
   {
    "duration": -148,
    "start_time": "2022-02-04T13:54:46.455Z"
   },
   {
    "duration": -154,
    "start_time": "2022-02-04T13:54:46.462Z"
   },
   {
    "duration": -156,
    "start_time": "2022-02-04T13:54:46.466Z"
   },
   {
    "duration": -159,
    "start_time": "2022-02-04T13:54:46.470Z"
   },
   {
    "duration": -163,
    "start_time": "2022-02-04T13:54:46.476Z"
   },
   {
    "duration": -165,
    "start_time": "2022-02-04T13:54:46.479Z"
   },
   {
    "duration": -167,
    "start_time": "2022-02-04T13:54:46.482Z"
   },
   {
    "duration": -169,
    "start_time": "2022-02-04T13:54:46.486Z"
   },
   {
    "duration": -172,
    "start_time": "2022-02-04T13:54:46.490Z"
   },
   {
    "duration": -173,
    "start_time": "2022-02-04T13:54:46.493Z"
   },
   {
    "duration": -174,
    "start_time": "2022-02-04T13:54:46.495Z"
   },
   {
    "duration": -176,
    "start_time": "2022-02-04T13:54:46.498Z"
   },
   {
    "duration": -177,
    "start_time": "2022-02-04T13:54:46.501Z"
   },
   {
    "duration": -178,
    "start_time": "2022-02-04T13:54:46.503Z"
   },
   {
    "duration": -179,
    "start_time": "2022-02-04T13:54:46.506Z"
   },
   {
    "duration": -184,
    "start_time": "2022-02-04T13:54:46.512Z"
   },
   {
    "duration": -186,
    "start_time": "2022-02-04T13:54:46.515Z"
   },
   {
    "duration": -190,
    "start_time": "2022-02-04T13:54:46.520Z"
   },
   {
    "duration": -192,
    "start_time": "2022-02-04T13:54:46.523Z"
   },
   {
    "duration": -193,
    "start_time": "2022-02-04T13:54:46.525Z"
   },
   {
    "duration": -195,
    "start_time": "2022-02-04T13:54:46.528Z"
   },
   {
    "duration": -196,
    "start_time": "2022-02-04T13:54:46.530Z"
   },
   {
    "duration": -201,
    "start_time": "2022-02-04T13:54:46.536Z"
   },
   {
    "duration": 48,
    "start_time": "2022-02-04T13:57:22.893Z"
   },
   {
    "duration": 36,
    "start_time": "2022-02-04T13:57:30.021Z"
   },
   {
    "duration": 616,
    "start_time": "2022-02-04T13:57:42.781Z"
   },
   {
    "duration": 11,
    "start_time": "2022-02-04T13:57:43.398Z"
   },
   {
    "duration": 22,
    "start_time": "2022-02-04T13:57:43.412Z"
   },
   {
    "duration": 15,
    "start_time": "2022-02-04T13:57:43.437Z"
   },
   {
    "duration": 9,
    "start_time": "2022-02-04T13:57:43.454Z"
   },
   {
    "duration": 51,
    "start_time": "2022-02-04T13:57:43.465Z"
   },
   {
    "duration": 5,
    "start_time": "2022-02-04T13:57:43.518Z"
   },
   {
    "duration": 23,
    "start_time": "2022-02-04T13:57:43.527Z"
   },
   {
    "duration": 61,
    "start_time": "2022-02-04T13:57:43.552Z"
   },
   {
    "duration": 15,
    "start_time": "2022-02-04T13:57:43.615Z"
   },
   {
    "duration": 10,
    "start_time": "2022-02-04T13:57:43.632Z"
   },
   {
    "duration": 305,
    "start_time": "2022-02-04T13:57:43.644Z"
   },
   {
    "duration": -82,
    "start_time": "2022-02-04T13:57:44.033Z"
   },
   {
    "duration": -86,
    "start_time": "2022-02-04T13:57:44.038Z"
   },
   {
    "duration": -88,
    "start_time": "2022-02-04T13:57:44.041Z"
   },
   {
    "duration": -90,
    "start_time": "2022-02-04T13:57:44.044Z"
   },
   {
    "duration": -91,
    "start_time": "2022-02-04T13:57:44.046Z"
   },
   {
    "duration": -93,
    "start_time": "2022-02-04T13:57:44.049Z"
   },
   {
    "duration": -95,
    "start_time": "2022-02-04T13:57:44.052Z"
   },
   {
    "duration": -104,
    "start_time": "2022-02-04T13:57:44.062Z"
   },
   {
    "duration": -107,
    "start_time": "2022-02-04T13:57:44.066Z"
   },
   {
    "duration": -110,
    "start_time": "2022-02-04T13:57:44.070Z"
   },
   {
    "duration": -111,
    "start_time": "2022-02-04T13:57:44.072Z"
   },
   {
    "duration": -113,
    "start_time": "2022-02-04T13:57:44.075Z"
   },
   {
    "duration": -114,
    "start_time": "2022-02-04T13:57:44.077Z"
   },
   {
    "duration": -116,
    "start_time": "2022-02-04T13:57:44.080Z"
   },
   {
    "duration": -117,
    "start_time": "2022-02-04T13:57:44.082Z"
   },
   {
    "duration": -119,
    "start_time": "2022-02-04T13:57:44.085Z"
   },
   {
    "duration": -122,
    "start_time": "2022-02-04T13:57:44.088Z"
   },
   {
    "duration": -124,
    "start_time": "2022-02-04T13:57:44.091Z"
   },
   {
    "duration": -127,
    "start_time": "2022-02-04T13:57:44.095Z"
   },
   {
    "duration": -129,
    "start_time": "2022-02-04T13:57:44.098Z"
   },
   {
    "duration": -131,
    "start_time": "2022-02-04T13:57:44.101Z"
   },
   {
    "duration": -140,
    "start_time": "2022-02-04T13:57:44.111Z"
   },
   {
    "duration": -142,
    "start_time": "2022-02-04T13:57:44.114Z"
   },
   {
    "duration": -145,
    "start_time": "2022-02-04T13:57:44.118Z"
   },
   {
    "duration": -147,
    "start_time": "2022-02-04T13:57:44.121Z"
   },
   {
    "duration": -149,
    "start_time": "2022-02-04T13:57:44.124Z"
   },
   {
    "duration": -151,
    "start_time": "2022-02-04T13:57:44.126Z"
   },
   {
    "duration": -152,
    "start_time": "2022-02-04T13:57:44.129Z"
   },
   {
    "duration": 28,
    "start_time": "2022-02-04T13:58:19.335Z"
   },
   {
    "duration": 29,
    "start_time": "2022-02-04T13:58:35.444Z"
   },
   {
    "duration": 12,
    "start_time": "2022-02-04T13:58:39.991Z"
   },
   {
    "duration": 12,
    "start_time": "2022-02-04T13:59:21.561Z"
   },
   {
    "duration": 12,
    "start_time": "2022-02-04T13:59:24.647Z"
   },
   {
    "duration": 4,
    "start_time": "2022-02-04T13:59:31.048Z"
   },
   {
    "duration": 13,
    "start_time": "2022-02-04T13:59:37.792Z"
   },
   {
    "duration": 5,
    "start_time": "2022-02-04T13:59:40.179Z"
   },
   {
    "duration": 609,
    "start_time": "2022-02-04T13:59:45.428Z"
   },
   {
    "duration": 13,
    "start_time": "2022-02-04T13:59:46.038Z"
   },
   {
    "duration": 21,
    "start_time": "2022-02-04T13:59:46.053Z"
   },
   {
    "duration": 40,
    "start_time": "2022-02-04T13:59:46.076Z"
   },
   {
    "duration": 8,
    "start_time": "2022-02-04T13:59:46.118Z"
   },
   {
    "duration": 18,
    "start_time": "2022-02-04T13:59:46.128Z"
   },
   {
    "duration": 5,
    "start_time": "2022-02-04T13:59:46.148Z"
   },
   {
    "duration": 61,
    "start_time": "2022-02-04T13:59:46.156Z"
   },
   {
    "duration": 13,
    "start_time": "2022-02-04T13:59:46.220Z"
   },
   {
    "duration": 13,
    "start_time": "2022-02-04T13:59:46.235Z"
   },
   {
    "duration": 3,
    "start_time": "2022-02-04T13:59:46.250Z"
   },
   {
    "duration": 7,
    "start_time": "2022-02-04T13:59:46.255Z"
   },
   {
    "duration": 49,
    "start_time": "2022-02-04T13:59:46.263Z"
   },
   {
    "duration": 4,
    "start_time": "2022-02-04T13:59:46.314Z"
   },
   {
    "duration": 18,
    "start_time": "2022-02-04T13:59:46.319Z"
   },
   {
    "duration": 19,
    "start_time": "2022-02-04T13:59:46.339Z"
   },
   {
    "duration": 57,
    "start_time": "2022-02-04T13:59:46.359Z"
   },
   {
    "duration": 19,
    "start_time": "2022-02-04T13:59:46.418Z"
   },
   {
    "duration": 4,
    "start_time": "2022-02-04T13:59:46.439Z"
   },
   {
    "duration": 6,
    "start_time": "2022-02-04T13:59:46.445Z"
   },
   {
    "duration": 6,
    "start_time": "2022-02-04T13:59:46.453Z"
   },
   {
    "duration": 4,
    "start_time": "2022-02-04T13:59:46.461Z"
   },
   {
    "duration": 44,
    "start_time": "2022-02-04T13:59:46.468Z"
   },
   {
    "duration": 7,
    "start_time": "2022-02-04T13:59:46.514Z"
   },
   {
    "duration": 11,
    "start_time": "2022-02-04T13:59:46.523Z"
   },
   {
    "duration": 5,
    "start_time": "2022-02-04T13:59:46.535Z"
   },
   {
    "duration": 6,
    "start_time": "2022-02-04T13:59:46.542Z"
   },
   {
    "duration": 4,
    "start_time": "2022-02-04T13:59:46.549Z"
   },
   {
    "duration": 732,
    "start_time": "2022-02-04T13:59:46.554Z"
   },
   {
    "duration": 2684,
    "start_time": "2022-02-04T13:59:47.288Z"
   },
   {
    "duration": 6,
    "start_time": "2022-02-04T13:59:49.974Z"
   },
   {
    "duration": 43,
    "start_time": "2022-02-04T13:59:49.982Z"
   },
   {
    "duration": 23,
    "start_time": "2022-02-04T13:59:50.027Z"
   },
   {
    "duration": 263,
    "start_time": "2022-02-04T13:59:50.052Z"
   },
   {
    "duration": 22,
    "start_time": "2022-02-04T13:59:50.316Z"
   },
   {
    "duration": 23,
    "start_time": "2022-02-04T13:59:50.339Z"
   },
   {
    "duration": 7,
    "start_time": "2022-02-04T13:59:50.363Z"
   },
   {
    "duration": 42,
    "start_time": "2022-02-04T13:59:50.372Z"
   },
   {
    "duration": 9,
    "start_time": "2022-02-04T13:59:50.416Z"
   },
   {
    "duration": 12,
    "start_time": "2022-02-04T13:59:50.427Z"
   },
   {
    "duration": 12,
    "start_time": "2022-02-04T14:09:32.557Z"
   },
   {
    "duration": 5,
    "start_time": "2022-02-04T14:09:41.980Z"
   },
   {
    "duration": 593,
    "start_time": "2022-02-04T14:09:48.990Z"
   },
   {
    "duration": 11,
    "start_time": "2022-02-04T14:09:49.585Z"
   },
   {
    "duration": 26,
    "start_time": "2022-02-04T14:09:49.600Z"
   },
   {
    "duration": 13,
    "start_time": "2022-02-04T14:09:49.627Z"
   },
   {
    "duration": 7,
    "start_time": "2022-02-04T14:09:49.641Z"
   },
   {
    "duration": 17,
    "start_time": "2022-02-04T14:09:49.649Z"
   },
   {
    "duration": 4,
    "start_time": "2022-02-04T14:09:49.668Z"
   },
   {
    "duration": 10,
    "start_time": "2022-02-04T14:09:49.713Z"
   },
   {
    "duration": 10,
    "start_time": "2022-02-04T14:09:49.724Z"
   },
   {
    "duration": 10,
    "start_time": "2022-02-04T14:09:49.736Z"
   },
   {
    "duration": 2,
    "start_time": "2022-02-04T14:09:49.747Z"
   },
   {
    "duration": 4,
    "start_time": "2022-02-04T14:09:49.751Z"
   },
   {
    "duration": 11,
    "start_time": "2022-02-04T14:09:49.757Z"
   },
   {
    "duration": 4,
    "start_time": "2022-02-04T14:09:49.812Z"
   },
   {
    "duration": 16,
    "start_time": "2022-02-04T14:09:49.818Z"
   },
   {
    "duration": 18,
    "start_time": "2022-02-04T14:09:49.836Z"
   },
   {
    "duration": 20,
    "start_time": "2022-02-04T14:09:49.856Z"
   },
   {
    "duration": 50,
    "start_time": "2022-02-04T14:09:49.878Z"
   },
   {
    "duration": 4,
    "start_time": "2022-02-04T14:09:49.930Z"
   },
   {
    "duration": 8,
    "start_time": "2022-02-04T14:09:49.935Z"
   },
   {
    "duration": 6,
    "start_time": "2022-02-04T14:09:49.945Z"
   },
   {
    "duration": 4,
    "start_time": "2022-02-04T14:09:49.955Z"
   },
   {
    "duration": 51,
    "start_time": "2022-02-04T14:09:49.961Z"
   },
   {
    "duration": 7,
    "start_time": "2022-02-04T14:09:50.014Z"
   },
   {
    "duration": 13,
    "start_time": "2022-02-04T14:09:50.023Z"
   },
   {
    "duration": 4,
    "start_time": "2022-02-04T14:09:50.038Z"
   },
   {
    "duration": 6,
    "start_time": "2022-02-04T14:09:50.044Z"
   },
   {
    "duration": 3,
    "start_time": "2022-02-04T14:09:50.051Z"
   },
   {
    "duration": 727,
    "start_time": "2022-02-04T14:09:50.056Z"
   },
   {
    "duration": 2703,
    "start_time": "2022-02-04T14:09:50.785Z"
   },
   {
    "duration": 6,
    "start_time": "2022-02-04T14:09:53.490Z"
   },
   {
    "duration": 23,
    "start_time": "2022-02-04T14:09:53.512Z"
   },
   {
    "duration": 22,
    "start_time": "2022-02-04T14:09:53.537Z"
   },
   {
    "duration": 282,
    "start_time": "2022-02-04T14:09:53.561Z"
   },
   {
    "duration": 23,
    "start_time": "2022-02-04T14:09:53.845Z"
   },
   {
    "duration": 44,
    "start_time": "2022-02-04T14:09:53.869Z"
   },
   {
    "duration": 7,
    "start_time": "2022-02-04T14:09:53.915Z"
   },
   {
    "duration": 10,
    "start_time": "2022-02-04T14:09:53.923Z"
   },
   {
    "duration": 9,
    "start_time": "2022-02-04T14:09:53.934Z"
   },
   {
    "duration": 13,
    "start_time": "2022-02-04T14:09:53.945Z"
   },
   {
    "duration": 577,
    "start_time": "2022-02-05T08:39:37.887Z"
   },
   {
    "duration": 9,
    "start_time": "2022-02-05T08:39:38.466Z"
   },
   {
    "duration": 16,
    "start_time": "2022-02-05T08:39:38.477Z"
   },
   {
    "duration": 11,
    "start_time": "2022-02-05T08:39:38.495Z"
   },
   {
    "duration": 22,
    "start_time": "2022-02-05T08:39:38.507Z"
   },
   {
    "duration": 15,
    "start_time": "2022-02-05T08:39:38.530Z"
   },
   {
    "duration": 3,
    "start_time": "2022-02-05T08:39:38.546Z"
   },
   {
    "duration": 12,
    "start_time": "2022-02-05T08:39:38.551Z"
   },
   {
    "duration": 9,
    "start_time": "2022-02-05T08:39:38.565Z"
   },
   {
    "duration": 9,
    "start_time": "2022-02-05T08:39:38.576Z"
   },
   {
    "duration": 6,
    "start_time": "2022-02-05T08:39:43.779Z"
   },
   {
    "duration": 11,
    "start_time": "2022-02-05T08:39:50.870Z"
   },
   {
    "duration": 5,
    "start_time": "2022-02-05T08:39:56.069Z"
   },
   {
    "duration": 7,
    "start_time": "2022-02-05T08:40:20.061Z"
   },
   {
    "duration": 5,
    "start_time": "2022-02-05T08:40:24.185Z"
   },
   {
    "duration": 8,
    "start_time": "2022-02-05T08:40:28.901Z"
   },
   {
    "duration": 8,
    "start_time": "2022-02-05T08:40:46.977Z"
   },
   {
    "duration": 8,
    "start_time": "2022-02-05T08:40:53.932Z"
   },
   {
    "duration": 9,
    "start_time": "2022-02-05T08:41:00.233Z"
   },
   {
    "duration": 10,
    "start_time": "2022-02-05T08:41:13.772Z"
   },
   {
    "duration": 9,
    "start_time": "2022-02-05T08:41:18.842Z"
   },
   {
    "duration": 3,
    "start_time": "2022-02-05T08:41:33.483Z"
   },
   {
    "duration": 32,
    "start_time": "2022-02-05T08:42:01.062Z"
   },
   {
    "duration": 17,
    "start_time": "2022-02-05T08:42:16.663Z"
   },
   {
    "duration": 4,
    "start_time": "2022-02-05T08:42:20.544Z"
   },
   {
    "duration": 3,
    "start_time": "2022-02-05T08:42:46.126Z"
   },
   {
    "duration": 3532,
    "start_time": "2022-02-05T08:42:51.584Z"
   },
   {
    "duration": 272,
    "start_time": "2022-02-05T08:43:37.181Z"
   },
   {
    "duration": 3,
    "start_time": "2022-02-05T08:43:39.802Z"
   },
   {
    "duration": 319,
    "start_time": "2022-02-05T08:43:40.255Z"
   },
   {
    "duration": 3354,
    "start_time": "2022-02-05T08:44:12.300Z"
   },
   {
    "duration": 10,
    "start_time": "2022-02-05T08:47:11.039Z"
   },
   {
    "duration": 6,
    "start_time": "2022-02-05T08:47:43.973Z"
   },
   {
    "duration": 3,
    "start_time": "2022-02-05T08:48:53.221Z"
   },
   {
    "duration": 12,
    "start_time": "2022-02-05T08:48:53.226Z"
   },
   {
    "duration": 3,
    "start_time": "2022-02-05T08:48:53.240Z"
   },
   {
    "duration": 13,
    "start_time": "2022-02-05T08:48:53.245Z"
   },
   {
    "duration": 16,
    "start_time": "2022-02-05T08:48:53.260Z"
   },
   {
    "duration": 50,
    "start_time": "2022-02-05T08:48:53.277Z"
   },
   {
    "duration": 17,
    "start_time": "2022-02-05T08:48:53.329Z"
   },
   {
    "duration": 3,
    "start_time": "2022-02-05T08:48:53.348Z"
   },
   {
    "duration": 5,
    "start_time": "2022-02-05T08:48:53.353Z"
   },
   {
    "duration": 7,
    "start_time": "2022-02-05T08:48:53.359Z"
   },
   {
    "duration": 6,
    "start_time": "2022-02-05T08:48:53.367Z"
   },
   {
    "duration": 3,
    "start_time": "2022-02-05T08:48:53.375Z"
   },
   {
    "duration": 6,
    "start_time": "2022-02-05T08:48:53.379Z"
   },
   {
    "duration": 49,
    "start_time": "2022-02-05T08:48:53.387Z"
   },
   {
    "duration": 6,
    "start_time": "2022-02-05T08:48:53.437Z"
   },
   {
    "duration": 6,
    "start_time": "2022-02-05T08:48:53.444Z"
   },
   {
    "duration": 3,
    "start_time": "2022-02-05T08:48:53.451Z"
   },
   {
    "duration": 630,
    "start_time": "2022-02-05T08:48:53.455Z"
   },
   {
    "duration": 3227,
    "start_time": "2022-02-05T08:48:54.087Z"
   },
   {
    "duration": 14,
    "start_time": "2022-02-05T08:48:57.316Z"
   },
   {
    "duration": 21,
    "start_time": "2022-02-05T08:48:57.331Z"
   },
   {
    "duration": 19,
    "start_time": "2022-02-05T08:48:57.353Z"
   },
   {
    "duration": 226,
    "start_time": "2022-02-05T08:48:57.375Z"
   },
   {
    "duration": 25,
    "start_time": "2022-02-05T08:48:57.603Z"
   },
   {
    "duration": 19,
    "start_time": "2022-02-05T08:48:57.629Z"
   },
   {
    "duration": 6,
    "start_time": "2022-02-05T08:48:57.649Z"
   },
   {
    "duration": 8,
    "start_time": "2022-02-05T08:48:57.656Z"
   },
   {
    "duration": 6,
    "start_time": "2022-02-05T08:48:57.665Z"
   },
   {
    "duration": 11,
    "start_time": "2022-02-05T08:48:57.673Z"
   },
   {
    "duration": 10,
    "start_time": "2022-02-05T08:49:42.518Z"
   },
   {
    "duration": 12,
    "start_time": "2022-02-05T08:49:48.479Z"
   },
   {
    "duration": 12,
    "start_time": "2022-02-05T08:49:53.917Z"
   },
   {
    "duration": 359,
    "start_time": "2022-02-05T09:46:19.480Z"
   },
   {
    "duration": 813,
    "start_time": "2022-02-05T09:47:08.888Z"
   },
   {
    "duration": 14,
    "start_time": "2022-02-05T09:47:09.704Z"
   },
   {
    "duration": 28,
    "start_time": "2022-02-05T09:47:09.723Z"
   },
   {
    "duration": 19,
    "start_time": "2022-02-05T09:47:09.754Z"
   },
   {
    "duration": 9,
    "start_time": "2022-02-05T09:47:09.775Z"
   },
   {
    "duration": 57,
    "start_time": "2022-02-05T09:47:09.787Z"
   },
   {
    "duration": 6,
    "start_time": "2022-02-05T09:47:09.846Z"
   },
   {
    "duration": 15,
    "start_time": "2022-02-05T09:47:09.856Z"
   },
   {
    "duration": 56,
    "start_time": "2022-02-05T09:47:09.875Z"
   },
   {
    "duration": 17,
    "start_time": "2022-02-05T09:47:09.933Z"
   },
   {
    "duration": 11,
    "start_time": "2022-02-05T09:47:09.953Z"
   },
   {
    "duration": 17,
    "start_time": "2022-02-05T09:47:09.967Z"
   },
   {
    "duration": 43,
    "start_time": "2022-02-05T09:47:09.987Z"
   },
   {
    "duration": 15,
    "start_time": "2022-02-05T09:47:10.033Z"
   },
   {
    "duration": 10,
    "start_time": "2022-02-05T09:47:10.051Z"
   },
   {
    "duration": 15,
    "start_time": "2022-02-05T09:47:10.064Z"
   },
   {
    "duration": 17,
    "start_time": "2022-02-05T09:47:10.123Z"
   },
   {
    "duration": 14,
    "start_time": "2022-02-05T09:47:10.143Z"
   },
   {
    "duration": 13,
    "start_time": "2022-02-05T09:47:10.159Z"
   },
   {
    "duration": 53,
    "start_time": "2022-02-05T09:47:10.174Z"
   },
   {
    "duration": 14,
    "start_time": "2022-02-05T09:47:10.230Z"
   },
   {
    "duration": 6,
    "start_time": "2022-02-05T09:47:10.246Z"
   },
   {
    "duration": 80,
    "start_time": "2022-02-05T09:47:10.257Z"
   },
   {
    "duration": 28,
    "start_time": "2022-02-05T09:47:10.340Z"
   },
   {
    "duration": 7,
    "start_time": "2022-02-05T09:47:10.371Z"
   },
   {
    "duration": 12,
    "start_time": "2022-02-05T09:47:10.380Z"
   },
   {
    "duration": 6888,
    "start_time": "2022-02-05T09:47:10.422Z"
   },
   {
    "duration": 11,
    "start_time": "2022-02-05T09:47:17.312Z"
   },
   {
    "duration": 6,
    "start_time": "2022-02-05T09:47:17.326Z"
   },
   {
    "duration": 5,
    "start_time": "2022-02-05T09:47:17.334Z"
   },
   {
    "duration": 12,
    "start_time": "2022-02-05T09:47:17.341Z"
   },
   {
    "duration": 16,
    "start_time": "2022-02-05T09:47:17.355Z"
   },
   {
    "duration": 4,
    "start_time": "2022-02-05T09:47:17.374Z"
   },
   {
    "duration": 57,
    "start_time": "2022-02-05T09:47:17.381Z"
   },
   {
    "duration": 6,
    "start_time": "2022-02-05T09:47:17.440Z"
   },
   {
    "duration": 39,
    "start_time": "2022-02-05T09:47:17.449Z"
   },
   {
    "duration": 46,
    "start_time": "2022-02-05T09:47:17.491Z"
   },
   {
    "duration": 31,
    "start_time": "2022-02-05T09:47:17.540Z"
   },
   {
    "duration": 25,
    "start_time": "2022-02-05T09:47:17.574Z"
   },
   {
    "duration": 5,
    "start_time": "2022-02-05T09:47:17.624Z"
   },
   {
    "duration": 21,
    "start_time": "2022-02-05T09:47:17.631Z"
   },
   {
    "duration": 18,
    "start_time": "2022-02-05T09:47:17.654Z"
   },
   {
    "duration": 16,
    "start_time": "2022-02-05T09:47:17.674Z"
   },
   {
    "duration": 10,
    "start_time": "2022-02-05T09:47:17.692Z"
   },
   {
    "duration": 23,
    "start_time": "2022-02-05T09:47:17.704Z"
   },
   {
    "duration": 19,
    "start_time": "2022-02-05T09:47:17.729Z"
   },
   {
    "duration": 6,
    "start_time": "2022-02-05T09:47:17.751Z"
   },
   {
    "duration": 6,
    "start_time": "2022-02-05T09:47:17.759Z"
   },
   {
    "duration": 5,
    "start_time": "2022-02-05T09:47:17.767Z"
   },
   {
    "duration": 1319,
    "start_time": "2022-02-05T09:47:17.774Z"
   },
   {
    "duration": 3765,
    "start_time": "2022-02-05T09:47:19.095Z"
   },
   {
    "duration": 8,
    "start_time": "2022-02-05T09:47:22.862Z"
   },
   {
    "duration": 55,
    "start_time": "2022-02-05T09:47:22.872Z"
   },
   {
    "duration": 33,
    "start_time": "2022-02-05T09:47:22.930Z"
   },
   {
    "duration": 391,
    "start_time": "2022-02-05T09:47:22.965Z"
   },
   {
    "duration": 34,
    "start_time": "2022-02-05T09:47:23.359Z"
   },
   {
    "duration": 53,
    "start_time": "2022-02-05T09:47:23.396Z"
   },
   {
    "duration": 10,
    "start_time": "2022-02-05T09:47:23.451Z"
   },
   {
    "duration": 11,
    "start_time": "2022-02-05T09:47:23.463Z"
   },
   {
    "duration": 10,
    "start_time": "2022-02-05T09:47:23.476Z"
   },
   {
    "duration": 43,
    "start_time": "2022-02-05T09:47:23.488Z"
   },
   {
    "duration": 35,
    "start_time": "2022-02-05T09:47:52.463Z"
   },
   {
    "duration": 39,
    "start_time": "2022-02-05T09:48:48.430Z"
   },
   {
    "duration": 37,
    "start_time": "2022-02-05T09:49:10.085Z"
   },
   {
    "duration": 38,
    "start_time": "2022-02-05T09:50:03.839Z"
   },
   {
    "duration": 36,
    "start_time": "2022-02-05T09:50:16.365Z"
   },
   {
    "duration": 35,
    "start_time": "2022-02-05T09:50:27.320Z"
   },
   {
    "duration": 37,
    "start_time": "2022-02-05T09:50:47.309Z"
   },
   {
    "duration": 35,
    "start_time": "2022-02-05T09:50:54.601Z"
   },
   {
    "duration": 35,
    "start_time": "2022-02-05T09:51:03.842Z"
   },
   {
    "duration": 38,
    "start_time": "2022-02-05T09:52:46.333Z"
   },
   {
    "duration": 52,
    "start_time": "2022-02-05T09:53:07.031Z"
   },
   {
    "duration": 34,
    "start_time": "2022-02-05T09:53:17.637Z"
   },
   {
    "duration": 37,
    "start_time": "2022-02-05T09:53:24.617Z"
   },
   {
    "duration": 35,
    "start_time": "2022-02-05T09:54:08.409Z"
   },
   {
    "duration": 36,
    "start_time": "2022-02-05T09:54:21.575Z"
   },
   {
    "duration": 36,
    "start_time": "2022-02-05T09:54:30.332Z"
   },
   {
    "duration": 37,
    "start_time": "2022-02-05T09:54:33.875Z"
   },
   {
    "duration": 37,
    "start_time": "2022-02-05T09:54:36.677Z"
   },
   {
    "duration": 36,
    "start_time": "2022-02-05T09:54:43.532Z"
   },
   {
    "duration": 35,
    "start_time": "2022-02-05T09:54:47.441Z"
   },
   {
    "duration": 36,
    "start_time": "2022-02-05T09:54:51.485Z"
   },
   {
    "duration": 35,
    "start_time": "2022-02-05T09:54:55.746Z"
   },
   {
    "duration": 34,
    "start_time": "2022-02-05T09:54:59.374Z"
   },
   {
    "duration": 35,
    "start_time": "2022-02-05T09:55:02.685Z"
   },
   {
    "duration": 36,
    "start_time": "2022-02-05T09:55:06.619Z"
   },
   {
    "duration": 35,
    "start_time": "2022-02-05T09:55:09.819Z"
   },
   {
    "duration": 34,
    "start_time": "2022-02-05T09:55:13.270Z"
   },
   {
    "duration": 34,
    "start_time": "2022-02-05T09:55:16.689Z"
   },
   {
    "duration": 37,
    "start_time": "2022-02-05T09:55:20.461Z"
   },
   {
    "duration": 35,
    "start_time": "2022-02-05T09:55:23.413Z"
   },
   {
    "duration": 33,
    "start_time": "2022-02-05T09:55:28.909Z"
   },
   {
    "duration": 36,
    "start_time": "2022-02-05T09:55:38.024Z"
   },
   {
    "duration": 36,
    "start_time": "2022-02-05T09:55:40.462Z"
   },
   {
    "duration": 65,
    "start_time": "2022-02-05T09:55:43.326Z"
   },
   {
    "duration": 36,
    "start_time": "2022-02-05T09:55:48.465Z"
   },
   {
    "duration": 35,
    "start_time": "2022-02-05T09:55:51.533Z"
   },
   {
    "duration": 38,
    "start_time": "2022-02-05T09:55:54.753Z"
   },
   {
    "duration": 36,
    "start_time": "2022-02-05T09:56:05.990Z"
   },
   {
    "duration": 35,
    "start_time": "2022-02-05T09:56:59.057Z"
   },
   {
    "duration": 36,
    "start_time": "2022-02-05T09:57:03.109Z"
   },
   {
    "duration": 36,
    "start_time": "2022-02-05T09:57:08.734Z"
   },
   {
    "duration": 36,
    "start_time": "2022-02-05T09:57:17.066Z"
   },
   {
    "duration": 37,
    "start_time": "2022-02-05T09:57:20.157Z"
   },
   {
    "duration": 36,
    "start_time": "2022-02-05T09:57:23.618Z"
   },
   {
    "duration": 36,
    "start_time": "2022-02-05T09:57:28.210Z"
   },
   {
    "duration": 38,
    "start_time": "2022-02-05T09:57:35.110Z"
   },
   {
    "duration": 37,
    "start_time": "2022-02-05T09:58:36.019Z"
   },
   {
    "duration": 35,
    "start_time": "2022-02-05T09:58:53.683Z"
   },
   {
    "duration": 35,
    "start_time": "2022-02-05T09:59:04.139Z"
   },
   {
    "duration": 36,
    "start_time": "2022-02-05T09:59:15.654Z"
   },
   {
    "duration": 35,
    "start_time": "2022-02-05T09:59:25.474Z"
   },
   {
    "duration": 35,
    "start_time": "2022-02-05T10:08:43.279Z"
   },
   {
    "duration": 33,
    "start_time": "2022-02-05T10:10:17.602Z"
   },
   {
    "duration": 32,
    "start_time": "2022-02-05T10:10:31.123Z"
   },
   {
    "duration": 29,
    "start_time": "2022-02-05T10:10:35.637Z"
   },
   {
    "duration": 850,
    "start_time": "2022-02-05T10:14:41.798Z"
   },
   {
    "duration": 17,
    "start_time": "2022-02-05T10:14:42.651Z"
   },
   {
    "duration": 54,
    "start_time": "2022-02-05T10:14:42.671Z"
   },
   {
    "duration": 23,
    "start_time": "2022-02-05T10:14:42.728Z"
   },
   {
    "duration": 11,
    "start_time": "2022-02-05T10:14:42.754Z"
   },
   {
    "duration": 62,
    "start_time": "2022-02-05T10:14:42.768Z"
   },
   {
    "duration": 5,
    "start_time": "2022-02-05T10:14:42.833Z"
   },
   {
    "duration": 16,
    "start_time": "2022-02-05T10:14:42.842Z"
   },
   {
    "duration": 16,
    "start_time": "2022-02-05T10:14:42.861Z"
   },
   {
    "duration": 47,
    "start_time": "2022-02-05T10:14:42.879Z"
   },
   {
    "duration": 9,
    "start_time": "2022-02-05T10:14:42.928Z"
   },
   {
    "duration": 17,
    "start_time": "2022-02-05T10:14:42.940Z"
   },
   {
    "duration": 9,
    "start_time": "2022-02-05T10:14:42.960Z"
   },
   {
    "duration": 58,
    "start_time": "2022-02-05T10:14:42.971Z"
   },
   {
    "duration": 11,
    "start_time": "2022-02-05T10:14:43.032Z"
   },
   {
    "duration": 13,
    "start_time": "2022-02-05T10:14:43.046Z"
   },
   {
    "duration": 12,
    "start_time": "2022-02-05T10:14:43.061Z"
   },
   {
    "duration": 50,
    "start_time": "2022-02-05T10:14:43.075Z"
   },
   {
    "duration": 14,
    "start_time": "2022-02-05T10:14:43.127Z"
   },
   {
    "duration": 18,
    "start_time": "2022-02-05T10:14:43.144Z"
   },
   {
    "duration": 16,
    "start_time": "2022-02-05T10:14:43.165Z"
   },
   {
    "duration": 6,
    "start_time": "2022-02-05T10:14:43.225Z"
   },
   {
    "duration": 52,
    "start_time": "2022-02-05T10:14:43.240Z"
   },
   {
    "duration": 30,
    "start_time": "2022-02-05T10:14:43.325Z"
   },
   {
    "duration": 6,
    "start_time": "2022-02-05T10:14:43.358Z"
   },
   {
    "duration": 6,
    "start_time": "2022-02-05T10:14:43.367Z"
   },
   {
    "duration": 7333,
    "start_time": "2022-02-05T10:14:43.375Z"
   },
   {
    "duration": 3,
    "start_time": "2022-02-05T10:14:50.711Z"
   },
   {
    "duration": 3,
    "start_time": "2022-02-05T10:14:50.723Z"
   },
   {
    "duration": 11,
    "start_time": "2022-02-05T10:14:50.729Z"
   },
   {
    "duration": 24,
    "start_time": "2022-02-05T10:14:50.742Z"
   },
   {
    "duration": 21,
    "start_time": "2022-02-05T10:14:50.769Z"
   },
   {
    "duration": 33,
    "start_time": "2022-02-05T10:14:50.793Z"
   },
   {
    "duration": 22,
    "start_time": "2022-02-05T10:14:50.828Z"
   },
   {
    "duration": 7,
    "start_time": "2022-02-05T10:14:50.853Z"
   },
   {
    "duration": 23,
    "start_time": "2022-02-05T10:14:50.863Z"
   },
   {
    "duration": 65,
    "start_time": "2022-02-05T10:14:50.888Z"
   },
   {
    "duration": 33,
    "start_time": "2022-02-05T10:14:50.955Z"
   },
   {
    "duration": 53,
    "start_time": "2022-02-05T10:14:50.990Z"
   },
   {
    "duration": 5,
    "start_time": "2022-02-05T10:14:51.045Z"
   },
   {
    "duration": 8,
    "start_time": "2022-02-05T10:14:51.053Z"
   },
   {
    "duration": 13,
    "start_time": "2022-02-05T10:14:51.063Z"
   },
   {
    "duration": 47,
    "start_time": "2022-02-05T10:14:51.079Z"
   },
   {
    "duration": 5,
    "start_time": "2022-02-05T10:14:51.128Z"
   },
   {
    "duration": 14,
    "start_time": "2022-02-05T10:14:51.136Z"
   },
   {
    "duration": 19,
    "start_time": "2022-02-05T10:14:51.152Z"
   },
   {
    "duration": 7,
    "start_time": "2022-02-05T10:14:51.174Z"
   },
   {
    "duration": 45,
    "start_time": "2022-02-05T10:14:51.183Z"
   },
   {
    "duration": 13,
    "start_time": "2022-02-05T10:14:51.231Z"
   },
   {
    "duration": 952,
    "start_time": "2022-02-05T10:14:51.247Z"
   },
   {
    "duration": 3907,
    "start_time": "2022-02-05T10:14:52.202Z"
   },
   {
    "duration": 8,
    "start_time": "2022-02-05T10:14:56.124Z"
   },
   {
    "duration": 34,
    "start_time": "2022-02-05T10:14:56.135Z"
   },
   {
    "duration": 56,
    "start_time": "2022-02-05T10:14:56.171Z"
   },
   {
    "duration": 399,
    "start_time": "2022-02-05T10:14:56.229Z"
   },
   {
    "duration": 35,
    "start_time": "2022-02-05T10:14:56.631Z"
   },
   {
    "duration": 54,
    "start_time": "2022-02-05T10:14:56.669Z"
   },
   {
    "duration": 9,
    "start_time": "2022-02-05T10:14:56.726Z"
   },
   {
    "duration": 10,
    "start_time": "2022-02-05T10:14:56.738Z"
   },
   {
    "duration": 9,
    "start_time": "2022-02-05T10:14:56.751Z"
   },
   {
    "duration": 9,
    "start_time": "2022-02-05T10:14:56.763Z"
   },
   {
    "duration": 96,
    "start_time": "2022-02-05T10:33:38.391Z"
   },
   {
    "duration": 830,
    "start_time": "2022-02-05T11:01:51.511Z"
   },
   {
    "duration": 17,
    "start_time": "2022-02-05T11:01:52.344Z"
   },
   {
    "duration": 66,
    "start_time": "2022-02-05T11:01:52.365Z"
   },
   {
    "duration": 30,
    "start_time": "2022-02-05T11:01:52.435Z"
   },
   {
    "duration": 12,
    "start_time": "2022-02-05T11:01:52.469Z"
   },
   {
    "duration": 68,
    "start_time": "2022-02-05T11:01:52.484Z"
   },
   {
    "duration": 7,
    "start_time": "2022-02-05T11:01:52.556Z"
   },
   {
    "duration": 21,
    "start_time": "2022-02-05T11:01:52.569Z"
   },
   {
    "duration": 24,
    "start_time": "2022-02-05T11:01:52.623Z"
   },
   {
    "duration": 24,
    "start_time": "2022-02-05T11:01:52.650Z"
   },
   {
    "duration": 14,
    "start_time": "2022-02-05T11:01:52.677Z"
   },
   {
    "duration": 22,
    "start_time": "2022-02-05T11:01:52.723Z"
   },
   {
    "duration": 11,
    "start_time": "2022-02-05T11:01:52.748Z"
   },
   {
    "duration": 13,
    "start_time": "2022-02-05T11:01:52.762Z"
   },
   {
    "duration": 9,
    "start_time": "2022-02-05T11:01:52.778Z"
   },
   {
    "duration": 13,
    "start_time": "2022-02-05T11:01:52.823Z"
   },
   {
    "duration": 18,
    "start_time": "2022-02-05T11:01:52.838Z"
   },
   {
    "duration": 14,
    "start_time": "2022-02-05T11:01:52.859Z"
   },
   {
    "duration": 48,
    "start_time": "2022-02-05T11:01:52.875Z"
   },
   {
    "duration": 16,
    "start_time": "2022-02-05T11:01:52.925Z"
   },
   {
    "duration": 23,
    "start_time": "2022-02-05T11:01:52.945Z"
   },
   {
    "duration": 6,
    "start_time": "2022-02-05T11:01:52.972Z"
   },
   {
    "duration": 82,
    "start_time": "2022-02-05T11:01:53.024Z"
   },
   {
    "duration": 44,
    "start_time": "2022-02-05T11:01:53.123Z"
   },
   {
    "duration": 5,
    "start_time": "2022-02-05T11:01:53.169Z"
   },
   {
    "duration": 11,
    "start_time": "2022-02-05T11:01:53.178Z"
   },
   {
    "duration": 7515,
    "start_time": "2022-02-05T11:01:53.192Z"
   },
   {
    "duration": 3,
    "start_time": "2022-02-05T11:02:00.709Z"
   },
   {
    "duration": 8,
    "start_time": "2022-02-05T11:02:00.724Z"
   },
   {
    "duration": 11,
    "start_time": "2022-02-05T11:02:00.735Z"
   },
   {
    "duration": 25,
    "start_time": "2022-02-05T11:02:00.748Z"
   },
   {
    "duration": 17,
    "start_time": "2022-02-05T11:02:00.775Z"
   },
   {
    "duration": 7,
    "start_time": "2022-02-05T11:02:00.795Z"
   },
   {
    "duration": 33,
    "start_time": "2022-02-05T11:02:00.804Z"
   },
   {
    "duration": 9,
    "start_time": "2022-02-05T11:02:00.839Z"
   },
   {
    "duration": 31,
    "start_time": "2022-02-05T11:02:00.851Z"
   },
   {
    "duration": 45,
    "start_time": "2022-02-05T11:02:00.884Z"
   },
   {
    "duration": 37,
    "start_time": "2022-02-05T11:02:00.932Z"
   },
   {
    "duration": 51,
    "start_time": "2022-02-05T11:02:00.973Z"
   },
   {
    "duration": 5,
    "start_time": "2022-02-05T11:02:01.026Z"
   },
   {
    "duration": 21,
    "start_time": "2022-02-05T11:02:01.033Z"
   },
   {
    "duration": 12,
    "start_time": "2022-02-05T11:02:01.057Z"
   },
   {
    "duration": 12,
    "start_time": "2022-02-05T11:02:01.072Z"
   },
   {
    "duration": 18,
    "start_time": "2022-02-05T11:02:01.087Z"
   },
   {
    "duration": 24,
    "start_time": "2022-02-05T11:02:01.107Z"
   },
   {
    "duration": 51,
    "start_time": "2022-02-05T11:02:01.133Z"
   },
   {
    "duration": 11,
    "start_time": "2022-02-05T11:02:01.186Z"
   },
   {
    "duration": 17,
    "start_time": "2022-02-05T11:02:01.200Z"
   },
   {
    "duration": 9,
    "start_time": "2022-02-05T11:02:01.220Z"
   },
   {
    "duration": 1274,
    "start_time": "2022-02-05T11:02:01.231Z"
   },
   {
    "duration": 4041,
    "start_time": "2022-02-05T11:02:02.509Z"
   },
   {
    "duration": 8,
    "start_time": "2022-02-05T11:02:06.553Z"
   },
   {
    "duration": 69,
    "start_time": "2022-02-05T11:02:06.564Z"
   },
   {
    "duration": 31,
    "start_time": "2022-02-05T11:02:06.636Z"
   },
   {
    "duration": 403,
    "start_time": "2022-02-05T11:02:06.669Z"
   },
   {
    "duration": 33,
    "start_time": "2022-02-05T11:02:07.075Z"
   },
   {
    "duration": 32,
    "start_time": "2022-02-05T11:02:07.124Z"
   },
   {
    "duration": 9,
    "start_time": "2022-02-05T11:02:07.159Z"
   },
   {
    "duration": 12,
    "start_time": "2022-02-05T11:02:07.170Z"
   },
   {
    "duration": 45,
    "start_time": "2022-02-05T11:02:07.185Z"
   },
   {
    "duration": 13,
    "start_time": "2022-02-05T11:02:07.232Z"
   },
   {
    "duration": 22,
    "start_time": "2022-02-05T19:09:55.649Z"
   },
   {
    "duration": 19,
    "start_time": "2022-02-05T19:11:12.278Z"
   },
   {
    "duration": 10,
    "start_time": "2022-02-05T19:11:19.861Z"
   },
   {
    "duration": 11,
    "start_time": "2022-02-05T19:12:30.652Z"
   },
   {
    "duration": 12,
    "start_time": "2022-02-05T19:12:37.722Z"
   },
   {
    "duration": 12,
    "start_time": "2022-02-05T19:12:43.676Z"
   },
   {
    "duration": 13,
    "start_time": "2022-02-05T19:14:38.066Z"
   },
   {
    "duration": 18,
    "start_time": "2022-02-05T19:14:49.925Z"
   }
  ],
  "kernelspec": {
   "display_name": "Python 3",
   "language": "python",
   "name": "python3"
  },
  "language_info": {
   "codemirror_mode": {
    "name": "ipython",
    "version": 3
   },
   "file_extension": ".py",
   "mimetype": "text/x-python",
   "name": "python",
   "nbconvert_exporter": "python",
   "pygments_lexer": "ipython3",
   "version": "3.9.5"
  },
  "toc": {
   "base_numbering": 1,
   "nav_menu": {},
   "number_sections": true,
   "sideBar": true,
   "skip_h1_title": true,
   "title_cell": "Table of Contents",
   "title_sidebar": "Contents",
   "toc_cell": false,
   "toc_position": {
    "height": "calc(100% - 180px)",
    "left": "10px",
    "top": "150px",
    "width": "298.391px"
   },
   "toc_section_display": true,
   "toc_window_display": true
  }
 },
 "nbformat": 4,
 "nbformat_minor": 2
}
