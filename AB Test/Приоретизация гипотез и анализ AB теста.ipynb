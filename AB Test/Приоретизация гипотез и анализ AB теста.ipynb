{
 "cells": [
  {
   "cell_type": "markdown",
   "metadata": {},
   "source": [
    "<div style=\"background: #0000; padding: 5px; border: 3px solid blue; border-radius: 5px;\">\n",
    "<font size=\"4\", color = \"black\">\n",
    "<b>КОММЕНТАРИЙ РЕВЬЮЕРА</b>\n",
    "<br /><br />\n",
    "Рад приветствовать тебя, Антон! <br />\n",
    "<br />    \n",
    "<br />\n",
    "Меня зовут Георгий Озбетелашвили, можно просто Гио. \n",
    "<br />\n",
    "Благодарю тебя, что прислал задание! Я перейду сразу на \"ты\" (если неудобно, то скажи мне).<br /> <br />Я буду комментировать твои задания по следующим принципам:<br />\n",
    "<b>ТАКОЙ ШРИФТ</b> - всегда начало моего комментария <br />\n",
    "<font color='blue'>такой фон</font> - комментарии с интересной ссылкой и дополнительной инфой<br/>\n",
    "<font color='green'>такой фон</font> - комментарии о том, что всё сделано правильно. Могу тут же оставить полезную рекомендацию <br/>\n",
    "<font color='orange'>такой фон</font> - комментарии о том, что всё хорошо, однако есть на что обратить внимание<br/>\n",
    "<font color='red'>такой фон</font> - комментарии о том, что есть критически важный момент, которому стоит уделить особое внимание и исправить.<br/>\n",
    "Чтобы было легче различать комментарии, я буду прикладывать к каждому типу комментария свой смайлик. Они буду ниже в примерах.\n",
    "<br /><br />\n",
    "Я буду стараться передавать тебе свой опыт и направлять тебя к правильному и эффективному решению, чтобы в дальнейшем ты мог расти дальше как крутой специалист ;) Будет круто, если будешь оставлять свои комментарии (просьба не удалять мои)! Помни, что глупых вопросов не бывает! А твой дружелюбный сосед ревьюер всегда будет рядом и поможет тебе)<br>\n",
    "<br> Ну что, народ, погнали!<br>\n",
    "    </font>\n",
    "    \n",
    "# ---------------------------------------------------------------------------------------------------------------\n",
    "# Примеры комментариев\n",
    "    \n",
    "<div class=\"alert alert-info\"; style=\"border-left: 7px solid blue\">\n",
    "<font size=\"4\"><b>Комментарий ревьюера 🎓</b></font>\n",
    "    <br /> \n",
    "    <font size=\"3\", color = \"black\">\n",
    "<br />\n",
    "      <br />Тут полезная ссылочка, советую посмотреть, если будет время :) Данная тема часто спрашивается на собеседованиях на джун-позиции  <br/>\n",
    "        <br /> <a href=\"hhttps://devpractice.ru/python-lesson-15-iterators-and-generators/\">Введение в генераторы Python</a>\n",
    "    <br />\n",
    "    </font>\n",
    "\n",
    "</div>\n",
    "    \n",
    "<div class=\"alert alert-success\"; style=\"border-left: 7px solid green\">\n",
    "<font size=\"4\"><b>Комментарий ревьюера 🚀</b></font>\n",
    "    <br />\n",
    "    <font size=\"3\", color = \"black\">\n",
    "    <br /> Все отлично, интересная логика решения!  \n",
    "     <br />\n",
    "    </font>\n",
    "\n",
    "</div>\n",
    " \n",
    "<div class=\"alert alert-warning\" ; style=\"border-left: 7px solid orange\">\n",
    "<font size=\"4\"><b>Комментарий ревьюера 👀</b></font>\n",
    "    <br />\n",
    "    <font size=\"3\", color = \"black\">\n",
    "    <br /> Если таких замечаний >= 3, то следует исправить недочеты. Если кол-во замечаний меньше 3, то зачту проект \n",
    "    <br />\n",
    "    </font>\n",
    "\n",
    "</div>\n",
    "    \n",
    "<div class=\"alert alert-danger\"; style=\"border-left: 7px solid red\">\n",
    "<font size=\"4\"><b>Комментарий ревьюера 🦔 </b></font>\n",
    "    <br /> \n",
    "    <font size=\"3\", color = \"black\">\n",
    "<br />\n",
    "    Стоит исправить ошибки)  \n",
    "    <br />\n",
    "    </font>\n",
    "\n",
    "</div>"
   ]
  },
  {
   "cell_type": "markdown",
   "metadata": {},
   "source": [
    "<div class=\"alert alert-success\"; style=\"border-left: 7px solid green\">\n",
    "<font size=\"4\"><b>Комментарий ревьюера 🚀</b></font>\n",
    "    <br />\n",
    "    <font size=\"3\", color = \"black\">\n",
    "    <br /> Отличное содержание проекта. Позволяет легко ориентироваться в нем.\n",
    "     <br />\n",
    "    </font>\n",
    "\n",
    "</div>"
   ]
  },
  {
   "cell_type": "markdown",
   "metadata": {},
   "source": [
    "# Проект: Приоретизация гипотез и анализ A/B теста."
   ]
  },
  {
   "cell_type": "markdown",
   "metadata": {},
   "source": [
    "Вы — аналитик крупного интернет-магазина. Вместе с отделом маркетинга вы подготовили список гипотез для увеличения выручки.\n",
    "Приоритизируйте гипотезы, запустите A/B-тест и проанализируйте результаты."
   ]
  },
  {
   "cell_type": "markdown",
   "metadata": {},
   "source": [
    "## Описание данных\n",
    "\n",
    "Таблица hypothesis (набор из 9 гипотез):\n",
    "\n",
    "    Hypothesis — краткое описание гипотезы;\n",
    "    Reach — охват пользователей по 10-балльной шкале;\n",
    "    Impact — влияние на пользователей по 10-балльной шкале;\n",
    "    Confidence — уверенность в гипотезе по 10-балльной шкале;\n",
    "    Efforts — затраты ресурсов на проверку гипотезы по 10-балльной шкале.\n",
    "\n",
    "Таблица orders (информация о заказах):\n",
    "\n",
    "    transactionId — идентификатор заказа;\n",
    "    visitorId — идентификатор пользователя, совершившего заказ;\n",
    "    date — дата, когда был совершён заказ;\n",
    "    revenue — выручка заказа;\n",
    "    group — группа A/B-теста, в которую попал заказ.\n",
    "\n",
    "Таблица visitors (информация о пользователях):\n",
    "\n",
    "    Channel — идентификатор рекламного источника;\n",
    "    date — дата;\n",
    "    group — группа A/B-теста;\n",
    "    visitors — количество пользователей в указанную дату в указанной группе A/B-теста."
   ]
  },
  {
   "cell_type": "markdown",
   "metadata": {},
   "source": [
    "<div class=\"alert alert-success\"; style=\"border-left: 7px solid green\">\n",
    "<font size=\"4\"><b>Комментарий ревьюера 🚀</b></font>\n",
    "    <br />\n",
    "    <font size=\"3\", color = \"black\">\n",
    "    <br /> Хорошо, что добавляешь введение в работу\n",
    "     <br />\n",
    "    </font>\n",
    "\n",
    "</div>"
   ]
  },
  {
   "cell_type": "markdown",
   "metadata": {},
   "source": [
    "## Загрузка данных и подготовка к анализу"
   ]
  },
  {
   "cell_type": "code",
   "execution_count": 1,
   "metadata": {},
   "outputs": [],
   "source": [
    "# импортируем нужные библиотеки\n",
    "import pandas as pd\n",
    "import numpy as np\n",
    "from datetime import datetime, timedelta\n",
    "from matplotlib import pyplot as plt\n",
    "from matplotlib.pyplot import figure\n",
    "from pandas import option_context\n",
    "import datetime as dt\n",
    "import scipy.stats as stats\n"
   ]
  },
  {
   "cell_type": "markdown",
   "metadata": {},
   "source": [
    "<div class=\"alert alert-success\"; style=\"border-left: 7px solid green\">\n",
    "<font size=\"4\"><b>Комментарий ревьюера 🚀</b></font>\n",
    "    <br />\n",
    "    <font size=\"3\", color = \"black\">\n",
    "    <br /> Вызваны все необходимые библиотеки для решения задач данного проекта! Обладаешь обширным инструментарием.\n",
    "     <br />\n",
    "    </font>\n",
    "\n",
    "</div>"
   ]
  },
  {
   "cell_type": "code",
   "execution_count": 2,
   "metadata": {},
   "outputs": [],
   "source": [
    "# загружаем каждую из таблиц в отдельную переменную\n",
    "hypothesis, orders, visitors = (\n",
    "    pd.read_csv('/datasets/hypothesis.csv'),  # инфо о гипотезах\n",
    "    pd.read_csv('/datasets/orders.csv'),  # инфо о заказах\n",
    "    pd.read_csv('/datasets/visitors.csv'),  # инфо о пользователях\n",
    ")"
   ]
  },
  {
   "cell_type": "code",
   "execution_count": 3,
   "metadata": {},
   "outputs": [
    {
     "name": "stdout",
     "output_type": "stream",
     "text": [
      "<class 'pandas.core.frame.DataFrame'>\n",
      "RangeIndex: 9 entries, 0 to 8\n",
      "Data columns (total 5 columns):\n",
      " #   Column      Non-Null Count  Dtype \n",
      "---  ------      --------------  ----- \n",
      " 0   Hypothesis  9 non-null      object\n",
      " 1   Reach       9 non-null      int64 \n",
      " 2   Impact      9 non-null      int64 \n",
      " 3   Confidence  9 non-null      int64 \n",
      " 4   Efforts     9 non-null      int64 \n",
      "dtypes: int64(4), object(1)\n",
      "memory usage: 488.0+ bytes\n"
     ]
    }
   ],
   "source": [
    "# выводим информацию по таблице visits\n",
    "hypothesis.info()"
   ]
  },
  {
   "cell_type": "code",
   "execution_count": 4,
   "metadata": {},
   "outputs": [],
   "source": [
    "# приведем заголовки к змеиному регистру\n",
    "hypothesis.columns = hypothesis.columns.str.lower()"
   ]
  },
  {
   "cell_type": "markdown",
   "metadata": {},
   "source": [
    "<div class=\"alert alert-success\"; style=\"border-left: 7px solid green\">\n",
    "<font size=\"4\"><b>Комментарий ревьюера 🚀</b></font>\n",
    "    <br />\n",
    "    <font size=\"3\", color = \"black\">\n",
    "    <br /> Нравится использование метода .str.lower() для изменения регистра в названиях столбцов\n",
    "     <br />\n",
    "    </font>\n",
    "\n",
    "</div>"
   ]
  },
  {
   "cell_type": "code",
   "execution_count": 5,
   "metadata": {},
   "outputs": [
    {
     "data": {
      "text/html": [
       "<div>\n",
       "<style scoped>\n",
       "    .dataframe tbody tr th:only-of-type {\n",
       "        vertical-align: middle;\n",
       "    }\n",
       "\n",
       "    .dataframe tbody tr th {\n",
       "        vertical-align: top;\n",
       "    }\n",
       "\n",
       "    .dataframe thead th {\n",
       "        text-align: right;\n",
       "    }\n",
       "</style>\n",
       "<table border=\"1\" class=\"dataframe\">\n",
       "  <thead>\n",
       "    <tr style=\"text-align: right;\">\n",
       "      <th></th>\n",
       "      <th>hypothesis</th>\n",
       "      <th>reach</th>\n",
       "      <th>impact</th>\n",
       "      <th>confidence</th>\n",
       "      <th>efforts</th>\n",
       "    </tr>\n",
       "  </thead>\n",
       "  <tbody>\n",
       "    <tr>\n",
       "      <th>0</th>\n",
       "      <td>Добавить два новых канала привлечения трафика, что позволит привлекать на 30% больше пользователей</td>\n",
       "      <td>3</td>\n",
       "      <td>10</td>\n",
       "      <td>8</td>\n",
       "      <td>6</td>\n",
       "    </tr>\n",
       "    <tr>\n",
       "      <th>1</th>\n",
       "      <td>Запустить собственную службу доставки, что сократит срок доставки заказов</td>\n",
       "      <td>2</td>\n",
       "      <td>5</td>\n",
       "      <td>4</td>\n",
       "      <td>10</td>\n",
       "    </tr>\n",
       "    <tr>\n",
       "      <th>2</th>\n",
       "      <td>Добавить блоки рекомендаций товаров на сайт интернет магазина, чтобы повысить конверсию и средний чек заказа</td>\n",
       "      <td>8</td>\n",
       "      <td>3</td>\n",
       "      <td>7</td>\n",
       "      <td>3</td>\n",
       "    </tr>\n",
       "    <tr>\n",
       "      <th>3</th>\n",
       "      <td>Изменить структура категорий, что увеличит конверсию, т.к. пользователи быстрее найдут нужный товар</td>\n",
       "      <td>8</td>\n",
       "      <td>3</td>\n",
       "      <td>3</td>\n",
       "      <td>8</td>\n",
       "    </tr>\n",
       "    <tr>\n",
       "      <th>4</th>\n",
       "      <td>Изменить цвет фона главной страницы, чтобы увеличить вовлеченность пользователей</td>\n",
       "      <td>3</td>\n",
       "      <td>1</td>\n",
       "      <td>1</td>\n",
       "      <td>1</td>\n",
       "    </tr>\n",
       "    <tr>\n",
       "      <th>5</th>\n",
       "      <td>Добавить страницу отзывов клиентов о магазине, что позволит увеличить количество заказов</td>\n",
       "      <td>3</td>\n",
       "      <td>2</td>\n",
       "      <td>2</td>\n",
       "      <td>3</td>\n",
       "    </tr>\n",
       "    <tr>\n",
       "      <th>6</th>\n",
       "      <td>Показать на главной странице баннеры с актуальными акциями и распродажами, чтобы увеличить конверсию</td>\n",
       "      <td>5</td>\n",
       "      <td>3</td>\n",
       "      <td>8</td>\n",
       "      <td>3</td>\n",
       "    </tr>\n",
       "    <tr>\n",
       "      <th>7</th>\n",
       "      <td>Добавить форму подписки на все основные страницы, чтобы собрать базу клиентов для email-рассылок</td>\n",
       "      <td>10</td>\n",
       "      <td>7</td>\n",
       "      <td>8</td>\n",
       "      <td>5</td>\n",
       "    </tr>\n",
       "    <tr>\n",
       "      <th>8</th>\n",
       "      <td>Запустить акцию, дающую скидку на товар в день рождения</td>\n",
       "      <td>1</td>\n",
       "      <td>9</td>\n",
       "      <td>9</td>\n",
       "      <td>5</td>\n",
       "    </tr>\n",
       "  </tbody>\n",
       "</table>\n",
       "</div>"
      ],
      "text/plain": [
       "                                                                                                     hypothesis  \\\n",
       "0            Добавить два новых канала привлечения трафика, что позволит привлекать на 30% больше пользователей   \n",
       "1                                     Запустить собственную службу доставки, что сократит срок доставки заказов   \n",
       "2  Добавить блоки рекомендаций товаров на сайт интернет магазина, чтобы повысить конверсию и средний чек заказа   \n",
       "3           Изменить структура категорий, что увеличит конверсию, т.к. пользователи быстрее найдут нужный товар   \n",
       "4                              Изменить цвет фона главной страницы, чтобы увеличить вовлеченность пользователей   \n",
       "5                      Добавить страницу отзывов клиентов о магазине, что позволит увеличить количество заказов   \n",
       "6          Показать на главной странице баннеры с актуальными акциями и распродажами, чтобы увеличить конверсию   \n",
       "7              Добавить форму подписки на все основные страницы, чтобы собрать базу клиентов для email-рассылок   \n",
       "8                                                       Запустить акцию, дающую скидку на товар в день рождения   \n",
       "\n",
       "   reach  impact  confidence  efforts  \n",
       "0      3      10           8        6  \n",
       "1      2       5           4       10  \n",
       "2      8       3           7        3  \n",
       "3      8       3           3        8  \n",
       "4      3       1           1        1  \n",
       "5      3       2           2        3  \n",
       "6      5       3           8        3  \n",
       "7     10       7           8        5  \n",
       "8      1       9           9        5  "
      ]
     },
     "metadata": {},
     "output_type": "display_data"
    }
   ],
   "source": [
    "# выведем датафрейм\n",
    "with option_context('display.max_colwidth', 400):\n",
    "    display(hypothesis)"
   ]
  },
  {
   "cell_type": "code",
   "execution_count": 6,
   "metadata": {},
   "outputs": [
    {
     "name": "stdout",
     "output_type": "stream",
     "text": [
      "<class 'pandas.core.frame.DataFrame'>\n",
      "RangeIndex: 1197 entries, 0 to 1196\n",
      "Data columns (total 5 columns):\n",
      " #   Column         Non-Null Count  Dtype \n",
      "---  ------         --------------  ----- \n",
      " 0   transactionId  1197 non-null   int64 \n",
      " 1   visitorId      1197 non-null   int64 \n",
      " 2   date           1197 non-null   object\n",
      " 3   revenue        1197 non-null   int64 \n",
      " 4   group          1197 non-null   object\n",
      "dtypes: int64(3), object(2)\n",
      "memory usage: 46.9+ KB\n"
     ]
    }
   ],
   "source": [
    "# выводим информацию по таблице orders\n",
    "orders.info()"
   ]
  },
  {
   "cell_type": "code",
   "execution_count": 7,
   "metadata": {},
   "outputs": [],
   "source": [
    "# приведем заголовки к змеиному регистру\n",
    "orders = orders.rename(columns={'transactionId': 'transaction_id', 'visitorId': 'visitor_id'})"
   ]
  },
  {
   "cell_type": "code",
   "execution_count": 8,
   "metadata": {},
   "outputs": [],
   "source": [
    "# преобразуем информацию о времени к нужному типу данных\n",
    "\n",
    "orders['date'] = pd.to_datetime(orders['date'], format='%Y-%m-%d')"
   ]
  },
  {
   "cell_type": "markdown",
   "metadata": {},
   "source": [
    "<div class=\"alert alert-warning\" ; style=\"border-left: 7px solid orange\">\n",
    "<font size=\"4\"><b>Комментарий ревьюера 👀</b></font>\n",
    "    <br />\n",
    "    <font size=\"3\", color = \"black\">\n",
    "    <br /> При изменении типов данных на datetime советую использовать фиксированный форматом даты, то есть упорядочить год, месяц и день\n",
    "     <br />\n",
    "    </font>\n",
    "\n",
    "</div>"
   ]
  },
  {
   "cell_type": "markdown",
   "metadata": {},
   "source": [
    "<div class=\"alert alert-info\"; style=\"border-left: 7px solid blue\">\n",
    "<font size=\"4\"><b>Комментарий студента 🎓</b></font>\n",
    "    DONE"
   ]
  },
  {
   "cell_type": "code",
   "execution_count": 9,
   "metadata": {},
   "outputs": [
    {
     "data": {
      "text/plain": [
       "'В orders пропущено значений:'"
      ]
     },
     "metadata": {},
     "output_type": "display_data"
    },
    {
     "data": {
      "text/plain": [
       "transaction_id    0\n",
       "visitor_id        0\n",
       "date              0\n",
       "revenue           0\n",
       "group             0\n",
       "dtype: int64"
      ]
     },
     "metadata": {},
     "output_type": "display_data"
    }
   ],
   "source": [
    "# Подсчитаем количество пропусков\n",
    "\n",
    "display('В orders пропущено значений:', orders.isna().sum())"
   ]
  },
  {
   "cell_type": "code",
   "execution_count": 10,
   "metadata": {},
   "outputs": [
    {
     "name": "stdout",
     "output_type": "stream",
     "text": [
      "Количество явных дубликатов в orders: 0\n"
     ]
    }
   ],
   "source": [
    "print('Количество явных дубликатов в orders:', orders.duplicated().sum())"
   ]
  },
  {
   "cell_type": "code",
   "execution_count": 11,
   "metadata": {},
   "outputs": [
    {
     "data": {
      "text/html": [
       "<div>\n",
       "<style scoped>\n",
       "    .dataframe tbody tr th:only-of-type {\n",
       "        vertical-align: middle;\n",
       "    }\n",
       "\n",
       "    .dataframe tbody tr th {\n",
       "        vertical-align: top;\n",
       "    }\n",
       "\n",
       "    .dataframe thead th {\n",
       "        text-align: right;\n",
       "    }\n",
       "</style>\n",
       "<table border=\"1\" class=\"dataframe\">\n",
       "  <thead>\n",
       "    <tr style=\"text-align: right;\">\n",
       "      <th></th>\n",
       "      <th>transaction_id</th>\n",
       "      <th>visitor_id</th>\n",
       "      <th>date</th>\n",
       "      <th>revenue</th>\n",
       "      <th>group</th>\n",
       "    </tr>\n",
       "  </thead>\n",
       "  <tbody>\n",
       "    <tr>\n",
       "      <th>0</th>\n",
       "      <td>3667963787</td>\n",
       "      <td>3312258926</td>\n",
       "      <td>2019-08-15</td>\n",
       "      <td>1650</td>\n",
       "      <td>B</td>\n",
       "    </tr>\n",
       "    <tr>\n",
       "      <th>1</th>\n",
       "      <td>2804400009</td>\n",
       "      <td>3642806036</td>\n",
       "      <td>2019-08-15</td>\n",
       "      <td>730</td>\n",
       "      <td>B</td>\n",
       "    </tr>\n",
       "    <tr>\n",
       "      <th>2</th>\n",
       "      <td>2961555356</td>\n",
       "      <td>4069496402</td>\n",
       "      <td>2019-08-15</td>\n",
       "      <td>400</td>\n",
       "      <td>A</td>\n",
       "    </tr>\n",
       "    <tr>\n",
       "      <th>3</th>\n",
       "      <td>3797467345</td>\n",
       "      <td>1196621759</td>\n",
       "      <td>2019-08-15</td>\n",
       "      <td>9759</td>\n",
       "      <td>B</td>\n",
       "    </tr>\n",
       "    <tr>\n",
       "      <th>4</th>\n",
       "      <td>2282983706</td>\n",
       "      <td>2322279887</td>\n",
       "      <td>2019-08-15</td>\n",
       "      <td>2308</td>\n",
       "      <td>B</td>\n",
       "    </tr>\n",
       "  </tbody>\n",
       "</table>\n",
       "</div>"
      ],
      "text/plain": [
       "   transaction_id  visitor_id       date  revenue group\n",
       "0      3667963787  3312258926 2019-08-15     1650     B\n",
       "1      2804400009  3642806036 2019-08-15      730     B\n",
       "2      2961555356  4069496402 2019-08-15      400     A\n",
       "3      3797467345  1196621759 2019-08-15     9759     B\n",
       "4      2282983706  2322279887 2019-08-15     2308     B"
      ]
     },
     "execution_count": 11,
     "metadata": {},
     "output_type": "execute_result"
    }
   ],
   "source": [
    "# выведем первые строки датафрейма\n",
    "orders.head()"
   ]
  },
  {
   "cell_type": "code",
   "execution_count": 12,
   "metadata": {},
   "outputs": [
    {
     "name": "stdout",
     "output_type": "stream",
     "text": [
      "<class 'pandas.core.frame.DataFrame'>\n",
      "RangeIndex: 62 entries, 0 to 61\n",
      "Data columns (total 3 columns):\n",
      " #   Column    Non-Null Count  Dtype \n",
      "---  ------    --------------  ----- \n",
      " 0   date      62 non-null     object\n",
      " 1   group     62 non-null     object\n",
      " 2   visitors  62 non-null     int64 \n",
      "dtypes: int64(1), object(2)\n",
      "memory usage: 1.6+ KB\n"
     ]
    }
   ],
   "source": [
    "# выводим информацию по таблице orders\n",
    "visitors.info()"
   ]
  },
  {
   "cell_type": "code",
   "execution_count": 13,
   "metadata": {},
   "outputs": [],
   "source": [
    "# преобразуем информацию о времени к нужному типу данных\n",
    "visitors['date'] = pd.to_datetime(visitors['date'], format='%Y-%m-%d')"
   ]
  },
  {
   "cell_type": "code",
   "execution_count": 14,
   "metadata": {},
   "outputs": [
    {
     "data": {
      "text/plain": [
       "'В visitors пропущено значений:'"
      ]
     },
     "metadata": {},
     "output_type": "display_data"
    },
    {
     "data": {
      "text/plain": [
       "date        0\n",
       "group       0\n",
       "visitors    0\n",
       "dtype: int64"
      ]
     },
     "metadata": {},
     "output_type": "display_data"
    }
   ],
   "source": [
    "# Подсчитаем количество пропусков\n",
    "\n",
    "display('В visitors пропущено значений:', visitors.isna().sum())"
   ]
  },
  {
   "cell_type": "code",
   "execution_count": 15,
   "metadata": {},
   "outputs": [
    {
     "name": "stdout",
     "output_type": "stream",
     "text": [
      "Количество явных дубликатов в visitors: 0\n"
     ]
    }
   ],
   "source": [
    "print('Количество явных дубликатов в visitors:', visitors.duplicated().sum())"
   ]
  },
  {
   "cell_type": "code",
   "execution_count": 16,
   "metadata": {},
   "outputs": [
    {
     "data": {
      "text/html": [
       "<div>\n",
       "<style scoped>\n",
       "    .dataframe tbody tr th:only-of-type {\n",
       "        vertical-align: middle;\n",
       "    }\n",
       "\n",
       "    .dataframe tbody tr th {\n",
       "        vertical-align: top;\n",
       "    }\n",
       "\n",
       "    .dataframe thead th {\n",
       "        text-align: right;\n",
       "    }\n",
       "</style>\n",
       "<table border=\"1\" class=\"dataframe\">\n",
       "  <thead>\n",
       "    <tr style=\"text-align: right;\">\n",
       "      <th></th>\n",
       "      <th>date</th>\n",
       "      <th>group</th>\n",
       "      <th>visitors</th>\n",
       "    </tr>\n",
       "  </thead>\n",
       "  <tbody>\n",
       "    <tr>\n",
       "      <th>0</th>\n",
       "      <td>2019-08-01</td>\n",
       "      <td>A</td>\n",
       "      <td>719</td>\n",
       "    </tr>\n",
       "    <tr>\n",
       "      <th>1</th>\n",
       "      <td>2019-08-02</td>\n",
       "      <td>A</td>\n",
       "      <td>619</td>\n",
       "    </tr>\n",
       "    <tr>\n",
       "      <th>2</th>\n",
       "      <td>2019-08-03</td>\n",
       "      <td>A</td>\n",
       "      <td>507</td>\n",
       "    </tr>\n",
       "    <tr>\n",
       "      <th>3</th>\n",
       "      <td>2019-08-04</td>\n",
       "      <td>A</td>\n",
       "      <td>717</td>\n",
       "    </tr>\n",
       "    <tr>\n",
       "      <th>4</th>\n",
       "      <td>2019-08-05</td>\n",
       "      <td>A</td>\n",
       "      <td>756</td>\n",
       "    </tr>\n",
       "  </tbody>\n",
       "</table>\n",
       "</div>"
      ],
      "text/plain": [
       "        date group  visitors\n",
       "0 2019-08-01     A       719\n",
       "1 2019-08-02     A       619\n",
       "2 2019-08-03     A       507\n",
       "3 2019-08-04     A       717\n",
       "4 2019-08-05     A       756"
      ]
     },
     "execution_count": 16,
     "metadata": {},
     "output_type": "execute_result"
    }
   ],
   "source": [
    "# выведем первые строки датафрейма\n",
    "visitors.head()"
   ]
  },
  {
   "cell_type": "markdown",
   "metadata": {},
   "source": [
    "<strong>Мы загрузили нужные таблицы, импортировали библиотеки, привели заголовки к змеиному регистру, проверили данные на пропуски и дубликаты."
   ]
  },
  {
   "cell_type": "markdown",
   "metadata": {},
   "source": [
    "<div class=\"alert alert-success\"; style=\"border-left: 7px solid green\">\n",
    "<font size=\"4\"><b>Комментарий ревьюера 🚀</b></font>\n",
    "    <br />\n",
    "    <font size=\"3\", color = \"black\">\n",
    "    <br /> Хорошее знакомство с данными!\n",
    "    </font>\n",
    "\n",
    "</div>"
   ]
  },
  {
   "cell_type": "markdown",
   "metadata": {},
   "source": [
    "<div class=\"alert alert-danger\"; style=\"border-left: 7px solid red\">\n",
    "<font size=\"4\"><b>Комментарий ревьюера 🦔 </b></font>\n",
    "    <br /> \n",
    "    <font size=\"3\", color = \"black\">\n",
    "<br />\n",
    "    На данном этапе также следует сделать проверку наличия таких пользователей, которые одновременно находятся в 2 группах. Что следует делать с такими пользователями? И что делать с тестом?\n",
    "    <br />\n",
    "    </font>\n",
    "\n",
    "</div>"
   ]
  },
  {
   "cell_type": "markdown",
   "metadata": {},
   "source": [
    "Удалим пользователей, которые попали в обе группы наблюдений."
   ]
  },
  {
   "cell_type": "code",
   "execution_count": 18,
   "metadata": {},
   "outputs": [],
   "source": [
    "mask = orders.loc[orders[\"group\"]==\"A\", \"visitor_id\"].isin(orders.loc[orders[\"group\"]==\"B\", \"visitor_id\"])\n",
    "orders = orders.drop(mask[mask].index)"
   ]
  },
  {
   "cell_type": "markdown",
   "metadata": {},
   "source": [
    "## Приоритизация гипотез"
   ]
  },
  {
   "cell_type": "markdown",
   "metadata": {},
   "source": [
    "На данном этапе нам необходимо применить фреймворки приоритезации гипотез ICE и RICE и выбрать наиболее подходящие гипотезы."
   ]
  },
  {
   "cell_type": "markdown",
   "metadata": {},
   "source": [
    "### Приоретизация ICE"
   ]
  },
  {
   "cell_type": "code",
   "execution_count": 22,
   "metadata": {},
   "outputs": [
    {
     "data": {
      "text/html": [
       "<div>\n",
       "<style scoped>\n",
       "    .dataframe tbody tr th:only-of-type {\n",
       "        vertical-align: middle;\n",
       "    }\n",
       "\n",
       "    .dataframe tbody tr th {\n",
       "        vertical-align: top;\n",
       "    }\n",
       "\n",
       "    .dataframe thead th {\n",
       "        text-align: right;\n",
       "    }\n",
       "</style>\n",
       "<table border=\"1\" class=\"dataframe\">\n",
       "  <thead>\n",
       "    <tr style=\"text-align: right;\">\n",
       "      <th></th>\n",
       "      <th>hypothesis</th>\n",
       "      <th>ICE</th>\n",
       "    </tr>\n",
       "  </thead>\n",
       "  <tbody>\n",
       "    <tr>\n",
       "      <th>8</th>\n",
       "      <td>Запустить акцию, дающую скидку на товар в день рождения</td>\n",
       "      <td>16.0</td>\n",
       "    </tr>\n",
       "    <tr>\n",
       "      <th>0</th>\n",
       "      <td>Добавить два новых канала привлечения трафика, что позволит привлекать на 30% больше пользователей</td>\n",
       "      <td>13.0</td>\n",
       "    </tr>\n",
       "    <tr>\n",
       "      <th>7</th>\n",
       "      <td>Добавить форму подписки на все основные страницы, чтобы собрать базу клиентов для email-рассылок</td>\n",
       "      <td>11.0</td>\n",
       "    </tr>\n",
       "    <tr>\n",
       "      <th>6</th>\n",
       "      <td>Показать на главной странице баннеры с актуальными акциями и распродажами, чтобы увеличить конверсию</td>\n",
       "      <td>8.0</td>\n",
       "    </tr>\n",
       "    <tr>\n",
       "      <th>2</th>\n",
       "      <td>Добавить блоки рекомендаций товаров на сайт интернет магазина, чтобы повысить конверсию и средний чек заказа</td>\n",
       "      <td>7.0</td>\n",
       "    </tr>\n",
       "    <tr>\n",
       "      <th>1</th>\n",
       "      <td>Запустить собственную службу доставки, что сократит срок доставки заказов</td>\n",
       "      <td>2.0</td>\n",
       "    </tr>\n",
       "    <tr>\n",
       "      <th>3</th>\n",
       "      <td>Изменить структура категорий, что увеличит конверсию, т.к. пользователи быстрее найдут нужный товар</td>\n",
       "      <td>1.0</td>\n",
       "    </tr>\n",
       "    <tr>\n",
       "      <th>4</th>\n",
       "      <td>Изменить цвет фона главной страницы, чтобы увеличить вовлеченность пользователей</td>\n",
       "      <td>1.0</td>\n",
       "    </tr>\n",
       "    <tr>\n",
       "      <th>5</th>\n",
       "      <td>Добавить страницу отзывов клиентов о магазине, что позволит увеличить количество заказов</td>\n",
       "      <td>1.0</td>\n",
       "    </tr>\n",
       "  </tbody>\n",
       "</table>\n",
       "</div>"
      ],
      "text/plain": [
       "                                                                                                     hypothesis  \\\n",
       "8                                                       Запустить акцию, дающую скидку на товар в день рождения   \n",
       "0            Добавить два новых канала привлечения трафика, что позволит привлекать на 30% больше пользователей   \n",
       "7              Добавить форму подписки на все основные страницы, чтобы собрать базу клиентов для email-рассылок   \n",
       "6          Показать на главной странице баннеры с актуальными акциями и распродажами, чтобы увеличить конверсию   \n",
       "2  Добавить блоки рекомендаций товаров на сайт интернет магазина, чтобы повысить конверсию и средний чек заказа   \n",
       "1                                     Запустить собственную службу доставки, что сократит срок доставки заказов   \n",
       "3           Изменить структура категорий, что увеличит конверсию, т.к. пользователи быстрее найдут нужный товар   \n",
       "4                              Изменить цвет фона главной страницы, чтобы увеличить вовлеченность пользователей   \n",
       "5                      Добавить страницу отзывов клиентов о магазине, что позволит увеличить количество заказов   \n",
       "\n",
       "    ICE  \n",
       "8  16.0  \n",
       "0  13.0  \n",
       "7  11.0  \n",
       "6   8.0  \n",
       "2   7.0  \n",
       "1   2.0  \n",
       "3   1.0  \n",
       "4   1.0  \n",
       "5   1.0  "
      ]
     },
     "metadata": {},
     "output_type": "display_data"
    }
   ],
   "source": [
    "# считаем приоретизацию по ICE\n",
    "\n",
    "pd.options.mode.chained_assignment = None \n",
    "hypothesis['ICE'] =(hypothesis['impact'] * hypothesis['confidence']) /  hypothesis['efforts'] \n",
    "hypothesis_ice = hypothesis[['hypothesis', 'ICE']]\n",
    "hypothesis_ice['ICE'] = hypothesis_ice['ICE'].round()\n",
    "\n",
    "# выводим результирующую таблицу\n",
    "with option_context('display.max_colwidth', 400):\n",
    "    display(hypothesis_ice.sort_values(by='ICE',ascending=False))"
   ]
  },
  {
   "cell_type": "markdown",
   "metadata": {},
   "source": [
    "<div class=\"alert alert-success\"; style=\"border-left: 7px solid green\">\n",
    "<font size=\"4\"><b>Комментарий ревьюера 🚀</b></font>\n",
    "    <br />\n",
    "    <font size=\"3\", color = \"black\">\n",
    "    <br /> Абсолютно верная формула для расчета ICE\n",
    "     <br />\n",
    "    </font>\n",
    "\n",
    "</div>"
   ]
  },
  {
   "cell_type": "markdown",
   "metadata": {},
   "source": [
    "Наиболее перспективными гипотезами по методу ICE являются гипотезы 8,0,7"
   ]
  },
  {
   "cell_type": "markdown",
   "metadata": {},
   "source": [
    "### Приоретизация RICE"
   ]
  },
  {
   "cell_type": "code",
   "execution_count": 23,
   "metadata": {},
   "outputs": [
    {
     "data": {
      "text/html": [
       "<div>\n",
       "<style scoped>\n",
       "    .dataframe tbody tr th:only-of-type {\n",
       "        vertical-align: middle;\n",
       "    }\n",
       "\n",
       "    .dataframe tbody tr th {\n",
       "        vertical-align: top;\n",
       "    }\n",
       "\n",
       "    .dataframe thead th {\n",
       "        text-align: right;\n",
       "    }\n",
       "</style>\n",
       "<table border=\"1\" class=\"dataframe\">\n",
       "  <thead>\n",
       "    <tr style=\"text-align: right;\">\n",
       "      <th></th>\n",
       "      <th>hypothesis</th>\n",
       "      <th>RICE</th>\n",
       "    </tr>\n",
       "  </thead>\n",
       "  <tbody>\n",
       "    <tr>\n",
       "      <th>7</th>\n",
       "      <td>Добавить форму подписки на все основные страницы, чтобы собрать базу клиентов для email-рассылок</td>\n",
       "      <td>112.0</td>\n",
       "    </tr>\n",
       "    <tr>\n",
       "      <th>2</th>\n",
       "      <td>Добавить блоки рекомендаций товаров на сайт интернет магазина, чтобы повысить конверсию и средний чек заказа</td>\n",
       "      <td>56.0</td>\n",
       "    </tr>\n",
       "    <tr>\n",
       "      <th>0</th>\n",
       "      <td>Добавить два новых канала привлечения трафика, что позволит привлекать на 30% больше пользователей</td>\n",
       "      <td>40.0</td>\n",
       "    </tr>\n",
       "    <tr>\n",
       "      <th>6</th>\n",
       "      <td>Показать на главной странице баннеры с актуальными акциями и распродажами, чтобы увеличить конверсию</td>\n",
       "      <td>40.0</td>\n",
       "    </tr>\n",
       "    <tr>\n",
       "      <th>8</th>\n",
       "      <td>Запустить акцию, дающую скидку на товар в день рождения</td>\n",
       "      <td>16.2</td>\n",
       "    </tr>\n",
       "    <tr>\n",
       "      <th>3</th>\n",
       "      <td>Изменить структура категорий, что увеличит конверсию, т.к. пользователи быстрее найдут нужный товар</td>\n",
       "      <td>9.0</td>\n",
       "    </tr>\n",
       "    <tr>\n",
       "      <th>1</th>\n",
       "      <td>Запустить собственную службу доставки, что сократит срок доставки заказов</td>\n",
       "      <td>4.0</td>\n",
       "    </tr>\n",
       "    <tr>\n",
       "      <th>5</th>\n",
       "      <td>Добавить страницу отзывов клиентов о магазине, что позволит увеличить количество заказов</td>\n",
       "      <td>4.0</td>\n",
       "    </tr>\n",
       "    <tr>\n",
       "      <th>4</th>\n",
       "      <td>Изменить цвет фона главной страницы, чтобы увеличить вовлеченность пользователей</td>\n",
       "      <td>3.0</td>\n",
       "    </tr>\n",
       "  </tbody>\n",
       "</table>\n",
       "</div>"
      ],
      "text/plain": [
       "                                                                                                     hypothesis  \\\n",
       "7              Добавить форму подписки на все основные страницы, чтобы собрать базу клиентов для email-рассылок   \n",
       "2  Добавить блоки рекомендаций товаров на сайт интернет магазина, чтобы повысить конверсию и средний чек заказа   \n",
       "0            Добавить два новых канала привлечения трафика, что позволит привлекать на 30% больше пользователей   \n",
       "6          Показать на главной странице баннеры с актуальными акциями и распродажами, чтобы увеличить конверсию   \n",
       "8                                                       Запустить акцию, дающую скидку на товар в день рождения   \n",
       "3           Изменить структура категорий, что увеличит конверсию, т.к. пользователи быстрее найдут нужный товар   \n",
       "1                                     Запустить собственную службу доставки, что сократит срок доставки заказов   \n",
       "5                      Добавить страницу отзывов клиентов о магазине, что позволит увеличить количество заказов   \n",
       "4                              Изменить цвет фона главной страницы, чтобы увеличить вовлеченность пользователей   \n",
       "\n",
       "    RICE  \n",
       "7  112.0  \n",
       "2   56.0  \n",
       "0   40.0  \n",
       "6   40.0  \n",
       "8   16.2  \n",
       "3    9.0  \n",
       "1    4.0  \n",
       "5    4.0  \n",
       "4    3.0  "
      ]
     },
     "metadata": {},
     "output_type": "display_data"
    }
   ],
   "source": [
    "# считаем приоретизацию по RICE\n",
    "hypothesis['RICE'] = (hypothesis['reach'] * hypothesis['impact'] * hypothesis['confidence']) / hypothesis['efforts']\n",
    "hypothesis_rice= hypothesis[['hypothesis','RICE']]\n",
    "\n",
    "# выводим результирующую таблицу\n",
    "with option_context('display.max_colwidth', 400):\n",
    "    display(hypothesis_rice.sort_values(by='RICE',ascending=False))"
   ]
  },
  {
   "cell_type": "markdown",
   "metadata": {},
   "source": [
    "По методу RICE с огромным отрывом лидирует гипотеза 7: \"Добавить форму подписки на все основные страницы, чтобы собрать базу клиентов для email-рассылок\". "
   ]
  },
  {
   "cell_type": "markdown",
   "metadata": {},
   "source": [
    "### Вывод"
   ]
  },
  {
   "cell_type": "markdown",
   "metadata": {},
   "source": [
    "После применения двух фреймворков приоретизации гипотез, можно сделать вывод, что наиболее перспективной гипотезой является гипотеза под номером 7: \"Добавить форму подписки на все основные страницы, чтобы собрать базу клиентов для email-рассылок\".<br>\n",
    "\n",
    "Несмотря на то, что по ICE перед гипотезой 7 идут гипотезы 8 и 0, после включения параметра охвата (Reach), гипотеза 7 вырвалась в перед с двухкратным отрывом от ближайших преследователей - гипотез 2 и 0. Внедрение данного решения (в гипотезе 7) позволит охватить сильно большее количество пользователей, чем в других.<br> \n",
    "\n",
    "Кроме того, у данной гипотезы неплохие параметры и по методу ICE: 11 баллов, где максимум по всем гипотезам - 16 баллов, а минимум - 1 балл. Таким образом, относительно других гипотез, гипотеза 7 является наиболее приоритетной; следующей по перспективности идёт гипотеза 0: \"Добавить блоки рекомендаций товаров на сайт интернет магазина, чтобы повысить конверсию и средний чек заказа\" - 56 баллов по RICE и 13 баллов по ICE."
   ]
  },
  {
   "cell_type": "markdown",
   "metadata": {},
   "source": [
    "Переходим к анализу А/В теста."
   ]
  },
  {
   "cell_type": "markdown",
   "metadata": {},
   "source": [
    "<div class=\"alert alert-success\"; style=\"border-left: 7px solid green\">\n",
    "<font size=\"4\"><b>Комментарий ревьюера 🚀</b></font>\n",
    "    <br />\n",
    "    <font size=\"3\", color = \"black\">\n",
    "    <br /> Молодец, произведены верные подсчеты по двум фрейворкам. Правильная сортировка по показателям.\n",
    "     <br /><br />\n",
    "        Нравится объяснение полученных результатов. Есть отличное понимание причинно-следственной связи\n",
    "    </font>\n",
    "\n",
    "</div>"
   ]
  },
  {
   "cell_type": "markdown",
   "metadata": {},
   "source": [
    "## Анализ A/B-теста"
   ]
  },
  {
   "cell_type": "markdown",
   "metadata": {},
   "source": [
    "Выведем данные таблицы orders и проверим, сколько шёл сбор данных."
   ]
  },
  {
   "cell_type": "code",
   "execution_count": 24,
   "metadata": {},
   "outputs": [
    {
     "data": {
      "text/html": [
       "<div>\n",
       "<style scoped>\n",
       "    .dataframe tbody tr th:only-of-type {\n",
       "        vertical-align: middle;\n",
       "    }\n",
       "\n",
       "    .dataframe tbody tr th {\n",
       "        vertical-align: top;\n",
       "    }\n",
       "\n",
       "    .dataframe thead th {\n",
       "        text-align: right;\n",
       "    }\n",
       "</style>\n",
       "<table border=\"1\" class=\"dataframe\">\n",
       "  <thead>\n",
       "    <tr style=\"text-align: right;\">\n",
       "      <th></th>\n",
       "      <th>transaction_id</th>\n",
       "      <th>visitor_id</th>\n",
       "      <th>date</th>\n",
       "      <th>revenue</th>\n",
       "      <th>group</th>\n",
       "    </tr>\n",
       "  </thead>\n",
       "  <tbody>\n",
       "    <tr>\n",
       "      <th>0</th>\n",
       "      <td>3667963787</td>\n",
       "      <td>3312258926</td>\n",
       "      <td>2019-08-15</td>\n",
       "      <td>1650</td>\n",
       "      <td>B</td>\n",
       "    </tr>\n",
       "    <tr>\n",
       "      <th>1</th>\n",
       "      <td>2804400009</td>\n",
       "      <td>3642806036</td>\n",
       "      <td>2019-08-15</td>\n",
       "      <td>730</td>\n",
       "      <td>B</td>\n",
       "    </tr>\n",
       "    <tr>\n",
       "      <th>2</th>\n",
       "      <td>2961555356</td>\n",
       "      <td>4069496402</td>\n",
       "      <td>2019-08-15</td>\n",
       "      <td>400</td>\n",
       "      <td>A</td>\n",
       "    </tr>\n",
       "    <tr>\n",
       "      <th>3</th>\n",
       "      <td>3797467345</td>\n",
       "      <td>1196621759</td>\n",
       "      <td>2019-08-15</td>\n",
       "      <td>9759</td>\n",
       "      <td>B</td>\n",
       "    </tr>\n",
       "    <tr>\n",
       "      <th>4</th>\n",
       "      <td>2282983706</td>\n",
       "      <td>2322279887</td>\n",
       "      <td>2019-08-15</td>\n",
       "      <td>2308</td>\n",
       "      <td>B</td>\n",
       "    </tr>\n",
       "  </tbody>\n",
       "</table>\n",
       "</div>"
      ],
      "text/plain": [
       "   transaction_id  visitor_id       date  revenue group\n",
       "0      3667963787  3312258926 2019-08-15     1650     B\n",
       "1      2804400009  3642806036 2019-08-15      730     B\n",
       "2      2961555356  4069496402 2019-08-15      400     A\n",
       "3      3797467345  1196621759 2019-08-15     9759     B\n",
       "4      2282983706  2322279887 2019-08-15     2308     B"
      ]
     },
     "execution_count": 24,
     "metadata": {},
     "output_type": "execute_result"
    }
   ],
   "source": [
    "orders.head()"
   ]
  },
  {
   "cell_type": "code",
   "execution_count": 25,
   "metadata": {},
   "outputs": [
    {
     "name": "stdout",
     "output_type": "stream",
     "text": [
      "2019-08-31 00:00:00\n"
     ]
    }
   ],
   "source": [
    "print(orders['date'].max())"
   ]
  },
  {
   "cell_type": "code",
   "execution_count": 26,
   "metadata": {},
   "outputs": [
    {
     "name": "stdout",
     "output_type": "stream",
     "text": [
      "2019-08-01 00:00:00\n"
     ]
    }
   ],
   "source": [
    "print(orders['date'].min())"
   ]
  },
  {
   "cell_type": "markdown",
   "metadata": {},
   "source": [
    "Данные в таблице представлены за 1 месяц."
   ]
  },
  {
   "cell_type": "markdown",
   "metadata": {},
   "source": [
    "### График кумулятивной выручки по группам."
   ]
  },
  {
   "cell_type": "code",
   "execution_count": 27,
   "metadata": {},
   "outputs": [],
   "source": [
    "# создаем массив уникальных пар значений дат и групп теста\n",
    "datesGroups = orders[['date','group']].drop_duplicates()"
   ]
  },
  {
   "cell_type": "code",
   "execution_count": 28,
   "metadata": {},
   "outputs": [],
   "source": [
    "# получаем агрегированные по дням кумулятивные данные о заказах \n",
    "ordersAggregated = datesGroups.apply(lambda x: orders[\n",
    "    np.logical_and(orders['date'] <= x['date'], orders['group'] == x['group'])]\n",
    "                                     .agg({'date' : 'max',\n",
    "                                           'group' : 'max',\n",
    "                                           'transaction_id' : 'nunique',\n",
    "                                           'visitor_id' : 'nunique',\n",
    "                                           'revenue' : 'sum'}), axis=1).sort_values(by=['date','group'])"
   ]
  },
  {
   "cell_type": "code",
   "execution_count": 29,
   "metadata": {
    "scrolled": true
   },
   "outputs": [
    {
     "data": {
      "text/html": [
       "<div>\n",
       "<style scoped>\n",
       "    .dataframe tbody tr th:only-of-type {\n",
       "        vertical-align: middle;\n",
       "    }\n",
       "\n",
       "    .dataframe tbody tr th {\n",
       "        vertical-align: top;\n",
       "    }\n",
       "\n",
       "    .dataframe thead th {\n",
       "        text-align: right;\n",
       "    }\n",
       "</style>\n",
       "<table border=\"1\" class=\"dataframe\">\n",
       "  <thead>\n",
       "    <tr style=\"text-align: right;\">\n",
       "      <th></th>\n",
       "      <th>date</th>\n",
       "      <th>group</th>\n",
       "      <th>transaction_id</th>\n",
       "      <th>visitor_id</th>\n",
       "      <th>revenue</th>\n",
       "    </tr>\n",
       "  </thead>\n",
       "  <tbody>\n",
       "    <tr>\n",
       "      <th>55</th>\n",
       "      <td>2019-08-01</td>\n",
       "      <td>A</td>\n",
       "      <td>24</td>\n",
       "      <td>20</td>\n",
       "      <td>148579</td>\n",
       "    </tr>\n",
       "    <tr>\n",
       "      <th>66</th>\n",
       "      <td>2019-08-01</td>\n",
       "      <td>B</td>\n",
       "      <td>21</td>\n",
       "      <td>20</td>\n",
       "      <td>101217</td>\n",
       "    </tr>\n",
       "    <tr>\n",
       "      <th>175</th>\n",
       "      <td>2019-08-02</td>\n",
       "      <td>A</td>\n",
       "      <td>44</td>\n",
       "      <td>38</td>\n",
       "      <td>242401</td>\n",
       "    </tr>\n",
       "    <tr>\n",
       "      <th>173</th>\n",
       "      <td>2019-08-02</td>\n",
       "      <td>B</td>\n",
       "      <td>45</td>\n",
       "      <td>43</td>\n",
       "      <td>266748</td>\n",
       "    </tr>\n",
       "    <tr>\n",
       "      <th>291</th>\n",
       "      <td>2019-08-03</td>\n",
       "      <td>A</td>\n",
       "      <td>68</td>\n",
       "      <td>62</td>\n",
       "      <td>354874</td>\n",
       "    </tr>\n",
       "  </tbody>\n",
       "</table>\n",
       "</div>"
      ],
      "text/plain": [
       "          date group  transaction_id  visitor_id  revenue\n",
       "55  2019-08-01     A              24          20   148579\n",
       "66  2019-08-01     B              21          20   101217\n",
       "175 2019-08-02     A              44          38   242401\n",
       "173 2019-08-02     B              45          43   266748\n",
       "291 2019-08-03     A              68          62   354874"
      ]
     },
     "execution_count": 29,
     "metadata": {},
     "output_type": "execute_result"
    }
   ],
   "source": [
    "# выводим таблицу с результатом\n",
    "ordersAggregated.head()"
   ]
  },
  {
   "cell_type": "code",
   "execution_count": 30,
   "metadata": {
    "scrolled": true
   },
   "outputs": [],
   "source": [
    "# получаем агрегированные по дням кумулятивные данные о посетителях \n",
    "visitorsAggregated = datesGroups.apply(lambda x: visitors[\n",
    "    np.logical_and(visitors['date'] <= x['date'], visitors['group'] == x['group'])]\n",
    "                                       .agg({'date' : 'max',\n",
    "                                             'group' : 'max',\n",
    "                                             'visitors' : 'sum'}), axis=1).sort_values(by=['date','group'])"
   ]
  },
  {
   "cell_type": "code",
   "execution_count": 31,
   "metadata": {},
   "outputs": [
    {
     "data": {
      "text/html": [
       "<div>\n",
       "<style scoped>\n",
       "    .dataframe tbody tr th:only-of-type {\n",
       "        vertical-align: middle;\n",
       "    }\n",
       "\n",
       "    .dataframe tbody tr th {\n",
       "        vertical-align: top;\n",
       "    }\n",
       "\n",
       "    .dataframe thead th {\n",
       "        text-align: right;\n",
       "    }\n",
       "</style>\n",
       "<table border=\"1\" class=\"dataframe\">\n",
       "  <thead>\n",
       "    <tr style=\"text-align: right;\">\n",
       "      <th></th>\n",
       "      <th>date</th>\n",
       "      <th>group</th>\n",
       "      <th>visitors</th>\n",
       "    </tr>\n",
       "  </thead>\n",
       "  <tbody>\n",
       "    <tr>\n",
       "      <th>55</th>\n",
       "      <td>2019-08-01</td>\n",
       "      <td>A</td>\n",
       "      <td>719</td>\n",
       "    </tr>\n",
       "    <tr>\n",
       "      <th>66</th>\n",
       "      <td>2019-08-01</td>\n",
       "      <td>B</td>\n",
       "      <td>713</td>\n",
       "    </tr>\n",
       "    <tr>\n",
       "      <th>175</th>\n",
       "      <td>2019-08-02</td>\n",
       "      <td>A</td>\n",
       "      <td>1338</td>\n",
       "    </tr>\n",
       "    <tr>\n",
       "      <th>173</th>\n",
       "      <td>2019-08-02</td>\n",
       "      <td>B</td>\n",
       "      <td>1294</td>\n",
       "    </tr>\n",
       "    <tr>\n",
       "      <th>291</th>\n",
       "      <td>2019-08-03</td>\n",
       "      <td>A</td>\n",
       "      <td>1845</td>\n",
       "    </tr>\n",
       "  </tbody>\n",
       "</table>\n",
       "</div>"
      ],
      "text/plain": [
       "          date group  visitors\n",
       "55  2019-08-01     A       719\n",
       "66  2019-08-01     B       713\n",
       "175 2019-08-02     A      1338\n",
       "173 2019-08-02     B      1294\n",
       "291 2019-08-03     A      1845"
      ]
     },
     "execution_count": 31,
     "metadata": {},
     "output_type": "execute_result"
    }
   ],
   "source": [
    "# выводим таблицу с результатом\n",
    "visitorsAggregated.head()"
   ]
  },
  {
   "cell_type": "code",
   "execution_count": 32,
   "metadata": {},
   "outputs": [],
   "source": [
    "# объединяем агрегированные кумулятивные данные в одной таблице и присваиваем ее столбцам названия\n",
    "cumulativeData = ordersAggregated.merge(visitorsAggregated, left_on=['date', 'group'], right_on=['date', 'group'])\n",
    "cumulativeData.columns = ['date', 'group', 'orders', 'buyers', 'revenue', 'visitors']"
   ]
  },
  {
   "cell_type": "code",
   "execution_count": 33,
   "metadata": {
    "scrolled": true
   },
   "outputs": [
    {
     "data": {
      "text/html": [
       "<div>\n",
       "<style scoped>\n",
       "    .dataframe tbody tr th:only-of-type {\n",
       "        vertical-align: middle;\n",
       "    }\n",
       "\n",
       "    .dataframe tbody tr th {\n",
       "        vertical-align: top;\n",
       "    }\n",
       "\n",
       "    .dataframe thead th {\n",
       "        text-align: right;\n",
       "    }\n",
       "</style>\n",
       "<table border=\"1\" class=\"dataframe\">\n",
       "  <thead>\n",
       "    <tr style=\"text-align: right;\">\n",
       "      <th></th>\n",
       "      <th>date</th>\n",
       "      <th>group</th>\n",
       "      <th>orders</th>\n",
       "      <th>buyers</th>\n",
       "      <th>revenue</th>\n",
       "      <th>visitors</th>\n",
       "    </tr>\n",
       "  </thead>\n",
       "  <tbody>\n",
       "    <tr>\n",
       "      <th>0</th>\n",
       "      <td>2019-08-01</td>\n",
       "      <td>A</td>\n",
       "      <td>24</td>\n",
       "      <td>20</td>\n",
       "      <td>148579</td>\n",
       "      <td>719</td>\n",
       "    </tr>\n",
       "    <tr>\n",
       "      <th>1</th>\n",
       "      <td>2019-08-01</td>\n",
       "      <td>B</td>\n",
       "      <td>21</td>\n",
       "      <td>20</td>\n",
       "      <td>101217</td>\n",
       "      <td>713</td>\n",
       "    </tr>\n",
       "    <tr>\n",
       "      <th>2</th>\n",
       "      <td>2019-08-02</td>\n",
       "      <td>A</td>\n",
       "      <td>44</td>\n",
       "      <td>38</td>\n",
       "      <td>242401</td>\n",
       "      <td>1338</td>\n",
       "    </tr>\n",
       "    <tr>\n",
       "      <th>3</th>\n",
       "      <td>2019-08-02</td>\n",
       "      <td>B</td>\n",
       "      <td>45</td>\n",
       "      <td>43</td>\n",
       "      <td>266748</td>\n",
       "      <td>1294</td>\n",
       "    </tr>\n",
       "    <tr>\n",
       "      <th>4</th>\n",
       "      <td>2019-08-03</td>\n",
       "      <td>A</td>\n",
       "      <td>68</td>\n",
       "      <td>62</td>\n",
       "      <td>354874</td>\n",
       "      <td>1845</td>\n",
       "    </tr>\n",
       "  </tbody>\n",
       "</table>\n",
       "</div>"
      ],
      "text/plain": [
       "        date group  orders  buyers  revenue  visitors\n",
       "0 2019-08-01     A      24      20   148579       719\n",
       "1 2019-08-01     B      21      20   101217       713\n",
       "2 2019-08-02     A      44      38   242401      1338\n",
       "3 2019-08-02     B      45      43   266748      1294\n",
       "4 2019-08-03     A      68      62   354874      1845"
      ]
     },
     "execution_count": 33,
     "metadata": {},
     "output_type": "execute_result"
    }
   ],
   "source": [
    "cumulativeData.head()"
   ]
  },
  {
   "cell_type": "markdown",
   "metadata": {},
   "source": [
    "Заводим переменные с кумулятивным количеством заказов и выручкой по дням для каждой группы."
   ]
  },
  {
   "cell_type": "code",
   "execution_count": 34,
   "metadata": {},
   "outputs": [],
   "source": [
    "# датафрейм с кумулятивным количеством заказов и кумулятивной выручкой по дням в группе А\n",
    "cumulativeRevenueA = cumulativeData[cumulativeData['group']=='A'][['date','revenue', 'orders']]\n",
    "\n",
    "# датафрейм с кумулятивным количеством заказов и кумулятивной выручкой по дням в группе B\n",
    "cumulativeRevenueB = cumulativeData[cumulativeData['group']=='B'][['date','revenue', 'orders']]"
   ]
  },
  {
   "cell_type": "markdown",
   "metadata": {},
   "source": [
    "<div class=\"alert alert-success\"; style=\"border-left: 7px solid green\">\n",
    "<font size=\"4\"><b>Комментарий ревьюера 🚀</b></font>\n",
    "    <br />\n",
    "    <font size=\"3\", color = \"black\">\n",
    "    <br /> Супер! Получилась верная таблица с кумулятивными расчетами\n",
    "    </font>\n",
    "\n",
    "</div>"
   ]
  },
  {
   "cell_type": "markdown",
   "metadata": {},
   "source": [
    "Строим графики кумулятивной выручки по обеим группам."
   ]
  },
  {
   "cell_type": "code",
   "execution_count": 35,
   "metadata": {},
   "outputs": [
    {
     "data": {
      "image/png": "[encoded data removed]",
      "text/plain": [
       "<Figure size 960x480 with 1 Axes>"
      ]
     },
     "metadata": {
      "needs_background": "light"
     },
     "output_type": "display_data"
    }
   ],
   "source": [
    "# график кумулятивной выручки\n",
    "\n",
    "# параметры\n",
    "figure(figsize=(12, 6), dpi=80)\n",
    "plt.grid()\n",
    "plt.ylabel('Revenue')\n",
    "plt.title('Cumulative Revenue')\n",
    "plt.xticks(rotation=45)\n",
    "\n",
    "# график кумулятивной выручки группы А\n",
    "plt.plot(cumulativeRevenueA['date'], cumulativeRevenueA['revenue'], label='A')\n",
    "\n",
    "# график кумулятивной выручки группы B\n",
    "plt.plot(cumulativeRevenueB['date'], cumulativeRevenueB['revenue'], label='B')\n",
    "\n",
    "plt.legend()\n",
    "plt.show()"
   ]
  },
  {
   "cell_type": "markdown",
   "metadata": {},
   "source": [
    "Выручка растёт по обеим группам, наблюдается резкое увеличение для группы B с 18 августа, что может говорить о наличии выбросов (резкое увеличение кол-ва заказов либо наличие особо крупных покупок)."
   ]
  },
  {
   "cell_type": "markdown",
   "metadata": {},
   "source": [
    "<div class=\"alert alert-success\"; style=\"border-left: 7px solid green\">\n",
    "<font size=\"4\"><b>Комментарий ревьюера 🚀</b></font>\n",
    "    <br />\n",
    "    <font size=\"3\", color = \"black\">\n",
    "    <br /> Отличное построение графика выручки! Нравится описание полученных результатов, верно замечены выбросы\n",
    "     <br />\n",
    "    </font>\n",
    "\n",
    "</div>"
   ]
  },
  {
   "cell_type": "markdown",
   "metadata": {},
   "source": [
    "### График кумулятивного среднего чека по группам"
   ]
  },
  {
   "cell_type": "markdown",
   "metadata": {},
   "source": [
    "Теперь построим графики кумулятивного среднего чека по группам, для этого поделим выручку на количество заказов для каждой даты. "
   ]
  },
  {
   "cell_type": "code",
   "execution_count": 36,
   "metadata": {},
   "outputs": [
    {
     "data": {
      "image/png": "[encoded data removed]",
      "text/plain": [
       "<Figure size 960x480 with 1 Axes>"
      ]
     },
     "metadata": {
      "needs_background": "light"
     },
     "output_type": "display_data"
    }
   ],
   "source": [
    "# графики среднего чека по группам\n",
    "\n",
    "# параметры\n",
    "figure(figsize=(12, 6), dpi=80)\n",
    "plt.grid()\n",
    "plt.title('Cumulative AVG Bill')\n",
    "plt.xticks(rotation=45)\n",
    "plt.ylabel('AVG Bill')\n",
    "\n",
    "# строим графики\n",
    "plt.plot(cumulativeRevenueA['date'], cumulativeRevenueA['revenue']/cumulativeRevenueA['orders'], label='A')\n",
    "plt.plot(cumulativeRevenueB['date'], cumulativeRevenueB['revenue']/cumulativeRevenueB['orders'], label='B')\n",
    "\n",
    "plt.legend()\n",
    "plt.show()"
   ]
  },
  {
   "cell_type": "markdown",
   "metadata": {},
   "source": [
    "С 13-14 августа наблюдается некоторое выравнивание среднего чека по обеим группам, но затем в группе В происходит резкое увеличение среднего чека, в то время как в группе А он остается стабильным. Необходимо проверить выбросы в группе В."
   ]
  },
  {
   "cell_type": "markdown",
   "metadata": {},
   "source": [
    "<div class=\"alert alert-success\"; style=\"border-left: 7px solid green\">\n",
    "<font size=\"4\"><b>Комментарий ревьюера 🚀</b></font>\n",
    "    <br />\n",
    "    <font size=\"3\", color = \"black\">\n",
    "    <br /> Молодец, верный вывод!\n",
    "     <br />\n",
    "    </font>\n",
    "\n",
    "</div>"
   ]
  },
  {
   "cell_type": "markdown",
   "metadata": {},
   "source": [
    "### График относительного изменения кумулятивного среднего чека"
   ]
  },
  {
   "cell_type": "markdown",
   "metadata": {},
   "source": [
    "Построим график относительного изменения кумулятивного среднего чека. Он даст нам понять, как сильно менялась разница между средним чеком группы В относительно группы А. <br> Для этого объединим данные по выручке и поделим средний кумулятивный чек группы В на тот же параметр группы А и вычтем 1. "
   ]
  },
  {
   "cell_type": "code",
   "execution_count": 37,
   "metadata": {},
   "outputs": [],
   "source": [
    "# собираем данные по кумулятивной выручке в одном датафрейме\n",
    "mergedCumulativeRevenue = cumulativeRevenueA.merge(cumulativeRevenueB, left_on='date',\n",
    "                                                   right_on='date', how='left', suffixes=['A', 'B'])"
   ]
  },
  {
   "cell_type": "code",
   "execution_count": 38,
   "metadata": {},
   "outputs": [
    {
     "data": {
      "image/png": "[encoded data removed]",
      "text/plain": [
       "<Figure size 960x480 with 1 Axes>"
      ]
     },
     "metadata": {
      "needs_background": "light"
     },
     "output_type": "display_data"
    }
   ],
   "source": [
    "# параметры графика\n",
    "figure(figsize=(12, 6), dpi=80)\n",
    "plt.grid()\n",
    "plt.xticks(rotation=45)\n",
    "plt.title('Relative Change of Cumulative AVG Bill')\n",
    "plt.ylabel('AVG Bill Relative Change')\n",
    "\n",
    "# cтроим график отношения средних кумулятивных чеков\n",
    "plt.plot(mergedCumulativeRevenue['date'], \n",
    "         (mergedCumulativeRevenue['revenueB']/mergedCumulativeRevenue['ordersB'])/\n",
    "         (mergedCumulativeRevenue['revenueA']/mergedCumulativeRevenue['ordersA'])-1)\n",
    "\n",
    "# добавляем ось X\n",
    "plt.axhline(y=0, color='black', linestyle='--') \n",
    "plt.show()"
   ]
  },
  {
   "cell_type": "markdown",
   "metadata": {},
   "source": [
    "На графике относительного изменения кумулятивного чека также видны резкие изменения, что говорит о том, что разница в средних чеках постоянно менялась и довольно сильно, что также говорит о наличии выбросов. После последнего резкого увеличения разницы за 18 августа, относительное изменение постепенно снижается. "
   ]
  },
  {
   "cell_type": "markdown",
   "metadata": {},
   "source": [
    "<div class=\"alert alert-success\"; style=\"border-left: 7px solid green\">\n",
    "<font size=\"4\"><b>Комментарий ревьюера 🚀</b></font>\n",
    "    <br />\n",
    "    <font size=\"3\", color = \"black\">\n",
    "    <br /> Отличное построение графика! Нравится выделение линии на уровне 0 по относительной разнице!\n",
    "     <br />\n",
    "    </font>\n",
    "\n",
    "</div>"
   ]
  },
  {
   "cell_type": "markdown",
   "metadata": {},
   "source": [
    "### График кумулятивной конверсии по группам"
   ]
  },
  {
   "cell_type": "code",
   "execution_count": 39,
   "metadata": {},
   "outputs": [],
   "source": [
    "# считаем кумулятивную конверсию\n",
    "cumulativeData['conversion'] = cumulativeData['orders']/cumulativeData['visitors']"
   ]
  },
  {
   "cell_type": "code",
   "execution_count": 40,
   "metadata": {},
   "outputs": [],
   "source": [
    "# отделяем данные по группе A\n",
    "cumulativeDataA = cumulativeData[cumulativeData['group']=='A']\n",
    "\n",
    "# отделяем данные по группе B\n",
    "cumulativeDataB = cumulativeData[cumulativeData['group']=='B']"
   ]
  },
  {
   "cell_type": "code",
   "execution_count": 41,
   "metadata": {},
   "outputs": [
    {
     "data": {
      "image/png": "[encoded data removed]",
      "text/plain": [
       "<Figure size 960x480 with 1 Axes>"
      ]
     },
     "metadata": {
      "needs_background": "light"
     },
     "output_type": "display_data"
    }
   ],
   "source": [
    "# параметры графика\n",
    "figure(figsize=(12, 6), dpi=80)\n",
    "plt.grid()\n",
    "plt.xticks(rotation=45)\n",
    "plt.title('Change of Cumulative Conversion')\n",
    "plt.ylabel('Conversion')\n",
    "plt.axis([pd.to_datetime(\"2019-08-01\"), pd.to_datetime('2019-08-31'), 0.025, 0.04])\n",
    "\n",
    "# строим график\n",
    "plt.plot(cumulativeDataA['date'], cumulativeDataA['conversion'], label='A')\n",
    "plt.plot(cumulativeDataB['date'], cumulativeDataB['conversion'], label='B')\n",
    "\n",
    "plt.legend()\n",
    "plt.show()"
   ]
  },
  {
   "cell_type": "markdown",
   "metadata": {},
   "source": [
    "После периода сильных флуктуаций, с 6 августа группа В вырывается вперед и с 9 августа обе группы относительно фиксируются около своих значений на протяжении всего остатка периода с отрицательным трендом в конце. Очевидно преимущество группы В над группой А по параметру конверсии."
   ]
  },
  {
   "cell_type": "markdown",
   "metadata": {},
   "source": [
    "<div class=\"alert alert-success\"; style=\"border-left: 7px solid green\">\n",
    "<font size=\"4\"><b>Комментарий ревьюера 🚀</b></font>\n",
    "    <br />\n",
    "    <font size=\"3\", color = \"black\">\n",
    "    <br />Молодец, верный подсчет конверсии!\n",
    "     <br /><br /> Также отличное построение графика! Верно замечен тренд\n",
    "    </font>\n",
    "\n",
    "</div>"
   ]
  },
  {
   "cell_type": "markdown",
   "metadata": {},
   "source": [
    "### График относительного изменения кумулятивной конверсии"
   ]
  },
  {
   "cell_type": "markdown",
   "metadata": {},
   "source": [
    "Для создания графика относительного изменения кумулятивной конверсии сведем данные по конверсии обеих групп:"
   ]
  },
  {
   "cell_type": "code",
   "execution_count": 42,
   "metadata": {},
   "outputs": [],
   "source": [
    "# таблица относительного изменения кум. конверсии обеих групп\n",
    "mergedCumulativeConversions = cumulativeDataA[['date','conversion']].merge(cumulativeDataB[['date','conversion']], \n",
    "                                                                           left_on='date',\n",
    "                                                                           right_on='date', \n",
    "                                                                           how='left',\n",
    "                                                                           suffixes=['A', 'B'])"
   ]
  },
  {
   "cell_type": "markdown",
   "metadata": {},
   "source": [
    "Делим кумулятивную конверсию группы В на группу А и вычитаем единицу, выводим график."
   ]
  },
  {
   "cell_type": "code",
   "execution_count": 43,
   "metadata": {},
   "outputs": [
    {
     "data": {
      "image/png": "[encoded data removed]",
      "text/plain": [
       "<Figure size 960x480 with 1 Axes>"
      ]
     },
     "metadata": {
      "needs_background": "light"
     },
     "output_type": "display_data"
    }
   ],
   "source": [
    "# задаем параметры графика\n",
    "figure(figsize=(12, 6), dpi=80)\n",
    "plt.grid()\n",
    "plt.xticks(rotation=45)\n",
    "plt.title('Relative Change of Cumulative Conversion')\n",
    "plt.ylabel('Relative Conversion')\n",
    "plt.axhline(y=0, color='black', linestyle='--')\n",
    "plt.axhline(y=-0.1, color='grey', linestyle='--')\n",
    "plt.axis([pd.to_datetime(\"2019-08-01\"), pd.to_datetime('2019-08-31'), -0.2, 0.25])\n",
    "\n",
    "# строим график\n",
    "plt.plot(mergedCumulativeConversions['date'], \n",
    "         mergedCumulativeConversions['conversionB']/mergedCumulativeConversions['conversionA']-1,\n",
    "         label=\"Относительный прирост конверсии группы B относительно группы A\")\n",
    "\n",
    "plt.show()"
   ]
  },
  {
   "cell_type": "markdown",
   "metadata": {},
   "source": [
    "В начале эксперимента конвесия группы В проигрывала группе А, затем выросла и снова упала. После падения 2-3 августа начался стремительный рост конверсии группы В вплоть до 15 августа, разница между группами сильно возросла, затем конверсия стабилизировалась и разница стала постепенно снижаться. До конца рассматриваемого периода конверсия группы В была выше, чем в группе А. С 29 августа конверсия группы В снова начала восходящий тренд - разница снова стала расти."
   ]
  },
  {
   "cell_type": "markdown",
   "metadata": {},
   "source": [
    "<div class=\"alert alert-success\"; style=\"border-left: 7px solid green\">\n",
    "<font size=\"4\"><b>Комментарий ревьюера 🚀</b></font>\n",
    "    <br />\n",
    "    <font size=\"3\", color = \"black\">\n",
    "    <br /> Да, видим, что после 8-го дня конверсия уже стабилизровалась\n",
    "     <br />\n",
    "    </font>\n",
    "\n",
    "</div>"
   ]
  },
  {
   "cell_type": "markdown",
   "metadata": {},
   "source": [
    "### Точечный график количества заказов по пользователям"
   ]
  },
  {
   "cell_type": "markdown",
   "metadata": {},
   "source": [
    "Построим точечный график количества заказов по пользователям, он поможет нам наглядно увидеть наличие выбросов в этих данных. <br>\n",
    "\n",
    "Для этого заведем новую таблицу с id посетителей и кол-ов заказов на каждого."
   ]
  },
  {
   "cell_type": "code",
   "execution_count": 44,
   "metadata": {},
   "outputs": [
    {
     "name": "stdout",
     "output_type": "stream",
     "text": [
      "         user_id  orders\n",
      "1023  4256040402      11\n",
      "591   2458001652      11\n",
      "569   2378935119       9\n",
      "487   2038680547       8\n",
      "44     199603092       5\n",
      "744   3062433592       5\n",
      "55     237748145       5\n",
      "917   3803269165       5\n",
      "299   1230306981       5\n",
      "897   3717692402       5\n"
     ]
    }
   ],
   "source": [
    "# создаем таблицу \n",
    "ordersByUsers = (\n",
    "    orders.groupby('visitor_id', as_index=False)\n",
    "    .agg({'transaction_id': 'nunique'})\n",
    ")\n",
    "# переименовываем столбцы\n",
    "ordersByUsers.columns = ['user_id', 'orders']\n",
    "\n",
    "# выводим таблицу  сортировкой по кол-ву заказов на пользователя\n",
    "print(ordersByUsers.sort_values(by='orders', ascending=False).head(10)) "
   ]
  },
  {
   "cell_type": "markdown",
   "metadata": {},
   "source": [
    "Есть пользователи с кол-ом заказов от от 5 и выше. Построим график распределения и гистограмму."
   ]
  },
  {
   "cell_type": "code",
   "execution_count": 45,
   "metadata": {},
   "outputs": [
    {
     "data": {
      "image/png": "[encoded data removed]",
      "text/plain": [
       "<Figure size 800x400 with 1 Axes>"
      ]
     },
     "metadata": {
      "needs_background": "light"
     },
     "output_type": "display_data"
    }
   ],
   "source": [
    "# построим гистограмму\n",
    "figure(figsize=(10, 5), dpi=80)\n",
    "plt.grid()\n",
    "plt.xlabel('Number of orders')\n",
    "plt.title('Number of orders per user')\n",
    "plt.ylabel('Users')\n",
    "plt.hist(ordersByUsers['orders'])\n",
    "plt.show()"
   ]
  },
  {
   "cell_type": "markdown",
   "metadata": {},
   "source": [
    "Большинство пользователей заказывали 1 раз, но есть немаленькая доля и тех, кто заказывал дважды. Построим диаграмму распределения."
   ]
  },
  {
   "cell_type": "code",
   "execution_count": 46,
   "metadata": {},
   "outputs": [
    {
     "data": {
      "text/plain": [
       "<matplotlib.collections.PathCollection at 0x7f9cccea5c40>"
      ]
     },
     "execution_count": 46,
     "metadata": {},
     "output_type": "execute_result"
    },
    {
     "data": {
      "image/png": "[encoded data removed]",
      "text/plain": [
       "<Figure size 800x400 with 1 Axes>"
      ]
     },
     "metadata": {
      "needs_background": "light"
     },
     "output_type": "display_data"
    }
   ],
   "source": [
    "# построим диаграмму распределения\n",
    "\n",
    "# серия от 0 до величины кол-ва наблюдений в таблице ordersByUsers\n",
    "x_values = pd.Series(range(0,len(ordersByUsers)))\n",
    "\n",
    "# параметры\n",
    "figure(figsize=(10, 5), dpi=80)\n",
    "plt.grid()\n",
    "plt.xlabel('Number of Users')\n",
    "plt.title('Number of Orders per User')\n",
    "plt.ylabel('Number of Orders')\n",
    "\n",
    "# график\n",
    "plt.scatter(x_values, ordersByUsers['orders'])"
   ]
  },
  {
   "cell_type": "markdown",
   "metadata": {},
   "source": [
    "На графике распределения видно, что есть доля пользователей с 2 заказами, а есть и пользователи с заказами больше 2х, скорее всего, эти пользователи и являются выбросами. Чтобы точно убедиться в этом, определим их величину точнее с помощью выборочных перцентилей. "
   ]
  },
  {
   "cell_type": "markdown",
   "metadata": {},
   "source": [
    "<div class=\"alert alert-success\"; style=\"border-left: 7px solid green\">\n",
    "<font size=\"4\"><b>Комментарий ревьюера 🚀</b></font>\n",
    "    <br />\n",
    "    <font size=\"3\", color = \"black\">\n",
    "    <br /> Абсолютно верное построение точечного графика. Действительно, по графику видим, что аномальные значения начинаются от 3-4 заказов\n",
    "     <br />\n",
    "    </font>\n",
    "\n",
    "</div>"
   ]
  },
  {
   "cell_type": "markdown",
   "metadata": {},
   "source": [
    "### 95-й и 99-й перцентили количества заказов на пользователя"
   ]
  },
  {
   "cell_type": "code",
   "execution_count": 47,
   "metadata": {},
   "outputs": [
    {
     "name": "stdout",
     "output_type": "stream",
     "text": [
      "[2. 4.]\n"
     ]
    }
   ],
   "source": [
    "print(np.percentile(ordersByUsers['orders'], [95, 99]))"
   ]
  },
  {
   "cell_type": "markdown",
   "metadata": {},
   "source": [
    "Не более 5 процентов пользователей оформили больше 2 заказов. Примем за границу, после которой начинаются аномальные заказы в 2 ед. Пользователей, которые сделали более 2 заказов, считаем аномальными."
   ]
  },
  {
   "cell_type": "markdown",
   "metadata": {},
   "source": [
    "<div class=\"alert alert-success\"; style=\"border-left: 7px solid green\">\n",
    "<font size=\"4\"><b>Комментарий ревьюера 🚀</b></font>\n",
    "    <br />\n",
    "    <font size=\"3\", color = \"black\">\n",
    "    <br /> Супер! Верно найдена граница\n",
    "     <br />\n",
    "    </font>\n",
    "\n",
    "</div>"
   ]
  },
  {
   "cell_type": "markdown",
   "metadata": {},
   "source": [
    "### Точечный график стоимостей заказов"
   ]
  },
  {
   "cell_type": "markdown",
   "metadata": {},
   "source": [
    "Теперь построим график по стоимости заказов, чтобы определить выбросы. \n",
    "\n",
    "Для начала выведем первые 10 значений таблицы revenue отсортированной по объему выручки."
   ]
  },
  {
   "cell_type": "code",
   "execution_count": 48,
   "metadata": {
    "scrolled": true
   },
   "outputs": [
    {
     "data": {
      "text/html": [
       "<div>\n",
       "<style scoped>\n",
       "    .dataframe tbody tr th:only-of-type {\n",
       "        vertical-align: middle;\n",
       "    }\n",
       "\n",
       "    .dataframe tbody tr th {\n",
       "        vertical-align: top;\n",
       "    }\n",
       "\n",
       "    .dataframe thead th {\n",
       "        text-align: right;\n",
       "    }\n",
       "</style>\n",
       "<table border=\"1\" class=\"dataframe\">\n",
       "  <thead>\n",
       "    <tr style=\"text-align: right;\">\n",
       "      <th></th>\n",
       "      <th>transaction_id</th>\n",
       "      <th>visitor_id</th>\n",
       "      <th>date</th>\n",
       "      <th>revenue</th>\n",
       "      <th>group</th>\n",
       "    </tr>\n",
       "  </thead>\n",
       "  <tbody>\n",
       "    <tr>\n",
       "      <th>425</th>\n",
       "      <td>590470918</td>\n",
       "      <td>1920142716</td>\n",
       "      <td>2019-08-19</td>\n",
       "      <td>1294500</td>\n",
       "      <td>B</td>\n",
       "    </tr>\n",
       "    <tr>\n",
       "      <th>1196</th>\n",
       "      <td>3936777065</td>\n",
       "      <td>2108080724</td>\n",
       "      <td>2019-08-15</td>\n",
       "      <td>202740</td>\n",
       "      <td>B</td>\n",
       "    </tr>\n",
       "    <tr>\n",
       "      <th>858</th>\n",
       "      <td>192721366</td>\n",
       "      <td>1316129916</td>\n",
       "      <td>2019-08-27</td>\n",
       "      <td>93940</td>\n",
       "      <td>A</td>\n",
       "    </tr>\n",
       "    <tr>\n",
       "      <th>1136</th>\n",
       "      <td>666610489</td>\n",
       "      <td>1307669133</td>\n",
       "      <td>2019-08-13</td>\n",
       "      <td>92550</td>\n",
       "      <td>A</td>\n",
       "    </tr>\n",
       "    <tr>\n",
       "      <th>744</th>\n",
       "      <td>3668308183</td>\n",
       "      <td>888512513</td>\n",
       "      <td>2019-08-27</td>\n",
       "      <td>86620</td>\n",
       "      <td>B</td>\n",
       "    </tr>\n",
       "    <tr>\n",
       "      <th>682</th>\n",
       "      <td>1216533772</td>\n",
       "      <td>4266935830</td>\n",
       "      <td>2019-08-29</td>\n",
       "      <td>78990</td>\n",
       "      <td>B</td>\n",
       "    </tr>\n",
       "    <tr>\n",
       "      <th>662</th>\n",
       "      <td>1811671147</td>\n",
       "      <td>4266935830</td>\n",
       "      <td>2019-08-29</td>\n",
       "      <td>78990</td>\n",
       "      <td>A</td>\n",
       "    </tr>\n",
       "    <tr>\n",
       "      <th>743</th>\n",
       "      <td>3603576309</td>\n",
       "      <td>4133034833</td>\n",
       "      <td>2019-08-09</td>\n",
       "      <td>67990</td>\n",
       "      <td>A</td>\n",
       "    </tr>\n",
       "    <tr>\n",
       "      <th>1103</th>\n",
       "      <td>1348774318</td>\n",
       "      <td>1164614297</td>\n",
       "      <td>2019-08-12</td>\n",
       "      <td>66350</td>\n",
       "      <td>A</td>\n",
       "    </tr>\n",
       "    <tr>\n",
       "      <th>1099</th>\n",
       "      <td>316924019</td>\n",
       "      <td>148427295</td>\n",
       "      <td>2019-08-12</td>\n",
       "      <td>65710</td>\n",
       "      <td>A</td>\n",
       "    </tr>\n",
       "  </tbody>\n",
       "</table>\n",
       "</div>"
      ],
      "text/plain": [
       "      transaction_id  visitor_id       date  revenue group\n",
       "425        590470918  1920142716 2019-08-19  1294500     B\n",
       "1196      3936777065  2108080724 2019-08-15   202740     B\n",
       "858        192721366  1316129916 2019-08-27    93940     A\n",
       "1136       666610489  1307669133 2019-08-13    92550     A\n",
       "744       3668308183   888512513 2019-08-27    86620     B\n",
       "682       1216533772  4266935830 2019-08-29    78990     B\n",
       "662       1811671147  4266935830 2019-08-29    78990     A\n",
       "743       3603576309  4133034833 2019-08-09    67990     A\n",
       "1103      1348774318  1164614297 2019-08-12    66350     A\n",
       "1099       316924019   148427295 2019-08-12    65710     A"
      ]
     },
     "execution_count": 48,
     "metadata": {},
     "output_type": "execute_result"
    }
   ],
   "source": [
    "orders.sort_values(by='revenue',ascending=False).head(10)"
   ]
  },
  {
   "cell_type": "markdown",
   "metadata": {},
   "source": [
    "Уже видно, что есть как минимум 2 пользователя с очень большими покупками, посмотрим эти данные на диаграмме распределения"
   ]
  },
  {
   "cell_type": "code",
   "execution_count": 120,
   "metadata": {},
   "outputs": [
    {
     "data": {
      "image/png": "[encoded data removed]",
      "text/plain": [
       "<Figure size 800x400 with 1 Axes>"
      ]
     },
     "metadata": {
      "needs_background": "light"
     },
     "output_type": "display_data"
    }
   ],
   "source": [
    "# построим диаграмму распределения стоимостей заказа\n",
    "x_values = pd.Series(range(0,len(orders['revenue'])))\n",
    "\n",
    "figure(figsize=(10, 5), dpi=80)\n",
    "plt.grid()\n",
    "plt.title('Revenue')\n",
    "plt.ylabel('Revenue per user')\n",
    "\n",
    "plt.scatter(x_values, orders['revenue'])\n",
    "plt.show()"
   ]
  },
  {
   "cell_type": "markdown",
   "metadata": {},
   "source": [
    "В данных есть 2 заказа, один на 1294500, второй на 202740. Эти заказы точно попадают к выбросам.Теперь с помощью перцентилей определим порог, после которого выручка будет уже аномальной."
   ]
  },
  {
   "cell_type": "markdown",
   "metadata": {},
   "source": [
    "<div class=\"alert alert-success\"; style=\"border-left: 7px solid green\">\n",
    "<font size=\"4\"><b>Комментарий ревьюера 🚀</b></font>\n",
    "    <br />\n",
    "    <font size=\"3\", color = \"black\">\n",
    "    <br /> Действительно, по такому графику сразу можно заметить 2 выброса\n",
    "     <br />\n",
    "    </font>\n",
    "\n",
    "</div>"
   ]
  },
  {
   "cell_type": "markdown",
   "metadata": {},
   "source": [
    "<div class=\"alert alert-warning\" ; style=\"border-left: 7px solid orange\">\n",
    "<font size=\"4\"><b>Комментарий ревьюера 👀</b></font>\n",
    "    <br />\n",
    "    <font size=\"3\", color = \"black\">\n",
    "    <br /> Для более детального изучения распределения точек советую построить еще один график с ограничениями по осям\n",
    "    <br />\n",
    "    </font>\n",
    "\n",
    "</div>"
   ]
  },
  {
   "cell_type": "markdown",
   "metadata": {},
   "source": [
    "### 95-й и 99-й перцентили стоимости заказов"
   ]
  },
  {
   "cell_type": "code",
   "execution_count": 50,
   "metadata": {},
   "outputs": [
    {
     "name": "stdout",
     "output_type": "stream",
     "text": [
      "[28000.  58233.2]\n"
     ]
    }
   ],
   "source": [
    "print(np.percentile(orders['revenue'], [95, 99]))"
   ]
  },
  {
   "cell_type": "markdown",
   "metadata": {},
   "source": [
    "Не более 1 процента пользователей делали заказ более чем на 58233 у.е., не более 5% пользователей делали заказы больше, чем на 28000 у.е., всё, что выше этого значения - считаем выбросами."
   ]
  },
  {
   "cell_type": "markdown",
   "metadata": {},
   "source": [
    "<div class=\"alert alert-success\"; style=\"border-left: 7px solid green\">\n",
    "<font size=\"4\"><b>Комментарий ревьюера 🚀</b></font>\n",
    "    <br />\n",
    "    <font size=\"3\", color = \"black\">\n",
    "    <br /> Супер, абсолютно верно найдена граница аномальных значений\n",
    "     <br />\n",
    "    </font>\n",
    "\n",
    "</div>"
   ]
  },
  {
   "cell_type": "markdown",
   "metadata": {},
   "source": [
    "### Статистическая значимость различий в конверсии между группами по «сырым» данным"
   ]
  },
  {
   "cell_type": "markdown",
   "metadata": {},
   "source": [
    "В данном этапе нам нужно проверить гипотезу о том, что различий в конверсии между группами нет - это будет наша нулевая гипотеза. Альтернативной гипотезой будет то, что различия есть и они статистически значимы. Для этой проверки применим критерий Манна-Уитни, который работает с данными, где есть аномалии и выбросы, а в наших данных такие выбросы есть."
   ]
  },
  {
   "cell_type": "markdown",
   "metadata": {},
   "source": [
    "<div class=\"alert alert-warning\" ; style=\"border-left: 7px solid orange\">\n",
    "<font size=\"4\"><b>Комментарий ревьюера 👀</b></font>\n",
    "    <br />\n",
    "    <font size=\"3\", color = \"black\">\n",
    "    <br /> Следует переместить нулевую и альтернативную гипотезу в ячейку прямо перед расчетом стат. теста\n",
    "    <br />\n",
    "    </font>\n",
    "\n",
    "</div>"
   ]
  },
  {
   "cell_type": "markdown",
   "metadata": {},
   "source": [
    "Критический уровень статистической значимости возьмем как 0.05. Это позволит тесту быть не слишком чувствительным к результату."
   ]
  },
  {
   "cell_type": "markdown",
   "metadata": {},
   "source": [
    "Для расчёта данных для статистической значимости различий в конверсии между группами найдём количество пользователей в выбранную дату и их кумулятивное количество в группе A и В."
   ]
  },
  {
   "cell_type": "code",
   "execution_count": 51,
   "metadata": {},
   "outputs": [],
   "source": [
    "visitorsADaily = visitors[visitors['group'] == 'A'][['date', 'visitors']]\n",
    "visitorsADaily.columns = ['date', 'visitorsPerDateA']\n",
    "\n",
    "visitorsACummulative = visitorsADaily.apply(\n",
    "    lambda x: visitorsADaily[visitorsADaily['date'] <= x['date']].agg(\n",
    "        {'date': 'max', 'visitorsPerDateA': 'sum'}\n",
    "    ),\n",
    "    axis=1,\n",
    ")\n",
    "visitorsACummulative.columns = ['date', 'visitorsCummulativeA']"
   ]
  },
  {
   "cell_type": "code",
   "execution_count": 52,
   "metadata": {},
   "outputs": [
    {
     "data": {
      "text/html": [
       "<div>\n",
       "<style scoped>\n",
       "    .dataframe tbody tr th:only-of-type {\n",
       "        vertical-align: middle;\n",
       "    }\n",
       "\n",
       "    .dataframe tbody tr th {\n",
       "        vertical-align: top;\n",
       "    }\n",
       "\n",
       "    .dataframe thead th {\n",
       "        text-align: right;\n",
       "    }\n",
       "</style>\n",
       "<table border=\"1\" class=\"dataframe\">\n",
       "  <thead>\n",
       "    <tr style=\"text-align: right;\">\n",
       "      <th></th>\n",
       "      <th>date</th>\n",
       "      <th>visitorsPerDateA</th>\n",
       "    </tr>\n",
       "  </thead>\n",
       "  <tbody>\n",
       "    <tr>\n",
       "      <th>0</th>\n",
       "      <td>2019-08-01</td>\n",
       "      <td>719</td>\n",
       "    </tr>\n",
       "    <tr>\n",
       "      <th>1</th>\n",
       "      <td>2019-08-02</td>\n",
       "      <td>619</td>\n",
       "    </tr>\n",
       "    <tr>\n",
       "      <th>2</th>\n",
       "      <td>2019-08-03</td>\n",
       "      <td>507</td>\n",
       "    </tr>\n",
       "    <tr>\n",
       "      <th>3</th>\n",
       "      <td>2019-08-04</td>\n",
       "      <td>717</td>\n",
       "    </tr>\n",
       "    <tr>\n",
       "      <th>4</th>\n",
       "      <td>2019-08-05</td>\n",
       "      <td>756</td>\n",
       "    </tr>\n",
       "  </tbody>\n",
       "</table>\n",
       "</div>"
      ],
      "text/plain": [
       "        date  visitorsPerDateA\n",
       "0 2019-08-01               719\n",
       "1 2019-08-02               619\n",
       "2 2019-08-03               507\n",
       "3 2019-08-04               717\n",
       "4 2019-08-05               756"
      ]
     },
     "execution_count": 52,
     "metadata": {},
     "output_type": "execute_result"
    }
   ],
   "source": [
    "visitorsADaily.head()"
   ]
  },
  {
   "cell_type": "code",
   "execution_count": 53,
   "metadata": {},
   "outputs": [
    {
     "data": {
      "text/html": [
       "<div>\n",
       "<style scoped>\n",
       "    .dataframe tbody tr th:only-of-type {\n",
       "        vertical-align: middle;\n",
       "    }\n",
       "\n",
       "    .dataframe tbody tr th {\n",
       "        vertical-align: top;\n",
       "    }\n",
       "\n",
       "    .dataframe thead th {\n",
       "        text-align: right;\n",
       "    }\n",
       "</style>\n",
       "<table border=\"1\" class=\"dataframe\">\n",
       "  <thead>\n",
       "    <tr style=\"text-align: right;\">\n",
       "      <th></th>\n",
       "      <th>date</th>\n",
       "      <th>visitorsCummulativeA</th>\n",
       "    </tr>\n",
       "  </thead>\n",
       "  <tbody>\n",
       "    <tr>\n",
       "      <th>0</th>\n",
       "      <td>2019-08-01</td>\n",
       "      <td>719</td>\n",
       "    </tr>\n",
       "    <tr>\n",
       "      <th>1</th>\n",
       "      <td>2019-08-02</td>\n",
       "      <td>1338</td>\n",
       "    </tr>\n",
       "    <tr>\n",
       "      <th>2</th>\n",
       "      <td>2019-08-03</td>\n",
       "      <td>1845</td>\n",
       "    </tr>\n",
       "    <tr>\n",
       "      <th>3</th>\n",
       "      <td>2019-08-04</td>\n",
       "      <td>2562</td>\n",
       "    </tr>\n",
       "    <tr>\n",
       "      <th>4</th>\n",
       "      <td>2019-08-05</td>\n",
       "      <td>3318</td>\n",
       "    </tr>\n",
       "  </tbody>\n",
       "</table>\n",
       "</div>"
      ],
      "text/plain": [
       "        date  visitorsCummulativeA\n",
       "0 2019-08-01                   719\n",
       "1 2019-08-02                  1338\n",
       "2 2019-08-03                  1845\n",
       "3 2019-08-04                  2562\n",
       "4 2019-08-05                  3318"
      ]
     },
     "execution_count": 53,
     "metadata": {},
     "output_type": "execute_result"
    }
   ],
   "source": [
    "visitorsACummulative.head()"
   ]
  },
  {
   "cell_type": "markdown",
   "metadata": {},
   "source": [
    "Далее, найдём кумулятивное количество пользователей и кол-во пользователей в выбранную дату по группе В."
   ]
  },
  {
   "cell_type": "code",
   "execution_count": 54,
   "metadata": {},
   "outputs": [],
   "source": [
    "visitorsBDaily = visitors[visitors['group'] == 'B'][['date', 'visitors']]\n",
    "visitorsBDaily.columns = ['date', 'visitorsPerDateB']\n",
    "\n",
    "visitorsBCummulative = visitorsBDaily.apply(\n",
    "    lambda x: visitorsBDaily[visitorsBDaily['date'] <= x['date']].agg(\n",
    "        {'date': 'max', 'visitorsPerDateB': 'sum'}\n",
    "    ),\n",
    "    axis=1,\n",
    ")\n",
    "visitorsBCummulative.columns = ['date', 'visitorsCummulativeB']"
   ]
  },
  {
   "cell_type": "code",
   "execution_count": 55,
   "metadata": {},
   "outputs": [
    {
     "data": {
      "text/html": [
       "<div>\n",
       "<style scoped>\n",
       "    .dataframe tbody tr th:only-of-type {\n",
       "        vertical-align: middle;\n",
       "    }\n",
       "\n",
       "    .dataframe tbody tr th {\n",
       "        vertical-align: top;\n",
       "    }\n",
       "\n",
       "    .dataframe thead th {\n",
       "        text-align: right;\n",
       "    }\n",
       "</style>\n",
       "<table border=\"1\" class=\"dataframe\">\n",
       "  <thead>\n",
       "    <tr style=\"text-align: right;\">\n",
       "      <th></th>\n",
       "      <th>date</th>\n",
       "      <th>visitorsPerDateB</th>\n",
       "    </tr>\n",
       "  </thead>\n",
       "  <tbody>\n",
       "    <tr>\n",
       "      <th>31</th>\n",
       "      <td>2019-08-01</td>\n",
       "      <td>713</td>\n",
       "    </tr>\n",
       "    <tr>\n",
       "      <th>32</th>\n",
       "      <td>2019-08-02</td>\n",
       "      <td>581</td>\n",
       "    </tr>\n",
       "    <tr>\n",
       "      <th>33</th>\n",
       "      <td>2019-08-03</td>\n",
       "      <td>509</td>\n",
       "    </tr>\n",
       "    <tr>\n",
       "      <th>34</th>\n",
       "      <td>2019-08-04</td>\n",
       "      <td>770</td>\n",
       "    </tr>\n",
       "    <tr>\n",
       "      <th>35</th>\n",
       "      <td>2019-08-05</td>\n",
       "      <td>707</td>\n",
       "    </tr>\n",
       "  </tbody>\n",
       "</table>\n",
       "</div>"
      ],
      "text/plain": [
       "         date  visitorsPerDateB\n",
       "31 2019-08-01               713\n",
       "32 2019-08-02               581\n",
       "33 2019-08-03               509\n",
       "34 2019-08-04               770\n",
       "35 2019-08-05               707"
      ]
     },
     "execution_count": 55,
     "metadata": {},
     "output_type": "execute_result"
    }
   ],
   "source": [
    "visitorsBDaily.head()"
   ]
  },
  {
   "cell_type": "code",
   "execution_count": 56,
   "metadata": {},
   "outputs": [
    {
     "data": {
      "text/html": [
       "<div>\n",
       "<style scoped>\n",
       "    .dataframe tbody tr th:only-of-type {\n",
       "        vertical-align: middle;\n",
       "    }\n",
       "\n",
       "    .dataframe tbody tr th {\n",
       "        vertical-align: top;\n",
       "    }\n",
       "\n",
       "    .dataframe thead th {\n",
       "        text-align: right;\n",
       "    }\n",
       "</style>\n",
       "<table border=\"1\" class=\"dataframe\">\n",
       "  <thead>\n",
       "    <tr style=\"text-align: right;\">\n",
       "      <th></th>\n",
       "      <th>date</th>\n",
       "      <th>visitorsCummulativeB</th>\n",
       "    </tr>\n",
       "  </thead>\n",
       "  <tbody>\n",
       "    <tr>\n",
       "      <th>31</th>\n",
       "      <td>2019-08-01</td>\n",
       "      <td>713</td>\n",
       "    </tr>\n",
       "    <tr>\n",
       "      <th>32</th>\n",
       "      <td>2019-08-02</td>\n",
       "      <td>1294</td>\n",
       "    </tr>\n",
       "    <tr>\n",
       "      <th>33</th>\n",
       "      <td>2019-08-03</td>\n",
       "      <td>1803</td>\n",
       "    </tr>\n",
       "    <tr>\n",
       "      <th>34</th>\n",
       "      <td>2019-08-04</td>\n",
       "      <td>2573</td>\n",
       "    </tr>\n",
       "    <tr>\n",
       "      <th>35</th>\n",
       "      <td>2019-08-05</td>\n",
       "      <td>3280</td>\n",
       "    </tr>\n",
       "  </tbody>\n",
       "</table>\n",
       "</div>"
      ],
      "text/plain": [
       "         date  visitorsCummulativeB\n",
       "31 2019-08-01                   713\n",
       "32 2019-08-02                  1294\n",
       "33 2019-08-03                  1803\n",
       "34 2019-08-04                  2573\n",
       "35 2019-08-05                  3280"
      ]
     },
     "execution_count": 56,
     "metadata": {},
     "output_type": "execute_result"
    }
   ],
   "source": [
    "visitorsBCummulative.head()"
   ]
  },
  {
   "cell_type": "markdown",
   "metadata": {},
   "source": [
    "Теперь найдём суммарное число заказов и сумму выручки в дату и кумулятивно по группе A "
   ]
  },
  {
   "cell_type": "code",
   "execution_count": 57,
   "metadata": {},
   "outputs": [],
   "source": [
    "ordersADaily = (\n",
    "    orders[orders['group'] == 'A'][['date', 'transaction_id', 'visitor_id', 'revenue']]\n",
    "    .groupby('date', as_index=False)\n",
    "    .agg({'transaction_id': pd.Series.nunique, 'revenue': 'sum'})\n",
    ")\n",
    "ordersADaily.columns = ['date', 'ordersPerDateA', 'revenuePerDateA']\n",
    "\n",
    "ordersACummulative = ordersADaily.apply(\n",
    "    lambda x: ordersADaily[ordersADaily['date'] <= x['date']].agg(\n",
    "        {'date': 'max', 'ordersPerDateA': 'sum', 'revenuePerDateA': 'sum'}\n",
    "    ),\n",
    "    axis=1,\n",
    ").sort_values(by=['date'])\n",
    "\n",
    "ordersACummulative.columns = [\n",
    "    'date',\n",
    "    'ordersCummulativeA',\n",
    "    'revenueCummulativeA',\n",
    "]"
   ]
  },
  {
   "cell_type": "code",
   "execution_count": 58,
   "metadata": {},
   "outputs": [
    {
     "data": {
      "text/html": [
       "<div>\n",
       "<style scoped>\n",
       "    .dataframe tbody tr th:only-of-type {\n",
       "        vertical-align: middle;\n",
       "    }\n",
       "\n",
       "    .dataframe tbody tr th {\n",
       "        vertical-align: top;\n",
       "    }\n",
       "\n",
       "    .dataframe thead th {\n",
       "        text-align: right;\n",
       "    }\n",
       "</style>\n",
       "<table border=\"1\" class=\"dataframe\">\n",
       "  <thead>\n",
       "    <tr style=\"text-align: right;\">\n",
       "      <th></th>\n",
       "      <th>date</th>\n",
       "      <th>ordersPerDateA</th>\n",
       "      <th>revenuePerDateA</th>\n",
       "    </tr>\n",
       "  </thead>\n",
       "  <tbody>\n",
       "    <tr>\n",
       "      <th>0</th>\n",
       "      <td>2019-08-01</td>\n",
       "      <td>24</td>\n",
       "      <td>148579</td>\n",
       "    </tr>\n",
       "    <tr>\n",
       "      <th>1</th>\n",
       "      <td>2019-08-02</td>\n",
       "      <td>20</td>\n",
       "      <td>93822</td>\n",
       "    </tr>\n",
       "    <tr>\n",
       "      <th>2</th>\n",
       "      <td>2019-08-03</td>\n",
       "      <td>24</td>\n",
       "      <td>112473</td>\n",
       "    </tr>\n",
       "    <tr>\n",
       "      <th>3</th>\n",
       "      <td>2019-08-04</td>\n",
       "      <td>16</td>\n",
       "      <td>70825</td>\n",
       "    </tr>\n",
       "    <tr>\n",
       "      <th>4</th>\n",
       "      <td>2019-08-05</td>\n",
       "      <td>25</td>\n",
       "      <td>124218</td>\n",
       "    </tr>\n",
       "  </tbody>\n",
       "</table>\n",
       "</div>"
      ],
      "text/plain": [
       "        date  ordersPerDateA  revenuePerDateA\n",
       "0 2019-08-01              24           148579\n",
       "1 2019-08-02              20            93822\n",
       "2 2019-08-03              24           112473\n",
       "3 2019-08-04              16            70825\n",
       "4 2019-08-05              25           124218"
      ]
     },
     "execution_count": 58,
     "metadata": {},
     "output_type": "execute_result"
    }
   ],
   "source": [
    "ordersADaily.head()"
   ]
  },
  {
   "cell_type": "code",
   "execution_count": 59,
   "metadata": {
    "scrolled": true
   },
   "outputs": [
    {
     "data": {
      "text/html": [
       "<div>\n",
       "<style scoped>\n",
       "    .dataframe tbody tr th:only-of-type {\n",
       "        vertical-align: middle;\n",
       "    }\n",
       "\n",
       "    .dataframe tbody tr th {\n",
       "        vertical-align: top;\n",
       "    }\n",
       "\n",
       "    .dataframe thead th {\n",
       "        text-align: right;\n",
       "    }\n",
       "</style>\n",
       "<table border=\"1\" class=\"dataframe\">\n",
       "  <thead>\n",
       "    <tr style=\"text-align: right;\">\n",
       "      <th></th>\n",
       "      <th>date</th>\n",
       "      <th>ordersCummulativeA</th>\n",
       "      <th>revenueCummulativeA</th>\n",
       "    </tr>\n",
       "  </thead>\n",
       "  <tbody>\n",
       "    <tr>\n",
       "      <th>0</th>\n",
       "      <td>2019-08-01</td>\n",
       "      <td>24</td>\n",
       "      <td>148579</td>\n",
       "    </tr>\n",
       "    <tr>\n",
       "      <th>1</th>\n",
       "      <td>2019-08-02</td>\n",
       "      <td>44</td>\n",
       "      <td>242401</td>\n",
       "    </tr>\n",
       "    <tr>\n",
       "      <th>2</th>\n",
       "      <td>2019-08-03</td>\n",
       "      <td>68</td>\n",
       "      <td>354874</td>\n",
       "    </tr>\n",
       "    <tr>\n",
       "      <th>3</th>\n",
       "      <td>2019-08-04</td>\n",
       "      <td>84</td>\n",
       "      <td>425699</td>\n",
       "    </tr>\n",
       "    <tr>\n",
       "      <th>4</th>\n",
       "      <td>2019-08-05</td>\n",
       "      <td>109</td>\n",
       "      <td>549917</td>\n",
       "    </tr>\n",
       "  </tbody>\n",
       "</table>\n",
       "</div>"
      ],
      "text/plain": [
       "        date  ordersCummulativeA  revenueCummulativeA\n",
       "0 2019-08-01                  24               148579\n",
       "1 2019-08-02                  44               242401\n",
       "2 2019-08-03                  68               354874\n",
       "3 2019-08-04                  84               425699\n",
       "4 2019-08-05                 109               549917"
      ]
     },
     "execution_count": 59,
     "metadata": {},
     "output_type": "execute_result"
    }
   ],
   "source": [
    "ordersACummulative.head()"
   ]
  },
  {
   "cell_type": "markdown",
   "metadata": {},
   "source": [
    "Тоже самое по группе В"
   ]
  },
  {
   "cell_type": "code",
   "execution_count": 60,
   "metadata": {},
   "outputs": [],
   "source": [
    "ordersBDaily = (\n",
    "    orders[orders['group'] == 'B'][['date', 'transaction_id', 'visitor_id', 'revenue']]\n",
    "    .groupby('date', as_index=False)\n",
    "    .agg({'transaction_id': pd.Series.nunique, 'revenue': 'sum'})\n",
    ")\n",
    "ordersBDaily.columns = ['date', 'ordersPerDateB', 'revenuePerDateB']\n",
    "\n",
    "ordersBCummulative = ordersBDaily.apply(\n",
    "    lambda x: ordersBDaily[ordersBDaily['date'] <= x['date']].agg(\n",
    "        {'date': 'max', 'ordersPerDateB': 'sum', 'revenuePerDateB': 'sum'}\n",
    "    ),\n",
    "    axis=1,\n",
    ").sort_values(by=['date'])\n",
    "ordersBCummulative.columns = [\n",
    "    'date',\n",
    "    'ordersCummulativeB',\n",
    "    'revenueCummulativeB',\n",
    "]"
   ]
  },
  {
   "cell_type": "code",
   "execution_count": 61,
   "metadata": {},
   "outputs": [
    {
     "data": {
      "text/html": [
       "<div>\n",
       "<style scoped>\n",
       "    .dataframe tbody tr th:only-of-type {\n",
       "        vertical-align: middle;\n",
       "    }\n",
       "\n",
       "    .dataframe tbody tr th {\n",
       "        vertical-align: top;\n",
       "    }\n",
       "\n",
       "    .dataframe thead th {\n",
       "        text-align: right;\n",
       "    }\n",
       "</style>\n",
       "<table border=\"1\" class=\"dataframe\">\n",
       "  <thead>\n",
       "    <tr style=\"text-align: right;\">\n",
       "      <th></th>\n",
       "      <th>date</th>\n",
       "      <th>ordersPerDateB</th>\n",
       "      <th>revenuePerDateB</th>\n",
       "    </tr>\n",
       "  </thead>\n",
       "  <tbody>\n",
       "    <tr>\n",
       "      <th>0</th>\n",
       "      <td>2019-08-01</td>\n",
       "      <td>21</td>\n",
       "      <td>101217</td>\n",
       "    </tr>\n",
       "    <tr>\n",
       "      <th>1</th>\n",
       "      <td>2019-08-02</td>\n",
       "      <td>24</td>\n",
       "      <td>165531</td>\n",
       "    </tr>\n",
       "    <tr>\n",
       "      <th>2</th>\n",
       "      <td>2019-08-03</td>\n",
       "      <td>16</td>\n",
       "      <td>114248</td>\n",
       "    </tr>\n",
       "    <tr>\n",
       "      <th>3</th>\n",
       "      <td>2019-08-04</td>\n",
       "      <td>17</td>\n",
       "      <td>108571</td>\n",
       "    </tr>\n",
       "    <tr>\n",
       "      <th>4</th>\n",
       "      <td>2019-08-05</td>\n",
       "      <td>23</td>\n",
       "      <td>92428</td>\n",
       "    </tr>\n",
       "  </tbody>\n",
       "</table>\n",
       "</div>"
      ],
      "text/plain": [
       "        date  ordersPerDateB  revenuePerDateB\n",
       "0 2019-08-01              21           101217\n",
       "1 2019-08-02              24           165531\n",
       "2 2019-08-03              16           114248\n",
       "3 2019-08-04              17           108571\n",
       "4 2019-08-05              23            92428"
      ]
     },
     "execution_count": 61,
     "metadata": {},
     "output_type": "execute_result"
    }
   ],
   "source": [
    "ordersBDaily.head()"
   ]
  },
  {
   "cell_type": "code",
   "execution_count": 62,
   "metadata": {
    "scrolled": true
   },
   "outputs": [
    {
     "data": {
      "text/html": [
       "<div>\n",
       "<style scoped>\n",
       "    .dataframe tbody tr th:only-of-type {\n",
       "        vertical-align: middle;\n",
       "    }\n",
       "\n",
       "    .dataframe tbody tr th {\n",
       "        vertical-align: top;\n",
       "    }\n",
       "\n",
       "    .dataframe thead th {\n",
       "        text-align: right;\n",
       "    }\n",
       "</style>\n",
       "<table border=\"1\" class=\"dataframe\">\n",
       "  <thead>\n",
       "    <tr style=\"text-align: right;\">\n",
       "      <th></th>\n",
       "      <th>date</th>\n",
       "      <th>ordersCummulativeB</th>\n",
       "      <th>revenueCummulativeB</th>\n",
       "    </tr>\n",
       "  </thead>\n",
       "  <tbody>\n",
       "    <tr>\n",
       "      <th>0</th>\n",
       "      <td>2019-08-01</td>\n",
       "      <td>21</td>\n",
       "      <td>101217</td>\n",
       "    </tr>\n",
       "    <tr>\n",
       "      <th>1</th>\n",
       "      <td>2019-08-02</td>\n",
       "      <td>45</td>\n",
       "      <td>266748</td>\n",
       "    </tr>\n",
       "    <tr>\n",
       "      <th>2</th>\n",
       "      <td>2019-08-03</td>\n",
       "      <td>61</td>\n",
       "      <td>380996</td>\n",
       "    </tr>\n",
       "    <tr>\n",
       "      <th>3</th>\n",
       "      <td>2019-08-04</td>\n",
       "      <td>78</td>\n",
       "      <td>489567</td>\n",
       "    </tr>\n",
       "    <tr>\n",
       "      <th>4</th>\n",
       "      <td>2019-08-05</td>\n",
       "      <td>101</td>\n",
       "      <td>581995</td>\n",
       "    </tr>\n",
       "  </tbody>\n",
       "</table>\n",
       "</div>"
      ],
      "text/plain": [
       "        date  ordersCummulativeB  revenueCummulativeB\n",
       "0 2019-08-01                  21               101217\n",
       "1 2019-08-02                  45               266748\n",
       "2 2019-08-03                  61               380996\n",
       "3 2019-08-04                  78               489567\n",
       "4 2019-08-05                 101               581995"
      ]
     },
     "execution_count": 62,
     "metadata": {},
     "output_type": "execute_result"
    }
   ],
   "source": [
    "ordersBCummulative.head()"
   ]
  },
  {
   "cell_type": "markdown",
   "metadata": {},
   "source": [
    "Сводим воедино получившиеся таблицы с ежедневными и кумулятивными данными по пользователям, выручке и кол-ву заказов."
   ]
  },
  {
   "cell_type": "code",
   "execution_count": 63,
   "metadata": {},
   "outputs": [],
   "source": [
    "data = (\n",
    "    ordersADaily.merge(\n",
    "        ordersBDaily, left_on='date', right_on='date', how='left'\n",
    "    )\n",
    "    .merge(ordersACummulative, left_on='date', right_on='date', how='left')\n",
    "    .merge(ordersBCummulative, left_on='date', right_on='date', how='left')\n",
    "    .merge(visitorsADaily, left_on='date', right_on='date', how='left')\n",
    "    .merge(visitorsBDaily, left_on='date', right_on='date', how='left')\n",
    "    .merge(visitorsACummulative, left_on='date', right_on='date', how='left')\n",
    "    .merge(visitorsBCummulative, left_on='date', right_on='date', how='left')\n",
    ")"
   ]
  },
  {
   "cell_type": "markdown",
   "metadata": {},
   "source": [
    "<div class=\"alert alert-success\"; style=\"border-left: 7px solid green\">\n",
    "<font size=\"4\"><b>Комментарий ревьюера 🚀</b></font>\n",
    "    <br />\n",
    "    <font size=\"3\", color = \"black\">\n",
    "    <br /> Молодец! Верно получен финальный датафрейм с необходимыми расчетами. Абсолютно грамотное соединение таблиц между собой\n",
    "     <br />\n",
    "    </font>\n",
    "\n",
    "</div>"
   ]
  },
  {
   "cell_type": "code",
   "execution_count": 64,
   "metadata": {
    "scrolled": true
   },
   "outputs": [
    {
     "data": {
      "text/html": [
       "<div>\n",
       "<style scoped>\n",
       "    .dataframe tbody tr th:only-of-type {\n",
       "        vertical-align: middle;\n",
       "    }\n",
       "\n",
       "    .dataframe tbody tr th {\n",
       "        vertical-align: top;\n",
       "    }\n",
       "\n",
       "    .dataframe thead th {\n",
       "        text-align: right;\n",
       "    }\n",
       "</style>\n",
       "<table border=\"1\" class=\"dataframe\">\n",
       "  <thead>\n",
       "    <tr style=\"text-align: right;\">\n",
       "      <th></th>\n",
       "      <th>date</th>\n",
       "      <th>ordersPerDateA</th>\n",
       "      <th>revenuePerDateA</th>\n",
       "      <th>ordersPerDateB</th>\n",
       "      <th>revenuePerDateB</th>\n",
       "      <th>ordersCummulativeA</th>\n",
       "      <th>revenueCummulativeA</th>\n",
       "      <th>ordersCummulativeB</th>\n",
       "      <th>revenueCummulativeB</th>\n",
       "      <th>visitorsPerDateA</th>\n",
       "      <th>visitorsPerDateB</th>\n",
       "      <th>visitorsCummulativeA</th>\n",
       "      <th>visitorsCummulativeB</th>\n",
       "    </tr>\n",
       "  </thead>\n",
       "  <tbody>\n",
       "    <tr>\n",
       "      <th>0</th>\n",
       "      <td>2019-08-01</td>\n",
       "      <td>24</td>\n",
       "      <td>148579</td>\n",
       "      <td>21</td>\n",
       "      <td>101217</td>\n",
       "      <td>24</td>\n",
       "      <td>148579</td>\n",
       "      <td>21</td>\n",
       "      <td>101217</td>\n",
       "      <td>719</td>\n",
       "      <td>713</td>\n",
       "      <td>719</td>\n",
       "      <td>713</td>\n",
       "    </tr>\n",
       "    <tr>\n",
       "      <th>1</th>\n",
       "      <td>2019-08-02</td>\n",
       "      <td>20</td>\n",
       "      <td>93822</td>\n",
       "      <td>24</td>\n",
       "      <td>165531</td>\n",
       "      <td>44</td>\n",
       "      <td>242401</td>\n",
       "      <td>45</td>\n",
       "      <td>266748</td>\n",
       "      <td>619</td>\n",
       "      <td>581</td>\n",
       "      <td>1338</td>\n",
       "      <td>1294</td>\n",
       "    </tr>\n",
       "    <tr>\n",
       "      <th>2</th>\n",
       "      <td>2019-08-03</td>\n",
       "      <td>24</td>\n",
       "      <td>112473</td>\n",
       "      <td>16</td>\n",
       "      <td>114248</td>\n",
       "      <td>68</td>\n",
       "      <td>354874</td>\n",
       "      <td>61</td>\n",
       "      <td>380996</td>\n",
       "      <td>507</td>\n",
       "      <td>509</td>\n",
       "      <td>1845</td>\n",
       "      <td>1803</td>\n",
       "    </tr>\n",
       "    <tr>\n",
       "      <th>3</th>\n",
       "      <td>2019-08-04</td>\n",
       "      <td>16</td>\n",
       "      <td>70825</td>\n",
       "      <td>17</td>\n",
       "      <td>108571</td>\n",
       "      <td>84</td>\n",
       "      <td>425699</td>\n",
       "      <td>78</td>\n",
       "      <td>489567</td>\n",
       "      <td>717</td>\n",
       "      <td>770</td>\n",
       "      <td>2562</td>\n",
       "      <td>2573</td>\n",
       "    </tr>\n",
       "    <tr>\n",
       "      <th>4</th>\n",
       "      <td>2019-08-05</td>\n",
       "      <td>25</td>\n",
       "      <td>124218</td>\n",
       "      <td>23</td>\n",
       "      <td>92428</td>\n",
       "      <td>109</td>\n",
       "      <td>549917</td>\n",
       "      <td>101</td>\n",
       "      <td>581995</td>\n",
       "      <td>756</td>\n",
       "      <td>707</td>\n",
       "      <td>3318</td>\n",
       "      <td>3280</td>\n",
       "    </tr>\n",
       "  </tbody>\n",
       "</table>\n",
       "</div>"
      ],
      "text/plain": [
       "        date  ordersPerDateA  revenuePerDateA  ordersPerDateB  \\\n",
       "0 2019-08-01              24           148579              21   \n",
       "1 2019-08-02              20            93822              24   \n",
       "2 2019-08-03              24           112473              16   \n",
       "3 2019-08-04              16            70825              17   \n",
       "4 2019-08-05              25           124218              23   \n",
       "\n",
       "   revenuePerDateB  ordersCummulativeA  revenueCummulativeA  \\\n",
       "0           101217                  24               148579   \n",
       "1           165531                  44               242401   \n",
       "2           114248                  68               354874   \n",
       "3           108571                  84               425699   \n",
       "4            92428                 109               549917   \n",
       "\n",
       "   ordersCummulativeB  revenueCummulativeB  visitorsPerDateA  \\\n",
       "0                  21               101217               719   \n",
       "1                  45               266748               619   \n",
       "2                  61               380996               507   \n",
       "3                  78               489567               717   \n",
       "4                 101               581995               756   \n",
       "\n",
       "   visitorsPerDateB  visitorsCummulativeA  visitorsCummulativeB  \n",
       "0               713                   719                   713  \n",
       "1               581                  1338                  1294  \n",
       "2               509                  1845                  1803  \n",
       "3               770                  2562                  2573  \n",
       "4               707                  3318                  3280  "
      ]
     },
     "execution_count": 64,
     "metadata": {},
     "output_type": "execute_result"
    }
   ],
   "source": [
    "# выведем результат созданной таблицы\n",
    "data.head(5)"
   ]
  },
  {
   "cell_type": "markdown",
   "metadata": {},
   "source": [
    "В переменные ordersByUsersA и ordersByUsersB добавим пользователей, которые совершили хотя бы 1 заказ и добавим кол-во их заказов"
   ]
  },
  {
   "cell_type": "code",
   "execution_count": 65,
   "metadata": {},
   "outputs": [],
   "source": [
    "ordersByUsersA = (\n",
    "    orders[orders['group'] == 'A']\n",
    "    .groupby('visitor_id', as_index=False)\n",
    "    .agg({'transaction_id': pd.Series.nunique})\n",
    ")\n",
    "ordersByUsersA.columns = ['visitor_id', 'orders']\n",
    "\n",
    "ordersByUsersB = (\n",
    "    orders[orders['group'] == 'B']\n",
    "    .groupby('visitor_id', as_index=False)\n",
    "    .agg({'transaction_id': pd.Series.nunique})\n",
    ")\n",
    "ordersByUsersB.columns = ['visitor_id', 'orders'] "
   ]
  },
  {
   "cell_type": "code",
   "execution_count": 66,
   "metadata": {
    "scrolled": false
   },
   "outputs": [
    {
     "data": {
      "text/html": [
       "<div>\n",
       "<style scoped>\n",
       "    .dataframe tbody tr th:only-of-type {\n",
       "        vertical-align: middle;\n",
       "    }\n",
       "\n",
       "    .dataframe tbody tr th {\n",
       "        vertical-align: top;\n",
       "    }\n",
       "\n",
       "    .dataframe thead th {\n",
       "        text-align: right;\n",
       "    }\n",
       "</style>\n",
       "<table border=\"1\" class=\"dataframe\">\n",
       "  <thead>\n",
       "    <tr style=\"text-align: right;\">\n",
       "      <th></th>\n",
       "      <th>visitor_id</th>\n",
       "      <th>orders</th>\n",
       "    </tr>\n",
       "  </thead>\n",
       "  <tbody>\n",
       "    <tr>\n",
       "      <th>0</th>\n",
       "      <td>8300375</td>\n",
       "      <td>1</td>\n",
       "    </tr>\n",
       "    <tr>\n",
       "      <th>1</th>\n",
       "      <td>11685486</td>\n",
       "      <td>1</td>\n",
       "    </tr>\n",
       "    <tr>\n",
       "      <th>2</th>\n",
       "      <td>54447517</td>\n",
       "      <td>1</td>\n",
       "    </tr>\n",
       "    <tr>\n",
       "      <th>3</th>\n",
       "      <td>66685450</td>\n",
       "      <td>1</td>\n",
       "    </tr>\n",
       "    <tr>\n",
       "      <th>4</th>\n",
       "      <td>78758296</td>\n",
       "      <td>1</td>\n",
       "    </tr>\n",
       "  </tbody>\n",
       "</table>\n",
       "</div>"
      ],
      "text/plain": [
       "   visitor_id  orders\n",
       "0     8300375       1\n",
       "1    11685486       1\n",
       "2    54447517       1\n",
       "3    66685450       1\n",
       "4    78758296       1"
      ]
     },
     "execution_count": 66,
     "metadata": {},
     "output_type": "execute_result"
    }
   ],
   "source": [
    "ordersByUsersA.head()"
   ]
  },
  {
   "cell_type": "code",
   "execution_count": 67,
   "metadata": {
    "scrolled": false
   },
   "outputs": [
    {
     "data": {
      "text/html": [
       "<div>\n",
       "<style scoped>\n",
       "    .dataframe tbody tr th:only-of-type {\n",
       "        vertical-align: middle;\n",
       "    }\n",
       "\n",
       "    .dataframe tbody tr th {\n",
       "        vertical-align: top;\n",
       "    }\n",
       "\n",
       "    .dataframe thead th {\n",
       "        text-align: right;\n",
       "    }\n",
       "</style>\n",
       "<table border=\"1\" class=\"dataframe\">\n",
       "  <thead>\n",
       "    <tr style=\"text-align: right;\">\n",
       "      <th></th>\n",
       "      <th>visitor_id</th>\n",
       "      <th>orders</th>\n",
       "    </tr>\n",
       "  </thead>\n",
       "  <tbody>\n",
       "    <tr>\n",
       "      <th>0</th>\n",
       "      <td>5114589</td>\n",
       "      <td>1</td>\n",
       "    </tr>\n",
       "    <tr>\n",
       "      <th>1</th>\n",
       "      <td>6958315</td>\n",
       "      <td>1</td>\n",
       "    </tr>\n",
       "    <tr>\n",
       "      <th>2</th>\n",
       "      <td>8300375</td>\n",
       "      <td>1</td>\n",
       "    </tr>\n",
       "    <tr>\n",
       "      <th>3</th>\n",
       "      <td>39475350</td>\n",
       "      <td>1</td>\n",
       "    </tr>\n",
       "    <tr>\n",
       "      <th>4</th>\n",
       "      <td>47206413</td>\n",
       "      <td>1</td>\n",
       "    </tr>\n",
       "  </tbody>\n",
       "</table>\n",
       "</div>"
      ],
      "text/plain": [
       "   visitor_id  orders\n",
       "0     5114589       1\n",
       "1     6958315       1\n",
       "2     8300375       1\n",
       "3    39475350       1\n",
       "4    47206413       1"
      ]
     },
     "execution_count": 67,
     "metadata": {},
     "output_type": "execute_result"
    }
   ],
   "source": [
    "ordersByUsersB.head()"
   ]
  },
  {
   "cell_type": "markdown",
   "metadata": {},
   "source": [
    "Чтобы подготовить выборки к проверке критерием Манна-Уитни, введем переменные sampleA и sampleB, в которых пользователям из разных групп будет соответствовать количество заказов. Тем, кто ничего не заказал, будут соответствовать нули."
   ]
  },
  {
   "cell_type": "markdown",
   "metadata": {},
   "source": [
    "В результате мы получим два массива данных с кол-вом заказов по группе А и В, где длинна массива - это количество пользователей в группе, а сумма их элементов - количество заказов."
   ]
  },
  {
   "cell_type": "code",
   "execution_count": 68,
   "metadata": {},
   "outputs": [],
   "source": [
    "sampleA = pd.concat(\n",
    "    [ordersByUsersA['orders'],\n",
    "     pd.Series(0,index=np.arange(data['visitorsPerDateA'].sum() - len(ordersByUsersA['orders'])),name='orders',),],axis=0,)"
   ]
  },
  {
   "cell_type": "code",
   "execution_count": 69,
   "metadata": {},
   "outputs": [],
   "source": [
    "sampleB = pd.concat(\n",
    "    [ordersByUsersB['orders'],\n",
    "     pd.Series(0,index=np.arange(data['visitorsPerDateB'].sum() - len(ordersByUsersB['orders'])),name='orders',),],axis=0,)"
   ]
  },
  {
   "cell_type": "markdown",
   "metadata": {},
   "source": [
    "<div class=\"alert alert-success\"; style=\"border-left: 7px solid green\">\n",
    "<font size=\"4\"><b>Комментарий ревьюера 🚀</b></font>\n",
    "    <br />\n",
    "    <font size=\"3\", color = \"black\">\n",
    "    <br /> Верно получены выборки по группам\n",
    "     <br />\n",
    "    </font>\n",
    "\n",
    "</div>"
   ]
  },
  {
   "cell_type": "markdown",
   "metadata": {},
   "source": [
    "Найдем p-value и относительный прирост конверсии группы B к группе А"
   ]
  },
  {
   "cell_type": "code",
   "execution_count": 70,
   "metadata": {},
   "outputs": [
    {
     "name": "stdout",
     "output_type": "stream",
     "text": [
      "0.0168\n",
      "0.1381\n"
     ]
    }
   ],
   "source": [
    "print(\"{0:.4f}\".format(stats.mannwhitneyu(sampleA, sampleB)[1]))\n",
    "\n",
    "print(\"{0:.4f}\".format(sampleB.mean() / sampleA.mean() - 1))"
   ]
  },
  {
   "cell_type": "markdown",
   "metadata": {},
   "source": [
    "P-value меньше 0.05, значит, разница между конверсиями есть - отвергаем нулевую гипотезу и не отвергаем альтернативную гипотезу, что разница между конверсиями есть."
   ]
  },
  {
   "cell_type": "markdown",
   "metadata": {},
   "source": [
    "Относительный прирост конверсии группы В к группе А составляет порядка 13.8%. Переходим к подсчету статистической значимости различий в среднем чеке заказа между группами по «сырым» данным. Проверим различия в среднем чеке ниже."
   ]
  },
  {
   "cell_type": "markdown",
   "metadata": {},
   "source": [
    "<div class=\"alert alert-success\"; style=\"border-left: 7px solid green\">\n",
    "<font size=\"4\"><b>Комментарий ревьюера 🚀</b></font>\n",
    "    <br />\n",
    "    <font size=\"3\", color = \"black\">\n",
    "    <br /> Супер! Получены верные результаты по расчетам стат теста и прироста. Нравится вывод и объяснение полученных значений\n",
    "     <br />\n",
    "    </font>\n",
    "\n",
    "</div>"
   ]
  },
  {
   "cell_type": "markdown",
   "metadata": {},
   "source": [
    "<div class=\"alert alert-warning\" ; style=\"border-left: 7px solid orange\">\n",
    "<font size=\"4\"><b>Комментарий ревьюера 👀</b></font>\n",
    "    <br />\n",
    "    <font size=\"3\", color = \"black\">\n",
    "    <br /> Сравнение p-value с alpha следует делать в самом коде. Советую использовать условный оператор, чтобы код сразу говорил нам, отвергаем или не можем отвергнуть нулевую гипотезу. Надо бы добавить во всех проверках\n",
    "    <br />\n",
    "    </font>\n",
    "\n",
    "</div>"
   ]
  },
  {
   "cell_type": "markdown",
   "metadata": {},
   "source": [
    "### Статистическая значимость различий в среднем чеке заказа между группами по «сырым» данным"
   ]
  },
  {
   "cell_type": "markdown",
   "metadata": {},
   "source": [
    "Снова применим тест Манна-Уитни к данным по прибыли в обеих группах."
   ]
  },
  {
   "cell_type": "markdown",
   "metadata": {},
   "source": [
    "Нулева гипотеза - разницы в среднем чеке по сырым данным между группами нет.<br>\n",
    "Альтернативная - разница есть."
   ]
  },
  {
   "cell_type": "markdown",
   "metadata": {},
   "source": [
    "<div class=\"alert alert-success\"; style=\"border-left: 7px solid green\">\n",
    "<font size=\"4\"><b>Комментарий ревьюера 🚀</b></font>\n",
    "    <br />\n",
    "    <font size=\"3\", color = \"black\">\n",
    "    <br /> Верная формулировка гипотез!\n",
    "     <br />\n",
    "    </font>\n",
    "\n",
    "</div>"
   ]
  },
  {
   "cell_type": "code",
   "execution_count": 71,
   "metadata": {},
   "outputs": [
    {
     "name": "stdout",
     "output_type": "stream",
     "text": [
      "0.729\n",
      "0.259\n"
     ]
    }
   ],
   "source": [
    "print('{0:.3f}'.format(stats.mannwhitneyu(orders[orders['group']=='A']['revenue'], orders[orders['group']=='B']['revenue'])[1]))\n",
    "print('{0:.3f}'.format(orders[orders['group']=='B']['revenue'].mean()/orders[orders['group']=='A']['revenue'].mean()-1)) "
   ]
  },
  {
   "cell_type": "markdown",
   "metadata": {},
   "source": [
    "P-value значительно выше порогового значения альфа, значит, разницы в среднем чеке заказа между группами по сырым данным нет - не отвергаем нулевую гипотезу, тем не менее, средний чек группы B на 26% выше, чем в группе А, судя по всему, это результат выбросов, проверим это в следующих этапах. Переходим к проверке различий по очищенным данным."
   ]
  },
  {
   "cell_type": "markdown",
   "metadata": {},
   "source": [
    "<div class=\"alert alert-success\"; style=\"border-left: 7px solid green\">\n",
    "<font size=\"4\"><b>Комментарий ревьюера 🚀</b></font>\n",
    "    <br />\n",
    "    <font size=\"3\", color = \"black\">\n",
    "    <br /> Правильная реализация стат теста! Верный вывод. Нравится объяснение сильного прироста в пользу В\n",
    "     <br />\n",
    "    </font>\n",
    "\n",
    "</div>"
   ]
  },
  {
   "cell_type": "markdown",
   "metadata": {},
   "source": [
    "### Статистическую значимость различий в конверсии между группами по «очищенным» данным"
   ]
  },
  {
   "cell_type": "markdown",
   "metadata": {},
   "source": [
    "Проверим нулевую гипотезу о том, что разницы между конверсиями обеих групп по очищенным данным нет."
   ]
  },
  {
   "cell_type": "markdown",
   "metadata": {},
   "source": [
    "В пунктах 4.7 и 4.9 мы определили, что пользователи с заказами больше 2 являются аномальными, так же как и заказы свыше 28000 у.е. Теперь выведем количество аномальных пользователей в датасете."
   ]
  },
  {
   "cell_type": "markdown",
   "metadata": {},
   "source": [
    "Делаем срез по кол-ву заказов на пользователя."
   ]
  },
  {
   "cell_type": "code",
   "execution_count": 72,
   "metadata": {},
   "outputs": [],
   "source": [
    "# аномальное количество заказов\n",
    "usersWithManyOrders = pd.concat(\n",
    "    [\n",
    "        ordersByUsersA[ordersByUsersA['orders'] > (np.percentile(ordersByUsers['orders'], 95))]['visitor_id'],\n",
    "        ordersByUsersB[ordersByUsersB['orders'] > (np.percentile(ordersByUsers['orders'], 95))]['visitor_id'],\n",
    "    ],\n",
    "    axis=0,\n",
    ")"
   ]
  },
  {
   "cell_type": "markdown",
   "metadata": {},
   "source": [
    "Срез по стоимости заказов"
   ]
  },
  {
   "cell_type": "code",
   "execution_count": 73,
   "metadata": {},
   "outputs": [],
   "source": [
    "# аномальная стоимость заказов\n",
    "usersWithExpensiveOrders = orders[orders['revenue'] > (np.percentile(orders['revenue'], 95))]['visitor_id']"
   ]
  },
  {
   "cell_type": "markdown",
   "metadata": {},
   "source": [
    "<div class=\"alert alert-success\"; style=\"border-left: 7px solid green\">\n",
    "<font size=\"4\"><b>Комментарий ревьюера 🚀</b></font>\n",
    "    <br />\n",
    "    <font size=\"3\", color = \"black\">\n",
    "    <br /> Отличное выделение аномальных пользователей с помощью перцентилей\n",
    "     <br />\n",
    "    </font>\n",
    "\n",
    "</div>"
   ]
  },
  {
   "cell_type": "markdown",
   "metadata": {},
   "source": [
    "Объединяем данные обеих таблиц"
   ]
  },
  {
   "cell_type": "code",
   "execution_count": 74,
   "metadata": {},
   "outputs": [
    {
     "data": {
      "text/plain": [
       "74"
      ]
     },
     "execution_count": 74,
     "metadata": {},
     "output_type": "execute_result"
    }
   ],
   "source": [
    "# объединяем данные по кол-ву и стомости\n",
    "abnormalUsers = (\n",
    "    pd.concat([usersWithManyOrders, usersWithExpensiveOrders], axis=0)\n",
    "    .drop_duplicates()\n",
    "    .sort_values()\n",
    ")\n",
    "\n",
    "len(abnormalUsers)"
   ]
  },
  {
   "cell_type": "markdown",
   "metadata": {},
   "source": [
    "Обнаружено 74 аномальных пользователя. Перейдем к подсчету различий групп без этих пользователей"
   ]
  },
  {
   "cell_type": "markdown",
   "metadata": {},
   "source": [
    "Подготовим выборки количества заказов по пользователям по группам теста."
   ]
  },
  {
   "cell_type": "code",
   "execution_count": 75,
   "metadata": {},
   "outputs": [],
   "source": [
    "sampleAFiltered = pd.concat(\n",
    "    [ordersByUsersA[np.logical_not(ordersByUsersA['visitor_id'].isin(abnormalUsers))]['orders'],\n",
    "     pd.Series(0,index=np.arange(data['visitorsPerDateA'].sum() - len(ordersByUsersA['orders'])),name='orders',),],axis=0,)"
   ]
  },
  {
   "cell_type": "markdown",
   "metadata": {},
   "source": [
    "Очищенные данные по группе В"
   ]
  },
  {
   "cell_type": "code",
   "execution_count": 76,
   "metadata": {},
   "outputs": [],
   "source": [
    "sampleBFiltered = pd.concat(\n",
    "    [ordersByUsersB[np.logical_not(ordersByUsersB['visitor_id'].isin(abnormalUsers))]['orders'],\n",
    "     pd.Series(0,index=np.arange(data['visitorsPerDateB'].sum() - len(ordersByUsersB['orders'])),name='orders',),],axis=0,) "
   ]
  },
  {
   "cell_type": "markdown",
   "metadata": {},
   "source": [
    "<div class=\"alert alert-success\"; style=\"border-left: 7px solid green\">\n",
    "<font size=\"4\"><b>Комментарий ревьюера 🚀</b></font>\n",
    "    <br />\n",
    "    <font size=\"3\", color = \"black\">\n",
    "    <br /> Верно сформированы таблицы по офтильтрованным пользователям\n",
    "     <br />\n",
    "    </font>\n",
    "\n",
    "</div>"
   ]
  },
  {
   "cell_type": "markdown",
   "metadata": {},
   "source": [
    "Применяем тест Манна-Уитни и находим разницу. "
   ]
  },
  {
   "cell_type": "code",
   "execution_count": 77,
   "metadata": {},
   "outputs": [
    {
     "name": "stdout",
     "output_type": "stream",
     "text": [
      "0.0130\n",
      "0.1727\n"
     ]
    }
   ],
   "source": [
    "print('{0:.4f}'.format(stats.mannwhitneyu(sampleAFiltered, sampleBFiltered)[1]))\n",
    "print('{0:.4f}'.format(sampleBFiltered.mean()/sampleAFiltered.mean()-1))"
   ]
  },
  {
   "cell_type": "markdown",
   "metadata": {},
   "source": [
    "P-value снизился еще больше - аналогично отвергаем нулевую гипотезу об отсутствии различий в конверсии между группами с очищенными данными и принимаем альтернативную - различия есть."
   ]
  },
  {
   "cell_type": "markdown",
   "metadata": {},
   "source": [
    "Относительный разрыв конверсии между группами увеличился: у группы В относительный прирост конверсии выше, чем у группы А уже на 17 процентов."
   ]
  },
  {
   "cell_type": "markdown",
   "metadata": {},
   "source": [
    "<div class=\"alert alert-success\"; style=\"border-left: 7px solid green\">\n",
    "<font size=\"4\"><b>Комментарий ревьюера 🚀</b></font>\n",
    "    <br />\n",
    "    <font size=\"3\", color = \"black\">\n",
    "    <br /> Верная логика реализации теста. Правильные результаты!\n",
    "     <br />\n",
    "    </font>\n",
    "\n",
    "</div>"
   ]
  },
  {
   "cell_type": "markdown",
   "metadata": {},
   "source": [
    "### Статистическая значимость различий в среднем чеке заказа между группами по «очищенным» данным"
   ]
  },
  {
   "cell_type": "markdown",
   "metadata": {},
   "source": [
    "Теперь проверим различия по чистым данным по среднему чеку.<br>\n",
    "Нулевая гипотеза - разницы между средними чеками группы А и В нет. <br>\n",
    "Альтернативная гипотеза - разница в среднем чеке есть."
   ]
  },
  {
   "cell_type": "markdown",
   "metadata": {},
   "source": [
    "Применим Тест Манна Уитни и функцию logical_not, которая позволит нам не выбирать пользователей, находящихся в таблице с выбросами."
   ]
  },
  {
   "cell_type": "code",
   "execution_count": 78,
   "metadata": {},
   "outputs": [
    {
     "name": "stdout",
     "output_type": "stream",
     "text": [
      "0.738\n"
     ]
    }
   ],
   "source": [
    "print('{0:.3f}'.format(stats.mannwhitneyu(orders[np.logical_and(orders['group'] == 'A',\n",
    "                            np.logical_not(orders['visitor_id'].isin(abnormalUsers)),)]['revenue'],\n",
    "                            orders[np.logical_and(orders['group'] == 'B',\n",
    "                            np.logical_not(orders['visitor_id'].isin(abnormalUsers)),)]['revenue'],)[1]))"
   ]
  },
  {
   "cell_type": "markdown",
   "metadata": {},
   "source": [
    "Считаем относительную разницу в средних чеках по очищенным данным"
   ]
  },
  {
   "cell_type": "code",
   "execution_count": 79,
   "metadata": {},
   "outputs": [
    {
     "name": "stdout",
     "output_type": "stream",
     "text": [
      "-0.020\n"
     ]
    }
   ],
   "source": [
    "print(\"{0:.3f}\".format(orders[np.logical_and(orders['group'] == 'B',\n",
    "                       np.logical_not(orders['visitor_id'].isin(abnormalUsers)),)]['revenue'].mean()/ \n",
    "                       orders[np.logical_and(orders['group'] == 'A',\n",
    "                       np.logical_not(orders['visitor_id'].isin(abnormalUsers)),)]['revenue'].mean()- 1)) "
   ]
  },
  {
   "cell_type": "markdown",
   "metadata": {},
   "source": [
    "P-value всё также большой - нулевая гипотеза не отвергается - разницы между группами по среднему чеку нет. Альтернативную гипотезу не принимаем."
   ]
  },
  {
   "cell_type": "markdown",
   "metadata": {},
   "source": [
    "Разница между средними чеками сократилась до 2%."
   ]
  },
  {
   "cell_type": "markdown",
   "metadata": {},
   "source": [
    "<div class=\"alert alert-success\"; style=\"border-left: 7px solid green\">\n",
    "<font size=\"4\"><b>Комментарий ревьюера 🚀</b></font>\n",
    "    <br />\n",
    "    <font size=\"3\", color = \"black\">\n",
    "    <br /> Абсолютная верная логика реализации стат теста и подсчета относительного увеличения среднего чека\n",
    "     <br />\n",
    "    </font>\n",
    "\n",
    "</div>"
   ]
  },
  {
   "cell_type": "markdown",
   "metadata": {},
   "source": [
    "### Выводы по А/В тесту"
   ]
  },
  {
   "cell_type": "markdown",
   "metadata": {},
   "source": [
    "#### Графики кумулятивной выручки и среднего чека"
   ]
  },
  {
   "cell_type": "markdown",
   "metadata": {},
   "source": [
    "Построим по очищенным данным графики кумулятивной выручки, график кумулятивного среднего чека и кумулятивной выручки, чтобы укрепить наши выводы."
   ]
  },
  {
   "cell_type": "markdown",
   "metadata": {},
   "source": [
    "Для этого воспользуемся уже созданной таблицей abnormalUsers, где указаны id пользователей с аномальными показателями кол-ва заказов и выручки. С помощью этой таблицы отфильтруем пользователей в таблице orders и заново построим графики."
   ]
  },
  {
   "cell_type": "markdown",
   "metadata": {},
   "source": [
    "<div class=\"alert alert-success\"; style=\"border-left: 7px solid green\">\n",
    "<font size=\"4\"><b>Комментарий ревьюера 🚀</b></font>\n",
    "    <br />\n",
    "    <font size=\"3\", color = \"black\">\n",
    "    <br /> Молодец! Отличное дополнительное исследование\n",
    "     <br />\n",
    "    </font>\n",
    "\n",
    "</div>"
   ]
  },
  {
   "cell_type": "code",
   "execution_count": 80,
   "metadata": {},
   "outputs": [],
   "source": [
    "# фильтруем таблицу с заказами\n",
    "orders_clean = orders[~orders['visitor_id'].isin(abnormalUsers)]"
   ]
  },
  {
   "cell_type": "code",
   "execution_count": 81,
   "metadata": {},
   "outputs": [],
   "source": [
    "# считаем кумулятивное количество заказов и сумму выручки\n",
    "ordersAggregated_clean = datesGroups.apply(lambda x: orders_clean[\n",
    "    np.logical_and(orders_clean['date'] <= x['date'], orders_clean['group'] == x['group'])]\n",
    "                                     .agg({'date' : 'max',\n",
    "                                           'group' : 'max',\n",
    "                                           'transaction_id' : 'nunique',\n",
    "                                           'visitor_id' : 'nunique',\n",
    "                                           'revenue' : 'sum'}), axis=1).sort_values(by=['date','group'])"
   ]
  },
  {
   "cell_type": "code",
   "execution_count": 82,
   "metadata": {},
   "outputs": [
    {
     "data": {
      "text/html": [
       "<div>\n",
       "<style scoped>\n",
       "    .dataframe tbody tr th:only-of-type {\n",
       "        vertical-align: middle;\n",
       "    }\n",
       "\n",
       "    .dataframe tbody tr th {\n",
       "        vertical-align: top;\n",
       "    }\n",
       "\n",
       "    .dataframe thead th {\n",
       "        text-align: right;\n",
       "    }\n",
       "</style>\n",
       "<table border=\"1\" class=\"dataframe\">\n",
       "  <thead>\n",
       "    <tr style=\"text-align: right;\">\n",
       "      <th></th>\n",
       "      <th>date</th>\n",
       "      <th>group</th>\n",
       "      <th>transaction_id</th>\n",
       "      <th>visitor_id</th>\n",
       "      <th>revenue</th>\n",
       "    </tr>\n",
       "  </thead>\n",
       "  <tbody>\n",
       "    <tr>\n",
       "      <th>55</th>\n",
       "      <td>2019-08-01</td>\n",
       "      <td>A</td>\n",
       "      <td>24</td>\n",
       "      <td>20</td>\n",
       "      <td>148579</td>\n",
       "    </tr>\n",
       "    <tr>\n",
       "      <th>66</th>\n",
       "      <td>2019-08-01</td>\n",
       "      <td>B</td>\n",
       "      <td>21</td>\n",
       "      <td>20</td>\n",
       "      <td>101217</td>\n",
       "    </tr>\n",
       "    <tr>\n",
       "      <th>175</th>\n",
       "      <td>2019-08-02</td>\n",
       "      <td>A</td>\n",
       "      <td>44</td>\n",
       "      <td>38</td>\n",
       "      <td>242401</td>\n",
       "    </tr>\n",
       "    <tr>\n",
       "      <th>173</th>\n",
       "      <td>2019-08-02</td>\n",
       "      <td>B</td>\n",
       "      <td>45</td>\n",
       "      <td>43</td>\n",
       "      <td>266748</td>\n",
       "    </tr>\n",
       "    <tr>\n",
       "      <th>291</th>\n",
       "      <td>2019-08-03</td>\n",
       "      <td>A</td>\n",
       "      <td>68</td>\n",
       "      <td>62</td>\n",
       "      <td>354874</td>\n",
       "    </tr>\n",
       "  </tbody>\n",
       "</table>\n",
       "</div>"
      ],
      "text/plain": [
       "          date group  transaction_id  visitor_id  revenue\n",
       "55  2019-08-01     A              24          20   148579\n",
       "66  2019-08-01     B              21          20   101217\n",
       "175 2019-08-02     A              44          38   242401\n",
       "173 2019-08-02     B              45          43   266748\n",
       "291 2019-08-03     A              68          62   354874"
      ]
     },
     "execution_count": 82,
     "metadata": {},
     "output_type": "execute_result"
    }
   ],
   "source": [
    "# выводим результирующую таблицу\n",
    "ordersAggregated.head()"
   ]
  },
  {
   "cell_type": "code",
   "execution_count": 83,
   "metadata": {},
   "outputs": [],
   "source": [
    "# объединяем очищенные агрегированные кумулятивные данные в одной таблице и присваиваем ее столбцам названия\n",
    "cumulativeData_clean = ordersAggregated_clean.merge(visitorsAggregated, left_on=['date', 'group'], right_on=['date', 'group'])\n",
    "cumulativeData_clean.columns = ['date', 'group', 'orders', 'buyers', 'revenue', 'visitors']"
   ]
  },
  {
   "cell_type": "code",
   "execution_count": 84,
   "metadata": {},
   "outputs": [],
   "source": [
    "# очищенный датафрейм с кумулятивным количеством заказов и кумулятивной выручкой по дням в группе А\n",
    "cumulativeRevenueA_clean = cumulativeData_clean[cumulativeData_clean['group']=='A'][['date','revenue', 'orders']]\n",
    "\n",
    "# очищенный датафрейм с кумулятивным количеством заказов и кумулятивной выручкой по дням в группе B\n",
    "cumulativeRevenueB_clean = cumulativeData_clean[cumulativeData_clean['group']=='B'][['date','revenue', 'orders']]"
   ]
  },
  {
   "cell_type": "markdown",
   "metadata": {},
   "source": [
    "<div class=\"alert alert-success\"; style=\"border-left: 7px solid green\">\n",
    "<font size=\"4\"><b>Комментарий ревьюера 🚀</b></font>\n",
    "    <br />\n",
    "    <font size=\"3\", color = \"black\">\n",
    "    <br /> Верные расчеты\n",
    "     <br />\n",
    "    </font>\n",
    "\n",
    "</div>"
   ]
  },
  {
   "cell_type": "markdown",
   "metadata": {},
   "source": [
    "Теперь строим график кумулятивной выручки по очищенным данным"
   ]
  },
  {
   "cell_type": "code",
   "execution_count": 85,
   "metadata": {},
   "outputs": [
    {
     "data": {
      "image/png": "[encoded data removed]",
      "text/plain": [
       "<Figure size 960x480 with 1 Axes>"
      ]
     },
     "metadata": {
      "needs_background": "light"
     },
     "output_type": "display_data"
    }
   ],
   "source": [
    "# график кумулятивной выручки\n",
    "\n",
    "# параметры\n",
    "figure(figsize=(12, 6), dpi=80)\n",
    "plt.grid()\n",
    "plt.ylabel('Revenue')\n",
    "plt.title('Cumulative Revenue Clean')\n",
    "plt.xticks(rotation=45)\n",
    "\n",
    "# график кумулятивной выручки группы А\n",
    "plt.plot(cumulativeRevenueA_clean['date'], cumulativeRevenueA_clean['revenue'], label='A')\n",
    "\n",
    "# график кумулятивной выручки группы B\n",
    "plt.plot(cumulativeRevenueB_clean['date'], cumulativeRevenueB_clean['revenue'], label='B')\n",
    "\n",
    "plt.legend()\n",
    "plt.show()"
   ]
  },
  {
   "cell_type": "markdown",
   "metadata": {},
   "source": [
    "График кумулятивного среднего чека:"
   ]
  },
  {
   "cell_type": "code",
   "execution_count": 86,
   "metadata": {
    "scrolled": false
   },
   "outputs": [
    {
     "data": {
      "image/png": "[encoded data removed]",
      "text/plain": [
       "<Figure size 960x480 with 1 Axes>"
      ]
     },
     "metadata": {
      "needs_background": "light"
     },
     "output_type": "display_data"
    }
   ],
   "source": [
    "# графики среднего чека по группам\n",
    "\n",
    "# параметры\n",
    "figure(figsize=(12, 6), dpi=80)\n",
    "plt.grid()\n",
    "plt.title('Cumulative AVG Bill Clean')\n",
    "plt.xticks(rotation=45)\n",
    "plt.ylabel('AVG Bill')\n",
    "\n",
    "# строим графики\n",
    "plt.plot(cumulativeRevenueA_clean['date'], cumulativeRevenueA_clean['revenue']/cumulativeRevenueA_clean['orders'], label='A')\n",
    "plt.plot(cumulativeRevenueB_clean['date'], cumulativeRevenueB_clean['revenue']/cumulativeRevenueB_clean['orders'], label='B')\n",
    "\n",
    "plt.legend()\n",
    "plt.show()"
   ]
  },
  {
   "cell_type": "markdown",
   "metadata": {},
   "source": [
    "Строим график кумулятивной конверсии по очищенным данным."
   ]
  },
  {
   "cell_type": "markdown",
   "metadata": {},
   "source": [
    "<div class=\"alert alert-success\"; style=\"border-left: 7px solid green\">\n",
    "<font size=\"4\"><b>Комментарий ревьюера 🚀</b></font>\n",
    "    <br />\n",
    "    <font size=\"3\", color = \"black\">\n",
    "    <br /> ВЕрное построение графиков\n",
    "     <br />\n",
    "    </font>\n",
    "\n",
    "</div>"
   ]
  },
  {
   "cell_type": "code",
   "execution_count": 87,
   "metadata": {},
   "outputs": [],
   "source": [
    "# считаем кумулятивную конверсию по очищенным данным\n",
    "cumulativeData_clean['conversion'] = cumulativeData_clean['orders']/cumulativeData_clean['visitors']"
   ]
  },
  {
   "cell_type": "code",
   "execution_count": 88,
   "metadata": {},
   "outputs": [],
   "source": [
    "# отделяем данные по группе A\n",
    "cumulativeDataA_clean = cumulativeData_clean[cumulativeData_clean['group']=='A']\n",
    "\n",
    "# отделяем данные по группе B\n",
    "cumulativeDataB_clean = cumulativeData_clean[cumulativeData_clean['group']=='B']"
   ]
  },
  {
   "cell_type": "code",
   "execution_count": 89,
   "metadata": {},
   "outputs": [
    {
     "data": {
      "image/png": "[encoded data removed]",
      "text/plain": [
       "<Figure size 960x480 with 1 Axes>"
      ]
     },
     "metadata": {
      "needs_background": "light"
     },
     "output_type": "display_data"
    }
   ],
   "source": [
    "# параметры графика\n",
    "figure(figsize=(12, 6), dpi=80)\n",
    "plt.grid()\n",
    "plt.xticks(rotation=45)\n",
    "plt.title('Change of Cumulative Conversion Clean')\n",
    "plt.ylabel('Conversion')\n",
    "plt.axis([pd.to_datetime(\"2019-08-01\"), pd.to_datetime('2019-08-31'), 0.02, 0.035])\n",
    "\n",
    "# строим график\n",
    "plt.plot(cumulativeDataA_clean['date'], cumulativeDataA_clean['conversion'], label='A')\n",
    "plt.plot(cumulativeDataB_clean['date'], cumulativeDataB_clean['conversion'], label='B')\n",
    "\n",
    "plt.legend()\n",
    "plt.show()"
   ]
  },
  {
   "cell_type": "markdown",
   "metadata": {},
   "source": [
    "#### Выводы"
   ]
  },
  {
   "cell_type": "markdown",
   "metadata": {},
   "source": [
    "Подведем итоги:\n",
    "- Следует остановить тест, даже по очищенным данным не удалось увидеть другой картины, требующей дальнейшего сбора информации.\n",
    "- Тест подтвеждает: конверсия у группы В выше, чем у группы А\n",
    "- Различий в среднем чеке по результату теста между группами не обнаружено\n",
    "- График кумулятивной конверсии по очищенным данным показывает, что конверсия выше у группы В\n",
    "- График кумулятивной выручки по очищенным данным показывает, что выручка выше у группы В\n",
    "- График среднего чека по очищенным данным показывает, что средний чек примерно одинаков по обеим группам.\n",
    "- Если повышение конверсии это наш ключевой показатель, то мы принимаем внедренные изменения для группы В. \n",
    "- Если средний чек наш ключевой показатель, то внедренные изменения не смогли увеличить этот показатель, поэтому следует попробовать применить другое решение.\n"
   ]
  },
  {
   "cell_type": "markdown",
   "metadata": {},
   "source": [
    "<div class=\"alert alert-warning\" ; style=\"border-left: 7px solid orange\">\n",
    "<font size=\"4\"><b>Комментарий ревьюера 👀</b></font>\n",
    "    <br />\n",
    "    <font size=\"3\", color = \"black\">\n",
    "    <br /> Стоит явно дописать дописать в каком случае останавливаем тест, а в каком стоит продолжить. Кроме этого, подумай над тем, что если у нас приоритетная метрика - выручка. Что делать с тестом, если на выручку влияют как конверсия, так и средний чек\n",
    "    <br />\n",
    "    </font>\n",
    "\n",
    "</div>"
   ]
  },
  {
   "cell_type": "markdown",
   "metadata": {},
   "source": [
    "<div class=\"alert alert-success\"; style=\"border-left: 7px solid green\">\n",
    "<font size=\"4\"><b>Комментарий ревьюера 🚀</b></font>\n",
    "    <br />\n",
    "    <font size=\"3\", color = \"black\">\n",
    "    <br /> Молодец, хороший суммирующий вывод! Правильные выводы по разнице групп по конверсиям и средним чекам!\n",
    "     <br /><br />\n",
    "        Спасибо тебе за работу! Она выполнена на высоком уровне. Чтобы я мог принять проект, следует исправить некоторые моменты (красные и желтые комментарии). Если будут вопросы, то с радостью отвечу на них!\n",
    "    </font>\n",
    "\n",
    "</div>"
   ]
  },
  {
   "cell_type": "code",
   "execution_count": null,
   "metadata": {},
   "outputs": [],
   "source": []
  }
 ],
 "metadata": {
  "ExecuteTimeLog": [
   {
    "duration": 736,
    "start_time": "2022-04-16T06:53:36.527Z"
   },
   {
    "duration": 41,
    "start_time": "2022-04-16T06:57:53.792Z"
   },
   {
    "duration": 12,
    "start_time": "2022-04-16T06:58:06.724Z"
   },
   {
    "duration": 3,
    "start_time": "2022-04-16T06:58:55.944Z"
   },
   {
    "duration": 12,
    "start_time": "2022-04-16T06:59:17.003Z"
   },
   {
    "duration": 8,
    "start_time": "2022-04-16T06:59:21.363Z"
   },
   {
    "duration": 8,
    "start_time": "2022-04-16T06:59:32.523Z"
   },
   {
    "duration": 7,
    "start_time": "2022-04-16T06:59:44.143Z"
   },
   {
    "duration": 7,
    "start_time": "2022-04-16T06:59:57.893Z"
   },
   {
    "duration": 8,
    "start_time": "2022-04-16T07:00:04.024Z"
   },
   {
    "duration": 11,
    "start_time": "2022-04-16T07:00:24.764Z"
   },
   {
    "duration": 4,
    "start_time": "2022-04-16T07:02:06.461Z"
   },
   {
    "duration": 6,
    "start_time": "2022-04-16T07:02:51.701Z"
   },
   {
    "duration": 9,
    "start_time": "2022-04-16T07:03:01.754Z"
   },
   {
    "duration": 11,
    "start_time": "2022-04-16T07:03:46.993Z"
   },
   {
    "duration": 4,
    "start_time": "2022-04-16T07:04:03.184Z"
   },
   {
    "duration": 8,
    "start_time": "2022-04-16T07:04:12.263Z"
   },
   {
    "duration": 8,
    "start_time": "2022-04-16T07:04:56.344Z"
   },
   {
    "duration": 6,
    "start_time": "2022-04-16T07:05:11.944Z"
   },
   {
    "duration": 7,
    "start_time": "2022-04-16T07:05:51.504Z"
   },
   {
    "duration": 5,
    "start_time": "2022-04-16T07:05:52.191Z"
   },
   {
    "duration": 10,
    "start_time": "2022-04-16T07:10:21.134Z"
   },
   {
    "duration": 9,
    "start_time": "2022-04-16T07:16:21.925Z"
   },
   {
    "duration": 8,
    "start_time": "2022-04-16T07:20:09.163Z"
   },
   {
    "duration": 10,
    "start_time": "2022-04-16T07:20:42.413Z"
   },
   {
    "duration": 9,
    "start_time": "2022-04-16T07:21:14.522Z"
   },
   {
    "duration": 13,
    "start_time": "2022-04-16T07:24:23.782Z"
   },
   {
    "duration": 654,
    "start_time": "2022-04-16T07:28:06.323Z"
   },
   {
    "duration": 39,
    "start_time": "2022-04-16T07:28:06.979Z"
   },
   {
    "duration": 11,
    "start_time": "2022-04-16T07:28:07.020Z"
   },
   {
    "duration": 4,
    "start_time": "2022-04-16T07:28:07.033Z"
   },
   {
    "duration": 13,
    "start_time": "2022-04-16T07:28:07.039Z"
   },
   {
    "duration": 28,
    "start_time": "2022-04-16T07:28:07.054Z"
   },
   {
    "duration": 4,
    "start_time": "2022-04-16T07:28:07.084Z"
   },
   {
    "duration": 17,
    "start_time": "2022-04-16T07:28:07.090Z"
   },
   {
    "duration": 8,
    "start_time": "2022-04-16T07:28:07.109Z"
   },
   {
    "duration": 6,
    "start_time": "2022-04-16T07:28:07.119Z"
   },
   {
    "duration": 9,
    "start_time": "2022-04-16T07:28:07.126Z"
   },
   {
    "duration": 11,
    "start_time": "2022-04-16T07:28:07.136Z"
   },
   {
    "duration": 5,
    "start_time": "2022-04-16T07:28:07.148Z"
   },
   {
    "duration": 52,
    "start_time": "2022-04-16T07:28:07.155Z"
   },
   {
    "duration": 5,
    "start_time": "2022-04-16T07:28:07.209Z"
   },
   {
    "duration": 8,
    "start_time": "2022-04-16T07:28:07.216Z"
   },
   {
    "duration": 12,
    "start_time": "2022-04-16T07:28:07.226Z"
   },
   {
    "duration": 11,
    "start_time": "2022-04-16T07:28:07.240Z"
   },
   {
    "duration": 3,
    "start_time": "2022-04-16T07:28:23.320Z"
   },
   {
    "duration": 89,
    "start_time": "2022-04-16T07:45:47.054Z"
   },
   {
    "duration": 23,
    "start_time": "2022-04-16T07:46:04.709Z"
   },
   {
    "duration": 6,
    "start_time": "2022-04-16T07:47:24.566Z"
   },
   {
    "duration": 21,
    "start_time": "2022-04-16T07:47:27.166Z"
   },
   {
    "duration": 159,
    "start_time": "2022-04-16T07:48:14.879Z"
   },
   {
    "duration": 11,
    "start_time": "2022-04-16T07:48:18.471Z"
   },
   {
    "duration": 120,
    "start_time": "2022-04-16T07:49:34.601Z"
   },
   {
    "duration": 11,
    "start_time": "2022-04-16T07:49:38.525Z"
   },
   {
    "duration": 10,
    "start_time": "2022-04-16T07:49:59.879Z"
   },
   {
    "duration": 10,
    "start_time": "2022-04-16T07:50:08.267Z"
   },
   {
    "duration": 6,
    "start_time": "2022-04-16T07:50:56.738Z"
   },
   {
    "duration": 14,
    "start_time": "2022-04-16T07:51:00.085Z"
   },
   {
    "duration": 9,
    "start_time": "2022-04-16T07:51:42.900Z"
   },
   {
    "duration": 7,
    "start_time": "2022-04-16T07:51:44.418Z"
   },
   {
    "duration": 9,
    "start_time": "2022-04-16T07:51:45.777Z"
   },
   {
    "duration": 255,
    "start_time": "2022-04-16T07:57:03.685Z"
   },
   {
    "duration": 156,
    "start_time": "2022-04-16T07:57:33.982Z"
   },
   {
    "duration": 146,
    "start_time": "2022-04-16T07:58:33.855Z"
   },
   {
    "duration": 302,
    "start_time": "2022-04-16T07:59:27.370Z"
   },
   {
    "duration": 263,
    "start_time": "2022-04-16T09:17:56.570Z"
   },
   {
    "duration": 177,
    "start_time": "2022-04-16T09:18:16.245Z"
   },
   {
    "duration": 178,
    "start_time": "2022-04-16T09:18:21.889Z"
   },
   {
    "duration": 141,
    "start_time": "2022-04-16T09:19:01.277Z"
   },
   {
    "duration": 148,
    "start_time": "2022-04-16T09:19:10.148Z"
   },
   {
    "duration": 196,
    "start_time": "2022-04-16T09:19:27.792Z"
   },
   {
    "duration": 197,
    "start_time": "2022-04-16T09:20:16.463Z"
   },
   {
    "duration": 200,
    "start_time": "2022-04-16T09:21:00.200Z"
   },
   {
    "duration": 149,
    "start_time": "2022-04-16T09:21:18.867Z"
   },
   {
    "duration": 153,
    "start_time": "2022-04-16T09:21:26.969Z"
   },
   {
    "duration": 247,
    "start_time": "2022-04-16T09:21:51.139Z"
   },
   {
    "duration": 187,
    "start_time": "2022-04-16T09:22:00.791Z"
   },
   {
    "duration": 192,
    "start_time": "2022-04-16T09:22:14.546Z"
   },
   {
    "duration": 181,
    "start_time": "2022-04-16T09:22:40.364Z"
   },
   {
    "duration": 316,
    "start_time": "2022-04-16T09:24:04.416Z"
   },
   {
    "duration": 181,
    "start_time": "2022-04-16T09:24:40.686Z"
   },
   {
    "duration": 183,
    "start_time": "2022-04-16T09:24:50.447Z"
   },
   {
    "duration": 189,
    "start_time": "2022-04-16T09:24:57.105Z"
   },
   {
    "duration": 179,
    "start_time": "2022-04-16T09:25:01.507Z"
   },
   {
    "duration": 173,
    "start_time": "2022-04-16T09:25:06.166Z"
   },
   {
    "duration": 281,
    "start_time": "2022-04-16T09:26:12.594Z"
   },
   {
    "duration": 181,
    "start_time": "2022-04-16T09:26:24.150Z"
   },
   {
    "duration": 261,
    "start_time": "2022-04-16T09:26:38.473Z"
   },
   {
    "duration": 219,
    "start_time": "2022-04-16T09:26:46.863Z"
   },
   {
    "duration": 205,
    "start_time": "2022-04-16T09:26:53.724Z"
   },
   {
    "duration": 300,
    "start_time": "2022-04-16T09:27:28.446Z"
   },
   {
    "duration": 3,
    "start_time": "2022-04-16T09:34:06.076Z"
   },
   {
    "duration": 172,
    "start_time": "2022-04-16T09:46:27.668Z"
   },
   {
    "duration": 169,
    "start_time": "2022-04-16T09:46:52.224Z"
   },
   {
    "duration": 185,
    "start_time": "2022-04-16T09:47:04.316Z"
   },
   {
    "duration": 216,
    "start_time": "2022-04-16T09:47:22.218Z"
   },
   {
    "duration": 293,
    "start_time": "2022-04-16T09:53:57.917Z"
   },
   {
    "duration": 349,
    "start_time": "2022-04-16T09:54:11.298Z"
   },
   {
    "duration": 350,
    "start_time": "2022-04-16T09:56:20.486Z"
   },
   {
    "duration": 354,
    "start_time": "2022-04-16T09:57:13.885Z"
   },
   {
    "duration": 4,
    "start_time": "2022-04-16T09:58:54.941Z"
   },
   {
    "duration": 200,
    "start_time": "2022-04-16T09:59:35.743Z"
   },
   {
    "duration": 197,
    "start_time": "2022-04-16T09:59:53.484Z"
   },
   {
    "duration": 220,
    "start_time": "2022-04-16T10:00:19.525Z"
   },
   {
    "duration": 285,
    "start_time": "2022-04-16T10:00:34.547Z"
   },
   {
    "duration": 223,
    "start_time": "2022-04-16T10:01:02.470Z"
   },
   {
    "duration": 253,
    "start_time": "2022-04-16T10:01:22.197Z"
   },
   {
    "duration": 690,
    "start_time": "2022-04-16T10:03:03.584Z"
   },
   {
    "duration": 36,
    "start_time": "2022-04-16T10:03:04.276Z"
   },
   {
    "duration": 16,
    "start_time": "2022-04-16T10:03:04.314Z"
   },
   {
    "duration": 3,
    "start_time": "2022-04-16T10:03:04.332Z"
   },
   {
    "duration": 21,
    "start_time": "2022-04-16T10:03:04.336Z"
   },
   {
    "duration": 10,
    "start_time": "2022-04-16T10:03:04.358Z"
   },
   {
    "duration": 6,
    "start_time": "2022-04-16T10:03:04.369Z"
   },
   {
    "duration": 34,
    "start_time": "2022-04-16T10:03:04.376Z"
   },
   {
    "duration": 10,
    "start_time": "2022-04-16T10:03:04.412Z"
   },
   {
    "duration": 7,
    "start_time": "2022-04-16T10:03:04.424Z"
   },
   {
    "duration": 8,
    "start_time": "2022-04-16T10:03:04.433Z"
   },
   {
    "duration": 12,
    "start_time": "2022-04-16T10:03:04.443Z"
   },
   {
    "duration": 53,
    "start_time": "2022-04-16T10:03:04.456Z"
   },
   {
    "duration": 11,
    "start_time": "2022-04-16T10:03:04.512Z"
   },
   {
    "duration": 7,
    "start_time": "2022-04-16T10:03:04.524Z"
   },
   {
    "duration": 8,
    "start_time": "2022-04-16T10:03:04.533Z"
   },
   {
    "duration": 15,
    "start_time": "2022-04-16T10:03:04.543Z"
   },
   {
    "duration": 60,
    "start_time": "2022-04-16T10:03:04.559Z"
   },
   {
    "duration": 7,
    "start_time": "2022-04-16T10:03:04.621Z"
   },
   {
    "duration": 183,
    "start_time": "2022-04-16T10:03:04.630Z"
   },
   {
    "duration": 9,
    "start_time": "2022-04-16T10:03:04.815Z"
   },
   {
    "duration": 156,
    "start_time": "2022-04-16T10:03:04.827Z"
   },
   {
    "duration": 8,
    "start_time": "2022-04-16T10:03:04.985Z"
   },
   {
    "duration": 15,
    "start_time": "2022-04-16T10:03:04.995Z"
   },
   {
    "duration": 12,
    "start_time": "2022-04-16T10:03:05.012Z"
   },
   {
    "duration": 311,
    "start_time": "2022-04-16T10:03:05.026Z"
   },
   {
    "duration": 243,
    "start_time": "2022-04-16T10:03:05.339Z"
   },
   {
    "duration": 382,
    "start_time": "2022-04-16T10:03:05.585Z"
   },
   {
    "duration": 4,
    "start_time": "2022-04-16T10:03:05.969Z"
   },
   {
    "duration": 397,
    "start_time": "2022-04-16T10:03:05.975Z"
   },
   {
    "duration": 227,
    "start_time": "2022-04-16T10:04:30.343Z"
   },
   {
    "duration": 699,
    "start_time": "2022-04-16T10:06:10.476Z"
   },
   {
    "duration": 47,
    "start_time": "2022-04-16T10:06:11.177Z"
   },
   {
    "duration": 13,
    "start_time": "2022-04-16T10:06:11.226Z"
   },
   {
    "duration": 4,
    "start_time": "2022-04-16T10:06:11.241Z"
   },
   {
    "duration": 12,
    "start_time": "2022-04-16T10:06:11.246Z"
   },
   {
    "duration": 9,
    "start_time": "2022-04-16T10:06:11.259Z"
   },
   {
    "duration": 4,
    "start_time": "2022-04-16T10:06:11.270Z"
   },
   {
    "duration": 9,
    "start_time": "2022-04-16T10:06:11.276Z"
   },
   {
    "duration": 10,
    "start_time": "2022-04-16T10:06:11.307Z"
   },
   {
    "duration": 9,
    "start_time": "2022-04-16T10:06:11.319Z"
   },
   {
    "duration": 9,
    "start_time": "2022-04-16T10:06:11.330Z"
   },
   {
    "duration": 10,
    "start_time": "2022-04-16T10:06:11.340Z"
   },
   {
    "duration": 4,
    "start_time": "2022-04-16T10:06:11.352Z"
   },
   {
    "duration": 54,
    "start_time": "2022-04-16T10:06:11.357Z"
   },
   {
    "duration": 6,
    "start_time": "2022-04-16T10:06:11.414Z"
   },
   {
    "duration": 11,
    "start_time": "2022-04-16T10:06:11.422Z"
   },
   {
    "duration": 13,
    "start_time": "2022-04-16T10:06:11.435Z"
   },
   {
    "duration": 12,
    "start_time": "2022-04-16T10:06:11.450Z"
   },
   {
    "duration": 389,
    "start_time": "2022-04-16T10:06:11.463Z"
   },
   {
    "duration": 0,
    "start_time": "2022-04-16T10:06:11.854Z"
   },
   {
    "duration": 0,
    "start_time": "2022-04-16T10:06:11.855Z"
   },
   {
    "duration": 0,
    "start_time": "2022-04-16T10:06:11.857Z"
   },
   {
    "duration": 0,
    "start_time": "2022-04-16T10:06:11.858Z"
   },
   {
    "duration": 0,
    "start_time": "2022-04-16T10:06:11.860Z"
   },
   {
    "duration": 0,
    "start_time": "2022-04-16T10:06:11.860Z"
   },
   {
    "duration": 0,
    "start_time": "2022-04-16T10:06:11.862Z"
   },
   {
    "duration": 0,
    "start_time": "2022-04-16T10:06:11.863Z"
   },
   {
    "duration": 0,
    "start_time": "2022-04-16T10:06:11.864Z"
   },
   {
    "duration": 0,
    "start_time": "2022-04-16T10:06:11.865Z"
   },
   {
    "duration": 0,
    "start_time": "2022-04-16T10:06:11.867Z"
   },
   {
    "duration": 684,
    "start_time": "2022-04-16T10:07:21.335Z"
   },
   {
    "duration": 40,
    "start_time": "2022-04-16T10:07:22.022Z"
   },
   {
    "duration": 12,
    "start_time": "2022-04-16T10:07:22.064Z"
   },
   {
    "duration": 5,
    "start_time": "2022-04-16T10:07:22.078Z"
   },
   {
    "duration": 14,
    "start_time": "2022-04-16T10:07:22.085Z"
   },
   {
    "duration": 16,
    "start_time": "2022-04-16T10:07:22.101Z"
   },
   {
    "duration": 6,
    "start_time": "2022-04-16T10:07:22.119Z"
   },
   {
    "duration": 8,
    "start_time": "2022-04-16T10:07:22.127Z"
   },
   {
    "duration": 8,
    "start_time": "2022-04-16T10:07:22.136Z"
   },
   {
    "duration": 5,
    "start_time": "2022-04-16T10:07:22.146Z"
   },
   {
    "duration": 64,
    "start_time": "2022-04-16T10:07:22.153Z"
   },
   {
    "duration": 17,
    "start_time": "2022-04-16T10:07:22.219Z"
   },
   {
    "duration": 7,
    "start_time": "2022-04-16T10:07:22.237Z"
   },
   {
    "duration": 7,
    "start_time": "2022-04-16T10:07:22.247Z"
   },
   {
    "duration": 6,
    "start_time": "2022-04-16T10:07:22.255Z"
   },
   {
    "duration": 51,
    "start_time": "2022-04-16T10:07:22.262Z"
   },
   {
    "duration": 18,
    "start_time": "2022-04-16T10:07:22.315Z"
   },
   {
    "duration": 12,
    "start_time": "2022-04-16T10:07:22.335Z"
   },
   {
    "duration": 897,
    "start_time": "2022-04-16T10:07:22.348Z"
   },
   {
    "duration": 0,
    "start_time": "2022-04-16T10:07:23.247Z"
   },
   {
    "duration": 0,
    "start_time": "2022-04-16T10:07:23.249Z"
   },
   {
    "duration": 0,
    "start_time": "2022-04-16T10:07:23.251Z"
   },
   {
    "duration": 0,
    "start_time": "2022-04-16T10:07:23.252Z"
   },
   {
    "duration": 0,
    "start_time": "2022-04-16T10:07:23.254Z"
   },
   {
    "duration": 0,
    "start_time": "2022-04-16T10:07:23.255Z"
   },
   {
    "duration": 0,
    "start_time": "2022-04-16T10:07:23.257Z"
   },
   {
    "duration": 0,
    "start_time": "2022-04-16T10:07:23.258Z"
   },
   {
    "duration": 0,
    "start_time": "2022-04-16T10:07:23.261Z"
   },
   {
    "duration": 0,
    "start_time": "2022-04-16T10:07:23.262Z"
   },
   {
    "duration": 0,
    "start_time": "2022-04-16T10:07:23.264Z"
   },
   {
    "duration": 628,
    "start_time": "2022-04-16T10:08:03.964Z"
   },
   {
    "duration": 37,
    "start_time": "2022-04-16T10:08:04.594Z"
   },
   {
    "duration": 11,
    "start_time": "2022-04-16T10:08:04.633Z"
   },
   {
    "duration": 6,
    "start_time": "2022-04-16T10:08:04.646Z"
   },
   {
    "duration": 12,
    "start_time": "2022-04-16T10:08:04.654Z"
   },
   {
    "duration": 10,
    "start_time": "2022-04-16T10:08:04.668Z"
   },
   {
    "duration": 5,
    "start_time": "2022-04-16T10:08:04.680Z"
   },
   {
    "duration": 27,
    "start_time": "2022-04-16T10:08:04.686Z"
   },
   {
    "duration": 15,
    "start_time": "2022-04-16T10:08:04.715Z"
   },
   {
    "duration": 6,
    "start_time": "2022-04-16T10:08:04.734Z"
   },
   {
    "duration": 9,
    "start_time": "2022-04-16T10:08:04.741Z"
   },
   {
    "duration": 11,
    "start_time": "2022-04-16T10:08:04.751Z"
   },
   {
    "duration": 46,
    "start_time": "2022-04-16T10:08:04.763Z"
   },
   {
    "duration": 10,
    "start_time": "2022-04-16T10:08:04.811Z"
   },
   {
    "duration": 6,
    "start_time": "2022-04-16T10:08:04.823Z"
   },
   {
    "duration": 10,
    "start_time": "2022-04-16T10:08:04.830Z"
   },
   {
    "duration": 14,
    "start_time": "2022-04-16T10:08:04.842Z"
   },
   {
    "duration": 52,
    "start_time": "2022-04-16T10:08:04.857Z"
   },
   {
    "duration": 362,
    "start_time": "2022-04-16T10:08:04.912Z"
   },
   {
    "duration": 0,
    "start_time": "2022-04-16T10:08:05.275Z"
   },
   {
    "duration": 0,
    "start_time": "2022-04-16T10:08:05.277Z"
   },
   {
    "duration": 0,
    "start_time": "2022-04-16T10:08:05.278Z"
   },
   {
    "duration": 0,
    "start_time": "2022-04-16T10:08:05.279Z"
   },
   {
    "duration": 0,
    "start_time": "2022-04-16T10:08:05.280Z"
   },
   {
    "duration": 0,
    "start_time": "2022-04-16T10:08:05.282Z"
   },
   {
    "duration": 0,
    "start_time": "2022-04-16T10:08:05.283Z"
   },
   {
    "duration": 0,
    "start_time": "2022-04-16T10:08:05.284Z"
   },
   {
    "duration": 0,
    "start_time": "2022-04-16T10:08:05.285Z"
   },
   {
    "duration": 0,
    "start_time": "2022-04-16T10:08:05.287Z"
   },
   {
    "duration": 0,
    "start_time": "2022-04-16T10:08:05.288Z"
   },
   {
    "duration": 263,
    "start_time": "2022-04-16T10:08:57.489Z"
   },
   {
    "duration": 15,
    "start_time": "2022-04-16T10:10:56.416Z"
   },
   {
    "duration": 693,
    "start_time": "2022-04-16T10:11:26.200Z"
   },
   {
    "duration": 37,
    "start_time": "2022-04-16T10:11:26.895Z"
   },
   {
    "duration": 11,
    "start_time": "2022-04-16T10:11:26.933Z"
   },
   {
    "duration": 5,
    "start_time": "2022-04-16T10:11:26.945Z"
   },
   {
    "duration": 17,
    "start_time": "2022-04-16T10:11:26.951Z"
   },
   {
    "duration": 9,
    "start_time": "2022-04-16T10:11:26.970Z"
   },
   {
    "duration": 4,
    "start_time": "2022-04-16T10:11:26.981Z"
   },
   {
    "duration": 26,
    "start_time": "2022-04-16T10:11:26.986Z"
   },
   {
    "duration": 11,
    "start_time": "2022-04-16T10:11:27.014Z"
   },
   {
    "duration": 7,
    "start_time": "2022-04-16T10:11:27.029Z"
   },
   {
    "duration": 8,
    "start_time": "2022-04-16T10:11:27.037Z"
   },
   {
    "duration": 11,
    "start_time": "2022-04-16T10:11:27.046Z"
   },
   {
    "duration": 5,
    "start_time": "2022-04-16T10:11:27.058Z"
   },
   {
    "duration": 50,
    "start_time": "2022-04-16T10:11:27.064Z"
   },
   {
    "duration": 8,
    "start_time": "2022-04-16T10:11:27.117Z"
   },
   {
    "duration": 9,
    "start_time": "2022-04-16T10:11:27.126Z"
   },
   {
    "duration": 13,
    "start_time": "2022-04-16T10:11:27.137Z"
   },
   {
    "duration": 11,
    "start_time": "2022-04-16T10:11:27.151Z"
   },
   {
    "duration": 65,
    "start_time": "2022-04-16T10:11:27.164Z"
   },
   {
    "duration": 198,
    "start_time": "2022-04-16T10:11:27.231Z"
   },
   {
    "duration": 8,
    "start_time": "2022-04-16T10:11:27.430Z"
   },
   {
    "duration": 140,
    "start_time": "2022-04-16T10:11:27.440Z"
   },
   {
    "duration": 7,
    "start_time": "2022-04-16T10:11:27.582Z"
   },
   {
    "duration": 24,
    "start_time": "2022-04-16T10:11:27.590Z"
   },
   {
    "duration": 16,
    "start_time": "2022-04-16T10:11:27.617Z"
   },
   {
    "duration": 342,
    "start_time": "2022-04-16T10:11:27.635Z"
   },
   {
    "duration": 259,
    "start_time": "2022-04-16T10:11:27.979Z"
   },
   {
    "duration": 343,
    "start_time": "2022-04-16T10:11:28.241Z"
   },
   {
    "duration": 4,
    "start_time": "2022-04-16T10:11:28.586Z"
   },
   {
    "duration": 393,
    "start_time": "2022-04-16T10:11:28.607Z"
   },
   {
    "duration": 667,
    "start_time": "2022-04-16T10:13:51.095Z"
   },
   {
    "duration": 34,
    "start_time": "2022-04-16T10:13:51.764Z"
   },
   {
    "duration": 12,
    "start_time": "2022-04-16T10:13:51.799Z"
   },
   {
    "duration": 5,
    "start_time": "2022-04-16T10:13:51.814Z"
   },
   {
    "duration": 16,
    "start_time": "2022-04-16T10:13:51.821Z"
   },
   {
    "duration": 10,
    "start_time": "2022-04-16T10:13:51.838Z"
   },
   {
    "duration": 4,
    "start_time": "2022-04-16T10:13:51.849Z"
   },
   {
    "duration": 5,
    "start_time": "2022-04-16T10:13:51.855Z"
   },
   {
    "duration": 60,
    "start_time": "2022-04-16T10:13:51.861Z"
   },
   {
    "duration": 8,
    "start_time": "2022-04-16T10:13:51.924Z"
   },
   {
    "duration": 10,
    "start_time": "2022-04-16T10:13:51.933Z"
   },
   {
    "duration": 13,
    "start_time": "2022-04-16T10:13:51.944Z"
   },
   {
    "duration": 4,
    "start_time": "2022-04-16T10:13:51.959Z"
   },
   {
    "duration": 47,
    "start_time": "2022-04-16T10:13:51.964Z"
   },
   {
    "duration": 6,
    "start_time": "2022-04-16T10:13:52.014Z"
   },
   {
    "duration": 9,
    "start_time": "2022-04-16T10:13:52.023Z"
   },
   {
    "duration": 17,
    "start_time": "2022-04-16T10:13:52.034Z"
   },
   {
    "duration": 10,
    "start_time": "2022-04-16T10:13:52.052Z"
   },
   {
    "duration": 5,
    "start_time": "2022-04-16T10:13:52.063Z"
   },
   {
    "duration": 224,
    "start_time": "2022-04-16T10:13:52.069Z"
   },
   {
    "duration": 20,
    "start_time": "2022-04-16T10:13:52.295Z"
   },
   {
    "duration": 148,
    "start_time": "2022-04-16T10:13:52.317Z"
   },
   {
    "duration": 8,
    "start_time": "2022-04-16T10:13:52.467Z"
   },
   {
    "duration": 8,
    "start_time": "2022-04-16T10:13:52.477Z"
   },
   {
    "duration": 11,
    "start_time": "2022-04-16T10:13:52.508Z"
   },
   {
    "duration": 347,
    "start_time": "2022-04-16T10:13:52.521Z"
   },
   {
    "duration": 272,
    "start_time": "2022-04-16T10:13:52.869Z"
   },
   {
    "duration": 341,
    "start_time": "2022-04-16T10:13:53.145Z"
   },
   {
    "duration": 4,
    "start_time": "2022-04-16T10:13:53.488Z"
   },
   {
    "duration": 303,
    "start_time": "2022-04-16T10:13:53.493Z"
   },
   {
    "duration": 306,
    "start_time": "2022-04-16T10:18:10.844Z"
   },
   {
    "duration": 226,
    "start_time": "2022-04-16T10:28:22.195Z"
   },
   {
    "duration": 351,
    "start_time": "2022-04-16T10:58:42.683Z"
   },
   {
    "duration": 329,
    "start_time": "2022-04-16T10:58:47.896Z"
   },
   {
    "duration": 326,
    "start_time": "2022-04-16T10:59:59.910Z"
   },
   {
    "duration": 377,
    "start_time": "2022-04-16T11:00:23.297Z"
   },
   {
    "duration": 252,
    "start_time": "2022-04-16T11:01:37.724Z"
   },
   {
    "duration": 343,
    "start_time": "2022-04-16T11:02:16.742Z"
   },
   {
    "duration": 353,
    "start_time": "2022-04-16T11:02:27.421Z"
   },
   {
    "duration": 13,
    "start_time": "2022-04-16T11:12:00.648Z"
   },
   {
    "duration": 6,
    "start_time": "2022-04-16T11:12:24.434Z"
   },
   {
    "duration": 11,
    "start_time": "2022-04-16T11:12:29.211Z"
   },
   {
    "duration": 9,
    "start_time": "2022-04-16T11:13:27.025Z"
   },
   {
    "duration": 118,
    "start_time": "2022-04-16T11:14:14.923Z"
   },
   {
    "duration": 191,
    "start_time": "2022-04-16T11:15:14.295Z"
   },
   {
    "duration": 256,
    "start_time": "2022-04-16T11:15:51.578Z"
   },
   {
    "duration": 150,
    "start_time": "2022-04-16T11:15:56.076Z"
   },
   {
    "duration": 128,
    "start_time": "2022-04-16T11:16:12.423Z"
   },
   {
    "duration": 131,
    "start_time": "2022-04-16T11:16:19.253Z"
   },
   {
    "duration": 139,
    "start_time": "2022-04-16T11:16:22.218Z"
   },
   {
    "duration": 144,
    "start_time": "2022-04-16T11:17:35.405Z"
   },
   {
    "duration": 4,
    "start_time": "2022-04-16T11:19:47.262Z"
   },
   {
    "duration": 14,
    "start_time": "2022-04-16T13:08:16.826Z"
   },
   {
    "duration": 147,
    "start_time": "2022-04-16T13:10:39.507Z"
   },
   {
    "duration": 154,
    "start_time": "2022-04-16T13:10:52.641Z"
   },
   {
    "duration": 137,
    "start_time": "2022-04-16T13:12:25.282Z"
   },
   {
    "duration": 156,
    "start_time": "2022-04-16T13:12:47.194Z"
   },
   {
    "duration": 698,
    "start_time": "2022-04-16T13:13:13.333Z"
   },
   {
    "duration": 37,
    "start_time": "2022-04-16T13:13:14.036Z"
   },
   {
    "duration": 12,
    "start_time": "2022-04-16T13:13:14.075Z"
   },
   {
    "duration": 4,
    "start_time": "2022-04-16T13:13:14.090Z"
   },
   {
    "duration": 20,
    "start_time": "2022-04-16T13:13:14.095Z"
   },
   {
    "duration": 15,
    "start_time": "2022-04-16T13:13:14.119Z"
   },
   {
    "duration": 6,
    "start_time": "2022-04-16T13:13:14.136Z"
   },
   {
    "duration": 9,
    "start_time": "2022-04-16T13:13:14.144Z"
   },
   {
    "duration": 9,
    "start_time": "2022-04-16T13:13:14.156Z"
   },
   {
    "duration": 41,
    "start_time": "2022-04-16T13:13:14.169Z"
   },
   {
    "duration": 17,
    "start_time": "2022-04-16T13:13:14.212Z"
   },
   {
    "duration": 16,
    "start_time": "2022-04-16T13:13:14.231Z"
   },
   {
    "duration": 11,
    "start_time": "2022-04-16T13:13:14.249Z"
   },
   {
    "duration": 15,
    "start_time": "2022-04-16T13:13:14.261Z"
   },
   {
    "duration": 22,
    "start_time": "2022-04-16T13:13:14.278Z"
   },
   {
    "duration": 25,
    "start_time": "2022-04-16T13:13:14.301Z"
   },
   {
    "duration": 13,
    "start_time": "2022-04-16T13:13:14.333Z"
   },
   {
    "duration": 17,
    "start_time": "2022-04-16T13:13:14.348Z"
   },
   {
    "duration": 14,
    "start_time": "2022-04-16T13:13:14.367Z"
   },
   {
    "duration": 195,
    "start_time": "2022-04-16T13:13:14.383Z"
   },
   {
    "duration": 8,
    "start_time": "2022-04-16T13:13:14.580Z"
   },
   {
    "duration": 139,
    "start_time": "2022-04-16T13:13:14.590Z"
   },
   {
    "duration": 14,
    "start_time": "2022-04-16T13:13:14.731Z"
   },
   {
    "duration": 11,
    "start_time": "2022-04-16T13:13:14.747Z"
   },
   {
    "duration": 12,
    "start_time": "2022-04-16T13:13:14.760Z"
   },
   {
    "duration": 394,
    "start_time": "2022-04-16T13:13:14.774Z"
   },
   {
    "duration": 258,
    "start_time": "2022-04-16T13:13:15.170Z"
   },
   {
    "duration": 342,
    "start_time": "2022-04-16T13:13:15.432Z"
   },
   {
    "duration": 4,
    "start_time": "2022-04-16T13:13:15.776Z"
   },
   {
    "duration": 345,
    "start_time": "2022-04-16T13:13:15.782Z"
   },
   {
    "duration": 381,
    "start_time": "2022-04-16T13:13:16.129Z"
   },
   {
    "duration": 14,
    "start_time": "2022-04-16T13:13:16.520Z"
   },
   {
    "duration": 152,
    "start_time": "2022-04-16T13:13:16.542Z"
   },
   {
    "duration": 174,
    "start_time": "2022-04-16T13:13:16.697Z"
   },
   {
    "duration": 5,
    "start_time": "2022-04-16T13:13:16.873Z"
   },
   {
    "duration": 201,
    "start_time": "2022-04-16T13:13:16.879Z"
   },
   {
    "duration": 186,
    "start_time": "2022-04-16T13:13:17.082Z"
   },
   {
    "duration": 125,
    "start_time": "2022-04-16T13:16:23.613Z"
   },
   {
    "duration": 9,
    "start_time": "2022-04-16T13:16:28.476Z"
   },
   {
    "duration": 27,
    "start_time": "2022-04-16T13:16:36.217Z"
   },
   {
    "duration": 17,
    "start_time": "2022-04-16T13:16:51.627Z"
   },
   {
    "duration": 13,
    "start_time": "2022-04-16T13:17:12.790Z"
   },
   {
    "duration": 14,
    "start_time": "2022-04-16T13:17:15.968Z"
   },
   {
    "duration": 17,
    "start_time": "2022-04-16T13:17:22.529Z"
   },
   {
    "duration": 10,
    "start_time": "2022-04-16T13:17:53.154Z"
   },
   {
    "duration": 205,
    "start_time": "2022-04-16T13:19:03.038Z"
   },
   {
    "duration": 191,
    "start_time": "2022-04-16T13:19:34.110Z"
   },
   {
    "duration": 267,
    "start_time": "2022-04-16T13:20:18.451Z"
   },
   {
    "duration": 252,
    "start_time": "2022-04-16T13:20:40.450Z"
   },
   {
    "duration": 209,
    "start_time": "2022-04-16T13:21:04.182Z"
   },
   {
    "duration": 249,
    "start_time": "2022-04-16T13:21:14.317Z"
   },
   {
    "duration": 206,
    "start_time": "2022-04-16T13:22:08.954Z"
   },
   {
    "duration": 206,
    "start_time": "2022-04-16T13:22:17.228Z"
   },
   {
    "duration": 192,
    "start_time": "2022-04-16T13:23:58.897Z"
   },
   {
    "duration": 197,
    "start_time": "2022-04-16T13:24:12.613Z"
   },
   {
    "duration": 5,
    "start_time": "2022-04-16T13:44:05.434Z"
   },
   {
    "duration": 5,
    "start_time": "2022-04-16T13:44:22.237Z"
   },
   {
    "duration": 5,
    "start_time": "2022-04-16T13:44:56.850Z"
   },
   {
    "duration": 10,
    "start_time": "2022-04-16T13:45:22.309Z"
   },
   {
    "duration": 5,
    "start_time": "2022-04-16T13:45:27.127Z"
   },
   {
    "duration": 105,
    "start_time": "2022-04-16T14:09:58.358Z"
   },
   {
    "duration": 101,
    "start_time": "2022-04-16T14:11:03.737Z"
   },
   {
    "duration": 213,
    "start_time": "2022-04-16T14:11:32.387Z"
   },
   {
    "duration": 7,
    "start_time": "2022-04-16T14:11:55.425Z"
   },
   {
    "duration": 10,
    "start_time": "2022-04-16T14:13:08.268Z"
   },
   {
    "duration": 11,
    "start_time": "2022-04-16T14:13:12.896Z"
   },
   {
    "duration": 10,
    "start_time": "2022-04-16T14:13:28.670Z"
   },
   {
    "duration": 127,
    "start_time": "2022-04-16T14:14:48.336Z"
   },
   {
    "duration": 6,
    "start_time": "2022-04-16T14:16:28.654Z"
   },
   {
    "duration": 14,
    "start_time": "2022-04-16T14:18:56.913Z"
   },
   {
    "duration": 139,
    "start_time": "2022-04-16T14:19:29.138Z"
   },
   {
    "duration": 435,
    "start_time": "2022-04-16T14:20:12.480Z"
   },
   {
    "duration": 178,
    "start_time": "2022-04-16T14:20:16.184Z"
   },
   {
    "duration": 177,
    "start_time": "2022-04-16T14:20:28.363Z"
   },
   {
    "duration": 10,
    "start_time": "2022-04-16T14:37:31.479Z"
   },
   {
    "duration": 57,
    "start_time": "2022-04-16T14:38:45.459Z"
   },
   {
    "duration": 1118,
    "start_time": "2022-04-16T14:43:31.100Z"
   },
   {
    "duration": 967,
    "start_time": "2022-04-16T14:43:41.179Z"
   },
   {
    "duration": 967,
    "start_time": "2022-04-16T14:43:47.179Z"
   },
   {
    "duration": 1089,
    "start_time": "2022-04-16T14:45:20.271Z"
   },
   {
    "duration": 36,
    "start_time": "2022-04-16T14:45:21.362Z"
   },
   {
    "duration": 16,
    "start_time": "2022-04-16T14:45:21.400Z"
   },
   {
    "duration": 6,
    "start_time": "2022-04-16T14:45:21.418Z"
   },
   {
    "duration": 13,
    "start_time": "2022-04-16T14:45:21.427Z"
   },
   {
    "duration": 12,
    "start_time": "2022-04-16T14:45:21.442Z"
   },
   {
    "duration": 6,
    "start_time": "2022-04-16T14:45:21.456Z"
   },
   {
    "duration": 45,
    "start_time": "2022-04-16T14:45:21.463Z"
   },
   {
    "duration": 13,
    "start_time": "2022-04-16T14:45:21.510Z"
   },
   {
    "duration": 7,
    "start_time": "2022-04-16T14:45:21.526Z"
   },
   {
    "duration": 10,
    "start_time": "2022-04-16T14:45:21.535Z"
   },
   {
    "duration": 13,
    "start_time": "2022-04-16T14:45:21.547Z"
   },
   {
    "duration": 46,
    "start_time": "2022-04-16T14:45:21.562Z"
   },
   {
    "duration": 9,
    "start_time": "2022-04-16T14:45:21.611Z"
   },
   {
    "duration": 5,
    "start_time": "2022-04-16T14:45:21.623Z"
   },
   {
    "duration": 12,
    "start_time": "2022-04-16T14:45:21.630Z"
   },
   {
    "duration": 20,
    "start_time": "2022-04-16T14:45:21.644Z"
   },
   {
    "duration": 55,
    "start_time": "2022-04-16T14:45:21.666Z"
   },
   {
    "duration": 7,
    "start_time": "2022-04-16T14:45:21.724Z"
   },
   {
    "duration": 230,
    "start_time": "2022-04-16T14:45:21.734Z"
   },
   {
    "duration": 9,
    "start_time": "2022-04-16T14:45:21.966Z"
   },
   {
    "duration": 146,
    "start_time": "2022-04-16T14:45:21.977Z"
   },
   {
    "duration": 8,
    "start_time": "2022-04-16T14:45:22.125Z"
   },
   {
    "duration": 8,
    "start_time": "2022-04-16T14:45:22.135Z"
   },
   {
    "duration": 19,
    "start_time": "2022-04-16T14:45:22.144Z"
   },
   {
    "duration": 369,
    "start_time": "2022-04-16T14:45:22.165Z"
   },
   {
    "duration": 286,
    "start_time": "2022-04-16T14:45:22.535Z"
   },
   {
    "duration": 444,
    "start_time": "2022-04-16T14:45:22.826Z"
   },
   {
    "duration": 6,
    "start_time": "2022-04-16T14:45:23.272Z"
   },
   {
    "duration": 289,
    "start_time": "2022-04-16T14:45:23.280Z"
   },
   {
    "duration": 394,
    "start_time": "2022-04-16T14:45:23.571Z"
   },
   {
    "duration": 10,
    "start_time": "2022-04-16T14:45:23.969Z"
   },
   {
    "duration": 197,
    "start_time": "2022-04-16T14:45:23.981Z"
   },
   {
    "duration": 196,
    "start_time": "2022-04-16T14:45:24.180Z"
   },
   {
    "duration": 5,
    "start_time": "2022-04-16T14:45:24.377Z"
   },
   {
    "duration": 25,
    "start_time": "2022-04-16T14:45:24.384Z"
   },
   {
    "duration": 182,
    "start_time": "2022-04-16T14:45:24.411Z"
   },
   {
    "duration": 15,
    "start_time": "2022-04-16T14:45:24.595Z"
   },
   {
    "duration": 314,
    "start_time": "2022-04-16T14:45:24.612Z"
   },
   {
    "duration": 11,
    "start_time": "2022-04-16T14:45:24.928Z"
   },
   {
    "duration": 230,
    "start_time": "2022-04-16T14:45:24.946Z"
   },
   {
    "duration": 7,
    "start_time": "2022-04-16T14:45:25.178Z"
   },
   {
    "duration": 229,
    "start_time": "2022-04-16T14:45:25.187Z"
   },
   {
    "duration": 17,
    "start_time": "2022-04-16T14:45:25.419Z"
   },
   {
    "duration": 1176,
    "start_time": "2022-04-16T14:45:25.437Z"
   },
   {
    "duration": 9,
    "start_time": "2022-04-16T14:46:04.289Z"
   },
   {
    "duration": 179,
    "start_time": "2022-04-16T14:46:18.971Z"
   },
   {
    "duration": 14,
    "start_time": "2022-04-16T14:46:29.307Z"
   },
   {
    "duration": 10,
    "start_time": "2022-04-16T14:46:35.392Z"
   },
   {
    "duration": 12,
    "start_time": "2022-04-16T14:47:25.122Z"
   },
   {
    "duration": 12,
    "start_time": "2022-04-16T14:47:35.413Z"
   },
   {
    "duration": 1102,
    "start_time": "2022-04-16T14:47:52.859Z"
   },
   {
    "duration": 36,
    "start_time": "2022-04-16T14:47:53.965Z"
   },
   {
    "duration": 13,
    "start_time": "2022-04-16T14:47:54.004Z"
   },
   {
    "duration": 4,
    "start_time": "2022-04-16T14:47:54.021Z"
   },
   {
    "duration": 13,
    "start_time": "2022-04-16T14:47:54.028Z"
   },
   {
    "duration": 11,
    "start_time": "2022-04-16T14:47:54.043Z"
   },
   {
    "duration": 5,
    "start_time": "2022-04-16T14:47:54.057Z"
   },
   {
    "duration": 57,
    "start_time": "2022-04-16T14:47:54.064Z"
   },
   {
    "duration": 15,
    "start_time": "2022-04-16T14:47:54.122Z"
   },
   {
    "duration": 6,
    "start_time": "2022-04-16T14:47:54.141Z"
   },
   {
    "duration": 10,
    "start_time": "2022-04-16T14:47:54.149Z"
   },
   {
    "duration": 56,
    "start_time": "2022-04-16T14:47:54.161Z"
   },
   {
    "duration": 5,
    "start_time": "2022-04-16T14:47:54.219Z"
   },
   {
    "duration": 10,
    "start_time": "2022-04-16T14:47:54.226Z"
   },
   {
    "duration": 7,
    "start_time": "2022-04-16T14:47:54.238Z"
   },
   {
    "duration": 65,
    "start_time": "2022-04-16T14:47:54.247Z"
   },
   {
    "duration": 20,
    "start_time": "2022-04-16T14:47:54.314Z"
   },
   {
    "duration": 18,
    "start_time": "2022-04-16T14:47:54.335Z"
   },
   {
    "duration": 56,
    "start_time": "2022-04-16T14:47:54.355Z"
   },
   {
    "duration": 207,
    "start_time": "2022-04-16T14:47:54.413Z"
   },
   {
    "duration": 11,
    "start_time": "2022-04-16T14:47:54.622Z"
   },
   {
    "duration": 176,
    "start_time": "2022-04-16T14:47:54.635Z"
   },
   {
    "duration": 9,
    "start_time": "2022-04-16T14:47:54.813Z"
   },
   {
    "duration": 9,
    "start_time": "2022-04-16T14:47:54.825Z"
   },
   {
    "duration": 11,
    "start_time": "2022-04-16T14:47:54.835Z"
   },
   {
    "duration": 380,
    "start_time": "2022-04-16T14:47:54.849Z"
   },
   {
    "duration": 272,
    "start_time": "2022-04-16T14:47:55.231Z"
   },
   {
    "duration": 380,
    "start_time": "2022-04-16T14:47:55.506Z"
   },
   {
    "duration": 4,
    "start_time": "2022-04-16T14:47:55.889Z"
   },
   {
    "duration": 292,
    "start_time": "2022-04-16T14:47:55.895Z"
   },
   {
    "duration": 412,
    "start_time": "2022-04-16T14:47:56.189Z"
   },
   {
    "duration": 14,
    "start_time": "2022-04-16T14:47:56.603Z"
   },
   {
    "duration": 219,
    "start_time": "2022-04-16T14:47:56.620Z"
   },
   {
    "duration": 226,
    "start_time": "2022-04-16T14:47:56.841Z"
   },
   {
    "duration": 8,
    "start_time": "2022-04-16T14:47:57.069Z"
   },
   {
    "duration": 39,
    "start_time": "2022-04-16T14:47:57.080Z"
   },
   {
    "duration": 206,
    "start_time": "2022-04-16T14:47:57.122Z"
   },
   {
    "duration": 6,
    "start_time": "2022-04-16T14:47:57.331Z"
   },
   {
    "duration": 297,
    "start_time": "2022-04-16T14:47:57.340Z"
   },
   {
    "duration": 10,
    "start_time": "2022-04-16T14:47:57.639Z"
   },
   {
    "duration": 158,
    "start_time": "2022-04-16T14:47:57.651Z"
   },
   {
    "duration": 6,
    "start_time": "2022-04-16T14:47:57.811Z"
   },
   {
    "duration": 176,
    "start_time": "2022-04-16T14:47:57.819Z"
   },
   {
    "duration": 20,
    "start_time": "2022-04-16T14:47:57.997Z"
   },
   {
    "duration": 13,
    "start_time": "2022-04-16T14:47:58.018Z"
   },
   {
    "duration": 12,
    "start_time": "2022-04-16T14:48:31.137Z"
   },
   {
    "duration": 12,
    "start_time": "2022-04-16T14:48:35.318Z"
   },
   {
    "duration": 10,
    "start_time": "2022-04-16T14:49:40.576Z"
   },
   {
    "duration": 11,
    "start_time": "2022-04-16T14:49:49.371Z"
   },
   {
    "duration": 19,
    "start_time": "2022-04-16T14:49:52.717Z"
   },
   {
    "duration": 13,
    "start_time": "2022-04-16T14:50:00.080Z"
   },
   {
    "duration": 17,
    "start_time": "2022-04-16T14:52:08.714Z"
   },
   {
    "duration": 25,
    "start_time": "2022-04-16T14:52:20.301Z"
   },
   {
    "duration": 73,
    "start_time": "2022-04-16T14:53:15.216Z"
   },
   {
    "duration": 25,
    "start_time": "2022-04-16T14:54:43.836Z"
   },
   {
    "duration": 1198,
    "start_time": "2022-04-16T15:13:28.124Z"
   },
   {
    "duration": 13,
    "start_time": "2022-04-16T15:13:45.668Z"
   },
   {
    "duration": 56,
    "start_time": "2022-04-18T06:16:36.120Z"
   },
   {
    "duration": 1323,
    "start_time": "2022-04-18T06:16:44.492Z"
   },
   {
    "duration": 69,
    "start_time": "2022-04-18T06:16:45.818Z"
   },
   {
    "duration": 13,
    "start_time": "2022-04-18T06:16:45.889Z"
   },
   {
    "duration": 5,
    "start_time": "2022-04-18T06:16:45.904Z"
   },
   {
    "duration": 17,
    "start_time": "2022-04-18T06:16:45.911Z"
   },
   {
    "duration": 12,
    "start_time": "2022-04-18T06:16:45.930Z"
   },
   {
    "duration": 8,
    "start_time": "2022-04-18T06:16:45.944Z"
   },
   {
    "duration": 15,
    "start_time": "2022-04-18T06:16:45.954Z"
   },
   {
    "duration": 11,
    "start_time": "2022-04-18T06:16:45.971Z"
   },
   {
    "duration": 6,
    "start_time": "2022-04-18T06:16:45.985Z"
   },
   {
    "duration": 9,
    "start_time": "2022-04-18T06:16:45.993Z"
   },
   {
    "duration": 29,
    "start_time": "2022-04-18T06:16:46.004Z"
   },
   {
    "duration": 6,
    "start_time": "2022-04-18T06:16:46.035Z"
   },
   {
    "duration": 11,
    "start_time": "2022-04-18T06:16:46.043Z"
   },
   {
    "duration": 7,
    "start_time": "2022-04-18T06:16:46.055Z"
   },
   {
    "duration": 11,
    "start_time": "2022-04-18T06:16:46.064Z"
   },
   {
    "duration": 21,
    "start_time": "2022-04-18T06:16:46.077Z"
   },
   {
    "duration": 38,
    "start_time": "2022-04-18T06:16:46.100Z"
   },
   {
    "duration": 9,
    "start_time": "2022-04-18T06:16:46.140Z"
   },
   {
    "duration": 178,
    "start_time": "2022-04-18T06:16:46.151Z"
   },
   {
    "duration": 9,
    "start_time": "2022-04-18T06:16:46.330Z"
   },
   {
    "duration": 136,
    "start_time": "2022-04-18T06:16:46.341Z"
   },
   {
    "duration": 11,
    "start_time": "2022-04-18T06:16:46.479Z"
   },
   {
    "duration": 9,
    "start_time": "2022-04-18T06:16:46.492Z"
   },
   {
    "duration": 12,
    "start_time": "2022-04-18T06:16:46.503Z"
   },
   {
    "duration": 338,
    "start_time": "2022-04-18T06:16:46.534Z"
   },
   {
    "duration": 468,
    "start_time": "2022-04-18T06:16:46.874Z"
   },
   {
    "duration": 690,
    "start_time": "2022-04-18T06:16:47.346Z"
   },
   {
    "duration": 4,
    "start_time": "2022-04-18T06:16:48.038Z"
   },
   {
    "duration": 531,
    "start_time": "2022-04-18T06:16:48.044Z"
   },
   {
    "duration": 423,
    "start_time": "2022-04-18T06:16:48.576Z"
   },
   {
    "duration": 11,
    "start_time": "2022-04-18T06:16:49.000Z"
   },
   {
    "duration": 193,
    "start_time": "2022-04-18T06:16:49.012Z"
   },
   {
    "duration": 187,
    "start_time": "2022-04-18T06:16:49.207Z"
   },
   {
    "duration": 5,
    "start_time": "2022-04-18T06:16:49.396Z"
   },
   {
    "duration": 15,
    "start_time": "2022-04-18T06:16:49.402Z"
   },
   {
    "duration": 232,
    "start_time": "2022-04-18T06:16:49.418Z"
   },
   {
    "duration": 5,
    "start_time": "2022-04-18T06:16:49.652Z"
   },
   {
    "duration": 234,
    "start_time": "2022-04-18T06:16:49.659Z"
   },
   {
    "duration": 11,
    "start_time": "2022-04-18T06:16:49.894Z"
   },
   {
    "duration": 212,
    "start_time": "2022-04-18T06:16:49.906Z"
   },
   {
    "duration": 15,
    "start_time": "2022-04-18T06:16:50.120Z"
   },
   {
    "duration": 188,
    "start_time": "2022-04-18T06:16:50.137Z"
   },
   {
    "duration": 15,
    "start_time": "2022-04-18T06:16:50.327Z"
   },
   {
    "duration": 11,
    "start_time": "2022-04-18T06:16:50.344Z"
   },
   {
    "duration": 9,
    "start_time": "2022-04-18T06:16:50.357Z"
   },
   {
    "duration": 29,
    "start_time": "2022-04-18T06:16:50.368Z"
   },
   {
    "duration": 44,
    "start_time": "2022-04-18T06:16:50.399Z"
   },
   {
    "duration": 222,
    "start_time": "2022-04-18T06:17:11.579Z"
   },
   {
    "duration": 302,
    "start_time": "2022-04-18T06:17:22.152Z"
   },
   {
    "duration": 221,
    "start_time": "2022-04-18T06:17:27.876Z"
   },
   {
    "duration": 337,
    "start_time": "2022-04-18T06:26:37.168Z"
   },
   {
    "duration": 514,
    "start_time": "2022-04-18T06:26:45.444Z"
   },
   {
    "duration": 370,
    "start_time": "2022-04-18T06:26:51.324Z"
   },
   {
    "duration": 13,
    "start_time": "2022-04-18T11:36:06.452Z"
   },
   {
    "duration": 12,
    "start_time": "2022-04-18T11:38:44.696Z"
   },
   {
    "duration": 13,
    "start_time": "2022-04-18T11:38:50.282Z"
   },
   {
    "duration": 15,
    "start_time": "2022-04-18T11:39:38.758Z"
   },
   {
    "duration": 16,
    "start_time": "2022-04-18T11:39:43.822Z"
   },
   {
    "duration": 13,
    "start_time": "2022-04-18T11:39:56.431Z"
   },
   {
    "duration": 13,
    "start_time": "2022-04-18T11:40:07.493Z"
   },
   {
    "duration": 165,
    "start_time": "2022-04-18T11:41:14.850Z"
   },
   {
    "duration": 9,
    "start_time": "2022-04-18T11:47:28.886Z"
   },
   {
    "duration": 5,
    "start_time": "2022-04-18T11:47:49.179Z"
   },
   {
    "duration": 4,
    "start_time": "2022-04-18T11:47:53.427Z"
   },
   {
    "duration": 5,
    "start_time": "2022-04-18T11:47:54.203Z"
   },
   {
    "duration": 4,
    "start_time": "2022-04-18T11:47:58.167Z"
   },
   {
    "duration": 4,
    "start_time": "2022-04-18T11:48:02.993Z"
   },
   {
    "duration": 216,
    "start_time": "2022-04-18T11:54:35.899Z"
   },
   {
    "duration": 208,
    "start_time": "2022-04-18T11:54:43.809Z"
   },
   {
    "duration": 215,
    "start_time": "2022-04-18T11:54:49.750Z"
   },
   {
    "duration": 234,
    "start_time": "2022-04-18T11:54:58.490Z"
   },
   {
    "duration": 344,
    "start_time": "2022-04-18T11:55:06.912Z"
   },
   {
    "duration": 240,
    "start_time": "2022-04-18T11:55:14.539Z"
   },
   {
    "duration": 230,
    "start_time": "2022-04-18T11:56:39.096Z"
   },
   {
    "duration": 337,
    "start_time": "2022-04-18T11:56:53.138Z"
   },
   {
    "duration": 215,
    "start_time": "2022-04-18T11:57:05.164Z"
   },
   {
    "duration": 228,
    "start_time": "2022-04-18T11:57:11.577Z"
   },
   {
    "duration": 224,
    "start_time": "2022-04-18T11:57:57.963Z"
   },
   {
    "duration": 237,
    "start_time": "2022-04-18T11:58:04.556Z"
   },
   {
    "duration": 236,
    "start_time": "2022-04-18T11:58:14.940Z"
   },
   {
    "duration": 225,
    "start_time": "2022-04-18T12:00:15.444Z"
   },
   {
    "duration": 7,
    "start_time": "2022-04-18T12:05:48.778Z"
   },
   {
    "duration": 379,
    "start_time": "2022-04-18T12:05:49.907Z"
   },
   {
    "duration": 345,
    "start_time": "2022-04-18T12:05:56.825Z"
   },
   {
    "duration": 325,
    "start_time": "2022-04-18T12:06:06.998Z"
   },
   {
    "duration": 313,
    "start_time": "2022-04-18T12:06:10.451Z"
   },
   {
    "duration": 316,
    "start_time": "2022-04-18T12:06:31.696Z"
   },
   {
    "duration": 309,
    "start_time": "2022-04-18T12:16:53.081Z"
   },
   {
    "duration": 326,
    "start_time": "2022-04-18T12:16:59.069Z"
   },
   {
    "duration": 240,
    "start_time": "2022-04-18T12:17:15.181Z"
   },
   {
    "duration": 253,
    "start_time": "2022-04-18T12:18:46.341Z"
   },
   {
    "duration": 246,
    "start_time": "2022-04-18T12:18:50.659Z"
   },
   {
    "duration": 262,
    "start_time": "2022-04-18T12:18:58.818Z"
   },
   {
    "duration": 248,
    "start_time": "2022-04-18T12:20:07.147Z"
   },
   {
    "duration": 238,
    "start_time": "2022-04-18T12:20:20.091Z"
   },
   {
    "duration": 8,
    "start_time": "2022-04-18T12:24:43.216Z"
   },
   {
    "duration": 226,
    "start_time": "2022-04-18T12:25:46.659Z"
   },
   {
    "duration": 202,
    "start_time": "2022-04-18T12:26:15.824Z"
   },
   {
    "duration": 210,
    "start_time": "2022-04-18T12:26:24.420Z"
   },
   {
    "duration": 232,
    "start_time": "2022-04-18T12:26:31.127Z"
   },
   {
    "duration": 230,
    "start_time": "2022-04-18T12:27:01.158Z"
   },
   {
    "duration": 221,
    "start_time": "2022-04-18T12:27:10.740Z"
   },
   {
    "duration": 241,
    "start_time": "2022-04-18T12:27:17.900Z"
   },
   {
    "duration": 259,
    "start_time": "2022-04-18T12:27:38.500Z"
   },
   {
    "duration": 15,
    "start_time": "2022-04-18T12:36:13.984Z"
   },
   {
    "duration": 299,
    "start_time": "2022-04-18T12:36:27.287Z"
   },
   {
    "duration": 154,
    "start_time": "2022-04-18T12:36:33.268Z"
   },
   {
    "duration": 146,
    "start_time": "2022-04-18T12:36:35.192Z"
   },
   {
    "duration": 150,
    "start_time": "2022-04-18T12:36:46.056Z"
   },
   {
    "duration": 155,
    "start_time": "2022-04-18T12:36:58.036Z"
   },
   {
    "duration": 163,
    "start_time": "2022-04-18T12:37:49.349Z"
   },
   {
    "duration": 177,
    "start_time": "2022-04-18T13:02:12.456Z"
   },
   {
    "duration": 51,
    "start_time": "2022-04-18T13:11:41.478Z"
   },
   {
    "duration": 8,
    "start_time": "2022-04-18T13:11:51.073Z"
   },
   {
    "duration": 8,
    "start_time": "2022-04-18T13:12:02.809Z"
   },
   {
    "duration": 67,
    "start_time": "2022-04-18T13:12:35.439Z"
   },
   {
    "duration": 8,
    "start_time": "2022-04-18T13:12:40.114Z"
   },
   {
    "duration": 158,
    "start_time": "2022-04-18T13:13:27.218Z"
   },
   {
    "duration": 62,
    "start_time": "2022-04-18T13:14:29.623Z"
   },
   {
    "duration": 8,
    "start_time": "2022-04-18T13:14:38.485Z"
   },
   {
    "duration": 8,
    "start_time": "2022-04-18T13:14:44.459Z"
   },
   {
    "duration": 10,
    "start_time": "2022-04-18T13:14:46.387Z"
   },
   {
    "duration": 8,
    "start_time": "2022-04-18T13:14:53.016Z"
   },
   {
    "duration": 175,
    "start_time": "2022-04-18T13:15:04.473Z"
   },
   {
    "duration": 8,
    "start_time": "2022-04-18T13:15:18.307Z"
   },
   {
    "duration": 8,
    "start_time": "2022-04-18T13:15:20.299Z"
   },
   {
    "duration": 170,
    "start_time": "2022-04-18T13:15:21.535Z"
   },
   {
    "duration": 52,
    "start_time": "2022-04-18T13:15:24.987Z"
   },
   {
    "duration": 8,
    "start_time": "2022-04-18T13:15:26.598Z"
   },
   {
    "duration": 62,
    "start_time": "2022-04-18T13:15:32.067Z"
   },
   {
    "duration": 7,
    "start_time": "2022-04-18T13:15:33.347Z"
   },
   {
    "duration": 64,
    "start_time": "2022-04-18T13:15:35.767Z"
   },
   {
    "duration": 8,
    "start_time": "2022-04-18T13:15:36.615Z"
   },
   {
    "duration": 7,
    "start_time": "2022-04-18T13:17:56.157Z"
   },
   {
    "duration": 7,
    "start_time": "2022-04-18T13:18:07.075Z"
   },
   {
    "duration": 7,
    "start_time": "2022-04-18T13:20:07.676Z"
   },
   {
    "duration": 8,
    "start_time": "2022-04-18T13:20:35.050Z"
   },
   {
    "duration": 36,
    "start_time": "2022-04-18T13:21:53.018Z"
   },
   {
    "duration": 10,
    "start_time": "2022-04-18T13:21:58.780Z"
   },
   {
    "duration": 6,
    "start_time": "2022-04-18T13:23:36.661Z"
   },
   {
    "duration": 7,
    "start_time": "2022-04-18T13:23:47.493Z"
   },
   {
    "duration": 5,
    "start_time": "2022-04-18T13:24:10.039Z"
   },
   {
    "duration": 13,
    "start_time": "2022-04-18T13:24:13.889Z"
   },
   {
    "duration": 5,
    "start_time": "2022-04-18T13:24:15.698Z"
   },
   {
    "duration": 6,
    "start_time": "2022-04-18T13:26:11.915Z"
   },
   {
    "duration": 4,
    "start_time": "2022-04-18T14:04:43.446Z"
   },
   {
    "duration": 6,
    "start_time": "2022-04-18T14:04:53.040Z"
   },
   {
    "duration": 5,
    "start_time": "2022-04-18T14:04:56.097Z"
   },
   {
    "duration": 5,
    "start_time": "2022-04-18T14:05:01.426Z"
   },
   {
    "duration": 84,
    "start_time": "2022-04-18T14:06:05.689Z"
   },
   {
    "duration": 10,
    "start_time": "2022-04-18T14:06:07.890Z"
   },
   {
    "duration": 7,
    "start_time": "2022-04-18T14:06:13.361Z"
   },
   {
    "duration": 9,
    "start_time": "2022-04-18T14:07:38.926Z"
   },
   {
    "duration": 7,
    "start_time": "2022-04-18T14:07:44.298Z"
   },
   {
    "duration": 83,
    "start_time": "2022-04-18T14:07:52.786Z"
   },
   {
    "duration": 1215,
    "start_time": "2022-04-18T14:08:29.686Z"
   },
   {
    "duration": 69,
    "start_time": "2022-04-18T14:08:30.903Z"
   },
   {
    "duration": 12,
    "start_time": "2022-04-18T14:08:30.973Z"
   },
   {
    "duration": 18,
    "start_time": "2022-04-18T14:08:30.987Z"
   },
   {
    "duration": 27,
    "start_time": "2022-04-18T14:08:31.007Z"
   },
   {
    "duration": 28,
    "start_time": "2022-04-18T14:08:31.035Z"
   },
   {
    "duration": 19,
    "start_time": "2022-04-18T14:08:31.065Z"
   },
   {
    "duration": 15,
    "start_time": "2022-04-18T14:08:31.086Z"
   },
   {
    "duration": 38,
    "start_time": "2022-04-18T14:08:31.103Z"
   },
   {
    "duration": 20,
    "start_time": "2022-04-18T14:08:31.144Z"
   },
   {
    "duration": 35,
    "start_time": "2022-04-18T14:08:31.166Z"
   },
   {
    "duration": 38,
    "start_time": "2022-04-18T14:08:31.202Z"
   },
   {
    "duration": 12,
    "start_time": "2022-04-18T14:08:31.242Z"
   },
   {
    "duration": 24,
    "start_time": "2022-04-18T14:08:31.256Z"
   },
   {
    "duration": 26,
    "start_time": "2022-04-18T14:08:31.282Z"
   },
   {
    "duration": 23,
    "start_time": "2022-04-18T14:08:31.310Z"
   },
   {
    "duration": 33,
    "start_time": "2022-04-18T14:08:31.335Z"
   },
   {
    "duration": 16,
    "start_time": "2022-04-18T14:08:31.370Z"
   },
   {
    "duration": 21,
    "start_time": "2022-04-18T14:08:31.388Z"
   },
   {
    "duration": 27,
    "start_time": "2022-04-18T14:08:31.411Z"
   },
   {
    "duration": 22,
    "start_time": "2022-04-18T14:08:31.440Z"
   },
   {
    "duration": 27,
    "start_time": "2022-04-18T14:08:31.464Z"
   },
   {
    "duration": 182,
    "start_time": "2022-04-18T14:08:31.493Z"
   },
   {
    "duration": 9,
    "start_time": "2022-04-18T14:08:31.677Z"
   },
   {
    "duration": 133,
    "start_time": "2022-04-18T14:08:31.688Z"
   },
   {
    "duration": 12,
    "start_time": "2022-04-18T14:08:31.823Z"
   },
   {
    "duration": 22,
    "start_time": "2022-04-18T14:08:31.837Z"
   },
   {
    "duration": 23,
    "start_time": "2022-04-18T14:08:31.864Z"
   },
   {
    "duration": 30,
    "start_time": "2022-04-18T14:08:31.889Z"
   },
   {
    "duration": 339,
    "start_time": "2022-04-18T14:08:31.921Z"
   },
   {
    "duration": 242,
    "start_time": "2022-04-18T14:08:32.262Z"
   },
   {
    "duration": 6,
    "start_time": "2022-04-18T14:08:32.506Z"
   },
   {
    "duration": 355,
    "start_time": "2022-04-18T14:08:32.513Z"
   },
   {
    "duration": 4,
    "start_time": "2022-04-18T14:08:32.870Z"
   },
   {
    "duration": 11,
    "start_time": "2022-04-18T14:08:32.876Z"
   },
   {
    "duration": 254,
    "start_time": "2022-04-18T14:08:32.889Z"
   },
   {
    "duration": 9,
    "start_time": "2022-04-18T14:08:33.145Z"
   },
   {
    "duration": 245,
    "start_time": "2022-04-18T14:08:33.155Z"
   },
   {
    "duration": 10,
    "start_time": "2022-04-18T14:08:33.402Z"
   },
   {
    "duration": 167,
    "start_time": "2022-04-18T14:08:33.414Z"
   },
   {
    "duration": 178,
    "start_time": "2022-04-18T14:08:33.583Z"
   },
   {
    "duration": 4,
    "start_time": "2022-04-18T14:08:33.763Z"
   },
   {
    "duration": 15,
    "start_time": "2022-04-18T14:08:33.769Z"
   },
   {
    "duration": 195,
    "start_time": "2022-04-18T14:08:33.786Z"
   },
   {
    "duration": 4,
    "start_time": "2022-04-18T14:08:33.983Z"
   },
   {
    "duration": 162,
    "start_time": "2022-04-18T14:08:33.989Z"
   },
   {
    "duration": 11,
    "start_time": "2022-04-18T14:08:34.153Z"
   },
   {
    "duration": 9,
    "start_time": "2022-04-18T14:08:34.166Z"
   },
   {
    "duration": 67,
    "start_time": "2022-04-18T14:08:34.178Z"
   },
   {
    "duration": 12,
    "start_time": "2022-04-18T14:08:34.247Z"
   },
   {
    "duration": 12,
    "start_time": "2022-04-18T14:08:34.261Z"
   },
   {
    "duration": 77,
    "start_time": "2022-04-18T14:08:34.275Z"
   },
   {
    "duration": 8,
    "start_time": "2022-04-18T14:08:34.354Z"
   },
   {
    "duration": 13,
    "start_time": "2022-04-18T14:08:34.365Z"
   },
   {
    "duration": 85,
    "start_time": "2022-04-18T14:08:34.380Z"
   },
   {
    "duration": 8,
    "start_time": "2022-04-18T14:08:34.467Z"
   },
   {
    "duration": 11,
    "start_time": "2022-04-18T14:08:34.476Z"
   },
   {
    "duration": 23,
    "start_time": "2022-04-18T14:08:34.489Z"
   },
   {
    "duration": 11,
    "start_time": "2022-04-18T14:08:34.533Z"
   },
   {
    "duration": 157,
    "start_time": "2022-04-18T14:08:34.546Z"
   },
   {
    "duration": 8,
    "start_time": "2022-04-18T14:08:34.704Z"
   },
   {
    "duration": 24,
    "start_time": "2022-04-18T14:08:34.714Z"
   },
   {
    "duration": 10,
    "start_time": "2022-04-18T14:08:34.741Z"
   },
   {
    "duration": 9,
    "start_time": "2022-04-18T14:08:34.753Z"
   },
   {
    "duration": 103,
    "start_time": "2022-04-18T14:08:34.764Z"
   },
   {
    "duration": 6,
    "start_time": "2022-04-18T14:08:34.869Z"
   },
   {
    "duration": 88,
    "start_time": "2022-04-18T14:08:34.877Z"
   },
   {
    "duration": 5,
    "start_time": "2022-04-18T14:08:34.967Z"
   },
   {
    "duration": 9,
    "start_time": "2022-04-18T14:08:34.974Z"
   },
   {
    "duration": 28,
    "start_time": "2022-04-18T14:08:34.985Z"
   },
   {
    "duration": 12,
    "start_time": "2022-04-18T14:08:35.034Z"
   },
   {
    "duration": 12,
    "start_time": "2022-04-18T14:08:35.048Z"
   },
   {
    "duration": 12,
    "start_time": "2022-04-18T14:08:35.062Z"
   },
   {
    "duration": 61,
    "start_time": "2022-04-18T14:08:35.075Z"
   },
   {
    "duration": 15,
    "start_time": "2022-04-18T14:08:35.138Z"
   },
   {
    "duration": 5,
    "start_time": "2022-04-18T14:12:51.048Z"
   },
   {
    "duration": 9,
    "start_time": "2022-04-18T14:13:31.989Z"
   },
   {
    "duration": 6,
    "start_time": "2022-04-18T14:13:35.826Z"
   },
   {
    "duration": 1233,
    "start_time": "2022-04-18T14:13:44.460Z"
   },
   {
    "duration": 59,
    "start_time": "2022-04-18T14:13:45.695Z"
   },
   {
    "duration": 13,
    "start_time": "2022-04-18T14:13:45.756Z"
   },
   {
    "duration": 7,
    "start_time": "2022-04-18T14:13:45.771Z"
   },
   {
    "duration": 16,
    "start_time": "2022-04-18T14:13:45.779Z"
   },
   {
    "duration": 12,
    "start_time": "2022-04-18T14:13:45.797Z"
   },
   {
    "duration": 9,
    "start_time": "2022-04-18T14:13:45.811Z"
   },
   {
    "duration": 13,
    "start_time": "2022-04-18T14:13:45.821Z"
   },
   {
    "duration": 8,
    "start_time": "2022-04-18T14:13:45.836Z"
   },
   {
    "duration": 7,
    "start_time": "2022-04-18T14:13:45.847Z"
   },
   {
    "duration": 9,
    "start_time": "2022-04-18T14:13:45.856Z"
   },
   {
    "duration": 15,
    "start_time": "2022-04-18T14:13:45.867Z"
   },
   {
    "duration": 9,
    "start_time": "2022-04-18T14:13:45.884Z"
   },
   {
    "duration": 40,
    "start_time": "2022-04-18T14:13:45.895Z"
   },
   {
    "duration": 6,
    "start_time": "2022-04-18T14:13:45.936Z"
   },
   {
    "duration": 12,
    "start_time": "2022-04-18T14:13:45.944Z"
   },
   {
    "duration": 18,
    "start_time": "2022-04-18T14:13:45.958Z"
   },
   {
    "duration": 11,
    "start_time": "2022-04-18T14:13:45.978Z"
   },
   {
    "duration": 13,
    "start_time": "2022-04-18T14:13:45.991Z"
   },
   {
    "duration": 31,
    "start_time": "2022-04-18T14:13:46.005Z"
   },
   {
    "duration": 7,
    "start_time": "2022-04-18T14:13:46.038Z"
   },
   {
    "duration": 8,
    "start_time": "2022-04-18T14:13:46.047Z"
   },
   {
    "duration": 187,
    "start_time": "2022-04-18T14:13:46.057Z"
   },
   {
    "duration": 9,
    "start_time": "2022-04-18T14:13:46.245Z"
   },
   {
    "duration": 141,
    "start_time": "2022-04-18T14:13:46.256Z"
   },
   {
    "duration": 9,
    "start_time": "2022-04-18T14:13:46.399Z"
   },
   {
    "duration": 24,
    "start_time": "2022-04-18T14:13:46.410Z"
   },
   {
    "duration": 13,
    "start_time": "2022-04-18T14:13:46.439Z"
   },
   {
    "duration": 8,
    "start_time": "2022-04-18T14:13:46.454Z"
   },
   {
    "duration": 345,
    "start_time": "2022-04-18T14:13:46.464Z"
   },
   {
    "duration": 256,
    "start_time": "2022-04-18T14:13:46.810Z"
   },
   {
    "duration": 7,
    "start_time": "2022-04-18T14:13:47.068Z"
   },
   {
    "duration": 332,
    "start_time": "2022-04-18T14:13:47.077Z"
   },
   {
    "duration": 4,
    "start_time": "2022-04-18T14:13:47.411Z"
   },
   {
    "duration": 18,
    "start_time": "2022-04-18T14:13:47.417Z"
   },
   {
    "duration": 247,
    "start_time": "2022-04-18T14:13:47.437Z"
   },
   {
    "duration": 9,
    "start_time": "2022-04-18T14:13:47.686Z"
   },
   {
    "duration": 242,
    "start_time": "2022-04-18T14:13:47.697Z"
   },
   {
    "duration": 11,
    "start_time": "2022-04-18T14:13:47.941Z"
   },
   {
    "duration": 174,
    "start_time": "2022-04-18T14:13:47.954Z"
   },
   {
    "duration": 168,
    "start_time": "2022-04-18T14:13:48.130Z"
   },
   {
    "duration": 4,
    "start_time": "2022-04-18T14:13:48.300Z"
   },
   {
    "duration": 15,
    "start_time": "2022-04-18T14:13:48.306Z"
   },
   {
    "duration": 176,
    "start_time": "2022-04-18T14:13:48.334Z"
   },
   {
    "duration": 5,
    "start_time": "2022-04-18T14:13:48.511Z"
   },
   {
    "duration": 136,
    "start_time": "2022-04-18T14:13:48.517Z"
   },
   {
    "duration": 20,
    "start_time": "2022-04-18T14:13:48.655Z"
   },
   {
    "duration": 11,
    "start_time": "2022-04-18T14:13:48.677Z"
   },
   {
    "duration": 62,
    "start_time": "2022-04-18T14:13:48.690Z"
   },
   {
    "duration": 14,
    "start_time": "2022-04-18T14:13:48.754Z"
   },
   {
    "duration": 12,
    "start_time": "2022-04-18T14:13:48.770Z"
   },
   {
    "duration": 71,
    "start_time": "2022-04-18T14:13:48.784Z"
   },
   {
    "duration": 8,
    "start_time": "2022-04-18T14:13:48.857Z"
   },
   {
    "duration": 11,
    "start_time": "2022-04-18T14:13:48.867Z"
   },
   {
    "duration": 75,
    "start_time": "2022-04-18T14:13:48.880Z"
   },
   {
    "duration": 8,
    "start_time": "2022-04-18T14:13:48.957Z"
   },
   {
    "duration": 12,
    "start_time": "2022-04-18T14:13:48.967Z"
   },
   {
    "duration": 31,
    "start_time": "2022-04-18T14:13:48.980Z"
   },
   {
    "duration": 24,
    "start_time": "2022-04-18T14:13:49.012Z"
   },
   {
    "duration": 238,
    "start_time": "2022-04-18T14:13:49.038Z"
   },
   {
    "duration": 60,
    "start_time": "2022-04-18T14:13:49.278Z"
   },
   {
    "duration": 10,
    "start_time": "2022-04-18T14:13:49.340Z"
   },
   {
    "duration": 11,
    "start_time": "2022-04-18T14:13:49.351Z"
   },
   {
    "duration": 7,
    "start_time": "2022-04-18T14:13:49.364Z"
   },
   {
    "duration": 177,
    "start_time": "2022-04-18T14:13:49.373Z"
   },
   {
    "duration": 7,
    "start_time": "2022-04-18T14:13:49.551Z"
   },
   {
    "duration": 182,
    "start_time": "2022-04-18T14:13:49.560Z"
   },
   {
    "duration": 14,
    "start_time": "2022-04-18T14:13:49.744Z"
   },
   {
    "duration": 41,
    "start_time": "2022-04-18T14:13:49.760Z"
   },
   {
    "duration": 9,
    "start_time": "2022-04-18T14:13:49.834Z"
   },
   {
    "duration": 11,
    "start_time": "2022-04-18T14:13:49.844Z"
   },
   {
    "duration": 29,
    "start_time": "2022-04-18T14:13:49.856Z"
   },
   {
    "duration": 12,
    "start_time": "2022-04-18T14:13:49.934Z"
   },
   {
    "duration": 13,
    "start_time": "2022-04-18T14:13:49.948Z"
   },
   {
    "duration": 9,
    "start_time": "2022-04-18T14:13:49.963Z"
   },
   {
    "duration": 78,
    "start_time": "2022-04-18T14:13:49.974Z"
   },
   {
    "duration": 16,
    "start_time": "2022-04-18T14:13:50.054Z"
   },
   {
    "duration": 5,
    "start_time": "2022-04-18T14:15:40.909Z"
   },
   {
    "duration": 4,
    "start_time": "2022-04-18T14:15:48.826Z"
   },
   {
    "duration": 4,
    "start_time": "2022-04-18T14:15:52.877Z"
   },
   {
    "duration": 10,
    "start_time": "2022-04-18T14:19:53.984Z"
   },
   {
    "duration": 8,
    "start_time": "2022-04-18T14:20:00.951Z"
   },
   {
    "duration": 8,
    "start_time": "2022-04-18T14:20:08.009Z"
   },
   {
    "duration": 7,
    "start_time": "2022-04-18T14:20:15.602Z"
   },
   {
    "duration": 106,
    "start_time": "2022-04-18T14:20:59.448Z"
   },
   {
    "duration": 5,
    "start_time": "2022-04-18T14:21:05.231Z"
   },
   {
    "duration": 5,
    "start_time": "2022-04-18T14:21:22.256Z"
   },
   {
    "duration": 8,
    "start_time": "2022-04-18T14:21:57.122Z"
   },
   {
    "duration": 6,
    "start_time": "2022-04-18T14:21:57.905Z"
   },
   {
    "duration": 5,
    "start_time": "2022-04-18T14:22:08.454Z"
   },
   {
    "duration": 5,
    "start_time": "2022-04-18T14:22:13.249Z"
   },
   {
    "duration": 5,
    "start_time": "2022-04-18T14:22:24.121Z"
   },
   {
    "duration": 6,
    "start_time": "2022-04-18T14:22:27.708Z"
   },
   {
    "duration": 6,
    "start_time": "2022-04-18T14:22:30.219Z"
   },
   {
    "duration": 4,
    "start_time": "2022-04-18T14:22:39.353Z"
   },
   {
    "duration": 6,
    "start_time": "2022-04-18T14:22:49.483Z"
   },
   {
    "duration": 4,
    "start_time": "2022-04-18T14:23:45.076Z"
   },
   {
    "duration": 30,
    "start_time": "2022-04-18T17:55:43.794Z"
   },
   {
    "duration": 15,
    "start_time": "2022-04-18T17:55:54.214Z"
   },
   {
    "duration": 14,
    "start_time": "2022-04-18T17:58:55.911Z"
   },
   {
    "duration": 7,
    "start_time": "2022-04-18T18:01:50.516Z"
   },
   {
    "duration": 5,
    "start_time": "2022-04-18T18:01:54.573Z"
   },
   {
    "duration": 5,
    "start_time": "2022-04-18T18:02:05.213Z"
   },
   {
    "duration": 4,
    "start_time": "2022-04-18T18:02:24.942Z"
   },
   {
    "duration": 6,
    "start_time": "2022-04-18T18:02:54.550Z"
   },
   {
    "duration": 6,
    "start_time": "2022-04-18T18:03:00.566Z"
   },
   {
    "duration": 6,
    "start_time": "2022-04-18T18:03:04.506Z"
   },
   {
    "duration": 5,
    "start_time": "2022-04-18T18:03:11.713Z"
   },
   {
    "duration": 5,
    "start_time": "2022-04-18T18:03:12.517Z"
   },
   {
    "duration": 5,
    "start_time": "2022-04-18T18:03:48.810Z"
   },
   {
    "duration": 6,
    "start_time": "2022-04-18T18:04:01.865Z"
   },
   {
    "duration": 10,
    "start_time": "2022-04-18T18:04:23.367Z"
   },
   {
    "duration": 5,
    "start_time": "2022-04-18T18:04:28.869Z"
   },
   {
    "duration": 10,
    "start_time": "2022-04-18T18:04:29.433Z"
   },
   {
    "duration": 7,
    "start_time": "2022-04-18T18:04:32.385Z"
   },
   {
    "duration": 5,
    "start_time": "2022-04-18T18:04:33.633Z"
   },
   {
    "duration": 10,
    "start_time": "2022-04-18T18:04:34.433Z"
   },
   {
    "duration": 11,
    "start_time": "2022-04-18T18:04:46.893Z"
   },
   {
    "duration": 6,
    "start_time": "2022-04-18T18:05:20.632Z"
   },
   {
    "duration": 6,
    "start_time": "2022-04-18T18:07:46.506Z"
   },
   {
    "duration": 6,
    "start_time": "2022-04-18T18:07:51.582Z"
   },
   {
    "duration": 4,
    "start_time": "2022-04-18T18:07:51.891Z"
   },
   {
    "duration": 5,
    "start_time": "2022-04-18T18:08:04.417Z"
   },
   {
    "duration": 256,
    "start_time": "2022-04-18T18:08:26.608Z"
   },
   {
    "duration": 166,
    "start_time": "2022-04-18T18:10:59.143Z"
   },
   {
    "duration": 201,
    "start_time": "2022-04-18T18:11:01.200Z"
   },
   {
    "duration": 176,
    "start_time": "2022-04-18T18:15:57.637Z"
   },
   {
    "duration": 10,
    "start_time": "2022-04-18T18:16:00.822Z"
   },
   {
    "duration": 9,
    "start_time": "2022-04-18T18:16:59.453Z"
   },
   {
    "duration": 6,
    "start_time": "2022-04-18T18:27:01.548Z"
   },
   {
    "duration": 4,
    "start_time": "2022-04-18T18:28:38.405Z"
   },
   {
    "duration": 8,
    "start_time": "2022-04-18T18:30:33.601Z"
   },
   {
    "duration": 209,
    "start_time": "2022-04-18T18:35:52.166Z"
   },
   {
    "duration": 7,
    "start_time": "2022-04-18T18:36:19.265Z"
   },
   {
    "duration": 182,
    "start_time": "2022-04-18T18:37:00.710Z"
   },
   {
    "duration": 1264,
    "start_time": "2022-04-18T18:37:05.682Z"
   },
   {
    "duration": 69,
    "start_time": "2022-04-18T18:37:06.948Z"
   },
   {
    "duration": 13,
    "start_time": "2022-04-18T18:37:07.019Z"
   },
   {
    "duration": 9,
    "start_time": "2022-04-18T18:37:07.034Z"
   },
   {
    "duration": 16,
    "start_time": "2022-04-18T18:37:07.045Z"
   },
   {
    "duration": 13,
    "start_time": "2022-04-18T18:37:07.063Z"
   },
   {
    "duration": 7,
    "start_time": "2022-04-18T18:37:07.078Z"
   },
   {
    "duration": 9,
    "start_time": "2022-04-18T18:37:07.086Z"
   },
   {
    "duration": 42,
    "start_time": "2022-04-18T18:37:07.097Z"
   },
   {
    "duration": 6,
    "start_time": "2022-04-18T18:37:07.142Z"
   },
   {
    "duration": 10,
    "start_time": "2022-04-18T18:37:07.150Z"
   },
   {
    "duration": 15,
    "start_time": "2022-04-18T18:37:07.162Z"
   },
   {
    "duration": 7,
    "start_time": "2022-04-18T18:37:07.179Z"
   },
   {
    "duration": 46,
    "start_time": "2022-04-18T18:37:07.188Z"
   },
   {
    "duration": 5,
    "start_time": "2022-04-18T18:37:07.237Z"
   },
   {
    "duration": 12,
    "start_time": "2022-04-18T18:37:07.244Z"
   },
   {
    "duration": 15,
    "start_time": "2022-04-18T18:37:07.258Z"
   },
   {
    "duration": 13,
    "start_time": "2022-04-18T18:37:07.275Z"
   },
   {
    "duration": 48,
    "start_time": "2022-04-18T18:37:07.289Z"
   },
   {
    "duration": 8,
    "start_time": "2022-04-18T18:37:07.339Z"
   },
   {
    "duration": 7,
    "start_time": "2022-04-18T18:37:07.348Z"
   },
   {
    "duration": 9,
    "start_time": "2022-04-18T18:37:07.357Z"
   },
   {
    "duration": 200,
    "start_time": "2022-04-18T18:37:07.368Z"
   },
   {
    "duration": 9,
    "start_time": "2022-04-18T18:37:07.570Z"
   },
   {
    "duration": 145,
    "start_time": "2022-04-18T18:37:07.581Z"
   },
   {
    "duration": 10,
    "start_time": "2022-04-18T18:37:07.728Z"
   },
   {
    "duration": 9,
    "start_time": "2022-04-18T18:37:07.740Z"
   },
   {
    "duration": 10,
    "start_time": "2022-04-18T18:37:07.754Z"
   },
   {
    "duration": 10,
    "start_time": "2022-04-18T18:37:07.766Z"
   },
   {
    "duration": 352,
    "start_time": "2022-04-18T18:37:07.777Z"
   },
   {
    "duration": 252,
    "start_time": "2022-04-18T18:37:08.130Z"
   },
   {
    "duration": 8,
    "start_time": "2022-04-18T18:37:08.383Z"
   },
   {
    "duration": 399,
    "start_time": "2022-04-18T18:37:08.392Z"
   },
   {
    "duration": 4,
    "start_time": "2022-04-18T18:37:08.793Z"
   },
   {
    "duration": 13,
    "start_time": "2022-04-18T18:37:08.799Z"
   },
   {
    "duration": 268,
    "start_time": "2022-04-18T18:37:08.814Z"
   },
   {
    "duration": 9,
    "start_time": "2022-04-18T18:37:09.084Z"
   },
   {
    "duration": 247,
    "start_time": "2022-04-18T18:37:09.095Z"
   },
   {
    "duration": 11,
    "start_time": "2022-04-18T18:37:09.344Z"
   },
   {
    "duration": 194,
    "start_time": "2022-04-18T18:37:09.357Z"
   },
   {
    "duration": 182,
    "start_time": "2022-04-18T18:37:09.553Z"
   },
   {
    "duration": 4,
    "start_time": "2022-04-18T18:37:09.737Z"
   },
   {
    "duration": 14,
    "start_time": "2022-04-18T18:37:09.742Z"
   },
   {
    "duration": 203,
    "start_time": "2022-04-18T18:37:09.758Z"
   },
   {
    "duration": 4,
    "start_time": "2022-04-18T18:37:09.963Z"
   },
   {
    "duration": 154,
    "start_time": "2022-04-18T18:37:09.969Z"
   },
   {
    "duration": 13,
    "start_time": "2022-04-18T18:37:10.124Z"
   },
   {
    "duration": 11,
    "start_time": "2022-04-18T18:37:10.139Z"
   },
   {
    "duration": 50,
    "start_time": "2022-04-18T18:37:10.152Z"
   },
   {
    "duration": 31,
    "start_time": "2022-04-18T18:37:10.204Z"
   },
   {
    "duration": 11,
    "start_time": "2022-04-18T18:37:10.237Z"
   },
   {
    "duration": 93,
    "start_time": "2022-04-18T18:37:10.249Z"
   },
   {
    "duration": 7,
    "start_time": "2022-04-18T18:37:10.344Z"
   },
   {
    "duration": 9,
    "start_time": "2022-04-18T18:37:10.353Z"
   },
   {
    "duration": 89,
    "start_time": "2022-04-18T18:37:10.363Z"
   },
   {
    "duration": 7,
    "start_time": "2022-04-18T18:37:10.454Z"
   },
   {
    "duration": 13,
    "start_time": "2022-04-18T18:37:10.462Z"
   },
   {
    "duration": 26,
    "start_time": "2022-04-18T18:37:10.477Z"
   },
   {
    "duration": 36,
    "start_time": "2022-04-18T18:37:10.505Z"
   },
   {
    "duration": 170,
    "start_time": "2022-04-18T18:37:10.543Z"
   },
   {
    "duration": 18,
    "start_time": "2022-04-18T18:37:10.715Z"
   },
   {
    "duration": 7,
    "start_time": "2022-04-18T18:37:10.735Z"
   },
   {
    "duration": 22,
    "start_time": "2022-04-18T18:37:10.743Z"
   },
   {
    "duration": 26,
    "start_time": "2022-04-18T18:37:10.767Z"
   },
   {
    "duration": 44,
    "start_time": "2022-04-18T18:37:10.795Z"
   },
   {
    "duration": 10,
    "start_time": "2022-04-18T18:37:10.841Z"
   },
   {
    "duration": 9,
    "start_time": "2022-04-18T18:37:10.853Z"
   },
   {
    "duration": 7,
    "start_time": "2022-04-18T18:37:10.864Z"
   },
   {
    "duration": 25,
    "start_time": "2022-04-18T18:37:10.873Z"
   },
   {
    "duration": 11,
    "start_time": "2022-04-18T18:37:10.900Z"
   },
   {
    "duration": 23,
    "start_time": "2022-04-18T18:37:10.912Z"
   },
   {
    "duration": 25,
    "start_time": "2022-04-18T18:37:10.937Z"
   },
   {
    "duration": 10,
    "start_time": "2022-04-18T18:37:10.964Z"
   },
   {
    "duration": 19,
    "start_time": "2022-04-18T18:37:10.976Z"
   },
   {
    "duration": 264,
    "start_time": "2022-04-18T18:37:10.997Z"
   },
   {
    "duration": 11,
    "start_time": "2022-04-18T18:37:11.263Z"
   },
   {
    "duration": 4,
    "start_time": "2022-04-18T18:42:41.393Z"
   },
   {
    "duration": 270,
    "start_time": "2022-04-18T18:46:03.926Z"
   },
   {
    "duration": 152,
    "start_time": "2022-04-18T18:46:16.619Z"
   },
   {
    "duration": 7,
    "start_time": "2022-04-18T18:46:29.847Z"
   },
   {
    "duration": 1322,
    "start_time": "2022-04-18T18:46:40.667Z"
   },
   {
    "duration": 76,
    "start_time": "2022-04-18T18:46:41.991Z"
   },
   {
    "duration": 18,
    "start_time": "2022-04-18T18:46:42.069Z"
   },
   {
    "duration": 11,
    "start_time": "2022-04-18T18:46:42.089Z"
   },
   {
    "duration": 15,
    "start_time": "2022-04-18T18:46:42.102Z"
   },
   {
    "duration": 12,
    "start_time": "2022-04-18T18:46:42.118Z"
   },
   {
    "duration": 26,
    "start_time": "2022-04-18T18:46:42.131Z"
   },
   {
    "duration": 17,
    "start_time": "2022-04-18T18:46:42.158Z"
   },
   {
    "duration": 20,
    "start_time": "2022-04-18T18:46:42.177Z"
   },
   {
    "duration": 21,
    "start_time": "2022-04-18T18:46:42.199Z"
   },
   {
    "duration": 37,
    "start_time": "2022-04-18T18:46:42.222Z"
   },
   {
    "duration": 18,
    "start_time": "2022-04-18T18:46:42.262Z"
   },
   {
    "duration": 16,
    "start_time": "2022-04-18T18:46:42.283Z"
   },
   {
    "duration": 22,
    "start_time": "2022-04-18T18:46:42.301Z"
   },
   {
    "duration": 7,
    "start_time": "2022-04-18T18:46:42.325Z"
   },
   {
    "duration": 26,
    "start_time": "2022-04-18T18:46:42.336Z"
   },
   {
    "duration": 24,
    "start_time": "2022-04-18T18:46:42.365Z"
   },
   {
    "duration": 14,
    "start_time": "2022-04-18T18:46:42.392Z"
   },
   {
    "duration": 28,
    "start_time": "2022-04-18T18:46:42.408Z"
   },
   {
    "duration": 17,
    "start_time": "2022-04-18T18:46:42.438Z"
   },
   {
    "duration": 13,
    "start_time": "2022-04-18T18:46:42.458Z"
   },
   {
    "duration": 14,
    "start_time": "2022-04-18T18:46:42.473Z"
   },
   {
    "duration": 208,
    "start_time": "2022-04-18T18:46:42.489Z"
   },
   {
    "duration": 8,
    "start_time": "2022-04-18T18:46:42.699Z"
   },
   {
    "duration": 151,
    "start_time": "2022-04-18T18:46:42.709Z"
   },
   {
    "duration": 7,
    "start_time": "2022-04-18T18:46:42.862Z"
   },
   {
    "duration": 11,
    "start_time": "2022-04-18T18:46:42.871Z"
   },
   {
    "duration": 10,
    "start_time": "2022-04-18T18:46:42.887Z"
   },
   {
    "duration": 43,
    "start_time": "2022-04-18T18:46:42.898Z"
   },
   {
    "duration": 369,
    "start_time": "2022-04-18T18:46:42.946Z"
   },
   {
    "duration": 275,
    "start_time": "2022-04-18T18:46:43.317Z"
   },
   {
    "duration": 7,
    "start_time": "2022-04-18T18:46:43.594Z"
   },
   {
    "duration": 655,
    "start_time": "2022-04-18T18:46:43.604Z"
   },
   {
    "duration": 5,
    "start_time": "2022-04-18T18:46:44.261Z"
   },
   {
    "duration": 10,
    "start_time": "2022-04-18T18:46:44.268Z"
   },
   {
    "duration": 760,
    "start_time": "2022-04-18T18:46:44.280Z"
   },
   {
    "duration": 15,
    "start_time": "2022-04-18T18:46:45.043Z"
   },
   {
    "duration": 599,
    "start_time": "2022-04-18T18:46:45.059Z"
   },
   {
    "duration": 11,
    "start_time": "2022-04-18T18:46:45.660Z"
   },
   {
    "duration": 403,
    "start_time": "2022-04-18T18:46:45.673Z"
   },
   {
    "duration": 193,
    "start_time": "2022-04-18T18:46:46.078Z"
   },
   {
    "duration": 5,
    "start_time": "2022-04-18T18:46:46.272Z"
   },
   {
    "duration": 13,
    "start_time": "2022-04-18T18:46:46.279Z"
   },
   {
    "duration": 216,
    "start_time": "2022-04-18T18:46:46.293Z"
   },
   {
    "duration": 6,
    "start_time": "2022-04-18T18:46:46.511Z"
   },
   {
    "duration": 174,
    "start_time": "2022-04-18T18:46:46.519Z"
   },
   {
    "duration": 8,
    "start_time": "2022-04-18T18:46:46.695Z"
   },
   {
    "duration": 11,
    "start_time": "2022-04-18T18:46:46.705Z"
   },
   {
    "duration": 56,
    "start_time": "2022-04-18T18:46:46.735Z"
   },
   {
    "duration": 12,
    "start_time": "2022-04-18T18:46:46.792Z"
   },
   {
    "duration": 42,
    "start_time": "2022-04-18T18:46:46.805Z"
   },
   {
    "duration": 87,
    "start_time": "2022-04-18T18:46:46.850Z"
   },
   {
    "duration": 11,
    "start_time": "2022-04-18T18:46:46.942Z"
   },
   {
    "duration": 9,
    "start_time": "2022-04-18T18:46:46.955Z"
   },
   {
    "duration": 101,
    "start_time": "2022-04-18T18:46:46.966Z"
   },
   {
    "duration": 8,
    "start_time": "2022-04-18T18:46:47.069Z"
   },
   {
    "duration": 25,
    "start_time": "2022-04-18T18:46:47.079Z"
   },
   {
    "duration": 37,
    "start_time": "2022-04-18T18:46:47.106Z"
   },
   {
    "duration": 13,
    "start_time": "2022-04-18T18:46:47.146Z"
   },
   {
    "duration": 219,
    "start_time": "2022-04-18T18:46:47.162Z"
   },
   {
    "duration": 9,
    "start_time": "2022-04-18T18:46:47.383Z"
   },
   {
    "duration": 12,
    "start_time": "2022-04-18T18:46:47.394Z"
   },
   {
    "duration": 15,
    "start_time": "2022-04-18T18:46:47.433Z"
   },
   {
    "duration": 13,
    "start_time": "2022-04-18T18:46:47.450Z"
   },
   {
    "duration": 28,
    "start_time": "2022-04-18T18:46:47.466Z"
   },
   {
    "duration": 11,
    "start_time": "2022-04-18T18:46:47.496Z"
   },
   {
    "duration": 13,
    "start_time": "2022-04-18T18:46:47.535Z"
   },
   {
    "duration": 12,
    "start_time": "2022-04-18T18:46:47.551Z"
   },
   {
    "duration": 10,
    "start_time": "2022-04-18T18:46:47.565Z"
   },
   {
    "duration": 7,
    "start_time": "2022-04-18T18:46:47.577Z"
   },
   {
    "duration": 10,
    "start_time": "2022-04-18T18:46:47.585Z"
   },
   {
    "duration": 64,
    "start_time": "2022-04-18T18:46:47.597Z"
   },
   {
    "duration": 10,
    "start_time": "2022-04-18T18:46:47.663Z"
   },
   {
    "duration": 8,
    "start_time": "2022-04-18T18:46:47.676Z"
   },
   {
    "duration": 306,
    "start_time": "2022-04-18T18:46:47.686Z"
   },
   {
    "duration": 167,
    "start_time": "2022-04-18T18:46:47.994Z"
   },
   {
    "duration": 7,
    "start_time": "2022-04-18T18:46:48.163Z"
   },
   {
    "duration": 1244,
    "start_time": "2022-04-18T18:46:58.369Z"
   },
   {
    "duration": 58,
    "start_time": "2022-04-18T18:46:59.615Z"
   },
   {
    "duration": 13,
    "start_time": "2022-04-18T18:46:59.675Z"
   },
   {
    "duration": 6,
    "start_time": "2022-04-18T18:46:59.690Z"
   },
   {
    "duration": 15,
    "start_time": "2022-04-18T18:46:59.698Z"
   },
   {
    "duration": 14,
    "start_time": "2022-04-18T18:46:59.715Z"
   },
   {
    "duration": 6,
    "start_time": "2022-04-18T18:46:59.731Z"
   },
   {
    "duration": 8,
    "start_time": "2022-04-18T18:46:59.739Z"
   },
   {
    "duration": 12,
    "start_time": "2022-04-18T18:46:59.749Z"
   },
   {
    "duration": 7,
    "start_time": "2022-04-18T18:46:59.764Z"
   },
   {
    "duration": 10,
    "start_time": "2022-04-18T18:46:59.773Z"
   },
   {
    "duration": 12,
    "start_time": "2022-04-18T18:46:59.785Z"
   },
   {
    "duration": 5,
    "start_time": "2022-04-18T18:46:59.834Z"
   },
   {
    "duration": 10,
    "start_time": "2022-04-18T18:46:59.840Z"
   },
   {
    "duration": 6,
    "start_time": "2022-04-18T18:46:59.852Z"
   },
   {
    "duration": 12,
    "start_time": "2022-04-18T18:46:59.860Z"
   },
   {
    "duration": 18,
    "start_time": "2022-04-18T18:46:59.873Z"
   },
   {
    "duration": 13,
    "start_time": "2022-04-18T18:46:59.934Z"
   },
   {
    "duration": 14,
    "start_time": "2022-04-18T18:46:59.949Z"
   },
   {
    "duration": 7,
    "start_time": "2022-04-18T18:46:59.964Z"
   },
   {
    "duration": 6,
    "start_time": "2022-04-18T18:46:59.972Z"
   },
   {
    "duration": 10,
    "start_time": "2022-04-18T18:46:59.980Z"
   },
   {
    "duration": 224,
    "start_time": "2022-04-18T18:46:59.992Z"
   },
   {
    "duration": 17,
    "start_time": "2022-04-18T18:47:00.218Z"
   },
   {
    "duration": 140,
    "start_time": "2022-04-18T18:47:00.237Z"
   },
   {
    "duration": 8,
    "start_time": "2022-04-18T18:47:00.379Z"
   },
   {
    "duration": 17,
    "start_time": "2022-04-18T18:47:00.389Z"
   },
   {
    "duration": 27,
    "start_time": "2022-04-18T18:47:00.410Z"
   },
   {
    "duration": 12,
    "start_time": "2022-04-18T18:47:00.439Z"
   },
   {
    "duration": 333,
    "start_time": "2022-04-18T18:47:00.452Z"
   },
   {
    "duration": 259,
    "start_time": "2022-04-18T18:47:00.786Z"
   },
   {
    "duration": 7,
    "start_time": "2022-04-18T18:47:01.047Z"
   },
   {
    "duration": 340,
    "start_time": "2022-04-18T18:47:01.056Z"
   },
   {
    "duration": 6,
    "start_time": "2022-04-18T18:47:01.399Z"
   },
   {
    "duration": 28,
    "start_time": "2022-04-18T18:47:01.407Z"
   },
   {
    "duration": 282,
    "start_time": "2022-04-18T18:47:01.438Z"
   },
   {
    "duration": 16,
    "start_time": "2022-04-18T18:47:01.722Z"
   },
   {
    "duration": 252,
    "start_time": "2022-04-18T18:47:01.740Z"
   },
   {
    "duration": 11,
    "start_time": "2022-04-18T18:47:01.994Z"
   },
   {
    "duration": 179,
    "start_time": "2022-04-18T18:47:02.007Z"
   },
   {
    "duration": 188,
    "start_time": "2022-04-18T18:47:02.188Z"
   },
   {
    "duration": 5,
    "start_time": "2022-04-18T18:47:02.378Z"
   },
   {
    "duration": 28,
    "start_time": "2022-04-18T18:47:02.385Z"
   },
   {
    "duration": 186,
    "start_time": "2022-04-18T18:47:02.415Z"
   },
   {
    "duration": 6,
    "start_time": "2022-04-18T18:47:02.603Z"
   },
   {
    "duration": 166,
    "start_time": "2022-04-18T18:47:02.610Z"
   },
   {
    "duration": 9,
    "start_time": "2022-04-18T18:47:02.778Z"
   },
   {
    "duration": 34,
    "start_time": "2022-04-18T18:47:02.789Z"
   },
   {
    "duration": 65,
    "start_time": "2022-04-18T18:47:02.833Z"
   },
   {
    "duration": 21,
    "start_time": "2022-04-18T18:47:02.900Z"
   },
   {
    "duration": 12,
    "start_time": "2022-04-18T18:47:02.923Z"
   },
   {
    "duration": 70,
    "start_time": "2022-04-18T18:47:02.937Z"
   },
   {
    "duration": 25,
    "start_time": "2022-04-18T18:47:03.009Z"
   },
   {
    "duration": 8,
    "start_time": "2022-04-18T18:47:03.036Z"
   },
   {
    "duration": 99,
    "start_time": "2022-04-18T18:47:03.046Z"
   },
   {
    "duration": 13,
    "start_time": "2022-04-18T18:47:03.147Z"
   },
   {
    "duration": 22,
    "start_time": "2022-04-18T18:47:03.162Z"
   },
   {
    "duration": 28,
    "start_time": "2022-04-18T18:47:03.186Z"
   },
   {
    "duration": 25,
    "start_time": "2022-04-18T18:47:03.216Z"
   },
   {
    "duration": 159,
    "start_time": "2022-04-18T18:47:03.243Z"
   },
   {
    "duration": 7,
    "start_time": "2022-04-18T18:47:03.404Z"
   },
   {
    "duration": 23,
    "start_time": "2022-04-18T18:47:03.413Z"
   },
   {
    "duration": 20,
    "start_time": "2022-04-18T18:47:03.438Z"
   },
   {
    "duration": 19,
    "start_time": "2022-04-18T18:47:03.460Z"
   },
   {
    "duration": 44,
    "start_time": "2022-04-18T18:47:03.481Z"
   },
   {
    "duration": 13,
    "start_time": "2022-04-18T18:47:03.527Z"
   },
   {
    "duration": 9,
    "start_time": "2022-04-18T18:47:03.541Z"
   },
   {
    "duration": 16,
    "start_time": "2022-04-18T18:47:03.552Z"
   },
   {
    "duration": 18,
    "start_time": "2022-04-18T18:47:03.570Z"
   },
   {
    "duration": 13,
    "start_time": "2022-04-18T18:47:03.590Z"
   },
   {
    "duration": 32,
    "start_time": "2022-04-18T18:47:03.605Z"
   },
   {
    "duration": 39,
    "start_time": "2022-04-18T18:47:03.639Z"
   },
   {
    "duration": 10,
    "start_time": "2022-04-18T18:47:03.680Z"
   },
   {
    "duration": 41,
    "start_time": "2022-04-18T18:47:03.692Z"
   },
   {
    "duration": 257,
    "start_time": "2022-04-18T18:47:03.735Z"
   },
   {
    "duration": 156,
    "start_time": "2022-04-18T18:47:03.994Z"
   },
   {
    "duration": 7,
    "start_time": "2022-04-18T18:47:04.152Z"
   },
   {
    "duration": 6,
    "start_time": "2022-04-18T18:49:29.546Z"
   },
   {
    "duration": 104,
    "start_time": "2022-04-18T18:51:39.606Z"
   },
   {
    "duration": 6,
    "start_time": "2022-04-18T18:53:06.700Z"
   },
   {
    "duration": 15,
    "start_time": "2022-04-18T18:55:53.288Z"
   },
   {
    "duration": 15,
    "start_time": "2022-04-18T18:56:02.315Z"
   },
   {
    "duration": 17,
    "start_time": "2022-04-18T18:56:49.808Z"
   },
   {
    "duration": 21,
    "start_time": "2022-04-18T18:56:59.421Z"
   },
   {
    "duration": 14,
    "start_time": "2022-04-18T18:57:31.907Z"
   },
   {
    "duration": 4,
    "start_time": "2022-04-18T18:57:49.000Z"
   },
   {
    "duration": 13,
    "start_time": "2022-04-18T18:57:52.396Z"
   },
   {
    "duration": 15,
    "start_time": "2022-04-18T19:09:03.827Z"
   },
   {
    "duration": 4,
    "start_time": "2022-04-18T19:09:49.923Z"
   },
   {
    "duration": 159,
    "start_time": "2022-04-18T19:10:04.748Z"
   },
   {
    "duration": 13,
    "start_time": "2022-04-18T19:10:07.309Z"
   },
   {
    "duration": 158,
    "start_time": "2022-04-18T19:10:40.906Z"
   },
   {
    "duration": 7,
    "start_time": "2022-04-18T19:10:53.852Z"
   },
   {
    "duration": 7,
    "start_time": "2022-04-18T19:11:19.052Z"
   },
   {
    "duration": 233,
    "start_time": "2022-04-18T19:11:29.145Z"
   },
   {
    "duration": 218,
    "start_time": "2022-04-18T19:11:40.066Z"
   },
   {
    "duration": 235,
    "start_time": "2022-04-18T19:12:50.314Z"
   },
   {
    "duration": 82,
    "start_time": "2022-04-19T06:33:25.701Z"
   },
   {
    "duration": 2268,
    "start_time": "2022-04-19T06:33:33.809Z"
   },
   {
    "duration": 73,
    "start_time": "2022-04-19T06:33:36.079Z"
   },
   {
    "duration": 17,
    "start_time": "2022-04-19T06:33:36.154Z"
   },
   {
    "duration": 13,
    "start_time": "2022-04-19T06:33:36.174Z"
   },
   {
    "duration": 35,
    "start_time": "2022-04-19T06:33:36.189Z"
   },
   {
    "duration": 16,
    "start_time": "2022-04-19T06:33:36.226Z"
   },
   {
    "duration": 14,
    "start_time": "2022-04-19T06:33:36.244Z"
   },
   {
    "duration": 11,
    "start_time": "2022-04-19T06:33:36.260Z"
   },
   {
    "duration": 28,
    "start_time": "2022-04-19T06:33:36.273Z"
   },
   {
    "duration": 18,
    "start_time": "2022-04-19T06:33:36.307Z"
   },
   {
    "duration": 14,
    "start_time": "2022-04-19T06:33:36.328Z"
   },
   {
    "duration": 54,
    "start_time": "2022-04-19T06:33:36.345Z"
   },
   {
    "duration": 24,
    "start_time": "2022-04-19T06:33:36.401Z"
   },
   {
    "duration": 14,
    "start_time": "2022-04-19T06:33:36.428Z"
   },
   {
    "duration": 9,
    "start_time": "2022-04-19T06:33:36.445Z"
   },
   {
    "duration": 46,
    "start_time": "2022-04-19T06:33:36.457Z"
   },
   {
    "duration": 34,
    "start_time": "2022-04-19T06:33:36.505Z"
   },
   {
    "duration": 17,
    "start_time": "2022-04-19T06:33:36.541Z"
   },
   {
    "duration": 54,
    "start_time": "2022-04-19T06:33:36.561Z"
   },
   {
    "duration": 6,
    "start_time": "2022-04-19T06:33:36.617Z"
   },
   {
    "duration": 13,
    "start_time": "2022-04-19T06:33:36.625Z"
   },
   {
    "duration": 18,
    "start_time": "2022-04-19T06:33:36.640Z"
   },
   {
    "duration": 314,
    "start_time": "2022-04-19T06:33:36.695Z"
   },
   {
    "duration": 13,
    "start_time": "2022-04-19T06:33:37.012Z"
   },
   {
    "duration": 239,
    "start_time": "2022-04-19T06:33:37.027Z"
   },
   {
    "duration": 10,
    "start_time": "2022-04-19T06:33:37.268Z"
   },
   {
    "duration": 23,
    "start_time": "2022-04-19T06:33:37.281Z"
   },
   {
    "duration": 15,
    "start_time": "2022-04-19T06:33:37.313Z"
   },
   {
    "duration": 11,
    "start_time": "2022-04-19T06:33:37.330Z"
   },
   {
    "duration": 584,
    "start_time": "2022-04-19T06:33:37.343Z"
   },
   {
    "duration": 497,
    "start_time": "2022-04-19T06:33:37.930Z"
   },
   {
    "duration": 9,
    "start_time": "2022-04-19T06:33:38.429Z"
   },
   {
    "duration": 622,
    "start_time": "2022-04-19T06:33:38.441Z"
   },
   {
    "duration": 6,
    "start_time": "2022-04-19T06:33:39.065Z"
   },
   {
    "duration": 20,
    "start_time": "2022-04-19T06:33:39.073Z"
   },
   {
    "duration": 381,
    "start_time": "2022-04-19T06:33:39.096Z"
   },
   {
    "duration": 24,
    "start_time": "2022-04-19T06:33:39.479Z"
   },
   {
    "duration": 371,
    "start_time": "2022-04-19T06:33:39.506Z"
   },
   {
    "duration": 19,
    "start_time": "2022-04-19T06:33:39.879Z"
   },
   {
    "duration": 277,
    "start_time": "2022-04-19T06:33:39.902Z"
   },
   {
    "duration": 280,
    "start_time": "2022-04-19T06:33:40.181Z"
   },
   {
    "duration": 6,
    "start_time": "2022-04-19T06:33:40.463Z"
   },
   {
    "duration": 31,
    "start_time": "2022-04-19T06:33:40.471Z"
   },
   {
    "duration": 294,
    "start_time": "2022-04-19T06:33:40.505Z"
   },
   {
    "duration": 5,
    "start_time": "2022-04-19T06:33:40.801Z"
   },
   {
    "duration": 303,
    "start_time": "2022-04-19T06:33:40.810Z"
   },
   {
    "duration": 12,
    "start_time": "2022-04-19T06:33:41.116Z"
   },
   {
    "duration": 72,
    "start_time": "2022-04-19T06:33:41.131Z"
   },
   {
    "duration": 227,
    "start_time": "2022-04-19T06:33:41.206Z"
   },
   {
    "duration": 63,
    "start_time": "2022-04-19T06:33:41.436Z"
   },
   {
    "duration": 14,
    "start_time": "2022-04-19T06:33:41.502Z"
   },
   {
    "duration": 308,
    "start_time": "2022-04-19T06:33:41.519Z"
   },
   {
    "duration": 74,
    "start_time": "2022-04-19T06:33:41.830Z"
   },
   {
    "duration": 21,
    "start_time": "2022-04-19T06:33:41.907Z"
   },
   {
    "duration": 285,
    "start_time": "2022-04-19T06:33:41.931Z"
   },
   {
    "duration": 11,
    "start_time": "2022-04-19T06:33:42.219Z"
   },
   {
    "duration": 62,
    "start_time": "2022-04-19T06:33:42.233Z"
   },
   {
    "duration": 105,
    "start_time": "2022-04-19T06:33:42.298Z"
   },
   {
    "duration": 25,
    "start_time": "2022-04-19T06:33:42.406Z"
   },
   {
    "duration": 901,
    "start_time": "2022-04-19T06:33:42.434Z"
   },
   {
    "duration": 57,
    "start_time": "2022-04-19T06:33:43.338Z"
   },
   {
    "duration": 13,
    "start_time": "2022-04-19T06:33:43.398Z"
   },
   {
    "duration": 15,
    "start_time": "2022-04-19T06:33:43.414Z"
   },
   {
    "duration": 7,
    "start_time": "2022-04-19T06:33:43.432Z"
   },
   {
    "duration": 90,
    "start_time": "2022-04-19T06:33:43.442Z"
   },
   {
    "duration": 76,
    "start_time": "2022-04-19T06:33:43.535Z"
   },
   {
    "duration": 12,
    "start_time": "2022-04-19T06:33:43.614Z"
   },
   {
    "duration": 7,
    "start_time": "2022-04-19T06:33:43.629Z"
   },
   {
    "duration": 18,
    "start_time": "2022-04-19T06:33:43.693Z"
   },
   {
    "duration": 19,
    "start_time": "2022-04-19T06:33:43.714Z"
   },
   {
    "duration": 10,
    "start_time": "2022-04-19T06:33:43.736Z"
   },
   {
    "duration": 87,
    "start_time": "2022-04-19T06:33:43.809Z"
   },
   {
    "duration": 20,
    "start_time": "2022-04-19T06:33:43.899Z"
   },
   {
    "duration": 12,
    "start_time": "2022-04-19T06:33:43.921Z"
   },
   {
    "duration": 894,
    "start_time": "2022-04-19T06:33:43.935Z"
   },
   {
    "duration": 416,
    "start_time": "2022-04-19T06:33:44.831Z"
   },
   {
    "duration": 4,
    "start_time": "2022-04-19T06:33:45.249Z"
   },
   {
    "duration": 53,
    "start_time": "2022-04-19T06:33:45.255Z"
   },
   {
    "duration": 6,
    "start_time": "2022-04-19T06:33:45.311Z"
   },
   {
    "duration": 321,
    "start_time": "2022-04-19T06:33:45.319Z"
   },
   {
    "duration": 17,
    "start_time": "2022-04-19T06:33:45.642Z"
   },
   {
    "duration": 33,
    "start_time": "2022-04-19T06:33:45.670Z"
   },
   {
    "duration": 22,
    "start_time": "2022-04-19T06:33:45.705Z"
   },
   {
    "duration": 408,
    "start_time": "2022-04-19T06:33:45.730Z"
   },
   {
    "duration": 426,
    "start_time": "2022-04-19T06:33:46.140Z"
   },
   {
    "duration": 334,
    "start_time": "2022-04-19T06:34:06.388Z"
   },
   {
    "duration": 15439,
    "start_time": "2022-04-19T06:35:06.141Z"
   },
   {
    "duration": 483,
    "start_time": "2022-04-19T06:35:43.784Z"
   },
   {
    "duration": 4,
    "start_time": "2022-04-19T06:58:12.850Z"
   },
   {
    "duration": 1543,
    "start_time": "2022-04-19T07:22:45.756Z"
   },
   {
    "duration": 92,
    "start_time": "2022-04-19T07:22:47.301Z"
   },
   {
    "duration": 18,
    "start_time": "2022-04-19T07:22:47.405Z"
   },
   {
    "duration": 12,
    "start_time": "2022-04-19T07:22:47.428Z"
   },
   {
    "duration": 61,
    "start_time": "2022-04-19T07:22:47.442Z"
   },
   {
    "duration": 16,
    "start_time": "2022-04-19T07:22:47.507Z"
   },
   {
    "duration": 14,
    "start_time": "2022-04-19T07:22:47.525Z"
   },
   {
    "duration": 31,
    "start_time": "2022-04-19T07:22:47.541Z"
   },
   {
    "duration": 29,
    "start_time": "2022-04-19T07:22:47.574Z"
   },
   {
    "duration": 20,
    "start_time": "2022-04-19T07:22:47.606Z"
   },
   {
    "duration": 26,
    "start_time": "2022-04-19T07:22:47.629Z"
   },
   {
    "duration": 25,
    "start_time": "2022-04-19T07:22:47.658Z"
   },
   {
    "duration": 9,
    "start_time": "2022-04-19T07:22:47.698Z"
   },
   {
    "duration": 23,
    "start_time": "2022-04-19T07:22:47.709Z"
   },
   {
    "duration": 13,
    "start_time": "2022-04-19T07:22:47.735Z"
   },
   {
    "duration": 20,
    "start_time": "2022-04-19T07:22:47.751Z"
   },
   {
    "duration": 24,
    "start_time": "2022-04-19T07:22:47.794Z"
   },
   {
    "duration": 16,
    "start_time": "2022-04-19T07:22:47.820Z"
   },
   {
    "duration": 26,
    "start_time": "2022-04-19T07:22:47.838Z"
   },
   {
    "duration": 7,
    "start_time": "2022-04-19T07:22:47.894Z"
   },
   {
    "duration": 15,
    "start_time": "2022-04-19T07:22:47.905Z"
   },
   {
    "duration": 8,
    "start_time": "2022-04-19T07:22:47.922Z"
   },
   {
    "duration": 312,
    "start_time": "2022-04-19T07:22:47.932Z"
   },
   {
    "duration": 11,
    "start_time": "2022-04-19T07:22:48.247Z"
   },
   {
    "duration": 235,
    "start_time": "2022-04-19T07:22:48.260Z"
   },
   {
    "duration": 15,
    "start_time": "2022-04-19T07:22:48.498Z"
   },
   {
    "duration": 18,
    "start_time": "2022-04-19T07:22:48.515Z"
   },
   {
    "duration": 26,
    "start_time": "2022-04-19T07:22:48.535Z"
   },
   {
    "duration": 31,
    "start_time": "2022-04-19T07:22:48.564Z"
   },
   {
    "duration": 518,
    "start_time": "2022-04-19T07:22:48.598Z"
   },
   {
    "duration": 363,
    "start_time": "2022-04-19T07:22:49.119Z"
   },
   {
    "duration": 16,
    "start_time": "2022-04-19T07:22:49.485Z"
   },
   {
    "duration": 464,
    "start_time": "2022-04-19T07:22:49.504Z"
   },
   {
    "duration": 5,
    "start_time": "2022-04-19T07:22:49.971Z"
   },
   {
    "duration": 12,
    "start_time": "2022-04-19T07:22:49.994Z"
   },
   {
    "duration": 371,
    "start_time": "2022-04-19T07:22:50.009Z"
   },
   {
    "duration": 14,
    "start_time": "2022-04-19T07:22:50.383Z"
   },
   {
    "duration": 379,
    "start_time": "2022-04-19T07:22:50.401Z"
   },
   {
    "duration": 21,
    "start_time": "2022-04-19T07:22:50.782Z"
   },
   {
    "duration": 264,
    "start_time": "2022-04-19T07:22:50.812Z"
   },
   {
    "duration": 279,
    "start_time": "2022-04-19T07:22:51.078Z"
   },
   {
    "duration": 5,
    "start_time": "2022-04-19T07:22:51.359Z"
   },
   {
    "duration": 39,
    "start_time": "2022-04-19T07:22:51.366Z"
   },
   {
    "duration": 274,
    "start_time": "2022-04-19T07:22:51.408Z"
   },
   {
    "duration": 12,
    "start_time": "2022-04-19T07:22:51.684Z"
   },
   {
    "duration": 182,
    "start_time": "2022-04-19T07:22:51.698Z"
   },
   {
    "duration": 13,
    "start_time": "2022-04-19T07:22:51.882Z"
   },
   {
    "duration": 23,
    "start_time": "2022-04-19T07:22:51.898Z"
   },
   {
    "duration": 107,
    "start_time": "2022-04-19T07:22:51.924Z"
   },
   {
    "duration": 12,
    "start_time": "2022-04-19T07:22:52.033Z"
   },
   {
    "duration": 12,
    "start_time": "2022-04-19T07:22:52.048Z"
   },
   {
    "duration": 150,
    "start_time": "2022-04-19T07:22:52.063Z"
   },
   {
    "duration": 11,
    "start_time": "2022-04-19T07:22:52.215Z"
   },
   {
    "duration": 12,
    "start_time": "2022-04-19T07:22:52.228Z"
   },
   {
    "duration": 133,
    "start_time": "2022-04-19T07:22:52.242Z"
   },
   {
    "duration": 18,
    "start_time": "2022-04-19T07:22:52.377Z"
   },
   {
    "duration": 26,
    "start_time": "2022-04-19T07:22:52.397Z"
   },
   {
    "duration": 35,
    "start_time": "2022-04-19T07:22:52.426Z"
   },
   {
    "duration": 46,
    "start_time": "2022-04-19T07:22:52.464Z"
   },
   {
    "duration": 325,
    "start_time": "2022-04-19T07:22:52.512Z"
   },
   {
    "duration": 9,
    "start_time": "2022-04-19T07:22:52.839Z"
   },
   {
    "duration": 15,
    "start_time": "2022-04-19T07:22:52.849Z"
   },
   {
    "duration": 29,
    "start_time": "2022-04-19T07:22:52.866Z"
   },
   {
    "duration": 12,
    "start_time": "2022-04-19T07:22:52.898Z"
   },
   {
    "duration": 32,
    "start_time": "2022-04-19T07:22:52.912Z"
   },
   {
    "duration": 61,
    "start_time": "2022-04-19T07:22:52.946Z"
   },
   {
    "duration": 16,
    "start_time": "2022-04-19T07:22:53.009Z"
   },
   {
    "duration": 6,
    "start_time": "2022-04-19T07:22:53.027Z"
   },
   {
    "duration": 12,
    "start_time": "2022-04-19T07:22:53.035Z"
   },
   {
    "duration": 48,
    "start_time": "2022-04-19T07:22:53.049Z"
   },
   {
    "duration": 22,
    "start_time": "2022-04-19T07:22:53.100Z"
   },
   {
    "duration": 33,
    "start_time": "2022-04-19T07:22:53.124Z"
   },
   {
    "duration": 13,
    "start_time": "2022-04-19T07:22:53.160Z"
   },
   {
    "duration": 16,
    "start_time": "2022-04-19T07:22:53.194Z"
   },
   {
    "duration": 14,
    "start_time": "2022-04-19T07:22:53.213Z"
   },
   {
    "duration": 303,
    "start_time": "2022-04-19T07:22:53.229Z"
   },
   {
    "duration": 0,
    "start_time": "2022-04-19T07:22:53.534Z"
   },
   {
    "duration": 0,
    "start_time": "2022-04-19T07:22:53.536Z"
   },
   {
    "duration": 0,
    "start_time": "2022-04-19T07:22:53.537Z"
   },
   {
    "duration": 0,
    "start_time": "2022-04-19T07:22:53.539Z"
   },
   {
    "duration": 0,
    "start_time": "2022-04-19T07:22:53.541Z"
   },
   {
    "duration": 7,
    "start_time": "2022-04-19T07:23:13.101Z"
   },
   {
    "duration": 282,
    "start_time": "2022-04-19T07:23:42.963Z"
   },
   {
    "duration": 13,
    "start_time": "2022-04-19T07:23:44.116Z"
   },
   {
    "duration": 12,
    "start_time": "2022-04-19T07:23:44.799Z"
   },
   {
    "duration": 10,
    "start_time": "2022-04-19T07:23:53.234Z"
   },
   {
    "duration": 252,
    "start_time": "2022-04-19T07:24:16.742Z"
   },
   {
    "duration": 359,
    "start_time": "2022-04-19T07:24:47.628Z"
   },
   {
    "duration": 246,
    "start_time": "2022-04-19T07:24:50.908Z"
   },
   {
    "duration": 372,
    "start_time": "2022-04-19T07:25:07.387Z"
   },
   {
    "duration": 6,
    "start_time": "2022-04-19T07:27:04.351Z"
   },
   {
    "duration": 6,
    "start_time": "2022-04-19T07:27:06.386Z"
   },
   {
    "duration": 6,
    "start_time": "2022-04-19T07:27:06.734Z"
   },
   {
    "duration": 352,
    "start_time": "2022-04-19T07:27:37.739Z"
   },
   {
    "duration": 353,
    "start_time": "2022-04-19T07:27:51.126Z"
   },
   {
    "duration": 360,
    "start_time": "2022-04-19T07:27:57.204Z"
   },
   {
    "duration": 1600,
    "start_time": "2022-04-19T08:12:39.949Z"
   },
   {
    "duration": 84,
    "start_time": "2022-04-19T08:12:41.551Z"
   },
   {
    "duration": 16,
    "start_time": "2022-04-19T08:12:41.637Z"
   },
   {
    "duration": 8,
    "start_time": "2022-04-19T08:12:41.656Z"
   },
   {
    "duration": 18,
    "start_time": "2022-04-19T08:12:41.666Z"
   },
   {
    "duration": 22,
    "start_time": "2022-04-19T08:12:41.686Z"
   },
   {
    "duration": 10,
    "start_time": "2022-04-19T08:12:41.711Z"
   },
   {
    "duration": 8,
    "start_time": "2022-04-19T08:12:41.724Z"
   },
   {
    "duration": 14,
    "start_time": "2022-04-19T08:12:41.735Z"
   },
   {
    "duration": 11,
    "start_time": "2022-04-19T08:12:41.810Z"
   },
   {
    "duration": 11,
    "start_time": "2022-04-19T08:12:41.823Z"
   },
   {
    "duration": 17,
    "start_time": "2022-04-19T08:12:41.837Z"
   },
   {
    "duration": 41,
    "start_time": "2022-04-19T08:12:41.856Z"
   },
   {
    "duration": 23,
    "start_time": "2022-04-19T08:12:41.900Z"
   },
   {
    "duration": 7,
    "start_time": "2022-04-19T08:12:41.926Z"
   },
   {
    "duration": 14,
    "start_time": "2022-04-19T08:12:41.935Z"
   },
   {
    "duration": 70,
    "start_time": "2022-04-19T08:12:41.951Z"
   },
   {
    "duration": 17,
    "start_time": "2022-04-19T08:12:42.024Z"
   },
   {
    "duration": 54,
    "start_time": "2022-04-19T08:12:42.044Z"
   },
   {
    "duration": 18,
    "start_time": "2022-04-19T08:12:42.101Z"
   },
   {
    "duration": 6,
    "start_time": "2022-04-19T08:12:42.121Z"
   },
   {
    "duration": 13,
    "start_time": "2022-04-19T08:12:42.129Z"
   },
   {
    "duration": 311,
    "start_time": "2022-04-19T08:12:42.144Z"
   },
   {
    "duration": 12,
    "start_time": "2022-04-19T08:12:42.457Z"
   },
   {
    "duration": 252,
    "start_time": "2022-04-19T08:12:42.471Z"
   },
   {
    "duration": 11,
    "start_time": "2022-04-19T08:12:42.725Z"
   },
   {
    "duration": 11,
    "start_time": "2022-04-19T08:12:42.739Z"
   },
   {
    "duration": 46,
    "start_time": "2022-04-19T08:12:42.757Z"
   },
   {
    "duration": 19,
    "start_time": "2022-04-19T08:12:42.805Z"
   },
   {
    "duration": 531,
    "start_time": "2022-04-19T08:12:42.826Z"
   },
   {
    "duration": 397,
    "start_time": "2022-04-19T08:12:43.359Z"
   },
   {
    "duration": 9,
    "start_time": "2022-04-19T08:12:43.758Z"
   },
   {
    "duration": 495,
    "start_time": "2022-04-19T08:12:43.770Z"
   },
   {
    "duration": 7,
    "start_time": "2022-04-19T08:12:44.267Z"
   },
   {
    "duration": 21,
    "start_time": "2022-04-19T08:12:44.277Z"
   },
   {
    "duration": 406,
    "start_time": "2022-04-19T08:12:44.302Z"
   },
   {
    "duration": 12,
    "start_time": "2022-04-19T08:12:44.714Z"
   },
   {
    "duration": 389,
    "start_time": "2022-04-19T08:12:44.728Z"
   },
   {
    "duration": 13,
    "start_time": "2022-04-19T08:12:45.120Z"
   },
   {
    "duration": 332,
    "start_time": "2022-04-19T08:12:45.136Z"
   },
   {
    "duration": 282,
    "start_time": "2022-04-19T08:12:45.471Z"
   },
   {
    "duration": 7,
    "start_time": "2022-04-19T08:12:45.756Z"
   },
   {
    "duration": 40,
    "start_time": "2022-04-19T08:12:45.766Z"
   },
   {
    "duration": 300,
    "start_time": "2022-04-19T08:12:45.810Z"
   },
   {
    "duration": 6,
    "start_time": "2022-04-19T08:12:46.112Z"
   },
   {
    "duration": 194,
    "start_time": "2022-04-19T08:12:46.121Z"
   },
   {
    "duration": 17,
    "start_time": "2022-04-19T08:12:46.317Z"
   },
   {
    "duration": 10,
    "start_time": "2022-04-19T08:12:46.337Z"
   },
   {
    "duration": 108,
    "start_time": "2022-04-19T08:12:46.350Z"
   },
   {
    "duration": 16,
    "start_time": "2022-04-19T08:12:46.460Z"
   },
   {
    "duration": 27,
    "start_time": "2022-04-19T08:12:46.479Z"
   },
   {
    "duration": 126,
    "start_time": "2022-04-19T08:12:46.509Z"
   },
   {
    "duration": 11,
    "start_time": "2022-04-19T08:12:46.637Z"
   },
   {
    "duration": 13,
    "start_time": "2022-04-19T08:12:46.650Z"
   },
   {
    "duration": 153,
    "start_time": "2022-04-19T08:12:46.694Z"
   },
   {
    "duration": 14,
    "start_time": "2022-04-19T08:12:46.850Z"
   },
   {
    "duration": 34,
    "start_time": "2022-04-19T08:12:46.867Z"
   },
   {
    "duration": 36,
    "start_time": "2022-04-19T08:12:46.904Z"
   },
   {
    "duration": 15,
    "start_time": "2022-04-19T08:12:46.942Z"
   },
   {
    "duration": 407,
    "start_time": "2022-04-19T08:12:46.960Z"
   },
   {
    "duration": 23,
    "start_time": "2022-04-19T08:12:47.370Z"
   },
   {
    "duration": 13,
    "start_time": "2022-04-19T08:12:47.395Z"
   },
   {
    "duration": 16,
    "start_time": "2022-04-19T08:12:47.410Z"
   },
   {
    "duration": 6,
    "start_time": "2022-04-19T08:12:47.428Z"
   },
   {
    "duration": 81,
    "start_time": "2022-04-19T08:12:47.437Z"
   },
   {
    "duration": 17,
    "start_time": "2022-04-19T08:12:47.521Z"
   },
   {
    "duration": 13,
    "start_time": "2022-04-19T08:12:47.541Z"
   },
   {
    "duration": 42,
    "start_time": "2022-04-19T08:12:47.556Z"
   },
   {
    "duration": 30,
    "start_time": "2022-04-19T08:12:47.601Z"
   },
   {
    "duration": 11,
    "start_time": "2022-04-19T08:12:47.634Z"
   },
   {
    "duration": 9,
    "start_time": "2022-04-19T08:12:47.647Z"
   },
   {
    "duration": 73,
    "start_time": "2022-04-19T08:12:47.659Z"
   },
   {
    "duration": 18,
    "start_time": "2022-04-19T08:12:47.735Z"
   },
   {
    "duration": 40,
    "start_time": "2022-04-19T08:12:47.755Z"
   },
   {
    "duration": 6,
    "start_time": "2022-04-19T08:12:47.798Z"
   },
   {
    "duration": 411,
    "start_time": "2022-04-19T08:12:47.807Z"
   },
   {
    "duration": 15,
    "start_time": "2022-04-19T08:12:48.221Z"
   },
   {
    "duration": 12,
    "start_time": "2022-04-19T08:12:48.239Z"
   },
   {
    "duration": 41,
    "start_time": "2022-04-19T08:12:48.254Z"
   },
   {
    "duration": 515,
    "start_time": "2022-04-19T08:12:48.298Z"
   },
   {
    "duration": 425,
    "start_time": "2022-04-19T08:12:48.815Z"
   },
   {
    "duration": 5,
    "start_time": "2022-04-19T08:12:49.248Z"
   },
   {
    "duration": 9,
    "start_time": "2022-04-19T08:12:49.255Z"
   },
   {
    "duration": 404,
    "start_time": "2022-04-19T08:12:49.266Z"
   },
   {
    "duration": 52,
    "start_time": "2022-04-21T06:23:40.544Z"
   },
   {
    "duration": 1510,
    "start_time": "2022-04-21T06:23:48.651Z"
   },
   {
    "duration": 69,
    "start_time": "2022-04-21T06:23:50.164Z"
   },
   {
    "duration": 13,
    "start_time": "2022-04-21T06:23:50.235Z"
   },
   {
    "duration": 7,
    "start_time": "2022-04-21T06:23:50.252Z"
   },
   {
    "duration": 17,
    "start_time": "2022-04-21T06:23:50.261Z"
   },
   {
    "duration": 12,
    "start_time": "2022-04-21T06:23:50.280Z"
   },
   {
    "duration": 7,
    "start_time": "2022-04-21T06:23:50.295Z"
   },
   {
    "duration": 1456,
    "start_time": "2022-04-21T06:23:50.304Z"
   },
   {
    "duration": 0,
    "start_time": "2022-04-21T06:23:51.765Z"
   },
   {
    "duration": 0,
    "start_time": "2022-04-21T06:23:51.767Z"
   },
   {
    "duration": 0,
    "start_time": "2022-04-21T06:23:51.768Z"
   },
   {
    "duration": 0,
    "start_time": "2022-04-21T06:23:51.770Z"
   },
   {
    "duration": 0,
    "start_time": "2022-04-21T06:23:51.771Z"
   },
   {
    "duration": 0,
    "start_time": "2022-04-21T06:23:51.772Z"
   },
   {
    "duration": 0,
    "start_time": "2022-04-21T06:23:51.773Z"
   },
   {
    "duration": 0,
    "start_time": "2022-04-21T06:23:51.774Z"
   },
   {
    "duration": 0,
    "start_time": "2022-04-21T06:23:51.776Z"
   },
   {
    "duration": 0,
    "start_time": "2022-04-21T06:23:51.777Z"
   },
   {
    "duration": 0,
    "start_time": "2022-04-21T06:23:51.778Z"
   },
   {
    "duration": 0,
    "start_time": "2022-04-21T06:23:51.779Z"
   },
   {
    "duration": 0,
    "start_time": "2022-04-21T06:23:51.781Z"
   },
   {
    "duration": 0,
    "start_time": "2022-04-21T06:23:51.782Z"
   },
   {
    "duration": 0,
    "start_time": "2022-04-21T06:23:51.782Z"
   },
   {
    "duration": 0,
    "start_time": "2022-04-21T06:23:51.783Z"
   },
   {
    "duration": 0,
    "start_time": "2022-04-21T06:23:51.784Z"
   },
   {
    "duration": 0,
    "start_time": "2022-04-21T06:23:51.785Z"
   },
   {
    "duration": 0,
    "start_time": "2022-04-21T06:23:51.786Z"
   },
   {
    "duration": 0,
    "start_time": "2022-04-21T06:23:51.787Z"
   },
   {
    "duration": 0,
    "start_time": "2022-04-21T06:23:51.789Z"
   },
   {
    "duration": 0,
    "start_time": "2022-04-21T06:23:51.790Z"
   },
   {
    "duration": 0,
    "start_time": "2022-04-21T06:23:51.791Z"
   },
   {
    "duration": 0,
    "start_time": "2022-04-21T06:23:51.792Z"
   },
   {
    "duration": 0,
    "start_time": "2022-04-21T06:23:51.793Z"
   },
   {
    "duration": 0,
    "start_time": "2022-04-21T06:23:51.794Z"
   },
   {
    "duration": 0,
    "start_time": "2022-04-21T06:23:51.795Z"
   },
   {
    "duration": 0,
    "start_time": "2022-04-21T06:23:51.796Z"
   },
   {
    "duration": 0,
    "start_time": "2022-04-21T06:23:51.797Z"
   },
   {
    "duration": 0,
    "start_time": "2022-04-21T06:23:51.798Z"
   },
   {
    "duration": 0,
    "start_time": "2022-04-21T06:23:51.799Z"
   },
   {
    "duration": 0,
    "start_time": "2022-04-21T06:23:51.800Z"
   },
   {
    "duration": 0,
    "start_time": "2022-04-21T06:23:51.834Z"
   },
   {
    "duration": 0,
    "start_time": "2022-04-21T06:23:51.836Z"
   },
   {
    "duration": 0,
    "start_time": "2022-04-21T06:23:51.837Z"
   },
   {
    "duration": 0,
    "start_time": "2022-04-21T06:23:51.839Z"
   },
   {
    "duration": 1,
    "start_time": "2022-04-21T06:23:51.840Z"
   },
   {
    "duration": 0,
    "start_time": "2022-04-21T06:23:51.842Z"
   },
   {
    "duration": 0,
    "start_time": "2022-04-21T06:23:51.843Z"
   },
   {
    "duration": 0,
    "start_time": "2022-04-21T06:23:51.845Z"
   },
   {
    "duration": 0,
    "start_time": "2022-04-21T06:23:51.846Z"
   },
   {
    "duration": 0,
    "start_time": "2022-04-21T06:23:51.848Z"
   },
   {
    "duration": 0,
    "start_time": "2022-04-21T06:23:51.849Z"
   },
   {
    "duration": 0,
    "start_time": "2022-04-21T06:23:51.851Z"
   },
   {
    "duration": 0,
    "start_time": "2022-04-21T06:23:51.852Z"
   },
   {
    "duration": 0,
    "start_time": "2022-04-21T06:23:51.853Z"
   },
   {
    "duration": 0,
    "start_time": "2022-04-21T06:23:51.855Z"
   },
   {
    "duration": 0,
    "start_time": "2022-04-21T06:23:51.856Z"
   },
   {
    "duration": 0,
    "start_time": "2022-04-21T06:23:51.858Z"
   },
   {
    "duration": 0,
    "start_time": "2022-04-21T06:23:51.859Z"
   },
   {
    "duration": 0,
    "start_time": "2022-04-21T06:23:51.861Z"
   },
   {
    "duration": 0,
    "start_time": "2022-04-21T06:23:51.862Z"
   },
   {
    "duration": 0,
    "start_time": "2022-04-21T06:23:51.864Z"
   },
   {
    "duration": 0,
    "start_time": "2022-04-21T06:23:51.865Z"
   },
   {
    "duration": 0,
    "start_time": "2022-04-21T06:23:51.866Z"
   },
   {
    "duration": 0,
    "start_time": "2022-04-21T06:23:51.867Z"
   },
   {
    "duration": 0,
    "start_time": "2022-04-21T06:23:51.869Z"
   },
   {
    "duration": 0,
    "start_time": "2022-04-21T06:23:51.870Z"
   },
   {
    "duration": 0,
    "start_time": "2022-04-21T06:23:51.935Z"
   },
   {
    "duration": 0,
    "start_time": "2022-04-21T06:23:51.936Z"
   },
   {
    "duration": 0,
    "start_time": "2022-04-21T06:23:51.937Z"
   },
   {
    "duration": 0,
    "start_time": "2022-04-21T06:23:51.939Z"
   },
   {
    "duration": 0,
    "start_time": "2022-04-21T06:23:51.940Z"
   },
   {
    "duration": 0,
    "start_time": "2022-04-21T06:23:51.941Z"
   },
   {
    "duration": 0,
    "start_time": "2022-04-21T06:23:51.942Z"
   },
   {
    "duration": 0,
    "start_time": "2022-04-21T06:23:51.943Z"
   },
   {
    "duration": 0,
    "start_time": "2022-04-21T06:23:51.944Z"
   },
   {
    "duration": 1,
    "start_time": "2022-04-21T06:23:51.944Z"
   },
   {
    "duration": 0,
    "start_time": "2022-04-21T06:23:51.945Z"
   },
   {
    "duration": 0,
    "start_time": "2022-04-21T06:23:51.946Z"
   },
   {
    "duration": 0,
    "start_time": "2022-04-21T06:23:51.947Z"
   },
   {
    "duration": 0,
    "start_time": "2022-04-21T06:23:51.948Z"
   },
   {
    "duration": 0,
    "start_time": "2022-04-21T06:23:51.950Z"
   },
   {
    "duration": 0,
    "start_time": "2022-04-21T06:23:51.951Z"
   },
   {
    "duration": 0,
    "start_time": "2022-04-21T06:23:51.952Z"
   },
   {
    "duration": 0,
    "start_time": "2022-04-21T06:23:51.953Z"
   },
   {
    "duration": 5,
    "start_time": "2022-04-21T06:49:47.558Z"
   },
   {
    "duration": 1212,
    "start_time": "2022-04-21T06:49:55.395Z"
   },
   {
    "duration": 69,
    "start_time": "2022-04-21T06:49:56.609Z"
   },
   {
    "duration": 12,
    "start_time": "2022-04-21T06:49:56.679Z"
   },
   {
    "duration": 8,
    "start_time": "2022-04-21T06:49:56.694Z"
   },
   {
    "duration": 20,
    "start_time": "2022-04-21T06:49:56.704Z"
   },
   {
    "duration": 23,
    "start_time": "2022-04-21T06:49:56.726Z"
   },
   {
    "duration": 11,
    "start_time": "2022-04-21T06:49:56.750Z"
   },
   {
    "duration": 12,
    "start_time": "2022-04-21T06:49:56.762Z"
   },
   {
    "duration": 17,
    "start_time": "2022-04-21T06:49:56.776Z"
   },
   {
    "duration": 8,
    "start_time": "2022-04-21T06:49:56.796Z"
   },
   {
    "duration": 10,
    "start_time": "2022-04-21T06:49:56.806Z"
   },
   {
    "duration": 26,
    "start_time": "2022-04-21T06:49:56.818Z"
   },
   {
    "duration": 9,
    "start_time": "2022-04-21T06:49:56.845Z"
   },
   {
    "duration": 14,
    "start_time": "2022-04-21T06:49:56.856Z"
   },
   {
    "duration": 19,
    "start_time": "2022-04-21T06:49:56.872Z"
   },
   {
    "duration": 14,
    "start_time": "2022-04-21T06:49:56.893Z"
   },
   {
    "duration": 25,
    "start_time": "2022-04-21T06:49:56.909Z"
   },
   {
    "duration": 21,
    "start_time": "2022-04-21T06:49:56.936Z"
   },
   {
    "duration": 22,
    "start_time": "2022-04-21T06:49:56.959Z"
   },
   {
    "duration": 15,
    "start_time": "2022-04-21T06:49:56.983Z"
   },
   {
    "duration": 11,
    "start_time": "2022-04-21T06:49:57.000Z"
   },
   {
    "duration": 18,
    "start_time": "2022-04-21T06:49:57.013Z"
   },
   {
    "duration": 177,
    "start_time": "2022-04-21T06:49:57.033Z"
   },
   {
    "duration": 10,
    "start_time": "2022-04-21T06:49:57.212Z"
   },
   {
    "duration": 143,
    "start_time": "2022-04-21T06:49:57.224Z"
   },
   {
    "duration": 12,
    "start_time": "2022-04-21T06:49:57.369Z"
   },
   {
    "duration": 12,
    "start_time": "2022-04-21T06:49:57.383Z"
   },
   {
    "duration": 22,
    "start_time": "2022-04-21T06:49:57.399Z"
   },
   {
    "duration": 11,
    "start_time": "2022-04-21T06:49:57.423Z"
   },
   {
    "duration": 330,
    "start_time": "2022-04-21T06:49:57.436Z"
   },
   {
    "duration": 243,
    "start_time": "2022-04-21T06:49:57.768Z"
   },
   {
    "duration": 7,
    "start_time": "2022-04-21T06:49:58.012Z"
   },
   {
    "duration": 361,
    "start_time": "2022-04-21T06:49:58.034Z"
   },
   {
    "duration": 3,
    "start_time": "2022-04-21T06:49:58.397Z"
   },
   {
    "duration": 10,
    "start_time": "2022-04-21T06:49:58.402Z"
   },
   {
    "duration": 246,
    "start_time": "2022-04-21T06:49:58.414Z"
   },
   {
    "duration": 9,
    "start_time": "2022-04-21T06:49:58.662Z"
   },
   {
    "duration": 242,
    "start_time": "2022-04-21T06:49:58.674Z"
   },
   {
    "duration": 22,
    "start_time": "2022-04-21T06:49:58.918Z"
   },
   {
    "duration": 158,
    "start_time": "2022-04-21T06:49:58.942Z"
   },
   {
    "duration": 176,
    "start_time": "2022-04-21T06:49:59.102Z"
   },
   {
    "duration": 4,
    "start_time": "2022-04-21T06:49:59.281Z"
   },
   {
    "duration": 13,
    "start_time": "2022-04-21T06:49:59.287Z"
   },
   {
    "duration": 187,
    "start_time": "2022-04-21T06:49:59.302Z"
   },
   {
    "duration": 6,
    "start_time": "2022-04-21T06:49:59.491Z"
   },
   {
    "duration": 153,
    "start_time": "2022-04-21T06:49:59.499Z"
   },
   {
    "duration": 8,
    "start_time": "2022-04-21T06:49:59.654Z"
   },
   {
    "duration": 10,
    "start_time": "2022-04-21T06:49:59.664Z"
   },
   {
    "duration": 75,
    "start_time": "2022-04-21T06:49:59.676Z"
   },
   {
    "duration": 10,
    "start_time": "2022-04-21T06:49:59.752Z"
   },
   {
    "duration": 13,
    "start_time": "2022-04-21T06:49:59.763Z"
   },
   {
    "duration": 73,
    "start_time": "2022-04-21T06:49:59.778Z"
   },
   {
    "duration": 8,
    "start_time": "2022-04-21T06:49:59.852Z"
   },
   {
    "duration": 12,
    "start_time": "2022-04-21T06:49:59.862Z"
   },
   {
    "duration": 90,
    "start_time": "2022-04-21T06:49:59.876Z"
   },
   {
    "duration": 7,
    "start_time": "2022-04-21T06:49:59.968Z"
   },
   {
    "duration": 11,
    "start_time": "2022-04-21T06:49:59.977Z"
   },
   {
    "duration": 27,
    "start_time": "2022-04-21T06:49:59.989Z"
   },
   {
    "duration": 11,
    "start_time": "2022-04-21T06:50:00.018Z"
   },
   {
    "duration": 140,
    "start_time": "2022-04-21T06:50:00.033Z"
   },
   {
    "duration": 6,
    "start_time": "2022-04-21T06:50:00.175Z"
   },
   {
    "duration": 12,
    "start_time": "2022-04-21T06:50:00.183Z"
   },
   {
    "duration": 12,
    "start_time": "2022-04-21T06:50:00.197Z"
   },
   {
    "duration": 11,
    "start_time": "2022-04-21T06:50:00.210Z"
   },
   {
    "duration": 27,
    "start_time": "2022-04-21T06:50:00.223Z"
   },
   {
    "duration": 10,
    "start_time": "2022-04-21T06:50:00.251Z"
   },
   {
    "duration": 7,
    "start_time": "2022-04-21T06:50:00.263Z"
   },
   {
    "duration": 7,
    "start_time": "2022-04-21T06:50:00.271Z"
   },
   {
    "duration": 16,
    "start_time": "2022-04-21T06:50:00.280Z"
   },
   {
    "duration": 9,
    "start_time": "2022-04-21T06:50:00.298Z"
   },
   {
    "duration": 19,
    "start_time": "2022-04-21T06:50:00.309Z"
   },
   {
    "duration": 34,
    "start_time": "2022-04-21T06:50:00.330Z"
   },
   {
    "duration": 10,
    "start_time": "2022-04-21T06:50:00.366Z"
   },
   {
    "duration": 27,
    "start_time": "2022-04-21T06:50:00.377Z"
   },
   {
    "duration": 7,
    "start_time": "2022-04-21T06:50:00.406Z"
   },
   {
    "duration": 172,
    "start_time": "2022-04-21T06:50:00.415Z"
   },
   {
    "duration": 9,
    "start_time": "2022-04-21T06:50:00.589Z"
   },
   {
    "duration": 12,
    "start_time": "2022-04-21T06:50:00.600Z"
   },
   {
    "duration": 22,
    "start_time": "2022-04-21T06:50:00.614Z"
   },
   {
    "duration": 304,
    "start_time": "2022-04-21T06:50:00.638Z"
   },
   {
    "duration": 409,
    "start_time": "2022-04-21T06:50:00.943Z"
   },
   {
    "duration": 5,
    "start_time": "2022-04-21T06:50:01.358Z"
   },
   {
    "duration": 20,
    "start_time": "2022-04-21T06:50:01.364Z"
   },
   {
    "duration": 562,
    "start_time": "2022-04-21T06:50:01.386Z"
   },
   {
    "duration": 2169,
    "start_time": "2022-04-21T06:52:01.916Z"
   },
   {
    "duration": 2974,
    "start_time": "2022-04-21T06:52:04.087Z"
   },
   {
    "duration": 12,
    "start_time": "2022-04-21T06:52:07.063Z"
   },
   {
    "duration": 5,
    "start_time": "2022-04-21T06:52:07.078Z"
   },
   {
    "duration": 15,
    "start_time": "2022-04-21T06:52:07.085Z"
   },
   {
    "duration": 10,
    "start_time": "2022-04-21T06:52:07.102Z"
   },
   {
    "duration": 6,
    "start_time": "2022-04-21T06:52:07.114Z"
   },
   {
    "duration": 8,
    "start_time": "2022-04-21T06:52:07.122Z"
   },
   {
    "duration": 11,
    "start_time": "2022-04-21T06:52:07.132Z"
   },
   {
    "duration": 7,
    "start_time": "2022-04-21T06:52:07.145Z"
   },
   {
    "duration": 9,
    "start_time": "2022-04-21T06:52:07.154Z"
   },
   {
    "duration": 12,
    "start_time": "2022-04-21T06:52:07.165Z"
   },
   {
    "duration": 6,
    "start_time": "2022-04-21T06:52:07.178Z"
   },
   {
    "duration": 10,
    "start_time": "2022-04-21T06:52:07.185Z"
   },
   {
    "duration": 36,
    "start_time": "2022-04-21T06:52:07.196Z"
   },
   {
    "duration": 8,
    "start_time": "2022-04-21T06:52:07.235Z"
   },
   {
    "duration": 15,
    "start_time": "2022-04-21T06:52:07.245Z"
   },
   {
    "duration": 12,
    "start_time": "2022-04-21T06:52:07.262Z"
   },
   {
    "duration": 12,
    "start_time": "2022-04-21T06:52:07.275Z"
   },
   {
    "duration": 5,
    "start_time": "2022-04-21T06:52:07.289Z"
   },
   {
    "duration": 38,
    "start_time": "2022-04-21T06:52:07.296Z"
   },
   {
    "duration": 9,
    "start_time": "2022-04-21T06:52:07.336Z"
   },
   {
    "duration": 174,
    "start_time": "2022-04-21T06:52:07.346Z"
   },
   {
    "duration": 13,
    "start_time": "2022-04-21T06:52:07.522Z"
   },
   {
    "duration": 131,
    "start_time": "2022-04-21T06:52:07.536Z"
   },
   {
    "duration": 8,
    "start_time": "2022-04-21T06:52:07.668Z"
   },
   {
    "duration": 9,
    "start_time": "2022-04-21T06:52:07.678Z"
   },
   {
    "duration": 12,
    "start_time": "2022-04-21T06:52:07.692Z"
   },
   {
    "duration": 31,
    "start_time": "2022-04-21T06:52:07.706Z"
   },
   {
    "duration": 314,
    "start_time": "2022-04-21T06:52:07.739Z"
   },
   {
    "duration": 238,
    "start_time": "2022-04-21T06:52:08.055Z"
   },
   {
    "duration": 7,
    "start_time": "2022-04-21T06:52:08.295Z"
   },
   {
    "duration": 364,
    "start_time": "2022-04-21T06:52:08.303Z"
   },
   {
    "duration": 4,
    "start_time": "2022-04-21T06:52:08.669Z"
   },
   {
    "duration": 7,
    "start_time": "2022-04-21T06:52:08.675Z"
   },
   {
    "duration": 240,
    "start_time": "2022-04-21T06:52:08.683Z"
   },
   {
    "duration": 13,
    "start_time": "2022-04-21T06:52:08.925Z"
   },
   {
    "duration": 227,
    "start_time": "2022-04-21T06:52:08.940Z"
   },
   {
    "duration": 11,
    "start_time": "2022-04-21T06:52:09.169Z"
   },
   {
    "duration": 168,
    "start_time": "2022-04-21T06:52:09.182Z"
   },
   {
    "duration": 175,
    "start_time": "2022-04-21T06:52:09.352Z"
   },
   {
    "duration": 6,
    "start_time": "2022-04-21T06:52:09.529Z"
   },
   {
    "duration": 13,
    "start_time": "2022-04-21T06:52:09.538Z"
   },
   {
    "duration": 183,
    "start_time": "2022-04-21T06:52:09.553Z"
   },
   {
    "duration": 5,
    "start_time": "2022-04-21T06:52:09.738Z"
   },
   {
    "duration": 145,
    "start_time": "2022-04-21T06:52:09.745Z"
   },
   {
    "duration": 10,
    "start_time": "2022-04-21T06:52:09.892Z"
   },
   {
    "duration": 10,
    "start_time": "2022-04-21T06:52:09.904Z"
   },
   {
    "duration": 62,
    "start_time": "2022-04-21T06:52:09.916Z"
   },
   {
    "duration": 14,
    "start_time": "2022-04-21T06:52:09.980Z"
   },
   {
    "duration": 13,
    "start_time": "2022-04-21T06:52:09.997Z"
   },
   {
    "duration": 75,
    "start_time": "2022-04-21T06:52:10.013Z"
   },
   {
    "duration": 9,
    "start_time": "2022-04-21T06:52:10.090Z"
   },
   {
    "duration": 9,
    "start_time": "2022-04-21T06:52:10.102Z"
   },
   {
    "duration": 61,
    "start_time": "2022-04-21T06:52:10.133Z"
   },
   {
    "duration": 8,
    "start_time": "2022-04-21T06:52:10.196Z"
   },
   {
    "duration": 29,
    "start_time": "2022-04-21T06:52:10.206Z"
   },
   {
    "duration": 25,
    "start_time": "2022-04-21T06:52:10.237Z"
   },
   {
    "duration": 12,
    "start_time": "2022-04-21T06:52:10.264Z"
   },
   {
    "duration": 159,
    "start_time": "2022-04-21T06:52:10.277Z"
   },
   {
    "duration": 8,
    "start_time": "2022-04-21T06:52:10.437Z"
   },
   {
    "duration": 10,
    "start_time": "2022-04-21T06:52:10.446Z"
   },
   {
    "duration": 7,
    "start_time": "2022-04-21T06:52:10.458Z"
   },
   {
    "duration": 6,
    "start_time": "2022-04-21T06:52:10.467Z"
   },
   {
    "duration": 30,
    "start_time": "2022-04-21T06:52:10.475Z"
   },
   {
    "duration": 32,
    "start_time": "2022-04-21T06:52:10.506Z"
   },
   {
    "duration": 7,
    "start_time": "2022-04-21T06:52:10.540Z"
   },
   {
    "duration": 9,
    "start_time": "2022-04-21T06:52:10.548Z"
   },
   {
    "duration": 10,
    "start_time": "2022-04-21T06:52:10.559Z"
   },
   {
    "duration": 12,
    "start_time": "2022-04-21T06:52:10.571Z"
   },
   {
    "duration": 11,
    "start_time": "2022-04-21T06:52:10.585Z"
   },
   {
    "duration": 39,
    "start_time": "2022-04-21T06:52:10.598Z"
   },
   {
    "duration": 11,
    "start_time": "2022-04-21T06:52:10.638Z"
   },
   {
    "duration": 10,
    "start_time": "2022-04-21T06:52:10.651Z"
   },
   {
    "duration": 12,
    "start_time": "2022-04-21T06:52:10.663Z"
   },
   {
    "duration": 189,
    "start_time": "2022-04-21T06:52:10.677Z"
   },
   {
    "duration": 9,
    "start_time": "2022-04-21T06:52:10.867Z"
   },
   {
    "duration": 10,
    "start_time": "2022-04-21T06:52:10.877Z"
   },
   {
    "duration": 9,
    "start_time": "2022-04-21T06:52:10.889Z"
   },
   {
    "duration": 251,
    "start_time": "2022-04-21T06:52:10.900Z"
   },
   {
    "duration": 247,
    "start_time": "2022-04-21T06:52:11.153Z"
   },
   {
    "duration": 4,
    "start_time": "2022-04-21T06:52:11.406Z"
   },
   {
    "duration": 7,
    "start_time": "2022-04-21T06:52:11.411Z"
   },
   {
    "duration": 245,
    "start_time": "2022-04-21T06:52:11.432Z"
   },
   {
    "duration": 75,
    "start_time": "2022-04-22T07:04:37.711Z"
   },
   {
    "duration": 1787,
    "start_time": "2022-04-22T07:04:43.668Z"
   },
   {
    "duration": 53,
    "start_time": "2022-04-22T07:04:45.458Z"
   },
   {
    "duration": 16,
    "start_time": "2022-04-22T07:04:45.513Z"
   },
   {
    "duration": 6,
    "start_time": "2022-04-22T07:04:45.532Z"
   },
   {
    "duration": 24,
    "start_time": "2022-04-22T07:04:45.540Z"
   },
   {
    "duration": 28,
    "start_time": "2022-04-22T07:04:45.566Z"
   },
   {
    "duration": 6,
    "start_time": "2022-04-22T07:04:45.598Z"
   },
   {
    "duration": 14,
    "start_time": "2022-04-22T07:04:45.606Z"
   },
   {
    "duration": 12,
    "start_time": "2022-04-22T07:04:45.623Z"
   },
   {
    "duration": 9,
    "start_time": "2022-04-22T07:04:45.640Z"
   },
   {
    "duration": 16,
    "start_time": "2022-04-22T07:04:45.682Z"
   },
   {
    "duration": 17,
    "start_time": "2022-04-22T07:04:45.700Z"
   },
   {
    "duration": 11,
    "start_time": "2022-04-22T07:04:45.720Z"
   },
   {
    "duration": 14,
    "start_time": "2022-04-22T07:04:45.734Z"
   },
   {
    "duration": 41,
    "start_time": "2022-04-22T07:04:45.751Z"
   },
   {
    "duration": 17,
    "start_time": "2022-04-22T07:04:45.794Z"
   },
   {
    "duration": 1829,
    "start_time": "2022-04-22T07:04:45.814Z"
   },
   {
    "duration": 0,
    "start_time": "2022-04-22T07:04:47.648Z"
   },
   {
    "duration": 0,
    "start_time": "2022-04-22T07:04:47.650Z"
   },
   {
    "duration": 0,
    "start_time": "2022-04-22T07:04:47.652Z"
   },
   {
    "duration": 0,
    "start_time": "2022-04-22T07:04:47.654Z"
   },
   {
    "duration": 0,
    "start_time": "2022-04-22T07:04:47.656Z"
   },
   {
    "duration": 0,
    "start_time": "2022-04-22T07:04:47.657Z"
   },
   {
    "duration": 0,
    "start_time": "2022-04-22T07:04:47.659Z"
   },
   {
    "duration": 0,
    "start_time": "2022-04-22T07:04:47.661Z"
   },
   {
    "duration": 1,
    "start_time": "2022-04-22T07:04:47.662Z"
   },
   {
    "duration": 0,
    "start_time": "2022-04-22T07:04:47.664Z"
   },
   {
    "duration": 0,
    "start_time": "2022-04-22T07:04:47.666Z"
   },
   {
    "duration": 0,
    "start_time": "2022-04-22T07:04:47.668Z"
   },
   {
    "duration": 0,
    "start_time": "2022-04-22T07:04:47.670Z"
   },
   {
    "duration": 0,
    "start_time": "2022-04-22T07:04:47.671Z"
   },
   {
    "duration": 0,
    "start_time": "2022-04-22T07:04:47.673Z"
   },
   {
    "duration": 0,
    "start_time": "2022-04-22T07:04:47.674Z"
   },
   {
    "duration": 0,
    "start_time": "2022-04-22T07:04:47.675Z"
   },
   {
    "duration": 0,
    "start_time": "2022-04-22T07:04:47.677Z"
   },
   {
    "duration": 0,
    "start_time": "2022-04-22T07:04:47.679Z"
   },
   {
    "duration": 0,
    "start_time": "2022-04-22T07:04:47.680Z"
   },
   {
    "duration": 0,
    "start_time": "2022-04-22T07:04:47.681Z"
   },
   {
    "duration": 0,
    "start_time": "2022-04-22T07:04:47.682Z"
   },
   {
    "duration": 1,
    "start_time": "2022-04-22T07:04:47.684Z"
   },
   {
    "duration": 0,
    "start_time": "2022-04-22T07:04:47.686Z"
   },
   {
    "duration": 0,
    "start_time": "2022-04-22T07:04:47.687Z"
   },
   {
    "duration": 1,
    "start_time": "2022-04-22T07:04:47.692Z"
   },
   {
    "duration": 0,
    "start_time": "2022-04-22T07:04:47.697Z"
   },
   {
    "duration": 0,
    "start_time": "2022-04-22T07:04:47.702Z"
   },
   {
    "duration": 0,
    "start_time": "2022-04-22T07:04:47.703Z"
   },
   {
    "duration": 0,
    "start_time": "2022-04-22T07:04:47.705Z"
   },
   {
    "duration": 0,
    "start_time": "2022-04-22T07:04:47.706Z"
   },
   {
    "duration": 0,
    "start_time": "2022-04-22T07:04:47.707Z"
   },
   {
    "duration": 0,
    "start_time": "2022-04-22T07:04:47.709Z"
   },
   {
    "duration": 0,
    "start_time": "2022-04-22T07:04:47.710Z"
   },
   {
    "duration": 0,
    "start_time": "2022-04-22T07:04:47.711Z"
   },
   {
    "duration": 0,
    "start_time": "2022-04-22T07:04:47.712Z"
   },
   {
    "duration": 0,
    "start_time": "2022-04-22T07:04:47.713Z"
   },
   {
    "duration": 0,
    "start_time": "2022-04-22T07:04:47.714Z"
   },
   {
    "duration": 0,
    "start_time": "2022-04-22T07:04:47.715Z"
   },
   {
    "duration": 0,
    "start_time": "2022-04-22T07:04:47.717Z"
   },
   {
    "duration": 0,
    "start_time": "2022-04-22T07:04:47.718Z"
   },
   {
    "duration": 0,
    "start_time": "2022-04-22T07:04:47.719Z"
   },
   {
    "duration": 0,
    "start_time": "2022-04-22T07:04:47.720Z"
   },
   {
    "duration": 0,
    "start_time": "2022-04-22T07:04:47.722Z"
   },
   {
    "duration": 0,
    "start_time": "2022-04-22T07:04:47.723Z"
   },
   {
    "duration": 0,
    "start_time": "2022-04-22T07:04:47.724Z"
   },
   {
    "duration": 0,
    "start_time": "2022-04-22T07:04:47.725Z"
   },
   {
    "duration": 0,
    "start_time": "2022-04-22T07:04:47.727Z"
   },
   {
    "duration": 0,
    "start_time": "2022-04-22T07:04:47.728Z"
   },
   {
    "duration": 0,
    "start_time": "2022-04-22T07:04:47.730Z"
   },
   {
    "duration": 0,
    "start_time": "2022-04-22T07:04:47.782Z"
   },
   {
    "duration": 0,
    "start_time": "2022-04-22T07:04:47.783Z"
   },
   {
    "duration": 0,
    "start_time": "2022-04-22T07:04:47.784Z"
   },
   {
    "duration": 0,
    "start_time": "2022-04-22T07:04:47.791Z"
   },
   {
    "duration": 0,
    "start_time": "2022-04-22T07:04:47.793Z"
   },
   {
    "duration": 0,
    "start_time": "2022-04-22T07:04:47.794Z"
   },
   {
    "duration": 0,
    "start_time": "2022-04-22T07:04:47.795Z"
   },
   {
    "duration": 0,
    "start_time": "2022-04-22T07:04:47.797Z"
   },
   {
    "duration": 0,
    "start_time": "2022-04-22T07:04:47.798Z"
   },
   {
    "duration": 0,
    "start_time": "2022-04-22T07:04:47.799Z"
   },
   {
    "duration": 0,
    "start_time": "2022-04-22T07:04:47.800Z"
   },
   {
    "duration": 0,
    "start_time": "2022-04-22T07:04:47.802Z"
   },
   {
    "duration": 0,
    "start_time": "2022-04-22T07:04:47.804Z"
   },
   {
    "duration": 0,
    "start_time": "2022-04-22T07:04:47.805Z"
   },
   {
    "duration": 1,
    "start_time": "2022-04-22T07:04:47.806Z"
   },
   {
    "duration": 0,
    "start_time": "2022-04-22T07:04:47.808Z"
   },
   {
    "duration": 0,
    "start_time": "2022-04-22T07:04:47.810Z"
   },
   {
    "duration": 0,
    "start_time": "2022-04-22T07:04:47.811Z"
   },
   {
    "duration": 6,
    "start_time": "2022-04-22T07:13:00.538Z"
   },
   {
    "duration": 8,
    "start_time": "2022-04-22T07:13:03.712Z"
   },
   {
    "duration": 12,
    "start_time": "2022-04-22T07:13:28.620Z"
   },
   {
    "duration": 14,
    "start_time": "2022-04-22T07:13:38.738Z"
   },
   {
    "duration": 8,
    "start_time": "2022-04-22T07:13:50.307Z"
   },
   {
    "duration": 19,
    "start_time": "2022-04-22T07:13:53.655Z"
   },
   {
    "duration": 6,
    "start_time": "2022-04-22T07:14:36.051Z"
   },
   {
    "duration": 5,
    "start_time": "2022-04-22T07:14:49.152Z"
   },
   {
    "duration": 7,
    "start_time": "2022-04-22T07:15:08.548Z"
   },
   {
    "duration": 12,
    "start_time": "2022-04-22T07:15:24.428Z"
   },
   {
    "duration": 7,
    "start_time": "2022-04-22T07:16:56.721Z"
   },
   {
    "duration": 5,
    "start_time": "2022-04-22T07:17:16.556Z"
   },
   {
    "duration": 7,
    "start_time": "2022-04-22T07:17:20.292Z"
   },
   {
    "duration": 1764,
    "start_time": "2022-04-22T07:17:45.540Z"
   },
   {
    "duration": 76,
    "start_time": "2022-04-22T07:17:47.306Z"
   },
   {
    "duration": 21,
    "start_time": "2022-04-22T07:17:47.385Z"
   },
   {
    "duration": 4,
    "start_time": "2022-04-22T07:17:47.409Z"
   },
   {
    "duration": 75,
    "start_time": "2022-04-22T07:17:47.415Z"
   },
   {
    "duration": 16,
    "start_time": "2022-04-22T07:17:47.494Z"
   },
   {
    "duration": 14,
    "start_time": "2022-04-22T07:17:47.512Z"
   },
   {
    "duration": 57,
    "start_time": "2022-04-22T07:17:47.529Z"
   },
   {
    "duration": 22,
    "start_time": "2022-04-22T07:17:47.591Z"
   },
   {
    "duration": 12,
    "start_time": "2022-04-22T07:17:47.617Z"
   },
   {
    "duration": 58,
    "start_time": "2022-04-22T07:17:47.632Z"
   },
   {
    "duration": 34,
    "start_time": "2022-04-22T07:17:47.692Z"
   },
   {
    "duration": 59,
    "start_time": "2022-04-22T07:17:47.729Z"
   },
   {
    "duration": 21,
    "start_time": "2022-04-22T07:17:47.795Z"
   },
   {
    "duration": 10,
    "start_time": "2022-04-22T07:17:47.819Z"
   },
   {
    "duration": 67,
    "start_time": "2022-04-22T07:17:47.831Z"
   },
   {
    "duration": 14,
    "start_time": "2022-04-22T07:17:47.901Z"
   },
   {
    "duration": 13,
    "start_time": "2022-04-22T07:17:47.917Z"
   },
   {
    "duration": 70,
    "start_time": "2022-04-22T07:17:47.932Z"
   },
   {
    "duration": 5,
    "start_time": "2022-04-22T07:17:48.005Z"
   },
   {
    "duration": 11,
    "start_time": "2022-04-22T07:17:48.012Z"
   },
   {
    "duration": 81,
    "start_time": "2022-04-22T07:17:48.025Z"
   },
   {
    "duration": 19,
    "start_time": "2022-04-22T07:17:48.108Z"
   },
   {
    "duration": 69,
    "start_time": "2022-04-22T07:17:48.129Z"
   },
   {
    "duration": 10,
    "start_time": "2022-04-22T07:17:48.203Z"
   },
   {
    "duration": 13,
    "start_time": "2022-04-22T07:17:48.215Z"
   },
   {
    "duration": 63,
    "start_time": "2022-04-22T07:17:48.230Z"
   },
   {
    "duration": 620,
    "start_time": "2022-04-22T07:17:48.300Z"
   },
   {
    "duration": 67,
    "start_time": "2022-04-22T07:17:48.922Z"
   },
   {
    "duration": 417,
    "start_time": "2022-04-22T07:17:48.994Z"
   },
   {
    "duration": 10,
    "start_time": "2022-04-22T07:17:49.414Z"
   },
   {
    "duration": 12,
    "start_time": "2022-04-22T07:17:49.482Z"
   },
   {
    "duration": 20,
    "start_time": "2022-04-22T07:17:49.496Z"
   },
   {
    "duration": 10,
    "start_time": "2022-04-22T07:17:49.519Z"
   },
   {
    "duration": 830,
    "start_time": "2022-04-22T07:17:49.532Z"
   },
   {
    "duration": 378,
    "start_time": "2022-04-22T07:17:50.365Z"
   },
   {
    "duration": 8,
    "start_time": "2022-04-22T07:17:50.745Z"
   },
   {
    "duration": 484,
    "start_time": "2022-04-22T07:17:50.756Z"
   },
   {
    "duration": 6,
    "start_time": "2022-04-22T07:17:51.242Z"
   },
   {
    "duration": 24,
    "start_time": "2022-04-22T07:17:51.250Z"
   },
   {
    "duration": 379,
    "start_time": "2022-04-22T07:17:51.276Z"
   },
   {
    "duration": 35,
    "start_time": "2022-04-22T07:17:51.658Z"
   },
   {
    "duration": 362,
    "start_time": "2022-04-22T07:17:51.696Z"
   },
   {
    "duration": 29,
    "start_time": "2022-04-22T07:17:52.060Z"
   },
   {
    "duration": 244,
    "start_time": "2022-04-22T07:17:52.091Z"
   },
   {
    "duration": 263,
    "start_time": "2022-04-22T07:17:52.337Z"
   },
   {
    "duration": 7,
    "start_time": "2022-04-22T07:17:52.602Z"
   },
   {
    "duration": 21,
    "start_time": "2022-04-22T07:17:52.612Z"
   },
   {
    "duration": 283,
    "start_time": "2022-04-22T07:17:52.636Z"
   },
   {
    "duration": 6,
    "start_time": "2022-04-22T07:17:52.921Z"
   },
   {
    "duration": 177,
    "start_time": "2022-04-22T07:17:52.928Z"
   },
   {
    "duration": 21,
    "start_time": "2022-04-22T07:17:53.107Z"
   },
   {
    "duration": 14,
    "start_time": "2022-04-22T07:17:53.130Z"
   },
   {
    "duration": 89,
    "start_time": "2022-04-22T07:17:53.146Z"
   },
   {
    "duration": 17,
    "start_time": "2022-04-22T07:17:53.237Z"
   },
   {
    "duration": 28,
    "start_time": "2022-04-22T07:17:53.256Z"
   },
   {
    "duration": 121,
    "start_time": "2022-04-22T07:17:53.286Z"
   },
   {
    "duration": 11,
    "start_time": "2022-04-22T07:17:53.409Z"
   },
   {
    "duration": 14,
    "start_time": "2022-04-22T07:17:53.422Z"
   },
   {
    "duration": 118,
    "start_time": "2022-04-22T07:17:53.437Z"
   },
   {
    "duration": 10,
    "start_time": "2022-04-22T07:17:53.557Z"
   },
   {
    "duration": 26,
    "start_time": "2022-04-22T07:17:53.569Z"
   },
   {
    "duration": 38,
    "start_time": "2022-04-22T07:17:53.598Z"
   },
   {
    "duration": 15,
    "start_time": "2022-04-22T07:17:53.638Z"
   },
   {
    "duration": 329,
    "start_time": "2022-04-22T07:17:53.655Z"
   },
   {
    "duration": 16,
    "start_time": "2022-04-22T07:17:53.987Z"
   },
   {
    "duration": 16,
    "start_time": "2022-04-22T07:17:54.005Z"
   },
   {
    "duration": 12,
    "start_time": "2022-04-22T07:17:54.023Z"
   },
   {
    "duration": 19,
    "start_time": "2022-04-22T07:17:54.037Z"
   },
   {
    "duration": 48,
    "start_time": "2022-04-22T07:17:54.058Z"
   },
   {
    "duration": 14,
    "start_time": "2022-04-22T07:17:54.108Z"
   },
   {
    "duration": 15,
    "start_time": "2022-04-22T07:17:54.124Z"
   },
   {
    "duration": 25,
    "start_time": "2022-04-22T07:17:54.141Z"
   },
   {
    "duration": 23,
    "start_time": "2022-04-22T07:17:54.168Z"
   },
   {
    "duration": 28,
    "start_time": "2022-04-22T07:17:54.193Z"
   },
   {
    "duration": 17,
    "start_time": "2022-04-22T07:17:54.224Z"
   },
   {
    "duration": 51,
    "start_time": "2022-04-22T07:17:54.243Z"
   },
   {
    "duration": 13,
    "start_time": "2022-04-22T07:17:54.296Z"
   },
   {
    "duration": 25,
    "start_time": "2022-04-22T07:17:54.311Z"
   },
   {
    "duration": 15,
    "start_time": "2022-04-22T07:17:54.338Z"
   },
   {
    "duration": 291,
    "start_time": "2022-04-22T07:17:54.355Z"
   },
   {
    "duration": 12,
    "start_time": "2022-04-22T07:17:54.655Z"
   },
   {
    "duration": 28,
    "start_time": "2022-04-22T07:17:54.669Z"
   },
   {
    "duration": 28,
    "start_time": "2022-04-22T07:17:54.699Z"
   },
   {
    "duration": 404,
    "start_time": "2022-04-22T07:17:54.730Z"
   },
   {
    "duration": 387,
    "start_time": "2022-04-22T07:17:55.136Z"
   },
   {
    "duration": 5,
    "start_time": "2022-04-22T07:17:55.525Z"
   },
   {
    "duration": 29,
    "start_time": "2022-04-22T07:17:55.532Z"
   },
   {
    "duration": 370,
    "start_time": "2022-04-22T07:17:55.564Z"
   },
   {
    "duration": 7,
    "start_time": "2022-04-22T07:19:04.929Z"
   },
   {
    "duration": 6,
    "start_time": "2022-04-22T07:20:19.817Z"
   },
   {
    "duration": 8,
    "start_time": "2022-04-22T07:20:32.264Z"
   },
   {
    "duration": 7,
    "start_time": "2022-04-22T07:20:39.041Z"
   },
   {
    "duration": 6,
    "start_time": "2022-04-22T07:20:49.951Z"
   },
   {
    "duration": 7,
    "start_time": "2022-04-22T07:20:53.774Z"
   },
   {
    "duration": 306,
    "start_time": "2022-04-22T07:51:04.959Z"
   },
   {
    "duration": 249,
    "start_time": "2022-04-22T07:51:13.659Z"
   },
   {
    "duration": 6,
    "start_time": "2022-04-22T07:51:57.025Z"
   },
   {
    "duration": 249,
    "start_time": "2022-04-22T07:52:16.831Z"
   },
   {
    "duration": 255,
    "start_time": "2022-04-22T07:52:18.603Z"
   },
   {
    "duration": 251,
    "start_time": "2022-04-22T07:52:22.733Z"
   },
   {
    "duration": 987,
    "start_time": "2022-04-22T07:52:34.267Z"
   },
   {
    "duration": 391,
    "start_time": "2022-04-22T07:52:39.028Z"
   },
   {
    "duration": 262,
    "start_time": "2022-04-22T07:53:17.688Z"
   },
   {
    "duration": 353,
    "start_time": "2022-04-22T07:54:18.659Z"
   },
   {
    "duration": 262,
    "start_time": "2022-04-22T07:54:32.111Z"
   },
   {
    "duration": 246,
    "start_time": "2022-04-22T07:54:55.009Z"
   },
   {
    "duration": 247,
    "start_time": "2022-04-22T07:55:06.259Z"
   },
   {
    "duration": 251,
    "start_time": "2022-04-22T07:55:09.216Z"
   },
   {
    "duration": 227,
    "start_time": "2022-04-22T07:55:47.720Z"
   },
   {
    "duration": 247,
    "start_time": "2022-04-22T07:55:51.831Z"
   },
   {
    "duration": 250,
    "start_time": "2022-04-22T07:56:02.203Z"
   },
   {
    "duration": 421,
    "start_time": "2022-04-22T07:56:17.844Z"
   },
   {
    "duration": 244,
    "start_time": "2022-04-22T07:56:32.132Z"
   },
   {
    "duration": 224,
    "start_time": "2022-04-22T07:56:51.552Z"
   },
   {
    "duration": 301,
    "start_time": "2022-04-22T07:57:00.001Z"
   },
   {
    "duration": 232,
    "start_time": "2022-04-22T07:57:27.624Z"
   },
   {
    "duration": 240,
    "start_time": "2022-04-22T07:57:44.252Z"
   },
   {
    "duration": 237,
    "start_time": "2022-04-22T07:57:49.192Z"
   },
   {
    "duration": 240,
    "start_time": "2022-04-22T07:58:45.121Z"
   }
  ],
  "kernelspec": {
   "display_name": "Python 3 (ipykernel)",
   "language": "python",
   "name": "python3"
  },
  "language_info": {
   "codemirror_mode": {
    "name": "ipython",
    "version": 3
   },
   "file_extension": ".py",
   "mimetype": "text/x-python",
   "name": "python",
   "nbconvert_exporter": "python",
   "pygments_lexer": "ipython3",
   "version": "3.9.5"
  },
  "toc": {
   "base_numbering": 1,
   "nav_menu": {},
   "number_sections": true,
   "sideBar": true,
   "skip_h1_title": true,
   "title_cell": "Table of Contents",
   "title_sidebar": "Contents",
   "toc_cell": false,
   "toc_position": {
    "height": "calc(100% - 180px)",
    "left": "10px",
    "top": "150px",
    "width": "276.594px"
   },
   "toc_section_display": true,
   "toc_window_display": true
  }
 },
 "nbformat": 4,
 "nbformat_minor": 2
}
